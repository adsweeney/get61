{
 "cells": [
  {
   "cell_type": "code",
   "execution_count": 101,
   "metadata": {},
   "outputs": [],
   "source": [
    "from bs4 import BeautifulSoup\n",
    "import requests\n",
    "import time, os\n",
    "import re\n",
    "import urllib\n",
    "import json\n",
    "from selenium import webdriver\n",
    "from selenium.webdriver.common.keys import Keys\n",
    "import pandas as pd\n",
    "from datetime import datetime\n",
    "import numpy as np"
   ]
  },
  {
   "cell_type": "code",
   "execution_count": 102,
   "metadata": {},
   "outputs": [],
   "source": [
    "chromedriver= '/Applications/chromedriver'\n",
    "os.environ['webdriver.chrom.driver'] = chromedriver\n",
    "#site = 'https://get61.com/leaderboard?lifetime=true&sortBy=lifetime_score'\n",
    "sites = {'daily': 'https://get61.com/leaderboard', 'lifetime': 'https://get61.com/leaderboard?lifetime=true&sortBy=lifetime_score'}\n",
    "page = requests.get(sites['lifetime']).text\n",
    "soup = BeautifulSoup(page, 'html5lib')"
   ]
  },
  {
   "cell_type": "code",
   "execution_count": 103,
   "metadata": {},
   "outputs": [],
   "source": [
    "userlist = {'Ben Statz' : 'Casetta Bloody Mary', 'Ryan Kelly': 'RKD', 'Gena Rieger-Olson': 'The L is MSLGL',\n",
    "           'Duncan Sweeney': 'Duncan', 'Jacob Hanke': 'jacobhanke12', 'Edward Mckenna': 'Dr Brad Peck', 'Thomas Gering': 'KingCrab',\n",
    "           'Andrew Wells': '3SheepsToTheWind', 'Ticho': 'Andrew Ticho', 'Brett Falkowski': 'Falko',\n",
    "           'Sam Reinertson': 'Riding Lawnmauer', 'Nate Bartz': 'Moonblatz', 'Bret Olson': 'Bert',\n",
    "           'Dan Brunner': 'DPB', 'Srdjan Gajic': 'Provie', 'Jason': 'jturba', 'Robin': 'rjbjjohn', \n",
    "           'Foxy': 'FoxyMeadows', 'Kim Cee': 'Kim Cee', 'paul': 'paulv1958', 'scooter': 'scooter', \n",
    "           'eric': 'Eric Spielman'}"
   ]
  },
  {
   "cell_type": "code",
   "execution_count": 104,
   "metadata": {},
   "outputs": [],
   "source": [
    "# driver = webdriver.Chrome(chromedriver)\n",
    "# driver.get(site)\n",
    "# soupy = BeautifulSoup(driver.page_source, 'html.parser')"
   ]
  },
  {
   "cell_type": "code",
   "execution_count": 105,
   "metadata": {},
   "outputs": [],
   "source": [
    "playlise = re.compile('var names')\n",
    "players = soup.find(text=playlise)\n",
    "#print(players)"
   ]
  },
  {
   "cell_type": "code",
   "execution_count": 106,
   "metadata": {},
   "outputs": [],
   "source": [
    "a = players.split('\"')"
   ]
  },
  {
   "cell_type": "code",
   "execution_count": 115,
   "metadata": {},
   "outputs": [
    {
     "output_type": "execute_result",
     "data": {
      "text/plain": "ok|10222115119971300,auth0|59b572b59e523d20c89a7517,facebook|110918717205481,facebook|927833277401974,auth0|5bf758c410c0590dfe665076,google-oauth2|112072262339573192535,auth0|5bf56dfbff7aeb1c8420d78e,auth0|5e88cc136595110c10c9d112,auth0|5c1abea4c6bee32ff721d8ef,auth0|5e9e281070fbb50c93b20af8,facebook|10219030613449841,google-oauth2|101028735181379605893,google-oauth2|110575425715978095136,google-oauth2|117860801814955389083,facebook|10103399392467636,google-oauth2|108202766113064458894,auth0|5e7827803e92af0c624556e1,auth0|5e87fc916595110c10c6d9df,auth0|5def266e0fc8090cf15bc0da,google-oauth2|104138870059149357753,google-oauth2|107174597966724178437,google-oauth2|117574904754188201406,auth0|5e8422bdab88d40be89ffcff,auth0|5b5f737f4ea4d929f6197044,auth0|5b9c68656a52865dc2e4d35f,auth0|59e2154efc33036a7454006c,google-oauth2|118160683158800968112,google-oauth2|113259087243463921107,auth0|5e7ac17e18dc2d0c6a5fea43,auth0|5e7d3bf0a32fd90c6e066bed,auth0|5e8ba86c88167b0c27e0f4c0,google-oauth2|115837591983912209936,google-oauth2|101721773272220306010,auth0|5e94e58e18be240c2253bee4,auth0|5b4aa24cf3d20a5de6656f0c,auth0|5e73b8facb27120ccf2fb5f3,auth0|5ea73e9c54b14c0c125d0d18,auth0|5b2eb43d7871d50de0462dfb,auth0|5e8e2c7e7c56ac0c6efb0254,google-oauth2|104588516461939980715,auth0|5e6bfcfe10885b0ca6a6a97d,auth0|5c5df5bbfafc067adaa750a0,auth0|5e8bb37688167b0c27e13a7e,auth0|5e8bd749a366780c3299a6d6,facebook|10158155252929534,auth0|5cfef8274a9e340c756e9a45,auth0|5bec5718c796ea14d658c006,auth0|5e87e88bf23bc20bf0cb6f9a,google-oauth2|116790534080818803633,facebook|860766317753243,auth0|5e716eac39d8c80c8f832363,facebook|318544119324837,google-oauth2|116477263533595894397,facebook|10213110644937083,facebook|812446672573629,auth0|5e9b7e4449fb240c8a23557d,auth0|5ac8248243c87f1149ef7c4f,auth0|5ebc93ac5d888e0c6a82938e,facebook|10217093033218041,facebook|3085274388178744,google-oauth2|104713909097604398862,facebook|515315592496894,auth0|5c7f35c32949352c0db3654b,auth0|5f42d57bc95c690037a134b9,auth0|5e81102a918ec30cb14ac2f1,facebook|10155344611300698,auth0|5e76ac3bebaf590c6df9e3cf,auth0|5e83b878ad34590be1d9abc0,google-oauth2|114696959178447040566,google-oauth2|114161979481684199735,auth0|5dc74bf92b88040e66374c74,auth0|5e8399d8ad34590be1d9306d,auth0|5eb448d96b69bc0c120006a4,facebook|2584899245117488,auth0|5a9d9f1ba19e36443ed86fe6,auth0|5bd10036ef43d0244fa0bb43,google-oauth2|104578482615827805823,facebook|109322834067298,facebook|105051273908783,auth0|5e7820ce3e92af0c624546d9,google-oauth2|107852332221093980884,auth0|5c68834057eb5111ec8d3928,auth0|5e7bcd3fb342110c5477dd41,facebook|10156075669272803,auth0|5e90c83579b9cf0c63420260,auth0|5d049e4f0414a80e1239ff86,facebook|2643377972654547,facebook|1507069026129260,facebook|10102782696935034,auth0|5e948fa6c4d5420bddc9733f,auth0|5e83d4d66b269a0bdc08477c,google-oauth2|108820806174663930706,auth0|5ea468ad6b69bc0c12d5116c,google-oauth2|103847328877466169552,google-oauth2|115769150956452738346,facebook|10215136243823151,google-oauth2|112480134339910325399,facebook|10207204193579706,auth0|5ea33de2fefa400c57a98860,google-oauth2|110834622321196022163,auth0|5e8672acf23bc20bf0c57605,auth0|5eba197a4f69e12256fbb302,auth0|5a11ff369b73d476044ea3a1,auth0|5e8a22c085dd980c68e47c68,auth0|5e93623d15df8a0c56eada44,auth0|5e83744a2e42560bf2270cc9,auth0|5e8b7d6b88167b0c27dffd5c,auth0|5e78d3d940b35a0c66bd8e74,auth0|5ed7da83347f3d0013fb6ec6,facebook|10223069870881608,facebook|623963315044962,google-oauth2|113231046823148062931,google-oauth2|110483892591152328051,auth0|5e6eeee510885b0ca6abb202,auth0|5e8133fdec51be0c89073f71,auth0|5e9095845128890beae6a82f,auth0|5e7e2e4f87ec7b0c83967586,facebook|3966027833422960,auth0|5ea33cddfefa400c57a98536,google-oauth2|106826482199126039068,auth0|5e80dfc3ec51be0c890639d7,facebook|10155837787427216,facebook|2346053985420499,google-oauth2|108648331183000626892,facebook|151098513071981,google-oauth2|106063188970263643955,google-oauth2|104333354812603423631,auth0|5def02256d5f7d0ccd87a212,facebook|10158035131478847,auth0|5ecef8f8ce6d8f0c8f97ef59,facebook|541124573128138,auth0|5c4f7eb85004417cf9c18c9b,google-oauth2|104971091105065123519,google-oauth2|116953654456202497491,google-oauth2|111321337669631759533,auth0|5e7d2d57822a9b0c6d2ecba2,auth0|5ea3167349d0a80cf4729e75,auth0|5c202b4cbff9345d7b641c29,auth0|5e9f4b3d07597a0cc7d1933b,auth0|5c3b3a66eee20b5a5c222d3a,facebook|10214396319853876,auth0|5e7a3c724994470c695050a7,auth0|5e89207ff23bc20bf0d12547,google-oauth2|112710200614709846595,auth0|5afdb90242f10e18ba73d025,auth0|5d5ecb4cc452640da95e1ea4,auth0|5e8e6c286aba610c14bd055f,auth0|5e7e069a1901f50cc8836d0a,auth0|5e78ff07064cbe0c69a87a3e,google-oauth2|116535316223040488576,facebook|10222023347115375,google-oauth2|112712684303639631861,auth0|5c731aac0a45f0439d04bbdc,auth0|5eb08db56b69bc0c12f4b026,facebook|10102483415727505,facebook|10212038292505439,google-oauth2|112656431680254176349,google-oauth2|113541853483804995063,auth0|5de2d77d984f930d5e15053d,auth0|59caa5798884b1310bc9257a,auth0|5e9b799249fb240c8a234a6b,facebook|3507948805888726,google-oauth2|112318976023013663197,facebook|10223033199124287,facebook|10221985257046697,auth0|5e91119a54c3220c6972ae98,auth0|5b3694e9fbdcb762d0165b1f,google-oauth2|109131075181012890622,facebook|672148076691084,auth0|5cdc23cc0914600fa9b08549,google-oauth2|112444549928888459177,auth0|5ea5ce7e1cc1ac0c146801a5,facebook|2692060747501753,auth0|59b09b9b57d70e1088c23661,facebook|10100315161586914,google-oauth2|114896830511721053597,facebook|10155842344406000,google-oauth2|113935122107622446335,facebook|802175950126668,google-oauth2|110413444331345974367,google-oauth2|110440480046037594248,auth0|5e9357927a61520c61eb84c4,google-oauth2|111470384556796285389,auth0|5e88f7036595110c10cb4e7b,auth0|5e825e7b897a6d0bdf45863c,google-oauth2|102021155639185990532,google-oauth2|111970194656028781492,auth0|5e6dae152ae6a80c8bc4aa11,auth0|5e83cc6b6b269a0bdc082dc9,facebook|1989560244428180,google-oauth2|114961420840200599413,facebook|3024823424199658,facebook|3052012694836663,auth0|5ee04285800ac400196f5fe0,facebook|2142632549118982,auth0|5e7e9a2e2af1320c6b50a074,google-oauth2|110663501391257586051,auth0|59c3211d80b257328f16ed74,facebook|112254473317965,facebook|10218889555168500,google-oauth2|100141534690821631692,auth0|5dd6a9f40af5020f00084a85,auth0|5e814039ec51be0c89076570,auth0|5f139708bf5ad10013f1591e,google-oauth2|110256422826010331377,google-oauth2|118110992214469980669,auth0|5b40e74fa177ac1965fb5b31,facebook|2409033132449905,auth0|5e9b738b49fb240c8a233cb3,facebook|3296620687017574,google-oauth2|114292127493006611285,facebook|1797386256957318,facebook|2802831313087447,google-oauth2|116086792785032816837,facebook|10215290152061771,facebook|10216260522418353,google-oauth2|112537038548897066867,auth0|5dd7f7ff2a24590f1dc0ab59,auth0|5e7d59998847fe0c6539366c,google-oauth2|107210517532615337925,facebook|10205449340109369,google-oauth2|101572362300799101541,facebook|10211691231769727,facebook|10158075089512044,facebook|256144515528006,auth0|5e1681f2bd03fb0db30d3252,google-oauth2|110321906920931580915,auth0|5eb2fa4d54b14c0c127dd3dd,auth0|598e0487d742451dc3b6bb37,google-oauth2|100823555005934126302,auth0|5c7d61c658fd1621a12b68ec,auth0|5c648e8243aefe22c3f2dc49,auth0|5cb33b47f0c72310e6e7fd42,google-oauth2|114289880719827864218,google-oauth2|105849539193730283711,auth0|5eb3434654b14c0c127edac1,auth0|5c4d237360131b5189fcf808,google-oauth2|114271202666499157203,facebook|3178303008859694,facebook|10220561641663403,auth0|5e1684963000760dbdedf34a,auth0|5e95da3629ab3c0c10541e75,google-oauth2|106247181297953554066,auth0|5ce1f8542bde000ff40dbee4,auth0|5de1f5de65785f0d28196b25,auth0|5eb2148e6b69bc0c12f95e7f,auth0|5e1dfcf81686510cbff611da,facebook|10214163293819131,google-oauth2|115035847872431620554,facebook|2083306491785914,google-oauth2|114194887355151678151,auth0|5c7215ca93ef32310e0e4520,auth0|5b9c7bdd72d4bb47f9a7c303,facebook|10157976667727969,auth0|5e931c1d7a61520c61eb0c99,auth0|5d327bfb821dcc0d8e625b99,google-oauth2|112851825753576241135,google-oauth2|117513348455478780606,google-oauth2|117726299462394674075,auth0|5c1575af04da5e63e3a75732,facebook|2058140450882275,google-oauth2|100278929956553291378,auth0|5f4aa4345d905b006dd0c890,facebook|10218986860241685,auth0|5e8660e585dd980c68d51d35,google-oauth2|105918677962308159310,facebook|537635410184715,facebook|939479413097003,auth0|5eeec5f46769d800131e082d,auth0|5e739ce4bd89f10c8bc7ae28,auth0|5c984140be44d0416044b4b3,auth0|5f582b656580c600708b338b,google-oauth2|100656339208107725851,google-oauth2|113466542547657984550,facebook|10214609054242974,auth0|5e9f892139d9460ca08f1874,google-oauth2|103706111300255871551,facebook|3001229739939733,facebook|1589529374537630,auth0|5f58e7e0eb903400704a6cff,auth0|5eb701ed1cc1ac0c14986ce4,auth0|5ee147747e03370014a2a0d2,auth0|5edae7bf56d06200132f934e,facebook|1899815780034840,auth0|5dafbb9c0ea0970c648b290a,google-oauth2|112408625606820919248,auth0|5e8ba44a88167b0c27e0cc37,facebook|10219495249706659,facebook|1080502848979289,facebook|2494950037398636,auth0|5f1b97d490617e0037a2e2c7,facebook|334040444076872,auth0|5e9675d0538a990c0a067708,facebook|10213571607236155,auth0|5ea6287754b14c0c1259f5bb,auth0|5adbf44a5fb3bc1b6d7b394f,facebook|10220569098360416,facebook|2937543749659310,facebook|1492386600922682,facebook|3871673882843543,facebook|244228393482933,google-oauth2|100886750135928328905,auth0|5ed9b833152e860019a08e77,google-oauth2|106514978822563923239,google-oauth2|114573374100497412365,auth0|5c85cfcdb7494e305490f808,facebook|3234698669876531,auth0|5e911fe154c3220c6972d2f8,facebook|10102924123216143,auth0|5e7951998b7ce10c61c87d85,auth0|5d7a7cb0f9676e0c503eabd9,auth0|5e724206c9db910d01b61371,facebook|1535402989831839,auth0|5ab703c7ecd90e0263257ee1,facebook|10215518701427754,google-oauth2|108944562982038676396,google-oauth2|117028266206501913035,google-oauth2|100995251660721767098,facebook|2810121159109377,facebook|3528478763836137,auth0|59e549ba60b8f53896e8e2b1,auth0|5ea71c4e6b69bc0c12dac813,facebook|3020207578033416,facebook|2850711515017493,facebook|2856326294389792,facebook|10217794748006446,auth0|5b78ac03af1e9a7b604e0618,auth0|5c76d26d2c6a4f2ef4e9eea5,google-oauth2|110620334831946532581,auth0|5ebf1cbe5830a90c6fde7900,facebook|1516583701712594,auth0|5e8b8148a366780c3297917c,google-oauth2|113342787649025339917,facebook|10156216253893014,google-oauth2|101158168801806277844,google-oauth2|110589750945872904317,auth0|5e83bc1e6b269a0bdc07f5d0,google-oauth2|110085803226792150062,facebook|1521369417956181,auth0|5ea23d095dfc7e0c649f8289,google-oauth2|103934263656704772126,auth0|5ebc8df8b9863f0c6c29bcab,facebook|2296789513890183,facebook|3190766370940776,facebook|10217258950566100,auth0|5a2c05bd7a45065e4d7b202b,auth0|5e98765757649e0c6ec393f9,facebook|3435025589847942,auth0|5e80dc979d8a180c84ddd2d5,auth0|5c5075045004417cf9c198ac,auth0|5eb198446b69bc0c12f7c211,facebook|1728704673817716,auth0|5e8faca7a554df0c0497393f,google-oauth2|107837691998316435608,facebook|3345192995508696,auth0|5e78cf0d4aa4c20ce54e303b,facebook|10215796962333324,auth0|5eb0d66c1cc1ac0c1485ff53,google-oauth2|106443164494299166179,auth0|5c53db786a5b3a7453dacf9d,auth0|5e7034b79298fb0c9c49b056,auth0|5e87e02bf23bc20bf0cb59a1,google-oauth2|104584282936814194765,facebook|10156277140271444,google-oauth2|113819489218853223048,google-oauth2|106205702942115235748,google-oauth2|115759049828742899195,auth0|5ea2173f390a730c8a4d3aa3,auth0|5e8e26d81af9710c72792439,facebook|3090846060949681,facebook|3689393424435066,auth0|5e951220347eb00c1717f842,facebook|10219887027238764,auth0|5ea4a4a86b69bc0c12d5884c,auth0|5e7b8e051374390c6a1906e1,google-oauth2|114236066381000479800,auth0|5ea4852254b14c0c125704b8,facebook|10161585196830385,auth0|5a8355a46937c17375544771,auth0|5e8248822aa3b20c769b8fbc,facebook|1362861627144496,facebook|10217587858464965,facebook|10158327990638770,auth0|5ab66dd78bd5067ff57927e7,google-oauth2|103325143014734921239,facebook|10156516746523703,auth0|5e822d958f215c0c6f0c8336,google-oauth2|105402874541537920068,auth0|5e8cdea217e00b0c5dbad2cd,auth0|5e965f44ae1b770c10f539d4,google-oauth2|113775466347196810106,auth0|5c5c8cc3736a0d6987dd266c,google-oauth2|115378069480754987532,facebook|2316512861964066,auth0|5e9208397a61520c61e8d586,google-oauth2|115872045662767788780,facebook|1701073646612160,auth0|5e7e2de466ba560c6554af9f,google-oauth2|102459561101665068352,facebook|10217153673663735,google-oauth2|110468121829738564672,google-oauth2|102145505686118723666,auth0|5e738eb4f7c6e50c911ec9e3,facebook|522969538135392,auth0|5e813d3d918ec30cb14b4d01,google-oauth2|113729783473587998368,google-oauth2|103477451927755331754,auth0|5ec928bdf7908c0c68a1bae4,facebook|115157003353776,google-oauth2|109760401662413322317,auth0|5eab011f6b69bc0c12e6db7c,google-oauth2|112509827649595310165,auth0|5e4ae25306273f0f235c5c43,facebook|1825069447805981,google-oauth2|106876596721589195762,facebook|10160431029115171,auth0|5e9c8bfd49fb240c8a255d3b,facebook|10214495796689791,facebook|1471520579622341,google-oauth2|111701462526144772261,auth0|5b29ac68c4e1ce04c270bba3,google-oauth2|116229725878087107549,facebook|10217569996774630,facebook|10210389094264195,google-oauth2|105414399337400598635,auth0|5bb3f1909631a3321d51b6ce,google-oauth2|112565240399928176039,google-oauth2|102409480633309866649,facebook|10103508499037196,facebook|10154910317726946,auth0|5e975097527d300c6766a79f,google-oauth2|116406719102449381692,google-oauth2|103637030112145600430,auth0|5e80f422ec51be0c89067cdc,auth0|59c25d1b8bd5a32e1089f879,facebook|10206005249967171,facebook|2856633711122465,google-oauth2|112666768344510592836,facebook|2649990821680455,facebook|741250359594446,auth0|5eadda921cc1ac0c147eab75,facebook|10217676516535412,auth0|5ea625df54b14c0c1259f0cb,google-oauth2|113958214409932375661,facebook|10105971571904023,auth0|5d2b91f638fa460d2df46d21,facebook|10159049595303696,google-oauth2|100389812498099608393,facebook|2601307273329903,auth0|5c80077fcdf3107c379e73d7,auth0|5c4e1aa8a9bcbf759b4b00dd,auth0|5c9e19fd0f28391111e1c2bd,auth0|5bf10329734e847e738967cc,facebook|3176470679029917,google-oauth2|100458318910567314268,facebook|1037810266370872,auth0|5de185978b59b10e1985674a,auth0|5e22618c0dff120e8cb9540f,google-oauth2|112272899306425283640,facebook|10218123568494075,facebook|10203692723436637,google-oauth2|111717235538952888359,google-oauth2|117019065078532901316,google-oauth2|105870099081029158179,auth0|5f0df6feb07e900019ff5c83,auth0|5caf2e5fe6c9db11040efa0c,facebook|10211053360438827,facebook|231820428004123,auth0|5e7eb3749d8a180c84d905b7,auth0|5e9cbd7263f8000c8c239018,auth0|5a40645d9252727ec978ba51,google-oauth2|102252220980060547723,auth0|5e8a75c16595110c10d1931a,auth0|5c58adc37a26db2ca7de31cc,auth0|5b3e914bf3d20a5de662da6e,facebook|10216975084236230,facebook|10221656744396214,facebook|100111281164732,facebook|10217670527254458,facebook|3181106741913486,facebook|10211825894156677,auth0|5eb747146b69bc0c1208d415,auth0|5a46fd5ddd9c3928dc269743,google-oauth2|100330460134012448029,facebook|113455170312095,auth0|5aa577ad0fcaa4541b15eac5,google-oauth2|101104192349999079730,google-oauth2|117510205025370136842,google-oauth2|101726173428562057515,facebook|2485173608398448,facebook|3209231855756131,google-oauth2|105500797246261791427,auth0|5e7e386cb9643e0c68342c7b,auth0|5a13b4ec9b73d476044ee6b2,google-oauth2|107873239193182831153,google-oauth2|105041230902132973761,google-oauth2|100360860421696301516,auth0|5d87dfe82578970def25d3e2,auth0|5f0b96ffd44ed8001957485d,facebook|2055048611205335,google-oauth2|102874840779857496537,google-oauth2|106378994100760541875,auth0|5a3439e4bc901b79b9a7e607,auth0|5e9736e3dc9e300c88dea525,facebook|10220012660285128,facebook|104911297833865,auth0|5baeb7c49631a3321d503af5,facebook|4149545861725847,auth0|5d0033c88b1c140c61de2861,google-oauth2|106506776481672725436,auth0|5d50d4f3b20d340e84bd09ec,google-oauth2|108317413879775240599,google-oauth2|105261103836758657342,auth0|5d86d1a12578970def25cc0c,google-oauth2|109949560994096924158,auth0|5ecefd51ce6d8f0c8f97fd99,auth0|5e754c99ebaf590c6df6b9fb,facebook|10214709055464023,auth0|5bc29d016250fa28556b4c22,google-oauth2|103378995889523473412,facebook|10213680698505642,auth0|5a347f99bc901b79b9a7ee64,auth0|5f224847da8ffa003d25341e,google-oauth2|116455033325973318089,auth0|5e8f8bc0c3f9de0c113528d2,facebook|10213890152318491,auth0|5b9f1e5bf1642721ad87ea95,auth0|5e87e96d85dd980c68db5bda,facebook|2839421562808747,google-oauth2|100806194744317727085,auth0|5a75275a17f0575e15ff8027,facebook|304314510968423,facebook|1710526635660276,google-oauth2|114862566091796656118,google-oauth2|112459783063020733767,facebook|10207489130464578,auth0|5d07fae799842d0cb6d24e52,facebook|2463762193682946,google-oauth2|101037892374624131118,auth0|5e75493b127c6f0c5ac59bdd,google-oauth2|102129613550493454508,facebook|2445890532352060,auth0|59b051d757d70e1088c22b8c,auth0|5e986ee4e93c4a0cfc100fd0,auth0|5ad29be13467830fef66deef,google-oauth2|111146777509869550274,facebook|1595982530465658,facebook|117937943210592,facebook|165335254242499,google-oauth2|116905102139491553093,facebook|1858855864169861,auth0|5b723165857ca20fe94dba33,google-oauth2|102401577026616424539,facebook|10218477623676744,google-oauth2|113802686332578203293,auth0|5e87e3de85dd980c68db4d0a,facebook|10209986809093701,facebook|662710661172147,google-oauth2|117008765801015511353,google-oauth2|103057324750996057861,auth0|5e77df82ebaf590c6dfc6b60,auth0|5b99a54af1642721ad86602b,auth0|5be8e152165bea1f5ba40fe4,facebook|1084045288636618,auth0|5ea4863b54b14c0c125706d4,auth0|5dec8eb215c38b0e7d8dbed9,auth0|5c51eed284fc5075b9689137,facebook|10210686844787538,facebook|340913366503270,facebook|10219651965190734,google-oauth2|108286576816155914528,google-oauth2|113006587671298600980,facebook|1116262258508937,google-oauth2|108988932793111900304,google-oauth2|107857514583380447670,facebook|10216927996620195,google-oauth2|110959427556515885490,google-oauth2|117780374698962144979,facebook|10212934310061173,facebook|10209143252530538,google-oauth2|105968226930974664873,google-oauth2|114303673066550526485,auth0|5b5c88c177737b5f5c55d1e9,auth0|5ca4994f839d9f109ad0e009,google-oauth2|113095858107699258428,facebook|10212484430378985,facebook|2222317644473060,google-oauth2|113519653194817553103,facebook|1942383806026322,auth0|5bb84439f4f6d955a95a0fb0,google-oauth2|117268773399724161726,google-oauth2|118423487826268979952,facebook|113934786492028,facebook|2008779166076321,facebook|826506004215725,auth0|5c2c0252c8ebf2633b7725fc,auth0|5d7c57f9f9cad70c5b6719d5,facebook|10209801425896815,facebook|1115850885434732,auth0|5e092382608c1a0e77b6e5c5,facebook|10211174599660052,auth0|5c18229491212b7a130af9da,auth0|5a7275b44168247f31a178d3,facebook|10207083095552153,auth0|5c530821348ac6344ed84701,google-oauth2|116516868226596402291,google-oauth2|117535699891591434874,auth0|5c79a41d3ba5562870f14933,facebook|2056107537740167,facebook|10221762498108567,facebook|1495495690535512,auth0|59e24273fc33036a745403b2,auth0|59be88b0d6e34e41877b9cf9,auth0|5ea0b0754a980a0c86775ae4,auth0|5bb96b63ea4644072b1af4ce,facebook|432827060451993,auth0|5b3b689599ffa74f52b2e0ed,auth0|5b8dc912b9751b2029427885,auth0|5c24e308c5db266ab30b1e51,facebook|10203820215502213,facebook|1947581942155465,auth0|5a2eceae1007085d21e5ed88,google-oauth2|105984581367695546608,google-oauth2|112477011953902702709,google-oauth2|117653682558204784458,google-oauth2|101850605572335161955,facebook|1136337296503783,google-oauth2|109127820006427123069,auth0|5b7c07e7b1132548cd8999de,auth0|5e87664bf23bc20bf0c9a3fa,facebook|431171970657659,facebook|2173346712686811,google-oauth2|111283688287652407991,google-oauth2|100024397308090069480,facebook|3318649961514741,auth0|5c92db4028f8670aebd346f3,auth0|5c4f4402579eca48c893b7df,facebook|2141124106172625,auth0|5aa58f230fcaa4541b15ecb2,google-oauth2|106483526524188509391,google-oauth2|111730107676174750769,facebook|10213635227491819,facebook|10162010253795585,facebook|594263237639108,auth0|5c5f5464499c0c46c8d9f335,facebook|286306475254518,google-oauth2|118310659301969967697,facebook|758103534390852&#39;"
     },
     "metadata": {},
     "execution_count": 115
    }
   ],
   "source": [
    "a[5]"
   ]
  },
  {
   "cell_type": "code",
   "execution_count": 26,
   "metadata": {},
   "outputs": [],
   "source": [
    "names = a[1].split(',')\n",
    "#names"
   ]
  },
  {
   "cell_type": "code",
   "execution_count": 116,
   "metadata": {},
   "outputs": [],
   "source": [
    "daily_score = a[3].split(',')\n",
    "hands = a[7].split(',')\n",
    "pickpct = a[11].split(',')\n",
    "winpct = a[13].split(',')\n",
    "logcodes = a[5].split(',')\n"
   ]
  },
  {
   "cell_type": "code",
   "execution_count": 117,
   "metadata": {},
   "outputs": [],
   "source": [
    "df = pd.DataFrame(list(zip(names, daily_score, hands, pickpct, winpct, logcodes)),\n",
    "                 columns = ['names', 'daily_score', 'hands', 'pickpct', 'winpct','logcodes'])"
   ]
  },
  {
   "cell_type": "code",
   "execution_count": 118,
   "metadata": {},
   "outputs": [
    {
     "output_type": "execute_result",
     "data": {
      "text/plain": "                 names  daily_score  hands  pickpct  winpct  \\\n10         FoxyMeadows         7599  39836   0.2845  0.5213   \n31              jturba         3779  46467   0.2872  0.5232   \n95       Eric Spielman         1147   2986   0.3061  0.5299   \n99             scooter         1119   1867   0.2303  0.5069   \n308       Dr Brad Peck          245   1174   0.2404  0.5018   \n468       Andrew Ticho          136    199   0.2570  0.5307   \n755           KingCrab           62    328   0.4041  0.5514   \n924   3SheepsToTheWind           45   1446   0.1972  0.4658   \n6204               DPB          -73    386   0.1377  0.4298   \n6486  Riding Lawnmauer         -103   1316   0.2091  0.4554   \n6521      jacobhanke12         -107   1271   0.2340  0.4425   \n6624             Falko         -123    378   0.2291  0.4613   \n7141            Provie         -300   1946   0.1891  0.4711   \n7146          rjbjjohn         -302   2253   0.1559  0.4534   \n7306         paulv1958         -482   7070   0.2028  0.4662   \n7545           Kim Cee        -2580  26074   0.1904  0.4746   \n\n                                 logcodes                  timestamp  \n10         auth0|5ab7fd5cecd90e02632592f1 2020-10-02 13:09:20.068475  \n31         auth0|5ecb233492dce80c6f194657 2020-10-02 13:09:20.068475  \n95              facebook|2797084107011433 2020-10-02 13:09:20.068475  \n99    google-oauth2|110773247652663606532 2020-10-02 13:09:20.068475  \n308        auth0|5e7ea20b9d8a180c84d8da8b 2020-10-02 13:09:20.068475  \n468        auth0|5e9355a554c3220c697797c4 2020-10-02 13:09:20.068475  \n755        auth0|5a5a727c9b967b281e06f749 2020-10-02 13:09:20.068475  \n924   google-oauth2|113638829670385164163 2020-10-02 13:09:20.068475  \n6204       auth0|5e99f51e77ea180c8297844e 2020-10-02 13:09:20.068475  \n6486  google-oauth2|113453307184472959909 2020-10-02 13:09:20.068475  \n6521       auth0|5eb9de4451344e221674d148 2020-10-02 13:09:20.068475  \n6624  google-oauth2|114804478662307719115 2020-10-02 13:09:20.068475  \n7141  google-oauth2|107210517532615337925 2020-10-02 13:09:20.068475  \n7146             facebook|256144515528006 2020-10-02 13:09:20.068475  \n7306  google-oauth2|103325143014734921239 2020-10-02 13:09:20.068475  \n7545  google-oauth2|112477011953902702709 2020-10-02 13:09:20.068475  ",
      "text/html": "<div>\n<style scoped>\n    .dataframe tbody tr th:only-of-type {\n        vertical-align: middle;\n    }\n\n    .dataframe tbody tr th {\n        vertical-align: top;\n    }\n\n    .dataframe thead th {\n        text-align: right;\n    }\n</style>\n<table border=\"1\" class=\"dataframe\">\n  <thead>\n    <tr style=\"text-align: right;\">\n      <th></th>\n      <th>names</th>\n      <th>daily_score</th>\n      <th>hands</th>\n      <th>pickpct</th>\n      <th>winpct</th>\n      <th>logcodes</th>\n      <th>timestamp</th>\n    </tr>\n  </thead>\n  <tbody>\n    <tr>\n      <th>10</th>\n      <td>FoxyMeadows</td>\n      <td>7599</td>\n      <td>39836</td>\n      <td>0.2845</td>\n      <td>0.5213</td>\n      <td>auth0|5ab7fd5cecd90e02632592f1</td>\n      <td>2020-10-02 13:09:20.068475</td>\n    </tr>\n    <tr>\n      <th>31</th>\n      <td>jturba</td>\n      <td>3779</td>\n      <td>46467</td>\n      <td>0.2872</td>\n      <td>0.5232</td>\n      <td>auth0|5ecb233492dce80c6f194657</td>\n      <td>2020-10-02 13:09:20.068475</td>\n    </tr>\n    <tr>\n      <th>95</th>\n      <td>Eric Spielman</td>\n      <td>1147</td>\n      <td>2986</td>\n      <td>0.3061</td>\n      <td>0.5299</td>\n      <td>facebook|2797084107011433</td>\n      <td>2020-10-02 13:09:20.068475</td>\n    </tr>\n    <tr>\n      <th>99</th>\n      <td>scooter</td>\n      <td>1119</td>\n      <td>1867</td>\n      <td>0.2303</td>\n      <td>0.5069</td>\n      <td>google-oauth2|110773247652663606532</td>\n      <td>2020-10-02 13:09:20.068475</td>\n    </tr>\n    <tr>\n      <th>308</th>\n      <td>Dr Brad Peck</td>\n      <td>245</td>\n      <td>1174</td>\n      <td>0.2404</td>\n      <td>0.5018</td>\n      <td>auth0|5e7ea20b9d8a180c84d8da8b</td>\n      <td>2020-10-02 13:09:20.068475</td>\n    </tr>\n    <tr>\n      <th>468</th>\n      <td>Andrew Ticho</td>\n      <td>136</td>\n      <td>199</td>\n      <td>0.2570</td>\n      <td>0.5307</td>\n      <td>auth0|5e9355a554c3220c697797c4</td>\n      <td>2020-10-02 13:09:20.068475</td>\n    </tr>\n    <tr>\n      <th>755</th>\n      <td>KingCrab</td>\n      <td>62</td>\n      <td>328</td>\n      <td>0.4041</td>\n      <td>0.5514</td>\n      <td>auth0|5a5a727c9b967b281e06f749</td>\n      <td>2020-10-02 13:09:20.068475</td>\n    </tr>\n    <tr>\n      <th>924</th>\n      <td>3SheepsToTheWind</td>\n      <td>45</td>\n      <td>1446</td>\n      <td>0.1972</td>\n      <td>0.4658</td>\n      <td>google-oauth2|113638829670385164163</td>\n      <td>2020-10-02 13:09:20.068475</td>\n    </tr>\n    <tr>\n      <th>6204</th>\n      <td>DPB</td>\n      <td>-73</td>\n      <td>386</td>\n      <td>0.1377</td>\n      <td>0.4298</td>\n      <td>auth0|5e99f51e77ea180c8297844e</td>\n      <td>2020-10-02 13:09:20.068475</td>\n    </tr>\n    <tr>\n      <th>6486</th>\n      <td>Riding Lawnmauer</td>\n      <td>-103</td>\n      <td>1316</td>\n      <td>0.2091</td>\n      <td>0.4554</td>\n      <td>google-oauth2|113453307184472959909</td>\n      <td>2020-10-02 13:09:20.068475</td>\n    </tr>\n    <tr>\n      <th>6521</th>\n      <td>jacobhanke12</td>\n      <td>-107</td>\n      <td>1271</td>\n      <td>0.2340</td>\n      <td>0.4425</td>\n      <td>auth0|5eb9de4451344e221674d148</td>\n      <td>2020-10-02 13:09:20.068475</td>\n    </tr>\n    <tr>\n      <th>6624</th>\n      <td>Falko</td>\n      <td>-123</td>\n      <td>378</td>\n      <td>0.2291</td>\n      <td>0.4613</td>\n      <td>google-oauth2|114804478662307719115</td>\n      <td>2020-10-02 13:09:20.068475</td>\n    </tr>\n    <tr>\n      <th>7141</th>\n      <td>Provie</td>\n      <td>-300</td>\n      <td>1946</td>\n      <td>0.1891</td>\n      <td>0.4711</td>\n      <td>google-oauth2|107210517532615337925</td>\n      <td>2020-10-02 13:09:20.068475</td>\n    </tr>\n    <tr>\n      <th>7146</th>\n      <td>rjbjjohn</td>\n      <td>-302</td>\n      <td>2253</td>\n      <td>0.1559</td>\n      <td>0.4534</td>\n      <td>facebook|256144515528006</td>\n      <td>2020-10-02 13:09:20.068475</td>\n    </tr>\n    <tr>\n      <th>7306</th>\n      <td>paulv1958</td>\n      <td>-482</td>\n      <td>7070</td>\n      <td>0.2028</td>\n      <td>0.4662</td>\n      <td>google-oauth2|103325143014734921239</td>\n      <td>2020-10-02 13:09:20.068475</td>\n    </tr>\n    <tr>\n      <th>7545</th>\n      <td>Kim Cee</td>\n      <td>-2580</td>\n      <td>26074</td>\n      <td>0.1904</td>\n      <td>0.4746</td>\n      <td>google-oauth2|112477011953902702709</td>\n      <td>2020-10-02 13:09:20.068475</td>\n    </tr>\n  </tbody>\n</table>\n</div>"
     },
     "metadata": {},
     "execution_count": 118
    }
   ],
   "source": [
    "dflim = df[df.names.isin(userlist.values())]\n",
    "dflim['timestamp'] = datetime.now()\n",
    "#dflim['pickpct'] = dflim['pickpct']round(2)\n",
    "dflim[['daily_score', 'hands', 'pickpct', 'winpct']] = dflim[['daily_score', 'hands', 'pickpct', 'winpct']].apply(pd.to_numeric)\n",
    "dflim[['pickpct', 'winpct']] = dflim[['pickpct', 'winpct']].round(4)\n",
    "dflim"
   ]
  },
  {
   "cell_type": "code",
   "execution_count": 30,
   "metadata": {},
   "outputs": [],
   "source": [
    "dic = {'Sam Reinertson': ['Riding Lawnmauer', '113453307184472959909']}"
   ]
  },
  {
   "cell_type": "code",
   "execution_count": 57,
   "metadata": {},
   "outputs": [
    {
     "output_type": "execute_result",
     "data": {
      "text/plain": "&#39;113453307184472959909&#39;"
     },
     "metadata": {},
     "execution_count": 57
    }
   ],
   "source": [
    "dic['Sam Reinertson'][1]"
   ]
  },
  {
   "cell_type": "code",
   "execution_count": 144,
   "metadata": {},
   "outputs": [],
   "source": [
    "# player_prof_site = 'https://get61.com/player_profile?player=google-oauth2|{}&conn_id='\n",
    "\n",
    "# 109805285627143089578\n",
    "# 'https://get61.com/player_profile?player=google-oauth2|109805285627143089578&conn_id='\n",
    "\n",
    "page = 'https://get61.com/player_profile?player=auth0|5e8f8fddb3977d0c14d5c2d0&conn_id=google-oauth2|109805285627143089578'\n",
    "#page = 'https://get61.com/player_profile?player=auth0|5e790278064cbe0c69a88bff&conn_id=google-oauth2|109805285627143089578'\n",
    "#facebook|1899815780034840\n",
    "\n",
    "#page = player_prof_site.format(dic['Sam Reinertson'][1])\n",
    "#page = 'https://get61.com/player_profile?player=google-oauth2|113453307184472959909&conn_id=' \n",
    "#page = 'https://get61.com/leaderboard?lifetime=true&sortBy=daily_score'"
   ]
  },
  {
   "cell_type": "code",
   "execution_count": 146,
   "metadata": {},
   "outputs": [],
   "source": [
    "playlises = re.compile('var numCracks')\n",
    "playerss = soup2019.find(text=playlises)\n",
    "a = playerss.split(';')\n",
    "b= []\n",
    "for i in a:\n",
    "    b.append(i.strip(\"'\\nvar\"))\n"
   ]
  },
  {
   "cell_type": "code",
   "execution_count": 145,
   "metadata": {},
   "outputs": [],
   "source": [
    "response = requests.get(page).text\n",
    "\n",
    "soup2019 = BeautifulSoup(response, 'html5lib')\n",
    "#print(soup2019.prettify())"
   ]
  },
  {
   "cell_type": "code",
   "execution_count": 148,
   "metadata": {},
   "outputs": [],
   "source": [
    "c = []\n",
    "for j in b:\n",
    "    c.append(j.split('='))"
   ]
  },
  {
   "cell_type": "code",
   "execution_count": 147,
   "metadata": {},
   "outputs": [
    {
     "output_type": "execute_result",
     "data": {
      "text/plain": "[&#39; numHands = &quot;8008&quot;&#39;,\n &#39; screen_name = &quot;Denman&quot;&#39;,\n &#39; numCracks = &quot;212&quot;&#39;,\n &#39; numDefenseBlackCracks = &quot;30&quot;&#39;,\n &#39; numDefenseRedCracks = &quot;19&quot;&#39;,\n &#39; numDefenseCracks = &quot;193&quot;&#39;,\n &#39; numOffenseBlackCracks = &quot;1&quot;&#39;,\n &#39; numOffenseRedCracks = &quot;1&quot;&#39;,\n &#39; numOffenseCracks = &quot;19&quot;&#39;,\n &#39; numPicks = &quot;1637&quot;&#39;,\n &#39; numRedBlitz = &quot;146&quot;&#39;,\n &#39; numBlackBlitz = &quot;219&quot;&#39;,\n &#39; numPickedJD = &quot;104&quot;&#39;,\n &#39; numPickedWithJD = &quot;114&quot;&#39;,\n &#39; numOffenseWinNoTrick = &quot;362&quot;&#39;,\n &#39; numOffenseWinNoSchneider = &quot;811&quot;&#39;,\n &#39; numOffenseWinStandard = &quot;1196&quot;&#39;,\n &#39; numDefenseWinNoTrick = &quot;11&quot;&#39;,\n &#39; numDefenseWinNoSchneider = &quot;138&quot;&#39;,\n &#39; numDefenseWinStandard = &quot;1128&quot;&#39;,\n &#39; numOffenseLoseNoTrick = &quot;0&quot;&#39;,\n &#39; numOffenseLoseNoSchneider = &quot;11&quot;&#39;,\n &#39; numOffenseLoseStandard = &quot;89&quot;&#39;,\n &#39; numDefenseLoseNoTrick = &quot;510&quot;&#39;,\n &#39; numDefenseLoseNoSchneider = &quot;1216&quot;&#39;,\n &#39; numDefenseLoseStandard = &quot;1978&quot;&#39;,\n &#39; numAbandonedHands = &quot;0&quot;&#39;,\n &#39; lifetime_score = &quot;1340&quot;&#39;,\n &#39; numCrackWon = &quot;146&quot;&#39;,\n &#39; numDefenseBlackCrackWon = &quot;25&quot;&#39;,\n &#39; numDefenseRedCrackWon = &quot;14&quot;&#39;,\n &#39; numDefenseCracksWon = &quot;0&quot;&#39;,\n &#39; numOffenseBlackCrackWon = &quot;&quot;&#39;,\n &#39; numOffenseRedCrackWon = &quot;0&quot;&#39;,\n &#39; numOffenseCrackWon = &quot;15&quot;&#39;,\n &#39; numPickWon = &quot;1274&quot;&#39;,\n &#39; numRedBlitzWon = &quot;&quot;&#39;,\n &#39; numBlackBlitzWon = &quot;199&quot;&#39;,\n &#39; numPickedJDWon = &quot;49&quot;&#39;,\n &#39; numPickedJDWon = &quot;69&quot;&#39;,\n &#39; numHands_daily = &quot;48&quot;&#39;,\n &#39; numCracks_daily = &quot;3&quot;&#39;,\n &#39; numDefenseBlackCracks_daily = &quot;1&quot;&#39;,\n &#39; numDefenseRedCracks_daily = &quot;0&quot;&#39;,\n &#39; numDefenseCracks_daily = &quot;3&quot;&#39;,\n &#39; numOffenseBlackCracks_daily = &quot;0&quot;&#39;,\n &#39; numOffenseRedCracks_daily = &quot;0&quot;&#39;,\n &#39; numOffenseCracks_daily = &quot;0&quot;&#39;,\n &#39; numPicks_daily = &quot;6&quot;&#39;,\n &#39; numRedBlitz_daily = &quot;1&quot;&#39;,\n &#39; numBlackBlitz_daily = &quot;4&quot;&#39;,\n &#39; numPickedJD_daily = &quot;0&quot;&#39;,\n &#39; numPickedWithJD_daily = &quot;0&quot;&#39;,\n &#39; numOffenseWinNoTrick_daily = &quot;0&quot;&#39;,\n &#39; numOffenseWinNoSchneider_daily = &quot;8&quot;&#39;,\n &#39; numOffenseWinStandard_daily = &quot;5&quot;&#39;,\n &#39; numDefenseWinNoTrick_daily = &quot;0&quot;&#39;,\n &#39; numDefenseWinNoSchneider_daily = &quot;2&quot;&#39;,\n &#39; numDefenseWinStandard_daily = &quot;4&quot;&#39;,\n &#39; numOffenseLoseNoTrick_daily = &quot;0&quot;&#39;,\n &#39; numOffenseLoseNoSchneider_daily = &quot;0&quot;&#39;,\n &#39; numOffenseLoseStandard_daily = &quot;0&quot;&#39;,\n &#39; numDefenseLoseNoTrick_daily = &quot;3&quot;&#39;,\n &#39; numDefenseLoseNoSchneider_daily = &quot;6&quot;&#39;,\n &#39; numDefenseLoseStandard_daily = &quot;19&quot;&#39;,\n &#39; numAbandonedHands_daily = &quot;0&quot;&#39;,\n &#39; daily_score = &quot;-2&quot;&#39;,\n &#39; numCrackWon_daily = &quot;2&quot;&#39;,\n &#39; numDefenseBlackCrackWon_daily = &quot;0&quot;&#39;,\n &#39; numDefenseRedCrackWon_daily = &quot;0&quot;&#39;,\n &#39; numDefenseCracksWon_daily = &quot;0&quot;&#39;,\n &#39; numOffenseBlackCrackWon_daily = &quot;&quot;&#39;,\n &#39; numOffenseRedCrackWon_daily = &quot;0&quot;&#39;,\n &#39; numOffenseCrackWon_daily = &quot;0&quot;&#39;,\n &#39; numPickWon_daily = &quot;5&quot;&#39;,\n &#39; numRedBlitzWon_daily = &quot;&quot;&#39;,\n &#39; numBlackBlitzWon_daily = &quot;4&quot;&#39;,\n &#39; numPickedJDWon_daily = &quot;0&quot;&#39;,\n &#39; numPickedJDWon_daily = &quot;0&quot;&#39;,\n &#39;&#39;]"
     },
     "metadata": {},
     "execution_count": 147
    }
   ],
   "source": [
    "b"
   ]
  },
  {
   "cell_type": "code",
   "execution_count": 149,
   "metadata": {},
   "outputs": [
    {
     "output_type": "execute_result",
     "data": {
      "text/plain": "[&#39; numDefenseCracks &#39;, &#39; &quot;193&quot;&#39;]"
     },
     "metadata": {},
     "execution_count": 149
    }
   ],
   "source": [
    "c[5]"
   ]
  },
  {
   "cell_type": "code",
   "execution_count": 150,
   "metadata": {
    "tags": []
   },
   "outputs": [
    {
     "output_type": "stream",
     "name": "stdout",
     "text": "10\n"
    }
   ],
   "source": [
    "search = ' numRedBlitz '\n",
    "for sub in c:\n",
    "    if sub[0] == search:\n",
    "        print(c.index(sub))"
   ]
  },
  {
   "cell_type": "code",
   "execution_count": 151,
   "metadata": {
    "tags": []
   },
   "outputs": [
    {
     "output_type": "stream",
     "name": "stdout",
     "text": "0 [&#39; numHands &#39;, &#39; &quot;8008&quot;&#39;]\n1 [&#39; screen_name &#39;, &#39; &quot;Denman&quot;&#39;]\n2 [&#39; numCracks &#39;, &#39; &quot;212&quot;&#39;]\n3 [&#39; numDefenseBlackCracks &#39;, &#39; &quot;30&quot;&#39;]\n4 [&#39; numDefenseRedCracks &#39;, &#39; &quot;19&quot;&#39;]\n5 [&#39; numDefenseCracks &#39;, &#39; &quot;193&quot;&#39;]\n6 [&#39; numOffenseBlackCracks &#39;, &#39; &quot;1&quot;&#39;]\n7 [&#39; numOffenseRedCracks &#39;, &#39; &quot;1&quot;&#39;]\n8 [&#39; numOffenseCracks &#39;, &#39; &quot;19&quot;&#39;]\n9 [&#39; numPicks &#39;, &#39; &quot;1637&quot;&#39;]\n10 [&#39; numRedBlitz &#39;, &#39; &quot;146&quot;&#39;]\n11 [&#39; numBlackBlitz &#39;, &#39; &quot;219&quot;&#39;]\n12 [&#39; numPickedJD &#39;, &#39; &quot;104&quot;&#39;]\n13 [&#39; numPickedWithJD &#39;, &#39; &quot;114&quot;&#39;]\n14 [&#39; numOffenseWinNoTrick &#39;, &#39; &quot;362&quot;&#39;]\n15 [&#39; numOffenseWinNoSchneider &#39;, &#39; &quot;811&quot;&#39;]\n16 [&#39; numOffenseWinStandard &#39;, &#39; &quot;1196&quot;&#39;]\n17 [&#39; numDefenseWinNoTrick &#39;, &#39; &quot;11&quot;&#39;]\n18 [&#39; numDefenseWinNoSchneider &#39;, &#39; &quot;138&quot;&#39;]\n19 [&#39; numDefenseWinStandard &#39;, &#39; &quot;1128&quot;&#39;]\n20 [&#39; numOffenseLoseNoTrick &#39;, &#39; &quot;0&quot;&#39;]\n21 [&#39; numOffenseLoseNoSchneider &#39;, &#39; &quot;11&quot;&#39;]\n22 [&#39; numOffenseLoseStandard &#39;, &#39; &quot;89&quot;&#39;]\n23 [&#39; numDefenseLoseNoTrick &#39;, &#39; &quot;510&quot;&#39;]\n24 [&#39; numDefenseLoseNoSchneider &#39;, &#39; &quot;1216&quot;&#39;]\n25 [&#39; numDefenseLoseStandard &#39;, &#39; &quot;1978&quot;&#39;]\n26 [&#39; numAbandonedHands &#39;, &#39; &quot;0&quot;&#39;]\n27 [&#39; lifetime_score &#39;, &#39; &quot;1340&quot;&#39;]\n28 [&#39; numCrackWon &#39;, &#39; &quot;146&quot;&#39;]\n29 [&#39; numDefenseBlackCrackWon &#39;, &#39; &quot;25&quot;&#39;]\n30 [&#39; numDefenseRedCrackWon &#39;, &#39; &quot;14&quot;&#39;]\n31 [&#39; numDefenseCracksWon &#39;, &#39; &quot;0&quot;&#39;]\n32 [&#39; numOffenseBlackCrackWon &#39;, &#39; &quot;&quot;&#39;]\n33 [&#39; numOffenseRedCrackWon &#39;, &#39; &quot;0&quot;&#39;]\n34 [&#39; numOffenseCrackWon &#39;, &#39; &quot;15&quot;&#39;]\n35 [&#39; numPickWon &#39;, &#39; &quot;1274&quot;&#39;]\n36 [&#39; numRedBlitzWon &#39;, &#39; &quot;&quot;&#39;]\n37 [&#39; numBlackBlitzWon &#39;, &#39; &quot;199&quot;&#39;]\n38 [&#39; numPickedJDWon &#39;, &#39; &quot;49&quot;&#39;]\n39 [&#39; numPickedJDWon &#39;, &#39; &quot;69&quot;&#39;]\n40 [&#39; numHands_daily &#39;, &#39; &quot;48&quot;&#39;]\n41 [&#39; numCracks_daily &#39;, &#39; &quot;3&quot;&#39;]\n42 [&#39; numDefenseBlackCracks_daily &#39;, &#39; &quot;1&quot;&#39;]\n43 [&#39; numDefenseRedCracks_daily &#39;, &#39; &quot;0&quot;&#39;]\n44 [&#39; numDefenseCracks_daily &#39;, &#39; &quot;3&quot;&#39;]\n45 [&#39; numOffenseBlackCracks_daily &#39;, &#39; &quot;0&quot;&#39;]\n46 [&#39; numOffenseRedCracks_daily &#39;, &#39; &quot;0&quot;&#39;]\n47 [&#39; numOffenseCracks_daily &#39;, &#39; &quot;0&quot;&#39;]\n48 [&#39; numPicks_daily &#39;, &#39; &quot;6&quot;&#39;]\n49 [&#39; numRedBlitz_daily &#39;, &#39; &quot;1&quot;&#39;]\n50 [&#39; numBlackBlitz_daily &#39;, &#39; &quot;4&quot;&#39;]\n51 [&#39; numPickedJD_daily &#39;, &#39; &quot;0&quot;&#39;]\n52 [&#39; numPickedWithJD_daily &#39;, &#39; &quot;0&quot;&#39;]\n53 [&#39; numOffenseWinNoTrick_daily &#39;, &#39; &quot;0&quot;&#39;]\n54 [&#39; numOffenseWinNoSchneider_daily &#39;, &#39; &quot;8&quot;&#39;]\n55 [&#39; numOffenseWinStandard_daily &#39;, &#39; &quot;5&quot;&#39;]\n56 [&#39; numDefenseWinNoTrick_daily &#39;, &#39; &quot;0&quot;&#39;]\n57 [&#39; numDefenseWinNoSchneider_daily &#39;, &#39; &quot;2&quot;&#39;]\n58 [&#39; numDefenseWinStandard_daily &#39;, &#39; &quot;4&quot;&#39;]\n59 [&#39; numOffenseLoseNoTrick_daily &#39;, &#39; &quot;0&quot;&#39;]\n60 [&#39; numOffenseLoseNoSchneider_daily &#39;, &#39; &quot;0&quot;&#39;]\n61 [&#39; numOffenseLoseStandard_daily &#39;, &#39; &quot;0&quot;&#39;]\n62 [&#39; numDefenseLoseNoTrick_daily &#39;, &#39; &quot;3&quot;&#39;]\n63 [&#39; numDefenseLoseNoSchneider_daily &#39;, &#39; &quot;6&quot;&#39;]\n64 [&#39; numDefenseLoseStandard_daily &#39;, &#39; &quot;19&quot;&#39;]\n65 [&#39; numAbandonedHands_daily &#39;, &#39; &quot;0&quot;&#39;]\n66 [&#39; daily_score &#39;, &#39; &quot;-2&quot;&#39;]\n67 [&#39; numCrackWon_daily &#39;, &#39; &quot;2&quot;&#39;]\n68 [&#39; numDefenseBlackCrackWon_daily &#39;, &#39; &quot;0&quot;&#39;]\n69 [&#39; numDefenseRedCrackWon_daily &#39;, &#39; &quot;0&quot;&#39;]\n70 [&#39; numDefenseCracksWon_daily &#39;, &#39; &quot;0&quot;&#39;]\n71 [&#39; numOffenseBlackCrackWon_daily &#39;, &#39; &quot;&quot;&#39;]\n72 [&#39; numOffenseRedCrackWon_daily &#39;, &#39; &quot;0&quot;&#39;]\n73 [&#39; numOffenseCrackWon_daily &#39;, &#39; &quot;0&quot;&#39;]\n74 [&#39; numPickWon_daily &#39;, &#39; &quot;5&quot;&#39;]\n75 [&#39; numRedBlitzWon_daily &#39;, &#39; &quot;&quot;&#39;]\n76 [&#39; numBlackBlitzWon_daily &#39;, &#39; &quot;4&quot;&#39;]\n77 [&#39; numPickedJDWon_daily &#39;, &#39; &quot;0&quot;&#39;]\n78 [&#39; numPickedJDWon_daily &#39;, &#39; &quot;0&quot;&#39;]\n79 [&#39;&#39;]\n"
    }
   ],
   "source": [
    "for i, j in enumerate(c):\n",
    "    print(i, j)"
   ]
  },
  {
   "cell_type": "code",
   "execution_count": 63,
   "metadata": {},
   "outputs": [],
   "source": [
    "df = pd.DataFrame.from_records(c)"
   ]
  },
  {
   "cell_type": "code",
   "execution_count": 64,
   "metadata": {},
   "outputs": [
    {
     "output_type": "execute_result",
     "data": {
      "text/plain": "                           0          1\n0                  numHands      &quot;8008&quot;\n1               screen_name    &quot;Denman&quot;\n2                 numCracks       &quot;212&quot;\n3     numDefenseBlackCracks        &quot;30&quot;\n4       numDefenseRedCracks        &quot;19&quot;\n..                       ...        ...\n75     numRedBlitzWon_daily          &quot;&quot;\n76   numBlackBlitzWon_daily         &quot;4&quot;\n77     numPickedJDWon_daily         &quot;0&quot;\n78     numPickedJDWon_daily         &quot;0&quot;\n79                                 None\n\n[80 rows x 2 columns]",
      "text/html": "<div>\n<style scoped>\n    .dataframe tbody tr th:only-of-type {\n        vertical-align: middle;\n    }\n\n    .dataframe tbody tr th {\n        vertical-align: top;\n    }\n\n    .dataframe thead th {\n        text-align: right;\n    }\n</style>\n<table border=\"1\" class=\"dataframe\">\n  <thead>\n    <tr style=\"text-align: right;\">\n      <th></th>\n      <th>0</th>\n      <th>1</th>\n    </tr>\n  </thead>\n  <tbody>\n    <tr>\n      <th>0</th>\n      <td>numHands</td>\n      <td>\"8008\"</td>\n    </tr>\n    <tr>\n      <th>1</th>\n      <td>screen_name</td>\n      <td>\"Denman\"</td>\n    </tr>\n    <tr>\n      <th>2</th>\n      <td>numCracks</td>\n      <td>\"212\"</td>\n    </tr>\n    <tr>\n      <th>3</th>\n      <td>numDefenseBlackCracks</td>\n      <td>\"30\"</td>\n    </tr>\n    <tr>\n      <th>4</th>\n      <td>numDefenseRedCracks</td>\n      <td>\"19\"</td>\n    </tr>\n    <tr>\n      <th>...</th>\n      <td>...</td>\n      <td>...</td>\n    </tr>\n    <tr>\n      <th>75</th>\n      <td>numRedBlitzWon_daily</td>\n      <td>\"\"</td>\n    </tr>\n    <tr>\n      <th>76</th>\n      <td>numBlackBlitzWon_daily</td>\n      <td>\"4\"</td>\n    </tr>\n    <tr>\n      <th>77</th>\n      <td>numPickedJDWon_daily</td>\n      <td>\"0\"</td>\n    </tr>\n    <tr>\n      <th>78</th>\n      <td>numPickedJDWon_daily</td>\n      <td>\"0\"</td>\n    </tr>\n    <tr>\n      <th>79</th>\n      <td></td>\n      <td>None</td>\n    </tr>\n  </tbody>\n</table>\n<p>80 rows × 2 columns</p>\n</div>"
     },
     "metadata": {},
     "execution_count": 64
    }
   ],
   "source": [
    "df"
   ]
  },
  {
   "cell_type": "code",
   "execution_count": 45,
   "metadata": {},
   "outputs": [
    {
     "output_type": "execute_result",
     "data": {
      "text/plain": "           0                  1            2                        3   \\\n0   numHands        screen_name    numCracks    numDefenseBlackCracks    \n1        1316   Riding Lawnmauer           13                        4   \n\n                      4                   5                        6   \\\n0   numDefenseRedCracks    numDefenseCracks    numOffenseBlackCracks    \n1                      3                  10                        0   \n\n                      7                   8           9   ...  \\\n0   numOffenseRedCracks    numOffenseCracks    numPicks   ...   \n1                      1                   3         253  ...   \n\n                            70                               71  \\\n0   numDefenseCracksWon_daily    numOffenseBlackCrackWon_daily    \n1                            0                                    \n\n                              72                          73  \\\n0   numOffenseRedCrackWon_daily    numOffenseCrackWon_daily    \n1                              0                           0   \n\n                   74                      75                        76  \\\n0   numPickWon_daily    numRedBlitzWon_daily    numBlackBlitzWon_daily    \n1                   0                                                 0   \n\n                       77                      78    79  \n0   numPickedJDWon_daily    numPickedJDWon_daily         \n1                       0                       0  None  \n\n[2 rows x 80 columns]",
      "text/html": "<div>\n<style scoped>\n    .dataframe tbody tr th:only-of-type {\n        vertical-align: middle;\n    }\n\n    .dataframe tbody tr th {\n        vertical-align: top;\n    }\n\n    .dataframe thead th {\n        text-align: right;\n    }\n</style>\n<table border=\"1\" class=\"dataframe\">\n  <thead>\n    <tr style=\"text-align: right;\">\n      <th></th>\n      <th>0</th>\n      <th>1</th>\n      <th>2</th>\n      <th>3</th>\n      <th>4</th>\n      <th>5</th>\n      <th>6</th>\n      <th>7</th>\n      <th>8</th>\n      <th>9</th>\n      <th>...</th>\n      <th>70</th>\n      <th>71</th>\n      <th>72</th>\n      <th>73</th>\n      <th>74</th>\n      <th>75</th>\n      <th>76</th>\n      <th>77</th>\n      <th>78</th>\n      <th>79</th>\n    </tr>\n  </thead>\n  <tbody>\n    <tr>\n      <th>0</th>\n      <td>numHands</td>\n      <td>screen_name</td>\n      <td>numCracks</td>\n      <td>numDefenseBlackCracks</td>\n      <td>numDefenseRedCracks</td>\n      <td>numDefenseCracks</td>\n      <td>numOffenseBlackCracks</td>\n      <td>numOffenseRedCracks</td>\n      <td>numOffenseCracks</td>\n      <td>numPicks</td>\n      <td>...</td>\n      <td>numDefenseCracksWon_daily</td>\n      <td>numOffenseBlackCrackWon_daily</td>\n      <td>numOffenseRedCrackWon_daily</td>\n      <td>numOffenseCrackWon_daily</td>\n      <td>numPickWon_daily</td>\n      <td>numRedBlitzWon_daily</td>\n      <td>numBlackBlitzWon_daily</td>\n      <td>numPickedJDWon_daily</td>\n      <td>numPickedJDWon_daily</td>\n      <td></td>\n    </tr>\n    <tr>\n      <th>1</th>\n      <td>1316</td>\n      <td>Riding Lawnmauer</td>\n      <td>13</td>\n      <td>4</td>\n      <td>3</td>\n      <td>10</td>\n      <td>0</td>\n      <td>1</td>\n      <td>3</td>\n      <td>253</td>\n      <td>...</td>\n      <td>0</td>\n      <td></td>\n      <td>0</td>\n      <td>0</td>\n      <td>0</td>\n      <td></td>\n      <td>0</td>\n      <td>0</td>\n      <td>0</td>\n      <td>None</td>\n    </tr>\n  </tbody>\n</table>\n<p>2 rows × 80 columns</p>\n</div>"
     },
     "metadata": {},
     "execution_count": 45
    }
   ],
   "source": [
    "df[1] = df[1].str.replace('\"', '')\n",
    "df.T"
   ]
  },
  {
   "cell_type": "code",
   "execution_count": null,
   "metadata": {},
   "outputs": [],
   "source": []
  },
  {
   "cell_type": "code",
   "execution_count": null,
   "metadata": {},
   "outputs": [],
   "source": []
  }
 ],
 "metadata": {
  "kernelspec": {
   "name": "Python 3.8.3 64-bit ('metis': conda)",
   "display_name": "Python 3.8.3 64-bit ('metis': conda)",
   "metadata": {
    "interpreter": {
     "hash": "e94c15d6dbef08e95baaf638ff93666d2390f58e0c4317ae3b2bf35ecad0e12e"
    }
   }
  },
  "language_info": {
   "codemirror_mode": {
    "name": "ipython",
    "version": 3
   },
   "file_extension": ".py",
   "mimetype": "text/x-python",
   "name": "python",
   "nbconvert_exporter": "python",
   "pygments_lexer": "ipython3",
   "version": "3.8.3-final"
  }
 },
 "nbformat": 4,
 "nbformat_minor": 4
}