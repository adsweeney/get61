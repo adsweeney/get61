{
 "metadata": {
  "language_info": {
   "codemirror_mode": {
    "name": "ipython",
    "version": 3
   },
   "file_extension": ".py",
   "mimetype": "text/x-python",
   "name": "python",
   "nbconvert_exporter": "python",
   "pygments_lexer": "ipython3",
   "version": "3.7.6-final"
  },
  "orig_nbformat": 2,
  "kernelspec": {
   "name": "python3",
   "display_name": "Python 3.7.6 64-bit ('base': conda)",
   "metadata": {
    "interpreter": {
     "hash": "207152898ed618296f9de2b3f404e2dfc752ef6405f0578730932ead90b0e5ad"
    }
   }
  }
 },
 "nbformat": 4,
 "nbformat_minor": 2,
 "cells": [
  {
   "cell_type": "code",
   "execution_count": 1,
   "metadata": {},
   "outputs": [],
   "source": [
    "from bs4 import BeautifulSoup\n",
    "import requests\n",
    "# import time, os\n",
    "import re\n",
    "# import urllib\n",
    "# import json\n",
    "# from selenium import webdriver\n",
    "# from selenium.webdriver.common.keys import Keys\n",
    "import pandas as pd\n",
    "from datetime import datetime\n",
    "import numpy as np\n",
    "import itertools"
   ]
  },
  {
   "source": [
    "## Setup"
   ],
   "cell_type": "markdown",
   "metadata": {}
  },
  {
   "cell_type": "code",
   "execution_count": 8,
   "metadata": {},
   "outputs": [],
   "source": [
    "multipliers = dict(default = 1, no_schneider = 2, no_trick = 3, dob = 2, doubler = 2, blitz = 2, crack = 2, crack_back = 2, rb_crack = 4, base = 1, picker = 2)"
   ]
  },
  {
   "cell_type": "code",
   "execution_count": 9,
   "metadata": {},
   "outputs": [],
   "source": [
    "mult = multipliers"
   ]
  },
  {
   "cell_type": "code",
   "execution_count": 3,
   "metadata": {},
   "outputs": [],
   "source": [
    "hearts = [str(i).replace('11', 'J').replace('12', 'Q').replace('13', 'K').replace('14', 'A') + 'H' for i in range(7,15)]\n",
    "clubs = [str(i).replace('11', 'J').replace('12', 'Q').replace('13', 'K').replace('14', 'A')  + 'D' for i in range(7,15)]\n",
    "spades = [str(i).replace('11', 'J').replace('12', 'Q').replace('13', 'K').replace('14', 'A')  + 'S' for i in range(7,15)]\n",
    "diamonds = [str(i).replace('11', 'J').replace('12', 'Q').replace('13', 'K').replace('14', 'A')  + 'D' for i in range(7,15)]\n"
   ]
  },
  {
   "cell_type": "code",
   "execution_count": 4,
   "metadata": {},
   "outputs": [],
   "source": [
    "allcards = hearts + clubs + spades + diamonds\n",
    "values = [0, 0, 0, 10, 2, 3, 4, 11, 0, 0, 0, 10, 2, 3, 4, 11, 0, 0, 0, 10, 2, 3, 4, 11, 0, 0, 0, 10, 2, 3, 4, 11]"
   ]
  },
  {
   "cell_type": "code",
   "execution_count": 5,
   "metadata": {},
   "outputs": [],
   "source": [
    "pointvalues = dict(zip(allcards, values))"
   ]
  },
  {
   "cell_type": "code",
   "execution_count": 18,
   "metadata": {},
   "outputs": [],
   "source": [
    "picker = 2\n",
    "norm = 1\n",
    "ns = 2"
   ]
  },
  {
   "cell_type": "code",
   "execution_count": 27,
   "metadata": {},
   "outputs": [
    {
     "output_type": "execute_result",
     "data": {
      "text/plain": [
       "64"
      ]
     },
     "metadata": {},
     "execution_count": 27
    }
   ],
   "source": [
    "picker * ns * mult['blitz'] * mult['doubler'] * mult['crack'] * mult['crack_back']"
   ]
  },
  {
   "cell_type": "code",
   "execution_count": null,
   "metadata": {},
   "outputs": [],
   "source": []
  },
  {
   "cell_type": "code",
   "execution_count": 28,
   "metadata": {},
   "outputs": [
    {
     "output_type": "execute_result",
     "data": {
      "text/plain": [
       "128"
      ]
     },
     "metadata": {},
     "execution_count": 28
    }
   ],
   "source": [
    "picker * ns * mult['dob'] * mult['blitz'] * mult['doubler'] * mult['crack'] * mult['crack_back']"
   ]
  },
  {
   "source": [
    "## Scrape"
   ],
   "cell_type": "markdown",
   "metadata": {}
  },
  {
   "cell_type": "code",
   "execution_count": 6,
   "metadata": {},
   "outputs": [],
   "source": [
    "site = 'https://get61.com/hand_detail?handid=2268734'\n",
    "page = requests.get(site).text\n",
    "soup = BeautifulSoup(page, 'html5lib')"
   ]
  },
  {
   "cell_type": "code",
   "execution_count": 7,
   "metadata": {},
   "outputs": [],
   "source": [
    "cardre = re.compile('var play11')\n",
    "cards = soup.find(text=cardre)\n",
    "raw_rows = cards.split(';')\n",
    "\n",
    "b = raw_rows[0].split(' ')"
   ]
  },
  {
   "cell_type": "code",
   "execution_count": 8,
   "metadata": {},
   "outputs": [
    {
     "output_type": "execute_result",
     "data": {
      "text/plain": "[&#39;\\nvar&#39;, &#39;play12&#39;, &#39;=&#39;, &#39;&quot;14C&quot;&#39;]"
     },
     "metadata": {},
     "execution_count": 8
    }
   ],
   "source": [
    "hand_stats = [i.split(' ') for i in raw_rows]\n",
    "hand_stats[1]"
   ]
  },
  {
   "cell_type": "code",
   "execution_count": 9,
   "metadata": {},
   "outputs": [],
   "source": [
    "playnum = [hand_stats[i][1] for i in range(30)]\n",
    "plays = [hand_stats[i][3].replace('\"', '').replace('11', 'J').replace('12', 'Q').replace('13', 'K').replace('14', 'A') for i in range(30)]"
   ]
  },
  {
   "cell_type": "code",
   "execution_count": 10,
   "metadata": {},
   "outputs": [],
   "source": [
    "leads = [int(hand_stats[i][3].replace('\"', '')) for i in range(30, 36)]\n",
    "scores = [int(hand_stats[i][3].replace('\"', '')) for i in range(41, 46)]\n",
    "bury = [hand_stats[i][3].replace('\"', '').replace('11', 'J').replace('12', 'Q').replace('13', 'K').replace('14', 'A') for i in range(46,48)]\n",
    "blind = [hand_stats[i][3].replace('\"', '').replace('11', 'J').replace('12', 'Q').replace('13', 'K').replace('14', 'A') for i in range(48,50)]"
   ]
  },
  {
   "cell_type": "code",
   "execution_count": 11,
   "metadata": {},
   "outputs": [],
   "source": [
    "# get names\n",
    "nameslist = [row.split('=') for row in raw_rows[36:41]]\n",
    "names = [nameslist[row][1].strip().replace('\"', '') for row in range(5)]\n"
   ]
  },
  {
   "cell_type": "code",
   "execution_count": 12,
   "metadata": {},
   "outputs": [],
   "source": [
    "namescol = []\n",
    "for i in names:\n",
    "    namescol.extend([i] * 6)"
   ]
  },
  {
   "cell_type": "code",
   "execution_count": 13,
   "metadata": {},
   "outputs": [],
   "source": [
    "# playnum, plays, names, leads, scores, bury, blind\n",
    "df = pd.DataFrame(playnum)\n",
    "df.columns = ['playnum']\n",
    "df['plays'] = plays\n",
    "df['name'] = namescol"
   ]
  },
  {
   "cell_type": "code",
   "execution_count": 14,
   "metadata": {},
   "outputs": [],
   "source": [
    "n = [1, 2, 3, 4, 5, 6]\n",
    "trickloop = n* 5\n",
    "#tricknums = [[str(i)] * 6 for i in range(1,7)]\n",
    "#tricknums = list(itertools.chain.from_iterable(tricknums))\n",
    "trickydic = dict(zip(playnum, trickloop))\n",
    "df['trick'] = df['playnum'].map(trickydic)"
   ]
  },
  {
   "cell_type": "code",
   "execution_count": 15,
   "metadata": {},
   "outputs": [],
   "source": [
    "positions = [1, 2, 3, 4, 5]\n",
    "posdic = dict(zip(names, positions))\n",
    "df['position'] = df['name'].map(posdic)"
   ]
  },
  {
   "cell_type": "code",
   "execution_count": 16,
   "metadata": {},
   "outputs": [],
   "source": [
    "leadadj = [i + 1 for i in leads]\n",
    "\n",
    "leadcond = [\n",
    "    (df['trick'] == 1),\n",
    "    (df['trick'] == 2),\n",
    "    (df['trick'] == 3),\n",
    "    (df['trick'] == 4),\n",
    "    (df['trick'] == 5),\n",
    "    (df['trick'] == 6)\n",
    "]\n",
    "values = [leadadj]\n",
    "df['leader'] = np.select(leadcond, leadadj)\n"
   ]
  },
  {
   "cell_type": "code",
   "execution_count": 46,
   "metadata": {},
   "outputs": [
    {
     "output_type": "execute_result",
     "data": {
      "text/plain": "[&#39;10H&#39;, &#39;AC&#39;, &#39;QH&#39;, &#39;KC&#39;, &#39;9S&#39;, &#39;AH&#39;]"
     },
     "metadata": {},
     "execution_count": 46
    }
   ],
   "source": [
    "handpos1 = (df['name'] == names[0])\n",
    "p = df[hands]\n",
    "list(p['plays'])"
   ]
  },
  {
   "cell_type": "code",
   "execution_count": 64,
   "metadata": {},
   "outputs": [],
   "source": [
    "handpos1 = list(df[df['name'] == names[0]]['plays'])\n",
    "handpos2 = list(df[df['name'] == names[1]]['plays'])\n",
    "handpos3 = list(df[df['name'] == names[2]]['plays'])\n",
    "handpos4 = list(df[df['name'] == names[3]]['plays'])\n",
    "handpos5 = list(df[df['name'] == names[4]]['plays'])"
   ]
  },
  {
   "cell_type": "code",
   "execution_count": 57,
   "metadata": {
    "tags": []
   },
   "outputs": [
    {
     "output_type": "stream",
     "name": "stdout",
     "text": "[&#39;10H&#39;, &#39;AC&#39;, &#39;QH&#39;, &#39;KC&#39;, &#39;9S&#39;, &#39;AH&#39;] Bert Olson\n[&#39;7H&#39;, &#39;8H&#39;, &#39;JC&#39;, &#39;10S&#39;, &#39;QC&#39;, &#39;8S&#39;] Woller\n[&#39;9H&#39;, &#39;7C&#39;, &#39;JD&#39;, &#39;7D&#39;, &#39;KD&#39;, &#39;10D&#39;] Best Looking Guy in the WVC\n[&#39;QD&#39;, &#39;8C&#39;, &#39;QS&#39;, &#39;9C&#39;, &#39;7S&#39;, &#39;KS&#39;] 3SheepsToTheWind\n[&#39;KH&#39;, &#39;AD&#39;, &#39;8D&#39;, &#39;JS&#39;, &#39;9D&#39;, &#39;JH&#39;] KingCrab\n"
    }
   ],
   "source": [
    "print(handpos1, names[0])\n",
    "print(handpos2, names[1])\n",
    "print(handpos3, names[2])\n",
    "print(handpos4, names[3])\n",
    "print(handpos5, names[4])"
   ]
  },
  {
   "cell_type": "code",
   "execution_count": 59,
   "metadata": {},
   "outputs": [
    {
     "output_type": "execute_result",
     "data": {
      "text/plain": "24    KH\n25    AD\n26    8D\n27    JS\n28    9D\n29    JH\nName: plays, dtype: object"
     },
     "metadata": {},
     "execution_count": 59
    }
   ],
   "source": [
    "handposfive = df[df['name'] == names[4]]['plays']\n",
    "handposfive"
   ]
  },
  {
   "cell_type": "code",
   "execution_count": 58,
   "metadata": {},
   "outputs": [
    {
     "output_type": "execute_result",
     "data": {
      "text/plain": "[2, 2, -2, -4, 2]"
     },
     "metadata": {},
     "execution_count": 58
    }
   ],
   "source": [
    "scores"
   ]
  },
  {
   "cell_type": "code",
   "execution_count": 31,
   "metadata": {},
   "outputs": [
    {
     "output_type": "execute_result",
     "data": {
      "text/plain": "   playnum plays                         name  trick  position  leader\n0   play11   10H                   Bert Olson      1         1       5\n6   play21    7H                       Woller      1         2       5\n12  play31    9H  Best Looking Guy in the WVC      1         3       5\n18  play41    QD             3SheepsToTheWind      1         4       5\n24  play51    KH                     KingCrab      1         5       5\n1   play12    AC                   Bert Olson      2         1       4\n7   play22    8H                       Woller      2         2       4\n13  play32    7C  Best Looking Guy in the WVC      2         3       4\n19  play42    8C             3SheepsToTheWind      2         4       4\n25  play52    AD                     KingCrab      2         5       4\n2   play13    QH                   Bert Olson      3         1       5\n8   play23    JC                       Woller      3         2       5\n14  play33    JD  Best Looking Guy in the WVC      3         3       5\n20  play43    QS             3SheepsToTheWind      3         4       5\n26  play53    8D                     KingCrab      3         5       5\n3   play14    KC                   Bert Olson      4         1       4\n9   play24   10S                       Woller      4         2       4\n15  play34    7D  Best Looking Guy in the WVC      4         3       4\n21  play44    9C             3SheepsToTheWind      4         4       4\n27  play54    JS                     KingCrab      4         5       4\n4   play15    9S                   Bert Olson      5         1       5\n10  play25    QC                       Woller      5         2       5\n16  play35    KD  Best Looking Guy in the WVC      5         3       5\n22  play45    7S             3SheepsToTheWind      5         4       5\n28  play55    9D                     KingCrab      5         5       5\n5   play16    AH                   Bert Olson      6         1       2\n11  play26    8S                       Woller      6         2       2\n17  play36   10D  Best Looking Guy in the WVC      6         3       2\n23  play46    KS             3SheepsToTheWind      6         4       2\n29  play56    JH                     KingCrab      6         5       2",
      "text/html": "<div>\n<style scoped>\n    .dataframe tbody tr th:only-of-type {\n        vertical-align: middle;\n    }\n\n    .dataframe tbody tr th {\n        vertical-align: top;\n    }\n\n    .dataframe thead th {\n        text-align: right;\n    }\n</style>\n<table border=\"1\" class=\"dataframe\">\n  <thead>\n    <tr style=\"text-align: right;\">\n      <th></th>\n      <th>playnum</th>\n      <th>plays</th>\n      <th>name</th>\n      <th>trick</th>\n      <th>position</th>\n      <th>leader</th>\n    </tr>\n  </thead>\n  <tbody>\n    <tr>\n      <th>0</th>\n      <td>play11</td>\n      <td>10H</td>\n      <td>Bert Olson</td>\n      <td>1</td>\n      <td>1</td>\n      <td>5</td>\n    </tr>\n    <tr>\n      <th>6</th>\n      <td>play21</td>\n      <td>7H</td>\n      <td>Woller</td>\n      <td>1</td>\n      <td>2</td>\n      <td>5</td>\n    </tr>\n    <tr>\n      <th>12</th>\n      <td>play31</td>\n      <td>9H</td>\n      <td>Best Looking Guy in the WVC</td>\n      <td>1</td>\n      <td>3</td>\n      <td>5</td>\n    </tr>\n    <tr>\n      <th>18</th>\n      <td>play41</td>\n      <td>QD</td>\n      <td>3SheepsToTheWind</td>\n      <td>1</td>\n      <td>4</td>\n      <td>5</td>\n    </tr>\n    <tr>\n      <th>24</th>\n      <td>play51</td>\n      <td>KH</td>\n      <td>KingCrab</td>\n      <td>1</td>\n      <td>5</td>\n      <td>5</td>\n    </tr>\n    <tr>\n      <th>1</th>\n      <td>play12</td>\n      <td>AC</td>\n      <td>Bert Olson</td>\n      <td>2</td>\n      <td>1</td>\n      <td>4</td>\n    </tr>\n    <tr>\n      <th>7</th>\n      <td>play22</td>\n      <td>8H</td>\n      <td>Woller</td>\n      <td>2</td>\n      <td>2</td>\n      <td>4</td>\n    </tr>\n    <tr>\n      <th>13</th>\n      <td>play32</td>\n      <td>7C</td>\n      <td>Best Looking Guy in the WVC</td>\n      <td>2</td>\n      <td>3</td>\n      <td>4</td>\n    </tr>\n    <tr>\n      <th>19</th>\n      <td>play42</td>\n      <td>8C</td>\n      <td>3SheepsToTheWind</td>\n      <td>2</td>\n      <td>4</td>\n      <td>4</td>\n    </tr>\n    <tr>\n      <th>25</th>\n      <td>play52</td>\n      <td>AD</td>\n      <td>KingCrab</td>\n      <td>2</td>\n      <td>5</td>\n      <td>4</td>\n    </tr>\n    <tr>\n      <th>2</th>\n      <td>play13</td>\n      <td>QH</td>\n      <td>Bert Olson</td>\n      <td>3</td>\n      <td>1</td>\n      <td>5</td>\n    </tr>\n    <tr>\n      <th>8</th>\n      <td>play23</td>\n      <td>JC</td>\n      <td>Woller</td>\n      <td>3</td>\n      <td>2</td>\n      <td>5</td>\n    </tr>\n    <tr>\n      <th>14</th>\n      <td>play33</td>\n      <td>JD</td>\n      <td>Best Looking Guy in the WVC</td>\n      <td>3</td>\n      <td>3</td>\n      <td>5</td>\n    </tr>\n    <tr>\n      <th>20</th>\n      <td>play43</td>\n      <td>QS</td>\n      <td>3SheepsToTheWind</td>\n      <td>3</td>\n      <td>4</td>\n      <td>5</td>\n    </tr>\n    <tr>\n      <th>26</th>\n      <td>play53</td>\n      <td>8D</td>\n      <td>KingCrab</td>\n      <td>3</td>\n      <td>5</td>\n      <td>5</td>\n    </tr>\n    <tr>\n      <th>3</th>\n      <td>play14</td>\n      <td>KC</td>\n      <td>Bert Olson</td>\n      <td>4</td>\n      <td>1</td>\n      <td>4</td>\n    </tr>\n    <tr>\n      <th>9</th>\n      <td>play24</td>\n      <td>10S</td>\n      <td>Woller</td>\n      <td>4</td>\n      <td>2</td>\n      <td>4</td>\n    </tr>\n    <tr>\n      <th>15</th>\n      <td>play34</td>\n      <td>7D</td>\n      <td>Best Looking Guy in the WVC</td>\n      <td>4</td>\n      <td>3</td>\n      <td>4</td>\n    </tr>\n    <tr>\n      <th>21</th>\n      <td>play44</td>\n      <td>9C</td>\n      <td>3SheepsToTheWind</td>\n      <td>4</td>\n      <td>4</td>\n      <td>4</td>\n    </tr>\n    <tr>\n      <th>27</th>\n      <td>play54</td>\n      <td>JS</td>\n      <td>KingCrab</td>\n      <td>4</td>\n      <td>5</td>\n      <td>4</td>\n    </tr>\n    <tr>\n      <th>4</th>\n      <td>play15</td>\n      <td>9S</td>\n      <td>Bert Olson</td>\n      <td>5</td>\n      <td>1</td>\n      <td>5</td>\n    </tr>\n    <tr>\n      <th>10</th>\n      <td>play25</td>\n      <td>QC</td>\n      <td>Woller</td>\n      <td>5</td>\n      <td>2</td>\n      <td>5</td>\n    </tr>\n    <tr>\n      <th>16</th>\n      <td>play35</td>\n      <td>KD</td>\n      <td>Best Looking Guy in the WVC</td>\n      <td>5</td>\n      <td>3</td>\n      <td>5</td>\n    </tr>\n    <tr>\n      <th>22</th>\n      <td>play45</td>\n      <td>7S</td>\n      <td>3SheepsToTheWind</td>\n      <td>5</td>\n      <td>4</td>\n      <td>5</td>\n    </tr>\n    <tr>\n      <th>28</th>\n      <td>play55</td>\n      <td>9D</td>\n      <td>KingCrab</td>\n      <td>5</td>\n      <td>5</td>\n      <td>5</td>\n    </tr>\n    <tr>\n      <th>5</th>\n      <td>play16</td>\n      <td>AH</td>\n      <td>Bert Olson</td>\n      <td>6</td>\n      <td>1</td>\n      <td>2</td>\n    </tr>\n    <tr>\n      <th>11</th>\n      <td>play26</td>\n      <td>8S</td>\n      <td>Woller</td>\n      <td>6</td>\n      <td>2</td>\n      <td>2</td>\n    </tr>\n    <tr>\n      <th>17</th>\n      <td>play36</td>\n      <td>10D</td>\n      <td>Best Looking Guy in the WVC</td>\n      <td>6</td>\n      <td>3</td>\n      <td>2</td>\n    </tr>\n    <tr>\n      <th>23</th>\n      <td>play46</td>\n      <td>KS</td>\n      <td>3SheepsToTheWind</td>\n      <td>6</td>\n      <td>4</td>\n      <td>2</td>\n    </tr>\n    <tr>\n      <th>29</th>\n      <td>play56</td>\n      <td>JH</td>\n      <td>KingCrab</td>\n      <td>6</td>\n      <td>5</td>\n      <td>2</td>\n    </tr>\n  </tbody>\n</table>\n</div>"
     },
     "metadata": {},
     "execution_count": 31
    }
   ],
   "source": [
    "ordereddf = df.sort_values(by=['trick', 'position'])\n",
    "#df.sort_index()\n",
    "#df.sort_values(by='playnum')\n",
    "ordereddf"
   ]
  },
  {
   "cell_type": "code",
   "execution_count": null,
   "metadata": {},
   "outputs": [],
   "source": []
  },
  {
   "cell_type": "code",
   "execution_count": 35,
   "metadata": {},
   "outputs": [
    {
     "output_type": "error",
     "ename": "AttributeError",
     "evalue": "&#39;DataFrameGroupBy&#39; object has no attribute &#39;reset_index&#39;",
     "traceback": [
      "\u001b[0;31m---------------------------------------------------------------------------\u001b[0m",
      "\u001b[0;31mAttributeError\u001b[0m                            Traceback (most recent call last)",
      "\u001b[0;32m&lt;ipython-input-35-2aaeac54c756&gt;\u001b[0m in \u001b[0;36m&lt;module&gt;\u001b[0;34m\u001b[0m\n\u001b[0;32m----&gt; 1\u001b[0;31m \u001b[0mgr\u001b[0m \u001b[0;34m=\u001b[0m \u001b[0mordereddf\u001b[0m\u001b[0;34m.\u001b[0m\u001b[0mgroupby\u001b[0m\u001b[0;34m(\u001b[0m\u001b[0;34m[\u001b[0m\u001b[0;34m&#39;trick&#39;\u001b[0m\u001b[0;34m]\u001b[0m\u001b[0;34m)\u001b[0m\u001b[0;34m.\u001b[0m\u001b[0mreset_index\u001b[0m\u001b[0;34m(\u001b[0m\u001b[0;34m)\u001b[0m\u001b[0;34m\u001b[0m\u001b[0;34m\u001b[0m\u001b[0m\n\u001b[0m",
      "\u001b[0;32m~/opt/anaconda3/lib/python3.7/site-packages/pandas/core/groupby/groupby.py\u001b[0m in \u001b[0;36m__getattr__\u001b[0;34m(self, attr)\u001b[0m\n\u001b[1;32m    578\u001b[0m \u001b[0;34m\u001b[0m\u001b[0m\n\u001b[1;32m    579\u001b[0m         raise AttributeError(\n\u001b[0;32m--&gt; 580\u001b[0;31m             \u001b[0;34mf&quot;&#39;{type(self).__name__}&#39; object has no attribute &#39;{attr}&#39;&quot;\u001b[0m\u001b[0;34m\u001b[0m\u001b[0;34m\u001b[0m\u001b[0m\n\u001b[0m\u001b[1;32m    581\u001b[0m         )\n\u001b[1;32m    582\u001b[0m \u001b[0;34m\u001b[0m\u001b[0m\n",
      "\u001b[0;31mAttributeError\u001b[0m: &#39;DataFrameGroupBy&#39; object has no attribute &#39;reset_index&#39;"
     ]
    }
   ],
   "source": [
    "gr = ordereddf.groupby(['trick']).reset_index()"
   ]
  },
  {
   "cell_type": "code",
   "execution_count": 34,
   "metadata": {},
   "outputs": [
    {
     "output_type": "execute_result",
     "data": {
      "text/plain": "   trick  playnum  plays  name  position  leader\n0      1        5      5     5         5       5\n1      2        5      5     5         5       5\n2      3        5      5     5         5       5\n3      4        5      5     5         5       5\n4      5        5      5     5         5       5\n5      6        5      5     5         5       5",
      "text/html": "<div>\n<style scoped>\n    .dataframe tbody tr th:only-of-type {\n        vertical-align: middle;\n    }\n\n    .dataframe tbody tr th {\n        vertical-align: top;\n    }\n\n    .dataframe thead th {\n        text-align: right;\n    }\n</style>\n<table border=\"1\" class=\"dataframe\">\n  <thead>\n    <tr style=\"text-align: right;\">\n      <th></th>\n      <th>trick</th>\n      <th>playnum</th>\n      <th>plays</th>\n      <th>name</th>\n      <th>position</th>\n      <th>leader</th>\n    </tr>\n  </thead>\n  <tbody>\n    <tr>\n      <th>0</th>\n      <td>1</td>\n      <td>5</td>\n      <td>5</td>\n      <td>5</td>\n      <td>5</td>\n      <td>5</td>\n    </tr>\n    <tr>\n      <th>1</th>\n      <td>2</td>\n      <td>5</td>\n      <td>5</td>\n      <td>5</td>\n      <td>5</td>\n      <td>5</td>\n    </tr>\n    <tr>\n      <th>2</th>\n      <td>3</td>\n      <td>5</td>\n      <td>5</td>\n      <td>5</td>\n      <td>5</td>\n      <td>5</td>\n    </tr>\n    <tr>\n      <th>3</th>\n      <td>4</td>\n      <td>5</td>\n      <td>5</td>\n      <td>5</td>\n      <td>5</td>\n      <td>5</td>\n    </tr>\n    <tr>\n      <th>4</th>\n      <td>5</td>\n      <td>5</td>\n      <td>5</td>\n      <td>5</td>\n      <td>5</td>\n      <td>5</td>\n    </tr>\n    <tr>\n      <th>5</th>\n      <td>6</td>\n      <td>5</td>\n      <td>5</td>\n      <td>5</td>\n      <td>5</td>\n      <td>5</td>\n    </tr>\n  </tbody>\n</table>\n</div>"
     },
     "metadata": {},
     "execution_count": 34
    }
   ],
   "source": [
    "gr"
   ]
  },
  {
   "cell_type": "code",
   "execution_count": 66,
   "metadata": {},
   "outputs": [
    {
     "output_type": "execute_result",
     "data": {
      "text/plain": "[[&#39;10H&#39;, &#39;AC&#39;, &#39;QH&#39;, &#39;KC&#39;, &#39;9S&#39;, &#39;AH&#39;],\n [&#39;7H&#39;, &#39;8H&#39;, &#39;JC&#39;, &#39;10S&#39;, &#39;QC&#39;, &#39;8S&#39;],\n [&#39;9H&#39;, &#39;7C&#39;, &#39;JD&#39;, &#39;7D&#39;, &#39;KD&#39;, &#39;10D&#39;],\n [&#39;QD&#39;, &#39;8C&#39;, &#39;QS&#39;, &#39;9C&#39;, &#39;7S&#39;, &#39;KS&#39;],\n [&#39;KH&#39;, &#39;AD&#39;, &#39;8D&#39;, &#39;JS&#39;, &#39;9D&#39;, &#39;JH&#39;]]"
     },
     "metadata": {},
     "execution_count": 66
    }
   ],
   "source": [
    "allhands = [handpos1] + [handpos2] + [handpos3] + [handpos4] + [handpos5]\n",
    "\n",
    "allhands"
   ]
  },
  {
   "cell_type": "code",
   "execution_count": 67,
   "metadata": {},
   "outputs": [],
   "source": [
    "table = pd.DataFrame(allhands, columns =[1, 2, 3, 4, 5, 6])"
   ]
  },
  {
   "cell_type": "code",
   "execution_count": 68,
   "metadata": {},
   "outputs": [
    {
     "output_type": "execute_result",
     "data": {
      "text/plain": "     1   2   3    4   5    6\n0  10H  AC  QH   KC  9S   AH\n1   7H  8H  JC  10S  QC   8S\n2   9H  7C  JD   7D  KD  10D\n3   QD  8C  QS   9C  7S   KS\n4   KH  AD  8D   JS  9D   JH",
      "text/html": "<div>\n<style scoped>\n    .dataframe tbody tr th:only-of-type {\n        vertical-align: middle;\n    }\n\n    .dataframe tbody tr th {\n        vertical-align: top;\n    }\n\n    .dataframe thead th {\n        text-align: right;\n    }\n</style>\n<table border=\"1\" class=\"dataframe\">\n  <thead>\n    <tr style=\"text-align: right;\">\n      <th></th>\n      <th>1</th>\n      <th>2</th>\n      <th>3</th>\n      <th>4</th>\n      <th>5</th>\n      <th>6</th>\n    </tr>\n  </thead>\n  <tbody>\n    <tr>\n      <th>0</th>\n      <td>10H</td>\n      <td>AC</td>\n      <td>QH</td>\n      <td>KC</td>\n      <td>9S</td>\n      <td>AH</td>\n    </tr>\n    <tr>\n      <th>1</th>\n      <td>7H</td>\n      <td>8H</td>\n      <td>JC</td>\n      <td>10S</td>\n      <td>QC</td>\n      <td>8S</td>\n    </tr>\n    <tr>\n      <th>2</th>\n      <td>9H</td>\n      <td>7C</td>\n      <td>JD</td>\n      <td>7D</td>\n      <td>KD</td>\n      <td>10D</td>\n    </tr>\n    <tr>\n      <th>3</th>\n      <td>QD</td>\n      <td>8C</td>\n      <td>QS</td>\n      <td>9C</td>\n      <td>7S</td>\n      <td>KS</td>\n    </tr>\n    <tr>\n      <th>4</th>\n      <td>KH</td>\n      <td>AD</td>\n      <td>8D</td>\n      <td>JS</td>\n      <td>9D</td>\n      <td>JH</td>\n    </tr>\n  </tbody>\n</table>\n</div>"
     },
     "metadata": {},
     "execution_count": 68
    }
   ],
   "source": [
    "table"
   ]
  },
  {
   "cell_type": "code",
   "execution_count": 70,
   "metadata": {},
   "outputs": [],
   "source": [
    "table['points'] = scores"
   ]
  },
  {
   "cell_type": "code",
   "execution_count": 71,
   "metadata": {},
   "outputs": [
    {
     "output_type": "execute_result",
     "data": {
      "text/plain": "     1   2   3    4   5    6  points\n0  10H  AC  QH   KC  9S   AH       2\n1   7H  8H  JC  10S  QC   8S       2\n2   9H  7C  JD   7D  KD  10D      -2\n3   QD  8C  QS   9C  7S   KS      -4\n4   KH  AD  8D   JS  9D   JH       2",
      "text/html": "<div>\n<style scoped>\n    .dataframe tbody tr th:only-of-type {\n        vertical-align: middle;\n    }\n\n    .dataframe tbody tr th {\n        vertical-align: top;\n    }\n\n    .dataframe thead th {\n        text-align: right;\n    }\n</style>\n<table border=\"1\" class=\"dataframe\">\n  <thead>\n    <tr style=\"text-align: right;\">\n      <th></th>\n      <th>1</th>\n      <th>2</th>\n      <th>3</th>\n      <th>4</th>\n      <th>5</th>\n      <th>6</th>\n      <th>points</th>\n    </tr>\n  </thead>\n  <tbody>\n    <tr>\n      <th>0</th>\n      <td>10H</td>\n      <td>AC</td>\n      <td>QH</td>\n      <td>KC</td>\n      <td>9S</td>\n      <td>AH</td>\n      <td>2</td>\n    </tr>\n    <tr>\n      <th>1</th>\n      <td>7H</td>\n      <td>8H</td>\n      <td>JC</td>\n      <td>10S</td>\n      <td>QC</td>\n      <td>8S</td>\n      <td>2</td>\n    </tr>\n    <tr>\n      <th>2</th>\n      <td>9H</td>\n      <td>7C</td>\n      <td>JD</td>\n      <td>7D</td>\n      <td>KD</td>\n      <td>10D</td>\n      <td>-2</td>\n    </tr>\n    <tr>\n      <th>3</th>\n      <td>QD</td>\n      <td>8C</td>\n      <td>QS</td>\n      <td>9C</td>\n      <td>7S</td>\n      <td>KS</td>\n      <td>-4</td>\n    </tr>\n    <tr>\n      <th>4</th>\n      <td>KH</td>\n      <td>AD</td>\n      <td>8D</td>\n      <td>JS</td>\n      <td>9D</td>\n      <td>JH</td>\n      <td>2</td>\n    </tr>\n  </tbody>\n</table>\n</div>"
     },
     "metadata": {},
     "execution_count": 71
    }
   ],
   "source": [
    "table"
   ]
  },
  {
   "cell_type": "code",
   "execution_count": null,
   "metadata": {},
   "outputs": [],
   "source": []
  }
 ]
}