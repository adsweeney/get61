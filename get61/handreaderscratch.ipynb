{
 "metadata": {
  "language_info": {
   "codemirror_mode": {
    "name": "ipython",
    "version": 3
   },
   "file_extension": ".py",
   "mimetype": "text/x-python",
   "name": "python",
   "nbconvert_exporter": "python",
   "pygments_lexer": "ipython3",
   "version": "3.8.3-final"
  },
  "orig_nbformat": 2,
  "kernelspec": {
   "name": "python3",
   "display_name": "Python 3.8.3 64-bit ('metis': conda)",
   "metadata": {
    "interpreter": {
     "hash": "e94c15d6dbef08e95baaf638ff93666d2390f58e0c4317ae3b2bf35ecad0e12e"
    }
   }
  }
 },
 "nbformat": 4,
 "nbformat_minor": 2,
 "cells": [
  {
   "cell_type": "code",
   "execution_count": 15,
   "metadata": {},
   "outputs": [],
   "source": [
    "import cv2\n",
    "import numpy as np\n",
    "import pandas as pd\n",
    "import os\n",
    "from itertools import combinations, permutations\n",
    "\n",
    "#cardimages = os.listdir('get61imgs')\n",
    "\n",
    "heartsa = [str(i) + 'H' for i in range(7,15)]\n",
    "clubsa = [str(i) + 'C' for i in range(7,15)]\n",
    "spadesa = [str(i) + 'S' for i in range(7,15)]\n",
    "diamondsa = [str(i) + 'D' for i in range(7,15)]\n",
    "\n",
    "allcardsa = heartsa + clubsa + spadesa + diamondsa\n",
    "valuesa = [0, 0, 0, 10, 2, 3, 4, 11, 0, 0, 0, 10, 2, 3, 4, 11, 0, 0, 0, 10, 2, 3, 4, 11, 0, 0, 0, 10, 2, 3, 4, 11]\n",
    "\n",
    "pointvalues = dict(zip(allcardsa, valuesa))\n",
    "\n",
    "# card types\n",
    "hearts = [str(i) + 'H' for i in range(7, 11)] + ['13H'] + ['14H']\n",
    "spades = [str(i) + 'S' for i in range(7, 11)] + ['13S'] + ['14S']\n",
    "clubs = [str(i) + 'C' for i in range(7, 11)] + ['13C'] + ['14C']\n",
    "# Trump\n",
    "trump = [str(i) + 'D' for i in range(7, 15)] + ['11' + i for i in ['H', 'S', 'C']] + ['12' + i for i in ['H', 'S', 'C']]\n",
    "fail = hearts + spades + clubs\n",
    "points = [0, 0, 0, 10, 4, 11]\n",
    "pointstrump = [0, 0, 0, 10, 2, 3, 4, 11, 2, 2, 2, 3, 3, 3]\n",
    "trumprank = [1, 2, 3, 5, 7, 11, 4, 6, 8, 9, 10, 12, 13, 14]\n",
    "failrank = [1, 2, 3, 5, 4, 6]\n",
    "\n",
    "faildic = dict(zip(fail, zip(points * 4, failrank * 4)))\n",
    "trumpdic = dict(zip(trump, zip(pointstrump, trumprank)))\n",
    "\n"
   ]
  },
  {
   "cell_type": "code",
   "execution_count": 16,
   "metadata": {},
   "outputs": [],
   "source": [
    "def get_cards(preblind):\n",
    "    cards_in_hand = []\n",
    "    for i in cardimages:\n",
    "        #img_rgb = cv2.imread('goodpickhandblindsmall.png')\n",
    "        img_rgb = cv2.imread(preblind)\n",
    "        img_gray = cv2.cvtColor(img_rgb, cv2.COLOR_BGR2GRAY)\n",
    "        template = cv2.imread('get61imgsorig/{}'.format(i),0)\n",
    "        w, h = template.shape[::-1]\n",
    "\n",
    "        res = cv2.matchTemplate(img_gray,template,cv2.TM_CCOEFF_NORMED)\n",
    "        threshold = 0.95\n",
    "\n",
    "\n",
    "        loc = np.where( res >= threshold)\n",
    "        for pt in zip(*loc[::-1]):\n",
    "            cv2.rectangle(img_rgb, pt, (pt[0] + w, pt[1] + h), (0,0,255), 2)\n",
    "        \n",
    "        #cv2.imwrite('res{}.png'.format(i),img_rgb)\n",
    "        if any(map(len, loc)):\n",
    "            cards_in_hand.append(i)\n",
    "            #cv2.imwrite('found_cards/res{}.png'.format(i),img_rgb)\n",
    "    return cards_in_hand"
   ]
  },
  {
   "cell_type": "code",
   "execution_count": null,
   "metadata": {},
   "outputs": [],
   "source": []
  },
  {
   "cell_type": "code",
   "execution_count": 17,
   "metadata": {},
   "outputs": [],
   "source": [
    "#preblind = input('screenshot of hand: ')\n",
    "preblind = ['12C', '12D', '11S', '10D', '8H', '9S']    \n",
    "#cards_in_hand = get_cards(preblind)\n",
    "cards_in_hand = preblind\n",
    "cards= [i.replace('.png','') for i in cards_in_hand]\n",
    "trumphand = sorted([i for i in cards if i in trumpdic.keys()], key=lambda x: trumpdic[x][1], reverse=True)\n",
    "failhand = sorted([i for i in cards if i in faildic.keys()], key=lambda x: faildic[x][1], reverse=True)\n",
    "points_in_hand = sum([pointvalues[i] for i in cards])\n",
    "trumpcount = len(trumphand)\n",
    "failcount = len(failhand)\n",
    "possible_hands = list(combinations(cards, 6))"
   ]
  },
  {
   "cell_type": "code",
   "execution_count": 20,
   "metadata": {},
   "outputs": [
    {
     "output_type": "stream",
     "name": "stdout",
     "text": [
      "\nTrump:  ['12C', '12D', '11S', '10D']\n\nFail:  ['9S', '8H']\n\nShould you pick this hand?\nProbability of winning: \n\n\n"
     ]
    }
   ],
   "source": [
    "\n",
    "#position = int(input('Please Enter your Table Position (1-5): '))\n",
    "pick_position = 2\n",
    "print('\\nTrump: ', trumphand)\n",
    "print('\\nFail: ', failhand)\n",
    "print('\\nShould you pick this hand?')\n",
    "print('Probability of winning: ')\n",
    "print('\\n')\n",
    "\n",
    "postblind = input('screenshot after picking up: ')"
   ]
  },
  {
   "cell_type": "code",
   "execution_count": 40,
   "metadata": {},
   "outputs": [],
   "source": [
    "postblind = ['12C', '12D', '11S', '10D', '8H', '9S', '7D', '12H']"
   ]
  },
  {
   "cell_type": "code",
   "execution_count": 41,
   "metadata": {},
   "outputs": [],
   "source": [
    "#cards_in_hand = get_cards(postblind)\n",
    "cards_in_hand = postblind\n",
    "cards= [i.replace('.png','') for i in cards_in_hand]\n",
    "trump_hand = sorted([i for i in cards if i in trumpdic.keys()], key=lambda x: trumpdic[x][1], reverse=True)\n",
    "fail_hand = sorted([i for i in cards if i in faildic.keys()], key=lambda x: faildic[x][1], reverse=True)\n",
    "points_in_hand = sum([pointvalues[i] for i in cards])\n",
    "trumpcount = len(trump_hand)\n",
    "failcount = len(fail_hand)\n",
    "possible_hands = list(combinations(cards, 6))\n",
    "held_points = points_in_hand"
   ]
  },
  {
   "cell_type": "code",
   "execution_count": 42,
   "metadata": {},
   "outputs": [],
   "source": [
    "p_bury = p_bury = list(combinations(cards, 2))\n",
    "mylis = []\n",
    "for i, j in p_bury:\n",
    "    if any(x in [i, j] for x in trump):\n",
    "        continue\n",
    "    else:\n",
    "        mylis.append([i, j])"
   ]
  },
  {
   "cell_type": "code",
   "execution_count": 43,
   "metadata": {},
   "outputs": [],
   "source": [
    "maxi = 0\n",
    "two = ''\n",
    "for pair in mylis:\n",
    "    total = sum([pointvalues[i] for i in pair])\n",
    "    if total > maxi:\n",
    "        maxi = total\n",
    "        two = pair"
   ]
  },
  {
   "cell_type": "code",
   "execution_count": 44,
   "metadata": {},
   "outputs": [
    {
     "output_type": "execute_result",
     "data": {
      "text/plain": [
       "[['8H', '9S']]"
      ]
     },
     "metadata": {},
     "execution_count": 44
    }
   ],
   "source": [
    "mylis"
   ]
  },
  {
   "cell_type": "code",
   "execution_count": 50,
   "metadata": {},
   "outputs": [
    {
     "output_type": "execute_result",
     "data": {
      "text/plain": [
       "[('12C', '12D', '11S', '10D', '8H', '9S'),\n",
       " ('12C', '12D', '11S', '10D', '8H', '7D'),\n",
       " ('12C', '12D', '11S', '10D', '8H', '12H'),\n",
       " ('12C', '12D', '11S', '10D', '9S', '7D'),\n",
       " ('12C', '12D', '11S', '10D', '9S', '12H'),\n",
       " ('12C', '12D', '11S', '10D', '7D', '12H'),\n",
       " ('12C', '12D', '11S', '8H', '9S', '7D'),\n",
       " ('12C', '12D', '11S', '8H', '9S', '12H'),\n",
       " ('12C', '12D', '11S', '8H', '7D', '12H'),\n",
       " ('12C', '12D', '11S', '9S', '7D', '12H'),\n",
       " ('12C', '12D', '10D', '8H', '9S', '7D'),\n",
       " ('12C', '12D', '10D', '8H', '9S', '12H'),\n",
       " ('12C', '12D', '10D', '8H', '7D', '12H'),\n",
       " ('12C', '12D', '10D', '9S', '7D', '12H'),\n",
       " ('12C', '12D', '8H', '9S', '7D', '12H'),\n",
       " ('12C', '11S', '10D', '8H', '9S', '7D'),\n",
       " ('12C', '11S', '10D', '8H', '9S', '12H'),\n",
       " ('12C', '11S', '10D', '8H', '7D', '12H'),\n",
       " ('12C', '11S', '10D', '9S', '7D', '12H'),\n",
       " ('12C', '11S', '8H', '9S', '7D', '12H'),\n",
       " ('12C', '10D', '8H', '9S', '7D', '12H'),\n",
       " ('12D', '11S', '10D', '8H', '9S', '7D'),\n",
       " ('12D', '11S', '10D', '8H', '9S', '12H'),\n",
       " ('12D', '11S', '10D', '8H', '7D', '12H'),\n",
       " ('12D', '11S', '10D', '9S', '7D', '12H'),\n",
       " ('12D', '11S', '8H', '9S', '7D', '12H'),\n",
       " ('12D', '10D', '8H', '9S', '7D', '12H'),\n",
       " ('11S', '10D', '8H', '9S', '7D', '12H')]"
      ]
     },
     "metadata": {},
     "execution_count": 50
    }
   ],
   "source": [
    "list(possible_hands)"
   ]
  },
  {
   "cell_type": "code",
   "execution_count": 69,
   "metadata": {},
   "outputs": [],
   "source": [
    "a = list(possible_hands[2])"
   ]
  },
  {
   "cell_type": "code",
   "execution_count": 75,
   "metadata": {},
   "outputs": [],
   "source": [
    "a.append(3)"
   ]
  },
  {
   "cell_type": "code",
   "execution_count": 76,
   "metadata": {},
   "outputs": [
    {
     "output_type": "execute_result",
     "data": {
      "text/plain": [
       "['12C', '12D', '11S', '10D', '8H', '12H', ['14C'], '14C', 3]"
      ]
     },
     "metadata": {},
     "execution_count": 76
    }
   ],
   "source": [
    "a"
   ]
  },
  {
   "cell_type": "code",
   "execution_count": 94,
   "metadata": {},
   "outputs": [],
   "source": [
    "inp_columns = [1, 2, 3, 4, 5, 6, 'pick_position', 'trumpcount', 'heldpoints']"
   ]
  },
  {
   "cell_type": "code",
   "execution_count": 77,
   "metadata": {},
   "outputs": [],
   "source": [
    "data = []\n",
    "for i in possible_hands:\n",
    "    d = list(i)\n",
    "    d.append(pick_position)\n",
    "    data.append(d)\n",
    "    "
   ]
  },
  {
   "cell_type": "code",
   "execution_count": 89,
   "metadata": {},
   "outputs": [],
   "source": [
    "ts = []\n",
    "for i in data:\n",
    "    t = [j for j in i if j in trumpdic.keys()]\n",
    "    tc = len(t)\n",
    "    i.append(tc)"
   ]
  },
  {
   "cell_type": "code",
   "execution_count": 92,
   "metadata": {},
   "outputs": [],
   "source": [
    "for i in data:\n",
    "    p = sum([pointvalues[j] for j in i[:6]])\n",
    "    i.append(p)"
   ]
  },
  {
   "cell_type": "code",
   "execution_count": 93,
   "metadata": {},
   "outputs": [
    {
     "output_type": "execute_result",
     "data": {
      "text/plain": [
       "[['12C', '12D', '11S', '10D', '8H', '9S', 2, 4, 18],\n",
       " ['12C', '12D', '11S', '10D', '8H', '7D', 2, 5, 18],\n",
       " ['12C', '12D', '11S', '10D', '8H', '12H', 2, 5, 21],\n",
       " ['12C', '12D', '11S', '10D', '9S', '7D', 2, 5, 18],\n",
       " ['12C', '12D', '11S', '10D', '9S', '12H', 2, 5, 21],\n",
       " ['12C', '12D', '11S', '10D', '7D', '12H', 2, 6, 21],\n",
       " ['12C', '12D', '11S', '8H', '9S', '7D', 2, 4, 8],\n",
       " ['12C', '12D', '11S', '8H', '9S', '12H', 2, 4, 11],\n",
       " ['12C', '12D', '11S', '8H', '7D', '12H', 2, 5, 11],\n",
       " ['12C', '12D', '11S', '9S', '7D', '12H', 2, 5, 11],\n",
       " ['12C', '12D', '10D', '8H', '9S', '7D', 2, 4, 16],\n",
       " ['12C', '12D', '10D', '8H', '9S', '12H', 2, 4, 19],\n",
       " ['12C', '12D', '10D', '8H', '7D', '12H', 2, 5, 19],\n",
       " ['12C', '12D', '10D', '9S', '7D', '12H', 2, 5, 19],\n",
       " ['12C', '12D', '8H', '9S', '7D', '12H', 2, 4, 9],\n",
       " ['12C', '11S', '10D', '8H', '9S', '7D', 2, 4, 15],\n",
       " ['12C', '11S', '10D', '8H', '9S', '12H', 2, 4, 18],\n",
       " ['12C', '11S', '10D', '8H', '7D', '12H', 2, 5, 18],\n",
       " ['12C', '11S', '10D', '9S', '7D', '12H', 2, 5, 18],\n",
       " ['12C', '11S', '8H', '9S', '7D', '12H', 2, 4, 8],\n",
       " ['12C', '10D', '8H', '9S', '7D', '12H', 2, 4, 16],\n",
       " ['12D', '11S', '10D', '8H', '9S', '7D', 2, 4, 15],\n",
       " ['12D', '11S', '10D', '8H', '9S', '12H', 2, 4, 18],\n",
       " ['12D', '11S', '10D', '8H', '7D', '12H', 2, 5, 18],\n",
       " ['12D', '11S', '10D', '9S', '7D', '12H', 2, 5, 18],\n",
       " ['12D', '11S', '8H', '9S', '7D', '12H', 2, 4, 8],\n",
       " ['12D', '10D', '8H', '9S', '7D', '12H', 2, 4, 16],\n",
       " ['11S', '10D', '8H', '9S', '7D', '12H', 2, 4, 15]]"
      ]
     },
     "metadata": {},
     "execution_count": 93
    }
   ],
   "source": [
    "data"
   ]
  },
  {
   "cell_type": "code",
   "execution_count": 95,
   "metadata": {},
   "outputs": [],
   "source": [
    "checkdf = pd.DataFrame(data, columns=inp_columns)"
   ]
  },
  {
   "cell_type": "code",
   "execution_count": 96,
   "metadata": {},
   "outputs": [
    {
     "output_type": "execute_result",
     "data": {
      "text/plain": [
       "      1    2    3    4   5    6  pick_position  trumpcount  heldpoints\n",
       "0   12C  12D  11S  10D  8H   9S              2           4          18\n",
       "1   12C  12D  11S  10D  8H   7D              2           5          18\n",
       "2   12C  12D  11S  10D  8H  12H              2           5          21\n",
       "3   12C  12D  11S  10D  9S   7D              2           5          18\n",
       "4   12C  12D  11S  10D  9S  12H              2           5          21\n",
       "5   12C  12D  11S  10D  7D  12H              2           6          21\n",
       "6   12C  12D  11S   8H  9S   7D              2           4           8\n",
       "7   12C  12D  11S   8H  9S  12H              2           4          11\n",
       "8   12C  12D  11S   8H  7D  12H              2           5          11\n",
       "9   12C  12D  11S   9S  7D  12H              2           5          11\n",
       "10  12C  12D  10D   8H  9S   7D              2           4          16\n",
       "11  12C  12D  10D   8H  9S  12H              2           4          19\n",
       "12  12C  12D  10D   8H  7D  12H              2           5          19\n",
       "13  12C  12D  10D   9S  7D  12H              2           5          19\n",
       "14  12C  12D   8H   9S  7D  12H              2           4           9\n",
       "15  12C  11S  10D   8H  9S   7D              2           4          15\n",
       "16  12C  11S  10D   8H  9S  12H              2           4          18\n",
       "17  12C  11S  10D   8H  7D  12H              2           5          18\n",
       "18  12C  11S  10D   9S  7D  12H              2           5          18\n",
       "19  12C  11S   8H   9S  7D  12H              2           4           8\n",
       "20  12C  10D   8H   9S  7D  12H              2           4          16\n",
       "21  12D  11S  10D   8H  9S   7D              2           4          15\n",
       "22  12D  11S  10D   8H  9S  12H              2           4          18\n",
       "23  12D  11S  10D   8H  7D  12H              2           5          18\n",
       "24  12D  11S  10D   9S  7D  12H              2           5          18\n",
       "25  12D  11S   8H   9S  7D  12H              2           4           8\n",
       "26  12D  10D   8H   9S  7D  12H              2           4          16\n",
       "27  11S  10D   8H   9S  7D  12H              2           4          15"
      ],
      "text/html": "<div>\n<style scoped>\n    .dataframe tbody tr th:only-of-type {\n        vertical-align: middle;\n    }\n\n    .dataframe tbody tr th {\n        vertical-align: top;\n    }\n\n    .dataframe thead th {\n        text-align: right;\n    }\n</style>\n<table border=\"1\" class=\"dataframe\">\n  <thead>\n    <tr style=\"text-align: right;\">\n      <th></th>\n      <th>1</th>\n      <th>2</th>\n      <th>3</th>\n      <th>4</th>\n      <th>5</th>\n      <th>6</th>\n      <th>pick_position</th>\n      <th>trumpcount</th>\n      <th>heldpoints</th>\n    </tr>\n  </thead>\n  <tbody>\n    <tr>\n      <th>0</th>\n      <td>12C</td>\n      <td>12D</td>\n      <td>11S</td>\n      <td>10D</td>\n      <td>8H</td>\n      <td>9S</td>\n      <td>2</td>\n      <td>4</td>\n      <td>18</td>\n    </tr>\n    <tr>\n      <th>1</th>\n      <td>12C</td>\n      <td>12D</td>\n      <td>11S</td>\n      <td>10D</td>\n      <td>8H</td>\n      <td>7D</td>\n      <td>2</td>\n      <td>5</td>\n      <td>18</td>\n    </tr>\n    <tr>\n      <th>2</th>\n      <td>12C</td>\n      <td>12D</td>\n      <td>11S</td>\n      <td>10D</td>\n      <td>8H</td>\n      <td>12H</td>\n      <td>2</td>\n      <td>5</td>\n      <td>21</td>\n    </tr>\n    <tr>\n      <th>3</th>\n      <td>12C</td>\n      <td>12D</td>\n      <td>11S</td>\n      <td>10D</td>\n      <td>9S</td>\n      <td>7D</td>\n      <td>2</td>\n      <td>5</td>\n      <td>18</td>\n    </tr>\n    <tr>\n      <th>4</th>\n      <td>12C</td>\n      <td>12D</td>\n      <td>11S</td>\n      <td>10D</td>\n      <td>9S</td>\n      <td>12H</td>\n      <td>2</td>\n      <td>5</td>\n      <td>21</td>\n    </tr>\n    <tr>\n      <th>5</th>\n      <td>12C</td>\n      <td>12D</td>\n      <td>11S</td>\n      <td>10D</td>\n      <td>7D</td>\n      <td>12H</td>\n      <td>2</td>\n      <td>6</td>\n      <td>21</td>\n    </tr>\n    <tr>\n      <th>6</th>\n      <td>12C</td>\n      <td>12D</td>\n      <td>11S</td>\n      <td>8H</td>\n      <td>9S</td>\n      <td>7D</td>\n      <td>2</td>\n      <td>4</td>\n      <td>8</td>\n    </tr>\n    <tr>\n      <th>7</th>\n      <td>12C</td>\n      <td>12D</td>\n      <td>11S</td>\n      <td>8H</td>\n      <td>9S</td>\n      <td>12H</td>\n      <td>2</td>\n      <td>4</td>\n      <td>11</td>\n    </tr>\n    <tr>\n      <th>8</th>\n      <td>12C</td>\n      <td>12D</td>\n      <td>11S</td>\n      <td>8H</td>\n      <td>7D</td>\n      <td>12H</td>\n      <td>2</td>\n      <td>5</td>\n      <td>11</td>\n    </tr>\n    <tr>\n      <th>9</th>\n      <td>12C</td>\n      <td>12D</td>\n      <td>11S</td>\n      <td>9S</td>\n      <td>7D</td>\n      <td>12H</td>\n      <td>2</td>\n      <td>5</td>\n      <td>11</td>\n    </tr>\n    <tr>\n      <th>10</th>\n      <td>12C</td>\n      <td>12D</td>\n      <td>10D</td>\n      <td>8H</td>\n      <td>9S</td>\n      <td>7D</td>\n      <td>2</td>\n      <td>4</td>\n      <td>16</td>\n    </tr>\n    <tr>\n      <th>11</th>\n      <td>12C</td>\n      <td>12D</td>\n      <td>10D</td>\n      <td>8H</td>\n      <td>9S</td>\n      <td>12H</td>\n      <td>2</td>\n      <td>4</td>\n      <td>19</td>\n    </tr>\n    <tr>\n      <th>12</th>\n      <td>12C</td>\n      <td>12D</td>\n      <td>10D</td>\n      <td>8H</td>\n      <td>7D</td>\n      <td>12H</td>\n      <td>2</td>\n      <td>5</td>\n      <td>19</td>\n    </tr>\n    <tr>\n      <th>13</th>\n      <td>12C</td>\n      <td>12D</td>\n      <td>10D</td>\n      <td>9S</td>\n      <td>7D</td>\n      <td>12H</td>\n      <td>2</td>\n      <td>5</td>\n      <td>19</td>\n    </tr>\n    <tr>\n      <th>14</th>\n      <td>12C</td>\n      <td>12D</td>\n      <td>8H</td>\n      <td>9S</td>\n      <td>7D</td>\n      <td>12H</td>\n      <td>2</td>\n      <td>4</td>\n      <td>9</td>\n    </tr>\n    <tr>\n      <th>15</th>\n      <td>12C</td>\n      <td>11S</td>\n      <td>10D</td>\n      <td>8H</td>\n      <td>9S</td>\n      <td>7D</td>\n      <td>2</td>\n      <td>4</td>\n      <td>15</td>\n    </tr>\n    <tr>\n      <th>16</th>\n      <td>12C</td>\n      <td>11S</td>\n      <td>10D</td>\n      <td>8H</td>\n      <td>9S</td>\n      <td>12H</td>\n      <td>2</td>\n      <td>4</td>\n      <td>18</td>\n    </tr>\n    <tr>\n      <th>17</th>\n      <td>12C</td>\n      <td>11S</td>\n      <td>10D</td>\n      <td>8H</td>\n      <td>7D</td>\n      <td>12H</td>\n      <td>2</td>\n      <td>5</td>\n      <td>18</td>\n    </tr>\n    <tr>\n      <th>18</th>\n      <td>12C</td>\n      <td>11S</td>\n      <td>10D</td>\n      <td>9S</td>\n      <td>7D</td>\n      <td>12H</td>\n      <td>2</td>\n      <td>5</td>\n      <td>18</td>\n    </tr>\n    <tr>\n      <th>19</th>\n      <td>12C</td>\n      <td>11S</td>\n      <td>8H</td>\n      <td>9S</td>\n      <td>7D</td>\n      <td>12H</td>\n      <td>2</td>\n      <td>4</td>\n      <td>8</td>\n    </tr>\n    <tr>\n      <th>20</th>\n      <td>12C</td>\n      <td>10D</td>\n      <td>8H</td>\n      <td>9S</td>\n      <td>7D</td>\n      <td>12H</td>\n      <td>2</td>\n      <td>4</td>\n      <td>16</td>\n    </tr>\n    <tr>\n      <th>21</th>\n      <td>12D</td>\n      <td>11S</td>\n      <td>10D</td>\n      <td>8H</td>\n      <td>9S</td>\n      <td>7D</td>\n      <td>2</td>\n      <td>4</td>\n      <td>15</td>\n    </tr>\n    <tr>\n      <th>22</th>\n      <td>12D</td>\n      <td>11S</td>\n      <td>10D</td>\n      <td>8H</td>\n      <td>9S</td>\n      <td>12H</td>\n      <td>2</td>\n      <td>4</td>\n      <td>18</td>\n    </tr>\n    <tr>\n      <th>23</th>\n      <td>12D</td>\n      <td>11S</td>\n      <td>10D</td>\n      <td>8H</td>\n      <td>7D</td>\n      <td>12H</td>\n      <td>2</td>\n      <td>5</td>\n      <td>18</td>\n    </tr>\n    <tr>\n      <th>24</th>\n      <td>12D</td>\n      <td>11S</td>\n      <td>10D</td>\n      <td>9S</td>\n      <td>7D</td>\n      <td>12H</td>\n      <td>2</td>\n      <td>5</td>\n      <td>18</td>\n    </tr>\n    <tr>\n      <th>25</th>\n      <td>12D</td>\n      <td>11S</td>\n      <td>8H</td>\n      <td>9S</td>\n      <td>7D</td>\n      <td>12H</td>\n      <td>2</td>\n      <td>4</td>\n      <td>8</td>\n    </tr>\n    <tr>\n      <th>26</th>\n      <td>12D</td>\n      <td>10D</td>\n      <td>8H</td>\n      <td>9S</td>\n      <td>7D</td>\n      <td>12H</td>\n      <td>2</td>\n      <td>4</td>\n      <td>16</td>\n    </tr>\n    <tr>\n      <th>27</th>\n      <td>11S</td>\n      <td>10D</td>\n      <td>8H</td>\n      <td>9S</td>\n      <td>7D</td>\n      <td>12H</td>\n      <td>2</td>\n      <td>4</td>\n      <td>15</td>\n    </tr>\n  </tbody>\n</table>\n</div>"
     },
     "metadata": {},
     "execution_count": 96
    }
   ],
   "source": [
    "checkdf"
   ]
  },
  {
   "cell_type": "code",
   "execution_count": 113,
   "metadata": {},
   "outputs": [],
   "source": [
    "compdf = pd.read_pickle('new_hands_df')"
   ]
  },
  {
   "cell_type": "code",
   "execution_count": 114,
   "metadata": {},
   "outputs": [
    {
     "output_type": "execute_result",
     "data": {
      "text/plain": [
       "                   uniqueid  score  pick_position  trumpcount  heldpoints  \\\n",
       "0    2400001-RecordHolder37     16              2           5          12   \n",
       "1         2400002-TSG Jerry      8              2           5          13   \n",
       "2    2400003-Dave Frederick      2              3           5          12   \n",
       "3      2400004-Shawn Theune      2              3           5          26   \n",
       "4           2400005-TSG Dan      8              1           4           8   \n",
       "..                      ...    ...            ...         ...         ...   \n",
       "693        2400795-vtreague      2              0           4          11   \n",
       "694  2400796-jerryklein1341      2              3           5          26   \n",
       "695        2400797-eugcindy      2              0           3          23   \n",
       "696   2400798-drdistilledjd     -8              4           5          11   \n",
       "697     2400799-Lovetocrack      4              2           5          20   \n",
       "\n",
       "     1_10C  1_10D  1_10H  1_10S  1_11C  ...  6_7S  6_8C  6_8D  6_8H  6_8S  \\\n",
       "0        0      0      0      0      0  ...     0     0     0     0     0   \n",
       "1        0      0      0      0      0  ...     0     0     0     0     0   \n",
       "2        0      0      0      0      0  ...     0     0     0     0     0   \n",
       "3        0      0      0      0      0  ...     0     0     0     0     0   \n",
       "4        0      0      0      0      0  ...     0     0     0     0     0   \n",
       "..     ...    ...    ...    ...    ...  ...   ...   ...   ...   ...   ...   \n",
       "693      0      0      0      0      0  ...     0     0     0     0     0   \n",
       "694      0      0      0      0      0  ...     0     0     0     0     0   \n",
       "695      0      0      0      0      0  ...     0     0     0     0     0   \n",
       "696      0      0      0      0      0  ...     0     0     0     0     0   \n",
       "697      0      0      0      0      0  ...     0     0     0     0     0   \n",
       "\n",
       "     6_9C  6_9D  6_9H  6_9S  outcome  \n",
       "0       0     0     0     0        1  \n",
       "1       0     0     0     0        1  \n",
       "2       0     0     0     0        1  \n",
       "3       0     0     0     0        1  \n",
       "4       0     0     0     0        1  \n",
       "..    ...   ...   ...   ...      ...  \n",
       "693     0     0     0     0        1  \n",
       "694     0     0     0     0        1  \n",
       "695     0     0     1     0        1  \n",
       "696     0     0     0     1        0  \n",
       "697     0     0     0     0        1  \n",
       "\n",
       "[698 rows x 198 columns]"
      ],
      "text/html": "<div>\n<style scoped>\n    .dataframe tbody tr th:only-of-type {\n        vertical-align: middle;\n    }\n\n    .dataframe tbody tr th {\n        vertical-align: top;\n    }\n\n    .dataframe thead th {\n        text-align: right;\n    }\n</style>\n<table border=\"1\" class=\"dataframe\">\n  <thead>\n    <tr style=\"text-align: right;\">\n      <th></th>\n      <th>uniqueid</th>\n      <th>score</th>\n      <th>pick_position</th>\n      <th>trumpcount</th>\n      <th>heldpoints</th>\n      <th>1_10C</th>\n      <th>1_10D</th>\n      <th>1_10H</th>\n      <th>1_10S</th>\n      <th>1_11C</th>\n      <th>...</th>\n      <th>6_7S</th>\n      <th>6_8C</th>\n      <th>6_8D</th>\n      <th>6_8H</th>\n      <th>6_8S</th>\n      <th>6_9C</th>\n      <th>6_9D</th>\n      <th>6_9H</th>\n      <th>6_9S</th>\n      <th>outcome</th>\n    </tr>\n  </thead>\n  <tbody>\n    <tr>\n      <th>0</th>\n      <td>2400001-RecordHolder37</td>\n      <td>16</td>\n      <td>2</td>\n      <td>5</td>\n      <td>12</td>\n      <td>0</td>\n      <td>0</td>\n      <td>0</td>\n      <td>0</td>\n      <td>0</td>\n      <td>...</td>\n      <td>0</td>\n      <td>0</td>\n      <td>0</td>\n      <td>0</td>\n      <td>0</td>\n      <td>0</td>\n      <td>0</td>\n      <td>0</td>\n      <td>0</td>\n      <td>1</td>\n    </tr>\n    <tr>\n      <th>1</th>\n      <td>2400002-TSG Jerry</td>\n      <td>8</td>\n      <td>2</td>\n      <td>5</td>\n      <td>13</td>\n      <td>0</td>\n      <td>0</td>\n      <td>0</td>\n      <td>0</td>\n      <td>0</td>\n      <td>...</td>\n      <td>0</td>\n      <td>0</td>\n      <td>0</td>\n      <td>0</td>\n      <td>0</td>\n      <td>0</td>\n      <td>0</td>\n      <td>0</td>\n      <td>0</td>\n      <td>1</td>\n    </tr>\n    <tr>\n      <th>2</th>\n      <td>2400003-Dave Frederick</td>\n      <td>2</td>\n      <td>3</td>\n      <td>5</td>\n      <td>12</td>\n      <td>0</td>\n      <td>0</td>\n      <td>0</td>\n      <td>0</td>\n      <td>0</td>\n      <td>...</td>\n      <td>0</td>\n      <td>0</td>\n      <td>0</td>\n      <td>0</td>\n      <td>0</td>\n      <td>0</td>\n      <td>0</td>\n      <td>0</td>\n      <td>0</td>\n      <td>1</td>\n    </tr>\n    <tr>\n      <th>3</th>\n      <td>2400004-Shawn Theune</td>\n      <td>2</td>\n      <td>3</td>\n      <td>5</td>\n      <td>26</td>\n      <td>0</td>\n      <td>0</td>\n      <td>0</td>\n      <td>0</td>\n      <td>0</td>\n      <td>...</td>\n      <td>0</td>\n      <td>0</td>\n      <td>0</td>\n      <td>0</td>\n      <td>0</td>\n      <td>0</td>\n      <td>0</td>\n      <td>0</td>\n      <td>0</td>\n      <td>1</td>\n    </tr>\n    <tr>\n      <th>4</th>\n      <td>2400005-TSG Dan</td>\n      <td>8</td>\n      <td>1</td>\n      <td>4</td>\n      <td>8</td>\n      <td>0</td>\n      <td>0</td>\n      <td>0</td>\n      <td>0</td>\n      <td>0</td>\n      <td>...</td>\n      <td>0</td>\n      <td>0</td>\n      <td>0</td>\n      <td>0</td>\n      <td>0</td>\n      <td>0</td>\n      <td>0</td>\n      <td>0</td>\n      <td>0</td>\n      <td>1</td>\n    </tr>\n    <tr>\n      <th>...</th>\n      <td>...</td>\n      <td>...</td>\n      <td>...</td>\n      <td>...</td>\n      <td>...</td>\n      <td>...</td>\n      <td>...</td>\n      <td>...</td>\n      <td>...</td>\n      <td>...</td>\n      <td>...</td>\n      <td>...</td>\n      <td>...</td>\n      <td>...</td>\n      <td>...</td>\n      <td>...</td>\n      <td>...</td>\n      <td>...</td>\n      <td>...</td>\n      <td>...</td>\n      <td>...</td>\n    </tr>\n    <tr>\n      <th>693</th>\n      <td>2400795-vtreague</td>\n      <td>2</td>\n      <td>0</td>\n      <td>4</td>\n      <td>11</td>\n      <td>0</td>\n      <td>0</td>\n      <td>0</td>\n      <td>0</td>\n      <td>0</td>\n      <td>...</td>\n      <td>0</td>\n      <td>0</td>\n      <td>0</td>\n      <td>0</td>\n      <td>0</td>\n      <td>0</td>\n      <td>0</td>\n      <td>0</td>\n      <td>0</td>\n      <td>1</td>\n    </tr>\n    <tr>\n      <th>694</th>\n      <td>2400796-jerryklein1341</td>\n      <td>2</td>\n      <td>3</td>\n      <td>5</td>\n      <td>26</td>\n      <td>0</td>\n      <td>0</td>\n      <td>0</td>\n      <td>0</td>\n      <td>0</td>\n      <td>...</td>\n      <td>0</td>\n      <td>0</td>\n      <td>0</td>\n      <td>0</td>\n      <td>0</td>\n      <td>0</td>\n      <td>0</td>\n      <td>0</td>\n      <td>0</td>\n      <td>1</td>\n    </tr>\n    <tr>\n      <th>695</th>\n      <td>2400797-eugcindy</td>\n      <td>2</td>\n      <td>0</td>\n      <td>3</td>\n      <td>23</td>\n      <td>0</td>\n      <td>0</td>\n      <td>0</td>\n      <td>0</td>\n      <td>0</td>\n      <td>...</td>\n      <td>0</td>\n      <td>0</td>\n      <td>0</td>\n      <td>0</td>\n      <td>0</td>\n      <td>0</td>\n      <td>0</td>\n      <td>1</td>\n      <td>0</td>\n      <td>1</td>\n    </tr>\n    <tr>\n      <th>696</th>\n      <td>2400798-drdistilledjd</td>\n      <td>-8</td>\n      <td>4</td>\n      <td>5</td>\n      <td>11</td>\n      <td>0</td>\n      <td>0</td>\n      <td>0</td>\n      <td>0</td>\n      <td>0</td>\n      <td>...</td>\n      <td>0</td>\n      <td>0</td>\n      <td>0</td>\n      <td>0</td>\n      <td>0</td>\n      <td>0</td>\n      <td>0</td>\n      <td>0</td>\n      <td>1</td>\n      <td>0</td>\n    </tr>\n    <tr>\n      <th>697</th>\n      <td>2400799-Lovetocrack</td>\n      <td>4</td>\n      <td>2</td>\n      <td>5</td>\n      <td>20</td>\n      <td>0</td>\n      <td>0</td>\n      <td>0</td>\n      <td>0</td>\n      <td>0</td>\n      <td>...</td>\n      <td>0</td>\n      <td>0</td>\n      <td>0</td>\n      <td>0</td>\n      <td>0</td>\n      <td>0</td>\n      <td>0</td>\n      <td>0</td>\n      <td>0</td>\n      <td>1</td>\n    </tr>\n  </tbody>\n</table>\n<p>698 rows × 198 columns</p>\n</div>"
     },
     "metadata": {},
     "execution_count": 114
    }
   ],
   "source": [
    "compdf"
   ]
  },
  {
   "cell_type": "code",
   "execution_count": 115,
   "metadata": {},
   "outputs": [],
   "source": [
    "compdf = compdf.iloc[:, 2:-1]"
   ]
  },
  {
   "cell_type": "code",
   "execution_count": 116,
   "metadata": {},
   "outputs": [
    {
     "output_type": "execute_result",
     "data": {
      "text/plain": [
       "     pick_position  trumpcount  heldpoints  1_10C  1_10D  1_10H  1_10S  1_11C  \\\n",
       "0                2           5          12      0      0      0      0      0   \n",
       "1                2           5          13      0      0      0      0      0   \n",
       "2                3           5          12      0      0      0      0      0   \n",
       "3                3           5          26      0      0      0      0      0   \n",
       "4                1           4           8      0      0      0      0      0   \n",
       "..             ...         ...         ...    ...    ...    ...    ...    ...   \n",
       "693              0           4          11      0      0      0      0      0   \n",
       "694              3           5          26      0      0      0      0      0   \n",
       "695              0           3          23      0      0      0      0      0   \n",
       "696              4           5          11      0      0      0      0      0   \n",
       "697              2           5          20      0      0      0      0      0   \n",
       "\n",
       "     1_11D  1_11H  ...  6_7H  6_7S  6_8C  6_8D  6_8H  6_8S  6_9C  6_9D  6_9H  \\\n",
       "0        0      0  ...     0     0     0     0     0     0     0     0     0   \n",
       "1        0      0  ...     0     0     0     0     0     0     0     0     0   \n",
       "2        0      0  ...     0     0     0     0     0     0     0     0     0   \n",
       "3        0      0  ...     0     0     0     0     0     0     0     0     0   \n",
       "4        0      0  ...     0     0     0     0     0     0     0     0     0   \n",
       "..     ...    ...  ...   ...   ...   ...   ...   ...   ...   ...   ...   ...   \n",
       "693      0      0  ...     0     0     0     0     0     0     0     0     0   \n",
       "694      0      0  ...     0     0     0     0     0     0     0     0     0   \n",
       "695      0      0  ...     0     0     0     0     0     0     0     0     1   \n",
       "696      0      0  ...     0     0     0     0     0     0     0     0     0   \n",
       "697      0      0  ...     0     0     0     0     0     0     0     0     0   \n",
       "\n",
       "     6_9S  \n",
       "0       0  \n",
       "1       0  \n",
       "2       0  \n",
       "3       0  \n",
       "4       0  \n",
       "..    ...  \n",
       "693     0  \n",
       "694     0  \n",
       "695     0  \n",
       "696     1  \n",
       "697     0  \n",
       "\n",
       "[698 rows x 195 columns]"
      ],
      "text/html": "<div>\n<style scoped>\n    .dataframe tbody tr th:only-of-type {\n        vertical-align: middle;\n    }\n\n    .dataframe tbody tr th {\n        vertical-align: top;\n    }\n\n    .dataframe thead th {\n        text-align: right;\n    }\n</style>\n<table border=\"1\" class=\"dataframe\">\n  <thead>\n    <tr style=\"text-align: right;\">\n      <th></th>\n      <th>pick_position</th>\n      <th>trumpcount</th>\n      <th>heldpoints</th>\n      <th>1_10C</th>\n      <th>1_10D</th>\n      <th>1_10H</th>\n      <th>1_10S</th>\n      <th>1_11C</th>\n      <th>1_11D</th>\n      <th>1_11H</th>\n      <th>...</th>\n      <th>6_7H</th>\n      <th>6_7S</th>\n      <th>6_8C</th>\n      <th>6_8D</th>\n      <th>6_8H</th>\n      <th>6_8S</th>\n      <th>6_9C</th>\n      <th>6_9D</th>\n      <th>6_9H</th>\n      <th>6_9S</th>\n    </tr>\n  </thead>\n  <tbody>\n    <tr>\n      <th>0</th>\n      <td>2</td>\n      <td>5</td>\n      <td>12</td>\n      <td>0</td>\n      <td>0</td>\n      <td>0</td>\n      <td>0</td>\n      <td>0</td>\n      <td>0</td>\n      <td>0</td>\n      <td>...</td>\n      <td>0</td>\n      <td>0</td>\n      <td>0</td>\n      <td>0</td>\n      <td>0</td>\n      <td>0</td>\n      <td>0</td>\n      <td>0</td>\n      <td>0</td>\n      <td>0</td>\n    </tr>\n    <tr>\n      <th>1</th>\n      <td>2</td>\n      <td>5</td>\n      <td>13</td>\n      <td>0</td>\n      <td>0</td>\n      <td>0</td>\n      <td>0</td>\n      <td>0</td>\n      <td>0</td>\n      <td>0</td>\n      <td>...</td>\n      <td>0</td>\n      <td>0</td>\n      <td>0</td>\n      <td>0</td>\n      <td>0</td>\n      <td>0</td>\n      <td>0</td>\n      <td>0</td>\n      <td>0</td>\n      <td>0</td>\n    </tr>\n    <tr>\n      <th>2</th>\n      <td>3</td>\n      <td>5</td>\n      <td>12</td>\n      <td>0</td>\n      <td>0</td>\n      <td>0</td>\n      <td>0</td>\n      <td>0</td>\n      <td>0</td>\n      <td>0</td>\n      <td>...</td>\n      <td>0</td>\n      <td>0</td>\n      <td>0</td>\n      <td>0</td>\n      <td>0</td>\n      <td>0</td>\n      <td>0</td>\n      <td>0</td>\n      <td>0</td>\n      <td>0</td>\n    </tr>\n    <tr>\n      <th>3</th>\n      <td>3</td>\n      <td>5</td>\n      <td>26</td>\n      <td>0</td>\n      <td>0</td>\n      <td>0</td>\n      <td>0</td>\n      <td>0</td>\n      <td>0</td>\n      <td>0</td>\n      <td>...</td>\n      <td>0</td>\n      <td>0</td>\n      <td>0</td>\n      <td>0</td>\n      <td>0</td>\n      <td>0</td>\n      <td>0</td>\n      <td>0</td>\n      <td>0</td>\n      <td>0</td>\n    </tr>\n    <tr>\n      <th>4</th>\n      <td>1</td>\n      <td>4</td>\n      <td>8</td>\n      <td>0</td>\n      <td>0</td>\n      <td>0</td>\n      <td>0</td>\n      <td>0</td>\n      <td>0</td>\n      <td>0</td>\n      <td>...</td>\n      <td>0</td>\n      <td>0</td>\n      <td>0</td>\n      <td>0</td>\n      <td>0</td>\n      <td>0</td>\n      <td>0</td>\n      <td>0</td>\n      <td>0</td>\n      <td>0</td>\n    </tr>\n    <tr>\n      <th>...</th>\n      <td>...</td>\n      <td>...</td>\n      <td>...</td>\n      <td>...</td>\n      <td>...</td>\n      <td>...</td>\n      <td>...</td>\n      <td>...</td>\n      <td>...</td>\n      <td>...</td>\n      <td>...</td>\n      <td>...</td>\n      <td>...</td>\n      <td>...</td>\n      <td>...</td>\n      <td>...</td>\n      <td>...</td>\n      <td>...</td>\n      <td>...</td>\n      <td>...</td>\n      <td>...</td>\n    </tr>\n    <tr>\n      <th>693</th>\n      <td>0</td>\n      <td>4</td>\n      <td>11</td>\n      <td>0</td>\n      <td>0</td>\n      <td>0</td>\n      <td>0</td>\n      <td>0</td>\n      <td>0</td>\n      <td>0</td>\n      <td>...</td>\n      <td>0</td>\n      <td>0</td>\n      <td>0</td>\n      <td>0</td>\n      <td>0</td>\n      <td>0</td>\n      <td>0</td>\n      <td>0</td>\n      <td>0</td>\n      <td>0</td>\n    </tr>\n    <tr>\n      <th>694</th>\n      <td>3</td>\n      <td>5</td>\n      <td>26</td>\n      <td>0</td>\n      <td>0</td>\n      <td>0</td>\n      <td>0</td>\n      <td>0</td>\n      <td>0</td>\n      <td>0</td>\n      <td>...</td>\n      <td>0</td>\n      <td>0</td>\n      <td>0</td>\n      <td>0</td>\n      <td>0</td>\n      <td>0</td>\n      <td>0</td>\n      <td>0</td>\n      <td>0</td>\n      <td>0</td>\n    </tr>\n    <tr>\n      <th>695</th>\n      <td>0</td>\n      <td>3</td>\n      <td>23</td>\n      <td>0</td>\n      <td>0</td>\n      <td>0</td>\n      <td>0</td>\n      <td>0</td>\n      <td>0</td>\n      <td>0</td>\n      <td>...</td>\n      <td>0</td>\n      <td>0</td>\n      <td>0</td>\n      <td>0</td>\n      <td>0</td>\n      <td>0</td>\n      <td>0</td>\n      <td>0</td>\n      <td>1</td>\n      <td>0</td>\n    </tr>\n    <tr>\n      <th>696</th>\n      <td>4</td>\n      <td>5</td>\n      <td>11</td>\n      <td>0</td>\n      <td>0</td>\n      <td>0</td>\n      <td>0</td>\n      <td>0</td>\n      <td>0</td>\n      <td>0</td>\n      <td>...</td>\n      <td>0</td>\n      <td>0</td>\n      <td>0</td>\n      <td>0</td>\n      <td>0</td>\n      <td>0</td>\n      <td>0</td>\n      <td>0</td>\n      <td>0</td>\n      <td>1</td>\n    </tr>\n    <tr>\n      <th>697</th>\n      <td>2</td>\n      <td>5</td>\n      <td>20</td>\n      <td>0</td>\n      <td>0</td>\n      <td>0</td>\n      <td>0</td>\n      <td>0</td>\n      <td>0</td>\n      <td>0</td>\n      <td>...</td>\n      <td>0</td>\n      <td>0</td>\n      <td>0</td>\n      <td>0</td>\n      <td>0</td>\n      <td>0</td>\n      <td>0</td>\n      <td>0</td>\n      <td>0</td>\n      <td>0</td>\n    </tr>\n  </tbody>\n</table>\n<p>698 rows × 195 columns</p>\n</div>"
     },
     "metadata": {},
     "execution_count": 116
    }
   ],
   "source": [
    "compdf"
   ]
  },
  {
   "cell_type": "code",
   "execution_count": 117,
   "metadata": {},
   "outputs": [],
   "source": [
    "checkdfdum = pd.get_dummies(checkdf, columns = [1, 2, 3, 4, 5, 6])"
   ]
  },
  {
   "cell_type": "code",
   "execution_count": 118,
   "metadata": {},
   "outputs": [
    {
     "output_type": "execute_result",
     "data": {
      "text/plain": [
       "    pick_position  trumpcount  heldpoints  1_11S  1_12C  1_12D  2_10D  2_11S  \\\n",
       "0               2           4          18      0      1      0      0      0   \n",
       "1               2           5          18      0      1      0      0      0   \n",
       "2               2           5          21      0      1      0      0      0   \n",
       "3               2           5          18      0      1      0      0      0   \n",
       "4               2           5          21      0      1      0      0      0   \n",
       "5               2           6          21      0      1      0      0      0   \n",
       "6               2           4           8      0      1      0      0      0   \n",
       "7               2           4          11      0      1      0      0      0   \n",
       "8               2           5          11      0      1      0      0      0   \n",
       "9               2           5          11      0      1      0      0      0   \n",
       "10              2           4          16      0      1      0      0      0   \n",
       "11              2           4          19      0      1      0      0      0   \n",
       "12              2           5          19      0      1      0      0      0   \n",
       "13              2           5          19      0      1      0      0      0   \n",
       "14              2           4           9      0      1      0      0      0   \n",
       "15              2           4          15      0      1      0      0      1   \n",
       "16              2           4          18      0      1      0      0      1   \n",
       "17              2           5          18      0      1      0      0      1   \n",
       "18              2           5          18      0      1      0      0      1   \n",
       "19              2           4           8      0      1      0      0      1   \n",
       "20              2           4          16      0      1      0      1      0   \n",
       "21              2           4          15      0      0      1      0      1   \n",
       "22              2           4          18      0      0      1      0      1   \n",
       "23              2           5          18      0      0      1      0      1   \n",
       "24              2           5          18      0      0      1      0      1   \n",
       "25              2           4           8      0      0      1      0      1   \n",
       "26              2           4          16      0      0      1      1      0   \n",
       "27              2           4          15      1      0      0      1      0   \n",
       "\n",
       "    2_12D  3_10D  ...  3_8H  4_10D  4_8H  4_9S  5_7D  5_8H  5_9S  6_12H  6_7D  \\\n",
       "0       1      0  ...     0      1     0     0     0     1     0      0     0   \n",
       "1       1      0  ...     0      1     0     0     0     1     0      0     1   \n",
       "2       1      0  ...     0      1     0     0     0     1     0      1     0   \n",
       "3       1      0  ...     0      1     0     0     0     0     1      0     1   \n",
       "4       1      0  ...     0      1     0     0     0     0     1      1     0   \n",
       "5       1      0  ...     0      1     0     0     1     0     0      1     0   \n",
       "6       1      0  ...     0      0     1     0     0     0     1      0     1   \n",
       "7       1      0  ...     0      0     1     0     0     0     1      1     0   \n",
       "8       1      0  ...     0      0     1     0     1     0     0      1     0   \n",
       "9       1      0  ...     0      0     0     1     1     0     0      1     0   \n",
       "10      1      1  ...     0      0     1     0     0     0     1      0     1   \n",
       "11      1      1  ...     0      0     1     0     0     0     1      1     0   \n",
       "12      1      1  ...     0      0     1     0     1     0     0      1     0   \n",
       "13      1      1  ...     0      0     0     1     1     0     0      1     0   \n",
       "14      1      0  ...     1      0     0     1     1     0     0      1     0   \n",
       "15      0      1  ...     0      0     1     0     0     0     1      0     1   \n",
       "16      0      1  ...     0      0     1     0     0     0     1      1     0   \n",
       "17      0      1  ...     0      0     1     0     1     0     0      1     0   \n",
       "18      0      1  ...     0      0     0     1     1     0     0      1     0   \n",
       "19      0      0  ...     1      0     0     1     1     0     0      1     0   \n",
       "20      0      0  ...     1      0     0     1     1     0     0      1     0   \n",
       "21      0      1  ...     0      0     1     0     0     0     1      0     1   \n",
       "22      0      1  ...     0      0     1     0     0     0     1      1     0   \n",
       "23      0      1  ...     0      0     1     0     1     0     0      1     0   \n",
       "24      0      1  ...     0      0     0     1     1     0     0      1     0   \n",
       "25      0      0  ...     1      0     0     1     1     0     0      1     0   \n",
       "26      0      0  ...     1      0     0     1     1     0     0      1     0   \n",
       "27      0      0  ...     1      0     0     1     1     0     0      1     0   \n",
       "\n",
       "    6_9S  \n",
       "0      1  \n",
       "1      0  \n",
       "2      0  \n",
       "3      0  \n",
       "4      0  \n",
       "5      0  \n",
       "6      0  \n",
       "7      0  \n",
       "8      0  \n",
       "9      0  \n",
       "10     0  \n",
       "11     0  \n",
       "12     0  \n",
       "13     0  \n",
       "14     0  \n",
       "15     0  \n",
       "16     0  \n",
       "17     0  \n",
       "18     0  \n",
       "19     0  \n",
       "20     0  \n",
       "21     0  \n",
       "22     0  \n",
       "23     0  \n",
       "24     0  \n",
       "25     0  \n",
       "26     0  \n",
       "27     0  \n",
       "\n",
       "[28 rows x 21 columns]"
      ],
      "text/html": "<div>\n<style scoped>\n    .dataframe tbody tr th:only-of-type {\n        vertical-align: middle;\n    }\n\n    .dataframe tbody tr th {\n        vertical-align: top;\n    }\n\n    .dataframe thead th {\n        text-align: right;\n    }\n</style>\n<table border=\"1\" class=\"dataframe\">\n  <thead>\n    <tr style=\"text-align: right;\">\n      <th></th>\n      <th>pick_position</th>\n      <th>trumpcount</th>\n      <th>heldpoints</th>\n      <th>1_11S</th>\n      <th>1_12C</th>\n      <th>1_12D</th>\n      <th>2_10D</th>\n      <th>2_11S</th>\n      <th>2_12D</th>\n      <th>3_10D</th>\n      <th>...</th>\n      <th>3_8H</th>\n      <th>4_10D</th>\n      <th>4_8H</th>\n      <th>4_9S</th>\n      <th>5_7D</th>\n      <th>5_8H</th>\n      <th>5_9S</th>\n      <th>6_12H</th>\n      <th>6_7D</th>\n      <th>6_9S</th>\n    </tr>\n  </thead>\n  <tbody>\n    <tr>\n      <th>0</th>\n      <td>2</td>\n      <td>4</td>\n      <td>18</td>\n      <td>0</td>\n      <td>1</td>\n      <td>0</td>\n      <td>0</td>\n      <td>0</td>\n      <td>1</td>\n      <td>0</td>\n      <td>...</td>\n      <td>0</td>\n      <td>1</td>\n      <td>0</td>\n      <td>0</td>\n      <td>0</td>\n      <td>1</td>\n      <td>0</td>\n      <td>0</td>\n      <td>0</td>\n      <td>1</td>\n    </tr>\n    <tr>\n      <th>1</th>\n      <td>2</td>\n      <td>5</td>\n      <td>18</td>\n      <td>0</td>\n      <td>1</td>\n      <td>0</td>\n      <td>0</td>\n      <td>0</td>\n      <td>1</td>\n      <td>0</td>\n      <td>...</td>\n      <td>0</td>\n      <td>1</td>\n      <td>0</td>\n      <td>0</td>\n      <td>0</td>\n      <td>1</td>\n      <td>0</td>\n      <td>0</td>\n      <td>1</td>\n      <td>0</td>\n    </tr>\n    <tr>\n      <th>2</th>\n      <td>2</td>\n      <td>5</td>\n      <td>21</td>\n      <td>0</td>\n      <td>1</td>\n      <td>0</td>\n      <td>0</td>\n      <td>0</td>\n      <td>1</td>\n      <td>0</td>\n      <td>...</td>\n      <td>0</td>\n      <td>1</td>\n      <td>0</td>\n      <td>0</td>\n      <td>0</td>\n      <td>1</td>\n      <td>0</td>\n      <td>1</td>\n      <td>0</td>\n      <td>0</td>\n    </tr>\n    <tr>\n      <th>3</th>\n      <td>2</td>\n      <td>5</td>\n      <td>18</td>\n      <td>0</td>\n      <td>1</td>\n      <td>0</td>\n      <td>0</td>\n      <td>0</td>\n      <td>1</td>\n      <td>0</td>\n      <td>...</td>\n      <td>0</td>\n      <td>1</td>\n      <td>0</td>\n      <td>0</td>\n      <td>0</td>\n      <td>0</td>\n      <td>1</td>\n      <td>0</td>\n      <td>1</td>\n      <td>0</td>\n    </tr>\n    <tr>\n      <th>4</th>\n      <td>2</td>\n      <td>5</td>\n      <td>21</td>\n      <td>0</td>\n      <td>1</td>\n      <td>0</td>\n      <td>0</td>\n      <td>0</td>\n      <td>1</td>\n      <td>0</td>\n      <td>...</td>\n      <td>0</td>\n      <td>1</td>\n      <td>0</td>\n      <td>0</td>\n      <td>0</td>\n      <td>0</td>\n      <td>1</td>\n      <td>1</td>\n      <td>0</td>\n      <td>0</td>\n    </tr>\n    <tr>\n      <th>5</th>\n      <td>2</td>\n      <td>6</td>\n      <td>21</td>\n      <td>0</td>\n      <td>1</td>\n      <td>0</td>\n      <td>0</td>\n      <td>0</td>\n      <td>1</td>\n      <td>0</td>\n      <td>...</td>\n      <td>0</td>\n      <td>1</td>\n      <td>0</td>\n      <td>0</td>\n      <td>1</td>\n      <td>0</td>\n      <td>0</td>\n      <td>1</td>\n      <td>0</td>\n      <td>0</td>\n    </tr>\n    <tr>\n      <th>6</th>\n      <td>2</td>\n      <td>4</td>\n      <td>8</td>\n      <td>0</td>\n      <td>1</td>\n      <td>0</td>\n      <td>0</td>\n      <td>0</td>\n      <td>1</td>\n      <td>0</td>\n      <td>...</td>\n      <td>0</td>\n      <td>0</td>\n      <td>1</td>\n      <td>0</td>\n      <td>0</td>\n      <td>0</td>\n      <td>1</td>\n      <td>0</td>\n      <td>1</td>\n      <td>0</td>\n    </tr>\n    <tr>\n      <th>7</th>\n      <td>2</td>\n      <td>4</td>\n      <td>11</td>\n      <td>0</td>\n      <td>1</td>\n      <td>0</td>\n      <td>0</td>\n      <td>0</td>\n      <td>1</td>\n      <td>0</td>\n      <td>...</td>\n      <td>0</td>\n      <td>0</td>\n      <td>1</td>\n      <td>0</td>\n      <td>0</td>\n      <td>0</td>\n      <td>1</td>\n      <td>1</td>\n      <td>0</td>\n      <td>0</td>\n    </tr>\n    <tr>\n      <th>8</th>\n      <td>2</td>\n      <td>5</td>\n      <td>11</td>\n      <td>0</td>\n      <td>1</td>\n      <td>0</td>\n      <td>0</td>\n      <td>0</td>\n      <td>1</td>\n      <td>0</td>\n      <td>...</td>\n      <td>0</td>\n      <td>0</td>\n      <td>1</td>\n      <td>0</td>\n      <td>1</td>\n      <td>0</td>\n      <td>0</td>\n      <td>1</td>\n      <td>0</td>\n      <td>0</td>\n    </tr>\n    <tr>\n      <th>9</th>\n      <td>2</td>\n      <td>5</td>\n      <td>11</td>\n      <td>0</td>\n      <td>1</td>\n      <td>0</td>\n      <td>0</td>\n      <td>0</td>\n      <td>1</td>\n      <td>0</td>\n      <td>...</td>\n      <td>0</td>\n      <td>0</td>\n      <td>0</td>\n      <td>1</td>\n      <td>1</td>\n      <td>0</td>\n      <td>0</td>\n      <td>1</td>\n      <td>0</td>\n      <td>0</td>\n    </tr>\n    <tr>\n      <th>10</th>\n      <td>2</td>\n      <td>4</td>\n      <td>16</td>\n      <td>0</td>\n      <td>1</td>\n      <td>0</td>\n      <td>0</td>\n      <td>0</td>\n      <td>1</td>\n      <td>1</td>\n      <td>...</td>\n      <td>0</td>\n      <td>0</td>\n      <td>1</td>\n      <td>0</td>\n      <td>0</td>\n      <td>0</td>\n      <td>1</td>\n      <td>0</td>\n      <td>1</td>\n      <td>0</td>\n    </tr>\n    <tr>\n      <th>11</th>\n      <td>2</td>\n      <td>4</td>\n      <td>19</td>\n      <td>0</td>\n      <td>1</td>\n      <td>0</td>\n      <td>0</td>\n      <td>0</td>\n      <td>1</td>\n      <td>1</td>\n      <td>...</td>\n      <td>0</td>\n      <td>0</td>\n      <td>1</td>\n      <td>0</td>\n      <td>0</td>\n      <td>0</td>\n      <td>1</td>\n      <td>1</td>\n      <td>0</td>\n      <td>0</td>\n    </tr>\n    <tr>\n      <th>12</th>\n      <td>2</td>\n      <td>5</td>\n      <td>19</td>\n      <td>0</td>\n      <td>1</td>\n      <td>0</td>\n      <td>0</td>\n      <td>0</td>\n      <td>1</td>\n      <td>1</td>\n      <td>...</td>\n      <td>0</td>\n      <td>0</td>\n      <td>1</td>\n      <td>0</td>\n      <td>1</td>\n      <td>0</td>\n      <td>0</td>\n      <td>1</td>\n      <td>0</td>\n      <td>0</td>\n    </tr>\n    <tr>\n      <th>13</th>\n      <td>2</td>\n      <td>5</td>\n      <td>19</td>\n      <td>0</td>\n      <td>1</td>\n      <td>0</td>\n      <td>0</td>\n      <td>0</td>\n      <td>1</td>\n      <td>1</td>\n      <td>...</td>\n      <td>0</td>\n      <td>0</td>\n      <td>0</td>\n      <td>1</td>\n      <td>1</td>\n      <td>0</td>\n      <td>0</td>\n      <td>1</td>\n      <td>0</td>\n      <td>0</td>\n    </tr>\n    <tr>\n      <th>14</th>\n      <td>2</td>\n      <td>4</td>\n      <td>9</td>\n      <td>0</td>\n      <td>1</td>\n      <td>0</td>\n      <td>0</td>\n      <td>0</td>\n      <td>1</td>\n      <td>0</td>\n      <td>...</td>\n      <td>1</td>\n      <td>0</td>\n      <td>0</td>\n      <td>1</td>\n      <td>1</td>\n      <td>0</td>\n      <td>0</td>\n      <td>1</td>\n      <td>0</td>\n      <td>0</td>\n    </tr>\n    <tr>\n      <th>15</th>\n      <td>2</td>\n      <td>4</td>\n      <td>15</td>\n      <td>0</td>\n      <td>1</td>\n      <td>0</td>\n      <td>0</td>\n      <td>1</td>\n      <td>0</td>\n      <td>1</td>\n      <td>...</td>\n      <td>0</td>\n      <td>0</td>\n      <td>1</td>\n      <td>0</td>\n      <td>0</td>\n      <td>0</td>\n      <td>1</td>\n      <td>0</td>\n      <td>1</td>\n      <td>0</td>\n    </tr>\n    <tr>\n      <th>16</th>\n      <td>2</td>\n      <td>4</td>\n      <td>18</td>\n      <td>0</td>\n      <td>1</td>\n      <td>0</td>\n      <td>0</td>\n      <td>1</td>\n      <td>0</td>\n      <td>1</td>\n      <td>...</td>\n      <td>0</td>\n      <td>0</td>\n      <td>1</td>\n      <td>0</td>\n      <td>0</td>\n      <td>0</td>\n      <td>1</td>\n      <td>1</td>\n      <td>0</td>\n      <td>0</td>\n    </tr>\n    <tr>\n      <th>17</th>\n      <td>2</td>\n      <td>5</td>\n      <td>18</td>\n      <td>0</td>\n      <td>1</td>\n      <td>0</td>\n      <td>0</td>\n      <td>1</td>\n      <td>0</td>\n      <td>1</td>\n      <td>...</td>\n      <td>0</td>\n      <td>0</td>\n      <td>1</td>\n      <td>0</td>\n      <td>1</td>\n      <td>0</td>\n      <td>0</td>\n      <td>1</td>\n      <td>0</td>\n      <td>0</td>\n    </tr>\n    <tr>\n      <th>18</th>\n      <td>2</td>\n      <td>5</td>\n      <td>18</td>\n      <td>0</td>\n      <td>1</td>\n      <td>0</td>\n      <td>0</td>\n      <td>1</td>\n      <td>0</td>\n      <td>1</td>\n      <td>...</td>\n      <td>0</td>\n      <td>0</td>\n      <td>0</td>\n      <td>1</td>\n      <td>1</td>\n      <td>0</td>\n      <td>0</td>\n      <td>1</td>\n      <td>0</td>\n      <td>0</td>\n    </tr>\n    <tr>\n      <th>19</th>\n      <td>2</td>\n      <td>4</td>\n      <td>8</td>\n      <td>0</td>\n      <td>1</td>\n      <td>0</td>\n      <td>0</td>\n      <td>1</td>\n      <td>0</td>\n      <td>0</td>\n      <td>...</td>\n      <td>1</td>\n      <td>0</td>\n      <td>0</td>\n      <td>1</td>\n      <td>1</td>\n      <td>0</td>\n      <td>0</td>\n      <td>1</td>\n      <td>0</td>\n      <td>0</td>\n    </tr>\n    <tr>\n      <th>20</th>\n      <td>2</td>\n      <td>4</td>\n      <td>16</td>\n      <td>0</td>\n      <td>1</td>\n      <td>0</td>\n      <td>1</td>\n      <td>0</td>\n      <td>0</td>\n      <td>0</td>\n      <td>...</td>\n      <td>1</td>\n      <td>0</td>\n      <td>0</td>\n      <td>1</td>\n      <td>1</td>\n      <td>0</td>\n      <td>0</td>\n      <td>1</td>\n      <td>0</td>\n      <td>0</td>\n    </tr>\n    <tr>\n      <th>21</th>\n      <td>2</td>\n      <td>4</td>\n      <td>15</td>\n      <td>0</td>\n      <td>0</td>\n      <td>1</td>\n      <td>0</td>\n      <td>1</td>\n      <td>0</td>\n      <td>1</td>\n      <td>...</td>\n      <td>0</td>\n      <td>0</td>\n      <td>1</td>\n      <td>0</td>\n      <td>0</td>\n      <td>0</td>\n      <td>1</td>\n      <td>0</td>\n      <td>1</td>\n      <td>0</td>\n    </tr>\n    <tr>\n      <th>22</th>\n      <td>2</td>\n      <td>4</td>\n      <td>18</td>\n      <td>0</td>\n      <td>0</td>\n      <td>1</td>\n      <td>0</td>\n      <td>1</td>\n      <td>0</td>\n      <td>1</td>\n      <td>...</td>\n      <td>0</td>\n      <td>0</td>\n      <td>1</td>\n      <td>0</td>\n      <td>0</td>\n      <td>0</td>\n      <td>1</td>\n      <td>1</td>\n      <td>0</td>\n      <td>0</td>\n    </tr>\n    <tr>\n      <th>23</th>\n      <td>2</td>\n      <td>5</td>\n      <td>18</td>\n      <td>0</td>\n      <td>0</td>\n      <td>1</td>\n      <td>0</td>\n      <td>1</td>\n      <td>0</td>\n      <td>1</td>\n      <td>...</td>\n      <td>0</td>\n      <td>0</td>\n      <td>1</td>\n      <td>0</td>\n      <td>1</td>\n      <td>0</td>\n      <td>0</td>\n      <td>1</td>\n      <td>0</td>\n      <td>0</td>\n    </tr>\n    <tr>\n      <th>24</th>\n      <td>2</td>\n      <td>5</td>\n      <td>18</td>\n      <td>0</td>\n      <td>0</td>\n      <td>1</td>\n      <td>0</td>\n      <td>1</td>\n      <td>0</td>\n      <td>1</td>\n      <td>...</td>\n      <td>0</td>\n      <td>0</td>\n      <td>0</td>\n      <td>1</td>\n      <td>1</td>\n      <td>0</td>\n      <td>0</td>\n      <td>1</td>\n      <td>0</td>\n      <td>0</td>\n    </tr>\n    <tr>\n      <th>25</th>\n      <td>2</td>\n      <td>4</td>\n      <td>8</td>\n      <td>0</td>\n      <td>0</td>\n      <td>1</td>\n      <td>0</td>\n      <td>1</td>\n      <td>0</td>\n      <td>0</td>\n      <td>...</td>\n      <td>1</td>\n      <td>0</td>\n      <td>0</td>\n      <td>1</td>\n      <td>1</td>\n      <td>0</td>\n      <td>0</td>\n      <td>1</td>\n      <td>0</td>\n      <td>0</td>\n    </tr>\n    <tr>\n      <th>26</th>\n      <td>2</td>\n      <td>4</td>\n      <td>16</td>\n      <td>0</td>\n      <td>0</td>\n      <td>1</td>\n      <td>1</td>\n      <td>0</td>\n      <td>0</td>\n      <td>0</td>\n      <td>...</td>\n      <td>1</td>\n      <td>0</td>\n      <td>0</td>\n      <td>1</td>\n      <td>1</td>\n      <td>0</td>\n      <td>0</td>\n      <td>1</td>\n      <td>0</td>\n      <td>0</td>\n    </tr>\n    <tr>\n      <th>27</th>\n      <td>2</td>\n      <td>4</td>\n      <td>15</td>\n      <td>1</td>\n      <td>0</td>\n      <td>0</td>\n      <td>1</td>\n      <td>0</td>\n      <td>0</td>\n      <td>0</td>\n      <td>...</td>\n      <td>1</td>\n      <td>0</td>\n      <td>0</td>\n      <td>1</td>\n      <td>1</td>\n      <td>0</td>\n      <td>0</td>\n      <td>1</td>\n      <td>0</td>\n      <td>0</td>\n    </tr>\n  </tbody>\n</table>\n<p>28 rows × 21 columns</p>\n</div>"
     },
     "metadata": {},
     "execution_count": 118
    }
   ],
   "source": [
    "checkdfdum"
   ]
  },
  {
   "cell_type": "code",
   "execution_count": 119,
   "metadata": {},
   "outputs": [],
   "source": [
    "missing_cols = set(compdf.columns) - set(checkdfdum.columns)"
   ]
  },
  {
   "cell_type": "code",
   "execution_count": 121,
   "metadata": {},
   "outputs": [
    {
     "output_type": "execute_result",
     "data": {
      "text/plain": [
       "174"
      ]
     },
     "metadata": {},
     "execution_count": 121
    }
   ],
   "source": [
    "len(missing_cols)\n"
   ]
  },
  {
   "cell_type": "code",
   "execution_count": 122,
   "metadata": {},
   "outputs": [],
   "source": [
    "for c in missing_cols:\n",
    "    checkdfdum[c] = 0"
   ]
  },
  {
   "cell_type": "code",
   "execution_count": 123,
   "metadata": {},
   "outputs": [],
   "source": [
    "checkdfdum = checkdfdum[compdf.columns]"
   ]
  },
  {
   "cell_type": "code",
   "execution_count": 124,
   "metadata": {},
   "outputs": [
    {
     "output_type": "execute_result",
     "data": {
      "text/plain": [
       "    pick_position  trumpcount  heldpoints  1_10C  1_10D  1_10H  1_10S  1_11C  \\\n",
       "0               2           4          18      0      0      0      0      0   \n",
       "1               2           5          18      0      0      0      0      0   \n",
       "2               2           5          21      0      0      0      0      0   \n",
       "3               2           5          18      0      0      0      0      0   \n",
       "4               2           5          21      0      0      0      0      0   \n",
       "5               2           6          21      0      0      0      0      0   \n",
       "6               2           4           8      0      0      0      0      0   \n",
       "7               2           4          11      0      0      0      0      0   \n",
       "8               2           5          11      0      0      0      0      0   \n",
       "9               2           5          11      0      0      0      0      0   \n",
       "10              2           4          16      0      0      0      0      0   \n",
       "11              2           4          19      0      0      0      0      0   \n",
       "12              2           5          19      0      0      0      0      0   \n",
       "13              2           5          19      0      0      0      0      0   \n",
       "14              2           4           9      0      0      0      0      0   \n",
       "15              2           4          15      0      0      0      0      0   \n",
       "16              2           4          18      0      0      0      0      0   \n",
       "17              2           5          18      0      0      0      0      0   \n",
       "18              2           5          18      0      0      0      0      0   \n",
       "19              2           4           8      0      0      0      0      0   \n",
       "20              2           4          16      0      0      0      0      0   \n",
       "21              2           4          15      0      0      0      0      0   \n",
       "22              2           4          18      0      0      0      0      0   \n",
       "23              2           5          18      0      0      0      0      0   \n",
       "24              2           5          18      0      0      0      0      0   \n",
       "25              2           4           8      0      0      0      0      0   \n",
       "26              2           4          16      0      0      0      0      0   \n",
       "27              2           4          15      0      0      0      0      0   \n",
       "\n",
       "    1_11D  1_11H  ...  6_7H  6_7S  6_8C  6_8D  6_8H  6_8S  6_9C  6_9D  6_9H  \\\n",
       "0       0      0  ...     0     0     0     0     0     0     0     0     0   \n",
       "1       0      0  ...     0     0     0     0     0     0     0     0     0   \n",
       "2       0      0  ...     0     0     0     0     0     0     0     0     0   \n",
       "3       0      0  ...     0     0     0     0     0     0     0     0     0   \n",
       "4       0      0  ...     0     0     0     0     0     0     0     0     0   \n",
       "5       0      0  ...     0     0     0     0     0     0     0     0     0   \n",
       "6       0      0  ...     0     0     0     0     0     0     0     0     0   \n",
       "7       0      0  ...     0     0     0     0     0     0     0     0     0   \n",
       "8       0      0  ...     0     0     0     0     0     0     0     0     0   \n",
       "9       0      0  ...     0     0     0     0     0     0     0     0     0   \n",
       "10      0      0  ...     0     0     0     0     0     0     0     0     0   \n",
       "11      0      0  ...     0     0     0     0     0     0     0     0     0   \n",
       "12      0      0  ...     0     0     0     0     0     0     0     0     0   \n",
       "13      0      0  ...     0     0     0     0     0     0     0     0     0   \n",
       "14      0      0  ...     0     0     0     0     0     0     0     0     0   \n",
       "15      0      0  ...     0     0     0     0     0     0     0     0     0   \n",
       "16      0      0  ...     0     0     0     0     0     0     0     0     0   \n",
       "17      0      0  ...     0     0     0     0     0     0     0     0     0   \n",
       "18      0      0  ...     0     0     0     0     0     0     0     0     0   \n",
       "19      0      0  ...     0     0     0     0     0     0     0     0     0   \n",
       "20      0      0  ...     0     0     0     0     0     0     0     0     0   \n",
       "21      0      0  ...     0     0     0     0     0     0     0     0     0   \n",
       "22      0      0  ...     0     0     0     0     0     0     0     0     0   \n",
       "23      0      0  ...     0     0     0     0     0     0     0     0     0   \n",
       "24      0      0  ...     0     0     0     0     0     0     0     0     0   \n",
       "25      0      0  ...     0     0     0     0     0     0     0     0     0   \n",
       "26      0      0  ...     0     0     0     0     0     0     0     0     0   \n",
       "27      0      0  ...     0     0     0     0     0     0     0     0     0   \n",
       "\n",
       "    6_9S  \n",
       "0      1  \n",
       "1      0  \n",
       "2      0  \n",
       "3      0  \n",
       "4      0  \n",
       "5      0  \n",
       "6      0  \n",
       "7      0  \n",
       "8      0  \n",
       "9      0  \n",
       "10     0  \n",
       "11     0  \n",
       "12     0  \n",
       "13     0  \n",
       "14     0  \n",
       "15     0  \n",
       "16     0  \n",
       "17     0  \n",
       "18     0  \n",
       "19     0  \n",
       "20     0  \n",
       "21     0  \n",
       "22     0  \n",
       "23     0  \n",
       "24     0  \n",
       "25     0  \n",
       "26     0  \n",
       "27     0  \n",
       "\n",
       "[28 rows x 195 columns]"
      ],
      "text/html": "<div>\n<style scoped>\n    .dataframe tbody tr th:only-of-type {\n        vertical-align: middle;\n    }\n\n    .dataframe tbody tr th {\n        vertical-align: top;\n    }\n\n    .dataframe thead th {\n        text-align: right;\n    }\n</style>\n<table border=\"1\" class=\"dataframe\">\n  <thead>\n    <tr style=\"text-align: right;\">\n      <th></th>\n      <th>pick_position</th>\n      <th>trumpcount</th>\n      <th>heldpoints</th>\n      <th>1_10C</th>\n      <th>1_10D</th>\n      <th>1_10H</th>\n      <th>1_10S</th>\n      <th>1_11C</th>\n      <th>1_11D</th>\n      <th>1_11H</th>\n      <th>...</th>\n      <th>6_7H</th>\n      <th>6_7S</th>\n      <th>6_8C</th>\n      <th>6_8D</th>\n      <th>6_8H</th>\n      <th>6_8S</th>\n      <th>6_9C</th>\n      <th>6_9D</th>\n      <th>6_9H</th>\n      <th>6_9S</th>\n    </tr>\n  </thead>\n  <tbody>\n    <tr>\n      <th>0</th>\n      <td>2</td>\n      <td>4</td>\n      <td>18</td>\n      <td>0</td>\n      <td>0</td>\n      <td>0</td>\n      <td>0</td>\n      <td>0</td>\n      <td>0</td>\n      <td>0</td>\n      <td>...</td>\n      <td>0</td>\n      <td>0</td>\n      <td>0</td>\n      <td>0</td>\n      <td>0</td>\n      <td>0</td>\n      <td>0</td>\n      <td>0</td>\n      <td>0</td>\n      <td>1</td>\n    </tr>\n    <tr>\n      <th>1</th>\n      <td>2</td>\n      <td>5</td>\n      <td>18</td>\n      <td>0</td>\n      <td>0</td>\n      <td>0</td>\n      <td>0</td>\n      <td>0</td>\n      <td>0</td>\n      <td>0</td>\n      <td>...</td>\n      <td>0</td>\n      <td>0</td>\n      <td>0</td>\n      <td>0</td>\n      <td>0</td>\n      <td>0</td>\n      <td>0</td>\n      <td>0</td>\n      <td>0</td>\n      <td>0</td>\n    </tr>\n    <tr>\n      <th>2</th>\n      <td>2</td>\n      <td>5</td>\n      <td>21</td>\n      <td>0</td>\n      <td>0</td>\n      <td>0</td>\n      <td>0</td>\n      <td>0</td>\n      <td>0</td>\n      <td>0</td>\n      <td>...</td>\n      <td>0</td>\n      <td>0</td>\n      <td>0</td>\n      <td>0</td>\n      <td>0</td>\n      <td>0</td>\n      <td>0</td>\n      <td>0</td>\n      <td>0</td>\n      <td>0</td>\n    </tr>\n    <tr>\n      <th>3</th>\n      <td>2</td>\n      <td>5</td>\n      <td>18</td>\n      <td>0</td>\n      <td>0</td>\n      <td>0</td>\n      <td>0</td>\n      <td>0</td>\n      <td>0</td>\n      <td>0</td>\n      <td>...</td>\n      <td>0</td>\n      <td>0</td>\n      <td>0</td>\n      <td>0</td>\n      <td>0</td>\n      <td>0</td>\n      <td>0</td>\n      <td>0</td>\n      <td>0</td>\n      <td>0</td>\n    </tr>\n    <tr>\n      <th>4</th>\n      <td>2</td>\n      <td>5</td>\n      <td>21</td>\n      <td>0</td>\n      <td>0</td>\n      <td>0</td>\n      <td>0</td>\n      <td>0</td>\n      <td>0</td>\n      <td>0</td>\n      <td>...</td>\n      <td>0</td>\n      <td>0</td>\n      <td>0</td>\n      <td>0</td>\n      <td>0</td>\n      <td>0</td>\n      <td>0</td>\n      <td>0</td>\n      <td>0</td>\n      <td>0</td>\n    </tr>\n    <tr>\n      <th>5</th>\n      <td>2</td>\n      <td>6</td>\n      <td>21</td>\n      <td>0</td>\n      <td>0</td>\n      <td>0</td>\n      <td>0</td>\n      <td>0</td>\n      <td>0</td>\n      <td>0</td>\n      <td>...</td>\n      <td>0</td>\n      <td>0</td>\n      <td>0</td>\n      <td>0</td>\n      <td>0</td>\n      <td>0</td>\n      <td>0</td>\n      <td>0</td>\n      <td>0</td>\n      <td>0</td>\n    </tr>\n    <tr>\n      <th>6</th>\n      <td>2</td>\n      <td>4</td>\n      <td>8</td>\n      <td>0</td>\n      <td>0</td>\n      <td>0</td>\n      <td>0</td>\n      <td>0</td>\n      <td>0</td>\n      <td>0</td>\n      <td>...</td>\n      <td>0</td>\n      <td>0</td>\n      <td>0</td>\n      <td>0</td>\n      <td>0</td>\n      <td>0</td>\n      <td>0</td>\n      <td>0</td>\n      <td>0</td>\n      <td>0</td>\n    </tr>\n    <tr>\n      <th>7</th>\n      <td>2</td>\n      <td>4</td>\n      <td>11</td>\n      <td>0</td>\n      <td>0</td>\n      <td>0</td>\n      <td>0</td>\n      <td>0</td>\n      <td>0</td>\n      <td>0</td>\n      <td>...</td>\n      <td>0</td>\n      <td>0</td>\n      <td>0</td>\n      <td>0</td>\n      <td>0</td>\n      <td>0</td>\n      <td>0</td>\n      <td>0</td>\n      <td>0</td>\n      <td>0</td>\n    </tr>\n    <tr>\n      <th>8</th>\n      <td>2</td>\n      <td>5</td>\n      <td>11</td>\n      <td>0</td>\n      <td>0</td>\n      <td>0</td>\n      <td>0</td>\n      <td>0</td>\n      <td>0</td>\n      <td>0</td>\n      <td>...</td>\n      <td>0</td>\n      <td>0</td>\n      <td>0</td>\n      <td>0</td>\n      <td>0</td>\n      <td>0</td>\n      <td>0</td>\n      <td>0</td>\n      <td>0</td>\n      <td>0</td>\n    </tr>\n    <tr>\n      <th>9</th>\n      <td>2</td>\n      <td>5</td>\n      <td>11</td>\n      <td>0</td>\n      <td>0</td>\n      <td>0</td>\n      <td>0</td>\n      <td>0</td>\n      <td>0</td>\n      <td>0</td>\n      <td>...</td>\n      <td>0</td>\n      <td>0</td>\n      <td>0</td>\n      <td>0</td>\n      <td>0</td>\n      <td>0</td>\n      <td>0</td>\n      <td>0</td>\n      <td>0</td>\n      <td>0</td>\n    </tr>\n    <tr>\n      <th>10</th>\n      <td>2</td>\n      <td>4</td>\n      <td>16</td>\n      <td>0</td>\n      <td>0</td>\n      <td>0</td>\n      <td>0</td>\n      <td>0</td>\n      <td>0</td>\n      <td>0</td>\n      <td>...</td>\n      <td>0</td>\n      <td>0</td>\n      <td>0</td>\n      <td>0</td>\n      <td>0</td>\n      <td>0</td>\n      <td>0</td>\n      <td>0</td>\n      <td>0</td>\n      <td>0</td>\n    </tr>\n    <tr>\n      <th>11</th>\n      <td>2</td>\n      <td>4</td>\n      <td>19</td>\n      <td>0</td>\n      <td>0</td>\n      <td>0</td>\n      <td>0</td>\n      <td>0</td>\n      <td>0</td>\n      <td>0</td>\n      <td>...</td>\n      <td>0</td>\n      <td>0</td>\n      <td>0</td>\n      <td>0</td>\n      <td>0</td>\n      <td>0</td>\n      <td>0</td>\n      <td>0</td>\n      <td>0</td>\n      <td>0</td>\n    </tr>\n    <tr>\n      <th>12</th>\n      <td>2</td>\n      <td>5</td>\n      <td>19</td>\n      <td>0</td>\n      <td>0</td>\n      <td>0</td>\n      <td>0</td>\n      <td>0</td>\n      <td>0</td>\n      <td>0</td>\n      <td>...</td>\n      <td>0</td>\n      <td>0</td>\n      <td>0</td>\n      <td>0</td>\n      <td>0</td>\n      <td>0</td>\n      <td>0</td>\n      <td>0</td>\n      <td>0</td>\n      <td>0</td>\n    </tr>\n    <tr>\n      <th>13</th>\n      <td>2</td>\n      <td>5</td>\n      <td>19</td>\n      <td>0</td>\n      <td>0</td>\n      <td>0</td>\n      <td>0</td>\n      <td>0</td>\n      <td>0</td>\n      <td>0</td>\n      <td>...</td>\n      <td>0</td>\n      <td>0</td>\n      <td>0</td>\n      <td>0</td>\n      <td>0</td>\n      <td>0</td>\n      <td>0</td>\n      <td>0</td>\n      <td>0</td>\n      <td>0</td>\n    </tr>\n    <tr>\n      <th>14</th>\n      <td>2</td>\n      <td>4</td>\n      <td>9</td>\n      <td>0</td>\n      <td>0</td>\n      <td>0</td>\n      <td>0</td>\n      <td>0</td>\n      <td>0</td>\n      <td>0</td>\n      <td>...</td>\n      <td>0</td>\n      <td>0</td>\n      <td>0</td>\n      <td>0</td>\n      <td>0</td>\n      <td>0</td>\n      <td>0</td>\n      <td>0</td>\n      <td>0</td>\n      <td>0</td>\n    </tr>\n    <tr>\n      <th>15</th>\n      <td>2</td>\n      <td>4</td>\n      <td>15</td>\n      <td>0</td>\n      <td>0</td>\n      <td>0</td>\n      <td>0</td>\n      <td>0</td>\n      <td>0</td>\n      <td>0</td>\n      <td>...</td>\n      <td>0</td>\n      <td>0</td>\n      <td>0</td>\n      <td>0</td>\n      <td>0</td>\n      <td>0</td>\n      <td>0</td>\n      <td>0</td>\n      <td>0</td>\n      <td>0</td>\n    </tr>\n    <tr>\n      <th>16</th>\n      <td>2</td>\n      <td>4</td>\n      <td>18</td>\n      <td>0</td>\n      <td>0</td>\n      <td>0</td>\n      <td>0</td>\n      <td>0</td>\n      <td>0</td>\n      <td>0</td>\n      <td>...</td>\n      <td>0</td>\n      <td>0</td>\n      <td>0</td>\n      <td>0</td>\n      <td>0</td>\n      <td>0</td>\n      <td>0</td>\n      <td>0</td>\n      <td>0</td>\n      <td>0</td>\n    </tr>\n    <tr>\n      <th>17</th>\n      <td>2</td>\n      <td>5</td>\n      <td>18</td>\n      <td>0</td>\n      <td>0</td>\n      <td>0</td>\n      <td>0</td>\n      <td>0</td>\n      <td>0</td>\n      <td>0</td>\n      <td>...</td>\n      <td>0</td>\n      <td>0</td>\n      <td>0</td>\n      <td>0</td>\n      <td>0</td>\n      <td>0</td>\n      <td>0</td>\n      <td>0</td>\n      <td>0</td>\n      <td>0</td>\n    </tr>\n    <tr>\n      <th>18</th>\n      <td>2</td>\n      <td>5</td>\n      <td>18</td>\n      <td>0</td>\n      <td>0</td>\n      <td>0</td>\n      <td>0</td>\n      <td>0</td>\n      <td>0</td>\n      <td>0</td>\n      <td>...</td>\n      <td>0</td>\n      <td>0</td>\n      <td>0</td>\n      <td>0</td>\n      <td>0</td>\n      <td>0</td>\n      <td>0</td>\n      <td>0</td>\n      <td>0</td>\n      <td>0</td>\n    </tr>\n    <tr>\n      <th>19</th>\n      <td>2</td>\n      <td>4</td>\n      <td>8</td>\n      <td>0</td>\n      <td>0</td>\n      <td>0</td>\n      <td>0</td>\n      <td>0</td>\n      <td>0</td>\n      <td>0</td>\n      <td>...</td>\n      <td>0</td>\n      <td>0</td>\n      <td>0</td>\n      <td>0</td>\n      <td>0</td>\n      <td>0</td>\n      <td>0</td>\n      <td>0</td>\n      <td>0</td>\n      <td>0</td>\n    </tr>\n    <tr>\n      <th>20</th>\n      <td>2</td>\n      <td>4</td>\n      <td>16</td>\n      <td>0</td>\n      <td>0</td>\n      <td>0</td>\n      <td>0</td>\n      <td>0</td>\n      <td>0</td>\n      <td>0</td>\n      <td>...</td>\n      <td>0</td>\n      <td>0</td>\n      <td>0</td>\n      <td>0</td>\n      <td>0</td>\n      <td>0</td>\n      <td>0</td>\n      <td>0</td>\n      <td>0</td>\n      <td>0</td>\n    </tr>\n    <tr>\n      <th>21</th>\n      <td>2</td>\n      <td>4</td>\n      <td>15</td>\n      <td>0</td>\n      <td>0</td>\n      <td>0</td>\n      <td>0</td>\n      <td>0</td>\n      <td>0</td>\n      <td>0</td>\n      <td>...</td>\n      <td>0</td>\n      <td>0</td>\n      <td>0</td>\n      <td>0</td>\n      <td>0</td>\n      <td>0</td>\n      <td>0</td>\n      <td>0</td>\n      <td>0</td>\n      <td>0</td>\n    </tr>\n    <tr>\n      <th>22</th>\n      <td>2</td>\n      <td>4</td>\n      <td>18</td>\n      <td>0</td>\n      <td>0</td>\n      <td>0</td>\n      <td>0</td>\n      <td>0</td>\n      <td>0</td>\n      <td>0</td>\n      <td>...</td>\n      <td>0</td>\n      <td>0</td>\n      <td>0</td>\n      <td>0</td>\n      <td>0</td>\n      <td>0</td>\n      <td>0</td>\n      <td>0</td>\n      <td>0</td>\n      <td>0</td>\n    </tr>\n    <tr>\n      <th>23</th>\n      <td>2</td>\n      <td>5</td>\n      <td>18</td>\n      <td>0</td>\n      <td>0</td>\n      <td>0</td>\n      <td>0</td>\n      <td>0</td>\n      <td>0</td>\n      <td>0</td>\n      <td>...</td>\n      <td>0</td>\n      <td>0</td>\n      <td>0</td>\n      <td>0</td>\n      <td>0</td>\n      <td>0</td>\n      <td>0</td>\n      <td>0</td>\n      <td>0</td>\n      <td>0</td>\n    </tr>\n    <tr>\n      <th>24</th>\n      <td>2</td>\n      <td>5</td>\n      <td>18</td>\n      <td>0</td>\n      <td>0</td>\n      <td>0</td>\n      <td>0</td>\n      <td>0</td>\n      <td>0</td>\n      <td>0</td>\n      <td>...</td>\n      <td>0</td>\n      <td>0</td>\n      <td>0</td>\n      <td>0</td>\n      <td>0</td>\n      <td>0</td>\n      <td>0</td>\n      <td>0</td>\n      <td>0</td>\n      <td>0</td>\n    </tr>\n    <tr>\n      <th>25</th>\n      <td>2</td>\n      <td>4</td>\n      <td>8</td>\n      <td>0</td>\n      <td>0</td>\n      <td>0</td>\n      <td>0</td>\n      <td>0</td>\n      <td>0</td>\n      <td>0</td>\n      <td>...</td>\n      <td>0</td>\n      <td>0</td>\n      <td>0</td>\n      <td>0</td>\n      <td>0</td>\n      <td>0</td>\n      <td>0</td>\n      <td>0</td>\n      <td>0</td>\n      <td>0</td>\n    </tr>\n    <tr>\n      <th>26</th>\n      <td>2</td>\n      <td>4</td>\n      <td>16</td>\n      <td>0</td>\n      <td>0</td>\n      <td>0</td>\n      <td>0</td>\n      <td>0</td>\n      <td>0</td>\n      <td>0</td>\n      <td>...</td>\n      <td>0</td>\n      <td>0</td>\n      <td>0</td>\n      <td>0</td>\n      <td>0</td>\n      <td>0</td>\n      <td>0</td>\n      <td>0</td>\n      <td>0</td>\n      <td>0</td>\n    </tr>\n    <tr>\n      <th>27</th>\n      <td>2</td>\n      <td>4</td>\n      <td>15</td>\n      <td>0</td>\n      <td>0</td>\n      <td>0</td>\n      <td>0</td>\n      <td>0</td>\n      <td>0</td>\n      <td>0</td>\n      <td>...</td>\n      <td>0</td>\n      <td>0</td>\n      <td>0</td>\n      <td>0</td>\n      <td>0</td>\n      <td>0</td>\n      <td>0</td>\n      <td>0</td>\n      <td>0</td>\n      <td>0</td>\n    </tr>\n  </tbody>\n</table>\n<p>28 rows × 195 columns</p>\n</div>"
     },
     "metadata": {},
     "execution_count": 124
    }
   ],
   "source": [
    "checkdfdum"
   ]
  },
  {
   "cell_type": "code",
   "execution_count": 126,
   "metadata": {},
   "outputs": [],
   "source": [
    "import joblib"
   ]
  },
  {
   "cell_type": "code",
   "execution_count": 127,
   "metadata": {},
   "outputs": [],
   "source": [
    "log_reg = joblib.load('log_reg_mod.joblib')"
   ]
  },
  {
   "cell_type": "code",
   "execution_count": 128,
   "metadata": {},
   "outputs": [],
   "source": [
    "checkX = checkdfdum.iloc[:,:]"
   ]
  },
  {
   "cell_type": "code",
   "execution_count": 129,
   "metadata": {},
   "outputs": [],
   "source": [
    "predscheck = log_reg.predict(checkX)"
   ]
  },
  {
   "cell_type": "code",
   "execution_count": 132,
   "metadata": {},
   "outputs": [],
   "source": [
    "probacheck = log_reg.predict_proba(checkX)"
   ]
  },
  {
   "cell_type": "code",
   "execution_count": 195,
   "metadata": {},
   "outputs": [
    {
     "output_type": "execute_result",
     "data": {
      "text/plain": [
       "0.7986902654350313"
      ]
     },
     "metadata": {},
     "execution_count": 195
    }
   ],
   "source": [
    "probacheck"
   ]
  },
  {
   "cell_type": "code",
   "execution_count": 151,
   "metadata": {},
   "outputs": [
    {
     "output_type": "execute_result",
     "data": {
      "text/plain": [
       "0.9315768398724004"
      ]
     },
     "metadata": {},
     "execution_count": 151
    }
   ],
   "source": [
    "prob = np.amax(probacheck, axis=0)[1]"
   ]
  },
  {
   "cell_type": "code",
   "execution_count": 154,
   "metadata": {},
   "outputs": [],
   "source": [
    "hand_to_play_index = np.where(probacheck == np.amax(probacheck, axis=0)[1])"
   ]
  },
  {
   "cell_type": "code",
   "execution_count": 158,
   "metadata": {},
   "outputs": [
    {
     "output_type": "execute_result",
     "data": {
      "text/plain": [
       "(array([5]), array([1]))"
      ]
     },
     "metadata": {},
     "execution_count": 158
    }
   ],
   "source": [
    "hand_to_play_index"
   ]
  },
  {
   "cell_type": "code",
   "execution_count": 157,
   "metadata": {},
   "outputs": [
    {
     "output_type": "execute_result",
     "data": {
      "text/plain": [
       "['12C', '12D', '11S', '10D', '7D', '12H']"
      ]
     },
     "metadata": {},
     "execution_count": 157
    }
   ],
   "source": [
    "data[hand_to_play_index[0][0]][:6]"
   ]
  },
  {
   "cell_type": "code",
   "execution_count": 142,
   "metadata": {},
   "outputs": [
    {
     "output_type": "stream",
     "name": "stdout",
     "text": [
      "1\n"
     ]
    }
   ],
   "source": []
  },
  {
   "cell_type": "code",
   "execution_count": 173,
   "metadata": {},
   "outputs": [],
   "source": [
    "preblind = ['12C', '12D', '11S', '10D', '8H', '9S']"
   ]
  },
  {
   "cell_type": "code",
   "execution_count": 174,
   "metadata": {},
   "outputs": [
    {
     "output_type": "execute_result",
     "data": {
      "text/plain": [
       "['12C', '12D', '11S', '10D', '8H', '9S']"
      ]
     },
     "metadata": {},
     "execution_count": 174
    }
   ],
   "source": [
    "preblind"
   ]
  },
  {
   "cell_type": "code",
   "execution_count": 175,
   "metadata": {},
   "outputs": [],
   "source": [
    "preblind.append(pick_position)"
   ]
  },
  {
   "cell_type": "code",
   "execution_count": 176,
   "metadata": {},
   "outputs": [],
   "source": [
    "preblind.append(trumpcount)"
   ]
  },
  {
   "cell_type": "code",
   "execution_count": 177,
   "metadata": {},
   "outputs": [],
   "source": [
    "preblind.append(held_points)"
   ]
  },
  {
   "cell_type": "code",
   "execution_count": 178,
   "metadata": {},
   "outputs": [
    {
     "output_type": "execute_result",
     "data": {
      "text/plain": [
       "['12C', '12D', '11S', '10D', '8H', '9S', 2, 6, 21]"
      ]
     },
     "metadata": {},
     "execution_count": 178
    }
   ],
   "source": [
    "preblind"
   ]
  },
  {
   "cell_type": "code",
   "execution_count": 180,
   "metadata": {},
   "outputs": [],
   "source": [
    "inp_columns = [1, 2, 3, 4, 5, 6, 'pick_position', 'trumpcount', 'heldpoints']\n",
    "data = preblind"
   ]
  },
  {
   "cell_type": "code",
   "execution_count": 190,
   "metadata": {},
   "outputs": [],
   "source": [
    "checkdf = pd.DataFrame(columns=inp_columns)\n"
   ]
  },
  {
   "cell_type": "code",
   "execution_count": 192,
   "metadata": {},
   "outputs": [],
   "source": [
    "a_series = pd.Series(data, index=checkdf.columns)\n",
    "checkdf = checkdf.append(a_series, ignore_index=True)"
   ]
  },
  {
   "cell_type": "code",
   "execution_count": 197,
   "metadata": {},
   "outputs": [],
   "source": [
    "preblind = ['12C', '12D', '11S', '10D', '8H', '9S']"
   ]
  },
  {
   "cell_type": "code",
   "execution_count": 198,
   "metadata": {},
   "outputs": [
    {
     "output_type": "stream",
     "name": "stdout",
     "text": [
      "\nTrump:  ['12C', '12D', '11S', '10D']\n\nFail:  ['9S', '8H']\n"
     ]
    }
   ],
   "source": [
    "position = int(input('Please Enter your Table Position (1-5): '))\n",
    "pick_position = 2\n",
    "print('\\nTrump: ', trumphand)\n",
    "print('\\nFail: ', failhand)\n",
    "\n",
    "preblind.append(pick_position)\n",
    "preblind.append(trumpcount)\n",
    "preblind.append(held_points)\n",
    "inp_columns = [1, 2, 3, 4, 5, 6, 'pick_position', 'trumpcount', 'heldpoints']\n",
    "data = preblind\n",
    "checkdf = pd.DataFrame(columns=inp_columns)\n",
    "a_series = pd.Series(data, index=checkdf.columns)\n",
    "checkdf = checkdf.append(a_series, ignore_index=True)\n",
    "compdf = pd.read_pickle('new_hands_df')\n",
    "compdf = compdf.iloc[:, 2:-1]\n",
    "checkdfdum = pd.get_dummies(checkdf, columns = [1, 2, 3, 4, 5, 6])\n",
    "missing_cols = set(compdf.columns) - set(checkdfdum.columns)\n",
    "for c in missing_cols:\n",
    "    checkdfdum[c] = 0\n",
    "checkdfdum = checkdfdum[compdf.columns]\n",
    "checkX = checkdfdum.iloc[:,:]\n",
    "\n",
    "predscheck = log_reg.predict(checkX)\n",
    "probacheck = log_reg.predict_proba(checkX)"
   ]
  },
  {
   "cell_type": "code",
   "execution_count": 203,
   "metadata": {},
   "outputs": [
    {
     "output_type": "execute_result",
     "data": {
      "text/plain": [
       "1"
      ]
     },
     "metadata": {},
     "execution_count": 203
    }
   ],
   "source": [
    "predscheck[0]"
   ]
  },
  {
   "cell_type": "code",
   "execution_count": 202,
   "metadata": {},
   "outputs": [
    {
     "output_type": "execute_result",
     "data": {
      "text/plain": [
       "0.8630938348719405"
      ]
     },
     "metadata": {},
     "execution_count": 202
    }
   ],
   "source": [
    "probacheck[0][1]"
   ]
  },
  {
   "cell_type": "code",
   "execution_count": 1,
   "metadata": {},
   "outputs": [],
   "source": [
    "# improve template matching"
   ]
  },
  {
   "cell_type": "code",
   "execution_count": null,
   "metadata": {},
   "outputs": [],
   "source": []
  }
 ]
}