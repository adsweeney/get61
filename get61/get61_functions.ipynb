{
 "cells": [
  {
   "cell_type": "code",
   "execution_count": 1,
   "metadata": {},
   "outputs": [],
   "source": [
    "from bs4 import BeautifulSoup\n",
    "import requests\n",
    "#import time, os\n",
    "import re\n",
    "#import urllib\n",
    "#import json\n",
    "#from selenium import webdriver\n",
    "#from selenium.webdriver.common.keys import Keys\n",
    "import pandas as pd\n",
    "from datetime import datetime"
   ]
  },
  {
   "cell_type": "code",
   "execution_count": 2,
   "metadata": {},
   "outputs": [],
   "source": [
    "# chromedriver= '/Applications/chromedriver'\n",
    "# os.environ['webdriver.chrom.driver'] = chromedriver\n",
    "sites = {'daily': 'https://get61.com/leaderboard', 'lifetime': 'https://get61.com/leaderboard?lifetime=true&sortBy=lifetime_score'} \n",
    "# page = requests.get(sites['daily']).text\n",
    "# soup = BeautifulSoup(page, 'html5lib')"
   ]
  },
  {
   "cell_type": "code",
   "execution_count": 3,
   "metadata": {},
   "outputs": [],
   "source": [
    "# driver = webdriver.Chrome(chromedriver)\n",
    "# driver.get(sites['lifetime'])\n",
    "# soupy = BeautifulSoup(driver.page_source, 'html.parser')"
   ]
  },
  {
   "cell_type": "code",
   "execution_count": 4,
   "metadata": {},
   "outputs": [],
   "source": [
    "# userlist = {'Ben Statz' : 'Casetta Bloody Mary', 'Ryan Kelly': 'RKD', 'Gena Rieger-Olson': 'The L in MSLGL',\n",
    "#            'Duncan Sweeney': 'Duncan', 'Jacob Hanke': 'jacobhanke12', 'Edward Mckenna': 'Dr Brad Peck', 'Thomas Gering': 'KingCrab',\n",
    "#            'Andrew Wells': '3SheepsToTheWind', 'Ticho': 'Andrew Ticho', 'Brett Falkowski': 'Falko',\n",
    "#            'Sam Reinertson': 'Riding Lawnmauer', 'Nate Bartz': 'Moonblatz', 'Bret Olson': 'Bert Olson',\n",
    "#            'Dan Brunner': 'DPB', 'Srdjan Gajic': 'Provie', 'Jason': 'jturba', 'Robin': 'rjbjjohn', \n",
    "#            'Foxy': 'FoxyMeadows', 'Kim Cee': 'Kim Cee', 'paul': 'paulv1958', 'scooter': 'scooter', \n",
    "#            'eric': 'Eric Spielman'}"
   ]
  },
  {
   "cell_type": "code",
   "execution_count": 14,
   "metadata": {},
   "outputs": [],
   "source": [
    "userlist = {'Ben Statz' : 'Casetta Bloody Mary', 'Ryan Kelly': 'RKD', 'Gena Rieger-Olson': 'The L in MSLGL',\n",
    "           'Duncan Sweeney': 'inconspicuous username', 'Jacob Hanke': 'jacobhanke12', 'Edward Mckenna': 'Dr Brad Peck', 'Thomas Gering': 'KingCrab',\n",
    "           'Andrew Wells': '3SheepsToTheWind', 'Ticho': 'Andrew Ticho', 'Brett Falkowski': 'Falko',\n",
    "           'Sam Reinertson': 'Riding Lawnmauer', 'Nate Bartz': 'Moonblatz', 'Bret Olson': 'Bert Olson',\n",
    "           'Dan Brunner': 'DPB', 'Srdjan Gajic': 'Provie', 'James Madsen': 'James Madsen'}"
   ]
  },
  {
   "cell_type": "code",
   "execution_count": 15,
   "metadata": {},
   "outputs": [],
   "source": [
    "authlist = {\n",
    "            'Gena Rieger-Olson': ['The L in MSLGL', '5ec4564b41b4ab0c6c904eee'],\n",
    "            'Duncan Sweeney': ['inconspicuous username', '109805285627143089578'],\n",
    "            'Jacob Hanke': ['jacobhanke12', '5e8e5e72d8ae470c1c2c45e2'],\n",
    "            'Edward Mckenna': ['Dr Brad Peck', '5e7ea20b9d8a180c84d8da8b'],\n",
    "            'Thomas Gering': ['KingCrab', '5e851cf06b269a0bdc0c9bfe'],\n",
    "            'Andrew Wells': ['3SheepsToTheWind', '113638829670385164163'],\n",
    "            'Ticho': ['Andrew Ticho', '10155870343388081'],\n",
    "            'Brett Falkowski': ['Falko', '5c129b2079e19831457c4b77'],\n",
    "            'Sam Reinertson': ['Riding Lawnmauer', '113453307184472959909'],\n",
    "            'Nate Bartz': ['moonblatz', '5eaa3ec81cc1ac0c14750c63'],\n",
    "            'Bret Olson': ['Bert Olson', '115939086903636903039'],\n",
    "            'Dan Brunner': ['DPB', '10209506157643232'],\n",
    "            'Srdjan Gajic': ['Provie', '5e7d59998847fe0c6539366c'],\n",
    "            'James Madsen': ['James Madsen', '105523472742556596579'],\n",
    "            'Nate Woller': ['Woller', '104264535792617779754'],\n",
    "            'Person1': ['The Merrill Advantage', '118227289723544997064'],\n",
    "            'Person2': ['Best Looking Guy in the WVC', '100234991398844308335']}\n"
   ]
  },
  {
   "cell_type": "code",
   "execution_count": 16,
   "metadata": {},
   "outputs": [],
   "source": [
    "def get_leaderboard(site, userlist):\n",
    "    page = requests.get(site).text\n",
    "    soup = BeautifulSoup(page, 'html5lib')\n",
    "    regser = re.compile('var names')\n",
    "    datajav = soup.find(text=regser)\n",
    "    \n",
    "    cats = datajav.split('\"')\n",
    "    \n",
    "    names = cats[1].split(',')\n",
    "    score = cats[3].split(',')\n",
    "    hands = cats[7].split(',')\n",
    "    pickpct = cats[11].split(',')\n",
    "    winpct = cats[13].split(',')\n",
    "    \n",
    "    df = pd.DataFrame(list(zip(names, score, hands, pickpct, winpct)),\n",
    "                 columns = ['names', 'score', 'hands', 'pickpct', 'winpct'])\n",
    "    dflim = df[df.names.isin(userlist.values())]\n",
    "    now = datetime.now()\n",
    "    dflim['timestamp'] = now.strftime(\"%m/%d/%Y %H:%M:%S\")\n",
    "    dflim[['score', 'hands', 'pickpct', 'winpct']] = dflim[['score', 'hands', 'pickpct', 'winpct']].apply(pd.to_numeric)\n",
    "    return dflim\n"
   ]
  },
  {
   "cell_type": "code",
   "execution_count": 17,
   "metadata": {},
   "outputs": [],
   "source": [
    "#get_leaderboard(sites['daily'], userlist)"
   ]
  },
  {
   "cell_type": "code",
   "execution_count": 18,
   "metadata": {},
   "outputs": [
    {
     "name": "stderr",
     "output_type": "stream",
     "text": [
      "<ipython-input-16-b12d6fbb5ebd>:19: SettingWithCopyWarning: \n",
      "A value is trying to be set on a copy of a slice from a DataFrame.\n",
      "Try using .loc[row_indexer,col_indexer] = value instead\n",
      "\n",
      "See the caveats in the documentation: https://pandas.pydata.org/pandas-docs/stable/user_guide/indexing.html#returning-a-view-versus-a-copy\n",
      "  dflim['timestamp'] = now.strftime(\"%m/%d/%Y %H:%M:%S\")\n",
      "/Users/adsweeney/opt/anaconda3/envs/metis/lib/python3.8/site-packages/pandas/core/frame.py:2963: SettingWithCopyWarning: \n",
      "A value is trying to be set on a copy of a slice from a DataFrame.\n",
      "Try using .loc[row_indexer,col_indexer] = value instead\n",
      "\n",
      "See the caveats in the documentation: https://pandas.pydata.org/pandas-docs/stable/user_guide/indexing.html#returning-a-view-versus-a-copy\n",
      "  self[k1] = value[k2]\n"
     ]
    },
    {
     "data": {
      "text/html": [
       "<div>\n",
       "<style scoped>\n",
       "    .dataframe tbody tr th:only-of-type {\n",
       "        vertical-align: middle;\n",
       "    }\n",
       "\n",
       "    .dataframe tbody tr th {\n",
       "        vertical-align: top;\n",
       "    }\n",
       "\n",
       "    .dataframe thead th {\n",
       "        text-align: right;\n",
       "    }\n",
       "</style>\n",
       "<table border=\"1\" class=\"dataframe\">\n",
       "  <thead>\n",
       "    <tr style=\"text-align: right;\">\n",
       "      <th></th>\n",
       "      <th>names</th>\n",
       "      <th>score</th>\n",
       "      <th>hands</th>\n",
       "      <th>pickpct</th>\n",
       "      <th>winpct</th>\n",
       "      <th>timestamp</th>\n",
       "    </tr>\n",
       "  </thead>\n",
       "  <tbody>\n",
       "    <tr>\n",
       "      <th>293</th>\n",
       "      <td>Dr Brad Peck</td>\n",
       "      <td>265</td>\n",
       "      <td>1054</td>\n",
       "      <td>0.236548</td>\n",
       "      <td>0.502538</td>\n",
       "      <td>09/28/2020 16:15:40</td>\n",
       "    </tr>\n",
       "    <tr>\n",
       "      <th>462</th>\n",
       "      <td>Bert Olson</td>\n",
       "      <td>137</td>\n",
       "      <td>1644</td>\n",
       "      <td>0.232794</td>\n",
       "      <td>0.485155</td>\n",
       "      <td>09/28/2020 16:15:40</td>\n",
       "    </tr>\n",
       "    <tr>\n",
       "      <th>499</th>\n",
       "      <td>Andrew Ticho</td>\n",
       "      <td>122</td>\n",
       "      <td>318</td>\n",
       "      <td>0.259516</td>\n",
       "      <td>0.539792</td>\n",
       "      <td>09/28/2020 16:15:40</td>\n",
       "    </tr>\n",
       "    <tr>\n",
       "      <th>745</th>\n",
       "      <td>KingCrab</td>\n",
       "      <td>62</td>\n",
       "      <td>686</td>\n",
       "      <td>0.210280</td>\n",
       "      <td>0.473520</td>\n",
       "      <td>09/28/2020 16:15:40</td>\n",
       "    </tr>\n",
       "    <tr>\n",
       "      <th>972</th>\n",
       "      <td>James Madsen</td>\n",
       "      <td>40</td>\n",
       "      <td>142</td>\n",
       "      <td>0.205882</td>\n",
       "      <td>0.419118</td>\n",
       "      <td>09/28/2020 16:15:40</td>\n",
       "    </tr>\n",
       "    <tr>\n",
       "      <th>1298</th>\n",
       "      <td>3SheepsToTheWind</td>\n",
       "      <td>24</td>\n",
       "      <td>1363</td>\n",
       "      <td>0.198419</td>\n",
       "      <td>0.462451</td>\n",
       "      <td>09/28/2020 16:15:40</td>\n",
       "    </tr>\n",
       "    <tr>\n",
       "      <th>6001</th>\n",
       "      <td>DPB</td>\n",
       "      <td>-60</td>\n",
       "      <td>721</td>\n",
       "      <td>0.210210</td>\n",
       "      <td>0.462462</td>\n",
       "      <td>09/28/2020 16:15:40</td>\n",
       "    </tr>\n",
       "    <tr>\n",
       "      <th>6042</th>\n",
       "      <td>inconspicuous username</td>\n",
       "      <td>-63</td>\n",
       "      <td>179</td>\n",
       "      <td>0.135484</td>\n",
       "      <td>0.445161</td>\n",
       "      <td>09/28/2020 16:15:40</td>\n",
       "    </tr>\n",
       "    <tr>\n",
       "      <th>6468</th>\n",
       "      <td>Riding Lawnmauer</td>\n",
       "      <td>-103</td>\n",
       "      <td>1316</td>\n",
       "      <td>0.209091</td>\n",
       "      <td>0.455372</td>\n",
       "      <td>09/28/2020 16:15:40</td>\n",
       "    </tr>\n",
       "    <tr>\n",
       "      <th>6495</th>\n",
       "      <td>jacobhanke12</td>\n",
       "      <td>-107</td>\n",
       "      <td>294</td>\n",
       "      <td>0.151292</td>\n",
       "      <td>0.428044</td>\n",
       "      <td>09/28/2020 16:15:40</td>\n",
       "    </tr>\n",
       "    <tr>\n",
       "      <th>6806</th>\n",
       "      <td>Falko</td>\n",
       "      <td>-162</td>\n",
       "      <td>4986</td>\n",
       "      <td>0.208955</td>\n",
       "      <td>0.468527</td>\n",
       "      <td>09/28/2020 16:15:40</td>\n",
       "    </tr>\n",
       "    <tr>\n",
       "      <th>7083</th>\n",
       "      <td>Provie</td>\n",
       "      <td>-279</td>\n",
       "      <td>1692</td>\n",
       "      <td>0.226236</td>\n",
       "      <td>0.478454</td>\n",
       "      <td>09/28/2020 16:15:40</td>\n",
       "    </tr>\n",
       "  </tbody>\n",
       "</table>\n",
       "</div>"
      ],
      "text/plain": [
       "                       names  score  hands   pickpct    winpct  \\\n",
       "293             Dr Brad Peck    265   1054  0.236548  0.502538   \n",
       "462               Bert Olson    137   1644  0.232794  0.485155   \n",
       "499             Andrew Ticho    122    318  0.259516  0.539792   \n",
       "745                 KingCrab     62    686  0.210280  0.473520   \n",
       "972             James Madsen     40    142  0.205882  0.419118   \n",
       "1298        3SheepsToTheWind     24   1363  0.198419  0.462451   \n",
       "6001                     DPB    -60    721  0.210210  0.462462   \n",
       "6042  inconspicuous username    -63    179  0.135484  0.445161   \n",
       "6468        Riding Lawnmauer   -103   1316  0.209091  0.455372   \n",
       "6495            jacobhanke12   -107    294  0.151292  0.428044   \n",
       "6806                   Falko   -162   4986  0.208955  0.468527   \n",
       "7083                  Provie   -279   1692  0.226236  0.478454   \n",
       "\n",
       "                timestamp  \n",
       "293   09/28/2020 16:15:40  \n",
       "462   09/28/2020 16:15:40  \n",
       "499   09/28/2020 16:15:40  \n",
       "745   09/28/2020 16:15:40  \n",
       "972   09/28/2020 16:15:40  \n",
       "1298  09/28/2020 16:15:40  \n",
       "6001  09/28/2020 16:15:40  \n",
       "6042  09/28/2020 16:15:40  \n",
       "6468  09/28/2020 16:15:40  \n",
       "6495  09/28/2020 16:15:40  \n",
       "6806  09/28/2020 16:15:40  \n",
       "7083  09/28/2020 16:15:40  "
      ]
     },
     "execution_count": 18,
     "metadata": {},
     "output_type": "execute_result"
    }
   ],
   "source": [
    "get_leaderboard(sites['lifetime'], userlist)\n"
   ]
  },
  {
   "cell_type": "code",
   "execution_count": 10,
   "metadata": {},
   "outputs": [
    {
     "name": "stderr",
     "output_type": "stream",
     "text": [
      "<ipython-input-6-b12d6fbb5ebd>:19: SettingWithCopyWarning: \n",
      "A value is trying to be set on a copy of a slice from a DataFrame.\n",
      "Try using .loc[row_indexer,col_indexer] = value instead\n",
      "\n",
      "See the caveats in the documentation: https://pandas.pydata.org/pandas-docs/stable/user_guide/indexing.html#returning-a-view-versus-a-copy\n",
      "  dflim['timestamp'] = now.strftime(\"%m/%d/%Y %H:%M:%S\")\n",
      "/Users/adsweeney/opt/anaconda3/envs/metis/lib/python3.8/site-packages/pandas/core/frame.py:2963: SettingWithCopyWarning: \n",
      "A value is trying to be set on a copy of a slice from a DataFrame.\n",
      "Try using .loc[row_indexer,col_indexer] = value instead\n",
      "\n",
      "See the caveats in the documentation: https://pandas.pydata.org/pandas-docs/stable/user_guide/indexing.html#returning-a-view-versus-a-copy\n",
      "  self[k1] = value[k2]\n"
     ]
    }
   ],
   "source": [
    "bf = get_leaderboard(sites['lifetime'], userlist)"
   ]
  },
  {
   "cell_type": "code",
   "execution_count": 12,
   "metadata": {},
   "outputs": [
    {
     "data": {
      "text/plain": [
       "pandas.core.frame.DataFrame"
      ]
     },
     "execution_count": 12,
     "metadata": {},
     "output_type": "execute_result"
    }
   ],
   "source": [
    "type(bf)"
   ]
  },
  {
   "cell_type": "code",
   "execution_count": 35,
   "metadata": {},
   "outputs": [
    {
     "name": "stdout",
     "output_type": "stream",
     "text": [
      "None\n"
     ]
    },
    {
     "name": "stderr",
     "output_type": "stream",
     "text": [
      "<ipython-input-30-7cc0f150ed07>:19: SettingWithCopyWarning: \n",
      "A value is trying to be set on a copy of a slice from a DataFrame.\n",
      "Try using .loc[row_indexer,col_indexer] = value instead\n",
      "\n",
      "See the caveats in the documentation: https://pandas.pydata.org/pandas-docs/stable/user_guide/indexing.html#returning-a-view-versus-a-copy\n",
      "  dflim['timestamp'] = now.strftime(\"%m/%d/%Y %H:%M:%S\")\n"
     ]
    }
   ],
   "source": [
    "print(get_leaderboard(sites['lifetime'], userlist))"
   ]
  },
  {
   "cell_type": "code",
   "execution_count": 36,
   "metadata": {},
   "outputs": [
    {
     "data": {
      "text/html": [
       "<div>\n",
       "<style scoped>\n",
       "    .dataframe tbody tr th:only-of-type {\n",
       "        vertical-align: middle;\n",
       "    }\n",
       "\n",
       "    .dataframe tbody tr th {\n",
       "        vertical-align: top;\n",
       "    }\n",
       "\n",
       "    .dataframe thead th {\n",
       "        text-align: right;\n",
       "    }\n",
       "</style>\n",
       "<table border=\"1\" class=\"dataframe\">\n",
       "  <thead>\n",
       "    <tr style=\"text-align: right;\">\n",
       "      <th></th>\n",
       "    </tr>\n",
       "  </thead>\n",
       "  <tbody>\n",
       "  </tbody>\n",
       "</table>\n",
       "</div>"
      ],
      "text/plain": [
       "Empty DataFrame\n",
       "Columns: []\n",
       "Index: []"
      ]
     },
     "execution_count": 36,
     "metadata": {},
     "output_type": "execute_result"
    }
   ],
   "source": [
    "dff"
   ]
  },
  {
   "cell_type": "code",
   "execution_count": null,
   "metadata": {},
   "outputs": [],
   "source": [
    "def get_adv_stats(site, users):\n",
    "    "
   ]
  },
  {
   "cell_type": "code",
   "execution_count": null,
   "metadata": {},
   "outputs": [],
   "source": []
  }
 ],
 "metadata": {
  "kernelspec": {
   "display_name": "Python [conda env:metis] *",
   "language": "python",
   "name": "conda-env-metis-py"
  },
  "language_info": {
   "codemirror_mode": {
    "name": "ipython",
    "version": 3
   },
   "file_extension": ".py",
   "mimetype": "text/x-python",
   "name": "python",
   "nbconvert_exporter": "python",
   "pygments_lexer": "ipython3",
   "version": "3.8.3"
  }
 },
 "nbformat": 4,
 "nbformat_minor": 4
}
