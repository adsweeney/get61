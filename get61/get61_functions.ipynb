{
 "cells": [
  {
   "cell_type": "code",
   "execution_count": 1,
   "metadata": {},
   "outputs": [],
   "source": [
    "from bs4 import BeautifulSoup\n",
    "import requests\n",
    "#import time, os\n",
    "import re\n",
    "#import urllib\n",
    "#import json\n",
    "#from selenium import webdriver\n",
    "#from selenium.webdriver.common.keys import Keys\n",
    "import pandas as pd\n",
    "from datetime import datetime"
   ]
  },
  {
   "cell_type": "code",
   "execution_count": 4,
   "metadata": {},
   "outputs": [],
   "source": [
    "# chromedriver= '/Applications/chromedriver'\n",
    "# os.environ['webdriver.chrom.driver'] = chromedriver\n",
    "sites = {'daily': 'https://get61.com/leaderboard', 'lifetime': 'https://get61.com/leaderboard?lifetime=true&sortBy=lifetime_score'} \n",
    "# page = requests.get(sites['daily']).text\n",
    "# soup = BeautifulSoup(page, 'html5lib')"
   ]
  },
  {
   "cell_type": "code",
   "execution_count": 2,
   "metadata": {},
   "outputs": [],
   "source": [
    "# driver = webdriver.Chrome(chromedriver)\n",
    "# driver.get(sites['lifetime'])\n",
    "# soupy = BeautifulSoup(driver.page_source, 'html.parser')"
   ]
  },
  {
   "cell_type": "code",
   "execution_count": 3,
   "metadata": {},
   "outputs": [],
   "source": [
    "# userlist = {'Ben Statz' : 'Casetta Bloody Mary', 'Ryan Kelly': 'RKD', 'Gena Rieger-Olson': 'The L in MSLGL',\n",
    "#            'Duncan Sweeney': 'Duncan', 'Jacob Hanke': 'jacobhanke12', 'Edward Mckenna': 'Dr Brad Peck', 'Thomas Gering': 'KingCrab',\n",
    "#            'Andrew Wells': '3SheepsToTheWind', 'Ticho': 'Andrew Ticho', 'Brett Falkowski': 'Falko',\n",
    "#            'Sam Reinertson': 'Riding Lawnmauer', 'Nate Bartz': 'Moonblatz', 'Bret Olson': 'Bert Olson',\n",
    "#            'Dan Brunner': 'DPB', 'Srdjan Gajic': 'Provie', 'Jason': 'jturba', 'Robin': 'rjbjjohn', \n",
    "#            'Foxy': 'FoxyMeadows', 'Kim Cee': 'Kim Cee', 'paul': 'paulv1958', 'scooter': 'scooter', \n",
    "#            'eric': 'Eric Spielman'}"
   ]
  },
  {
   "cell_type": "code",
   "execution_count": 5,
   "metadata": {},
   "outputs": [],
   "source": [
    "userlist = {'Ben Statz' : 'Casetta Bloody Mary', 'Ryan Kelly': 'RKD', 'Gena Rieger-Olson': 'The L in MSLGL',\n",
    "           'Duncan Sweeney': 'inconspicuous username', 'Jacob Hanke': 'jacobhanke12', 'Edward Mckenna': 'Dr Brad Peck', 'Thomas Gering': 'KingCrab',\n",
    "           'Andrew Wells': '3SheepsToTheWind', 'Ticho': 'Andrew Ticho', 'Brett Falkowski': 'Falko',\n",
    "           'Sam Reinertson': 'Riding Lawnmauer', 'Nate Bartz': 'Moonblatz', 'Bret Olson': 'Bert Olson',\n",
    "           'Dan Brunner': 'DPB', 'Srdjan Gajic': 'Provie', 'James Madsen': 'James Madsen'}"
   ]
  },
  {
   "cell_type": "code",
   "execution_count": 6,
   "metadata": {},
   "outputs": [],
   "source": [
    "authlist = {\n",
    "            'Gena Rieger-Olson': ['The L in MSLGL', '5ec4564b41b4ab0c6c904eee'],\n",
    "            'Duncan Sweeney': ['inconspicuous username', '109805285627143089578'],\n",
    "            'Jacob Hanke': ['jacobhanke12', '5e8e5e72d8ae470c1c2c45e2'],\n",
    "            'Edward Mckenna': ['Dr Brad Peck', '5e7ea20b9d8a180c84d8da8b'],\n",
    "            'Thomas Gering': ['KingCrab', '5e851cf06b269a0bdc0c9bfe'],\n",
    "            'Andrew Wells': ['3SheepsToTheWind', '113638829670385164163'],\n",
    "            'Ticho': ['Andrew Ticho', '10155870343388081'],\n",
    "            'Brett Falkowski': ['Falko', '5c129b2079e19831457c4b77'],\n",
    "            'Sam Reinertson': ['Riding Lawnmauer', '113453307184472959909'],\n",
    "            'Nate Bartz': ['moonblatz', '5eaa3ec81cc1ac0c14750c63'],\n",
    "            'Bret Olson': ['Bert Olson', '115939086903636903039'],\n",
    "            'Dan Brunner': ['DPB', '10209506157643232'],\n",
    "            'Srdjan Gajic': ['Provie', '5e7d59998847fe0c6539366c'],\n",
    "            'James Madsen': ['James Madsen', '105523472742556596579'],\n",
    "            'Nate Woller': ['Woller', '104264535792617779754'],\n",
    "            'Person1': ['The Merrill Advantage', '118227289723544997064'],\n",
    "            'Person2': ['Best Looking Guy in the WVC', '100234991398844308335']}\n"
   ]
  },
  {
   "cell_type": "code",
   "execution_count": 7,
   "metadata": {},
   "outputs": [],
   "source": [
    "def get_leaderboard(site, userlist):\n",
    "    page = requests.get(site).text\n",
    "    soup = BeautifulSoup(page, 'html5lib')\n",
    "    regser = re.compile('var names')\n",
    "    datajav = soup.find(text=regser)\n",
    "    \n",
    "    cats = datajav.split('\"')\n",
    "    \n",
    "    names = cats[1].split(',')\n",
    "    score = cats[3].split(',')\n",
    "    hands = cats[7].split(',')\n",
    "    pickpct = cats[11].split(',')\n",
    "    winpct = cats[13].split(',')\n",
    "    \n",
    "    df = pd.DataFrame(list(zip(names, score, hands, pickpct, winpct)),\n",
    "                 columns = ['names', 'score', 'hands', 'pickpct', 'winpct'])\n",
    "    dflim = df[df.names.isin(userlist.values())]\n",
    "    now = datetime.now()\n",
    "    dflim['timestamp'] = now.strftime(\"%m/%d/%Y %H:%M:%S\")\n",
    "    dflim[['score', 'hands', 'pickpct', 'winpct']] = dflim[['score', 'hands', 'pickpct', 'winpct']].apply(pd.to_numeric)\n",
    "    return dflim\n"
   ]
  },
  {
   "cell_type": "code",
   "execution_count": 8,
   "metadata": {},
   "outputs": [],
   "source": [
    "#get_leaderboard(sites['daily'], userlist)"
   ]
  },
  {
   "cell_type": "code",
   "execution_count": 9,
   "metadata": {},
   "outputs": [
    {
     "output_type": "execute_result",
     "data": {
      "text/plain": "                       names  score  hands   pickpct    winpct  \\\n308             Dr Brad Peck    245   1174  0.240402  0.501828   \n471             Andrew Ticho    136    343  0.261146  0.538217   \n489               Bert Olson    127   1697  0.232224  0.485323   \n757                 KingCrab     62    686  0.210280  0.473520   \n915         3SheepsToTheWind     45   1446  0.197173  0.465774   \n962             James Madsen     40    142  0.205882  0.419118   \n6060  inconspicuous username    -63    179  0.135484  0.445161   \n6199                     DPB    -73    779  0.203320  0.449516   \n6486        Riding Lawnmauer   -103   1316  0.209091  0.455372   \n6519            jacobhanke12   -107    294  0.151292  0.428044   \n6627                   Falko   -123   5108  0.209582  0.469607   \n7140                  Provie   -300   1716  0.226250  0.476875   \n\n                timestamp  \n308   10/02/2020 12:23:36  \n471   10/02/2020 12:23:36  \n489   10/02/2020 12:23:36  \n757   10/02/2020 12:23:36  \n915   10/02/2020 12:23:36  \n962   10/02/2020 12:23:36  \n6060  10/02/2020 12:23:36  \n6199  10/02/2020 12:23:36  \n6486  10/02/2020 12:23:36  \n6519  10/02/2020 12:23:36  \n6627  10/02/2020 12:23:36  \n7140  10/02/2020 12:23:36  ",
      "text/html": "<div>\n<style scoped>\n    .dataframe tbody tr th:only-of-type {\n        vertical-align: middle;\n    }\n\n    .dataframe tbody tr th {\n        vertical-align: top;\n    }\n\n    .dataframe thead th {\n        text-align: right;\n    }\n</style>\n<table border=\"1\" class=\"dataframe\">\n  <thead>\n    <tr style=\"text-align: right;\">\n      <th></th>\n      <th>names</th>\n      <th>score</th>\n      <th>hands</th>\n      <th>pickpct</th>\n      <th>winpct</th>\n      <th>timestamp</th>\n    </tr>\n  </thead>\n  <tbody>\n    <tr>\n      <th>308</th>\n      <td>Dr Brad Peck</td>\n      <td>245</td>\n      <td>1174</td>\n      <td>0.240402</td>\n      <td>0.501828</td>\n      <td>10/02/2020 12:23:36</td>\n    </tr>\n    <tr>\n      <th>471</th>\n      <td>Andrew Ticho</td>\n      <td>136</td>\n      <td>343</td>\n      <td>0.261146</td>\n      <td>0.538217</td>\n      <td>10/02/2020 12:23:36</td>\n    </tr>\n    <tr>\n      <th>489</th>\n      <td>Bert Olson</td>\n      <td>127</td>\n      <td>1697</td>\n      <td>0.232224</td>\n      <td>0.485323</td>\n      <td>10/02/2020 12:23:36</td>\n    </tr>\n    <tr>\n      <th>757</th>\n      <td>KingCrab</td>\n      <td>62</td>\n      <td>686</td>\n      <td>0.210280</td>\n      <td>0.473520</td>\n      <td>10/02/2020 12:23:36</td>\n    </tr>\n    <tr>\n      <th>915</th>\n      <td>3SheepsToTheWind</td>\n      <td>45</td>\n      <td>1446</td>\n      <td>0.197173</td>\n      <td>0.465774</td>\n      <td>10/02/2020 12:23:36</td>\n    </tr>\n    <tr>\n      <th>962</th>\n      <td>James Madsen</td>\n      <td>40</td>\n      <td>142</td>\n      <td>0.205882</td>\n      <td>0.419118</td>\n      <td>10/02/2020 12:23:36</td>\n    </tr>\n    <tr>\n      <th>6060</th>\n      <td>inconspicuous username</td>\n      <td>-63</td>\n      <td>179</td>\n      <td>0.135484</td>\n      <td>0.445161</td>\n      <td>10/02/2020 12:23:36</td>\n    </tr>\n    <tr>\n      <th>6199</th>\n      <td>DPB</td>\n      <td>-73</td>\n      <td>779</td>\n      <td>0.203320</td>\n      <td>0.449516</td>\n      <td>10/02/2020 12:23:36</td>\n    </tr>\n    <tr>\n      <th>6486</th>\n      <td>Riding Lawnmauer</td>\n      <td>-103</td>\n      <td>1316</td>\n      <td>0.209091</td>\n      <td>0.455372</td>\n      <td>10/02/2020 12:23:36</td>\n    </tr>\n    <tr>\n      <th>6519</th>\n      <td>jacobhanke12</td>\n      <td>-107</td>\n      <td>294</td>\n      <td>0.151292</td>\n      <td>0.428044</td>\n      <td>10/02/2020 12:23:36</td>\n    </tr>\n    <tr>\n      <th>6627</th>\n      <td>Falko</td>\n      <td>-123</td>\n      <td>5108</td>\n      <td>0.209582</td>\n      <td>0.469607</td>\n      <td>10/02/2020 12:23:36</td>\n    </tr>\n    <tr>\n      <th>7140</th>\n      <td>Provie</td>\n      <td>-300</td>\n      <td>1716</td>\n      <td>0.226250</td>\n      <td>0.476875</td>\n      <td>10/02/2020 12:23:36</td>\n    </tr>\n  </tbody>\n</table>\n</div>"
     },
     "metadata": {},
     "execution_count": 9
    }
   ],
   "source": [
    "get_leaderboard(sites['lifetime'], userlist)\n"
   ]
  },
  {
   "cell_type": "code",
   "execution_count": 10,
   "metadata": {},
   "outputs": [],
   "source": [
    "bf = get_leaderboard(sites['lifetime'], userlist)"
   ]
  },
  {
   "cell_type": "code",
   "execution_count": 11,
   "metadata": {},
   "outputs": [
    {
     "output_type": "execute_result",
     "data": {
      "text/plain": "pandas.core.frame.DataFrame"
     },
     "metadata": {},
     "execution_count": 11
    }
   ],
   "source": [
    "type(bf)"
   ]
  },
  {
   "cell_type": "code",
   "execution_count": 12,
   "metadata": {
    "tags": []
   },
   "outputs": [
    {
     "output_type": "stream",
     "name": "stdout",
     "text": "                       names  score  hands   pickpct    winpct  \\\n308             Dr Brad Peck    245   1174  0.240402  0.501828   \n471             Andrew Ticho    136    343  0.261146  0.538217   \n488               Bert Olson    127   1697  0.232224  0.485323   \n755                 KingCrab     62    686  0.210280  0.473520   \n915         3SheepsToTheWind     45   1446  0.197173  0.465774   \n962             James Madsen     40    142  0.205882  0.419118   \n6060  inconspicuous username    -63    179  0.135484  0.445161   \n6199                     DPB    -73    779  0.203320  0.449516   \n6486        Riding Lawnmauer   -103   1316  0.209091  0.455372   \n6519            jacobhanke12   -107    294  0.151292  0.428044   \n6627                   Falko   -123   5108  0.209582  0.469607   \n7140                  Provie   -300   1716  0.226250  0.476875   \n\n                timestamp  \n308   10/02/2020 12:23:38  \n471   10/02/2020 12:23:38  \n488   10/02/2020 12:23:38  \n755   10/02/2020 12:23:38  \n915   10/02/2020 12:23:38  \n962   10/02/2020 12:23:38  \n6060  10/02/2020 12:23:38  \n6199  10/02/2020 12:23:38  \n6486  10/02/2020 12:23:38  \n6519  10/02/2020 12:23:38  \n6627  10/02/2020 12:23:38  \n7140  10/02/2020 12:23:38  \n"
    }
   ],
   "source": [
    "print(get_leaderboard(sites['lifetime'], userlist))"
   ]
  },
  {
   "cell_type": "code",
   "execution_count": 13,
   "metadata": {},
   "outputs": [
    {
     "output_type": "error",
     "ename": "NameError",
     "evalue": "name &#39;dff&#39; is not defined",
     "traceback": [
      "\u001b[0;31m---------------------------------------------------------------------------\u001b[0m",
      "\u001b[0;31mNameError\u001b[0m                                 Traceback (most recent call last)",
      "\u001b[0;32m&lt;ipython-input-13-eef74c635d9a&gt;\u001b[0m in \u001b[0;36m&lt;module&gt;\u001b[0;34m\u001b[0m\n\u001b[0;32m----&gt; 1\u001b[0;31m \u001b[0mdff\u001b[0m\u001b[0;34m\u001b[0m\u001b[0;34m\u001b[0m\u001b[0m\n\u001b[0m",
      "\u001b[0;31mNameError\u001b[0m: name &#39;dff&#39; is not defined"
     ]
    }
   ],
   "source": [
    "dff"
   ]
  },
  {
   "cell_type": "code",
   "execution_count": null,
   "metadata": {},
   "outputs": [],
   "source": [
    "def get_adv_stats(site, users):\n",
    "    "
   ]
  },
  {
   "cell_type": "code",
   "execution_count": null,
   "metadata": {},
   "outputs": [],
   "source": []
  }
 ],
 "metadata": {
  "kernelspec": {
   "name": "Python 3.8.3 64-bit ('metis': conda)",
   "display_name": "Python 3.8.3 64-bit ('metis': conda)",
   "metadata": {
    "interpreter": {
     "hash": "e94c15d6dbef08e95baaf638ff93666d2390f58e0c4317ae3b2bf35ecad0e12e"
    }
   }
  },
  "language_info": {
   "codemirror_mode": {
    "name": "ipython",
    "version": 3
   },
   "file_extension": ".py",
   "mimetype": "text/x-python",
   "name": "python",
   "nbconvert_exporter": "python",
   "pygments_lexer": "ipython3",
   "version": "3.8.3-final"
  }
 },
 "nbformat": 4,
 "nbformat_minor": 4
}