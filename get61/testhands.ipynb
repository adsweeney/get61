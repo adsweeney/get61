{
 "metadata": {
  "language_info": {
   "codemirror_mode": {
    "name": "ipython",
    "version": 3
   },
   "file_extension": ".py",
   "mimetype": "text/x-python",
   "name": "python",
   "nbconvert_exporter": "python",
   "pygments_lexer": "ipython3",
   "version": "3.8.3-final"
  },
  "orig_nbformat": 2,
  "kernelspec": {
   "name": "python3",
   "display_name": "Python 3.8.3 64-bit ('metis': conda)",
   "metadata": {
    "interpreter": {
     "hash": "e94c15d6dbef08e95baaf638ff93666d2390f58e0c4317ae3b2bf35ecad0e12e"
    }
   }
  }
 },
 "nbformat": 4,
 "nbformat_minor": 2,
 "cells": [
  {
   "cell_type": "code",
   "execution_count": 1,
   "metadata": {},
   "outputs": [],
   "source": [
    "heartsa = [str(i) + 'H' for i in range(7,15)]\n",
    "clubsa = [str(i) + 'C' for i in range(7,15)]\n",
    "spadesa = [str(i) + 'S' for i in range(7,15)]\n",
    "diamondsa = [str(i) + 'D' for i in range(7,15)]\n",
    "\n",
    "allcardsa = heartsa + clubsa + spadesa + diamondsa\n",
    "valuesa = [0, 0, 0, 10, 2, 3, 4, 11, 0, 0, 0, 10, 2, 3, 4, 11, 0, 0, 0, 10, 2, 3, 4, 11, 0, 0, 0, 10, 2, 3, 4, 11]\n",
    "\n",
    "pointvalues = dict(zip(allcardsa, valuesa))\n",
    "\n",
    "# card types\n",
    "hearts = [str(i) + 'H' for i in range(7, 11)] + ['13H'] + ['14H']\n",
    "spades = [str(i) + 'S' for i in range(7, 11)] + ['13S'] + ['14S']\n",
    "clubs = [str(i) + 'C' for i in range(7, 11)] + ['13C'] + ['14C']\n",
    "# Trump\n",
    "trump = [str(i) + 'D' for i in range(7, 15)] + ['11' + i for i in ['H', 'S', 'C']] + ['12' + i for i in ['H', 'S', 'C']]\n",
    "\n",
    "fail = hearts + spades + clubs\n",
    "\n",
    "points = [0, 0, 0, 10, 4, 11]\n",
    "pointstrump = [0, 0, 0, 10, 2, 3, 4, 11, 2, 2, 2, 3, 3, 3]\n",
    "trumprank = [1, 2, 3, 5, 7, 11, 4, 6, 8, 9, 10, 12, 13, 14]\n",
    "failrank = [1, 2, 3, 5, 4, 6]\n",
    "\n",
    "faildic = dict(zip(fail, zip(points * 4, failrank * 4)))\n",
    "trumpdic = dict(zip(trump, zip(pointstrump, trumprank)))"
   ]
  },
  {
   "cell_type": "code",
   "execution_count": 2,
   "metadata": {},
   "outputs": [
    {
     "output_type": "stream",
     "name": "stdout",
     "text": [
      "time: 124 ms\nIn [2] used 0.0078 MiB RAM in 0.10s, peaked 0.00 MiB above current, total RAM usage 101.52 MiB\n"
     ]
    }
   ],
   "source": [
    "import pandas as pd\n",
    "import numpy as np\n",
    "# ipython autotime\n",
    "%load_ext autotime\n",
    "\n",
    "# ipython_memory_usage\n",
    "import ipython_memory_usage \n",
    "%ipython_memory_usage_start  \n",
    "from pprint import pprint as pp"
   ]
  },
  {
   "cell_type": "code",
   "execution_count": 3,
   "metadata": {},
   "outputs": [
    {
     "output_type": "stream",
     "name": "stdout",
     "text": [
      "time: 411 ms\nIn [3] used 19.0000 MiB RAM in 0.52s, peaked 0.00 MiB above current, total RAM usage 120.52 MiB\n"
     ]
    }
   ],
   "source": [
    "dfnew = pd.read_pickle('2400000_2400800')"
   ]
  },
  {
   "cell_type": "code",
   "execution_count": 4,
   "metadata": {},
   "outputs": [
    {
     "output_type": "stream",
     "name": "stdout",
     "text": [
      "time: 4.47 ms\n",
      "In [4] used -2.3594 MiB RAM in 0.10s, peaked 2.37 MiB above current, total RAM usage 118.16 MiB\n"
     ]
    }
   ],
   "source": [
    "df = dfnew.copy()"
   ]
  },
  {
   "cell_type": "code",
   "execution_count": 5,
   "metadata": {},
   "outputs": [
    {
     "output_type": "stream",
     "name": "stdout",
     "text": [
      "time: 516 ms\nIn [5] used 4.7422 MiB RAM in 0.62s, peaked 0.00 MiB above current, total RAM usage 122.90 MiB\n"
     ]
    }
   ],
   "source": [
    "df['cards'] = df[df.columns[1:7]].apply(lambda x: ','.join(x.astype(str)).split(','), axis=1)\n",
    "df['trump'] = df['cards'].apply(lambda x: [i for i in x if i in trumpdic.keys()])\n",
    "df['trumpcount'] = df['trump'].apply(lambda x: len(x))\n",
    "df['fail'] = df['cards'].apply(lambda x: [i for i in x if i in faildic.keys()])\n",
    "df['failcount'] = df['fail'].apply(lambda x: len(x))\n",
    "df['heldpoints'] = df['cards'].apply(lambda x: sum([pointvalues[i] for i in x]))\n",
    "df['outcome'] = df['score'].apply(lambda x: 'win' if x > 0 else 'lose')\n",
    "df['uniqueid'] = df[['handid', 'name']].astype(str).apply('-'.join,1)\n"
   ]
  },
  {
   "cell_type": "code",
   "execution_count": 6,
   "metadata": {},
   "outputs": [
    {
     "output_type": "stream",
     "name": "stdout",
     "text": [
      "time: 7.23 ms\n",
      "In [6] used 0.5273 MiB RAM in 0.11s, peaked 0.00 MiB above current, total RAM usage 123.43 MiB\n"
     ]
    }
   ],
   "source": [
    "dfa = df[['uniqueid', 1, 2, 3, 4, 5, 6, 'score', 'picker', 'pick_position', 'trumpcount', 'heldpoints', 'outcome']]"
   ]
  },
  {
   "cell_type": "code",
   "execution_count": 7,
   "metadata": {},
   "outputs": [
    {
     "output_type": "execute_result",
     "data": {
      "text/plain": [
       "                  uniqueid    1    2    3    4    5    6  score  picker  \\\n",
       "3   2400001-RecordHolder37   7S  11C  12S  12C  11H  11D     16  picker   \n",
       "2        2400002-TSG Jerry   7H  11S  12D  11H  12H  12S      8  picker   \n",
       "4   2400003-Dave Frederick  13D  12C   8D  11H   9S  12D      2  picker   \n",
       "4     2400004-Shawn Theune  14D   7D  10D   8H  12S  11S      2  picker   \n",
       "1          2400005-TSG Dan   7H  11D   9H   7D  12S  12C      8  picker   \n",
       "..                     ...  ...  ...  ...  ...  ...  ...    ...     ...   \n",
       "0         2400795-vtreague   9D  11S   9C  13C  11C  12H      2  picker   \n",
       "2   2400796-jerryklein1341  14D   9D   9S  10D  12H  11C      2  picker   \n",
       "1         2400797-eugcindy  12C  12S  14C  13H  11S   9H      2  picker   \n",
       "2    2400798-drdistilledjd  13D   9D  11C  11D  12C   9S     -8  picker   \n",
       "4      2400799-Lovetocrack  12D  12C  12H   8S   7D  14D      4  picker   \n",
       "\n",
       "    pick_position  trumpcount  heldpoints outcome  \n",
       "3               2           5          12     win  \n",
       "2               2           5          13     win  \n",
       "4               3           5          12     win  \n",
       "4               3           5          26     win  \n",
       "1               1           4           8     win  \n",
       "..            ...         ...         ...     ...  \n",
       "0               0           4          11     win  \n",
       "2               3           5          26     win  \n",
       "1               0           3          23     win  \n",
       "2               4           5          11    lose  \n",
       "4               2           5          20     win  \n",
       "\n",
       "[698 rows x 13 columns]"
      ],
      "text/html": "<div>\n<style scoped>\n    .dataframe tbody tr th:only-of-type {\n        vertical-align: middle;\n    }\n\n    .dataframe tbody tr th {\n        vertical-align: top;\n    }\n\n    .dataframe thead th {\n        text-align: right;\n    }\n</style>\n<table border=\"1\" class=\"dataframe\">\n  <thead>\n    <tr style=\"text-align: right;\">\n      <th></th>\n      <th>uniqueid</th>\n      <th>1</th>\n      <th>2</th>\n      <th>3</th>\n      <th>4</th>\n      <th>5</th>\n      <th>6</th>\n      <th>score</th>\n      <th>picker</th>\n      <th>pick_position</th>\n      <th>trumpcount</th>\n      <th>heldpoints</th>\n      <th>outcome</th>\n    </tr>\n  </thead>\n  <tbody>\n    <tr>\n      <th>3</th>\n      <td>2400001-RecordHolder37</td>\n      <td>7S</td>\n      <td>11C</td>\n      <td>12S</td>\n      <td>12C</td>\n      <td>11H</td>\n      <td>11D</td>\n      <td>16</td>\n      <td>picker</td>\n      <td>2</td>\n      <td>5</td>\n      <td>12</td>\n      <td>win</td>\n    </tr>\n    <tr>\n      <th>2</th>\n      <td>2400002-TSG Jerry</td>\n      <td>7H</td>\n      <td>11S</td>\n      <td>12D</td>\n      <td>11H</td>\n      <td>12H</td>\n      <td>12S</td>\n      <td>8</td>\n      <td>picker</td>\n      <td>2</td>\n      <td>5</td>\n      <td>13</td>\n      <td>win</td>\n    </tr>\n    <tr>\n      <th>4</th>\n      <td>2400003-Dave Frederick</td>\n      <td>13D</td>\n      <td>12C</td>\n      <td>8D</td>\n      <td>11H</td>\n      <td>9S</td>\n      <td>12D</td>\n      <td>2</td>\n      <td>picker</td>\n      <td>3</td>\n      <td>5</td>\n      <td>12</td>\n      <td>win</td>\n    </tr>\n    <tr>\n      <th>4</th>\n      <td>2400004-Shawn Theune</td>\n      <td>14D</td>\n      <td>7D</td>\n      <td>10D</td>\n      <td>8H</td>\n      <td>12S</td>\n      <td>11S</td>\n      <td>2</td>\n      <td>picker</td>\n      <td>3</td>\n      <td>5</td>\n      <td>26</td>\n      <td>win</td>\n    </tr>\n    <tr>\n      <th>1</th>\n      <td>2400005-TSG Dan</td>\n      <td>7H</td>\n      <td>11D</td>\n      <td>9H</td>\n      <td>7D</td>\n      <td>12S</td>\n      <td>12C</td>\n      <td>8</td>\n      <td>picker</td>\n      <td>1</td>\n      <td>4</td>\n      <td>8</td>\n      <td>win</td>\n    </tr>\n    <tr>\n      <th>...</th>\n      <td>...</td>\n      <td>...</td>\n      <td>...</td>\n      <td>...</td>\n      <td>...</td>\n      <td>...</td>\n      <td>...</td>\n      <td>...</td>\n      <td>...</td>\n      <td>...</td>\n      <td>...</td>\n      <td>...</td>\n      <td>...</td>\n    </tr>\n    <tr>\n      <th>0</th>\n      <td>2400795-vtreague</td>\n      <td>9D</td>\n      <td>11S</td>\n      <td>9C</td>\n      <td>13C</td>\n      <td>11C</td>\n      <td>12H</td>\n      <td>2</td>\n      <td>picker</td>\n      <td>0</td>\n      <td>4</td>\n      <td>11</td>\n      <td>win</td>\n    </tr>\n    <tr>\n      <th>2</th>\n      <td>2400796-jerryklein1341</td>\n      <td>14D</td>\n      <td>9D</td>\n      <td>9S</td>\n      <td>10D</td>\n      <td>12H</td>\n      <td>11C</td>\n      <td>2</td>\n      <td>picker</td>\n      <td>3</td>\n      <td>5</td>\n      <td>26</td>\n      <td>win</td>\n    </tr>\n    <tr>\n      <th>1</th>\n      <td>2400797-eugcindy</td>\n      <td>12C</td>\n      <td>12S</td>\n      <td>14C</td>\n      <td>13H</td>\n      <td>11S</td>\n      <td>9H</td>\n      <td>2</td>\n      <td>picker</td>\n      <td>0</td>\n      <td>3</td>\n      <td>23</td>\n      <td>win</td>\n    </tr>\n    <tr>\n      <th>2</th>\n      <td>2400798-drdistilledjd</td>\n      <td>13D</td>\n      <td>9D</td>\n      <td>11C</td>\n      <td>11D</td>\n      <td>12C</td>\n      <td>9S</td>\n      <td>-8</td>\n      <td>picker</td>\n      <td>4</td>\n      <td>5</td>\n      <td>11</td>\n      <td>lose</td>\n    </tr>\n    <tr>\n      <th>4</th>\n      <td>2400799-Lovetocrack</td>\n      <td>12D</td>\n      <td>12C</td>\n      <td>12H</td>\n      <td>8S</td>\n      <td>7D</td>\n      <td>14D</td>\n      <td>4</td>\n      <td>picker</td>\n      <td>2</td>\n      <td>5</td>\n      <td>20</td>\n      <td>win</td>\n    </tr>\n  </tbody>\n</table>\n<p>698 rows × 13 columns</p>\n</div>"
     },
     "metadata": {},
     "execution_count": 7
    },
    {
     "output_type": "stream",
     "name": "stdout",
     "text": [
      "time: 93.9 ms\n",
      "In [7] used 0.1328 MiB RAM in 0.20s, peaked 0.00 MiB above current, total RAM usage 123.56 MiB\n"
     ]
    }
   ],
   "source": [
    "pickerhands = dfa['picker'] == 'picker'\n",
    "dfa[pickerhands]"
   ]
  },
  {
   "cell_type": "code",
   "execution_count": 8,
   "metadata": {},
   "outputs": [
    {
     "output_type": "stream",
     "name": "stdout",
     "text": [
      "time: 1.88 s\nIn [8] used 67.8047 MiB RAM in 1.99s, peaked 0.00 MiB above current, total RAM usage 191.37 MiB\n"
     ]
    }
   ],
   "source": [
    "import pandas as pd\n",
    "import numpy as np\n",
    "import seaborn as sns\n",
    "from sklearn.neighbors import KNeighborsClassifier\n",
    "from sklearn.preprocessing import StandardScaler\n",
    "from sklearn.neighbors import KNeighborsRegressor\n",
    "from sklearn.model_selection import train_test_split, cross_val_score\n",
    "from sklearn.metrics import mean_squared_error, r2_score\n",
    "from sklearn.metrics import confusion_matrix\n",
    "from sklearn.metrics import precision_score, recall_score, precision_recall_curve,f1_score, fbeta_score\n",
    "from sklearn.linear_model import LogisticRegression\n",
    "from sklearn.metrics import roc_auc_score, roc_curve, classification_report, confusion_matrix\n",
    "import matplotlib.pyplot as plt\n",
    "from matplotlib.pyplot import figure\n",
    "%matplotlib inline\n",
    "from imblearn.over_sampling import SMOTE, ADASYN, RandomOverSampler\n",
    "from xgboost import XGBClassifier\n",
    "from sklearn.tree import DecisionTreeClassifier, ExtraTreeClassifier\n",
    "from sklearn.ensemble import RandomForestClassifier\n",
    "from sklearn.naive_bayes import GaussianNB, BernoulliNB, MultinomialNB\n",
    "\n",
    "from pipeline_modules import average_metrics_pipeline\n",
    "from pipeline_modules import classification_reports_pipeline\n",
    "from pipeline_modules import roc_curve_pipeline"
   ]
  },
  {
   "cell_type": "code",
   "execution_count": 9,
   "metadata": {},
   "outputs": [
    {
     "output_type": "stream",
     "name": "stdout",
     "text": [
      "time: 5.31 ms\n",
      "In [9] used 0.2695 MiB RAM in 0.11s, peaked 0.00 MiB above current, total RAM usage 191.64 MiB\n"
     ]
    }
   ],
   "source": [
    "df = dfa.copy()\n"
   ]
  },
  {
   "cell_type": "code",
   "execution_count": 10,
   "metadata": {},
   "outputs": [
    {
     "output_type": "stream",
     "name": "stdout",
     "text": [
      "time: 5.03 ms\n",
      "In [10] used 0.2227 MiB RAM in 0.11s, peaked 0.00 MiB above current, total RAM usage 191.86 MiB\n"
     ]
    }
   ],
   "source": [
    "df['outcome'] = df['outcome'].apply(lambda x: 1 if x == 'win' else 0)"
   ]
  },
  {
   "cell_type": "code",
   "execution_count": 11,
   "metadata": {},
   "outputs": [
    {
     "output_type": "stream",
     "name": "stdout",
     "text": [
      "time: 4.74 ms\n",
      "In [11] used 0.0625 MiB RAM in 0.11s, peaked 0.00 MiB above current, total RAM usage 191.92 MiB\n"
     ]
    }
   ],
   "source": [
    "pickerdf = (df['picker'] == 'picker')\n",
    "dfm = df[pickerdf]\n",
    "dfm.drop(['picker'], axis=1, inplace=True)"
   ]
  },
  {
   "cell_type": "code",
   "execution_count": 13,
   "metadata": {},
   "outputs": [
    {
     "output_type": "stream",
     "name": "stdout",
     "text": [
      "time: 1.9 ms\nIn [13] used 0.0039 MiB RAM in 0.11s, peaked 0.00 MiB above current, total RAM usage 192.03 MiB\n"
     ]
    }
   ],
   "source": [
    "dfm.reset_index(inplace=True)"
   ]
  },
  {
   "cell_type": "code",
   "execution_count": 14,
   "metadata": {},
   "outputs": [
    {
     "output_type": "stream",
     "name": "stdout",
     "text": [
      "time: 2.75 ms\nIn [14] used 0.0234 MiB RAM in 0.11s, peaked 0.00 MiB above current, total RAM usage 192.05 MiB\n"
     ]
    }
   ],
   "source": [
    "dfmx = dfm[['uniqueid',               1,               2,               3,\n",
    "                     4,               5,               6,         'score',\n",
    "       'pick_position',    'trumpcount',    'heldpoints']]\n",
    "\n",
    "       "
   ]
  },
  {
   "cell_type": "code",
   "execution_count": 15,
   "metadata": {},
   "outputs": [
    {
     "output_type": "execute_result",
     "data": {
      "text/plain": [
       "                   uniqueid    1    2    3    4    5    6  score  \\\n",
       "0    2400001-RecordHolder37   7S  11C  12S  12C  11H  11D     16   \n",
       "1         2400002-TSG Jerry   7H  11S  12D  11H  12H  12S      8   \n",
       "2    2400003-Dave Frederick  13D  12C   8D  11H   9S  12D      2   \n",
       "3      2400004-Shawn Theune  14D   7D  10D   8H  12S  11S      2   \n",
       "4           2400005-TSG Dan   7H  11D   9H   7D  12S  12C      8   \n",
       "..                      ...  ...  ...  ...  ...  ...  ...    ...   \n",
       "693        2400795-vtreague   9D  11S   9C  13C  11C  12H      2   \n",
       "694  2400796-jerryklein1341  14D   9D   9S  10D  12H  11C      2   \n",
       "695        2400797-eugcindy  12C  12S  14C  13H  11S   9H      2   \n",
       "696   2400798-drdistilledjd  13D   9D  11C  11D  12C   9S     -8   \n",
       "697     2400799-Lovetocrack  12D  12C  12H   8S   7D  14D      4   \n",
       "\n",
       "     pick_position  trumpcount  heldpoints  \n",
       "0                2           5          12  \n",
       "1                2           5          13  \n",
       "2                3           5          12  \n",
       "3                3           5          26  \n",
       "4                1           4           8  \n",
       "..             ...         ...         ...  \n",
       "693              0           4          11  \n",
       "694              3           5          26  \n",
       "695              0           3          23  \n",
       "696              4           5          11  \n",
       "697              2           5          20  \n",
       "\n",
       "[698 rows x 11 columns]"
      ],
      "text/html": "<div>\n<style scoped>\n    .dataframe tbody tr th:only-of-type {\n        vertical-align: middle;\n    }\n\n    .dataframe tbody tr th {\n        vertical-align: top;\n    }\n\n    .dataframe thead th {\n        text-align: right;\n    }\n</style>\n<table border=\"1\" class=\"dataframe\">\n  <thead>\n    <tr style=\"text-align: right;\">\n      <th></th>\n      <th>uniqueid</th>\n      <th>1</th>\n      <th>2</th>\n      <th>3</th>\n      <th>4</th>\n      <th>5</th>\n      <th>6</th>\n      <th>score</th>\n      <th>pick_position</th>\n      <th>trumpcount</th>\n      <th>heldpoints</th>\n    </tr>\n  </thead>\n  <tbody>\n    <tr>\n      <th>0</th>\n      <td>2400001-RecordHolder37</td>\n      <td>7S</td>\n      <td>11C</td>\n      <td>12S</td>\n      <td>12C</td>\n      <td>11H</td>\n      <td>11D</td>\n      <td>16</td>\n      <td>2</td>\n      <td>5</td>\n      <td>12</td>\n    </tr>\n    <tr>\n      <th>1</th>\n      <td>2400002-TSG Jerry</td>\n      <td>7H</td>\n      <td>11S</td>\n      <td>12D</td>\n      <td>11H</td>\n      <td>12H</td>\n      <td>12S</td>\n      <td>8</td>\n      <td>2</td>\n      <td>5</td>\n      <td>13</td>\n    </tr>\n    <tr>\n      <th>2</th>\n      <td>2400003-Dave Frederick</td>\n      <td>13D</td>\n      <td>12C</td>\n      <td>8D</td>\n      <td>11H</td>\n      <td>9S</td>\n      <td>12D</td>\n      <td>2</td>\n      <td>3</td>\n      <td>5</td>\n      <td>12</td>\n    </tr>\n    <tr>\n      <th>3</th>\n      <td>2400004-Shawn Theune</td>\n      <td>14D</td>\n      <td>7D</td>\n      <td>10D</td>\n      <td>8H</td>\n      <td>12S</td>\n      <td>11S</td>\n      <td>2</td>\n      <td>3</td>\n      <td>5</td>\n      <td>26</td>\n    </tr>\n    <tr>\n      <th>4</th>\n      <td>2400005-TSG Dan</td>\n      <td>7H</td>\n      <td>11D</td>\n      <td>9H</td>\n      <td>7D</td>\n      <td>12S</td>\n      <td>12C</td>\n      <td>8</td>\n      <td>1</td>\n      <td>4</td>\n      <td>8</td>\n    </tr>\n    <tr>\n      <th>...</th>\n      <td>...</td>\n      <td>...</td>\n      <td>...</td>\n      <td>...</td>\n      <td>...</td>\n      <td>...</td>\n      <td>...</td>\n      <td>...</td>\n      <td>...</td>\n      <td>...</td>\n      <td>...</td>\n    </tr>\n    <tr>\n      <th>693</th>\n      <td>2400795-vtreague</td>\n      <td>9D</td>\n      <td>11S</td>\n      <td>9C</td>\n      <td>13C</td>\n      <td>11C</td>\n      <td>12H</td>\n      <td>2</td>\n      <td>0</td>\n      <td>4</td>\n      <td>11</td>\n    </tr>\n    <tr>\n      <th>694</th>\n      <td>2400796-jerryklein1341</td>\n      <td>14D</td>\n      <td>9D</td>\n      <td>9S</td>\n      <td>10D</td>\n      <td>12H</td>\n      <td>11C</td>\n      <td>2</td>\n      <td>3</td>\n      <td>5</td>\n      <td>26</td>\n    </tr>\n    <tr>\n      <th>695</th>\n      <td>2400797-eugcindy</td>\n      <td>12C</td>\n      <td>12S</td>\n      <td>14C</td>\n      <td>13H</td>\n      <td>11S</td>\n      <td>9H</td>\n      <td>2</td>\n      <td>0</td>\n      <td>3</td>\n      <td>23</td>\n    </tr>\n    <tr>\n      <th>696</th>\n      <td>2400798-drdistilledjd</td>\n      <td>13D</td>\n      <td>9D</td>\n      <td>11C</td>\n      <td>11D</td>\n      <td>12C</td>\n      <td>9S</td>\n      <td>-8</td>\n      <td>4</td>\n      <td>5</td>\n      <td>11</td>\n    </tr>\n    <tr>\n      <th>697</th>\n      <td>2400799-Lovetocrack</td>\n      <td>12D</td>\n      <td>12C</td>\n      <td>12H</td>\n      <td>8S</td>\n      <td>7D</td>\n      <td>14D</td>\n      <td>4</td>\n      <td>2</td>\n      <td>5</td>\n      <td>20</td>\n    </tr>\n  </tbody>\n</table>\n<p>698 rows × 11 columns</p>\n</div>"
     },
     "metadata": {},
     "execution_count": 15
    },
    {
     "output_type": "stream",
     "name": "stdout",
     "text": [
      "time: 17.8 ms\nIn [15] used 0.0117 MiB RAM in 0.12s, peaked 0.00 MiB above current, total RAM usage 192.07 MiB\n"
     ]
    }
   ],
   "source": [
    "dfmx"
   ]
  },
  {
   "cell_type": "code",
   "execution_count": 16,
   "metadata": {},
   "outputs": [
    {
     "output_type": "stream",
     "name": "stdout",
     "text": [
      "time: 1.4 ms\nIn [16] used 0.0000 MiB RAM in 0.11s, peaked 0.00 MiB above current, total RAM usage 192.07 MiB\n"
     ]
    }
   ],
   "source": [
    "dfmy = dfm['outcome']"
   ]
  },
  {
   "cell_type": "code",
   "execution_count": 17,
   "metadata": {},
   "outputs": [
    {
     "output_type": "stream",
     "name": "stdout",
     "text": [
      "time: 12.5 ms\nIn [17] used 0.3008 MiB RAM in 0.12s, peaked 0.00 MiB above current, total RAM usage 192.37 MiB\n"
     ]
    }
   ],
   "source": [
    "dfmx = pd.get_dummies(dfmx, columns=[1, 2, 3, 4, 5, 6,])"
   ]
  },
  {
   "cell_type": "code",
   "execution_count": 18,
   "metadata": {},
   "outputs": [
    {
     "output_type": "stream",
     "name": "stdout",
     "text": [
      "time: 4.33 ms\nIn [18] used 0.0000 MiB RAM in 0.11s, peaked 0.00 MiB above current, total RAM usage 192.37 MiB\n"
     ]
    }
   ],
   "source": [
    "dfma = pd.concat([dfmx, dfmy], axis=1)"
   ]
  },
  {
   "cell_type": "code",
   "execution_count": 19,
   "metadata": {},
   "outputs": [
    {
     "output_type": "stream",
     "name": "stdout",
     "text": [
      "time: 2.6 ms\nIn [19] used 0.0078 MiB RAM in 0.10s, peaked 0.00 MiB above current, total RAM usage 192.38 MiB\n"
     ]
    }
   ],
   "source": [
    "X = dfma.iloc[:,2:-1]\n",
    "y = dfma.iloc[:,-1]"
   ]
  },
  {
   "cell_type": "code",
   "execution_count": 20,
   "metadata": {},
   "outputs": [
    {
     "output_type": "stream",
     "name": "stdout",
     "text": [
      "time: 3.21 ms\nIn [20] used 0.1797 MiB RAM in 0.11s, peaked 0.00 MiB above current, total RAM usage 192.55 MiB\n"
     ]
    }
   ],
   "source": [
    "dfma.to_pickle('new_hands_df')"
   ]
  },
  {
   "cell_type": "code",
   "execution_count": 21,
   "metadata": {},
   "outputs": [
    {
     "output_type": "execute_result",
     "data": {
      "text/plain": [
       "                   uniqueid  score  pick_position  trumpcount  heldpoints  \\\n",
       "0    2400001-RecordHolder37     16              2           5          12   \n",
       "1         2400002-TSG Jerry      8              2           5          13   \n",
       "2    2400003-Dave Frederick      2              3           5          12   \n",
       "3      2400004-Shawn Theune      2              3           5          26   \n",
       "4           2400005-TSG Dan      8              1           4           8   \n",
       "..                      ...    ...            ...         ...         ...   \n",
       "693        2400795-vtreague      2              0           4          11   \n",
       "694  2400796-jerryklein1341      2              3           5          26   \n",
       "695        2400797-eugcindy      2              0           3          23   \n",
       "696   2400798-drdistilledjd     -8              4           5          11   \n",
       "697     2400799-Lovetocrack      4              2           5          20   \n",
       "\n",
       "     1_10C  1_10D  1_10H  1_10S  1_11C  ...  6_7S  6_8C  6_8D  6_8H  6_8S  \\\n",
       "0        0      0      0      0      0  ...     0     0     0     0     0   \n",
       "1        0      0      0      0      0  ...     0     0     0     0     0   \n",
       "2        0      0      0      0      0  ...     0     0     0     0     0   \n",
       "3        0      0      0      0      0  ...     0     0     0     0     0   \n",
       "4        0      0      0      0      0  ...     0     0     0     0     0   \n",
       "..     ...    ...    ...    ...    ...  ...   ...   ...   ...   ...   ...   \n",
       "693      0      0      0      0      0  ...     0     0     0     0     0   \n",
       "694      0      0      0      0      0  ...     0     0     0     0     0   \n",
       "695      0      0      0      0      0  ...     0     0     0     0     0   \n",
       "696      0      0      0      0      0  ...     0     0     0     0     0   \n",
       "697      0      0      0      0      0  ...     0     0     0     0     0   \n",
       "\n",
       "     6_9C  6_9D  6_9H  6_9S  outcome  \n",
       "0       0     0     0     0        1  \n",
       "1       0     0     0     0        1  \n",
       "2       0     0     0     0        1  \n",
       "3       0     0     0     0        1  \n",
       "4       0     0     0     0        1  \n",
       "..    ...   ...   ...   ...      ...  \n",
       "693     0     0     0     0        1  \n",
       "694     0     0     0     0        1  \n",
       "695     0     0     1     0        1  \n",
       "696     0     0     0     1        0  \n",
       "697     0     0     0     0        1  \n",
       "\n",
       "[698 rows x 198 columns]"
      ],
      "text/html": "<div>\n<style scoped>\n    .dataframe tbody tr th:only-of-type {\n        vertical-align: middle;\n    }\n\n    .dataframe tbody tr th {\n        vertical-align: top;\n    }\n\n    .dataframe thead th {\n        text-align: right;\n    }\n</style>\n<table border=\"1\" class=\"dataframe\">\n  <thead>\n    <tr style=\"text-align: right;\">\n      <th></th>\n      <th>uniqueid</th>\n      <th>score</th>\n      <th>pick_position</th>\n      <th>trumpcount</th>\n      <th>heldpoints</th>\n      <th>1_10C</th>\n      <th>1_10D</th>\n      <th>1_10H</th>\n      <th>1_10S</th>\n      <th>1_11C</th>\n      <th>...</th>\n      <th>6_7S</th>\n      <th>6_8C</th>\n      <th>6_8D</th>\n      <th>6_8H</th>\n      <th>6_8S</th>\n      <th>6_9C</th>\n      <th>6_9D</th>\n      <th>6_9H</th>\n      <th>6_9S</th>\n      <th>outcome</th>\n    </tr>\n  </thead>\n  <tbody>\n    <tr>\n      <th>0</th>\n      <td>2400001-RecordHolder37</td>\n      <td>16</td>\n      <td>2</td>\n      <td>5</td>\n      <td>12</td>\n      <td>0</td>\n      <td>0</td>\n      <td>0</td>\n      <td>0</td>\n      <td>0</td>\n      <td>...</td>\n      <td>0</td>\n      <td>0</td>\n      <td>0</td>\n      <td>0</td>\n      <td>0</td>\n      <td>0</td>\n      <td>0</td>\n      <td>0</td>\n      <td>0</td>\n      <td>1</td>\n    </tr>\n    <tr>\n      <th>1</th>\n      <td>2400002-TSG Jerry</td>\n      <td>8</td>\n      <td>2</td>\n      <td>5</td>\n      <td>13</td>\n      <td>0</td>\n      <td>0</td>\n      <td>0</td>\n      <td>0</td>\n      <td>0</td>\n      <td>...</td>\n      <td>0</td>\n      <td>0</td>\n      <td>0</td>\n      <td>0</td>\n      <td>0</td>\n      <td>0</td>\n      <td>0</td>\n      <td>0</td>\n      <td>0</td>\n      <td>1</td>\n    </tr>\n    <tr>\n      <th>2</th>\n      <td>2400003-Dave Frederick</td>\n      <td>2</td>\n      <td>3</td>\n      <td>5</td>\n      <td>12</td>\n      <td>0</td>\n      <td>0</td>\n      <td>0</td>\n      <td>0</td>\n      <td>0</td>\n      <td>...</td>\n      <td>0</td>\n      <td>0</td>\n      <td>0</td>\n      <td>0</td>\n      <td>0</td>\n      <td>0</td>\n      <td>0</td>\n      <td>0</td>\n      <td>0</td>\n      <td>1</td>\n    </tr>\n    <tr>\n      <th>3</th>\n      <td>2400004-Shawn Theune</td>\n      <td>2</td>\n      <td>3</td>\n      <td>5</td>\n      <td>26</td>\n      <td>0</td>\n      <td>0</td>\n      <td>0</td>\n      <td>0</td>\n      <td>0</td>\n      <td>...</td>\n      <td>0</td>\n      <td>0</td>\n      <td>0</td>\n      <td>0</td>\n      <td>0</td>\n      <td>0</td>\n      <td>0</td>\n      <td>0</td>\n      <td>0</td>\n      <td>1</td>\n    </tr>\n    <tr>\n      <th>4</th>\n      <td>2400005-TSG Dan</td>\n      <td>8</td>\n      <td>1</td>\n      <td>4</td>\n      <td>8</td>\n      <td>0</td>\n      <td>0</td>\n      <td>0</td>\n      <td>0</td>\n      <td>0</td>\n      <td>...</td>\n      <td>0</td>\n      <td>0</td>\n      <td>0</td>\n      <td>0</td>\n      <td>0</td>\n      <td>0</td>\n      <td>0</td>\n      <td>0</td>\n      <td>0</td>\n      <td>1</td>\n    </tr>\n    <tr>\n      <th>...</th>\n      <td>...</td>\n      <td>...</td>\n      <td>...</td>\n      <td>...</td>\n      <td>...</td>\n      <td>...</td>\n      <td>...</td>\n      <td>...</td>\n      <td>...</td>\n      <td>...</td>\n      <td>...</td>\n      <td>...</td>\n      <td>...</td>\n      <td>...</td>\n      <td>...</td>\n      <td>...</td>\n      <td>...</td>\n      <td>...</td>\n      <td>...</td>\n      <td>...</td>\n      <td>...</td>\n    </tr>\n    <tr>\n      <th>693</th>\n      <td>2400795-vtreague</td>\n      <td>2</td>\n      <td>0</td>\n      <td>4</td>\n      <td>11</td>\n      <td>0</td>\n      <td>0</td>\n      <td>0</td>\n      <td>0</td>\n      <td>0</td>\n      <td>...</td>\n      <td>0</td>\n      <td>0</td>\n      <td>0</td>\n      <td>0</td>\n      <td>0</td>\n      <td>0</td>\n      <td>0</td>\n      <td>0</td>\n      <td>0</td>\n      <td>1</td>\n    </tr>\n    <tr>\n      <th>694</th>\n      <td>2400796-jerryklein1341</td>\n      <td>2</td>\n      <td>3</td>\n      <td>5</td>\n      <td>26</td>\n      <td>0</td>\n      <td>0</td>\n      <td>0</td>\n      <td>0</td>\n      <td>0</td>\n      <td>...</td>\n      <td>0</td>\n      <td>0</td>\n      <td>0</td>\n      <td>0</td>\n      <td>0</td>\n      <td>0</td>\n      <td>0</td>\n      <td>0</td>\n      <td>0</td>\n      <td>1</td>\n    </tr>\n    <tr>\n      <th>695</th>\n      <td>2400797-eugcindy</td>\n      <td>2</td>\n      <td>0</td>\n      <td>3</td>\n      <td>23</td>\n      <td>0</td>\n      <td>0</td>\n      <td>0</td>\n      <td>0</td>\n      <td>0</td>\n      <td>...</td>\n      <td>0</td>\n      <td>0</td>\n      <td>0</td>\n      <td>0</td>\n      <td>0</td>\n      <td>0</td>\n      <td>0</td>\n      <td>1</td>\n      <td>0</td>\n      <td>1</td>\n    </tr>\n    <tr>\n      <th>696</th>\n      <td>2400798-drdistilledjd</td>\n      <td>-8</td>\n      <td>4</td>\n      <td>5</td>\n      <td>11</td>\n      <td>0</td>\n      <td>0</td>\n      <td>0</td>\n      <td>0</td>\n      <td>0</td>\n      <td>...</td>\n      <td>0</td>\n      <td>0</td>\n      <td>0</td>\n      <td>0</td>\n      <td>0</td>\n      <td>0</td>\n      <td>0</td>\n      <td>0</td>\n      <td>1</td>\n      <td>0</td>\n    </tr>\n    <tr>\n      <th>697</th>\n      <td>2400799-Lovetocrack</td>\n      <td>4</td>\n      <td>2</td>\n      <td>5</td>\n      <td>20</td>\n      <td>0</td>\n      <td>0</td>\n      <td>0</td>\n      <td>0</td>\n      <td>0</td>\n      <td>...</td>\n      <td>0</td>\n      <td>0</td>\n      <td>0</td>\n      <td>0</td>\n      <td>0</td>\n      <td>0</td>\n      <td>0</td>\n      <td>0</td>\n      <td>0</td>\n      <td>1</td>\n    </tr>\n  </tbody>\n</table>\n<p>698 rows × 198 columns</p>\n</div>"
     },
     "metadata": {},
     "execution_count": 21
    },
    {
     "output_type": "stream",
     "name": "stdout",
     "text": [
      "time: 22 ms\nIn [21] used 0.0117 MiB RAM in 0.13s, peaked 0.00 MiB above current, total RAM usage 192.57 MiB\n"
     ]
    }
   ],
   "source": [
    "dfma"
   ]
  },
  {
   "cell_type": "code",
   "execution_count": null,
   "metadata": {},
   "outputs": [],
   "source": []
  },
  {
   "cell_type": "code",
   "execution_count": null,
   "metadata": {},
   "outputs": [],
   "source": []
  },
  {
   "cell_type": "code",
   "execution_count": null,
   "metadata": {},
   "outputs": [],
   "source": []
  }
 ]
}