{
 "metadata": {
  "language_info": {
   "codemirror_mode": {
    "name": "ipython",
    "version": 3
   },
   "file_extension": ".py",
   "mimetype": "text/x-python",
   "name": "python",
   "nbconvert_exporter": "python",
   "pygments_lexer": "ipython3",
   "version": "3.8.3-final"
  },
  "orig_nbformat": 2,
  "kernelspec": {
   "name": "python3",
   "display_name": "Python 3.8.3 64-bit ('metis': conda)",
   "metadata": {
    "interpreter": {
     "hash": "e94c15d6dbef08e95baaf638ff93666d2390f58e0c4317ae3b2bf35ecad0e12e"
    }
   }
  }
 },
 "nbformat": 4,
 "nbformat_minor": 2,
 "cells": [
  {
   "cell_type": "code",
   "execution_count": 5,
   "metadata": {},
   "outputs": [],
   "source": [
    "import cv2\n",
    "from datetime import datetime\n",
    "\n",
    "import argparse\n",
    "import imutils\n",
    "import glob\n",
    "import numpy as np\n",
    "\n",
    "  \n"
   ]
  },
  {
   "cell_type": "code",
   "execution_count": 2,
   "metadata": {},
   "outputs": [],
   "source": [
    "def detect_cards(self, cascade_path):\n",
    "  \n",
    "        # get image from webcam\n",
    "        img = self.webcam.read()[1]\n",
    "          \n",
    "        # do card detection\n",
    "        card_cascade = cv2.CascadeClassifier(cascade_path)\n",
    "  \n",
    "        gray = cv2.cvtColor(img, cv2.COLOR_RGB2GRAY)\n",
    "        cards = card_cascade.detectMultiScale(gray, scaleFactor=1.1, minNeighbors=4, minSize=(200, 300))\n",
    "  \n",
    "        for (x,y,w,h) in cards:\n",
    "            cv2.rectangle(img,(x,y),(x+w,y+h),(255,0,0),2)\n",
    "  \n",
    "        # save image to disk\n",
    "        self._save_image('WebCam/Detection/', img)\n",
    "  \n",
    "        # show image in window\n",
    "        cv2.imshow(self.WINDOW_NAME, img)\n",
    "        cv2.waitKey(2000)\n",
    "        cv2.destroyAllWindows()\n",
    "          \n",
    "        # indicate whether cards detected\n",
    "        if len(cards) > 0:\n",
    "            return True\n",
    "  \n",
    "        return False"
   ]
  },
  {
   "cell_type": "code",
   "execution_count": 6,
   "metadata": {},
   "outputs": [
    {
     "output_type": "error",
     "ename": "NameError",
     "evalue": "name 'args' is not defined",
     "traceback": [
      "\u001b[0;31m---------------------------------------------------------------------------\u001b[0m",
      "\u001b[0;31mNameError\u001b[0m                                 Traceback (most recent call last)",
      "\u001b[0;32m<ipython-input-6-73c9cfdb5ecc>\u001b[0m in \u001b[0;36m<module>\u001b[0;34m\u001b[0m\n\u001b[0;32m----> 1\u001b[0;31m \u001b[0;32mfor\u001b[0m \u001b[0mimagePath\u001b[0m \u001b[0;32min\u001b[0m \u001b[0mglob\u001b[0m\u001b[0;34m.\u001b[0m\u001b[0mglob\u001b[0m\u001b[0;34m(\u001b[0m\u001b[0margs\u001b[0m\u001b[0;34m[\u001b[0m\u001b[0;34m\"images\"\u001b[0m\u001b[0;34m]\u001b[0m \u001b[0;34m+\u001b[0m \u001b[0;34m\"/*.jpg\"\u001b[0m\u001b[0;34m)\u001b[0m\u001b[0;34m:\u001b[0m\u001b[0;34m\u001b[0m\u001b[0;34m\u001b[0m\u001b[0m\n\u001b[0m\u001b[1;32m      2\u001b[0m         \u001b[0;31m# load the image, convert it to grayscale, and initialize the\u001b[0m\u001b[0;34m\u001b[0m\u001b[0;34m\u001b[0m\u001b[0;34m\u001b[0m\u001b[0m\n\u001b[1;32m      3\u001b[0m         \u001b[0;31m# bookkeeping variable to keep track of the matched region\u001b[0m\u001b[0;34m\u001b[0m\u001b[0;34m\u001b[0m\u001b[0;34m\u001b[0m\u001b[0m\n\u001b[1;32m      4\u001b[0m         \u001b[0mimage\u001b[0m \u001b[0;34m=\u001b[0m \u001b[0mcv2\u001b[0m\u001b[0;34m.\u001b[0m\u001b[0mimread\u001b[0m\u001b[0;34m(\u001b[0m\u001b[0mimagePath\u001b[0m\u001b[0;34m)\u001b[0m\u001b[0;34m\u001b[0m\u001b[0;34m\u001b[0m\u001b[0m\n\u001b[1;32m      5\u001b[0m         \u001b[0mgray\u001b[0m \u001b[0;34m=\u001b[0m \u001b[0mcv2\u001b[0m\u001b[0;34m.\u001b[0m\u001b[0mcvtColor\u001b[0m\u001b[0;34m(\u001b[0m\u001b[0mimage\u001b[0m\u001b[0;34m,\u001b[0m \u001b[0mcv2\u001b[0m\u001b[0;34m.\u001b[0m\u001b[0mCOLOR_BGR2GRAY\u001b[0m\u001b[0;34m)\u001b[0m\u001b[0;34m\u001b[0m\u001b[0;34m\u001b[0m\u001b[0m\n",
      "\u001b[0;31mNameError\u001b[0m: name 'args' is not defined"
     ]
    }
   ],
   "source": [
    "\n",
    "# load the image, convert it to grayscale, and initialize the\n",
    "# bookkeeping variable to keep track of the matched region\n",
    "image = cv2.imread(imagePath)\n",
    "gray = cv2.cvtColor(image, cv2.COLOR_BGR2GRAY)\n",
    "found = None\n",
    "# loop over the scales of the image\n",
    "for scale in np.linspace(0.2, 1.0, 20)[::-1]:\n",
    "    # resize the image according to the scale, and keep track\n",
    "    # of the ratio of the resizing\n",
    "    resized = imutils.resize(gray, width = int(gray.shape[1] * scale))\n",
    "    r = gray.shape[1] / float(resized.shape[1])\n",
    "    # if the resized image is smaller than the template, then break\n",
    "    # from the loop\n",
    "    if resized.shape[0] < tH or resized.shape[1] < tW:\n",
    "        break\n",
    "        # detect edges in the resized, grayscale image and apply template\n",
    "    # matching to find the template in the image\n",
    "    edged = cv2.Canny(resized, 50, 200)\n",
    "    result = cv2.matchTemplate(edged, template, cv2.TM_CCOEFF)\n",
    "    (_, maxVal, _, maxLoc) = cv2.minMaxLoc(result)\n",
    "    # check to see if the iteration should be visualized\n",
    "    if args.get(\"visualize\", False):\n",
    "        # draw a bounding box around the detected region\n",
    "        clone = np.dstack([edged, edged, edged])\n",
    "        cv2.rectangle(clone, (maxLoc[0], maxLoc[1]),\n",
    "            (maxLoc[0] + tW, maxLoc[1] + tH), (0, 0, 255), 2)\n",
    "        cv2.imshow(\"Visualize\", clone)\n",
    "        cv2.waitKey(0)\n",
    "    # if we have found a new maximum correlation value, then update\n",
    "    # the bookkeeping variable\n",
    "    if found is None or maxVal > found[0]:\n",
    "        found = (maxVal, maxLoc, r)\n",
    "# unpack the bookkeeping variable and compute the (x, y) coordinates\n",
    "# of the bounding box based on the resized ratio\n",
    "(_, maxLoc, r) = found\n",
    "(startX, startY) = (int(maxLoc[0] * r), int(maxLoc[1] * r))\n",
    "(endX, endY) = (int((maxLoc[0] + tW) * r), int((maxLoc[1] + tH) * r))\n",
    "# draw a bounding box around the detected result and display the image\n",
    "cv2.rectangle(image, (startX, startY), (endX, endY), (0, 0, 255), 2)\n",
    "cv2.imshow(\"Image\", image)\n",
    "cv2.waitKey(0)"
   ]
  },
  {
   "cell_type": "code",
   "execution_count": null,
   "metadata": {},
   "outputs": [],
   "source": []
  }
 ]
}