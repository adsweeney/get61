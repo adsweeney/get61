{
 "cells": [
  {
   "cell_type": "code",
   "execution_count": 2,
   "metadata": {},
   "outputs": [],
   "source": [
    "from scrapers import get_leaderboard\n",
    "import pandas as pd\n",
    "import requests\n",
    "import re\n",
    "from datetime import datetime\n",
    "from bs4 import BeautifulSoup"
   ]
  },
  {
   "cell_type": "code",
   "execution_count": 3,
   "metadata": {},
   "outputs": [],
   "source": [
    "userlist = {'Ben Statz' : 'Casetta Bloody Mary', 'Ryan Kelly': 'RKD', 'Gena Rieger-Olson': 'The L in MSLGL',\n",
    "           'Duncan Sweeney': 'inconspicuous username', 'Jacob Hanke': 'jacobhanke12', 'Edward Mckenna': 'Dr Brad Peck', 'Thomas Gering': 'KingCrab',\n",
    "           'Andrew Wells': '3SheepsToTheWind', 'Ticho': 'Andrew Ticho', 'Brett Falkowski': 'Falko',\n",
    "           'Sam Reinertson': 'Riding Lawnmauer', 'Nate Bartz': 'Moonblatz', 'Bret Olson': 'Bert Olson',\n",
    "           'Dan Brunner': 'DPB', 'Srdjan Gajic': 'Provie', 'James Madsen': 'James Madsen'}"
   ]
  },
  {
   "cell_type": "code",
   "execution_count": 4,
   "metadata": {},
   "outputs": [],
   "source": [
    "sites = {'daily': 'https://get61.com/leaderboard', 'lifetime': 'https://get61.com/leaderboard?lifetime=true&sortBy=lifetime_score'}"
   ]
  },
  {
   "cell_type": "code",
   "execution_count": null,
   "metadata": {},
   "outputs": [],
   "source": [
    "multipliers = dict(default = 1, no_schneider = 2, no_trick = 3, dob = 2, doubler = 2, blitz = 2, crack = 2, crack_back = 2, rb_crack = 4, base = 1, picker = 2)\n",
    "\n",
    "hearts = [str(i).replace('11', 'J').replace('12', 'Q').replace('13', 'K').replace('14', 'A') + 'H' for i in range(7,15)]\n",
    "clubs = [str(i).replace('11', 'J').replace('12', 'Q').replace('13', 'K').replace('14', 'A')  + 'D' for i in range(7,15)]\n",
    "spades = [str(i).replace('11', 'J').replace('12', 'Q').replace('13', 'K').replace('14', 'A')  + 'S' for i in range(7,15)]\n",
    "diamonds = [str(i).replace('11', 'J').replace('12', 'Q').replace('13', 'K').replace('14', 'A')  + 'D' for i in range(7,15)]\n",
    "\n",
    "allcards = hearts + clubs + spades + diamonds\n",
    "values = [0, 0, 0, 10, 2, 3, 4, 11, 0, 0, 0, 10, 2, 3, 4, 11, 0, 0, 0, 10, 2, 3, 4, 11, 0, 0, 0, 10, 2, 3, 4, 11]\n",
    "\n",
    "pointvalues = dict(zip(allcards, values))\n"
   ]
  },
  {
   "cell_type": "code",
   "execution_count": null,
   "metadata": {},
   "outputs": [],
   "source": [
    "\n",
    "def gethands(hands, userlist):\n",
    "    "
   ]
  },
  {
   "cell_type": "code",
   "execution_count": null,
   "metadata": {},
   "outputs": [],
   "source": []
  },
  {
   "cell_type": "code",
   "execution_count": null,
   "metadata": {},
   "outputs": [],
   "source": []
  },
  {
   "cell_type": "code",
   "execution_count": null,
   "metadata": {},
   "outputs": [],
   "source": []
  }
 ],
 "metadata": {
  "kernelspec": {
   "name": "Python 3.7.6 64-bit ('base': conda)",
   "display_name": "Python 3.7.6 64-bit ('base': conda)",
   "metadata": {
    "interpreter": {
     "hash": "207152898ed618296f9de2b3f404e2dfc752ef6405f0578730932ead90b0e5ad"
    }
   }
  },
  "language_info": {
   "codemirror_mode": {
    "name": "ipython",
    "version": 3
   },
   "file_extension": ".py",
   "mimetype": "text/x-python",
   "name": "python",
   "nbconvert_exporter": "python",
   "pygments_lexer": "ipython3",
   "version": "3.7.6-final"
  }
 },
 "nbformat": 4,
 "nbformat_minor": 4
}