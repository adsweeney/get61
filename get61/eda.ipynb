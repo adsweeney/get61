{
 "metadata": {
  "language_info": {
   "codemirror_mode": {
    "name": "ipython",
    "version": 3
   },
   "file_extension": ".py",
   "mimetype": "text/x-python",
   "name": "python",
   "nbconvert_exporter": "python",
   "pygments_lexer": "ipython3",
   "version": "3.8.3-final"
  },
  "orig_nbformat": 2,
  "kernelspec": {
   "name": "python3",
   "display_name": "Python 3.8.3 64-bit ('metis': conda)",
   "metadata": {
    "interpreter": {
     "hash": "e94c15d6dbef08e95baaf638ff93666d2390f58e0c4317ae3b2bf35ecad0e12e"
    }
   }
  }
 },
 "nbformat": 4,
 "nbformat_minor": 2,
 "cells": [
  {
   "cell_type": "code",
   "execution_count": 1,
   "metadata": {},
   "outputs": [],
   "source": [
    "heartsa = [str(i) + 'H' for i in range(7,15)]\n",
    "clubsa = [str(i) + 'C' for i in range(7,15)]\n",
    "spadesa = [str(i) + 'S' for i in range(7,15)]\n",
    "diamondsa = [str(i) + 'D' for i in range(7,15)]\n",
    "\n",
    "allcardsa = heartsa + clubsa + spadesa + diamondsa\n",
    "valuesa = [0, 0, 0, 10, 2, 3, 4, 11, 0, 0, 0, 10, 2, 3, 4, 11, 0, 0, 0, 10, 2, 3, 4, 11, 0, 0, 0, 10, 2, 3, 4, 11]\n",
    "\n",
    "pointvalues = dict(zip(allcardsa, valuesa))"
   ]
  },
  {
   "cell_type": "code",
   "execution_count": 2,
   "metadata": {},
   "outputs": [
    {
     "output_type": "stream",
     "name": "stdout",
     "text": [
      "time: 113 ms\nIn [2] used 0.0000 MiB RAM in 0.10s, peaked 0.00 MiB above current, total RAM usage 71.21 MiB\n"
     ]
    }
   ],
   "source": [
    "import pandas as pd\n",
    "import numpy as np\n",
    "# ipython autotime\n",
    "%load_ext autotime\n",
    "\n",
    "# ipython_memory_usage\n",
    "import ipython_memory_usage \n",
    "%ipython_memory_usage_start  \n",
    "from pprint import pprint as pp"
   ]
  },
  {
   "cell_type": "code",
   "execution_count": 5,
   "metadata": {},
   "outputs": [
    {
     "output_type": "stream",
     "name": "stdout",
     "text": [
      "time: 672 ms\nIn [5] used 156.8438 MiB RAM in 0.78s, peaked 0.00 MiB above current, total RAM usage 228.74 MiB\n"
     ]
    }
   ],
   "source": [
    "# df1 = pd.read_pickle('2256000_2256009')\n",
    "# df2 = pd.read_pickle('2268010_2268200')\n",
    "# df3 = pd.read_pickle('2268200_2268600')\n",
    "# df4 = pd.read_pickle('2268600_2270000')\n",
    "# df5 = pd.read_pickle('2270000_2272000')\n",
    "# df6 = pd.read_pickle('2272000_2274000')\n",
    "# df7 = pd.read_pickle('2274000_2277000')\n",
    "# df8 = pd.read_pickle('2277000_2280000')\n",
    "# df9 = pd.read_pickle('2280000_2282000')\n",
    "# df10 = pd.read_pickle('2282000_2284000')\n",
    "# df11 = pd.read_pickle('2284000_2285000')\n",
    "# df12 = pd.read_pickle('2285000_2287000')\n",
    "# df13 = pd.read_pickle('2287000_2290000')\n",
    "# df14 = pd.read_pickle('2290000_2293000')\n",
    "# df15 = pd.read_pickle('2293000_2296000')\n",
    "# df16 = pd.read_pickle('2296000_2330000')"
   ]
  },
  {
   "cell_type": "code",
   "execution_count": 6,
   "metadata": {},
   "outputs": [
    {
     "output_type": "stream",
     "name": "stdout",
     "text": [
      "time: 3.95 ms\nIn [6] used 0.3125 MiB RAM in 0.10s, peaked 0.00 MiB above current, total RAM usage 229.05 MiB\n"
     ]
    }
   ],
   "source": [
    "dfhandnew = pd.read_pickle('2400000_2400100')"
   ]
  },
  {
   "cell_type": "code",
   "execution_count": null,
   "metadata": {},
   "outputs": [],
   "source": []
  },
  {
   "cell_type": "code",
   "execution_count": 7,
   "metadata": {},
   "outputs": [
    {
     "output_type": "stream",
     "name": "stdout",
     "text": [
      "time: 193 ms\nIn [7] used 34.5156 MiB RAM in 0.29s, peaked 0.00 MiB above current, total RAM usage 263.57 MiB\n"
     ]
    }
   ],
   "source": [
    "dfa = pd.concat([df1, df2, df3, df4, df5, df6, df7, df8, df9, df10, df11, df12, df13, df14, df15, df16])"
   ]
  },
  {
   "cell_type": "code",
   "execution_count": null,
   "metadata": {},
   "outputs": [],
   "source": [
    "#dfa.to_pickle('basedf')"
   ]
  },
  {
   "cell_type": "code",
   "execution_count": 3,
   "metadata": {},
   "outputs": [],
   "source": [
    "# card types\n",
    "hearts = [str(i) + 'H' for i in range(7, 11)] + ['13H'] + ['14H']\n",
    "spades = [str(i) + 'S' for i in range(7, 11)] + ['13S'] + ['14S']\n",
    "clubs = [str(i) + 'C' for i in range(7, 11)] + ['13C'] + ['14C']\n",
    "# Trump\n",
    "trump = [str(i) + 'D' for i in range(7, 15)] + ['11' + i for i in ['H', 'S', 'C']] + ['12' + i for i in ['H', 'S', 'C']]"
   ]
  },
  {
   "cell_type": "code",
   "execution_count": 4,
   "metadata": {},
   "outputs": [
    {
     "output_type": "stream",
     "name": "stdout",
     "text": [
      "time: 1.28 ms\nIn [4] used 0.1055 MiB RAM in 0.11s, peaked 0.00 MiB above current, total RAM usage 71.37 MiB\n"
     ]
    }
   ],
   "source": [
    "fail = hearts + spades + clubs"
   ]
  },
  {
   "cell_type": "code",
   "execution_count": 5,
   "metadata": {},
   "outputs": [
    {
     "output_type": "stream",
     "name": "stdout",
     "text": [
      "time: 2.07 ms\nIn [5] used -0.0117 MiB RAM in 0.10s, peaked 0.00 MiB above current, total RAM usage 71.36 MiB\n"
     ]
    }
   ],
   "source": [
    "points = [0, 0, 0, 10, 4, 11]\n",
    "pointstrump = [0, 0, 0, 10, 2, 3, 4, 11, 2, 2, 2, 3, 3, 3]\n",
    "trumprank = [1, 2, 3, 5, 7, 11, 4, 6, 8, 9, 10, 12, 13, 14]\n",
    "failrank = [1, 2, 3, 5, 4, 6]"
   ]
  },
  {
   "cell_type": "code",
   "execution_count": 6,
   "metadata": {},
   "outputs": [
    {
     "output_type": "stream",
     "name": "stdout",
     "text": [
      "time: 1.45 ms\nIn [6] used 0.0195 MiB RAM in 0.11s, peaked 0.00 MiB above current, total RAM usage 71.38 MiB\n"
     ]
    }
   ],
   "source": [
    "faildic = dict(zip(fail, zip(points * 4, failrank * 4)))\n",
    "trumpdic = dict(zip(trump, zip(pointstrump, trumprank)))\n"
   ]
  },
  {
   "cell_type": "code",
   "execution_count": 11,
   "metadata": {},
   "outputs": [
    {
     "output_type": "error",
     "ename": "NameError",
     "evalue": "name 'dfa' is not defined",
     "traceback": [
      "\u001b[0;31m---------------------------------------------------------------------------\u001b[0m",
      "\u001b[0;31mNameError\u001b[0m                                 Traceback (most recent call last)",
      "\u001b[0;32m<ipython-input-11-ba23b8c26ff9>\u001b[0m in \u001b[0;36m<module>\u001b[0;34m\u001b[0m\n\u001b[0;32m----> 1\u001b[0;31m \u001b[0mdf\u001b[0m \u001b[0;34m=\u001b[0m \u001b[0mdfa\u001b[0m\u001b[0;34m.\u001b[0m\u001b[0mcopy\u001b[0m\u001b[0;34m(\u001b[0m\u001b[0;34m)\u001b[0m\u001b[0;34m\u001b[0m\u001b[0;34m\u001b[0m\u001b[0m\n\u001b[0m",
      "\u001b[0;31mNameError\u001b[0m: name 'dfa' is not defined"
     ]
    }
   ],
   "source": [
    "df = dfa.copy()"
   ]
  },
  {
   "cell_type": "code",
   "execution_count": 7,
   "metadata": {},
   "outputs": [
    {
     "output_type": "stream",
     "name": "stdout",
     "text": [
      "time: 438 ms\nIn [7] used 196.2891 MiB RAM in 0.54s, peaked 0.00 MiB above current, total RAM usage 267.66 MiB\n"
     ]
    }
   ],
   "source": [
    "df = pd.read_pickle('basedf')"
   ]
  },
  {
   "cell_type": "code",
   "execution_count": 8,
   "metadata": {},
   "outputs": [
    {
     "output_type": "stream",
     "name": "stdout",
     "text": [
      "time: 20.9 s\nIn [8] used 62.3789 MiB RAM in 21.05s, peaked 67.99 MiB above current, total RAM usage 330.04 MiB\n"
     ]
    }
   ],
   "source": [
    "df['cards'] = df[df.columns[1:7]].apply(lambda x: ','.join(x.astype(str)).split(','), axis=1)\n",
    "df['trump'] = df['cards'].apply(lambda x: [i for i in x if i in trumpdic.keys()])\n"
   ]
  },
  {
   "cell_type": "code",
   "execution_count": 9,
   "metadata": {},
   "outputs": [
    {
     "output_type": "stream",
     "name": "stdout",
     "text": [
      "time: 53.3 ms\n",
      "In [9] used 5.0195 MiB RAM in 0.15s, peaked 0.00 MiB above current, total RAM usage 335.06 MiB\n"
     ]
    }
   ],
   "source": [
    "df['trumpcount'] = df['trump'].apply(lambda x: len(x))"
   ]
  },
  {
   "cell_type": "code",
   "execution_count": 10,
   "metadata": {},
   "outputs": [
    {
     "output_type": "stream",
     "name": "stdout",
     "text": [
      "time: 285 ms\nIn [10] used 5.2188 MiB RAM in 0.39s, peaked 6.96 MiB above current, total RAM usage 340.28 MiB\n"
     ]
    }
   ],
   "source": [
    "df['fail'] = df['cards'].apply(lambda x: [i for i in x if i in faildic.keys()])\n"
   ]
  },
  {
   "cell_type": "code",
   "execution_count": 11,
   "metadata": {},
   "outputs": [
    {
     "output_type": "stream",
     "name": "stdout",
     "text": [
      "time: 45.1 ms\n",
      "In [11] used 4.9453 MiB RAM in 0.15s, peaked 0.00 MiB above current, total RAM usage 345.23 MiB\n"
     ]
    }
   ],
   "source": [
    "df['failcount'] = df['fail'].apply(lambda x: len(x))"
   ]
  },
  {
   "cell_type": "code",
   "execution_count": 12,
   "metadata": {},
   "outputs": [
    {
     "output_type": "stream",
     "name": "stdout",
     "text": [
      "time: 144 ms\n",
      "In [12] used 0.9766 MiB RAM in 0.24s, peaked 0.25 MiB above current, total RAM usage 346.20 MiB\n"
     ]
    }
   ],
   "source": [
    "df['heldpoints'] = df['cards'].apply(lambda x: sum([pointvalues[i] for i in x]))"
   ]
  },
  {
   "cell_type": "code",
   "execution_count": 13,
   "metadata": {},
   "outputs": [
    {
     "output_type": "stream",
     "name": "stdout",
     "text": [
      "time: 26.2 ms\n",
      "In [13] used -10.5273 MiB RAM in 0.13s, peaked 10.54 MiB above current, total RAM usage 335.68 MiB\n"
     ]
    }
   ],
   "source": [
    "df['outcome'] = df['score'].apply(lambda x: 'win' if x > 0 else 'lose')"
   ]
  },
  {
   "cell_type": "code",
   "execution_count": 14,
   "metadata": {},
   "outputs": [
    {
     "output_type": "stream",
     "name": "stdout",
     "text": [
      "time: 864 ms\nIn [14] used 8.2891 MiB RAM in 0.97s, peaked 58.68 MiB above current, total RAM usage 343.96 MiB\n"
     ]
    }
   ],
   "source": [
    "df['uniqueid'] = df[['handid', 'name']].astype(str).apply('-'.join,1)\n"
   ]
  },
  {
   "cell_type": "code",
   "execution_count": null,
   "metadata": {},
   "outputs": [],
   "source": []
  },
  {
   "cell_type": "code",
   "execution_count": 15,
   "metadata": {},
   "outputs": [
    {
     "output_type": "execute_result",
     "data": {
      "text/plain": [
       "            name    1    2    3    4    5    6  score   handid   picker  ...  \\\n",
       "0         jturba   8H  12C  14H  13D   9C  13C      2  2256000   picker  ...   \n",
       "1     Jungle jim   9S   8D  13H  11C  12S   9H     -1  2256000       no  ...   \n",
       "2         jcardo  14S   7D   7H  10C  13S   8C     -1  2256000       no  ...   \n",
       "3       robyinko  11D  12H  11S   9D  11H  12D      1  2256000  partner  ...   \n",
       "4        shipdog   7S  10D  10H  14D  14C   7C     -1  2256000       no  ...   \n",
       "..           ...  ...  ...  ...  ...  ...  ...    ...      ...      ...  ...   \n",
       "0        rboegel   8D  14S  14D   7C  11C   8H     -2  2304498       no  ...   \n",
       "1        gmabear  12H   9S  11D   9C   7H   9H      2  2304498  partner  ...   \n",
       "2      bighuhnit  12C  13S  12D  14C   8C   8S     -2  2304498       no  ...   \n",
       "3   Barbara Dorn   7D  13D  12S  13C  10C  10D      4  2304498   picker  ...   \n",
       "4         jturba   9D   7S  11H  13H  11S  14H     -2  2304498       no  ...   \n",
       "\n",
       "   ace_suit  leaster                          cards  \\\n",
       "0                      [8H, 12C, 14H, 13D, 9C, 13C]   \n",
       "1                       [9S, 8D, 13H, 11C, 12S, 9H]   \n",
       "2                       [14S, 7D, 7H, 10C, 13S, 8C]   \n",
       "3                     [11D, 12H, 11S, 9D, 11H, 12D]   \n",
       "4                      [7S, 10D, 10H, 14D, 14C, 7C]   \n",
       "..      ...      ...                            ...   \n",
       "0                       [8D, 14S, 14D, 7C, 11C, 8H]   \n",
       "1                        [12H, 9S, 11D, 9C, 7H, 9H]   \n",
       "2                      [12C, 13S, 12D, 14C, 8C, 8S]   \n",
       "3                     [7D, 13D, 12S, 13C, 10C, 10D]   \n",
       "4                      [9D, 7S, 11H, 13H, 11S, 14H]   \n",
       "\n",
       "                            trump  trumpcount                     fail  \\\n",
       "0                      [12C, 13D]           2       [8H, 14H, 9C, 13C]   \n",
       "1                  [8D, 11C, 12S]           3            [9S, 13H, 9H]   \n",
       "2                            [7D]           1  [14S, 7H, 10C, 13S, 8C]   \n",
       "3   [11D, 12H, 11S, 9D, 11H, 12D]           6                       []   \n",
       "4                      [10D, 14D]           2       [7S, 10H, 14C, 7C]   \n",
       "..                            ...         ...                      ...   \n",
       "0                  [8D, 14D, 11C]           3            [14S, 7C, 8H]   \n",
       "1                      [12H, 11D]           2         [9S, 9C, 7H, 9H]   \n",
       "2                      [12C, 12D]           2       [13S, 14C, 8C, 8S]   \n",
       "3             [7D, 13D, 12S, 10D]           4               [13C, 10C]   \n",
       "4                  [9D, 11H, 11S]           3           [7S, 13H, 14H]   \n",
       "\n",
       "    failcount  heldpoints  outcome              uniqueid  \n",
       "0           4          22      win        2256000-jturba  \n",
       "1           3           9     lose    2256000-Jungle jim  \n",
       "2           5          25     lose        2256000-jcardo  \n",
       "3           0          12      win      2256000-robyinko  \n",
       "4           4          42     lose       2256000-shipdog  \n",
       "..        ...         ...      ...                   ...  \n",
       "0           3          24     lose       2304498-rboegel  \n",
       "1           4           5      win       2304498-gmabear  \n",
       "2           4          21     lose     2304498-bighuhnit  \n",
       "3           2          31      win  2304498-Barbara Dorn  \n",
       "4           3          19     lose        2304498-jturba  \n",
       "\n",
       "[155760 rows x 40 columns]"
      ],
      "text/html": "<div>\n<style scoped>\n    .dataframe tbody tr th:only-of-type {\n        vertical-align: middle;\n    }\n\n    .dataframe tbody tr th {\n        vertical-align: top;\n    }\n\n    .dataframe thead th {\n        text-align: right;\n    }\n</style>\n<table border=\"1\" class=\"dataframe\">\n  <thead>\n    <tr style=\"text-align: right;\">\n      <th></th>\n      <th>name</th>\n      <th>1</th>\n      <th>2</th>\n      <th>3</th>\n      <th>4</th>\n      <th>5</th>\n      <th>6</th>\n      <th>score</th>\n      <th>handid</th>\n      <th>picker</th>\n      <th>...</th>\n      <th>ace_suit</th>\n      <th>leaster</th>\n      <th>cards</th>\n      <th>trump</th>\n      <th>trumpcount</th>\n      <th>fail</th>\n      <th>failcount</th>\n      <th>heldpoints</th>\n      <th>outcome</th>\n      <th>uniqueid</th>\n    </tr>\n  </thead>\n  <tbody>\n    <tr>\n      <th>0</th>\n      <td>jturba</td>\n      <td>8H</td>\n      <td>12C</td>\n      <td>14H</td>\n      <td>13D</td>\n      <td>9C</td>\n      <td>13C</td>\n      <td>2</td>\n      <td>2256000</td>\n      <td>picker</td>\n      <td>...</td>\n      <td></td>\n      <td></td>\n      <td>[8H, 12C, 14H, 13D, 9C, 13C]</td>\n      <td>[12C, 13D]</td>\n      <td>2</td>\n      <td>[8H, 14H, 9C, 13C]</td>\n      <td>4</td>\n      <td>22</td>\n      <td>win</td>\n      <td>2256000-jturba</td>\n    </tr>\n    <tr>\n      <th>1</th>\n      <td>Jungle jim</td>\n      <td>9S</td>\n      <td>8D</td>\n      <td>13H</td>\n      <td>11C</td>\n      <td>12S</td>\n      <td>9H</td>\n      <td>-1</td>\n      <td>2256000</td>\n      <td>no</td>\n      <td>...</td>\n      <td></td>\n      <td></td>\n      <td>[9S, 8D, 13H, 11C, 12S, 9H]</td>\n      <td>[8D, 11C, 12S]</td>\n      <td>3</td>\n      <td>[9S, 13H, 9H]</td>\n      <td>3</td>\n      <td>9</td>\n      <td>lose</td>\n      <td>2256000-Jungle jim</td>\n    </tr>\n    <tr>\n      <th>2</th>\n      <td>jcardo</td>\n      <td>14S</td>\n      <td>7D</td>\n      <td>7H</td>\n      <td>10C</td>\n      <td>13S</td>\n      <td>8C</td>\n      <td>-1</td>\n      <td>2256000</td>\n      <td>no</td>\n      <td>...</td>\n      <td></td>\n      <td></td>\n      <td>[14S, 7D, 7H, 10C, 13S, 8C]</td>\n      <td>[7D]</td>\n      <td>1</td>\n      <td>[14S, 7H, 10C, 13S, 8C]</td>\n      <td>5</td>\n      <td>25</td>\n      <td>lose</td>\n      <td>2256000-jcardo</td>\n    </tr>\n    <tr>\n      <th>3</th>\n      <td>robyinko</td>\n      <td>11D</td>\n      <td>12H</td>\n      <td>11S</td>\n      <td>9D</td>\n      <td>11H</td>\n      <td>12D</td>\n      <td>1</td>\n      <td>2256000</td>\n      <td>partner</td>\n      <td>...</td>\n      <td></td>\n      <td></td>\n      <td>[11D, 12H, 11S, 9D, 11H, 12D]</td>\n      <td>[11D, 12H, 11S, 9D, 11H, 12D]</td>\n      <td>6</td>\n      <td>[]</td>\n      <td>0</td>\n      <td>12</td>\n      <td>win</td>\n      <td>2256000-robyinko</td>\n    </tr>\n    <tr>\n      <th>4</th>\n      <td>shipdog</td>\n      <td>7S</td>\n      <td>10D</td>\n      <td>10H</td>\n      <td>14D</td>\n      <td>14C</td>\n      <td>7C</td>\n      <td>-1</td>\n      <td>2256000</td>\n      <td>no</td>\n      <td>...</td>\n      <td></td>\n      <td></td>\n      <td>[7S, 10D, 10H, 14D, 14C, 7C]</td>\n      <td>[10D, 14D]</td>\n      <td>2</td>\n      <td>[7S, 10H, 14C, 7C]</td>\n      <td>4</td>\n      <td>42</td>\n      <td>lose</td>\n      <td>2256000-shipdog</td>\n    </tr>\n    <tr>\n      <th>...</th>\n      <td>...</td>\n      <td>...</td>\n      <td>...</td>\n      <td>...</td>\n      <td>...</td>\n      <td>...</td>\n      <td>...</td>\n      <td>...</td>\n      <td>...</td>\n      <td>...</td>\n      <td>...</td>\n      <td>...</td>\n      <td>...</td>\n      <td>...</td>\n      <td>...</td>\n      <td>...</td>\n      <td>...</td>\n      <td>...</td>\n      <td>...</td>\n      <td>...</td>\n      <td>...</td>\n    </tr>\n    <tr>\n      <th>0</th>\n      <td>rboegel</td>\n      <td>8D</td>\n      <td>14S</td>\n      <td>14D</td>\n      <td>7C</td>\n      <td>11C</td>\n      <td>8H</td>\n      <td>-2</td>\n      <td>2304498</td>\n      <td>no</td>\n      <td>...</td>\n      <td></td>\n      <td></td>\n      <td>[8D, 14S, 14D, 7C, 11C, 8H]</td>\n      <td>[8D, 14D, 11C]</td>\n      <td>3</td>\n      <td>[14S, 7C, 8H]</td>\n      <td>3</td>\n      <td>24</td>\n      <td>lose</td>\n      <td>2304498-rboegel</td>\n    </tr>\n    <tr>\n      <th>1</th>\n      <td>gmabear</td>\n      <td>12H</td>\n      <td>9S</td>\n      <td>11D</td>\n      <td>9C</td>\n      <td>7H</td>\n      <td>9H</td>\n      <td>2</td>\n      <td>2304498</td>\n      <td>partner</td>\n      <td>...</td>\n      <td></td>\n      <td></td>\n      <td>[12H, 9S, 11D, 9C, 7H, 9H]</td>\n      <td>[12H, 11D]</td>\n      <td>2</td>\n      <td>[9S, 9C, 7H, 9H]</td>\n      <td>4</td>\n      <td>5</td>\n      <td>win</td>\n      <td>2304498-gmabear</td>\n    </tr>\n    <tr>\n      <th>2</th>\n      <td>bighuhnit</td>\n      <td>12C</td>\n      <td>13S</td>\n      <td>12D</td>\n      <td>14C</td>\n      <td>8C</td>\n      <td>8S</td>\n      <td>-2</td>\n      <td>2304498</td>\n      <td>no</td>\n      <td>...</td>\n      <td></td>\n      <td></td>\n      <td>[12C, 13S, 12D, 14C, 8C, 8S]</td>\n      <td>[12C, 12D]</td>\n      <td>2</td>\n      <td>[13S, 14C, 8C, 8S]</td>\n      <td>4</td>\n      <td>21</td>\n      <td>lose</td>\n      <td>2304498-bighuhnit</td>\n    </tr>\n    <tr>\n      <th>3</th>\n      <td>Barbara Dorn</td>\n      <td>7D</td>\n      <td>13D</td>\n      <td>12S</td>\n      <td>13C</td>\n      <td>10C</td>\n      <td>10D</td>\n      <td>4</td>\n      <td>2304498</td>\n      <td>picker</td>\n      <td>...</td>\n      <td></td>\n      <td></td>\n      <td>[7D, 13D, 12S, 13C, 10C, 10D]</td>\n      <td>[7D, 13D, 12S, 10D]</td>\n      <td>4</td>\n      <td>[13C, 10C]</td>\n      <td>2</td>\n      <td>31</td>\n      <td>win</td>\n      <td>2304498-Barbara Dorn</td>\n    </tr>\n    <tr>\n      <th>4</th>\n      <td>jturba</td>\n      <td>9D</td>\n      <td>7S</td>\n      <td>11H</td>\n      <td>13H</td>\n      <td>11S</td>\n      <td>14H</td>\n      <td>-2</td>\n      <td>2304498</td>\n      <td>no</td>\n      <td>...</td>\n      <td></td>\n      <td></td>\n      <td>[9D, 7S, 11H, 13H, 11S, 14H]</td>\n      <td>[9D, 11H, 11S]</td>\n      <td>3</td>\n      <td>[7S, 13H, 14H]</td>\n      <td>3</td>\n      <td>19</td>\n      <td>lose</td>\n      <td>2304498-jturba</td>\n    </tr>\n  </tbody>\n</table>\n<p>155760 rows × 40 columns</p>\n</div>"
     },
     "metadata": {},
     "execution_count": 15
    },
    {
     "output_type": "stream",
     "name": "stdout",
     "text": [
      "time: 298 ms\nIn [15] used 41.5938 MiB RAM in 0.40s, peaked 0.00 MiB above current, total RAM usage 385.56 MiB\n"
     ]
    }
   ],
   "source": [
    "df"
   ]
  },
  {
   "cell_type": "code",
   "execution_count": 16,
   "metadata": {},
   "outputs": [
    {
     "output_type": "execute_result",
     "data": {
      "text/plain": [
       "Index([         'name',               1,               2,               3,\n",
       "                     4,               5,               6,         'score',\n",
       "              'handid',        'picker',         'alone',      'position',\n",
       "               'lead0',         'lead1',         'lead2',         'lead3',\n",
       "               'lead4',         'lead5', 'pick_position',        'rd0pos',\n",
       "              'rd1pos',        'rd2pos',        'rd3pos',        'rd4pos',\n",
       "              'rd5pos',       'blind_1',       'blind_2',         'bury1',\n",
       "               'bury2',      'call_ace',      'ace_suit',       'leaster',\n",
       "               'cards',         'trump',    'trumpcount',          'fail',\n",
       "           'failcount',    'heldpoints',       'outcome',      'uniqueid'],\n",
       "      dtype='object')"
      ]
     },
     "metadata": {},
     "execution_count": 16
    },
    {
     "output_type": "stream",
     "name": "stdout",
     "text": [
      "time: 3.5 ms\n",
      "In [16] used 0.0273 MiB RAM in 0.11s, peaked 0.00 MiB above current, total RAM usage 385.59 MiB\n"
     ]
    }
   ],
   "source": [
    "df.columns"
   ]
  },
  {
   "cell_type": "code",
   "execution_count": 17,
   "metadata": {},
   "outputs": [
    {
     "output_type": "execute_result",
     "data": {
      "text/plain": [
       "            name    1    2    3    4    5    6  score   handid   picker  ...  \\\n",
       "0         jturba   8H  12C  14H  13D   9C  13C      2  2256000   picker  ...   \n",
       "1     Jungle jim   9S   8D  13H  11C  12S   9H     -1  2256000       no  ...   \n",
       "2         jcardo  14S   7D   7H  10C  13S   8C     -1  2256000       no  ...   \n",
       "3       robyinko  11D  12H  11S   9D  11H  12D      1  2256000  partner  ...   \n",
       "4        shipdog   7S  10D  10H  14D  14C   7C     -1  2256000       no  ...   \n",
       "..           ...  ...  ...  ...  ...  ...  ...    ...      ...      ...  ...   \n",
       "0        rboegel   8D  14S  14D   7C  11C   8H     -2  2304498       no  ...   \n",
       "1        gmabear  12H   9S  11D   9C   7H   9H      2  2304498  partner  ...   \n",
       "2      bighuhnit  12C  13S  12D  14C   8C   8S     -2  2304498       no  ...   \n",
       "3   Barbara Dorn   7D  13D  12S  13C  10C  10D      4  2304498   picker  ...   \n",
       "4         jturba   9D   7S  11H  13H  11S  14H     -2  2304498       no  ...   \n",
       "\n",
       "   ace_suit  leaster                          cards  \\\n",
       "0                      [8H, 12C, 14H, 13D, 9C, 13C]   \n",
       "1                       [9S, 8D, 13H, 11C, 12S, 9H]   \n",
       "2                       [14S, 7D, 7H, 10C, 13S, 8C]   \n",
       "3                     [11D, 12H, 11S, 9D, 11H, 12D]   \n",
       "4                      [7S, 10D, 10H, 14D, 14C, 7C]   \n",
       "..      ...      ...                            ...   \n",
       "0                       [8D, 14S, 14D, 7C, 11C, 8H]   \n",
       "1                        [12H, 9S, 11D, 9C, 7H, 9H]   \n",
       "2                      [12C, 13S, 12D, 14C, 8C, 8S]   \n",
       "3                     [7D, 13D, 12S, 13C, 10C, 10D]   \n",
       "4                      [9D, 7S, 11H, 13H, 11S, 14H]   \n",
       "\n",
       "                            trump  trumpcount                     fail  \\\n",
       "0                      [12C, 13D]           2       [8H, 14H, 9C, 13C]   \n",
       "1                  [8D, 11C, 12S]           3            [9S, 13H, 9H]   \n",
       "2                            [7D]           1  [14S, 7H, 10C, 13S, 8C]   \n",
       "3   [11D, 12H, 11S, 9D, 11H, 12D]           6                       []   \n",
       "4                      [10D, 14D]           2       [7S, 10H, 14C, 7C]   \n",
       "..                            ...         ...                      ...   \n",
       "0                  [8D, 14D, 11C]           3            [14S, 7C, 8H]   \n",
       "1                      [12H, 11D]           2         [9S, 9C, 7H, 9H]   \n",
       "2                      [12C, 12D]           2       [13S, 14C, 8C, 8S]   \n",
       "3             [7D, 13D, 12S, 10D]           4               [13C, 10C]   \n",
       "4                  [9D, 11H, 11S]           3           [7S, 13H, 14H]   \n",
       "\n",
       "    failcount  heldpoints  outcome              uniqueid  \n",
       "0           4          22      win        2256000-jturba  \n",
       "1           3           9     lose    2256000-Jungle jim  \n",
       "2           5          25     lose        2256000-jcardo  \n",
       "3           0          12      win      2256000-robyinko  \n",
       "4           4          42     lose       2256000-shipdog  \n",
       "..        ...         ...      ...                   ...  \n",
       "0           3          24     lose       2304498-rboegel  \n",
       "1           4           5      win       2304498-gmabear  \n",
       "2           4          21     lose     2304498-bighuhnit  \n",
       "3           2          31      win  2304498-Barbara Dorn  \n",
       "4           3          19     lose        2304498-jturba  \n",
       "\n",
       "[155760 rows x 40 columns]"
      ],
      "text/html": "<div>\n<style scoped>\n    .dataframe tbody tr th:only-of-type {\n        vertical-align: middle;\n    }\n\n    .dataframe tbody tr th {\n        vertical-align: top;\n    }\n\n    .dataframe thead th {\n        text-align: right;\n    }\n</style>\n<table border=\"1\" class=\"dataframe\">\n  <thead>\n    <tr style=\"text-align: right;\">\n      <th></th>\n      <th>name</th>\n      <th>1</th>\n      <th>2</th>\n      <th>3</th>\n      <th>4</th>\n      <th>5</th>\n      <th>6</th>\n      <th>score</th>\n      <th>handid</th>\n      <th>picker</th>\n      <th>...</th>\n      <th>ace_suit</th>\n      <th>leaster</th>\n      <th>cards</th>\n      <th>trump</th>\n      <th>trumpcount</th>\n      <th>fail</th>\n      <th>failcount</th>\n      <th>heldpoints</th>\n      <th>outcome</th>\n      <th>uniqueid</th>\n    </tr>\n  </thead>\n  <tbody>\n    <tr>\n      <th>0</th>\n      <td>jturba</td>\n      <td>8H</td>\n      <td>12C</td>\n      <td>14H</td>\n      <td>13D</td>\n      <td>9C</td>\n      <td>13C</td>\n      <td>2</td>\n      <td>2256000</td>\n      <td>picker</td>\n      <td>...</td>\n      <td></td>\n      <td></td>\n      <td>[8H, 12C, 14H, 13D, 9C, 13C]</td>\n      <td>[12C, 13D]</td>\n      <td>2</td>\n      <td>[8H, 14H, 9C, 13C]</td>\n      <td>4</td>\n      <td>22</td>\n      <td>win</td>\n      <td>2256000-jturba</td>\n    </tr>\n    <tr>\n      <th>1</th>\n      <td>Jungle jim</td>\n      <td>9S</td>\n      <td>8D</td>\n      <td>13H</td>\n      <td>11C</td>\n      <td>12S</td>\n      <td>9H</td>\n      <td>-1</td>\n      <td>2256000</td>\n      <td>no</td>\n      <td>...</td>\n      <td></td>\n      <td></td>\n      <td>[9S, 8D, 13H, 11C, 12S, 9H]</td>\n      <td>[8D, 11C, 12S]</td>\n      <td>3</td>\n      <td>[9S, 13H, 9H]</td>\n      <td>3</td>\n      <td>9</td>\n      <td>lose</td>\n      <td>2256000-Jungle jim</td>\n    </tr>\n    <tr>\n      <th>2</th>\n      <td>jcardo</td>\n      <td>14S</td>\n      <td>7D</td>\n      <td>7H</td>\n      <td>10C</td>\n      <td>13S</td>\n      <td>8C</td>\n      <td>-1</td>\n      <td>2256000</td>\n      <td>no</td>\n      <td>...</td>\n      <td></td>\n      <td></td>\n      <td>[14S, 7D, 7H, 10C, 13S, 8C]</td>\n      <td>[7D]</td>\n      <td>1</td>\n      <td>[14S, 7H, 10C, 13S, 8C]</td>\n      <td>5</td>\n      <td>25</td>\n      <td>lose</td>\n      <td>2256000-jcardo</td>\n    </tr>\n    <tr>\n      <th>3</th>\n      <td>robyinko</td>\n      <td>11D</td>\n      <td>12H</td>\n      <td>11S</td>\n      <td>9D</td>\n      <td>11H</td>\n      <td>12D</td>\n      <td>1</td>\n      <td>2256000</td>\n      <td>partner</td>\n      <td>...</td>\n      <td></td>\n      <td></td>\n      <td>[11D, 12H, 11S, 9D, 11H, 12D]</td>\n      <td>[11D, 12H, 11S, 9D, 11H, 12D]</td>\n      <td>6</td>\n      <td>[]</td>\n      <td>0</td>\n      <td>12</td>\n      <td>win</td>\n      <td>2256000-robyinko</td>\n    </tr>\n    <tr>\n      <th>4</th>\n      <td>shipdog</td>\n      <td>7S</td>\n      <td>10D</td>\n      <td>10H</td>\n      <td>14D</td>\n      <td>14C</td>\n      <td>7C</td>\n      <td>-1</td>\n      <td>2256000</td>\n      <td>no</td>\n      <td>...</td>\n      <td></td>\n      <td></td>\n      <td>[7S, 10D, 10H, 14D, 14C, 7C]</td>\n      <td>[10D, 14D]</td>\n      <td>2</td>\n      <td>[7S, 10H, 14C, 7C]</td>\n      <td>4</td>\n      <td>42</td>\n      <td>lose</td>\n      <td>2256000-shipdog</td>\n    </tr>\n    <tr>\n      <th>...</th>\n      <td>...</td>\n      <td>...</td>\n      <td>...</td>\n      <td>...</td>\n      <td>...</td>\n      <td>...</td>\n      <td>...</td>\n      <td>...</td>\n      <td>...</td>\n      <td>...</td>\n      <td>...</td>\n      <td>...</td>\n      <td>...</td>\n      <td>...</td>\n      <td>...</td>\n      <td>...</td>\n      <td>...</td>\n      <td>...</td>\n      <td>...</td>\n      <td>...</td>\n      <td>...</td>\n    </tr>\n    <tr>\n      <th>0</th>\n      <td>rboegel</td>\n      <td>8D</td>\n      <td>14S</td>\n      <td>14D</td>\n      <td>7C</td>\n      <td>11C</td>\n      <td>8H</td>\n      <td>-2</td>\n      <td>2304498</td>\n      <td>no</td>\n      <td>...</td>\n      <td></td>\n      <td></td>\n      <td>[8D, 14S, 14D, 7C, 11C, 8H]</td>\n      <td>[8D, 14D, 11C]</td>\n      <td>3</td>\n      <td>[14S, 7C, 8H]</td>\n      <td>3</td>\n      <td>24</td>\n      <td>lose</td>\n      <td>2304498-rboegel</td>\n    </tr>\n    <tr>\n      <th>1</th>\n      <td>gmabear</td>\n      <td>12H</td>\n      <td>9S</td>\n      <td>11D</td>\n      <td>9C</td>\n      <td>7H</td>\n      <td>9H</td>\n      <td>2</td>\n      <td>2304498</td>\n      <td>partner</td>\n      <td>...</td>\n      <td></td>\n      <td></td>\n      <td>[12H, 9S, 11D, 9C, 7H, 9H]</td>\n      <td>[12H, 11D]</td>\n      <td>2</td>\n      <td>[9S, 9C, 7H, 9H]</td>\n      <td>4</td>\n      <td>5</td>\n      <td>win</td>\n      <td>2304498-gmabear</td>\n    </tr>\n    <tr>\n      <th>2</th>\n      <td>bighuhnit</td>\n      <td>12C</td>\n      <td>13S</td>\n      <td>12D</td>\n      <td>14C</td>\n      <td>8C</td>\n      <td>8S</td>\n      <td>-2</td>\n      <td>2304498</td>\n      <td>no</td>\n      <td>...</td>\n      <td></td>\n      <td></td>\n      <td>[12C, 13S, 12D, 14C, 8C, 8S]</td>\n      <td>[12C, 12D]</td>\n      <td>2</td>\n      <td>[13S, 14C, 8C, 8S]</td>\n      <td>4</td>\n      <td>21</td>\n      <td>lose</td>\n      <td>2304498-bighuhnit</td>\n    </tr>\n    <tr>\n      <th>3</th>\n      <td>Barbara Dorn</td>\n      <td>7D</td>\n      <td>13D</td>\n      <td>12S</td>\n      <td>13C</td>\n      <td>10C</td>\n      <td>10D</td>\n      <td>4</td>\n      <td>2304498</td>\n      <td>picker</td>\n      <td>...</td>\n      <td></td>\n      <td></td>\n      <td>[7D, 13D, 12S, 13C, 10C, 10D]</td>\n      <td>[7D, 13D, 12S, 10D]</td>\n      <td>4</td>\n      <td>[13C, 10C]</td>\n      <td>2</td>\n      <td>31</td>\n      <td>win</td>\n      <td>2304498-Barbara Dorn</td>\n    </tr>\n    <tr>\n      <th>4</th>\n      <td>jturba</td>\n      <td>9D</td>\n      <td>7S</td>\n      <td>11H</td>\n      <td>13H</td>\n      <td>11S</td>\n      <td>14H</td>\n      <td>-2</td>\n      <td>2304498</td>\n      <td>no</td>\n      <td>...</td>\n      <td></td>\n      <td></td>\n      <td>[9D, 7S, 11H, 13H, 11S, 14H]</td>\n      <td>[9D, 11H, 11S]</td>\n      <td>3</td>\n      <td>[7S, 13H, 14H]</td>\n      <td>3</td>\n      <td>19</td>\n      <td>lose</td>\n      <td>2304498-jturba</td>\n    </tr>\n  </tbody>\n</table>\n<p>155760 rows × 40 columns</p>\n</div>"
     },
     "metadata": {},
     "execution_count": 17
    },
    {
     "output_type": "stream",
     "name": "stdout",
     "text": [
      "time: 164 ms\n",
      "In [17] used 0.1758 MiB RAM in 0.27s, peaked 0.00 MiB above current, total RAM usage 385.76 MiB\n"
     ]
    }
   ],
   "source": [
    "df"
   ]
  },
  {
   "cell_type": "code",
   "execution_count": 18,
   "metadata": {},
   "outputs": [
    {
     "output_type": "stream",
     "name": "stdout",
     "text": [
      "time: 18.2 ms\n",
      "In [18] used 10.7227 MiB RAM in 0.12s, peaked 0.00 MiB above current, total RAM usage 396.48 MiB\n"
     ]
    }
   ],
   "source": [
    "dfa = df[['uniqueid', 1, 2, 3, 4, 5, 6, 'score', 'picker', 'pick_position', 'trumpcount', 'heldpoints', 'outcome']]"
   ]
  },
  {
   "cell_type": "code",
   "execution_count": 19,
   "metadata": {},
   "outputs": [
    {
     "output_type": "execute_result",
     "data": {
      "text/plain": [
       "                uniqueid    1    2    3    4    5    6  score   picker  \\\n",
       "0         2256000-jturba   8H  12C  14H  13D   9C  13C      2   picker   \n",
       "1     2256000-Jungle jim   9S   8D  13H  11C  12S   9H     -1       no   \n",
       "2         2256000-jcardo  14S   7D   7H  10C  13S   8C     -1       no   \n",
       "3       2256000-robyinko  11D  12H  11S   9D  11H  12D      1  partner   \n",
       "4        2256000-shipdog   7S  10D  10H  14D  14C   7C     -1       no   \n",
       "..                   ...  ...  ...  ...  ...  ...  ...    ...      ...   \n",
       "0        2304498-rboegel   8D  14S  14D   7C  11C   8H     -2       no   \n",
       "1        2304498-gmabear  12H   9S  11D   9C   7H   9H      2  partner   \n",
       "2      2304498-bighuhnit  12C  13S  12D  14C   8C   8S     -2       no   \n",
       "3   2304498-Barbara Dorn   7D  13D  12S  13C  10C  10D      4   picker   \n",
       "4         2304498-jturba   9D   7S  11H  13H  11S  14H     -2       no   \n",
       "\n",
       "    pick_position  trumpcount  heldpoints outcome  \n",
       "0               1           2          22     win  \n",
       "1               2           3           9    lose  \n",
       "2               3           1          25    lose  \n",
       "3               4           6          12     win  \n",
       "4               0           2          42    lose  \n",
       "..            ...         ...         ...     ...  \n",
       "0               0           3          24    lose  \n",
       "1               0           2           5     win  \n",
       "2               1           2          21    lose  \n",
       "3               2           4          31     win  \n",
       "4               3           3          19    lose  \n",
       "\n",
       "[155760 rows x 13 columns]"
      ],
      "text/html": "<div>\n<style scoped>\n    .dataframe tbody tr th:only-of-type {\n        vertical-align: middle;\n    }\n\n    .dataframe tbody tr th {\n        vertical-align: top;\n    }\n\n    .dataframe thead th {\n        text-align: right;\n    }\n</style>\n<table border=\"1\" class=\"dataframe\">\n  <thead>\n    <tr style=\"text-align: right;\">\n      <th></th>\n      <th>uniqueid</th>\n      <th>1</th>\n      <th>2</th>\n      <th>3</th>\n      <th>4</th>\n      <th>5</th>\n      <th>6</th>\n      <th>score</th>\n      <th>picker</th>\n      <th>pick_position</th>\n      <th>trumpcount</th>\n      <th>heldpoints</th>\n      <th>outcome</th>\n    </tr>\n  </thead>\n  <tbody>\n    <tr>\n      <th>0</th>\n      <td>2256000-jturba</td>\n      <td>8H</td>\n      <td>12C</td>\n      <td>14H</td>\n      <td>13D</td>\n      <td>9C</td>\n      <td>13C</td>\n      <td>2</td>\n      <td>picker</td>\n      <td>1</td>\n      <td>2</td>\n      <td>22</td>\n      <td>win</td>\n    </tr>\n    <tr>\n      <th>1</th>\n      <td>2256000-Jungle jim</td>\n      <td>9S</td>\n      <td>8D</td>\n      <td>13H</td>\n      <td>11C</td>\n      <td>12S</td>\n      <td>9H</td>\n      <td>-1</td>\n      <td>no</td>\n      <td>2</td>\n      <td>3</td>\n      <td>9</td>\n      <td>lose</td>\n    </tr>\n    <tr>\n      <th>2</th>\n      <td>2256000-jcardo</td>\n      <td>14S</td>\n      <td>7D</td>\n      <td>7H</td>\n      <td>10C</td>\n      <td>13S</td>\n      <td>8C</td>\n      <td>-1</td>\n      <td>no</td>\n      <td>3</td>\n      <td>1</td>\n      <td>25</td>\n      <td>lose</td>\n    </tr>\n    <tr>\n      <th>3</th>\n      <td>2256000-robyinko</td>\n      <td>11D</td>\n      <td>12H</td>\n      <td>11S</td>\n      <td>9D</td>\n      <td>11H</td>\n      <td>12D</td>\n      <td>1</td>\n      <td>partner</td>\n      <td>4</td>\n      <td>6</td>\n      <td>12</td>\n      <td>win</td>\n    </tr>\n    <tr>\n      <th>4</th>\n      <td>2256000-shipdog</td>\n      <td>7S</td>\n      <td>10D</td>\n      <td>10H</td>\n      <td>14D</td>\n      <td>14C</td>\n      <td>7C</td>\n      <td>-1</td>\n      <td>no</td>\n      <td>0</td>\n      <td>2</td>\n      <td>42</td>\n      <td>lose</td>\n    </tr>\n    <tr>\n      <th>...</th>\n      <td>...</td>\n      <td>...</td>\n      <td>...</td>\n      <td>...</td>\n      <td>...</td>\n      <td>...</td>\n      <td>...</td>\n      <td>...</td>\n      <td>...</td>\n      <td>...</td>\n      <td>...</td>\n      <td>...</td>\n      <td>...</td>\n    </tr>\n    <tr>\n      <th>0</th>\n      <td>2304498-rboegel</td>\n      <td>8D</td>\n      <td>14S</td>\n      <td>14D</td>\n      <td>7C</td>\n      <td>11C</td>\n      <td>8H</td>\n      <td>-2</td>\n      <td>no</td>\n      <td>0</td>\n      <td>3</td>\n      <td>24</td>\n      <td>lose</td>\n    </tr>\n    <tr>\n      <th>1</th>\n      <td>2304498-gmabear</td>\n      <td>12H</td>\n      <td>9S</td>\n      <td>11D</td>\n      <td>9C</td>\n      <td>7H</td>\n      <td>9H</td>\n      <td>2</td>\n      <td>partner</td>\n      <td>0</td>\n      <td>2</td>\n      <td>5</td>\n      <td>win</td>\n    </tr>\n    <tr>\n      <th>2</th>\n      <td>2304498-bighuhnit</td>\n      <td>12C</td>\n      <td>13S</td>\n      <td>12D</td>\n      <td>14C</td>\n      <td>8C</td>\n      <td>8S</td>\n      <td>-2</td>\n      <td>no</td>\n      <td>1</td>\n      <td>2</td>\n      <td>21</td>\n      <td>lose</td>\n    </tr>\n    <tr>\n      <th>3</th>\n      <td>2304498-Barbara Dorn</td>\n      <td>7D</td>\n      <td>13D</td>\n      <td>12S</td>\n      <td>13C</td>\n      <td>10C</td>\n      <td>10D</td>\n      <td>4</td>\n      <td>picker</td>\n      <td>2</td>\n      <td>4</td>\n      <td>31</td>\n      <td>win</td>\n    </tr>\n    <tr>\n      <th>4</th>\n      <td>2304498-jturba</td>\n      <td>9D</td>\n      <td>7S</td>\n      <td>11H</td>\n      <td>13H</td>\n      <td>11S</td>\n      <td>14H</td>\n      <td>-2</td>\n      <td>no</td>\n      <td>3</td>\n      <td>3</td>\n      <td>19</td>\n      <td>lose</td>\n    </tr>\n  </tbody>\n</table>\n<p>155760 rows × 13 columns</p>\n</div>"
     },
     "metadata": {},
     "execution_count": 19
    },
    {
     "output_type": "stream",
     "name": "stdout",
     "text": [
      "time: 17.9 ms\n",
      "In [19] used 0.0391 MiB RAM in 0.12s, peaked 0.00 MiB above current, total RAM usage 396.52 MiB\n"
     ]
    }
   ],
   "source": [
    "dfa"
   ]
  },
  {
   "cell_type": "code",
   "execution_count": 20,
   "metadata": {},
   "outputs": [
    {
     "output_type": "execute_result",
     "data": {
      "text/plain": [
       "                 uniqueid    1    2    3    4    5    6  score  picker  \\\n",
       "0          2256000-jturba   8H  12C  14H  13D   9C  13C      2  picker   \n",
       "3       2256002-kibittzer   7D  12S   9D  12C  11H  13H     12  picker   \n",
       "3    2256004-Grandpaken78  12C   7D  14D  11S  13D  11H      6  picker   \n",
       "3   2256005-officials Jim  13D   7D  11H   7C  12D   8D      2  picker   \n",
       "0       2256006-tvretired  13D   8H  11D  12C  12S  10H     16  picker   \n",
       "..                    ...  ...  ...  ...  ...  ...  ...    ...     ...   \n",
       "0         2304491-rboegel   9D   7S  12H  12C   8D  14D      2  picker   \n",
       "4          2304492-Denman   8S  11C  13S   9D  12S  13D      2  picker   \n",
       "3      2304493-Kris Mazur   7H  10D  12C   7S  12H  13S      2  picker   \n",
       "4          2304496-Denman   7C   9D  12C  11H  11C  14C      2  picker   \n",
       "3    2304498-Barbara Dorn   7D  13D  12S  13C  10C  10D      4  picker   \n",
       "\n",
       "    pick_position  trumpcount  heldpoints outcome  \n",
       "0               1           2          22     win  \n",
       "3               4           5          12     win  \n",
       "3               0           6          22     win  \n",
       "3               2           5           9     win  \n",
       "0               2           4          22     win  \n",
       "..            ...         ...         ...     ...  \n",
       "0               0           5          17     win  \n",
       "4               2           4          13     win  \n",
       "3               1           3          20     win  \n",
       "4               1           4          18     win  \n",
       "3               2           4          31     win  \n",
       "\n",
       "[31152 rows x 13 columns]"
      ],
      "text/html": "<div>\n<style scoped>\n    .dataframe tbody tr th:only-of-type {\n        vertical-align: middle;\n    }\n\n    .dataframe tbody tr th {\n        vertical-align: top;\n    }\n\n    .dataframe thead th {\n        text-align: right;\n    }\n</style>\n<table border=\"1\" class=\"dataframe\">\n  <thead>\n    <tr style=\"text-align: right;\">\n      <th></th>\n      <th>uniqueid</th>\n      <th>1</th>\n      <th>2</th>\n      <th>3</th>\n      <th>4</th>\n      <th>5</th>\n      <th>6</th>\n      <th>score</th>\n      <th>picker</th>\n      <th>pick_position</th>\n      <th>trumpcount</th>\n      <th>heldpoints</th>\n      <th>outcome</th>\n    </tr>\n  </thead>\n  <tbody>\n    <tr>\n      <th>0</th>\n      <td>2256000-jturba</td>\n      <td>8H</td>\n      <td>12C</td>\n      <td>14H</td>\n      <td>13D</td>\n      <td>9C</td>\n      <td>13C</td>\n      <td>2</td>\n      <td>picker</td>\n      <td>1</td>\n      <td>2</td>\n      <td>22</td>\n      <td>win</td>\n    </tr>\n    <tr>\n      <th>3</th>\n      <td>2256002-kibittzer</td>\n      <td>7D</td>\n      <td>12S</td>\n      <td>9D</td>\n      <td>12C</td>\n      <td>11H</td>\n      <td>13H</td>\n      <td>12</td>\n      <td>picker</td>\n      <td>4</td>\n      <td>5</td>\n      <td>12</td>\n      <td>win</td>\n    </tr>\n    <tr>\n      <th>3</th>\n      <td>2256004-Grandpaken78</td>\n      <td>12C</td>\n      <td>7D</td>\n      <td>14D</td>\n      <td>11S</td>\n      <td>13D</td>\n      <td>11H</td>\n      <td>6</td>\n      <td>picker</td>\n      <td>0</td>\n      <td>6</td>\n      <td>22</td>\n      <td>win</td>\n    </tr>\n    <tr>\n      <th>3</th>\n      <td>2256005-officials Jim</td>\n      <td>13D</td>\n      <td>7D</td>\n      <td>11H</td>\n      <td>7C</td>\n      <td>12D</td>\n      <td>8D</td>\n      <td>2</td>\n      <td>picker</td>\n      <td>2</td>\n      <td>5</td>\n      <td>9</td>\n      <td>win</td>\n    </tr>\n    <tr>\n      <th>0</th>\n      <td>2256006-tvretired</td>\n      <td>13D</td>\n      <td>8H</td>\n      <td>11D</td>\n      <td>12C</td>\n      <td>12S</td>\n      <td>10H</td>\n      <td>16</td>\n      <td>picker</td>\n      <td>2</td>\n      <td>4</td>\n      <td>22</td>\n      <td>win</td>\n    </tr>\n    <tr>\n      <th>...</th>\n      <td>...</td>\n      <td>...</td>\n      <td>...</td>\n      <td>...</td>\n      <td>...</td>\n      <td>...</td>\n      <td>...</td>\n      <td>...</td>\n      <td>...</td>\n      <td>...</td>\n      <td>...</td>\n      <td>...</td>\n      <td>...</td>\n    </tr>\n    <tr>\n      <th>0</th>\n      <td>2304491-rboegel</td>\n      <td>9D</td>\n      <td>7S</td>\n      <td>12H</td>\n      <td>12C</td>\n      <td>8D</td>\n      <td>14D</td>\n      <td>2</td>\n      <td>picker</td>\n      <td>0</td>\n      <td>5</td>\n      <td>17</td>\n      <td>win</td>\n    </tr>\n    <tr>\n      <th>4</th>\n      <td>2304492-Denman</td>\n      <td>8S</td>\n      <td>11C</td>\n      <td>13S</td>\n      <td>9D</td>\n      <td>12S</td>\n      <td>13D</td>\n      <td>2</td>\n      <td>picker</td>\n      <td>2</td>\n      <td>4</td>\n      <td>13</td>\n      <td>win</td>\n    </tr>\n    <tr>\n      <th>3</th>\n      <td>2304493-Kris Mazur</td>\n      <td>7H</td>\n      <td>10D</td>\n      <td>12C</td>\n      <td>7S</td>\n      <td>12H</td>\n      <td>13S</td>\n      <td>2</td>\n      <td>picker</td>\n      <td>1</td>\n      <td>3</td>\n      <td>20</td>\n      <td>win</td>\n    </tr>\n    <tr>\n      <th>4</th>\n      <td>2304496-Denman</td>\n      <td>7C</td>\n      <td>9D</td>\n      <td>12C</td>\n      <td>11H</td>\n      <td>11C</td>\n      <td>14C</td>\n      <td>2</td>\n      <td>picker</td>\n      <td>1</td>\n      <td>4</td>\n      <td>18</td>\n      <td>win</td>\n    </tr>\n    <tr>\n      <th>3</th>\n      <td>2304498-Barbara Dorn</td>\n      <td>7D</td>\n      <td>13D</td>\n      <td>12S</td>\n      <td>13C</td>\n      <td>10C</td>\n      <td>10D</td>\n      <td>4</td>\n      <td>picker</td>\n      <td>2</td>\n      <td>4</td>\n      <td>31</td>\n      <td>win</td>\n    </tr>\n  </tbody>\n</table>\n<p>31152 rows × 13 columns</p>\n</div>"
     },
     "metadata": {},
     "execution_count": 20
    },
    {
     "output_type": "stream",
     "name": "stdout",
     "text": [
      "time: 31.5 ms\n",
      "In [20] used 0.0234 MiB RAM in 0.13s, peaked 0.00 MiB above current, total RAM usage 396.55 MiB\n"
     ]
    }
   ],
   "source": [
    "pickerhands = dfa['picker'] == 'picker'\n",
    "dfa[pickerhands]"
   ]
  },
  {
   "cell_type": "code",
   "execution_count": 21,
   "metadata": {},
   "outputs": [
    {
     "output_type": "stream",
     "name": "stdout",
     "text": [
      "time: 917 ms\nIn [21] used 31.1367 MiB RAM in 1.02s, peaked 14.34 MiB above current, total RAM usage 427.68 MiB\n"
     ]
    }
   ],
   "source": [
    "import pandas as pd\n",
    "import numpy as np\n",
    "import seaborn as sns\n",
    "from sklearn.neighbors import KNeighborsClassifier\n",
    "from sklearn.preprocessing import StandardScaler\n",
    "from sklearn.neighbors import KNeighborsRegressor\n",
    "from sklearn.model_selection import train_test_split, cross_val_score\n",
    "from sklearn.metrics import mean_squared_error, r2_score\n",
    "from sklearn.metrics import confusion_matrix\n",
    "from sklearn.metrics import precision_score, recall_score, precision_recall_curve,f1_score, fbeta_score\n",
    "from sklearn.linear_model import LogisticRegression\n",
    "from sklearn.metrics import roc_auc_score, roc_curve, classification_report, confusion_matrix\n",
    "import matplotlib.pyplot as plt\n",
    "from matplotlib.pyplot import figure\n",
    "%matplotlib inline\n",
    "from imblearn.over_sampling import SMOTE, ADASYN, RandomOverSampler\n",
    "from xgboost import XGBClassifier\n",
    "from sklearn.tree import DecisionTreeClassifier, ExtraTreeClassifier\n",
    "from sklearn.ensemble import RandomForestClassifier\n",
    "from sklearn.naive_bayes import GaussianNB, BernoulliNB, MultinomialNB\n",
    "\n",
    "from pipeline_modules import average_metrics_pipeline\n",
    "from pipeline_modules import classification_reports_pipeline\n",
    "from pipeline_modules import roc_curve_pipeline"
   ]
  },
  {
   "cell_type": "code",
   "execution_count": 22,
   "metadata": {},
   "outputs": [
    {
     "output_type": "stream",
     "name": "stdout",
     "text": [
      "time: 21.3 ms\n",
      "In [22] used 15.4844 MiB RAM in 0.13s, peaked 0.00 MiB above current, total RAM usage 443.17 MiB\n"
     ]
    }
   ],
   "source": [
    "df = dfa.copy()"
   ]
  },
  {
   "cell_type": "code",
   "execution_count": 23,
   "metadata": {},
   "outputs": [
    {
     "output_type": "stream",
     "name": "stdout",
     "text": [
      "time: 62.2 ms\n",
      "In [23] used 14.9414 MiB RAM in 0.17s, peaked 0.14 MiB above current, total RAM usage 458.11 MiB\n"
     ]
    }
   ],
   "source": [
    "df['outcome'] = df['outcome'].apply(lambda x: 1 if x == 'win' else 0)"
   ]
  },
  {
   "cell_type": "code",
   "execution_count": 24,
   "metadata": {},
   "outputs": [
    {
     "output_type": "stream",
     "name": "stdout",
     "text": [
      "time: 9.76 ms\n",
      "In [24] used 0.0039 MiB RAM in 0.11s, peaked 0.00 MiB above current, total RAM usage 458.11 MiB\n"
     ]
    }
   ],
   "source": [
    "pickerdf = (df['picker'] == 'picker')"
   ]
  },
  {
   "cell_type": "code",
   "execution_count": 25,
   "metadata": {},
   "outputs": [
    {
     "output_type": "stream",
     "name": "stdout",
     "text": [
      "time: 14 ms\n",
      "In [25] used 6.4141 MiB RAM in 0.12s, peaked 0.00 MiB above current, total RAM usage 464.53 MiB\n"
     ]
    }
   ],
   "source": [
    "dfm = df[pickerdf]"
   ]
  },
  {
   "cell_type": "code",
   "execution_count": 26,
   "metadata": {},
   "outputs": [
    {
     "output_type": "stream",
     "name": "stdout",
     "text": [
      "time: 9.35 ms\n",
      "In [26] used 1.6602 MiB RAM in 0.11s, peaked 0.00 MiB above current, total RAM usage 466.19 MiB\n"
     ]
    }
   ],
   "source": [
    "dfm.drop(['picker'], axis=1, inplace=True)"
   ]
  },
  {
   "cell_type": "code",
   "execution_count": 27,
   "metadata": {},
   "outputs": [
    {
     "output_type": "execute_result",
     "data": {
      "text/plain": [
       "Index([     'uniqueid',               1,               2,               3,\n",
       "                     4,               5,               6,         'score',\n",
       "       'pick_position',    'trumpcount',    'heldpoints',       'outcome'],\n",
       "      dtype='object')"
      ]
     },
     "metadata": {},
     "execution_count": 27
    },
    {
     "output_type": "stream",
     "name": "stdout",
     "text": [
      "time: 5.09 ms\n",
      "In [27] used 0.0078 MiB RAM in 0.11s, peaked 0.00 MiB above current, total RAM usage 466.20 MiB\n"
     ]
    }
   ],
   "source": [
    "dfm.columns"
   ]
  },
  {
   "cell_type": "code",
   "execution_count": 28,
   "metadata": {},
   "outputs": [
    {
     "output_type": "stream",
     "name": "stdout",
     "text": [
      "time: 6.19 ms\n",
      "In [28] used 0.9648 MiB RAM in 0.11s, peaked 0.00 MiB above current, total RAM usage 467.16 MiB\n"
     ]
    }
   ],
   "source": [
    "dfmx = dfm[['uniqueid',               1,               2,               3,\n",
    "                     4,               5,               6,         'score',\n",
    "       'pick_position',    'trumpcount',    'heldpoints']]"
   ]
  },
  {
   "cell_type": "code",
   "execution_count": 29,
   "metadata": {},
   "outputs": [
    {
     "output_type": "stream",
     "name": "stdout",
     "text": [
      "time: 1.27 ms\n",
      "In [29] used 0.0234 MiB RAM in 0.11s, peaked 0.00 MiB above current, total RAM usage 467.18 MiB\n"
     ]
    }
   ],
   "source": [
    "dfmy = dfm['outcome']"
   ]
  },
  {
   "cell_type": "code",
   "execution_count": 113,
   "metadata": {},
   "outputs": [
    {
     "output_type": "execute_result",
     "data": {
      "text/plain": [
       "0    1\n",
       "3    1\n",
       "3    1\n",
       "3    1\n",
       "0    1\n",
       "    ..\n",
       "0    1\n",
       "4    1\n",
       "3    1\n",
       "4    1\n",
       "3    1\n",
       "Name: outcome, Length: 31152, dtype: int64"
      ]
     },
     "metadata": {},
     "execution_count": 113
    },
    {
     "output_type": "stream",
     "name": "stdout",
     "text": [
      "time: 4.71 ms\nIn [113] used 0.0156 MiB RAM in 0.11s, peaked 0.00 MiB above current, total RAM usage 1076.56 MiB\n"
     ]
    }
   ],
   "source": []
  },
  {
   "cell_type": "code",
   "execution_count": 30,
   "metadata": {},
   "outputs": [
    {
     "output_type": "stream",
     "name": "stdout",
     "text": [
      "time: 46.2 ms\n",
      "In [30] used -4.0742 MiB RAM in 0.15s, peaked 7.63 MiB above current, total RAM usage 463.11 MiB\n"
     ]
    }
   ],
   "source": [
    "dfmx = pd.get_dummies(dfmx, columns=[1, 2, 3, 4, 5, 6,])"
   ]
  },
  {
   "cell_type": "code",
   "execution_count": 31,
   "metadata": {},
   "outputs": [
    {
     "output_type": "execute_result",
     "data": {
      "text/plain": [
       "                 uniqueid  score  pick_position  trumpcount  heldpoints  \\\n",
       "0          2256000-jturba      2              1           2          22   \n",
       "3       2256002-kibittzer     12              4           5          12   \n",
       "3    2256004-Grandpaken78      6              0           6          22   \n",
       "3   2256005-officials Jim      2              2           5           9   \n",
       "0       2256006-tvretired     16              2           4          22   \n",
       "..                    ...    ...            ...         ...         ...   \n",
       "0         2304491-rboegel      2              0           5          17   \n",
       "4          2304492-Denman      2              2           4          13   \n",
       "3      2304493-Kris Mazur      2              1           3          20   \n",
       "4          2304496-Denman      2              1           4          18   \n",
       "3    2304498-Barbara Dorn      4              2           4          31   \n",
       "\n",
       "    1_10C  1_10D  1_10H  1_10S  1_11C  ...  6_7H  6_7S  6_8C  6_8D  6_8H  \\\n",
       "0       0      0      0      0      0  ...     0     0     0     0     0   \n",
       "3       0      0      0      0      0  ...     0     0     0     0     0   \n",
       "3       0      0      0      0      0  ...     0     0     0     0     0   \n",
       "3       0      0      0      0      0  ...     0     0     0     1     0   \n",
       "0       0      0      0      0      0  ...     0     0     0     0     0   \n",
       "..    ...    ...    ...    ...    ...  ...   ...   ...   ...   ...   ...   \n",
       "0       0      0      0      0      0  ...     0     0     0     0     0   \n",
       "4       0      0      0      0      0  ...     0     0     0     0     0   \n",
       "3       0      0      0      0      0  ...     0     0     0     0     0   \n",
       "4       0      0      0      0      0  ...     0     0     0     0     0   \n",
       "3       0      0      0      0      0  ...     0     0     0     0     0   \n",
       "\n",
       "    6_8S  6_9C  6_9D  6_9H  6_9S  \n",
       "0      0     0     0     0     0  \n",
       "3      0     0     0     0     0  \n",
       "3      0     0     0     0     0  \n",
       "3      0     0     0     0     0  \n",
       "0      0     0     0     0     0  \n",
       "..   ...   ...   ...   ...   ...  \n",
       "0      0     0     0     0     0  \n",
       "4      0     0     0     0     0  \n",
       "3      0     0     0     0     0  \n",
       "4      0     0     0     0     0  \n",
       "3      0     0     0     0     0  \n",
       "\n",
       "[31152 rows x 197 columns]"
      ],
      "text/html": "<div>\n<style scoped>\n    .dataframe tbody tr th:only-of-type {\n        vertical-align: middle;\n    }\n\n    .dataframe tbody tr th {\n        vertical-align: top;\n    }\n\n    .dataframe thead th {\n        text-align: right;\n    }\n</style>\n<table border=\"1\" class=\"dataframe\">\n  <thead>\n    <tr style=\"text-align: right;\">\n      <th></th>\n      <th>uniqueid</th>\n      <th>score</th>\n      <th>pick_position</th>\n      <th>trumpcount</th>\n      <th>heldpoints</th>\n      <th>1_10C</th>\n      <th>1_10D</th>\n      <th>1_10H</th>\n      <th>1_10S</th>\n      <th>1_11C</th>\n      <th>...</th>\n      <th>6_7H</th>\n      <th>6_7S</th>\n      <th>6_8C</th>\n      <th>6_8D</th>\n      <th>6_8H</th>\n      <th>6_8S</th>\n      <th>6_9C</th>\n      <th>6_9D</th>\n      <th>6_9H</th>\n      <th>6_9S</th>\n    </tr>\n  </thead>\n  <tbody>\n    <tr>\n      <th>0</th>\n      <td>2256000-jturba</td>\n      <td>2</td>\n      <td>1</td>\n      <td>2</td>\n      <td>22</td>\n      <td>0</td>\n      <td>0</td>\n      <td>0</td>\n      <td>0</td>\n      <td>0</td>\n      <td>...</td>\n      <td>0</td>\n      <td>0</td>\n      <td>0</td>\n      <td>0</td>\n      <td>0</td>\n      <td>0</td>\n      <td>0</td>\n      <td>0</td>\n      <td>0</td>\n      <td>0</td>\n    </tr>\n    <tr>\n      <th>3</th>\n      <td>2256002-kibittzer</td>\n      <td>12</td>\n      <td>4</td>\n      <td>5</td>\n      <td>12</td>\n      <td>0</td>\n      <td>0</td>\n      <td>0</td>\n      <td>0</td>\n      <td>0</td>\n      <td>...</td>\n      <td>0</td>\n      <td>0</td>\n      <td>0</td>\n      <td>0</td>\n      <td>0</td>\n      <td>0</td>\n      <td>0</td>\n      <td>0</td>\n      <td>0</td>\n      <td>0</td>\n    </tr>\n    <tr>\n      <th>3</th>\n      <td>2256004-Grandpaken78</td>\n      <td>6</td>\n      <td>0</td>\n      <td>6</td>\n      <td>22</td>\n      <td>0</td>\n      <td>0</td>\n      <td>0</td>\n      <td>0</td>\n      <td>0</td>\n      <td>...</td>\n      <td>0</td>\n      <td>0</td>\n      <td>0</td>\n      <td>0</td>\n      <td>0</td>\n      <td>0</td>\n      <td>0</td>\n      <td>0</td>\n      <td>0</td>\n      <td>0</td>\n    </tr>\n    <tr>\n      <th>3</th>\n      <td>2256005-officials Jim</td>\n      <td>2</td>\n      <td>2</td>\n      <td>5</td>\n      <td>9</td>\n      <td>0</td>\n      <td>0</td>\n      <td>0</td>\n      <td>0</td>\n      <td>0</td>\n      <td>...</td>\n      <td>0</td>\n      <td>0</td>\n      <td>0</td>\n      <td>1</td>\n      <td>0</td>\n      <td>0</td>\n      <td>0</td>\n      <td>0</td>\n      <td>0</td>\n      <td>0</td>\n    </tr>\n    <tr>\n      <th>0</th>\n      <td>2256006-tvretired</td>\n      <td>16</td>\n      <td>2</td>\n      <td>4</td>\n      <td>22</td>\n      <td>0</td>\n      <td>0</td>\n      <td>0</td>\n      <td>0</td>\n      <td>0</td>\n      <td>...</td>\n      <td>0</td>\n      <td>0</td>\n      <td>0</td>\n      <td>0</td>\n      <td>0</td>\n      <td>0</td>\n      <td>0</td>\n      <td>0</td>\n      <td>0</td>\n      <td>0</td>\n    </tr>\n    <tr>\n      <th>...</th>\n      <td>...</td>\n      <td>...</td>\n      <td>...</td>\n      <td>...</td>\n      <td>...</td>\n      <td>...</td>\n      <td>...</td>\n      <td>...</td>\n      <td>...</td>\n      <td>...</td>\n      <td>...</td>\n      <td>...</td>\n      <td>...</td>\n      <td>...</td>\n      <td>...</td>\n      <td>...</td>\n      <td>...</td>\n      <td>...</td>\n      <td>...</td>\n      <td>...</td>\n      <td>...</td>\n    </tr>\n    <tr>\n      <th>0</th>\n      <td>2304491-rboegel</td>\n      <td>2</td>\n      <td>0</td>\n      <td>5</td>\n      <td>17</td>\n      <td>0</td>\n      <td>0</td>\n      <td>0</td>\n      <td>0</td>\n      <td>0</td>\n      <td>...</td>\n      <td>0</td>\n      <td>0</td>\n      <td>0</td>\n      <td>0</td>\n      <td>0</td>\n      <td>0</td>\n      <td>0</td>\n      <td>0</td>\n      <td>0</td>\n      <td>0</td>\n    </tr>\n    <tr>\n      <th>4</th>\n      <td>2304492-Denman</td>\n      <td>2</td>\n      <td>2</td>\n      <td>4</td>\n      <td>13</td>\n      <td>0</td>\n      <td>0</td>\n      <td>0</td>\n      <td>0</td>\n      <td>0</td>\n      <td>...</td>\n      <td>0</td>\n      <td>0</td>\n      <td>0</td>\n      <td>0</td>\n      <td>0</td>\n      <td>0</td>\n      <td>0</td>\n      <td>0</td>\n      <td>0</td>\n      <td>0</td>\n    </tr>\n    <tr>\n      <th>3</th>\n      <td>2304493-Kris Mazur</td>\n      <td>2</td>\n      <td>1</td>\n      <td>3</td>\n      <td>20</td>\n      <td>0</td>\n      <td>0</td>\n      <td>0</td>\n      <td>0</td>\n      <td>0</td>\n      <td>...</td>\n      <td>0</td>\n      <td>0</td>\n      <td>0</td>\n      <td>0</td>\n      <td>0</td>\n      <td>0</td>\n      <td>0</td>\n      <td>0</td>\n      <td>0</td>\n      <td>0</td>\n    </tr>\n    <tr>\n      <th>4</th>\n      <td>2304496-Denman</td>\n      <td>2</td>\n      <td>1</td>\n      <td>4</td>\n      <td>18</td>\n      <td>0</td>\n      <td>0</td>\n      <td>0</td>\n      <td>0</td>\n      <td>0</td>\n      <td>...</td>\n      <td>0</td>\n      <td>0</td>\n      <td>0</td>\n      <td>0</td>\n      <td>0</td>\n      <td>0</td>\n      <td>0</td>\n      <td>0</td>\n      <td>0</td>\n      <td>0</td>\n    </tr>\n    <tr>\n      <th>3</th>\n      <td>2304498-Barbara Dorn</td>\n      <td>4</td>\n      <td>2</td>\n      <td>4</td>\n      <td>31</td>\n      <td>0</td>\n      <td>0</td>\n      <td>0</td>\n      <td>0</td>\n      <td>0</td>\n      <td>...</td>\n      <td>0</td>\n      <td>0</td>\n      <td>0</td>\n      <td>0</td>\n      <td>0</td>\n      <td>0</td>\n      <td>0</td>\n      <td>0</td>\n      <td>0</td>\n      <td>0</td>\n    </tr>\n  </tbody>\n</table>\n<p>31152 rows × 197 columns</p>\n</div>"
     },
     "metadata": {},
     "execution_count": 31
    },
    {
     "output_type": "stream",
     "name": "stdout",
     "text": [
      "time: 24.8 ms\n",
      "In [31] used -0.1211 MiB RAM in 0.13s, peaked 0.12 MiB above current, total RAM usage 462.99 MiB\n"
     ]
    }
   ],
   "source": [
    "dfmx"
   ]
  },
  {
   "cell_type": "code",
   "execution_count": 32,
   "metadata": {},
   "outputs": [
    {
     "output_type": "stream",
     "name": "stdout",
     "text": [
      "time: 13 ms\n",
      "In [32] used 1.7695 MiB RAM in 0.11s, peaked 0.00 MiB above current, total RAM usage 464.76 MiB\n"
     ]
    }
   ],
   "source": [
    "dfma = pd.concat([dfmx, dfmy], axis=1)"
   ]
  },
  {
   "cell_type": "code",
   "execution_count": 118,
   "metadata": {},
   "outputs": [
    {
     "output_type": "execute_result",
     "data": {
      "text/plain": [
       "                 uniqueid  score  pick_position  trumpcount  heldpoints  \\\n",
       "0          2256000-jturba      2              1           2          22   \n",
       "3       2256002-kibittzer     12              4           5          12   \n",
       "3    2256004-Grandpaken78      6              0           6          22   \n",
       "3   2256005-officials Jim      2              2           5           9   \n",
       "0       2256006-tvretired     16              2           4          22   \n",
       "..                    ...    ...            ...         ...         ...   \n",
       "0         2304491-rboegel      2              0           5          17   \n",
       "4          2304492-Denman      2              2           4          13   \n",
       "3      2304493-Kris Mazur      2              1           3          20   \n",
       "4          2304496-Denman      2              1           4          18   \n",
       "3    2304498-Barbara Dorn      4              2           4          31   \n",
       "\n",
       "    1_10C  1_10D  1_10H  1_10S  1_11C  ...  6_7S  6_8C  6_8D  6_8H  6_8S  \\\n",
       "0       0      0      0      0      0  ...     0     0     0     0     0   \n",
       "3       0      0      0      0      0  ...     0     0     0     0     0   \n",
       "3       0      0      0      0      0  ...     0     0     0     0     0   \n",
       "3       0      0      0      0      0  ...     0     0     1     0     0   \n",
       "0       0      0      0      0      0  ...     0     0     0     0     0   \n",
       "..    ...    ...    ...    ...    ...  ...   ...   ...   ...   ...   ...   \n",
       "0       0      0      0      0      0  ...     0     0     0     0     0   \n",
       "4       0      0      0      0      0  ...     0     0     0     0     0   \n",
       "3       0      0      0      0      0  ...     0     0     0     0     0   \n",
       "4       0      0      0      0      0  ...     0     0     0     0     0   \n",
       "3       0      0      0      0      0  ...     0     0     0     0     0   \n",
       "\n",
       "    6_9C  6_9D  6_9H  6_9S  outcome  \n",
       "0      0     0     0     0        1  \n",
       "3      0     0     0     0        1  \n",
       "3      0     0     0     0        1  \n",
       "3      0     0     0     0        1  \n",
       "0      0     0     0     0        1  \n",
       "..   ...   ...   ...   ...      ...  \n",
       "0      0     0     0     0        1  \n",
       "4      0     0     0     0        1  \n",
       "3      0     0     0     0        1  \n",
       "4      0     0     0     0        1  \n",
       "3      0     0     0     0        1  \n",
       "\n",
       "[31152 rows x 198 columns]"
      ],
      "text/html": "<div>\n<style scoped>\n    .dataframe tbody tr th:only-of-type {\n        vertical-align: middle;\n    }\n\n    .dataframe tbody tr th {\n        vertical-align: top;\n    }\n\n    .dataframe thead th {\n        text-align: right;\n    }\n</style>\n<table border=\"1\" class=\"dataframe\">\n  <thead>\n    <tr style=\"text-align: right;\">\n      <th></th>\n      <th>uniqueid</th>\n      <th>score</th>\n      <th>pick_position</th>\n      <th>trumpcount</th>\n      <th>heldpoints</th>\n      <th>1_10C</th>\n      <th>1_10D</th>\n      <th>1_10H</th>\n      <th>1_10S</th>\n      <th>1_11C</th>\n      <th>...</th>\n      <th>6_7S</th>\n      <th>6_8C</th>\n      <th>6_8D</th>\n      <th>6_8H</th>\n      <th>6_8S</th>\n      <th>6_9C</th>\n      <th>6_9D</th>\n      <th>6_9H</th>\n      <th>6_9S</th>\n      <th>outcome</th>\n    </tr>\n  </thead>\n  <tbody>\n    <tr>\n      <th>0</th>\n      <td>2256000-jturba</td>\n      <td>2</td>\n      <td>1</td>\n      <td>2</td>\n      <td>22</td>\n      <td>0</td>\n      <td>0</td>\n      <td>0</td>\n      <td>0</td>\n      <td>0</td>\n      <td>...</td>\n      <td>0</td>\n      <td>0</td>\n      <td>0</td>\n      <td>0</td>\n      <td>0</td>\n      <td>0</td>\n      <td>0</td>\n      <td>0</td>\n      <td>0</td>\n      <td>1</td>\n    </tr>\n    <tr>\n      <th>3</th>\n      <td>2256002-kibittzer</td>\n      <td>12</td>\n      <td>4</td>\n      <td>5</td>\n      <td>12</td>\n      <td>0</td>\n      <td>0</td>\n      <td>0</td>\n      <td>0</td>\n      <td>0</td>\n      <td>...</td>\n      <td>0</td>\n      <td>0</td>\n      <td>0</td>\n      <td>0</td>\n      <td>0</td>\n      <td>0</td>\n      <td>0</td>\n      <td>0</td>\n      <td>0</td>\n      <td>1</td>\n    </tr>\n    <tr>\n      <th>3</th>\n      <td>2256004-Grandpaken78</td>\n      <td>6</td>\n      <td>0</td>\n      <td>6</td>\n      <td>22</td>\n      <td>0</td>\n      <td>0</td>\n      <td>0</td>\n      <td>0</td>\n      <td>0</td>\n      <td>...</td>\n      <td>0</td>\n      <td>0</td>\n      <td>0</td>\n      <td>0</td>\n      <td>0</td>\n      <td>0</td>\n      <td>0</td>\n      <td>0</td>\n      <td>0</td>\n      <td>1</td>\n    </tr>\n    <tr>\n      <th>3</th>\n      <td>2256005-officials Jim</td>\n      <td>2</td>\n      <td>2</td>\n      <td>5</td>\n      <td>9</td>\n      <td>0</td>\n      <td>0</td>\n      <td>0</td>\n      <td>0</td>\n      <td>0</td>\n      <td>...</td>\n      <td>0</td>\n      <td>0</td>\n      <td>1</td>\n      <td>0</td>\n      <td>0</td>\n      <td>0</td>\n      <td>0</td>\n      <td>0</td>\n      <td>0</td>\n      <td>1</td>\n    </tr>\n    <tr>\n      <th>0</th>\n      <td>2256006-tvretired</td>\n      <td>16</td>\n      <td>2</td>\n      <td>4</td>\n      <td>22</td>\n      <td>0</td>\n      <td>0</td>\n      <td>0</td>\n      <td>0</td>\n      <td>0</td>\n      <td>...</td>\n      <td>0</td>\n      <td>0</td>\n      <td>0</td>\n      <td>0</td>\n      <td>0</td>\n      <td>0</td>\n      <td>0</td>\n      <td>0</td>\n      <td>0</td>\n      <td>1</td>\n    </tr>\n    <tr>\n      <th>...</th>\n      <td>...</td>\n      <td>...</td>\n      <td>...</td>\n      <td>...</td>\n      <td>...</td>\n      <td>...</td>\n      <td>...</td>\n      <td>...</td>\n      <td>...</td>\n      <td>...</td>\n      <td>...</td>\n      <td>...</td>\n      <td>...</td>\n      <td>...</td>\n      <td>...</td>\n      <td>...</td>\n      <td>...</td>\n      <td>...</td>\n      <td>...</td>\n      <td>...</td>\n      <td>...</td>\n    </tr>\n    <tr>\n      <th>0</th>\n      <td>2304491-rboegel</td>\n      <td>2</td>\n      <td>0</td>\n      <td>5</td>\n      <td>17</td>\n      <td>0</td>\n      <td>0</td>\n      <td>0</td>\n      <td>0</td>\n      <td>0</td>\n      <td>...</td>\n      <td>0</td>\n      <td>0</td>\n      <td>0</td>\n      <td>0</td>\n      <td>0</td>\n      <td>0</td>\n      <td>0</td>\n      <td>0</td>\n      <td>0</td>\n      <td>1</td>\n    </tr>\n    <tr>\n      <th>4</th>\n      <td>2304492-Denman</td>\n      <td>2</td>\n      <td>2</td>\n      <td>4</td>\n      <td>13</td>\n      <td>0</td>\n      <td>0</td>\n      <td>0</td>\n      <td>0</td>\n      <td>0</td>\n      <td>...</td>\n      <td>0</td>\n      <td>0</td>\n      <td>0</td>\n      <td>0</td>\n      <td>0</td>\n      <td>0</td>\n      <td>0</td>\n      <td>0</td>\n      <td>0</td>\n      <td>1</td>\n    </tr>\n    <tr>\n      <th>3</th>\n      <td>2304493-Kris Mazur</td>\n      <td>2</td>\n      <td>1</td>\n      <td>3</td>\n      <td>20</td>\n      <td>0</td>\n      <td>0</td>\n      <td>0</td>\n      <td>0</td>\n      <td>0</td>\n      <td>...</td>\n      <td>0</td>\n      <td>0</td>\n      <td>0</td>\n      <td>0</td>\n      <td>0</td>\n      <td>0</td>\n      <td>0</td>\n      <td>0</td>\n      <td>0</td>\n      <td>1</td>\n    </tr>\n    <tr>\n      <th>4</th>\n      <td>2304496-Denman</td>\n      <td>2</td>\n      <td>1</td>\n      <td>4</td>\n      <td>18</td>\n      <td>0</td>\n      <td>0</td>\n      <td>0</td>\n      <td>0</td>\n      <td>0</td>\n      <td>...</td>\n      <td>0</td>\n      <td>0</td>\n      <td>0</td>\n      <td>0</td>\n      <td>0</td>\n      <td>0</td>\n      <td>0</td>\n      <td>0</td>\n      <td>0</td>\n      <td>1</td>\n    </tr>\n    <tr>\n      <th>3</th>\n      <td>2304498-Barbara Dorn</td>\n      <td>4</td>\n      <td>2</td>\n      <td>4</td>\n      <td>31</td>\n      <td>0</td>\n      <td>0</td>\n      <td>0</td>\n      <td>0</td>\n      <td>0</td>\n      <td>...</td>\n      <td>0</td>\n      <td>0</td>\n      <td>0</td>\n      <td>0</td>\n      <td>0</td>\n      <td>0</td>\n      <td>0</td>\n      <td>0</td>\n      <td>0</td>\n      <td>1</td>\n    </tr>\n  </tbody>\n</table>\n<p>31152 rows × 198 columns</p>\n</div>"
     },
     "metadata": {},
     "execution_count": 118
    },
    {
     "output_type": "stream",
     "name": "stdout",
     "text": [
      "time: 102 ms\nIn [118] used -729.5508 MiB RAM in 0.21s, peaked 729.55 MiB above current, total RAM usage 832.83 MiB\n"
     ]
    }
   ],
   "source": []
  },
  {
   "cell_type": "code",
   "execution_count": 33,
   "metadata": {},
   "outputs": [
    {
     "output_type": "stream",
     "name": "stdout",
     "text": [
      "time: 9.62 ms\n",
      "In [33] used 11.4336 MiB RAM in 0.11s, peaked 0.00 MiB above current, total RAM usage 476.19 MiB\n"
     ]
    }
   ],
   "source": [
    "X = dfma.iloc[:,2:-1]\n",
    "y = dfma.iloc[:,-1]"
   ]
  },
  {
   "cell_type": "code",
   "execution_count": 139,
   "metadata": {},
   "outputs": [
    {
     "output_type": "execute_result",
     "data": {
      "text/plain": [
       "Index(['pick_position', 'trumpcount', 'heldpoints', '1_10C', '1_10D', '1_10H',\n",
       "       '1_10S', '1_11C', '1_11D', '1_11H',\n",
       "       ...\n",
       "       '6_7H', '6_7S', '6_8C', '6_8D', '6_8H', '6_8S', '6_9C', '6_9D', '6_9H',\n",
       "       '6_9S'],\n",
       "      dtype='object', length=195)"
      ]
     },
     "metadata": {},
     "execution_count": 139
    },
    {
     "output_type": "stream",
     "name": "stdout",
     "text": [
      "time: 3.97 ms\nIn [139] used 17.0703 MiB RAM in 0.11s, peaked 0.00 MiB above current, total RAM usage 96.43 MiB\n"
     ]
    }
   ],
   "source": [
    "X.columns"
   ]
  },
  {
   "cell_type": "code",
   "execution_count": 34,
   "metadata": {},
   "outputs": [
    {
     "output_type": "stream",
     "name": "stdout",
     "text": [
      "time: 28.7 ms\n",
      "In [34] used 5.0156 MiB RAM in 0.13s, peaked 0.00 MiB above current, total RAM usage 481.21 MiB\n"
     ]
    }
   ],
   "source": [
    "X_train, X_test, y_train, y_test = train_test_split(X, y, test_size=0.2, random_state=42, stratify=y)"
   ]
  },
  {
   "cell_type": "code",
   "execution_count": 126,
   "metadata": {},
   "outputs": [
    {
     "output_type": "stream",
     "name": "stdout",
     "text": [
      "time: 1.96 ms\n",
      "In [126] used 0.0195 MiB RAM in 0.10s, peaked 0.00 MiB above current, total RAM usage 758.00 MiB\n"
     ]
    }
   ],
   "source": [
    "def make_heatmap(y_test, y_pred, model_name):\n",
    "    plt.figure(figsize=(8, 8))\n",
    "    conf_matrix = confusion_matrix(y_test, y_pred, normalize=\"all\")\n",
    "    sns.heatmap((conf_matrix*100), annot=True, square=True)\n",
    "    plt.xlabel(\"Predicted\")\n",
    "    plt.ylabel(\"Actual\")\n",
    "    plt.title(\"{} Confusion Matrix\".format(model_name));"
   ]
  },
  {
   "cell_type": "code",
   "execution_count": 87,
   "metadata": {},
   "outputs": [
    {
     "output_type": "stream",
     "name": "stdout",
     "text": [
      "Training set:  0.7844388266923478\n",
      "Test set:  0.7424169475204622\n",
      "              precision    recall  f1-score   support\n",
      "\n",
      "           0       0.45      0.19      0.27      1544\n",
      "           1       0.78      0.92      0.84      4687\n",
      "\n",
      "    accuracy                           0.74      6231\n",
      "   macro avg       0.62      0.56      0.56      6231\n",
      "weighted avg       0.70      0.74      0.70      6231\n",
      "\n",
      "time: 1min 13s\n",
      "In [87] used 137.5195 MiB RAM in 73.57s, peaked 41.21 MiB above current, total RAM usage 535.21 MiB\n"
     ]
    }
   ],
   "source": [
    "knn = KNeighborsClassifier(n_neighbors=10)\n",
    "knn.fit(X_train, np.array(y_train).ravel())\n",
    "y_pred = knn.predict(X_test)\n",
    "print(\"Training set: \", knn.score(X_train, y_train))\n",
    "print(\"Test set: \", knn.score(X_test, y_test))\n",
    "print(classification_report(y_test, y_pred))"
   ]
  },
  {
   "cell_type": "code",
   "execution_count": 129,
   "metadata": {},
   "outputs": [
    {
     "output_type": "execute_result",
     "data": {
      "text/plain": [
       "array([[ 301, 1243],\n",
       "       [ 362, 4325]])"
      ]
     },
     "metadata": {},
     "execution_count": 129
    },
    {
     "output_type": "stream",
     "name": "stdout",
     "text": [
      "time: 9.44 ms\nIn [129] used 0.0039 MiB RAM in 0.11s, peaked 0.00 MiB above current, total RAM usage 767.97 MiB\n"
     ]
    }
   ],
   "source": [
    "confusion_matrix(y_test, y_pred)"
   ]
  },
  {
   "cell_type": "code",
   "execution_count": 88,
   "metadata": {},
   "outputs": [
    {
     "output_type": "stream",
     "name": "stdout",
     "text": [
      "Training set:  0.5494291506615451\n",
      "Test set:  0.3020381961161932\n",
      "              precision    recall  f1-score   support\n",
      "\n",
      "           0       0.26      0.99      0.41      1544\n",
      "           1       0.97      0.07      0.14      4687\n",
      "\n",
      "    accuracy                           0.30      6231\n",
      "   macro avg       0.62      0.53      0.28      6231\n",
      "weighted avg       0.80      0.30      0.21      6231\n",
      "\n",
      "time: 1min 43s\n",
      "In [88] used 20.6328 MiB RAM in 103.18s, peaked 185.39 MiB above current, total RAM usage 555.84 MiB\n"
     ]
    }
   ],
   "source": [
    "X_smote, y_smote = SMOTE(random_state=42).fit_sample(X_train, y_train)\n",
    "knn.fit(X_smote, np.array(y_smote).ravel())\n",
    "y_pred = knn.predict(X_test)\n",
    "print(\"Training set: \", knn.score(X_smote, y_smote))\n",
    "print(\"Test set: \", knn.score(X_test, y_test))\n",
    "print(classification_report(y_test, y_pred))"
   ]
  },
  {
   "cell_type": "code",
   "execution_count": 132,
   "metadata": {},
   "outputs": [
    {
     "output_type": "execute_result",
     "data": {
      "text/plain": [
       "array([[1534,   10],\n",
       "       [4339,  348]])"
      ]
     },
     "metadata": {},
     "execution_count": 132
    },
    {
     "output_type": "stream",
     "name": "stdout",
     "text": [
      "time: 7.64 ms\nIn [132] used -5.7305 MiB RAM in 0.11s, peaked 0.00 MiB above current, total RAM usage 824.68 MiB\n"
     ]
    }
   ],
   "source": [
    "confusion_matrix(y_test, y_pred)"
   ]
  },
  {
   "cell_type": "code",
   "execution_count": 133,
   "metadata": {},
   "outputs": [
    {
     "output_type": "display_data",
     "data": {
      "text/plain": "<Figure size 576x576 with 2 Axes>",
      "image/svg+xml": "<?xml version=\"1.0\" encoding=\"utf-8\" standalone=\"no\"?>\n<!DOCTYPE svg PUBLIC \"-//W3C//DTD SVG 1.1//EN\"\n  \"http://www.w3.org/Graphics/SVG/1.1/DTD/svg11.dtd\">\n<!-- Created with matplotlib (https://matplotlib.org/) -->\n<svg height=\"449.28pt\" version=\"1.1\" viewBox=\"0 0 465.66525 449.28\" width=\"465.66525pt\" xmlns=\"http://www.w3.org/2000/svg\" xmlns:xlink=\"http://www.w3.org/1999/xlink\">\n <defs>\n  <style type=\"text/css\">\n*{stroke-linecap:butt;stroke-linejoin:round;}\n  </style>\n </defs>\n <g id=\"figure_1\">\n  <g id=\"patch_1\">\n   <path d=\"M 0 449.28 \nL 465.66525 449.28 \nL 465.66525 0 \nL 0 0 \nz\n\" style=\"fill:none;\"/>\n  </g>\n  <g id=\"axes_1\">\n   <g id=\"patch_2\">\n    <path d=\"M 37.55625 403.2 \nL 394.67625 403.2 \nL 394.67625 46.08 \nL 37.55625 46.08 \nz\n\" style=\"fill:#ffffff;\"/>\n   </g>\n   <g id=\"QuadMesh_1\">\n    <path clip-path=\"url(#pf46ffa835f)\" d=\"M 37.55625 46.08 \nL 216.11625 46.08 \nL 216.11625 224.64 \nL 37.55625 224.64 \nL 37.55625 46.08 \n\" style=\"fill:#8c1d5b;\"/>\n    <path clip-path=\"url(#pf46ffa835f)\" d=\"M 216.11625 46.08 \nL 394.67625 46.08 \nL 394.67625 224.64 \nL 216.11625 224.64 \nL 216.11625 46.08 \n\" style=\"fill:#03051a;\"/>\n    <path clip-path=\"url(#pf46ffa835f)\" d=\"M 37.55625 224.64 \nL 216.11625 224.64 \nL 216.11625 403.2 \nL 37.55625 403.2 \nL 37.55625 224.64 \n\" style=\"fill:#faebdd;\"/>\n    <path clip-path=\"url(#pf46ffa835f)\" d=\"M 216.11625 224.64 \nL 394.67625 224.64 \nL 394.67625 403.2 \nL 216.11625 403.2 \nL 216.11625 224.64 \n\" style=\"fill:#1d112c;\"/>\n   </g>\n   <g id=\"matplotlib.axis_1\">\n    <g id=\"xtick_1\">\n     <g id=\"line2d_1\">\n      <defs>\n       <path d=\"M 0 0 \nL 0 3.5 \n\" id=\"mac8d0214f8\" style=\"stroke:#000000;stroke-width:0.8;\"/>\n      </defs>\n      <g>\n       <use style=\"stroke:#000000;stroke-width:0.8;\" x=\"126.83625\" xlink:href=\"#mac8d0214f8\" y=\"403.2\"/>\n      </g>\n     </g>\n     <g id=\"text_1\">\n      <!-- 0 -->\n      <defs>\n       <path d=\"M 31.78125 66.40625 \nQ 24.171875 66.40625 20.328125 58.90625 \nQ 16.5 51.421875 16.5 36.375 \nQ 16.5 21.390625 20.328125 13.890625 \nQ 24.171875 6.390625 31.78125 6.390625 \nQ 39.453125 6.390625 43.28125 13.890625 \nQ 47.125 21.390625 47.125 36.375 \nQ 47.125 51.421875 43.28125 58.90625 \nQ 39.453125 66.40625 31.78125 66.40625 \nz\nM 31.78125 74.21875 \nQ 44.046875 74.21875 50.515625 64.515625 \nQ 56.984375 54.828125 56.984375 36.375 \nQ 56.984375 17.96875 50.515625 8.265625 \nQ 44.046875 -1.421875 31.78125 -1.421875 \nQ 19.53125 -1.421875 13.0625 8.265625 \nQ 6.59375 17.96875 6.59375 36.375 \nQ 6.59375 54.828125 13.0625 64.515625 \nQ 19.53125 74.21875 31.78125 74.21875 \nz\n\" id=\"DejaVuSans-48\"/>\n      </defs>\n      <g transform=\"translate(123.655 417.798437)scale(0.1 -0.1)\">\n       <use xlink:href=\"#DejaVuSans-48\"/>\n      </g>\n     </g>\n    </g>\n    <g id=\"xtick_2\">\n     <g id=\"line2d_2\">\n      <g>\n       <use style=\"stroke:#000000;stroke-width:0.8;\" x=\"305.39625\" xlink:href=\"#mac8d0214f8\" y=\"403.2\"/>\n      </g>\n     </g>\n     <g id=\"text_2\">\n      <!-- 1 -->\n      <defs>\n       <path d=\"M 12.40625 8.296875 \nL 28.515625 8.296875 \nL 28.515625 63.921875 \nL 10.984375 60.40625 \nL 10.984375 69.390625 \nL 28.421875 72.90625 \nL 38.28125 72.90625 \nL 38.28125 8.296875 \nL 54.390625 8.296875 \nL 54.390625 0 \nL 12.40625 0 \nz\n\" id=\"DejaVuSans-49\"/>\n      </defs>\n      <g transform=\"translate(302.215 417.798437)scale(0.1 -0.1)\">\n       <use xlink:href=\"#DejaVuSans-49\"/>\n      </g>\n     </g>\n    </g>\n    <g id=\"text_3\">\n     <!-- Predicted -->\n     <defs>\n      <path d=\"M 19.671875 64.796875 \nL 19.671875 37.40625 \nL 32.078125 37.40625 \nQ 38.96875 37.40625 42.71875 40.96875 \nQ 46.484375 44.53125 46.484375 51.125 \nQ 46.484375 57.671875 42.71875 61.234375 \nQ 38.96875 64.796875 32.078125 64.796875 \nz\nM 9.8125 72.90625 \nL 32.078125 72.90625 \nQ 44.34375 72.90625 50.609375 67.359375 \nQ 56.890625 61.8125 56.890625 51.125 \nQ 56.890625 40.328125 50.609375 34.8125 \nQ 44.34375 29.296875 32.078125 29.296875 \nL 19.671875 29.296875 \nL 19.671875 0 \nL 9.8125 0 \nz\n\" id=\"DejaVuSans-80\"/>\n      <path d=\"M 41.109375 46.296875 \nQ 39.59375 47.171875 37.8125 47.578125 \nQ 36.03125 48 33.890625 48 \nQ 26.265625 48 22.1875 43.046875 \nQ 18.109375 38.09375 18.109375 28.8125 \nL 18.109375 0 \nL 9.078125 0 \nL 9.078125 54.6875 \nL 18.109375 54.6875 \nL 18.109375 46.1875 \nQ 20.953125 51.171875 25.484375 53.578125 \nQ 30.03125 56 36.53125 56 \nQ 37.453125 56 38.578125 55.875 \nQ 39.703125 55.765625 41.0625 55.515625 \nz\n\" id=\"DejaVuSans-114\"/>\n      <path d=\"M 56.203125 29.59375 \nL 56.203125 25.203125 \nL 14.890625 25.203125 \nQ 15.484375 15.921875 20.484375 11.0625 \nQ 25.484375 6.203125 34.421875 6.203125 \nQ 39.59375 6.203125 44.453125 7.46875 \nQ 49.3125 8.734375 54.109375 11.28125 \nL 54.109375 2.78125 \nQ 49.265625 0.734375 44.1875 -0.34375 \nQ 39.109375 -1.421875 33.890625 -1.421875 \nQ 20.796875 -1.421875 13.15625 6.1875 \nQ 5.515625 13.8125 5.515625 26.8125 \nQ 5.515625 40.234375 12.765625 48.109375 \nQ 20.015625 56 32.328125 56 \nQ 43.359375 56 49.78125 48.890625 \nQ 56.203125 41.796875 56.203125 29.59375 \nz\nM 47.21875 32.234375 \nQ 47.125 39.59375 43.09375 43.984375 \nQ 39.0625 48.390625 32.421875 48.390625 \nQ 24.90625 48.390625 20.390625 44.140625 \nQ 15.875 39.890625 15.1875 32.171875 \nz\n\" id=\"DejaVuSans-101\"/>\n      <path d=\"M 45.40625 46.390625 \nL 45.40625 75.984375 \nL 54.390625 75.984375 \nL 54.390625 0 \nL 45.40625 0 \nL 45.40625 8.203125 \nQ 42.578125 3.328125 38.25 0.953125 \nQ 33.9375 -1.421875 27.875 -1.421875 \nQ 17.96875 -1.421875 11.734375 6.484375 \nQ 5.515625 14.40625 5.515625 27.296875 \nQ 5.515625 40.1875 11.734375 48.09375 \nQ 17.96875 56 27.875 56 \nQ 33.9375 56 38.25 53.625 \nQ 42.578125 51.265625 45.40625 46.390625 \nz\nM 14.796875 27.296875 \nQ 14.796875 17.390625 18.875 11.75 \nQ 22.953125 6.109375 30.078125 6.109375 \nQ 37.203125 6.109375 41.296875 11.75 \nQ 45.40625 17.390625 45.40625 27.296875 \nQ 45.40625 37.203125 41.296875 42.84375 \nQ 37.203125 48.484375 30.078125 48.484375 \nQ 22.953125 48.484375 18.875 42.84375 \nQ 14.796875 37.203125 14.796875 27.296875 \nz\n\" id=\"DejaVuSans-100\"/>\n      <path d=\"M 9.421875 54.6875 \nL 18.40625 54.6875 \nL 18.40625 0 \nL 9.421875 0 \nz\nM 9.421875 75.984375 \nL 18.40625 75.984375 \nL 18.40625 64.59375 \nL 9.421875 64.59375 \nz\n\" id=\"DejaVuSans-105\"/>\n      <path d=\"M 48.78125 52.59375 \nL 48.78125 44.1875 \nQ 44.96875 46.296875 41.140625 47.34375 \nQ 37.3125 48.390625 33.40625 48.390625 \nQ 24.65625 48.390625 19.8125 42.84375 \nQ 14.984375 37.3125 14.984375 27.296875 \nQ 14.984375 17.28125 19.8125 11.734375 \nQ 24.65625 6.203125 33.40625 6.203125 \nQ 37.3125 6.203125 41.140625 7.25 \nQ 44.96875 8.296875 48.78125 10.40625 \nL 48.78125 2.09375 \nQ 45.015625 0.34375 40.984375 -0.53125 \nQ 36.96875 -1.421875 32.421875 -1.421875 \nQ 20.0625 -1.421875 12.78125 6.34375 \nQ 5.515625 14.109375 5.515625 27.296875 \nQ 5.515625 40.671875 12.859375 48.328125 \nQ 20.21875 56 33.015625 56 \nQ 37.15625 56 41.109375 55.140625 \nQ 45.0625 54.296875 48.78125 52.59375 \nz\n\" id=\"DejaVuSans-99\"/>\n      <path d=\"M 18.3125 70.21875 \nL 18.3125 54.6875 \nL 36.8125 54.6875 \nL 36.8125 47.703125 \nL 18.3125 47.703125 \nL 18.3125 18.015625 \nQ 18.3125 11.328125 20.140625 9.421875 \nQ 21.96875 7.515625 27.59375 7.515625 \nL 36.8125 7.515625 \nL 36.8125 0 \nL 27.59375 0 \nQ 17.1875 0 13.234375 3.875 \nQ 9.28125 7.765625 9.28125 18.015625 \nL 9.28125 47.703125 \nL 2.6875 47.703125 \nL 2.6875 54.6875 \nL 9.28125 54.6875 \nL 9.28125 70.21875 \nz\n\" id=\"DejaVuSans-116\"/>\n     </defs>\n     <g transform=\"translate(192.645938 431.476562)scale(0.1 -0.1)\">\n      <use xlink:href=\"#DejaVuSans-80\"/>\n      <use x=\"58.552734\" xlink:href=\"#DejaVuSans-114\"/>\n      <use x=\"97.416016\" xlink:href=\"#DejaVuSans-101\"/>\n      <use x=\"158.939453\" xlink:href=\"#DejaVuSans-100\"/>\n      <use x=\"222.416016\" xlink:href=\"#DejaVuSans-105\"/>\n      <use x=\"250.199219\" xlink:href=\"#DejaVuSans-99\"/>\n      <use x=\"305.179688\" xlink:href=\"#DejaVuSans-116\"/>\n      <use x=\"344.388672\" xlink:href=\"#DejaVuSans-101\"/>\n      <use x=\"405.912109\" xlink:href=\"#DejaVuSans-100\"/>\n     </g>\n    </g>\n   </g>\n   <g id=\"matplotlib.axis_2\">\n    <g id=\"ytick_1\">\n     <g id=\"line2d_3\">\n      <defs>\n       <path d=\"M 0 0 \nL -3.5 0 \n\" id=\"m3fe86cbc8a\" style=\"stroke:#000000;stroke-width:0.8;\"/>\n      </defs>\n      <g>\n       <use style=\"stroke:#000000;stroke-width:0.8;\" x=\"37.55625\" xlink:href=\"#m3fe86cbc8a\" y=\"135.36\"/>\n      </g>\n     </g>\n     <g id=\"text_4\">\n      <!-- 0 -->\n      <g transform=\"translate(28.476563 137.923281)rotate(-90)scale(0.1 -0.1)\">\n       <use xlink:href=\"#DejaVuSans-48\"/>\n      </g>\n     </g>\n    </g>\n    <g id=\"ytick_2\">\n     <g id=\"line2d_4\">\n      <g>\n       <use style=\"stroke:#000000;stroke-width:0.8;\" x=\"37.55625\" xlink:href=\"#m3fe86cbc8a\" y=\"313.92\"/>\n      </g>\n     </g>\n     <g id=\"text_5\">\n      <!-- 1 -->\n      <g transform=\"translate(28.476563 316.483281)rotate(-90)scale(0.1 -0.1)\">\n       <use xlink:href=\"#DejaVuSans-49\"/>\n      </g>\n     </g>\n    </g>\n    <g id=\"text_6\">\n     <!-- Actual -->\n     <defs>\n      <path d=\"M 34.1875 63.1875 \nL 20.796875 26.90625 \nL 47.609375 26.90625 \nz\nM 28.609375 72.90625 \nL 39.796875 72.90625 \nL 67.578125 0 \nL 57.328125 0 \nL 50.6875 18.703125 \nL 17.828125 18.703125 \nL 11.1875 0 \nL 0.78125 0 \nz\n\" id=\"DejaVuSans-65\"/>\n      <path d=\"M 8.5 21.578125 \nL 8.5 54.6875 \nL 17.484375 54.6875 \nL 17.484375 21.921875 \nQ 17.484375 14.15625 20.5 10.265625 \nQ 23.53125 6.390625 29.59375 6.390625 \nQ 36.859375 6.390625 41.078125 11.03125 \nQ 45.3125 15.671875 45.3125 23.6875 \nL 45.3125 54.6875 \nL 54.296875 54.6875 \nL 54.296875 0 \nL 45.3125 0 \nL 45.3125 8.40625 \nQ 42.046875 3.421875 37.71875 1 \nQ 33.40625 -1.421875 27.6875 -1.421875 \nQ 18.265625 -1.421875 13.375 4.4375 \nQ 8.5 10.296875 8.5 21.578125 \nz\nM 31.109375 56 \nz\n\" id=\"DejaVuSans-117\"/>\n      <path d=\"M 34.28125 27.484375 \nQ 23.390625 27.484375 19.1875 25 \nQ 14.984375 22.515625 14.984375 16.5 \nQ 14.984375 11.71875 18.140625 8.90625 \nQ 21.296875 6.109375 26.703125 6.109375 \nQ 34.1875 6.109375 38.703125 11.40625 \nQ 43.21875 16.703125 43.21875 25.484375 \nL 43.21875 27.484375 \nz\nM 52.203125 31.203125 \nL 52.203125 0 \nL 43.21875 0 \nL 43.21875 8.296875 \nQ 40.140625 3.328125 35.546875 0.953125 \nQ 30.953125 -1.421875 24.3125 -1.421875 \nQ 15.921875 -1.421875 10.953125 3.296875 \nQ 6 8.015625 6 15.921875 \nQ 6 25.140625 12.171875 29.828125 \nQ 18.359375 34.515625 30.609375 34.515625 \nL 43.21875 34.515625 \nL 43.21875 35.40625 \nQ 43.21875 41.609375 39.140625 45 \nQ 35.0625 48.390625 27.6875 48.390625 \nQ 23 48.390625 18.546875 47.265625 \nQ 14.109375 46.140625 10.015625 43.890625 \nL 10.015625 52.203125 \nQ 14.9375 54.109375 19.578125 55.046875 \nQ 24.21875 56 28.609375 56 \nQ 40.484375 56 46.34375 49.84375 \nQ 52.203125 43.703125 52.203125 31.203125 \nz\n\" id=\"DejaVuSans-97\"/>\n      <path d=\"M 9.421875 75.984375 \nL 18.40625 75.984375 \nL 18.40625 0 \nL 9.421875 0 \nz\n\" id=\"DejaVuSans-108\"/>\n     </defs>\n     <g transform=\"translate(14.798438 240.304062)rotate(-90)scale(0.1 -0.1)\">\n      <use xlink:href=\"#DejaVuSans-65\"/>\n      <use x=\"66.658203\" xlink:href=\"#DejaVuSans-99\"/>\n      <use x=\"121.638672\" xlink:href=\"#DejaVuSans-116\"/>\n      <use x=\"160.847656\" xlink:href=\"#DejaVuSans-117\"/>\n      <use x=\"224.226562\" xlink:href=\"#DejaVuSans-97\"/>\n      <use x=\"285.505859\" xlink:href=\"#DejaVuSans-108\"/>\n     </g>\n    </g>\n   </g>\n   <g id=\"text_7\">\n    <!-- 25 -->\n    <defs>\n     <path d=\"M 19.1875 8.296875 \nL 53.609375 8.296875 \nL 53.609375 0 \nL 7.328125 0 \nL 7.328125 8.296875 \nQ 12.9375 14.109375 22.625 23.890625 \nQ 32.328125 33.6875 34.8125 36.53125 \nQ 39.546875 41.84375 41.421875 45.53125 \nQ 43.3125 49.21875 43.3125 52.78125 \nQ 43.3125 58.59375 39.234375 62.25 \nQ 35.15625 65.921875 28.609375 65.921875 \nQ 23.96875 65.921875 18.8125 64.3125 \nQ 13.671875 62.703125 7.8125 59.421875 \nL 7.8125 69.390625 \nQ 13.765625 71.78125 18.9375 73 \nQ 24.125 74.21875 28.421875 74.21875 \nQ 39.75 74.21875 46.484375 68.546875 \nQ 53.21875 62.890625 53.21875 53.421875 \nQ 53.21875 48.921875 51.53125 44.890625 \nQ 49.859375 40.875 45.40625 35.40625 \nQ 44.1875 33.984375 37.640625 27.21875 \nQ 31.109375 20.453125 19.1875 8.296875 \nz\n\" id=\"DejaVuSans-50\"/>\n     <path d=\"M 10.796875 72.90625 \nL 49.515625 72.90625 \nL 49.515625 64.59375 \nL 19.828125 64.59375 \nL 19.828125 46.734375 \nQ 21.96875 47.46875 24.109375 47.828125 \nQ 26.265625 48.1875 28.421875 48.1875 \nQ 40.625 48.1875 47.75 41.5 \nQ 54.890625 34.8125 54.890625 23.390625 \nQ 54.890625 11.625 47.5625 5.09375 \nQ 40.234375 -1.421875 26.90625 -1.421875 \nQ 22.3125 -1.421875 17.546875 -0.640625 \nQ 12.796875 0.140625 7.71875 1.703125 \nL 7.71875 11.625 \nQ 12.109375 9.234375 16.796875 8.0625 \nQ 21.484375 6.890625 26.703125 6.890625 \nQ 35.15625 6.890625 40.078125 11.328125 \nQ 45.015625 15.765625 45.015625 23.390625 \nQ 45.015625 31 40.078125 35.4375 \nQ 35.15625 39.890625 26.703125 39.890625 \nQ 22.75 39.890625 18.8125 39.015625 \nQ 14.890625 38.140625 10.796875 36.28125 \nz\n\" id=\"DejaVuSans-53\"/>\n    </defs>\n    <g style=\"fill:#ffffff;\" transform=\"translate(120.47375 138.119375)scale(0.1 -0.1)\">\n     <use xlink:href=\"#DejaVuSans-50\"/>\n     <use x=\"63.623047\" xlink:href=\"#DejaVuSans-53\"/>\n    </g>\n   </g>\n   <g id=\"text_8\">\n    <!-- 0.16 -->\n    <defs>\n     <path d=\"M 10.6875 12.40625 \nL 21 12.40625 \nL 21 0 \nL 10.6875 0 \nz\n\" id=\"DejaVuSans-46\"/>\n     <path d=\"M 33.015625 40.375 \nQ 26.375 40.375 22.484375 35.828125 \nQ 18.609375 31.296875 18.609375 23.390625 \nQ 18.609375 15.53125 22.484375 10.953125 \nQ 26.375 6.390625 33.015625 6.390625 \nQ 39.65625 6.390625 43.53125 10.953125 \nQ 47.40625 15.53125 47.40625 23.390625 \nQ 47.40625 31.296875 43.53125 35.828125 \nQ 39.65625 40.375 33.015625 40.375 \nz\nM 52.59375 71.296875 \nL 52.59375 62.3125 \nQ 48.875 64.0625 45.09375 64.984375 \nQ 41.3125 65.921875 37.59375 65.921875 \nQ 27.828125 65.921875 22.671875 59.328125 \nQ 17.53125 52.734375 16.796875 39.40625 \nQ 19.671875 43.65625 24.015625 45.921875 \nQ 28.375 48.1875 33.59375 48.1875 \nQ 44.578125 48.1875 50.953125 41.515625 \nQ 57.328125 34.859375 57.328125 23.390625 \nQ 57.328125 12.15625 50.6875 5.359375 \nQ 44.046875 -1.421875 33.015625 -1.421875 \nQ 20.359375 -1.421875 13.671875 8.265625 \nQ 6.984375 17.96875 6.984375 36.375 \nQ 6.984375 53.65625 15.1875 63.9375 \nQ 23.390625 74.21875 37.203125 74.21875 \nQ 40.921875 74.21875 44.703125 73.484375 \nQ 48.484375 72.75 52.59375 71.296875 \nz\n\" id=\"DejaVuSans-54\"/>\n    </defs>\n    <g style=\"fill:#ffffff;\" transform=\"translate(294.263438 138.119375)scale(0.1 -0.1)\">\n     <use xlink:href=\"#DejaVuSans-48\"/>\n     <use x=\"63.623047\" xlink:href=\"#DejaVuSans-46\"/>\n     <use x=\"95.410156\" xlink:href=\"#DejaVuSans-49\"/>\n     <use x=\"159.033203\" xlink:href=\"#DejaVuSans-54\"/>\n    </g>\n   </g>\n   <g id=\"text_9\">\n    <!-- 70 -->\n    <defs>\n     <path d=\"M 8.203125 72.90625 \nL 55.078125 72.90625 \nL 55.078125 68.703125 \nL 28.609375 0 \nL 18.3125 0 \nL 43.21875 64.59375 \nL 8.203125 64.59375 \nz\n\" id=\"DejaVuSans-55\"/>\n    </defs>\n    <g style=\"fill:#262626;\" transform=\"translate(120.47375 316.679375)scale(0.1 -0.1)\">\n     <use xlink:href=\"#DejaVuSans-55\"/>\n     <use x=\"63.623047\" xlink:href=\"#DejaVuSans-48\"/>\n    </g>\n   </g>\n   <g id=\"text_10\">\n    <!-- 5.6 -->\n    <g style=\"fill:#ffffff;\" transform=\"translate(297.444688 316.679375)scale(0.1 -0.1)\">\n     <use xlink:href=\"#DejaVuSans-53\"/>\n     <use x=\"63.623047\" xlink:href=\"#DejaVuSans-46\"/>\n     <use x=\"95.410156\" xlink:href=\"#DejaVuSans-54\"/>\n    </g>\n   </g>\n   <g id=\"text_11\">\n    <!-- KNN + SMOTE Confusion Matrix -->\n    <defs>\n     <path d=\"M 9.8125 72.90625 \nL 19.671875 72.90625 \nL 19.671875 42.09375 \nL 52.390625 72.90625 \nL 65.09375 72.90625 \nL 28.90625 38.921875 \nL 67.671875 0 \nL 54.6875 0 \nL 19.671875 35.109375 \nL 19.671875 0 \nL 9.8125 0 \nz\n\" id=\"DejaVuSans-75\"/>\n     <path d=\"M 9.8125 72.90625 \nL 23.09375 72.90625 \nL 55.421875 11.921875 \nL 55.421875 72.90625 \nL 64.984375 72.90625 \nL 64.984375 0 \nL 51.703125 0 \nL 19.390625 60.984375 \nL 19.390625 0 \nL 9.8125 0 \nz\n\" id=\"DejaVuSans-78\"/>\n     <path id=\"DejaVuSans-32\"/>\n     <path d=\"M 46 62.703125 \nL 46 35.5 \nL 73.1875 35.5 \nL 73.1875 27.203125 \nL 46 27.203125 \nL 46 0 \nL 37.796875 0 \nL 37.796875 27.203125 \nL 10.59375 27.203125 \nL 10.59375 35.5 \nL 37.796875 35.5 \nL 37.796875 62.703125 \nz\n\" id=\"DejaVuSans-43\"/>\n     <path d=\"M 53.515625 70.515625 \nL 53.515625 60.890625 \nQ 47.90625 63.578125 42.921875 64.890625 \nQ 37.9375 66.21875 33.296875 66.21875 \nQ 25.25 66.21875 20.875 63.09375 \nQ 16.5 59.96875 16.5 54.203125 \nQ 16.5 49.359375 19.40625 46.890625 \nQ 22.3125 44.4375 30.421875 42.921875 \nL 36.375 41.703125 \nQ 47.40625 39.59375 52.65625 34.296875 \nQ 57.90625 29 57.90625 20.125 \nQ 57.90625 9.515625 50.796875 4.046875 \nQ 43.703125 -1.421875 29.984375 -1.421875 \nQ 24.8125 -1.421875 18.96875 -0.25 \nQ 13.140625 0.921875 6.890625 3.21875 \nL 6.890625 13.375 \nQ 12.890625 10.015625 18.65625 8.296875 \nQ 24.421875 6.59375 29.984375 6.59375 \nQ 38.421875 6.59375 43.015625 9.90625 \nQ 47.609375 13.234375 47.609375 19.390625 \nQ 47.609375 24.75 44.3125 27.78125 \nQ 41.015625 30.8125 33.5 32.328125 \nL 27.484375 33.5 \nQ 16.453125 35.6875 11.515625 40.375 \nQ 6.59375 45.0625 6.59375 53.421875 \nQ 6.59375 63.09375 13.40625 68.65625 \nQ 20.21875 74.21875 32.171875 74.21875 \nQ 37.3125 74.21875 42.625 73.28125 \nQ 47.953125 72.359375 53.515625 70.515625 \nz\n\" id=\"DejaVuSans-83\"/>\n     <path d=\"M 9.8125 72.90625 \nL 24.515625 72.90625 \nL 43.109375 23.296875 \nL 61.8125 72.90625 \nL 76.515625 72.90625 \nL 76.515625 0 \nL 66.890625 0 \nL 66.890625 64.015625 \nL 48.09375 14.015625 \nL 38.1875 14.015625 \nL 19.390625 64.015625 \nL 19.390625 0 \nL 9.8125 0 \nz\n\" id=\"DejaVuSans-77\"/>\n     <path d=\"M 39.40625 66.21875 \nQ 28.65625 66.21875 22.328125 58.203125 \nQ 16.015625 50.203125 16.015625 36.375 \nQ 16.015625 22.609375 22.328125 14.59375 \nQ 28.65625 6.59375 39.40625 6.59375 \nQ 50.140625 6.59375 56.421875 14.59375 \nQ 62.703125 22.609375 62.703125 36.375 \nQ 62.703125 50.203125 56.421875 58.203125 \nQ 50.140625 66.21875 39.40625 66.21875 \nz\nM 39.40625 74.21875 \nQ 54.734375 74.21875 63.90625 63.9375 \nQ 73.09375 53.65625 73.09375 36.375 \nQ 73.09375 19.140625 63.90625 8.859375 \nQ 54.734375 -1.421875 39.40625 -1.421875 \nQ 24.03125 -1.421875 14.8125 8.828125 \nQ 5.609375 19.09375 5.609375 36.375 \nQ 5.609375 53.65625 14.8125 63.9375 \nQ 24.03125 74.21875 39.40625 74.21875 \nz\n\" id=\"DejaVuSans-79\"/>\n     <path d=\"M -0.296875 72.90625 \nL 61.375 72.90625 \nL 61.375 64.59375 \nL 35.5 64.59375 \nL 35.5 0 \nL 25.59375 0 \nL 25.59375 64.59375 \nL -0.296875 64.59375 \nz\n\" id=\"DejaVuSans-84\"/>\n     <path d=\"M 9.8125 72.90625 \nL 55.90625 72.90625 \nL 55.90625 64.59375 \nL 19.671875 64.59375 \nL 19.671875 43.015625 \nL 54.390625 43.015625 \nL 54.390625 34.71875 \nL 19.671875 34.71875 \nL 19.671875 8.296875 \nL 56.78125 8.296875 \nL 56.78125 0 \nL 9.8125 0 \nz\n\" id=\"DejaVuSans-69\"/>\n     <path d=\"M 64.40625 67.28125 \nL 64.40625 56.890625 \nQ 59.421875 61.53125 53.78125 63.8125 \nQ 48.140625 66.109375 41.796875 66.109375 \nQ 29.296875 66.109375 22.65625 58.46875 \nQ 16.015625 50.828125 16.015625 36.375 \nQ 16.015625 21.96875 22.65625 14.328125 \nQ 29.296875 6.6875 41.796875 6.6875 \nQ 48.140625 6.6875 53.78125 8.984375 \nQ 59.421875 11.28125 64.40625 15.921875 \nL 64.40625 5.609375 \nQ 59.234375 2.09375 53.4375 0.328125 \nQ 47.65625 -1.421875 41.21875 -1.421875 \nQ 24.65625 -1.421875 15.125 8.703125 \nQ 5.609375 18.84375 5.609375 36.375 \nQ 5.609375 53.953125 15.125 64.078125 \nQ 24.65625 74.21875 41.21875 74.21875 \nQ 47.75 74.21875 53.53125 72.484375 \nQ 59.328125 70.75 64.40625 67.28125 \nz\n\" id=\"DejaVuSans-67\"/>\n     <path d=\"M 30.609375 48.390625 \nQ 23.390625 48.390625 19.1875 42.75 \nQ 14.984375 37.109375 14.984375 27.296875 \nQ 14.984375 17.484375 19.15625 11.84375 \nQ 23.34375 6.203125 30.609375 6.203125 \nQ 37.796875 6.203125 41.984375 11.859375 \nQ 46.1875 17.53125 46.1875 27.296875 \nQ 46.1875 37.015625 41.984375 42.703125 \nQ 37.796875 48.390625 30.609375 48.390625 \nz\nM 30.609375 56 \nQ 42.328125 56 49.015625 48.375 \nQ 55.71875 40.765625 55.71875 27.296875 \nQ 55.71875 13.875 49.015625 6.21875 \nQ 42.328125 -1.421875 30.609375 -1.421875 \nQ 18.84375 -1.421875 12.171875 6.21875 \nQ 5.515625 13.875 5.515625 27.296875 \nQ 5.515625 40.765625 12.171875 48.375 \nQ 18.84375 56 30.609375 56 \nz\n\" id=\"DejaVuSans-111\"/>\n     <path d=\"M 54.890625 33.015625 \nL 54.890625 0 \nL 45.90625 0 \nL 45.90625 32.71875 \nQ 45.90625 40.484375 42.875 44.328125 \nQ 39.84375 48.1875 33.796875 48.1875 \nQ 26.515625 48.1875 22.3125 43.546875 \nQ 18.109375 38.921875 18.109375 30.90625 \nL 18.109375 0 \nL 9.078125 0 \nL 9.078125 54.6875 \nL 18.109375 54.6875 \nL 18.109375 46.1875 \nQ 21.34375 51.125 25.703125 53.5625 \nQ 30.078125 56 35.796875 56 \nQ 45.21875 56 50.046875 50.171875 \nQ 54.890625 44.34375 54.890625 33.015625 \nz\n\" id=\"DejaVuSans-110\"/>\n     <path d=\"M 37.109375 75.984375 \nL 37.109375 68.5 \nL 28.515625 68.5 \nQ 23.6875 68.5 21.796875 66.546875 \nQ 19.921875 64.59375 19.921875 59.515625 \nL 19.921875 54.6875 \nL 34.71875 54.6875 \nL 34.71875 47.703125 \nL 19.921875 47.703125 \nL 19.921875 0 \nL 10.890625 0 \nL 10.890625 47.703125 \nL 2.296875 47.703125 \nL 2.296875 54.6875 \nL 10.890625 54.6875 \nL 10.890625 58.5 \nQ 10.890625 67.625 15.140625 71.796875 \nQ 19.390625 75.984375 28.609375 75.984375 \nz\n\" id=\"DejaVuSans-102\"/>\n     <path d=\"M 44.28125 53.078125 \nL 44.28125 44.578125 \nQ 40.484375 46.53125 36.375 47.5 \nQ 32.28125 48.484375 27.875 48.484375 \nQ 21.1875 48.484375 17.84375 46.4375 \nQ 14.5 44.390625 14.5 40.28125 \nQ 14.5 37.15625 16.890625 35.375 \nQ 19.28125 33.59375 26.515625 31.984375 \nL 29.59375 31.296875 \nQ 39.15625 29.25 43.1875 25.515625 \nQ 47.21875 21.78125 47.21875 15.09375 \nQ 47.21875 7.46875 41.1875 3.015625 \nQ 35.15625 -1.421875 24.609375 -1.421875 \nQ 20.21875 -1.421875 15.453125 -0.5625 \nQ 10.6875 0.296875 5.421875 2 \nL 5.421875 11.28125 \nQ 10.40625 8.6875 15.234375 7.390625 \nQ 20.0625 6.109375 24.8125 6.109375 \nQ 31.15625 6.109375 34.5625 8.28125 \nQ 37.984375 10.453125 37.984375 14.40625 \nQ 37.984375 18.0625 35.515625 20.015625 \nQ 33.0625 21.96875 24.703125 23.78125 \nL 21.578125 24.515625 \nQ 13.234375 26.265625 9.515625 29.90625 \nQ 5.8125 33.546875 5.8125 39.890625 \nQ 5.8125 47.609375 11.28125 51.796875 \nQ 16.75 56 26.8125 56 \nQ 31.78125 56 36.171875 55.265625 \nQ 40.578125 54.546875 44.28125 53.078125 \nz\n\" id=\"DejaVuSans-115\"/>\n     <path d=\"M 54.890625 54.6875 \nL 35.109375 28.078125 \nL 55.90625 0 \nL 45.3125 0 \nL 29.390625 21.484375 \nL 13.484375 0 \nL 2.875 0 \nL 24.125 28.609375 \nL 4.6875 54.6875 \nL 15.28125 54.6875 \nL 29.78125 35.203125 \nL 44.28125 54.6875 \nz\n\" id=\"DejaVuSans-120\"/>\n    </defs>\n    <g transform=\"translate(120.64875 40.08)scale(0.12 -0.12)\">\n     <use xlink:href=\"#DejaVuSans-75\"/>\n     <use x=\"65.576172\" xlink:href=\"#DejaVuSans-78\"/>\n     <use x=\"140.380859\" xlink:href=\"#DejaVuSans-78\"/>\n     <use x=\"215.185547\" xlink:href=\"#DejaVuSans-32\"/>\n     <use x=\"246.972656\" xlink:href=\"#DejaVuSans-43\"/>\n     <use x=\"330.761719\" xlink:href=\"#DejaVuSans-32\"/>\n     <use x=\"362.548828\" xlink:href=\"#DejaVuSans-83\"/>\n     <use x=\"426.025391\" xlink:href=\"#DejaVuSans-77\"/>\n     <use x=\"512.304688\" xlink:href=\"#DejaVuSans-79\"/>\n     <use x=\"591.015625\" xlink:href=\"#DejaVuSans-84\"/>\n     <use x=\"652.099609\" xlink:href=\"#DejaVuSans-69\"/>\n     <use x=\"715.283203\" xlink:href=\"#DejaVuSans-32\"/>\n     <use x=\"747.070312\" xlink:href=\"#DejaVuSans-67\"/>\n     <use x=\"816.894531\" xlink:href=\"#DejaVuSans-111\"/>\n     <use x=\"878.076172\" xlink:href=\"#DejaVuSans-110\"/>\n     <use x=\"941.455078\" xlink:href=\"#DejaVuSans-102\"/>\n     <use x=\"976.660156\" xlink:href=\"#DejaVuSans-117\"/>\n     <use x=\"1040.039062\" xlink:href=\"#DejaVuSans-115\"/>\n     <use x=\"1092.138672\" xlink:href=\"#DejaVuSans-105\"/>\n     <use x=\"1119.921875\" xlink:href=\"#DejaVuSans-111\"/>\n     <use x=\"1181.103516\" xlink:href=\"#DejaVuSans-110\"/>\n     <use x=\"1244.482422\" xlink:href=\"#DejaVuSans-32\"/>\n     <use x=\"1276.269531\" xlink:href=\"#DejaVuSans-77\"/>\n     <use x=\"1362.548828\" xlink:href=\"#DejaVuSans-97\"/>\n     <use x=\"1423.828125\" xlink:href=\"#DejaVuSans-116\"/>\n     <use x=\"1463.037109\" xlink:href=\"#DejaVuSans-114\"/>\n     <use x=\"1504.150391\" xlink:href=\"#DejaVuSans-105\"/>\n     <use x=\"1531.933594\" xlink:href=\"#DejaVuSans-120\"/>\n    </g>\n   </g>\n  </g>\n  <g id=\"axes_2\">\n   <g id=\"patch_3\">\n    <path clip-path=\"url(#p131e8a80b7)\" d=\"M 416.99625 442.08 \nL 416.99625 440.38125 \nL 416.99625 8.89875 \nL 416.99625 7.2 \nL 438.74025 7.2 \nL 438.74025 8.89875 \nL 438.74025 440.38125 \nL 438.74025 442.08 \nz\n\" style=\"fill:#ffffff;stroke:#ffffff;stroke-linejoin:miter;stroke-width:0.01;\"/>\n   </g>\n   <image height=\"435\" id=\"image56239df517\" transform=\"scale(1 -1)translate(0 -435)\" width=\"22\" x=\"417\" xlink:href=\"data:image/png;base64,\niVBORw0KGgoAAAANSUhEUgAAABYAAAGzCAYAAAArEufSAAAABHNCSVQICAgIfAhkiAAAAj9JREFUeJztnMFtA0EMA7XrTRPpv0/74ZXODfAxwLAAQiAp6i5wbr3+/t8VwFkJ1qraId46a2Vm5k18VinFF7mJN27iVCqIUuAm3inzgFLgJo4VfSoVPCl4tclbEKB5LsgQE6XIcPO6gnjzcHFT4yFWigYvbkQpcBN7pRvAh0IXZIh55vEWJGdehJZ483hdAcyxXdFAxi0D4zZIFj1PigyI5gFznAGvNoFx07wG0Dyf6Bu8dkPmOAO7YpCLG/HlJgNg0bt5DeDmmeMGzzxeu2neQPMGQfMi/1BAjBuy6DPgnSbNG9gVg2TRZ2DcBrG42RUD3sRn4UpI8xp2xUDzBpo3OLsyWgDN4+UYGLc3Lm4pYqB5dkUTL54UIWLexJo3SJ4mnsaZic8ONb3mDYJdEXr9T/5kijZx7o+mPClwExM1jhHTpNC8H2KaFEDzQu9jsVTwpPA0DWILckIfjtG8B3bFgNgVmneBNC9DzGs3ohTGrYkLePMyxLyJgVKkqHnm8TRWikEybqGfYitFgxe3UzgpNO+HmCYF0TwnvsS8b91o3g9xZmieFLx2A0pRuK+7AzWOFb1dccFbEKIUxm2Irc2L5JVW4yY2bhe8djsFfB3jxc0r/QWyK2gT514gNe+CN7FFP+C1G1EK3sQuSJqYt3lE85Tighc3ohS8iV2QIVaKC17cgFKs9YoQ8+IGNM+uaPA0PrVxm2fchhgnhUX/EOPMszYfYmvzwrgNzvKJ/gIZt8xKI6WgTezmNZBxgx3TDwE4LyXcHD4dAAAAAElFTkSuQmCC\" y=\"-7\"/>\n   <g id=\"matplotlib.axis_3\"/>\n   <g id=\"matplotlib.axis_4\">\n    <g id=\"ytick_3\">\n     <g id=\"line2d_5\">\n      <defs>\n       <path d=\"M 0 0 \nL 3.5 0 \n\" id=\"mcc019a9007\" style=\"stroke:#000000;stroke-width:0.8;\"/>\n      </defs>\n      <g>\n       <use style=\"stroke:#000000;stroke-width:0.8;\" x=\"438.74025\" xlink:href=\"#mcc019a9007\" y=\"380.48958\"/>\n      </g>\n     </g>\n     <g id=\"text_12\">\n      <!-- 10 -->\n      <g transform=\"translate(445.74025 384.288799)scale(0.1 -0.1)\">\n       <use xlink:href=\"#DejaVuSans-49\"/>\n       <use x=\"63.623047\" xlink:href=\"#DejaVuSans-48\"/>\n      </g>\n     </g>\n    </g>\n    <g id=\"ytick_4\">\n     <g id=\"line2d_6\">\n      <g>\n       <use style=\"stroke:#000000;stroke-width:0.8;\" x=\"438.74025\" xlink:href=\"#mcc019a9007\" y=\"317.894586\"/>\n      </g>\n     </g>\n     <g id=\"text_13\">\n      <!-- 20 -->\n      <g transform=\"translate(445.74025 321.693805)scale(0.1 -0.1)\">\n       <use xlink:href=\"#DejaVuSans-50\"/>\n       <use x=\"63.623047\" xlink:href=\"#DejaVuSans-48\"/>\n      </g>\n     </g>\n    </g>\n    <g id=\"ytick_5\">\n     <g id=\"line2d_7\">\n      <g>\n       <use style=\"stroke:#000000;stroke-width:0.8;\" x=\"438.74025\" xlink:href=\"#mcc019a9007\" y=\"255.299593\"/>\n      </g>\n     </g>\n     <g id=\"text_14\">\n      <!-- 30 -->\n      <defs>\n       <path d=\"M 40.578125 39.3125 \nQ 47.65625 37.796875 51.625 33 \nQ 55.609375 28.21875 55.609375 21.1875 \nQ 55.609375 10.40625 48.1875 4.484375 \nQ 40.765625 -1.421875 27.09375 -1.421875 \nQ 22.515625 -1.421875 17.65625 -0.515625 \nQ 12.796875 0.390625 7.625 2.203125 \nL 7.625 11.71875 \nQ 11.71875 9.328125 16.59375 8.109375 \nQ 21.484375 6.890625 26.8125 6.890625 \nQ 36.078125 6.890625 40.9375 10.546875 \nQ 45.796875 14.203125 45.796875 21.1875 \nQ 45.796875 27.640625 41.28125 31.265625 \nQ 36.765625 34.90625 28.71875 34.90625 \nL 20.21875 34.90625 \nL 20.21875 43.015625 \nL 29.109375 43.015625 \nQ 36.375 43.015625 40.234375 45.921875 \nQ 44.09375 48.828125 44.09375 54.296875 \nQ 44.09375 59.90625 40.109375 62.90625 \nQ 36.140625 65.921875 28.71875 65.921875 \nQ 24.65625 65.921875 20.015625 65.03125 \nQ 15.375 64.15625 9.8125 62.3125 \nL 9.8125 71.09375 \nQ 15.4375 72.65625 20.34375 73.4375 \nQ 25.25 74.21875 29.59375 74.21875 \nQ 40.828125 74.21875 47.359375 69.109375 \nQ 53.90625 64.015625 53.90625 55.328125 \nQ 53.90625 49.265625 50.4375 45.09375 \nQ 46.96875 40.921875 40.578125 39.3125 \nz\n\" id=\"DejaVuSans-51\"/>\n      </defs>\n      <g transform=\"translate(445.74025 259.098811)scale(0.1 -0.1)\">\n       <use xlink:href=\"#DejaVuSans-51\"/>\n       <use x=\"63.623047\" xlink:href=\"#DejaVuSans-48\"/>\n      </g>\n     </g>\n    </g>\n    <g id=\"ytick_6\">\n     <g id=\"line2d_8\">\n      <g>\n       <use style=\"stroke:#000000;stroke-width:0.8;\" x=\"438.74025\" xlink:href=\"#mcc019a9007\" y=\"192.704599\"/>\n      </g>\n     </g>\n     <g id=\"text_15\">\n      <!-- 40 -->\n      <defs>\n       <path d=\"M 37.796875 64.3125 \nL 12.890625 25.390625 \nL 37.796875 25.390625 \nz\nM 35.203125 72.90625 \nL 47.609375 72.90625 \nL 47.609375 25.390625 \nL 58.015625 25.390625 \nL 58.015625 17.1875 \nL 47.609375 17.1875 \nL 47.609375 0 \nL 37.796875 0 \nL 37.796875 17.1875 \nL 4.890625 17.1875 \nL 4.890625 26.703125 \nz\n\" id=\"DejaVuSans-52\"/>\n      </defs>\n      <g transform=\"translate(445.74025 196.503818)scale(0.1 -0.1)\">\n       <use xlink:href=\"#DejaVuSans-52\"/>\n       <use x=\"63.623047\" xlink:href=\"#DejaVuSans-48\"/>\n      </g>\n     </g>\n    </g>\n    <g id=\"ytick_7\">\n     <g id=\"line2d_9\">\n      <g>\n       <use style=\"stroke:#000000;stroke-width:0.8;\" x=\"438.74025\" xlink:href=\"#mcc019a9007\" y=\"130.109605\"/>\n      </g>\n     </g>\n     <g id=\"text_16\">\n      <!-- 50 -->\n      <g transform=\"translate(445.74025 133.908824)scale(0.1 -0.1)\">\n       <use xlink:href=\"#DejaVuSans-53\"/>\n       <use x=\"63.623047\" xlink:href=\"#DejaVuSans-48\"/>\n      </g>\n     </g>\n    </g>\n    <g id=\"ytick_8\">\n     <g id=\"line2d_10\">\n      <g>\n       <use style=\"stroke:#000000;stroke-width:0.8;\" x=\"438.74025\" xlink:href=\"#mcc019a9007\" y=\"67.514611\"/>\n      </g>\n     </g>\n     <g id=\"text_17\">\n      <!-- 60 -->\n      <g transform=\"translate(445.74025 71.31383)scale(0.1 -0.1)\">\n       <use xlink:href=\"#DejaVuSans-54\"/>\n       <use x=\"63.623047\" xlink:href=\"#DejaVuSans-48\"/>\n      </g>\n     </g>\n    </g>\n   </g>\n   <g id=\"patch_4\">\n    <path d=\"M 416.99625 442.08 \nL 416.99625 440.38125 \nL 416.99625 8.89875 \nL 416.99625 7.2 \nL 438.74025 7.2 \nL 438.74025 8.89875 \nL 438.74025 440.38125 \nL 438.74025 442.08 \nz\n\" style=\"fill:none;\"/>\n   </g>\n  </g>\n </g>\n <defs>\n  <clipPath id=\"pf46ffa835f\">\n   <rect height=\"357.12\" width=\"357.12\" x=\"37.55625\" y=\"46.08\"/>\n  </clipPath>\n  <clipPath id=\"p131e8a80b7\">\n   <rect height=\"434.88\" width=\"21.744\" x=\"416.99625\" y=\"7.2\"/>\n  </clipPath>\n </defs>\n</svg>\n",
      "image/png": "[encoded data removed]"
     },
     "metadata": {
      "needs_background": "light"
     }
    },
    {
     "output_type": "stream",
     "name": "stdout",
     "text": [
      "time: 249 ms\nIn [133] used -16.4102 MiB RAM in 0.35s, peaked 18.97 MiB above current, total RAM usage 808.27 MiB\n"
     ]
    }
   ],
   "source": [
    "make_heatmap(y_test, y_pred, \"KNN + SMOTE\")"
   ]
  },
  {
   "cell_type": "code",
   "execution_count": 135,
   "metadata": {},
   "outputs": [
    {
     "output_type": "execute_result",
     "data": {
      "text/plain": [
       "array([[ 984,  560],\n",
       "       [1952, 2735]])"
      ]
     },
     "metadata": {},
     "execution_count": 135
    },
    {
     "output_type": "stream",
     "name": "stdout",
     "text": [
      "time: 31.8 ms\nIn [135] used 0.8555 MiB RAM in 0.13s, peaked 0.00 MiB above current, total RAM usage 471.41 MiB\n"
     ]
    }
   ],
   "source": [
    "confusion_matrix(y_test, y_pred)"
   ]
  },
  {
   "cell_type": "code",
   "execution_count": 89,
   "metadata": {},
   "outputs": [
    {
     "output_type": "stream",
     "name": "stdout",
     "text": [
      "Training set:  0.53969019670901\n",
      "Test set:  0.2917669715936447\n",
      "              precision    recall  f1-score   support\n",
      "\n",
      "           0       0.26      0.99      0.41      1544\n",
      "           1       0.96      0.06      0.11      4687\n",
      "\n",
      "    accuracy                           0.29      6231\n",
      "   macro avg       0.61      0.53      0.26      6231\n",
      "weighted avg       0.79      0.29      0.19      6231\n",
      "\n",
      "time: 1min 47s\n",
      "In [89] used 1.8047 MiB RAM in 107.56s, peaked 177.50 MiB above current, total RAM usage 557.64 MiB\n"
     ]
    }
   ],
   "source": [
    "X_adasyn, y_adasyn = ADASYN(sampling_strategy=\"minority\", random_state=42).fit_sample(X_train, y_train)\n",
    "knn.fit(X_adasyn, np.array(y_adasyn).ravel())\n",
    "y_pred = knn.predict(X_test)\n",
    "print(\"Training set: \", knn.score(X_adasyn, y_adasyn))\n",
    "print(\"Test set: \", knn.score(X_test, y_test))\n",
    "print(classification_report(y_test, y_pred))"
   ]
  },
  {
   "cell_type": "code",
   "execution_count": 137,
   "metadata": {},
   "outputs": [
    {
     "output_type": "execute_result",
     "data": {
      "text/plain": [
       "array([[1533,   11],\n",
       "       [4402,  285]])"
      ]
     },
     "metadata": {},
     "execution_count": 137
    },
    {
     "output_type": "stream",
     "name": "stdout",
     "text": [
      "time: 15.3 ms\n",
      "In [137] used 0.0352 MiB RAM in 0.12s, peaked 0.00 MiB above current, total RAM usage 483.62 MiB\n"
     ]
    }
   ],
   "source": [
    "confusion_matrix(y_test, y_pred)"
   ]
  },
  {
   "cell_type": "code",
   "execution_count": 96,
   "metadata": {},
   "outputs": [
    {
     "output_type": "stream",
     "name": "stdout",
     "text": [
      "Training set:  0.7799446250150476\nTest set:  0.7782057454662173\n              precision    recall  f1-score   support\n\n           0       0.61      0.29      0.39      1544\n           1       0.80      0.94      0.86      4687\n\n    accuracy                           0.78      6231\n   macro avg       0.71      0.62      0.63      6231\nweighted avg       0.75      0.78      0.75      6231\n\ntime: 2.58 s\nIn [96] used 37.5273 MiB RAM in 2.68s, peaked 0.00 MiB above current, total RAM usage 675.80 MiB\n"
     ]
    }
   ],
   "source": [
    "log_reg_base = LogisticRegression(max_iter=5000)\n",
    "log_reg_base.fit(X_train, np.array(y_train).ravel())\n",
    "y_pred = log_reg_base.predict(X_test)\n",
    "print(\"Training set: \", log_reg_base.score(X_train, y_train))\n",
    "print(\"Test set: \", log_reg_base.score(X_test, y_test))\n",
    "print(classification_report(y_test, y_pred))"
   ]
  },
  {
   "cell_type": "code",
   "execution_count": 139,
   "metadata": {},
   "outputs": [
    {
     "output_type": "stream",
     "name": "stdout",
     "text": [
      "Training set:  0.8535798122065728\nTest set:  0.7783662333493822\n              precision    recall  f1-score   support\n\n           0       0.61      0.30      0.40      1544\n           1       0.80      0.94      0.86      4687\n\n    accuracy                           0.78      6231\n   macro avg       0.70      0.62      0.63      6231\nweighted avg       0.75      0.78      0.75      6231\n\ntime: 6.52 s\nIn [139] used 1.1523 MiB RAM in 6.63s, peaked 128.64 MiB above current, total RAM usage 594.34 MiB\n"
     ]
    }
   ],
   "source": [
    "X_smote, y_smote = SMOTE(random_state=42).fit_sample(X_train, y_train)\n",
    "log_reg.fit(X_smote, np.array(y_smote).ravel())\n",
    "y_pred = log_reg.predict(X_test)\n",
    "print(\"Training set: \", log_reg.score(X_smote, y_smote))\n",
    "print(\"Test set: \", log_reg.score(X_test, y_test))\n",
    "print(classification_report(y_test, y_pred))"
   ]
  },
  {
   "cell_type": "code",
   "execution_count": 136,
   "metadata": {},
   "outputs": [
    {
     "output_type": "error",
     "ename": "NameError",
     "evalue": "name 'log_reg_ros' is not defined",
     "traceback": [
      "\u001b[0;31m---------------------------------------------------------------------------\u001b[0m",
      "\u001b[0;31mNameError\u001b[0m                                 Traceback (most recent call last)",
      "\u001b[0;32m<ipython-input-136-84ea685eb3a7>\u001b[0m in \u001b[0;36m<module>\u001b[0;34m\u001b[0m\n\u001b[1;32m      1\u001b[0m \u001b[0mX_ROS\u001b[0m\u001b[0;34m,\u001b[0m \u001b[0my_ROS\u001b[0m \u001b[0;34m=\u001b[0m \u001b[0mRandomOverSampler\u001b[0m\u001b[0;34m(\u001b[0m\u001b[0mrandom_state\u001b[0m\u001b[0;34m=\u001b[0m\u001b[0;36m42\u001b[0m\u001b[0;34m)\u001b[0m\u001b[0;34m.\u001b[0m\u001b[0mfit_sample\u001b[0m\u001b[0;34m(\u001b[0m\u001b[0mX_train\u001b[0m\u001b[0;34m,\u001b[0m \u001b[0my_train\u001b[0m\u001b[0;34m)\u001b[0m\u001b[0;34m\u001b[0m\u001b[0;34m\u001b[0m\u001b[0m\n\u001b[0;32m----> 2\u001b[0;31m \u001b[0mlog_reg_ros\u001b[0m\u001b[0;34m.\u001b[0m\u001b[0mfit\u001b[0m\u001b[0;34m(\u001b[0m\u001b[0mX_ROS\u001b[0m\u001b[0;34m,\u001b[0m \u001b[0mnp\u001b[0m\u001b[0;34m.\u001b[0m\u001b[0marray\u001b[0m\u001b[0;34m(\u001b[0m\u001b[0my_ROS\u001b[0m\u001b[0;34m)\u001b[0m\u001b[0;34m.\u001b[0m\u001b[0mravel\u001b[0m\u001b[0;34m(\u001b[0m\u001b[0;34m)\u001b[0m\u001b[0;34m)\u001b[0m\u001b[0;34m\u001b[0m\u001b[0;34m\u001b[0m\u001b[0m\n\u001b[0m\u001b[1;32m      3\u001b[0m \u001b[0my_pred\u001b[0m \u001b[0;34m=\u001b[0m \u001b[0mlog_reg_ros\u001b[0m\u001b[0;34m.\u001b[0m\u001b[0mpredict\u001b[0m\u001b[0;34m(\u001b[0m\u001b[0mX_test\u001b[0m\u001b[0;34m)\u001b[0m\u001b[0;34m\u001b[0m\u001b[0;34m\u001b[0m\u001b[0m\n\u001b[1;32m      4\u001b[0m \u001b[0mprint\u001b[0m\u001b[0;34m(\u001b[0m\u001b[0;34m\"Training set: \"\u001b[0m\u001b[0;34m,\u001b[0m \u001b[0mlog_reg_ros\u001b[0m\u001b[0;34m.\u001b[0m\u001b[0mscore\u001b[0m\u001b[0;34m(\u001b[0m\u001b[0mX_ROS\u001b[0m\u001b[0;34m,\u001b[0m \u001b[0my_ROS\u001b[0m\u001b[0;34m)\u001b[0m\u001b[0;34m)\u001b[0m\u001b[0;34m\u001b[0m\u001b[0;34m\u001b[0m\u001b[0m\n\u001b[1;32m      5\u001b[0m \u001b[0mprint\u001b[0m\u001b[0;34m(\u001b[0m\u001b[0;34m\"Test set: \"\u001b[0m\u001b[0;34m,\u001b[0m \u001b[0mlog_reg_ros\u001b[0m\u001b[0;34m.\u001b[0m\u001b[0mscore\u001b[0m\u001b[0;34m(\u001b[0m\u001b[0mX_test\u001b[0m\u001b[0;34m,\u001b[0m \u001b[0my_test\u001b[0m\u001b[0;34m)\u001b[0m\u001b[0;34m)\u001b[0m\u001b[0;34m\u001b[0m\u001b[0;34m\u001b[0m\u001b[0m\n",
      "\u001b[0;31mNameError\u001b[0m: name 'log_reg_ros' is not defined"
     ]
    }
   ],
   "source": [
    "X_ROS, y_ROS = RandomOverSampler(random_state=42).fit_sample(X_train, y_train)\n",
    "log_reg_ros.fit(X_ROS, np.array(y_ROS).ravel())\n",
    "y_pred = log_reg_ros.predict(X_test)\n",
    "print(\"Training set: \", log_reg_ros.score(X_ROS, y_ROS))\n",
    "print(\"Test set: \", log_reg_ros.score(X_test, y_test))\n",
    "print(classification_report(y_test, y_pred))"
   ]
  },
  {
   "cell_type": "code",
   "execution_count": 141,
   "metadata": {},
   "outputs": [
    {
     "output_type": "stream",
     "name": "stdout",
     "text": [
      "time: 6.27 ms\n",
      "In [141] used 0.1953 MiB RAM in 0.11s, peaked 0.00 MiB above current, total RAM usage 541.17 MiB\n"
     ]
    }
   ],
   "source": [
    "XGBoost = XGBClassifier(n_estimators=30000,\n",
    "                        num_class=2,\n",
    "                        max_depth=3,\n",
    "                        objective=\"binary:logistic\", \n",
    "                        learning_rate=.1, \n",
    "                        subsample=1, \n",
    "                        min_child_weight=1,\n",
    "                        colsample_bytree=.8\n",
    "                        )"
   ]
  },
  {
   "cell_type": "code",
   "execution_count": 142,
   "metadata": {},
   "outputs": [
    {
     "output_type": "stream",
     "name": "stdout",
     "text": [
      "time: 7.67 ms\n",
      "In [142] used 0.3164 MiB RAM in 0.11s, peaked 0.00 MiB above current, total RAM usage 541.48 MiB\n"
     ]
    }
   ],
   "source": [
    "\n",
    "# defining and instantiating other models\n",
    "models = {\"KNN\": KNeighborsClassifier(n_neighbors=10),\n",
    "          \"Logistic Reg\": LogisticRegression(max_iter=5000), \n",
    "          \"Decision Tree\": DecisionTreeClassifier(),\n",
    "          \"Random Forest\": RandomForestClassifier(),\n",
    "          \"BernoulliNB\": BernoulliNB(),\n",
    "          \n",
    "         }\n",
    "#\"XGBoost\": XGBoost"
   ]
  },
  {
   "cell_type": "code",
   "execution_count": 143,
   "metadata": {},
   "outputs": [
    {
     "output_type": "stream",
     "name": "stdout",
     "text": [
      "KNN :\n",
      "Accuracy: 0.29713891272533494, Variance: 5.137745412675263e-06\n",
      "Precision: 0.8012149683165987, Variance: 0.00014260321428900626\n",
      "Recall: 0.29713891272533494, Variance: 5.137745412675263e-06\n",
      "F1 Score: 0.19650741442721406, Variance: 2.1888532594902687e-05\n",
      " \n",
      "Logistic Reg :\n",
      "Accuracy: 0.7745276439269655, Variance: 8.805950008920915e-06\n",
      "Precision: 0.7483915554742808, Variance: 1.9248170290597903e-05\n",
      "Recall: 0.7745276439269655, Variance: 8.805950008920915e-06\n",
      "F1 Score: 0.7451716193551425, Variance: 1.754776640982938e-05\n",
      " \n",
      "Decision Tree :\n",
      "Accuracy: 0.6679911725545818, Variance: 3.298632347100781e-05\n",
      "Precision: 0.6865262746936958, Variance: 1.3349849287672204e-05\n",
      "Recall: 0.6679911725545818, Variance: 3.298632347100781e-05\n",
      "F1 Score: 0.67615751853676, Variance: 2.0291814746605166e-05\n",
      " \n",
      "Random Forest :\n",
      "Accuracy: 0.7346016862787399, Variance: 3.968542598710199e-05\n",
      "Precision: 0.7264078381019271, Variance: 3.169987431736091e-05\n",
      "Recall: 0.7346016862787399, Variance: 3.968542598710199e-05\n",
      "F1 Score: 0.7300587866016929, Variance: 3.285656957378783e-05\n",
      " \n",
      "BernoulliNB :\n",
      "Accuracy: 0.7433891481829115, Variance: 3.876245627040389e-05\n",
      "Precision: 0.7100763208210121, Variance: 4.309169721104795e-05\n",
      "Recall: 0.7433891481829115, Variance: 3.876245627040389e-05\n",
      "F1 Score: 0.7174175037063647, Variance: 2.7484943022354232e-05\n",
      " \n",
      "time: 2min 44s\n",
      "In [143] used 285.9336 MiB RAM in 164.29s, peaked 276.00 MiB above current, total RAM usage 827.42 MiB\n"
     ]
    }
   ],
   "source": [
    "for model_name, model in models.items():\n",
    "    average_metrics_pipeline(X_train, y_train, model_name, model, SMOTE(random_state=42))\n",
    "    print(\" \")"
   ]
  },
  {
   "cell_type": "code",
   "execution_count": 144,
   "metadata": {},
   "outputs": [
    {
     "output_type": "stream",
     "name": "stdout",
     "text": [
      "KNN :\n",
      "Accuracy: 0.5947995108922273, Variance: 3.8251022472075196e-05\n",
      "Precision: 0.7027419796112657, Variance: 2.615016939033035e-05\n",
      "Recall: 0.5947995108922273, Variance: 3.8251022472075196e-05\n",
      "F1 Score: 0.6223509459071835, Variance: 3.2848869991505345e-05\n",
      " \n",
      "Logistic Reg :\n",
      "Accuracy: 0.6874123655074372, Variance: 2.5389217162652427e-05\n",
      "Precision: 0.760357769199643, Variance: 1.150901863747731e-05\n",
      "Recall: 0.6874123655074372, Variance: 2.5389217162652427e-05\n",
      "F1 Score: 0.707017814766944, Variance: 2.040403792309157e-05\n",
      " \n",
      "Decision Tree :\n",
      "Accuracy: 0.6909035372570359, Variance: 3.903841258662738e-05\n",
      "Precision: 0.6947843869560673, Variance: 1.0461032927321648e-05\n",
      "Recall: 0.6909035372570359, Variance: 3.903841258662738e-05\n",
      "F1 Score: 0.6927486677867727, Variance: 2.181970357590007e-05\n",
      " \n",
      "Random Forest :\n",
      "Accuracy: 0.756229724486461, Variance: 1.9983696764617592e-05\n",
      "Precision: 0.731923342032294, Variance: 1.8411060095329423e-05\n",
      "Recall: 0.756229724486461, Variance: 1.9983696764617592e-05\n",
      "F1 Score: 0.7379227799108918, Variance: 1.3590163953453053e-05\n",
      " \n",
      "BernoulliNB :\n",
      "Accuracy: 0.647165235674922, Variance: 1.7429851575008397e-05\n",
      "Precision: 0.7399668576963128, Variance: 1.6600050631124958e-05\n",
      "Recall: 0.647165235674922, Variance: 1.7429851575008397e-05\n",
      "F1 Score: 0.6706835708027115, Variance: 1.5152807728593871e-05\n",
      " \n",
      "time: 1min 51s\n",
      "In [144] used -40.9219 MiB RAM in 111.30s, peaked 212.25 MiB above current, total RAM usage 786.50 MiB\n"
     ]
    }
   ],
   "source": [
    "for model_name, model in models.items():\n",
    "    average_metrics_pipeline(X_train, y_train, model_name, model, RandomOverSampler(random_state=42))\n",
    "    print(\" \")"
   ]
  },
  {
   "cell_type": "code",
   "execution_count": 145,
   "metadata": {},
   "outputs": [
    {
     "output_type": "stream",
     "name": "stdout",
     "text": [
      "KNN :\n",
      "Accuracy: 0.292484250504322, Variance: 3.2962063138361537e-07\n",
      "Precision: 0.8003083426730846, Variance: 0.00010419080194624101\n",
      "Recall: 0.292484250504322, Variance: 3.2962063138361537e-07\n",
      "F1 Score: 0.18779485398249932, Variance: 1.1990163778925526e-06\n",
      " \n",
      "Logistic Reg :\n",
      "Accuracy: 0.7749289038866197, Variance: 7.260847693075193e-06\n",
      "Precision: 0.748925538701635, Variance: 1.6095353990380673e-05\n",
      "Recall: 0.7749289038866197, Variance: 7.260847693075193e-06\n",
      "F1 Score: 0.7454049893044571, Variance: 1.547508561950104e-05\n",
      " \n",
      "Decision Tree :\n",
      "Accuracy: 0.6657441183904844, Variance: 4.0986884039474956e-05\n",
      "Precision: 0.6899585219938921, Variance: 3.772886060392062e-05\n",
      "Recall: 0.6657441183904844, Variance: 4.0986884039474956e-05\n",
      "F1 Score: 0.676042566836533, Variance: 3.781765571320897e-05\n",
      " \n",
      "Random Forest :\n",
      "Accuracy: 0.7307491414854516, Variance: 2.1705629178383382e-06\n",
      "Precision: 0.7210689472478967, Variance: 1.3017980951594411e-05\n",
      "Recall: 0.7307491414854516, Variance: 2.1705629178383382e-06\n",
      "F1 Score: 0.7253110315717838, Variance: 6.3211565663907566e-06\n",
      " \n",
      "BernoulliNB :\n",
      "Accuracy: 0.7474020697727211, Variance: 7.292480594163027e-05\n",
      "Precision: 0.711256791448207, Variance: 0.00010591551953085145\n",
      "Recall: 0.7474020697727211, Variance: 7.292480594163027e-05\n",
      "F1 Score: 0.7166412561938739, Variance: 5.738791479911937e-05\n",
      " \n",
      "time: 5min 42s\n",
      "In [145] used 13.1172 MiB RAM in 342.13s, peaked 339.91 MiB above current, total RAM usage 799.61 MiB\n"
     ]
    }
   ],
   "source": [
    "for model_name, model in models.items():\n",
    "    average_metrics_pipeline(X_train, y_train, model_name, model, ADASYN(random_state=42, sampling_strategy=\"minority\"))\n",
    "    print(\" \")"
   ]
  },
  {
   "cell_type": "code",
   "execution_count": 146,
   "metadata": {},
   "outputs": [
    {
     "output_type": "stream",
     "name": "stdout",
     "text": [
      "KNN               precision    recall  f1-score   support\n",
      "\n",
      "           0       0.31      0.61      0.41      1200\n",
      "           1       0.82      0.57      0.68      3785\n",
      "\n",
      "    accuracy                           0.58      4985\n",
      "   macro avg       0.57      0.59      0.54      4985\n",
      "weighted avg       0.70      0.58      0.61      4985\n",
      "\n",
      " \n",
      "Logistic Reg               precision    recall  f1-score   support\n",
      "\n",
      "           0       0.40      0.70      0.51      1200\n",
      "           1       0.87      0.67      0.76      3785\n",
      "\n",
      "    accuracy                           0.68      4985\n",
      "   macro avg       0.64      0.68      0.63      4985\n",
      "weighted avg       0.76      0.68      0.70      4985\n",
      "\n",
      " \n",
      "Decision Tree               precision    recall  f1-score   support\n",
      "\n",
      "           0       0.37      0.43      0.40      1200\n",
      "           1       0.81      0.77      0.79      3785\n",
      "\n",
      "    accuracy                           0.69      4985\n",
      "   macro avg       0.59      0.60      0.59      4985\n",
      "weighted avg       0.70      0.69      0.69      4985\n",
      "\n",
      " \n",
      "Random Forest               precision    recall  f1-score   support\n",
      "\n",
      "           0       0.50      0.34      0.41      1200\n",
      "           1       0.81      0.89      0.85      3785\n",
      "\n",
      "    accuracy                           0.76      4985\n",
      "   macro avg       0.66      0.62      0.63      4985\n",
      "weighted avg       0.74      0.76      0.74      4985\n",
      "\n",
      " \n",
      "BernoulliNB               precision    recall  f1-score   support\n",
      "\n",
      "           0       0.36      0.68      0.47      1200\n",
      "           1       0.86      0.62      0.72      3785\n",
      "\n",
      "    accuracy                           0.63      4985\n",
      "   macro avg       0.61      0.65      0.60      4985\n",
      "weighted avg       0.74      0.63      0.66      4985\n",
      "\n",
      " \n",
      "time: 22.1 s\n",
      "In [146] used 39.1250 MiB RAM in 22.18s, peaked 53.96 MiB above current, total RAM usage 838.74 MiB\n"
     ]
    }
   ],
   "source": [
    "for model_name, model in models.items():\n",
    "    classification_reports_pipeline(X_train, y_train, model_name, model, RandomOverSampler(random_state=42))\n",
    "    print(\" \")"
   ]
  },
  {
   "cell_type": "code",
   "execution_count": 147,
   "metadata": {},
   "outputs": [
    {
     "output_type": "stream",
     "name": "stdout",
     "text": [
      "KNN               precision    recall  f1-score   support\n",
      "\n",
      "           0       0.25      0.99      0.40      1200\n",
      "           1       0.97      0.06      0.12      3785\n",
      "\n",
      "    accuracy                           0.29      4985\n",
      "   macro avg       0.61      0.53      0.26      4985\n",
      "weighted avg       0.80      0.29      0.19      4985\n",
      "\n",
      " \n",
      "Logistic Reg               precision    recall  f1-score   support\n",
      "\n",
      "           0       0.54      0.27      0.36      1200\n",
      "           1       0.80      0.93      0.86      3785\n",
      "\n",
      "    accuracy                           0.77      4985\n",
      "   macro avg       0.67      0.60      0.61      4985\n",
      "weighted avg       0.74      0.77      0.74      4985\n",
      "\n",
      " \n",
      "Decision Tree               precision    recall  f1-score   support\n",
      "\n",
      "           0       0.35      0.44      0.39      1200\n",
      "           1       0.81      0.73      0.77      3785\n",
      "\n",
      "    accuracy                           0.66      4985\n",
      "   macro avg       0.58      0.59      0.58      4985\n",
      "weighted avg       0.70      0.66      0.68      4985\n",
      "\n",
      " \n",
      "Random Forest               precision    recall  f1-score   support\n",
      "\n",
      "           0       0.42      0.40      0.41      1200\n",
      "           1       0.81      0.83      0.82      3785\n",
      "\n",
      "    accuracy                           0.72      4985\n",
      "   macro avg       0.62      0.61      0.61      4985\n",
      "weighted avg       0.72      0.72      0.72      4985\n",
      "\n",
      " \n",
      "BernoulliNB               precision    recall  f1-score   support\n",
      "\n",
      "           0       0.44      0.25      0.32      1200\n",
      "           1       0.79      0.90      0.84      3785\n",
      "\n",
      "    accuracy                           0.74      4985\n",
      "   macro avg       0.62      0.58      0.58      4985\n",
      "weighted avg       0.71      0.74      0.72      4985\n",
      "\n",
      " \n",
      "time: 1min 11s\n",
      "In [147] used 4.1250 MiB RAM in 71.98s, peaked 122.25 MiB above current, total RAM usage 842.86 MiB\n"
     ]
    }
   ],
   "source": [
    "for model_name, model in models.items():\n",
    "    classification_reports_pipeline(X_train, y_train, model_name, model, ADASYN(random_state=42, sampling_strategy=\"minority\"))\n",
    "    print(\" \")"
   ]
  },
  {
   "cell_type": "code",
   "execution_count": 148,
   "metadata": {},
   "outputs": [
    {
     "output_type": "stream",
     "name": "stdout",
     "text": [
      "KNN               precision    recall  f1-score   support\n",
      "\n",
      "           0       0.25      0.99      0.40      1200\n",
      "           1       0.96      0.07      0.13      3785\n",
      "\n",
      "    accuracy                           0.29      4985\n",
      "   macro avg       0.61      0.53      0.27      4985\n",
      "weighted avg       0.79      0.29      0.19      4985\n",
      "\n",
      " \n",
      "Logistic Reg               precision    recall  f1-score   support\n",
      "\n",
      "           0       0.54      0.27      0.36      1200\n",
      "           1       0.80      0.93      0.86      3785\n",
      "\n",
      "    accuracy                           0.77      4985\n",
      "   macro avg       0.67      0.60      0.61      4985\n",
      "weighted avg       0.74      0.77      0.74      4985\n",
      "\n",
      " \n",
      "Decision Tree               precision    recall  f1-score   support\n",
      "\n",
      "           0       0.34      0.44      0.39      1200\n",
      "           1       0.80      0.73      0.77      3785\n",
      "\n",
      "    accuracy                           0.66      4985\n",
      "   macro avg       0.57      0.59      0.58      4985\n",
      "weighted avg       0.69      0.66      0.67      4985\n",
      "\n",
      " \n",
      "Random Forest               precision    recall  f1-score   support\n",
      "\n",
      "           0       0.42      0.40      0.41      1200\n",
      "           1       0.81      0.82      0.82      3785\n",
      "\n",
      "    accuracy                           0.72      4985\n",
      "   macro avg       0.62      0.61      0.61      4985\n",
      "weighted avg       0.72      0.72      0.72      4985\n",
      "\n",
      " \n",
      "BernoulliNB               precision    recall  f1-score   support\n",
      "\n",
      "           0       0.44      0.27      0.34      1200\n",
      "           1       0.79      0.89      0.84      3785\n",
      "\n",
      "    accuracy                           0.74      4985\n",
      "   macro avg       0.62      0.58      0.59      4985\n",
      "weighted avg       0.71      0.74      0.72      4985\n",
      "\n",
      " \n",
      "time: 33.5 s\n",
      "In [148] used -46.1992 MiB RAM in 33.58s, peaked 188.66 MiB above current, total RAM usage 796.66 MiB\n"
     ]
    }
   ],
   "source": [
    "for model_name, model in models.items():\n",
    "    classification_reports_pipeline(X_train, y_train, model_name, model, SMOTE(random_state=42))\n",
    "    print(\" \")"
   ]
  },
  {
   "cell_type": "code",
   "execution_count": 151,
   "metadata": {},
   "outputs": [
    {
     "output_type": "stream",
     "name": "stdout",
     "text": [
      "time: 1.56 ms\nIn [151] used -1.6875 MiB RAM in 0.10s, peaked 0.00 MiB above current, total RAM usage 468.04 MiB\n"
     ]
    }
   ],
   "source": [
    "\n",
    "models = {\"KNN\": KNeighborsClassifier(n_neighbors=10),\n",
    "          \"Logistic Reg\": LogisticRegression(max_iter=5000), \n",
    "          \"Decision Tree\": DecisionTreeClassifier(),\n",
    "          \"Random Forest\": RandomForestClassifier(),\n",
    "          \"BernoulliNB\": BernoulliNB()\n",
    "         }"
   ]
  },
  {
   "cell_type": "code",
   "execution_count": 153,
   "metadata": {},
   "outputs": [
    {
     "output_type": "error",
     "ename": "IndexError",
     "evalue": "tuple index out of range",
     "traceback": [
      "\u001b[0;31m---------------------------------------------------------------------------\u001b[0m",
      "\u001b[0;31mIndexError\u001b[0m                                Traceback (most recent call last)",
      "\u001b[0;32m<ipython-input-153-a4ff826139df>\u001b[0m in \u001b[0;36m<module>\u001b[0;34m\u001b[0m\n\u001b[1;32m      1\u001b[0m \u001b[0;32mfor\u001b[0m \u001b[0mmodel_name\u001b[0m\u001b[0;34m,\u001b[0m \u001b[0mmodel\u001b[0m \u001b[0;32min\u001b[0m \u001b[0mmodels\u001b[0m\u001b[0;34m.\u001b[0m\u001b[0mitems\u001b[0m\u001b[0;34m(\u001b[0m\u001b[0;34m)\u001b[0m\u001b[0;34m:\u001b[0m\u001b[0;34m\u001b[0m\u001b[0;34m\u001b[0m\u001b[0m\n\u001b[0;32m----> 2\u001b[0;31m     \u001b[0mroc_curve_pipeline\u001b[0m\u001b[0;34m(\u001b[0m\u001b[0mX_train\u001b[0m\u001b[0;34m,\u001b[0m \u001b[0my_train\u001b[0m\u001b[0;34m,\u001b[0m \u001b[0mmodel_name\u001b[0m\u001b[0;34m,\u001b[0m \u001b[0mmodel\u001b[0m\u001b[0;34m,\u001b[0m \u001b[0mADASYN\u001b[0m\u001b[0;34m(\u001b[0m\u001b[0mrandom_state\u001b[0m\u001b[0;34m=\u001b[0m\u001b[0;36m42\u001b[0m\u001b[0;34m,\u001b[0m \u001b[0msampling_strategy\u001b[0m\u001b[0;34m=\u001b[0m\u001b[0;34m\"minority\"\u001b[0m\u001b[0;34m)\u001b[0m\u001b[0;34m)\u001b[0m\u001b[0;34m\u001b[0m\u001b[0;34m\u001b[0m\u001b[0m\n\u001b[0m\u001b[1;32m      3\u001b[0m     \u001b[0mprint\u001b[0m\u001b[0;34m(\u001b[0m\u001b[0;34m\" \"\u001b[0m\u001b[0;34m)\u001b[0m\u001b[0;34m\u001b[0m\u001b[0;34m\u001b[0m\u001b[0m\n",
      "\u001b[0;32m~/PycharmProjects/get61/pipeline_modules.py\u001b[0m in \u001b[0;36mroc_curve_pipeline\u001b[0;34m(X, y, model_name, model, oversampler)\u001b[0m\n\u001b[1;32m    138\u001b[0m     \u001b[0;31m# binarizing the output for plotting\u001b[0m\u001b[0;34m\u001b[0m\u001b[0;34m\u001b[0m\u001b[0;34m\u001b[0m\u001b[0m\n\u001b[1;32m    139\u001b[0m     \u001b[0;31m#y = label_binarize(y, classes=['yes', 'no'])\u001b[0m\u001b[0;34m\u001b[0m\u001b[0;34m\u001b[0m\u001b[0;34m\u001b[0m\u001b[0m\n\u001b[0;32m--> 140\u001b[0;31m     \u001b[0mn_classes\u001b[0m \u001b[0;34m=\u001b[0m \u001b[0my\u001b[0m\u001b[0;34m.\u001b[0m\u001b[0mshape\u001b[0m\u001b[0;34m[\u001b[0m\u001b[0;36m0\u001b[0m\u001b[0;34m]\u001b[0m\u001b[0;34m\u001b[0m\u001b[0;34m\u001b[0m\u001b[0m\n\u001b[0m\u001b[1;32m    141\u001b[0m \u001b[0;34m\u001b[0m\u001b[0m\n\u001b[1;32m    142\u001b[0m     \u001b[0;31m# train-val split and oversample\u001b[0m\u001b[0;34m\u001b[0m\u001b[0;34m\u001b[0m\u001b[0;34m\u001b[0m\u001b[0m\n",
      "\u001b[0;31mIndexError\u001b[0m: tuple index out of range"
     ]
    }
   ],
   "source": [
    "for model_name, model in models.items():\n",
    "    roc_curve_pipeline(X_train, y_train, model_name, model, ADASYN(random_state=42, sampling_strategy=\"minority\"))\n",
    "    print(\" \")"
   ]
  },
  {
   "cell_type": "code",
   "execution_count": 74,
   "metadata": {},
   "outputs": [
    {
     "output_type": "execute_result",
     "data": {
      "text/plain": [
       "                   uniqueid  score  pick_position  trumpcount  heldpoints  \\\n",
       "0    2400001-RecordHolder37     16              2           5          12   \n",
       "1         2400002-TSG Jerry      8              2           5          13   \n",
       "2    2400003-Dave Frederick      2              3           5          12   \n",
       "3      2400004-Shawn Theune      2              3           5          26   \n",
       "4           2400005-TSG Dan      8              1           4           8   \n",
       "..                      ...    ...            ...         ...         ...   \n",
       "693        2400795-vtreague      2              0           4          11   \n",
       "694  2400796-jerryklein1341      2              3           5          26   \n",
       "695        2400797-eugcindy      2              0           3          23   \n",
       "696   2400798-drdistilledjd     -8              4           5          11   \n",
       "697     2400799-Lovetocrack      4              2           5          20   \n",
       "\n",
       "     1_10C  1_10D  1_10H  1_10S  1_11C  ...  6_7S  6_8C  6_8D  6_8H  6_8S  \\\n",
       "0        0      0      0      0      0  ...     0     0     0     0     0   \n",
       "1        0      0      0      0      0  ...     0     0     0     0     0   \n",
       "2        0      0      0      0      0  ...     0     0     0     0     0   \n",
       "3        0      0      0      0      0  ...     0     0     0     0     0   \n",
       "4        0      0      0      0      0  ...     0     0     0     0     0   \n",
       "..     ...    ...    ...    ...    ...  ...   ...   ...   ...   ...   ...   \n",
       "693      0      0      0      0      0  ...     0     0     0     0     0   \n",
       "694      0      0      0      0      0  ...     0     0     0     0     0   \n",
       "695      0      0      0      0      0  ...     0     0     0     0     0   \n",
       "696      0      0      0      0      0  ...     0     0     0     0     0   \n",
       "697      0      0      0      0      0  ...     0     0     0     0     0   \n",
       "\n",
       "     6_9C  6_9D  6_9H  6_9S  outcome  \n",
       "0       0     0     0     0        1  \n",
       "1       0     0     0     0        1  \n",
       "2       0     0     0     0        1  \n",
       "3       0     0     0     0        1  \n",
       "4       0     0     0     0        1  \n",
       "..    ...   ...   ...   ...      ...  \n",
       "693     0     0     0     0        1  \n",
       "694     0     0     0     0        1  \n",
       "695     0     0     1     0        1  \n",
       "696     0     0     0     1        0  \n",
       "697     0     0     0     0        1  \n",
       "\n",
       "[698 rows x 198 columns]"
      ],
      "text/html": "<div>\n<style scoped>\n    .dataframe tbody tr th:only-of-type {\n        vertical-align: middle;\n    }\n\n    .dataframe tbody tr th {\n        vertical-align: top;\n    }\n\n    .dataframe thead th {\n        text-align: right;\n    }\n</style>\n<table border=\"1\" class=\"dataframe\">\n  <thead>\n    <tr style=\"text-align: right;\">\n      <th></th>\n      <th>uniqueid</th>\n      <th>score</th>\n      <th>pick_position</th>\n      <th>trumpcount</th>\n      <th>heldpoints</th>\n      <th>1_10C</th>\n      <th>1_10D</th>\n      <th>1_10H</th>\n      <th>1_10S</th>\n      <th>1_11C</th>\n      <th>...</th>\n      <th>6_7S</th>\n      <th>6_8C</th>\n      <th>6_8D</th>\n      <th>6_8H</th>\n      <th>6_8S</th>\n      <th>6_9C</th>\n      <th>6_9D</th>\n      <th>6_9H</th>\n      <th>6_9S</th>\n      <th>outcome</th>\n    </tr>\n  </thead>\n  <tbody>\n    <tr>\n      <th>0</th>\n      <td>2400001-RecordHolder37</td>\n      <td>16</td>\n      <td>2</td>\n      <td>5</td>\n      <td>12</td>\n      <td>0</td>\n      <td>0</td>\n      <td>0</td>\n      <td>0</td>\n      <td>0</td>\n      <td>...</td>\n      <td>0</td>\n      <td>0</td>\n      <td>0</td>\n      <td>0</td>\n      <td>0</td>\n      <td>0</td>\n      <td>0</td>\n      <td>0</td>\n      <td>0</td>\n      <td>1</td>\n    </tr>\n    <tr>\n      <th>1</th>\n      <td>2400002-TSG Jerry</td>\n      <td>8</td>\n      <td>2</td>\n      <td>5</td>\n      <td>13</td>\n      <td>0</td>\n      <td>0</td>\n      <td>0</td>\n      <td>0</td>\n      <td>0</td>\n      <td>...</td>\n      <td>0</td>\n      <td>0</td>\n      <td>0</td>\n      <td>0</td>\n      <td>0</td>\n      <td>0</td>\n      <td>0</td>\n      <td>0</td>\n      <td>0</td>\n      <td>1</td>\n    </tr>\n    <tr>\n      <th>2</th>\n      <td>2400003-Dave Frederick</td>\n      <td>2</td>\n      <td>3</td>\n      <td>5</td>\n      <td>12</td>\n      <td>0</td>\n      <td>0</td>\n      <td>0</td>\n      <td>0</td>\n      <td>0</td>\n      <td>...</td>\n      <td>0</td>\n      <td>0</td>\n      <td>0</td>\n      <td>0</td>\n      <td>0</td>\n      <td>0</td>\n      <td>0</td>\n      <td>0</td>\n      <td>0</td>\n      <td>1</td>\n    </tr>\n    <tr>\n      <th>3</th>\n      <td>2400004-Shawn Theune</td>\n      <td>2</td>\n      <td>3</td>\n      <td>5</td>\n      <td>26</td>\n      <td>0</td>\n      <td>0</td>\n      <td>0</td>\n      <td>0</td>\n      <td>0</td>\n      <td>...</td>\n      <td>0</td>\n      <td>0</td>\n      <td>0</td>\n      <td>0</td>\n      <td>0</td>\n      <td>0</td>\n      <td>0</td>\n      <td>0</td>\n      <td>0</td>\n      <td>1</td>\n    </tr>\n    <tr>\n      <th>4</th>\n      <td>2400005-TSG Dan</td>\n      <td>8</td>\n      <td>1</td>\n      <td>4</td>\n      <td>8</td>\n      <td>0</td>\n      <td>0</td>\n      <td>0</td>\n      <td>0</td>\n      <td>0</td>\n      <td>...</td>\n      <td>0</td>\n      <td>0</td>\n      <td>0</td>\n      <td>0</td>\n      <td>0</td>\n      <td>0</td>\n      <td>0</td>\n      <td>0</td>\n      <td>0</td>\n      <td>1</td>\n    </tr>\n    <tr>\n      <th>...</th>\n      <td>...</td>\n      <td>...</td>\n      <td>...</td>\n      <td>...</td>\n      <td>...</td>\n      <td>...</td>\n      <td>...</td>\n      <td>...</td>\n      <td>...</td>\n      <td>...</td>\n      <td>...</td>\n      <td>...</td>\n      <td>...</td>\n      <td>...</td>\n      <td>...</td>\n      <td>...</td>\n      <td>...</td>\n      <td>...</td>\n      <td>...</td>\n      <td>...</td>\n      <td>...</td>\n    </tr>\n    <tr>\n      <th>693</th>\n      <td>2400795-vtreague</td>\n      <td>2</td>\n      <td>0</td>\n      <td>4</td>\n      <td>11</td>\n      <td>0</td>\n      <td>0</td>\n      <td>0</td>\n      <td>0</td>\n      <td>0</td>\n      <td>...</td>\n      <td>0</td>\n      <td>0</td>\n      <td>0</td>\n      <td>0</td>\n      <td>0</td>\n      <td>0</td>\n      <td>0</td>\n      <td>0</td>\n      <td>0</td>\n      <td>1</td>\n    </tr>\n    <tr>\n      <th>694</th>\n      <td>2400796-jerryklein1341</td>\n      <td>2</td>\n      <td>3</td>\n      <td>5</td>\n      <td>26</td>\n      <td>0</td>\n      <td>0</td>\n      <td>0</td>\n      <td>0</td>\n      <td>0</td>\n      <td>...</td>\n      <td>0</td>\n      <td>0</td>\n      <td>0</td>\n      <td>0</td>\n      <td>0</td>\n      <td>0</td>\n      <td>0</td>\n      <td>0</td>\n      <td>0</td>\n      <td>1</td>\n    </tr>\n    <tr>\n      <th>695</th>\n      <td>2400797-eugcindy</td>\n      <td>2</td>\n      <td>0</td>\n      <td>3</td>\n      <td>23</td>\n      <td>0</td>\n      <td>0</td>\n      <td>0</td>\n      <td>0</td>\n      <td>0</td>\n      <td>...</td>\n      <td>0</td>\n      <td>0</td>\n      <td>0</td>\n      <td>0</td>\n      <td>0</td>\n      <td>0</td>\n      <td>0</td>\n      <td>1</td>\n      <td>0</td>\n      <td>1</td>\n    </tr>\n    <tr>\n      <th>696</th>\n      <td>2400798-drdistilledjd</td>\n      <td>-8</td>\n      <td>4</td>\n      <td>5</td>\n      <td>11</td>\n      <td>0</td>\n      <td>0</td>\n      <td>0</td>\n      <td>0</td>\n      <td>0</td>\n      <td>...</td>\n      <td>0</td>\n      <td>0</td>\n      <td>0</td>\n      <td>0</td>\n      <td>0</td>\n      <td>0</td>\n      <td>0</td>\n      <td>0</td>\n      <td>1</td>\n      <td>0</td>\n    </tr>\n    <tr>\n      <th>697</th>\n      <td>2400799-Lovetocrack</td>\n      <td>4</td>\n      <td>2</td>\n      <td>5</td>\n      <td>20</td>\n      <td>0</td>\n      <td>0</td>\n      <td>0</td>\n      <td>0</td>\n      <td>0</td>\n      <td>...</td>\n      <td>0</td>\n      <td>0</td>\n      <td>0</td>\n      <td>0</td>\n      <td>0</td>\n      <td>0</td>\n      <td>0</td>\n      <td>0</td>\n      <td>0</td>\n      <td>1</td>\n    </tr>\n  </tbody>\n</table>\n<p>698 rows × 198 columns</p>\n</div>"
     },
     "metadata": {},
     "execution_count": 74
    },
    {
     "output_type": "stream",
     "name": "stdout",
     "text": [
      "time: 27.7 ms\nIn [74] used 0.1406 MiB RAM in 0.13s, peaked 0.00 MiB above current, total RAM usage 391.52 MiB\n"
     ]
    }
   ],
   "source": [
    "newdf = pd.read_pickle('new_hands_df')\n",
    "newdf"
   ]
  },
  {
   "cell_type": "code",
   "execution_count": 36,
   "metadata": {},
   "outputs": [
    {
     "output_type": "stream",
     "name": "stdout",
     "text": [
      "time: 2.05 ms\nIn [36] used 0.0000 MiB RAM in 0.11s, peaked 0.00 MiB above current, total RAM usage 481.09 MiB\n"
     ]
    }
   ],
   "source": [
    "newX = newdf.iloc[:,2:-1]\n",
    "newy = newdf.iloc[:,-1]"
   ]
  },
  {
   "cell_type": "code",
   "execution_count": 37,
   "metadata": {},
   "outputs": [
    {
     "output_type": "stream",
     "name": "stdout",
     "text": [
      "Training set:  0.8529506351503457\nTest set:  0.7783662333493822\n              precision    recall  f1-score   support\n\n           0       0.61      0.30      0.40      1544\n           1       0.80      0.94      0.86      4687\n\n    accuracy                           0.78      6231\n   macro avg       0.71      0.62      0.63      6231\nweighted avg       0.75      0.78      0.75      6231\n\ntime: 19.5 s\nIn [37] used 190.8164 MiB RAM in 19.56s, peaked 13.72 MiB above current, total RAM usage 671.90 MiB\n"
     ]
    }
   ],
   "source": [
    "log_reg = LogisticRegression(max_iter=5000)\n",
    "X_adasyn, y_adasyn = ADASYN(sampling_strategy=\"minority\", random_state=42).fit_sample(X_train, y_train)\n",
    "log_reg.fit(X_adasyn, np.array(y_adasyn).ravel())\n",
    "y_pred = log_reg.predict(X_test)\n",
    "print(\"Training set: \", log_reg.score(X_adasyn, y_adasyn))\n",
    "print(\"Test set: \", log_reg.score(X_test, y_test))\n",
    "print(classification_report(y_test, y_pred))"
   ]
  },
  {
   "cell_type": "code",
   "execution_count": 42,
   "metadata": {},
   "outputs": [
    {
     "output_type": "stream",
     "name": "stdout",
     "text": [
      "time: 1.58 ms\nIn [42] used 0.5273 MiB RAM in 0.11s, peaked 0.00 MiB above current, total RAM usage 581.23 MiB\n"
     ]
    }
   ],
   "source": [
    "import pickle\n",
    "from joblib import dump"
   ]
  },
  {
   "cell_type": "code",
   "execution_count": 43,
   "metadata": {},
   "outputs": [
    {
     "output_type": "execute_result",
     "data": {
      "text/plain": [
       "['log_reg_mod.joblib']"
      ]
     },
     "metadata": {},
     "execution_count": 43
    },
    {
     "output_type": "stream",
     "name": "stdout",
     "text": [
      "time: 5.12 ms\nIn [43] used 0.0156 MiB RAM in 0.11s, peaked 0.00 MiB above current, total RAM usage 572.48 MiB\n"
     ]
    }
   ],
   "source": [
    "dump(log_reg, 'log_reg_mod.joblib')"
   ]
  },
  {
   "cell_type": "code",
   "execution_count": 57,
   "metadata": {},
   "outputs": [
    {
     "output_type": "stream",
     "name": "stdout",
     "text": [
      "time: 9.54 ms\nIn [57] used 2.6367 MiB RAM in 0.11s, peaked 0.00 MiB above current, total RAM usage 297.85 MiB\n"
     ]
    }
   ],
   "source": [
    "predslog_reg = log_reg.predict(newX)"
   ]
  },
  {
   "cell_type": "code",
   "execution_count": 65,
   "metadata": {},
   "outputs": [
    {
     "output_type": "execute_result",
     "data": {
      "text/plain": [
       "698"
      ]
     },
     "metadata": {},
     "execution_count": 65
    },
    {
     "output_type": "stream",
     "name": "stdout",
     "text": [
      "time: 4.78 ms\nIn [65] used -0.0195 MiB RAM in 0.11s, peaked 0.00 MiB above current, total RAM usage 391.06 MiB\n"
     ]
    }
   ],
   "source": [
    "len(predslog_reg)"
   ]
  },
  {
   "cell_type": "code",
   "execution_count": 90,
   "metadata": {},
   "outputs": [
    {
     "output_type": "stream",
     "name": "stdout",
     "text": [
      "time: 1.56 s\nIn [90] used 8.4766 MiB RAM in 1.66s, peaked 0.00 MiB above current, total RAM usage 566.12 MiB\n"
     ]
    }
   ],
   "source": [
    "predsknn = knn.predict(newX)"
   ]
  },
  {
   "cell_type": "code",
   "execution_count": 91,
   "metadata": {},
   "outputs": [
    {
     "output_type": "execute_result",
     "data": {
      "text/plain": [
       "698"
      ]
     },
     "metadata": {},
     "execution_count": 91
    },
    {
     "output_type": "stream",
     "name": "stdout",
     "text": [
      "time: 2.69 ms\nIn [91] used 0.0195 MiB RAM in 0.11s, peaked 0.00 MiB above current, total RAM usage 566.21 MiB\n"
     ]
    }
   ],
   "source": [
    "len(predsknn)"
   ]
  },
  {
   "cell_type": "code",
   "execution_count": null,
   "metadata": {},
   "outputs": [],
   "source": [
    "inp_columns = [1, 2, 3, 4, 5, 6, 'pick_position', 'trumpcount', 'heldpoints']"
   ]
  },
  {
   "cell_type": "code",
   "execution_count": 44,
   "metadata": {},
   "outputs": [
    {
     "output_type": "error",
     "ename": "NameError",
     "evalue": "name 'newx' is not defined",
     "traceback": [
      "\u001b[0;31m---------------------------------------------------------------------------\u001b[0m",
      "\u001b[0;31mNameError\u001b[0m                                 Traceback (most recent call last)",
      "\u001b[0;32m<ipython-input-44-7fd5dd6319cd>\u001b[0m in \u001b[0;36m<module>\u001b[0;34m\u001b[0m\n\u001b[0;32m----> 1\u001b[0;31m \u001b[0mnewx\u001b[0m\u001b[0;34m\u001b[0m\u001b[0;34m\u001b[0m\u001b[0m\n\u001b[0m",
      "\u001b[0;31mNameError\u001b[0m: name 'newx' is not defined"
     ]
    }
   ],
   "source": [
    "newx"
   ]
  },
  {
   "cell_type": "code",
   "execution_count": 76,
   "metadata": {},
   "outputs": [
    {
     "output_type": "execute_result",
     "data": {
      "text/plain": [
       "array([1, 1, 1, 1, 0, 1, 1, 1, 1, 1, 1, 1, 0, 1, 1, 1, 1, 1, 1, 1, 1, 1,\n",
       "       1, 1, 1, 1, 0, 1, 0, 1, 1, 1, 1, 0, 1, 0, 1, 1, 1, 1, 0, 1, 1, 1,\n",
       "       1, 1, 1, 1, 1, 1, 1, 1, 1, 1, 1, 1, 1, 1, 0, 1, 1, 1, 1, 0, 1, 1,\n",
       "       1, 1, 0, 1, 0, 1, 1, 1, 1, 1, 1, 1, 1, 1, 1, 1, 1, 0, 1, 1, 1, 1,\n",
       "       1, 1, 1, 1, 1, 1, 1, 1, 1, 1, 0, 0, 0, 1, 1, 1, 1, 1, 1, 0, 1, 1,\n",
       "       1, 1, 1, 1, 1, 0, 1, 1, 1, 1, 1, 1, 1, 1, 1, 1, 1, 1, 1, 0, 1, 1,\n",
       "       1, 1, 1, 1, 1, 1, 1, 1, 0, 1, 1, 1, 1, 1, 1, 1, 1, 1, 1, 1, 0, 1,\n",
       "       1, 1, 1, 1, 1, 0, 1, 1, 1, 1, 1, 1, 0, 1, 1, 1, 1, 1, 0, 1, 1, 1,\n",
       "       1, 1, 1, 1, 1, 1, 1, 1, 1, 1, 1, 1, 1, 1, 1, 1, 1, 0, 1, 1, 1, 1,\n",
       "       0, 1, 1, 1, 1, 1, 1, 1, 0, 1, 1, 1, 1, 1, 1, 1, 1, 0, 1, 1, 0, 1,\n",
       "       1, 1, 1, 1, 0, 1, 1, 1, 1, 1, 1, 1, 1, 1, 1, 0, 1, 1, 1, 1, 1, 1,\n",
       "       1, 1, 1, 1, 1, 1, 1, 1, 1, 1, 1, 1, 1, 1, 1, 1, 1, 1, 1, 0, 1, 1,\n",
       "       1, 0, 1, 1, 1, 1, 1, 1, 1, 1, 1, 1, 1, 1, 1, 1, 1, 1, 1, 1, 1, 1,\n",
       "       1, 1, 1, 1, 0, 1, 1, 1, 0, 1, 0, 1, 1, 1, 1, 1, 1, 1, 1, 1, 1, 1,\n",
       "       1, 1, 1, 0, 1, 1, 1, 0, 1, 0, 1, 1, 1, 1, 1, 1, 1, 1, 1, 1, 1, 1,\n",
       "       1, 1, 1, 1, 1, 1, 1, 1, 1, 0, 1, 1, 1, 1, 1, 1, 1, 1, 1, 1, 1, 1,\n",
       "       1, 1, 1, 1, 1, 1, 1, 0, 1, 1, 1, 1, 1, 1, 1, 1, 1, 1, 1, 0, 1, 1,\n",
       "       1, 1, 1, 1, 1, 1, 1, 1, 1, 0, 1, 1, 1, 0, 1, 1, 1, 1, 1, 1, 0, 1,\n",
       "       1, 1, 1, 1, 1, 1, 1, 1, 1, 1, 1, 1, 1, 0, 1, 1, 1, 1, 1, 1, 1, 1,\n",
       "       1, 1, 1, 1, 1, 1, 1, 0, 1, 1, 1, 0, 1, 1, 1, 0, 1, 1, 1, 1, 1, 1,\n",
       "       1, 1, 0, 1, 1, 0, 1, 1, 1, 1, 1, 1, 1, 0, 1, 1, 1, 1, 1, 1, 1, 1,\n",
       "       1, 1, 1, 0, 1, 1, 1, 1, 1, 1, 1, 0, 1, 1, 1, 1, 1, 1, 1, 1, 1, 1,\n",
       "       1, 1, 1, 1, 1, 1, 1, 1, 1, 1, 1, 0, 1, 1, 1, 1, 1, 1, 1, 0, 1, 0,\n",
       "       1, 1, 1, 0, 0, 1, 1, 1, 1, 1, 1, 1, 1, 0, 1, 1, 1, 1, 1, 1, 1, 1,\n",
       "       1, 0, 1, 1, 1, 1, 1, 1, 1, 1, 1, 1, 1, 1, 1, 1, 0, 1, 1, 1, 1, 0,\n",
       "       1, 1, 1, 1, 1, 1, 1, 1, 1, 1, 1, 1, 1, 0, 1, 1, 1, 0, 1, 1, 0, 0,\n",
       "       1, 1, 1, 1, 1, 1, 1, 1, 1, 1, 1, 1, 0, 1, 1, 1, 1, 0, 1, 1, 1, 1,\n",
       "       1, 1, 1, 0, 1, 1, 1, 0, 1, 1, 1, 1, 1, 1, 1, 1, 1, 1, 1, 1, 1, 1,\n",
       "       1, 1, 1, 1, 1, 1, 1, 1, 1, 0, 1, 1, 1, 1, 0, 0, 1, 1, 1, 1, 1, 1,\n",
       "       0, 1, 0, 1, 1, 1, 1, 0, 1, 0, 1, 1, 1, 1, 1, 1, 0, 1, 1, 1, 1, 1,\n",
       "       1, 1, 1, 1, 1, 0, 1, 1, 1, 1, 1, 1, 1, 1, 0, 1, 1, 1, 1, 1, 1, 1,\n",
       "       1, 0, 0, 1, 1, 1, 1, 1, 1, 1, 1, 1, 1, 1, 1, 1])"
      ]
     },
     "metadata": {},
     "execution_count": 76
    },
    {
     "output_type": "stream",
     "name": "stdout",
     "text": [
      "time: 3.79 ms\nIn [76] used 0.0938 MiB RAM in 0.11s, peaked 0.00 MiB above current, total RAM usage 392.54 MiB\n"
     ]
    }
   ],
   "source": [
    "predslog_reg"
   ]
  },
  {
   "cell_type": "code",
   "execution_count": 79,
   "metadata": {},
   "outputs": [
    {
     "output_type": "stream",
     "name": "stdout",
     "text": [
      "time: 1.5 ms\nIn [79] used 0.2031 MiB RAM in 0.10s, peaked 0.00 MiB above current, total RAM usage 397.18 MiB\n"
     ]
    }
   ],
   "source": [
    "newyar = np.array(newy)"
   ]
  },
  {
   "cell_type": "code",
   "execution_count": 93,
   "metadata": {},
   "outputs": [
    {
     "output_type": "stream",
     "name": "stdout",
     "text": [
      "time: 2.85 ms\nIn [93] used 0.0117 MiB RAM in 0.11s, peaked 0.00 MiB above current, total RAM usage 566.39 MiB\n"
     ]
    }
   ],
   "source": [
    "logf = pd.DataFrame({'y_actual': newyar, 'y_log_reg': predslog_reg, 'y_knn': predsknn})"
   ]
  },
  {
   "cell_type": "code",
   "execution_count": 97,
   "metadata": {},
   "outputs": [
    {
     "output_type": "stream",
     "name": "stdout",
     "text": [
      "time: 2.1 ms\nIn [97] used -43.0469 MiB RAM in 0.11s, peaked 0.00 MiB above current, total RAM usage 549.99 MiB\n"
     ]
    }
   ],
   "source": [
    "logf['hand_number'] = logf.index"
   ]
  },
  {
   "cell_type": "code",
   "execution_count": 99,
   "metadata": {},
   "outputs": [
    {
     "output_type": "stream",
     "name": "stdout",
     "text": [
      "time: 1.85 ms\nIn [99] used 0.0000 MiB RAM in 0.10s, peaked 0.00 MiB above current, total RAM usage 550.54 MiB\n"
     ]
    }
   ],
   "source": [
    "mask = (logf['y_actual'] == 0)"
   ]
  },
  {
   "cell_type": "code",
   "execution_count": 125,
   "metadata": {},
   "outputs": [
    {
     "output_type": "stream",
     "name": "stdout",
     "text": [
      "time: 27.4 ms\nIn [125] used 0.0000 MiB RAM in 0.13s, peaked 0.00 MiB above current, total RAM usage 556.49 MiB\n"
     ]
    }
   ],
   "source": [
    "logf['score'] = logf.apply(lambda x: 2 if x['y_actual'] == x['y_log_reg'] == 1 else -4 if x['y_actual'] == 0 and x['y_log_reg'] == 1 else 0, axis=1)"
   ]
  },
  {
   "cell_type": "code",
   "execution_count": 126,
   "metadata": {},
   "outputs": [
    {
     "output_type": "stream",
     "name": "stdout",
     "text": [
      "time: 25.6 ms\nIn [126] used 0.0078 MiB RAM in 0.13s, peaked 0.00 MiB above current, total RAM usage 556.50 MiB\n"
     ]
    }
   ],
   "source": [
    "logf['score_pen'] = logf.apply(lambda x: 2 if x['y_actual'] == x['y_log_reg'] == 1 else -4 if x['y_actual'] == 0 and x['y_log_reg'] == 1 else -1, axis=1)"
   ]
  },
  {
   "cell_type": "code",
   "execution_count": 128,
   "metadata": {},
   "outputs": [
    {
     "output_type": "execute_result",
     "data": {
      "text/plain": [
       "430"
      ]
     },
     "metadata": {},
     "execution_count": 128
    },
    {
     "output_type": "stream",
     "name": "stdout",
     "text": [
      "time: 3.74 ms\nIn [128] used 0.0000 MiB RAM in 0.11s, peaked 0.00 MiB above current, total RAM usage 556.50 MiB\n"
     ]
    }
   ],
   "source": [
    "logf['score_pen'].sum()"
   ]
  },
  {
   "cell_type": "code",
   "execution_count": 135,
   "metadata": {},
   "outputs": [
    {
     "output_type": "execute_result",
     "data": {
      "text/plain": [
       "512"
      ]
     },
     "metadata": {},
     "execution_count": 135
    },
    {
     "output_type": "stream",
     "name": "stdout",
     "text": [
      "time: 3.85 ms\nIn [135] used -1.7070 MiB RAM in 0.11s, peaked 0.00 MiB above current, total RAM usage 471.95 MiB\n"
     ]
    }
   ],
   "source": [
    "logf['score'].sum()"
   ]
  },
  {
   "cell_type": "code",
   "execution_count": 120,
   "metadata": {},
   "outputs": [
    {
     "output_type": "stream",
     "name": "stdout",
     "text": [
      "time: 33.7 ms\nIn [120] used 0.0000 MiB RAM in 0.14s, peaked 0.00 MiB above current, total RAM usage 555.05 MiB\n"
     ]
    }
   ],
   "source": [
    "logf['knn_score'] = logf.apply(lambda x: 2 if x['y_actual'] == x['y_knn'] == 1 else -4 if x['y_actual'] == 0 and x['y_knn'] == 1 else 0, axis=1)"
   ]
  },
  {
   "cell_type": "code",
   "execution_count": 122,
   "metadata": {},
   "outputs": [
    {
     "output_type": "stream",
     "name": "stdout",
     "text": [
      "time: 31.9 ms\nIn [122] used 0.0195 MiB RAM in 0.14s, peaked 0.00 MiB above current, total RAM usage 554.98 MiB\n"
     ]
    }
   ],
   "source": [
    "logf['knn_score_pen'] = logf.apply(lambda x: 2 if x['y_actual'] == x['y_knn'] == 1 else -4 if x['y_actual'] == 0 and x['y_knn'] == 1 else -0.5, axis=1)"
   ]
  },
  {
   "cell_type": "code",
   "execution_count": 124,
   "metadata": {},
   "outputs": [
    {
     "output_type": "execute_result",
     "data": {
      "text/plain": [
       "-295.0"
      ]
     },
     "metadata": {},
     "execution_count": 124
    },
    {
     "output_type": "stream",
     "name": "stdout",
     "text": [
      "time: 3.07 ms\nIn [124] used 0.0039 MiB RAM in 0.10s, peaked 0.00 MiB above current, total RAM usage 555.00 MiB\n"
     ]
    }
   ],
   "source": [
    "logf['knn_score_pen'].sum()"
   ]
  },
  {
   "cell_type": "code",
   "execution_count": 129,
   "metadata": {},
   "outputs": [
    {
     "output_type": "execute_result",
     "data": {
      "text/plain": [
       "42"
      ]
     },
     "metadata": {},
     "execution_count": 129
    },
    {
     "output_type": "stream",
     "name": "stdout",
     "text": [
      "time: 3.17 ms\nIn [129] used 0.1523 MiB RAM in 0.11s, peaked 0.00 MiB above current, total RAM usage 556.65 MiB\n"
     ]
    }
   ],
   "source": [
    "logf['knn_score'].sum()"
   ]
  },
  {
   "cell_type": "code",
   "execution_count": 132,
   "metadata": {},
   "outputs": [
    {
     "output_type": "stream",
     "name": "stdout",
     "text": [
      "time: 5.92 ms\nIn [132] used 0.0117 MiB RAM in 0.11s, peaked 0.00 MiB above current, total RAM usage 557.23 MiB\n"
     ]
    }
   ],
   "source": [
    "logf['score_cum'] = logf['score'].cumsum()\n",
    "logf['score_cum_pen'] = logf['score_pen'].cumsum()\n",
    "logf['knn_cum'] = logf['knn_score'].cumsum()\n",
    "logf['knn_cum_pen'] = logf['knn_score_pen'].cumsum()"
   ]
  },
  {
   "cell_type": "code",
   "execution_count": 133,
   "metadata": {},
   "outputs": [
    {
     "output_type": "execute_result",
     "data": {
      "text/plain": [
       "     y_actual  y_log_reg  y_knn  hand_number  score  knn_score  knn_score_pen  \\\n",
       "0           1          1      0            0      2          0           -0.5   \n",
       "1           1          1      0            1      2          0           -0.5   \n",
       "2           1          1      0            2      2          0           -0.5   \n",
       "3           1          1      0            3      2          0           -0.5   \n",
       "4           1          0      0            4      0          0           -0.5   \n",
       "..        ...        ...    ...          ...    ...        ...            ...   \n",
       "693         1          1      0          693      2          0           -0.5   \n",
       "694         1          1      0          694      2          0           -0.5   \n",
       "695         1          1      0          695      2          0           -0.5   \n",
       "696         0          1      0          696     -4          0           -0.5   \n",
       "697         1          1      0          697      2          0           -0.5   \n",
       "\n",
       "     score_pen  score_cum  score_cum_pen  knn_cum  knn_cum_pen  \n",
       "0            2          2              2        0         -0.5  \n",
       "1            2          4              4        0         -1.0  \n",
       "2            2          6              6        0         -1.5  \n",
       "3            2          8              8        0         -2.0  \n",
       "4           -1          8              7        0         -2.5  \n",
       "..         ...        ...            ...      ...          ...  \n",
       "693          2        510            428       42       -293.0  \n",
       "694          2        512            430       42       -293.5  \n",
       "695          2        514            432       42       -294.0  \n",
       "696         -4        510            428       42       -294.5  \n",
       "697          2        512            430       42       -295.0  \n",
       "\n",
       "[698 rows x 12 columns]"
      ],
      "text/html": "<div>\n<style scoped>\n    .dataframe tbody tr th:only-of-type {\n        vertical-align: middle;\n    }\n\n    .dataframe tbody tr th {\n        vertical-align: top;\n    }\n\n    .dataframe thead th {\n        text-align: right;\n    }\n</style>\n<table border=\"1\" class=\"dataframe\">\n  <thead>\n    <tr style=\"text-align: right;\">\n      <th></th>\n      <th>y_actual</th>\n      <th>y_log_reg</th>\n      <th>y_knn</th>\n      <th>hand_number</th>\n      <th>score</th>\n      <th>knn_score</th>\n      <th>knn_score_pen</th>\n      <th>score_pen</th>\n      <th>score_cum</th>\n      <th>score_cum_pen</th>\n      <th>knn_cum</th>\n      <th>knn_cum_pen</th>\n    </tr>\n  </thead>\n  <tbody>\n    <tr>\n      <th>0</th>\n      <td>1</td>\n      <td>1</td>\n      <td>0</td>\n      <td>0</td>\n      <td>2</td>\n      <td>0</td>\n      <td>-0.5</td>\n      <td>2</td>\n      <td>2</td>\n      <td>2</td>\n      <td>0</td>\n      <td>-0.5</td>\n    </tr>\n    <tr>\n      <th>1</th>\n      <td>1</td>\n      <td>1</td>\n      <td>0</td>\n      <td>1</td>\n      <td>2</td>\n      <td>0</td>\n      <td>-0.5</td>\n      <td>2</td>\n      <td>4</td>\n      <td>4</td>\n      <td>0</td>\n      <td>-1.0</td>\n    </tr>\n    <tr>\n      <th>2</th>\n      <td>1</td>\n      <td>1</td>\n      <td>0</td>\n      <td>2</td>\n      <td>2</td>\n      <td>0</td>\n      <td>-0.5</td>\n      <td>2</td>\n      <td>6</td>\n      <td>6</td>\n      <td>0</td>\n      <td>-1.5</td>\n    </tr>\n    <tr>\n      <th>3</th>\n      <td>1</td>\n      <td>1</td>\n      <td>0</td>\n      <td>3</td>\n      <td>2</td>\n      <td>0</td>\n      <td>-0.5</td>\n      <td>2</td>\n      <td>8</td>\n      <td>8</td>\n      <td>0</td>\n      <td>-2.0</td>\n    </tr>\n    <tr>\n      <th>4</th>\n      <td>1</td>\n      <td>0</td>\n      <td>0</td>\n      <td>4</td>\n      <td>0</td>\n      <td>0</td>\n      <td>-0.5</td>\n      <td>-1</td>\n      <td>8</td>\n      <td>7</td>\n      <td>0</td>\n      <td>-2.5</td>\n    </tr>\n    <tr>\n      <th>...</th>\n      <td>...</td>\n      <td>...</td>\n      <td>...</td>\n      <td>...</td>\n      <td>...</td>\n      <td>...</td>\n      <td>...</td>\n      <td>...</td>\n      <td>...</td>\n      <td>...</td>\n      <td>...</td>\n      <td>...</td>\n    </tr>\n    <tr>\n      <th>693</th>\n      <td>1</td>\n      <td>1</td>\n      <td>0</td>\n      <td>693</td>\n      <td>2</td>\n      <td>0</td>\n      <td>-0.5</td>\n      <td>2</td>\n      <td>510</td>\n      <td>428</td>\n      <td>42</td>\n      <td>-293.0</td>\n    </tr>\n    <tr>\n      <th>694</th>\n      <td>1</td>\n      <td>1</td>\n      <td>0</td>\n      <td>694</td>\n      <td>2</td>\n      <td>0</td>\n      <td>-0.5</td>\n      <td>2</td>\n      <td>512</td>\n      <td>430</td>\n      <td>42</td>\n      <td>-293.5</td>\n    </tr>\n    <tr>\n      <th>695</th>\n      <td>1</td>\n      <td>1</td>\n      <td>0</td>\n      <td>695</td>\n      <td>2</td>\n      <td>0</td>\n      <td>-0.5</td>\n      <td>2</td>\n      <td>514</td>\n      <td>432</td>\n      <td>42</td>\n      <td>-294.0</td>\n    </tr>\n    <tr>\n      <th>696</th>\n      <td>0</td>\n      <td>1</td>\n      <td>0</td>\n      <td>696</td>\n      <td>-4</td>\n      <td>0</td>\n      <td>-0.5</td>\n      <td>-4</td>\n      <td>510</td>\n      <td>428</td>\n      <td>42</td>\n      <td>-294.5</td>\n    </tr>\n    <tr>\n      <th>697</th>\n      <td>1</td>\n      <td>1</td>\n      <td>0</td>\n      <td>697</td>\n      <td>2</td>\n      <td>0</td>\n      <td>-0.5</td>\n      <td>2</td>\n      <td>512</td>\n      <td>430</td>\n      <td>42</td>\n      <td>-295.0</td>\n    </tr>\n  </tbody>\n</table>\n<p>698 rows × 12 columns</p>\n</div>"
     },
     "metadata": {},
     "execution_count": 133
    },
    {
     "output_type": "stream",
     "name": "stdout",
     "text": [
      "time: 22.9 ms\nIn [133] used 0.0234 MiB RAM in 0.13s, peaked 0.00 MiB above current, total RAM usage 557.25 MiB\n"
     ]
    }
   ],
   "source": [
    "logf"
   ]
  },
  {
   "cell_type": "code",
   "execution_count": 134,
   "metadata": {},
   "outputs": [
    {
     "output_type": "stream",
     "name": "stdout",
     "text": [
      "time: 13.1 ms\nIn [134] used -67.0000 MiB RAM in 0.12s, peaked 0.00 MiB above current, total RAM usage 473.66 MiB\n"
     ]
    }
   ],
   "source": [
    "logf.to_csv('logf.csv')"
   ]
  },
  {
   "cell_type": "code",
   "execution_count": 137,
   "metadata": {},
   "outputs": [
    {
     "output_type": "execute_result",
     "data": {
      "text/plain": [
       "array([[ 0.11002766,  0.14967474,  0.05458321,  0.67446666,  1.59975074,\n",
       "         1.20165634,  1.24080528,  1.76901912,  0.71787322,  1.7533558 ,\n",
       "         1.69333498,  2.59205503,  1.86897274,  2.03353919,  2.34186666,\n",
       "         1.0623874 ,  1.63547171,  1.18554944,  1.20929985,  0.72568597,\n",
       "         1.90561484,  0.88839211,  0.85070771,  1.34893606,  1.72233943,\n",
       "         1.1954378 ,  1.41730383,  1.50729666,  1.7342795 ,  1.28186688,\n",
       "         1.30272101,  1.58710643,  1.9523476 ,  1.26516572,  1.22326368,\n",
       "         0.57889767,  1.49271404,  0.77839   ,  0.52319006,  2.03002312,\n",
       "         0.71831515,  1.70907093,  2.04513698,  3.17664746,  1.92102379,\n",
       "         2.44648075,  2.99044747,  1.05409101,  1.62357383,  1.10282228,\n",
       "         0.83559886,  0.56391198,  1.40888861,  0.55336106,  0.60721605,\n",
       "         1.10608755,  2.07590795,  1.01671143,  1.15340334,  0.93684076,\n",
       "         2.08079534,  1.03121811,  1.14182979,  0.99705121,  1.97738281,\n",
       "         1.00675576,  1.02928393,  0.3726322 ,  1.40823895,  0.58986184,\n",
       "         0.78985296,  2.15736667,  0.7814508 ,  1.87272586,  2.003957  ,\n",
       "         2.89653663,  2.11029737,  2.49079568,  2.81857627,  0.98879406,\n",
       "         1.62154387,  0.93840495,  0.97774182,  0.82913732,  1.62639137,\n",
       "         0.84895811,  0.83565558,  1.27125538,  1.92220413,  1.12915916,\n",
       "         1.32838791,  1.10401482,  1.78955647,  1.06046873,  1.16803058,\n",
       "         1.15675387,  1.88653005,  1.23989509,  1.1678311 ,  1.03811599,\n",
       "         1.51303412,  0.83442057,  0.92098378,  2.27099146,  0.44521207,\n",
       "         2.03999301,  2.05185175,  2.76721795,  2.18409132,  2.48647758,\n",
       "         2.64559437,  1.40973565,  1.55837952,  1.07861686,  1.18348148,\n",
       "         0.96611962,  1.31458742,  0.94412092,  1.00803527,  1.62281342,\n",
       "         1.64862613,  1.56313363,  1.39884854,  1.57717538,  1.82096344,\n",
       "         1.46620125,  1.5781408 ,  1.58334459,  1.90820059,  1.60828835,\n",
       "         1.35440026,  0.84433383,  1.3027208 ,  1.36908459,  0.73034476,\n",
       "         1.9853789 ,  0.02500058,  1.90976145,  1.91755318,  2.50812257,\n",
       "         2.06991075,  2.31449757,  2.30922257,  1.36513682,  1.41196848,\n",
       "         1.31611012,  1.07037057,  1.01697189,  1.17646369,  0.92793217,\n",
       "         0.70857488,  1.63219191,  1.42667094,  1.47548159,  1.54634965,\n",
       "         1.21295157,  1.43162693,  1.37338144,  1.58277953,  1.5804424 ,\n",
       "         1.54586288,  1.47258034,  1.24262714,  0.70929806,  1.19920379,\n",
       "         0.84323652,  0.93957065,  2.1125791 , -0.05481393,  1.978397  ,\n",
       "         2.02726647,  2.68994301,  1.9817966 ,  2.12786765,  2.20005394,\n",
       "         1.22479516,  1.64644587,  1.39828851,  1.44686125,  0.8764751 ,\n",
       "         1.14158671,  0.65392787,  0.52808606,  1.81450515,  1.88530349,\n",
       "         1.63307425,  1.61963218,  1.61260004,  1.85334257,  1.63945532,\n",
       "         1.70856369,  1.71975709,  1.93550985,  1.42153997,  1.41121749]])"
      ]
     },
     "metadata": {},
     "execution_count": 137
    },
    {
     "output_type": "stream",
     "name": "stdout",
     "text": [
      "time: 13.7 ms\nIn [137] used -492.8086 MiB RAM in 0.12s, peaked 0.00 MiB above current, total RAM usage 73.46 MiB\n"
     ]
    }
   ],
   "source": [
    "log_reg.coef_"
   ]
  },
  {
   "cell_type": "code",
   "execution_count": 141,
   "metadata": {},
   "outputs": [
    {
     "output_type": "error",
     "ename": "IndexError",
     "evalue": "index 136 is out of bounds for axis 0 with size 1",
     "traceback": [
      "\u001b[0;31m---------------------------------------------------------------------------\u001b[0m",
      "\u001b[0;31mIndexError\u001b[0m                                Traceback (most recent call last)",
      "\u001b[0;32m<ipython-input-141-c866c882af85>\u001b[0m in \u001b[0;36m<module>\u001b[0;34m\u001b[0m\n\u001b[1;32m     10\u001b[0m \u001b[0;34m\u001b[0m\u001b[0m\n\u001b[1;32m     11\u001b[0m \u001b[0;31m#check if the sorting indices are correct\u001b[0m\u001b[0;34m\u001b[0m\u001b[0;34m\u001b[0m\u001b[0;34m\u001b[0m\u001b[0m\n\u001b[0;32m---> 12\u001b[0;31m \u001b[0mprint\u001b[0m\u001b[0;34m(\u001b[0m\u001b[0mabs_weights\u001b[0m\u001b[0;34m[\u001b[0m\u001b[0msorted_index\u001b[0m\u001b[0;34m]\u001b[0m\u001b[0;34m)\u001b[0m\u001b[0;34m\u001b[0m\u001b[0;34m\u001b[0m\u001b[0m\n\u001b[0m\u001b[1;32m     13\u001b[0m \u001b[0;34m\u001b[0m\u001b[0m\n\u001b[1;32m     14\u001b[0m \u001b[0;31m#get the index of the top-2 features\u001b[0m\u001b[0;34m\u001b[0m\u001b[0;34m\u001b[0m\u001b[0;34m\u001b[0m\u001b[0m\n",
      "\u001b[0;31mIndexError\u001b[0m: index 136 is out of bounds for axis 0 with size 1"
     ]
    }
   ],
   "source": [
    "#features names\n",
    "names_of_variables =np.array(X.columns)\n",
    "\n",
    "#create random weights and get the magnitude\n",
    "weights = log_reg.coef_\n",
    "abs_weights = np.abs(weights)\n",
    "\n",
    "#get the sorting indices\n",
    "sorted_index = np.argsort(abs_weights)[::-1]\n",
    "\n",
    "#check if the sorting indices are correct\n",
    "print(abs_weights[sorted_index])\n",
    "\n",
    "#get the index of the top-2 features\n",
    "top_2 = sorted_index[:2]\n",
    "\n",
    "#get the names of the top 2 most important features\n",
    "print(names_of_variables[top_2])"
   ]
  },
  {
   "cell_type": "code",
   "execution_count": 149,
   "metadata": {},
   "outputs": [
    {
     "output_type": "error",
     "ename": "TypeError",
     "evalue": "unhashable type: 'numpy.ndarray'",
     "traceback": [
      "\u001b[0;31m---------------------------------------------------------------------------\u001b[0m",
      "\u001b[0;31mTypeError\u001b[0m                                 Traceback (most recent call last)",
      "\u001b[0;32m<ipython-input-149-255c959e22e6>\u001b[0m in \u001b[0;36m<module>\u001b[0;34m\u001b[0m\n\u001b[0;32m----> 1\u001b[0;31m \u001b[0ma\u001b[0m \u001b[0;34m=\u001b[0m \u001b[0mdict\u001b[0m\u001b[0;34m(\u001b[0m\u001b[0mzip\u001b[0m\u001b[0;34m(\u001b[0m\u001b[0mlist\u001b[0m\u001b[0;34m(\u001b[0m\u001b[0mlog_reg\u001b[0m\u001b[0;34m.\u001b[0m\u001b[0mcoef_\u001b[0m\u001b[0;34m)\u001b[0m\u001b[0;34m,\u001b[0m \u001b[0mX\u001b[0m\u001b[0;34m.\u001b[0m\u001b[0mcolumns\u001b[0m\u001b[0;34m)\u001b[0m\u001b[0;34m)\u001b[0m\u001b[0;34m\u001b[0m\u001b[0;34m\u001b[0m\u001b[0m\n\u001b[0m",
      "\u001b[0;31mTypeError\u001b[0m: unhashable type: 'numpy.ndarray'"
     ]
    }
   ],
   "source": [
    "a = dict(zip(list(log_reg.coef_), X.columns))"
   ]
  },
  {
   "cell_type": "code",
   "execution_count": 147,
   "metadata": {},
   "outputs": [
    {
     "output_type": "execute_result",
     "data": {
      "text/plain": [
       "[(array([ 0.11002766,  0.14967474,  0.05458321,  0.67446666,  1.59975074,\n",
       "          1.20165634,  1.24080528,  1.76901912,  0.71787322,  1.7533558 ,\n",
       "          1.69333498,  2.59205503,  1.86897274,  2.03353919,  2.34186666,\n",
       "          1.0623874 ,  1.63547171,  1.18554944,  1.20929985,  0.72568597,\n",
       "          1.90561484,  0.88839211,  0.85070771,  1.34893606,  1.72233943,\n",
       "          1.1954378 ,  1.41730383,  1.50729666,  1.7342795 ,  1.28186688,\n",
       "          1.30272101,  1.58710643,  1.9523476 ,  1.26516572,  1.22326368,\n",
       "          0.57889767,  1.49271404,  0.77839   ,  0.52319006,  2.03002312,\n",
       "          0.71831515,  1.70907093,  2.04513698,  3.17664746,  1.92102379,\n",
       "          2.44648075,  2.99044747,  1.05409101,  1.62357383,  1.10282228,\n",
       "          0.83559886,  0.56391198,  1.40888861,  0.55336106,  0.60721605,\n",
       "          1.10608755,  2.07590795,  1.01671143,  1.15340334,  0.93684076,\n",
       "          2.08079534,  1.03121811,  1.14182979,  0.99705121,  1.97738281,\n",
       "          1.00675576,  1.02928393,  0.3726322 ,  1.40823895,  0.58986184,\n",
       "          0.78985296,  2.15736667,  0.7814508 ,  1.87272586,  2.003957  ,\n",
       "          2.89653663,  2.11029737,  2.49079568,  2.81857627,  0.98879406,\n",
       "          1.62154387,  0.93840495,  0.97774182,  0.82913732,  1.62639137,\n",
       "          0.84895811,  0.83565558,  1.27125538,  1.92220413,  1.12915916,\n",
       "          1.32838791,  1.10401482,  1.78955647,  1.06046873,  1.16803058,\n",
       "          1.15675387,  1.88653005,  1.23989509,  1.1678311 ,  1.03811599,\n",
       "          1.51303412,  0.83442057,  0.92098378,  2.27099146,  0.44521207,\n",
       "          2.03999301,  2.05185175,  2.76721795,  2.18409132,  2.48647758,\n",
       "          2.64559437,  1.40973565,  1.55837952,  1.07861686,  1.18348148,\n",
       "          0.96611962,  1.31458742,  0.94412092,  1.00803527,  1.62281342,\n",
       "          1.64862613,  1.56313363,  1.39884854,  1.57717538,  1.82096344,\n",
       "          1.46620125,  1.5781408 ,  1.58334459,  1.90820059,  1.60828835,\n",
       "          1.35440026,  0.84433383,  1.3027208 ,  1.36908459,  0.73034476,\n",
       "          1.9853789 ,  0.02500058,  1.90976145,  1.91755318,  2.50812257,\n",
       "          2.06991075,  2.31449757,  2.30922257,  1.36513682,  1.41196848,\n",
       "          1.31611012,  1.07037057,  1.01697189,  1.17646369,  0.92793217,\n",
       "          0.70857488,  1.63219191,  1.42667094,  1.47548159,  1.54634965,\n",
       "          1.21295157,  1.43162693,  1.37338144,  1.58277953,  1.5804424 ,\n",
       "          1.54586288,  1.47258034,  1.24262714,  0.70929806,  1.19920379,\n",
       "          0.84323652,  0.93957065,  2.1125791 , -0.05481393,  1.978397  ,\n",
       "          2.02726647,  2.68994301,  1.9817966 ,  2.12786765,  2.20005394,\n",
       "          1.22479516,  1.64644587,  1.39828851,  1.44686125,  0.8764751 ,\n",
       "          1.14158671,  0.65392787,  0.52808606,  1.81450515,  1.88530349,\n",
       "          1.63307425,  1.61963218,  1.61260004,  1.85334257,  1.63945532,\n",
       "          1.70856369,  1.71975709,  1.93550985,  1.42153997,  1.41121749]),\n",
       "  'pick_position')]"
      ]
     },
     "metadata": {},
     "execution_count": 147
    },
    {
     "output_type": "stream",
     "name": "stdout",
     "text": [
      "time: 4.17 ms\nIn [147] used 0.0039 MiB RAM in 0.11s, peaked 0.00 MiB above current, total RAM usage 312.86 MiB\n"
     ]
    }
   ],
   "source": [
    "a"
   ]
  },
  {
   "cell_type": "code",
   "execution_count": 150,
   "metadata": {},
   "outputs": [
    {
     "output_type": "stream",
     "name": "stdout",
     "text": [
      "[('pick_position', 0.11002765868845994), ('trumpcount', 0.14967474406507822), ('heldpoints', 0.05458321170389533), ('1_10C', 0.6744666628889062), ('1_10D', 1.5997507406211577), ('1_10H', 1.2016563392462725), ('1_10S', 1.240805275205651), ('1_11C', 1.7690191226361656), ('1_11D', 0.717873224405544), ('1_11H', 1.7533558048142643), ('1_11S', 1.6933349814214034), ('1_12C', 2.592055029031644), ('1_12D', 1.8689727420483944), ('1_12H', 2.033539187748042), ('1_12S', 2.3418666579884717), ('1_13C', 1.0623873981862784), ('1_13D', 1.6354717140818347), ('1_13H', 1.1855494395372352), ('1_13S', 1.209299847884712), ('1_14C', 0.7256859675331376), ('1_14D', 1.9056148400911428), ('1_14H', 0.8883921073513197), ('1_14S', 0.8507077053699007), ('1_7C', 1.3489360575178402), ('1_7D', 1.7223394310729345), ('1_7H', 1.1954378022967143), ('1_7S', 1.4173038257045294), ('1_8C', 1.5072966596556636), ('1_8D', 1.7342794969532647), ('1_8H', 1.2818668820148458), ('1_8S', 1.3027210089144272), ('1_9C', 1.5871064289795964), ('1_9D', 1.9523476037794523), ('1_9H', 1.2651657219703396), ('1_9S', 1.2232636764019087), ('2_10C', 0.5788976731158993), ('2_10D', 1.49271403699115), ('2_10H', 0.7783899963247084), ('2_10S', 0.5231900618890084), ('2_11C', 2.0300231241370668), ('2_11D', 0.7183151487334726), ('2_11H', 1.7090709256872436), ('2_11S', 2.0451369758823517), ('2_12C', 3.1766474627750747), ('2_12D', 1.9210237904830394), ('2_12H', 2.4464807466683727), ('2_12S', 2.9904474736510793), ('2_13C', 1.0540910142448003), ('2_13D', 1.6235738261580146), ('2_13H', 1.102822276190593), ('2_13S', 0.8355988580840424), ('2_14C', 0.5639119830536059), ('2_14D', 1.408888610753382), ('2_14H', 0.5533610581222528), ('2_14S', 0.607216052263418), ('2_7C', 1.1060875464159803), ('2_7D', 2.075907949760356), ('2_7H', 1.0167114259187502), ('2_7S', 1.1534033401180914), ('2_8C', 0.9368407576201021), ('2_8D', 2.080795341998059), ('2_8H', 1.0312181144806707), ('2_8S', 1.1418297929072856), ('2_9C', 0.9970512136848859), ('2_9D', 1.977382811265765), ('2_9H', 1.0067557568668075), ('2_9S', 1.0292839300909027), ('3_10C', 0.3726322031181421), ('3_10D', 1.4082389458273747), ('3_10H', 0.5898618439201829), ('3_10S', 0.7898529601231676), ('3_11C', 2.1573666743258824), ('3_11D', 0.7814508042221133), ('3_11H', 1.8727258631735668), ('3_11S', 2.0039570035421095), ('3_12C', 2.896536633047137), ('3_12D', 2.1102973700530976), ('3_12H', 2.4907956766648303), ('3_12S', 2.8185762678792354), ('3_13C', 0.9887940615059454), ('3_13D', 1.621543868433589), ('3_13H', 0.9384049548495078), ('3_13S', 0.9777418153002905), ('3_14C', 0.8291373184778681), ('3_14D', 1.6263913716523488), ('3_14H', 0.8489581126406069), ('3_14S', 0.8356555817673087), ('3_7C', 1.2712553834769116), ('3_7D', 1.9222041340082938), ('3_7H', 1.1291591559033956), ('3_7S', 1.3283879099604274), ('3_8C', 1.104014824563472), ('3_8D', 1.7895564664574122), ('3_8H', 1.0604687337947876), ('3_8S', 1.1680305839091485), ('3_9C', 1.156753866393448), ('3_9D', 1.886530053327568), ('3_9H', 1.2398950859665312), ('3_9S', 1.1678311023460495), ('4_10C', 1.0381159885995317), ('4_10D', 1.5130341178164086), ('4_10H', 0.8344205745246878), ('4_10S', 0.9209837843290809), ('4_11C', 2.270991460348423), ('4_11D', 0.4452120685224623), ('4_11H', 2.0399930089588674), ('4_11S', 2.051851752245299), ('4_12C', 2.7672179476872882), ('4_12D', 2.184091316466061), ('4_12H', 2.486477580223547), ('4_12S', 2.645594367874176), ('4_13C', 1.4097356536482855), ('4_13D', 1.5583795154922961), ('4_13H', 1.078616859024707), ('4_13S', 1.1834814777013216), ('4_14C', 0.9661196202306022), ('4_14D', 1.3145874211879847), ('4_14H', 0.9441209242158667), ('4_14S', 1.008035265415288), ('4_7C', 1.6228134193580848), ('4_7D', 1.6486261323464322), ('4_7H', 1.5631336264326559), ('4_7S', 1.3988485400502293), ('4_8C', 1.5771753780015831), ('4_8D', 1.8209634370868515), ('4_8H', 1.4662012542417742), ('4_8S', 1.578140796041405), ('4_9C', 1.5833445855543888), ('4_9D', 1.9082005923785648), ('4_9H', 1.6082883530532042), ('4_9S', 1.3544002631446177), ('5_10C', 0.844333830639796), ('5_10D', 1.3027208044543548), ('5_10H', 1.3690845880437252), ('5_10S', 0.7303447565070177), ('5_11C', 1.9853789022149824), ('5_11D', 0.025000575801424393), ('5_11H', 1.9097614519859154), ('5_11S', 1.9175531766307095), ('5_12C', 2.508122570871022), ('5_12D', 2.069910749261102), ('5_12H', 2.3144975735715234), ('5_12S', 2.309222569864744), ('5_13C', 1.3651368246704714), ('5_13D', 1.411968477149056), ('5_13H', 1.3161101182718786), ('5_13S', 1.0703705733003288), ('5_14C', 1.0169718947413402), ('5_14D', 1.1764636899576364), ('5_14H', 0.9279321687329425), ('5_14S', 0.7085748794079969), ('5_7C', 1.6321919143998098), ('5_7D', 1.4266709353484683), ('5_7H', 1.4754815926382403), ('5_7S', 1.5463496465247057), ('5_8C', 1.212951572625582), ('5_8D', 1.4316269297769229), ('5_8H', 1.3733814381326461), ('5_8S', 1.5827795264951499), ('5_9C', 1.58044240030222), ('5_9D', 1.5458628758796458), ('5_9H', 1.4725803425142387), ('5_9S', 1.2426271437084868), ('6_10C', 0.7092980568375292), ('6_10D', 1.1992037889528753), ('6_10H', 0.8432365227772264), ('6_10S', 0.939570649517436), ('6_11C', 2.11257909600307), ('6_11D', -0.05481393155135289), ('6_11H', 1.9783969953889273), ('6_11S', 2.027266469742121), ('6_12C', 2.689943006750688), ('6_12D', 1.981796598892207), ('6_12H', 2.127867649882632), ('6_12S', 2.200053938645642), ('6_13C', 1.2247951571195308), ('6_13D', 1.6464458720462647), ('6_13H', 1.398288512360064), ('6_13S', 1.4468612450150697), ('6_14C', 0.8764750976521541), ('6_14D', 1.1415867073012074), ('6_14H', 0.6539278722920823), ('6_14S', 0.5280860622842317), ('6_7C', 1.8145051477232612), ('6_7D', 1.8853034918095462), ('6_7H', 1.633074250173868), ('6_7S', 1.619632178845071), ('6_8C', 1.6126000368118845), ('6_8D', 1.8533425668873014), ('6_8H', 1.6394553212299363), ('6_8S', 1.7085636947407046), ('6_9C', 1.7197570899250136), ('6_9D', 1.9355098533249318), ('6_9H', 1.4215399724572018), ('6_9S', 1.4112174867711762)]\ntime: 1.58 ms\nIn [150] used 0.0078 MiB RAM in 0.11s, peaked 0.00 MiB above current, total RAM usage 314.44 MiB\n"
     ]
    }
   ],
   "source": [
    "column_labels = X.columns.tolist()\n",
    "coef = log_reg.coef_.squeeze().tolist()\n",
    "\n",
    "# Zip together\n",
    "labels_coef = list(zip(column_labels, coef))\n",
    "\n",
    "# Verify the result\n",
    "print(labels_coef)"
   ]
  },
  {
   "cell_type": "code",
   "execution_count": 151,
   "metadata": {},
   "outputs": [
    {
     "output_type": "execute_result",
     "data": {
      "text/plain": [
       "[('6_11D', -0.05481393155135289),\n",
       " ('5_11D', 0.025000575801424393),\n",
       " ('heldpoints', 0.05458321170389533),\n",
       " ('pick_position', 0.11002765868845994),\n",
       " ('trumpcount', 0.14967474406507822),\n",
       " ('3_10C', 0.3726322031181421),\n",
       " ('4_11D', 0.4452120685224623),\n",
       " ('2_10S', 0.5231900618890084),\n",
       " ('6_14S', 0.5280860622842317),\n",
       " ('2_14H', 0.5533610581222528),\n",
       " ('2_14C', 0.5639119830536059),\n",
       " ('2_10C', 0.5788976731158993),\n",
       " ('3_10H', 0.5898618439201829),\n",
       " ('2_14S', 0.607216052263418),\n",
       " ('6_14H', 0.6539278722920823),\n",
       " ('1_10C', 0.6744666628889062),\n",
       " ('5_14S', 0.7085748794079969),\n",
       " ('6_10C', 0.7092980568375292),\n",
       " ('1_11D', 0.717873224405544),\n",
       " ('2_11D', 0.7183151487334726),\n",
       " ('1_14C', 0.7256859675331376),\n",
       " ('5_10S', 0.7303447565070177),\n",
       " ('2_10H', 0.7783899963247084),\n",
       " ('3_11D', 0.7814508042221133),\n",
       " ('3_10S', 0.7898529601231676),\n",
       " ('3_14C', 0.8291373184778681),\n",
       " ('4_10H', 0.8344205745246878),\n",
       " ('2_13S', 0.8355988580840424),\n",
       " ('3_14S', 0.8356555817673087),\n",
       " ('6_10H', 0.8432365227772264),\n",
       " ('5_10C', 0.844333830639796),\n",
       " ('3_14H', 0.8489581126406069),\n",
       " ('1_14S', 0.8507077053699007),\n",
       " ('6_14C', 0.8764750976521541),\n",
       " ('1_14H', 0.8883921073513197),\n",
       " ('4_10S', 0.9209837843290809),\n",
       " ('5_14H', 0.9279321687329425),\n",
       " ('2_8C', 0.9368407576201021),\n",
       " ('3_13H', 0.9384049548495078),\n",
       " ('6_10S', 0.939570649517436),\n",
       " ('4_14H', 0.9441209242158667),\n",
       " ('4_14C', 0.9661196202306022),\n",
       " ('3_13S', 0.9777418153002905),\n",
       " ('3_13C', 0.9887940615059454),\n",
       " ('2_9C', 0.9970512136848859),\n",
       " ('2_9H', 1.0067557568668075),\n",
       " ('4_14S', 1.008035265415288),\n",
       " ('2_7H', 1.0167114259187502),\n",
       " ('5_14C', 1.0169718947413402),\n",
       " ('2_9S', 1.0292839300909027),\n",
       " ('2_8H', 1.0312181144806707),\n",
       " ('4_10C', 1.0381159885995317),\n",
       " ('2_13C', 1.0540910142448003),\n",
       " ('3_8H', 1.0604687337947876),\n",
       " ('1_13C', 1.0623873981862784),\n",
       " ('5_13S', 1.0703705733003288),\n",
       " ('4_13H', 1.078616859024707),\n",
       " ('2_13H', 1.102822276190593),\n",
       " ('3_8C', 1.104014824563472),\n",
       " ('2_7C', 1.1060875464159803),\n",
       " ('3_7H', 1.1291591559033956),\n",
       " ('6_14D', 1.1415867073012074),\n",
       " ('2_8S', 1.1418297929072856),\n",
       " ('2_7S', 1.1534033401180914),\n",
       " ('3_9C', 1.156753866393448),\n",
       " ('3_9S', 1.1678311023460495),\n",
       " ('3_8S', 1.1680305839091485),\n",
       " ('5_14D', 1.1764636899576364),\n",
       " ('4_13S', 1.1834814777013216),\n",
       " ('1_13H', 1.1855494395372352),\n",
       " ('1_7H', 1.1954378022967143),\n",
       " ('6_10D', 1.1992037889528753),\n",
       " ('1_10H', 1.2016563392462725),\n",
       " ('1_13S', 1.209299847884712),\n",
       " ('5_8C', 1.212951572625582),\n",
       " ('1_9S', 1.2232636764019087),\n",
       " ('6_13C', 1.2247951571195308),\n",
       " ('3_9H', 1.2398950859665312),\n",
       " ('1_10S', 1.240805275205651),\n",
       " ('5_9S', 1.2426271437084868),\n",
       " ('1_9H', 1.2651657219703396),\n",
       " ('3_7C', 1.2712553834769116),\n",
       " ('1_8H', 1.2818668820148458),\n",
       " ('5_10D', 1.3027208044543548),\n",
       " ('1_8S', 1.3027210089144272),\n",
       " ('4_14D', 1.3145874211879847),\n",
       " ('5_13H', 1.3161101182718786),\n",
       " ('3_7S', 1.3283879099604274),\n",
       " ('1_7C', 1.3489360575178402),\n",
       " ('4_9S', 1.3544002631446177),\n",
       " ('5_13C', 1.3651368246704714),\n",
       " ('5_10H', 1.3690845880437252),\n",
       " ('5_8H', 1.3733814381326461),\n",
       " ('6_13H', 1.398288512360064),\n",
       " ('4_7S', 1.3988485400502293),\n",
       " ('3_10D', 1.4082389458273747),\n",
       " ('2_14D', 1.408888610753382),\n",
       " ('4_13C', 1.4097356536482855),\n",
       " ('6_9S', 1.4112174867711762),\n",
       " ('5_13D', 1.411968477149056),\n",
       " ('1_7S', 1.4173038257045294),\n",
       " ('6_9H', 1.4215399724572018),\n",
       " ('5_7D', 1.4266709353484683),\n",
       " ('5_8D', 1.4316269297769229),\n",
       " ('6_13S', 1.4468612450150697),\n",
       " ('4_8H', 1.4662012542417742),\n",
       " ('5_9H', 1.4725803425142387),\n",
       " ('5_7H', 1.4754815926382403),\n",
       " ('2_10D', 1.49271403699115),\n",
       " ('1_8C', 1.5072966596556636),\n",
       " ('4_10D', 1.5130341178164086),\n",
       " ('5_9D', 1.5458628758796458),\n",
       " ('5_7S', 1.5463496465247057),\n",
       " ('4_13D', 1.5583795154922961),\n",
       " ('4_7H', 1.5631336264326559),\n",
       " ('4_8C', 1.5771753780015831),\n",
       " ('4_8S', 1.578140796041405),\n",
       " ('5_9C', 1.58044240030222),\n",
       " ('5_8S', 1.5827795264951499),\n",
       " ('4_9C', 1.5833445855543888),\n",
       " ('1_9C', 1.5871064289795964),\n",
       " ('1_10D', 1.5997507406211577),\n",
       " ('4_9H', 1.6082883530532042),\n",
       " ('6_8C', 1.6126000368118845),\n",
       " ('6_7S', 1.619632178845071),\n",
       " ('3_13D', 1.621543868433589),\n",
       " ('4_7C', 1.6228134193580848),\n",
       " ('2_13D', 1.6235738261580146),\n",
       " ('3_14D', 1.6263913716523488),\n",
       " ('5_7C', 1.6321919143998098),\n",
       " ('6_7H', 1.633074250173868),\n",
       " ('1_13D', 1.6354717140818347),\n",
       " ('6_8H', 1.6394553212299363),\n",
       " ('6_13D', 1.6464458720462647),\n",
       " ('4_7D', 1.6486261323464322),\n",
       " ('1_11S', 1.6933349814214034),\n",
       " ('6_8S', 1.7085636947407046),\n",
       " ('2_11H', 1.7090709256872436),\n",
       " ('6_9C', 1.7197570899250136),\n",
       " ('1_7D', 1.7223394310729345),\n",
       " ('1_8D', 1.7342794969532647),\n",
       " ('1_11H', 1.7533558048142643),\n",
       " ('1_11C', 1.7690191226361656),\n",
       " ('3_8D', 1.7895564664574122),\n",
       " ('6_7C', 1.8145051477232612),\n",
       " ('4_8D', 1.8209634370868515),\n",
       " ('6_8D', 1.8533425668873014),\n",
       " ('1_12D', 1.8689727420483944),\n",
       " ('3_11H', 1.8727258631735668),\n",
       " ('6_7D', 1.8853034918095462),\n",
       " ('3_9D', 1.886530053327568),\n",
       " ('1_14D', 1.9056148400911428),\n",
       " ('4_9D', 1.9082005923785648),\n",
       " ('5_11H', 1.9097614519859154),\n",
       " ('5_11S', 1.9175531766307095),\n",
       " ('2_12D', 1.9210237904830394),\n",
       " ('3_7D', 1.9222041340082938),\n",
       " ('6_9D', 1.9355098533249318),\n",
       " ('1_9D', 1.9523476037794523),\n",
       " ('2_9D', 1.977382811265765),\n",
       " ('6_11H', 1.9783969953889273),\n",
       " ('6_12D', 1.981796598892207),\n",
       " ('5_11C', 1.9853789022149824),\n",
       " ('3_11S', 2.0039570035421095),\n",
       " ('6_11S', 2.027266469742121),\n",
       " ('2_11C', 2.0300231241370668),\n",
       " ('1_12H', 2.033539187748042),\n",
       " ('4_11H', 2.0399930089588674),\n",
       " ('2_11S', 2.0451369758823517),\n",
       " ('4_11S', 2.051851752245299),\n",
       " ('5_12D', 2.069910749261102),\n",
       " ('2_7D', 2.075907949760356),\n",
       " ('2_8D', 2.080795341998059),\n",
       " ('3_12D', 2.1102973700530976),\n",
       " ('6_11C', 2.11257909600307),\n",
       " ('6_12H', 2.127867649882632),\n",
       " ('3_11C', 2.1573666743258824),\n",
       " ('4_12D', 2.184091316466061),\n",
       " ('6_12S', 2.200053938645642),\n",
       " ('4_11C', 2.270991460348423),\n",
       " ('5_12S', 2.309222569864744),\n",
       " ('5_12H', 2.3144975735715234),\n",
       " ('1_12S', 2.3418666579884717),\n",
       " ('2_12H', 2.4464807466683727),\n",
       " ('4_12H', 2.486477580223547),\n",
       " ('3_12H', 2.4907956766648303),\n",
       " ('5_12C', 2.508122570871022),\n",
       " ('1_12C', 2.592055029031644),\n",
       " ('4_12S', 2.645594367874176),\n",
       " ('6_12C', 2.689943006750688),\n",
       " ('4_12C', 2.7672179476872882),\n",
       " ('3_12S', 2.8185762678792354),\n",
       " ('3_12C', 2.896536633047137),\n",
       " ('2_12S', 2.9904474736510793),\n",
       " ('2_12C', 3.1766474627750747)]"
      ]
     },
     "metadata": {},
     "execution_count": 151
    },
    {
     "output_type": "stream",
     "name": "stdout",
     "text": [
      "time: 13.3 ms\nIn [151] used 0.0117 MiB RAM in 0.11s, peaked 0.00 MiB above current, total RAM usage 255.55 MiB\n"
     ]
    }
   ],
   "source": [
    "sorted(labels_coef, key=lambda x: x[1])"
   ]
  },
  {
   "cell_type": "code",
   "execution_count": null,
   "metadata": {},
   "outputs": [],
   "source": []
  }
 ]
}