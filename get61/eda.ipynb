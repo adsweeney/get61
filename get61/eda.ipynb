{
 "metadata": {
  "language_info": {
   "codemirror_mode": {
    "name": "ipython",
    "version": 3
   },
   "file_extension": ".py",
   "mimetype": "text/x-python",
   "name": "python",
   "nbconvert_exporter": "python",
   "pygments_lexer": "ipython3",
   "version": "3.8.3-final"
  },
  "orig_nbformat": 2,
  "kernelspec": {
   "name": "python3",
   "display_name": "Python 3.8.3 64-bit ('metis': conda)",
   "metadata": {
    "interpreter": {
     "hash": "e94c15d6dbef08e95baaf638ff93666d2390f58e0c4317ae3b2bf35ecad0e12e"
    }
   }
  }
 },
 "nbformat": 4,
 "nbformat_minor": 2,
 "cells": [
  {
   "cell_type": "code",
   "execution_count": 13,
   "metadata": {},
   "outputs": [],
   "source": [
    "heartsa = [str(i) + 'H' for i in range(7,15)]\n",
    "clubsa = [str(i) + 'C' for i in range(7,15)]\n",
    "spadesa = [str(i) + 'S' for i in range(7,15)]\n",
    "diamondsa = [str(i) + 'D' for i in range(7,15)]\n",
    "\n",
    "allcardsa = heartsa + clubsa + spadesa + diamondsa\n",
    "valuesa = [0, 0, 0, 10, 2, 3, 4, 11, 0, 0, 0, 10, 2, 3, 4, 11, 0, 0, 0, 10, 2, 3, 4, 11, 0, 0, 0, 10, 2, 3, 4, 11]\n",
    "\n",
    "pointvalues = dict(zip(allcardsa, valuesa))"
   ]
  },
  {
   "cell_type": "code",
   "execution_count": 11,
   "metadata": {},
   "outputs": [
    {
     "output_type": "stream",
     "name": "stdout",
     "text": [
      "time: 141 ms\nIn [11] used 0.0078 MiB RAM in 0.10s, peaked 0.00 MiB above current, total RAM usage 371.51 MiB\n"
     ]
    }
   ],
   "source": [
    "import pandas as pd\n",
    "import numpy as np\n",
    "# ipython autotime\n",
    "%load_ext autotime\n",
    "\n",
    "# ipython_memory_usage\n",
    "import ipython_memory_usage \n",
    "%ipython_memory_usage_start  \n",
    "from pprint import pprint as pp"
   ]
  },
  {
   "cell_type": "code",
   "execution_count": 8,
   "metadata": {},
   "outputs": [],
   "source": [
    "# df1 = pd.read_pickle('2256000_2256009')\n",
    "# df2 = pd.read_pickle('2268010_2268200')\n",
    "# df3 = pd.read_pickle('2268200_2268600')\n",
    "# df4 = pd.read_pickle('2268600_2270000')\n",
    "# df5 = pd.read_pickle('2270000_2272000')\n",
    "# df6 = pd.read_pickle('2272000_2274000')\n",
    "# df7 = pd.read_pickle('2274000_2277000')\n",
    "# df8 = pd.read_pickle('2277000_2280000')\n",
    "# df9 = pd.read_pickle('2280000_2282000')\n",
    "# df10 = pd.read_pickle('2282000_2284000')\n",
    "# df11 = pd.read_pickle('2284000_2285000')\n",
    "# df12 = pd.read_pickle('2285000_2287000')\n",
    "# df13 = pd.read_pickle('2287000_2290000')\n",
    "# df14 = pd.read_pickle('2290000_2293000')\n",
    "# df15 = pd.read_pickle('2293000_2296000')\n",
    "# df16 = pd.read_pickle('2296000_2330000')"
   ]
  },
  {
   "cell_type": "code",
   "execution_count": 26,
   "metadata": {},
   "outputs": [
    {
     "output_type": "stream",
     "name": "stdout",
     "text": [
      "time: 114 ms\nIn [26] used -117.7773 MiB RAM in 0.22s, peaked 117.78 MiB above current, total RAM usage 671.86 MiB\n"
     ]
    }
   ],
   "source": [
    "dfa = pd.concat([df1, df2, df3, df4, df5, df6, df7, df8, df9, df10, df11, df12, df13, df14, df15, df16])"
   ]
  },
  {
   "cell_type": "code",
   "execution_count": 27,
   "metadata": {},
   "outputs": [
    {
     "output_type": "stream",
     "name": "stdout",
     "text": [
      "time: 402 ms\nIn [27] used 65.5977 MiB RAM in 0.51s, peaked 32.16 MiB above current, total RAM usage 737.45 MiB\n"
     ]
    }
   ],
   "source": [
    "dfa.to_pickle('basedf')"
   ]
  },
  {
   "cell_type": "code",
   "execution_count": 19,
   "metadata": {},
   "outputs": [],
   "source": [
    "# card types\n",
    "hearts = [str(i) + 'H' for i in range(7, 11)] + ['13H'] + ['14H']\n",
    "spades = [str(i) + 'S' for i in range(7, 11)] + ['13S'] + ['14S']\n",
    "clubs = [str(i) + 'C' for i in range(7, 11)] + ['13C'] + ['14C']\n",
    "# Trump\n",
    "trump = [str(i) + 'D' for i in range(7, 15)] + ['11' + i for i in ['H', 'S', 'C']] + ['12' + i for i in ['H', 'S', 'C']]"
   ]
  },
  {
   "cell_type": "code",
   "execution_count": 20,
   "metadata": {},
   "outputs": [
    {
     "output_type": "stream",
     "name": "stdout",
     "text": [
      "time: 1.11 ms\nIn [20] used 0.0352 MiB RAM in 0.10s, peaked 0.00 MiB above current, total RAM usage 371.34 MiB\n"
     ]
    }
   ],
   "source": [
    "fail = hearts + spades + clubs"
   ]
  },
  {
   "cell_type": "code",
   "execution_count": 21,
   "metadata": {},
   "outputs": [
    {
     "output_type": "stream",
     "name": "stdout",
     "text": [
      "time: 1.4 ms\n",
      "In [21] used 0.0078 MiB RAM in 0.11s, peaked 0.00 MiB above current, total RAM usage 371.35 MiB\n"
     ]
    }
   ],
   "source": [
    "points = [0, 0, 0, 10, 4, 11]\n",
    "pointstrump = [0, 0, 0, 10, 2, 3, 4, 11, 2, 2, 2, 3, 3, 3]\n",
    "trumprank = [1, 2, 3, 5, 7, 11, 4, 6, 8, 9, 10, 12, 13, 14]\n",
    "failrank = [1, 2, 3, 5, 4, 6]"
   ]
  },
  {
   "cell_type": "code",
   "execution_count": 22,
   "metadata": {},
   "outputs": [
    {
     "output_type": "stream",
     "name": "stdout",
     "text": [
      "time: 2.26 ms\n",
      "In [22] used -0.0195 MiB RAM in 0.10s, peaked 0.00 MiB above current, total RAM usage 371.33 MiB\n"
     ]
    }
   ],
   "source": [
    "faildic = dict(zip(fail, zip(points * 4, failrank * 4)))\n",
    "trumpdic = dict(zip(trump, zip(pointstrump, trumprank)))\n"
   ]
  },
  {
   "cell_type": "code",
   "execution_count": 23,
   "metadata": {},
   "outputs": [
    {
     "output_type": "stream",
     "name": "stdout",
     "text": [
      "time: 27.2 ms\nIn [23] used 245.3867 MiB RAM in 0.13s, peaked 0.00 MiB above current, total RAM usage 616.72 MiB\n"
     ]
    }
   ],
   "source": [
    "df = dfa.copy()"
   ]
  },
  {
   "cell_type": "code",
   "execution_count": 28,
   "metadata": {},
   "outputs": [
    {
     "output_type": "stream",
     "name": "stdout",
     "text": [
      "time: 20.5 s\nIn [28] used -175.9805 MiB RAM in 20.63s, peaked 237.71 MiB above current, total RAM usage 561.47 MiB\n"
     ]
    }
   ],
   "source": [
    "df['cards'] = df[df.columns[1:7]].apply(lambda x: ','.join(x.astype(str)).split(','), axis=1)\n",
    "df['trump'] = df['cards'].apply(lambda x: [i for i in x if i in trumpdic.keys()])\n"
   ]
  },
  {
   "cell_type": "code",
   "execution_count": 29,
   "metadata": {},
   "outputs": [
    {
     "output_type": "stream",
     "name": "stdout",
     "text": [
      "time: 55.2 ms\n",
      "In [29] used 4.9609 MiB RAM in 0.16s, peaked 0.00 MiB above current, total RAM usage 566.43 MiB\n"
     ]
    }
   ],
   "source": [
    "df['trumpcount'] = df['trump'].apply(lambda x: len(x))"
   ]
  },
  {
   "cell_type": "code",
   "execution_count": 30,
   "metadata": {},
   "outputs": [
    {
     "output_type": "stream",
     "name": "stdout",
     "text": [
      "time: 370 ms\nIn [30] used 15.1172 MiB RAM in 0.47s, peaked 0.00 MiB above current, total RAM usage 581.55 MiB\n"
     ]
    }
   ],
   "source": [
    "df['fail'] = df['cards'].apply(lambda x: [i for i in x if i in faildic.keys()])\n"
   ]
  },
  {
   "cell_type": "code",
   "execution_count": 31,
   "metadata": {},
   "outputs": [
    {
     "output_type": "stream",
     "name": "stdout",
     "text": [
      "time: 53.3 ms\n",
      "In [31] used 1.2188 MiB RAM in 0.16s, peaked 0.00 MiB above current, total RAM usage 582.77 MiB\n"
     ]
    }
   ],
   "source": [
    "df['failcount'] = df['fail'].apply(lambda x: len(x))"
   ]
  },
  {
   "cell_type": "code",
   "execution_count": 32,
   "metadata": {},
   "outputs": [
    {
     "output_type": "stream",
     "name": "stdout",
     "text": [
      "time: 141 ms\n",
      "In [32] used 1.2227 MiB RAM in 0.24s, peaked 0.00 MiB above current, total RAM usage 583.99 MiB\n"
     ]
    }
   ],
   "source": [
    "df['heldpoints'] = df['cards'].apply(lambda x: sum([pointvalues[i] for i in x]))"
   ]
  },
  {
   "cell_type": "code",
   "execution_count": 33,
   "metadata": {},
   "outputs": [
    {
     "output_type": "stream",
     "name": "stdout",
     "text": [
      "time: 26.8 ms\n",
      "In [33] used 0.1719 MiB RAM in 0.13s, peaked 0.00 MiB above current, total RAM usage 584.16 MiB\n"
     ]
    }
   ],
   "source": [
    "df['outcome'] = df['score'].apply(lambda x: 'win' if x > 0 else 'lose')"
   ]
  },
  {
   "cell_type": "code",
   "execution_count": 34,
   "metadata": {},
   "outputs": [
    {
     "output_type": "stream",
     "name": "stdout",
     "text": [
      "time: 903 ms\nIn [34] used -4.8555 MiB RAM in 1.01s, peaked 65.21 MiB above current, total RAM usage 579.31 MiB\n"
     ]
    }
   ],
   "source": [
    "df['uniqueid'] = df[['handid', 'name']].astype(str).apply('-'.join,1)\n"
   ]
  },
  {
   "cell_type": "code",
   "execution_count": null,
   "metadata": {},
   "outputs": [],
   "source": []
  },
  {
   "cell_type": "code",
   "execution_count": 35,
   "metadata": {},
   "outputs": [
    {
     "output_type": "execute_result",
     "data": {
      "text/plain": [
       "            name    1    2    3    4    5    6  score   handid   picker  ...  \\\n",
       "0         jturba   8H  12C  14H  13D   9C  13C      2  2256000   picker  ...   \n",
       "1     Jungle jim   9S   8D  13H  11C  12S   9H     -1  2256000       no  ...   \n",
       "2         jcardo  14S   7D   7H  10C  13S   8C     -1  2256000       no  ...   \n",
       "3       robyinko  11D  12H  11S   9D  11H  12D      1  2256000  partner  ...   \n",
       "4        shipdog   7S  10D  10H  14D  14C   7C     -1  2256000       no  ...   \n",
       "..           ...  ...  ...  ...  ...  ...  ...    ...      ...      ...  ...   \n",
       "0        rboegel   8D  14S  14D   7C  11C   8H     -2  2304498       no  ...   \n",
       "1        gmabear  12H   9S  11D   9C   7H   9H      2  2304498  partner  ...   \n",
       "2      bighuhnit  12C  13S  12D  14C   8C   8S     -2  2304498       no  ...   \n",
       "3   Barbara Dorn   7D  13D  12S  13C  10C  10D      4  2304498   picker  ...   \n",
       "4         jturba   9D   7S  11H  13H  11S  14H     -2  2304498       no  ...   \n",
       "\n",
       "   ace_suit  leaster                          cards  \\\n",
       "0                      [8H, 12C, 14H, 13D, 9C, 13C]   \n",
       "1                       [9S, 8D, 13H, 11C, 12S, 9H]   \n",
       "2                       [14S, 7D, 7H, 10C, 13S, 8C]   \n",
       "3                     [11D, 12H, 11S, 9D, 11H, 12D]   \n",
       "4                      [7S, 10D, 10H, 14D, 14C, 7C]   \n",
       "..      ...      ...                            ...   \n",
       "0                       [8D, 14S, 14D, 7C, 11C, 8H]   \n",
       "1                        [12H, 9S, 11D, 9C, 7H, 9H]   \n",
       "2                      [12C, 13S, 12D, 14C, 8C, 8S]   \n",
       "3                     [7D, 13D, 12S, 13C, 10C, 10D]   \n",
       "4                      [9D, 7S, 11H, 13H, 11S, 14H]   \n",
       "\n",
       "                            trump  trumpcount                     fail  \\\n",
       "0                      [12C, 13D]           2       [8H, 14H, 9C, 13C]   \n",
       "1                  [8D, 11C, 12S]           3            [9S, 13H, 9H]   \n",
       "2                            [7D]           1  [14S, 7H, 10C, 13S, 8C]   \n",
       "3   [11D, 12H, 11S, 9D, 11H, 12D]           6                       []   \n",
       "4                      [10D, 14D]           2       [7S, 10H, 14C, 7C]   \n",
       "..                            ...         ...                      ...   \n",
       "0                  [8D, 14D, 11C]           3            [14S, 7C, 8H]   \n",
       "1                      [12H, 11D]           2         [9S, 9C, 7H, 9H]   \n",
       "2                      [12C, 12D]           2       [13S, 14C, 8C, 8S]   \n",
       "3             [7D, 13D, 12S, 10D]           4               [13C, 10C]   \n",
       "4                  [9D, 11H, 11S]           3           [7S, 13H, 14H]   \n",
       "\n",
       "    failcount  heldpoints  outcome              uniqueid  \n",
       "0           4          22      win        2256000-jturba  \n",
       "1           3           9     lose    2256000-Jungle jim  \n",
       "2           5          25     lose        2256000-jcardo  \n",
       "3           0          12      win      2256000-robyinko  \n",
       "4           4          42     lose       2256000-shipdog  \n",
       "..        ...         ...      ...                   ...  \n",
       "0           3          24     lose       2304498-rboegel  \n",
       "1           4           5      win       2304498-gmabear  \n",
       "2           4          21     lose     2304498-bighuhnit  \n",
       "3           2          31      win  2304498-Barbara Dorn  \n",
       "4           3          19     lose        2304498-jturba  \n",
       "\n",
       "[155760 rows x 40 columns]"
      ],
      "text/html": "<div>\n<style scoped>\n    .dataframe tbody tr th:only-of-type {\n        vertical-align: middle;\n    }\n\n    .dataframe tbody tr th {\n        vertical-align: top;\n    }\n\n    .dataframe thead th {\n        text-align: right;\n    }\n</style>\n<table border=\"1\" class=\"dataframe\">\n  <thead>\n    <tr style=\"text-align: right;\">\n      <th></th>\n      <th>name</th>\n      <th>1</th>\n      <th>2</th>\n      <th>3</th>\n      <th>4</th>\n      <th>5</th>\n      <th>6</th>\n      <th>score</th>\n      <th>handid</th>\n      <th>picker</th>\n      <th>...</th>\n      <th>ace_suit</th>\n      <th>leaster</th>\n      <th>cards</th>\n      <th>trump</th>\n      <th>trumpcount</th>\n      <th>fail</th>\n      <th>failcount</th>\n      <th>heldpoints</th>\n      <th>outcome</th>\n      <th>uniqueid</th>\n    </tr>\n  </thead>\n  <tbody>\n    <tr>\n      <th>0</th>\n      <td>jturba</td>\n      <td>8H</td>\n      <td>12C</td>\n      <td>14H</td>\n      <td>13D</td>\n      <td>9C</td>\n      <td>13C</td>\n      <td>2</td>\n      <td>2256000</td>\n      <td>picker</td>\n      <td>...</td>\n      <td></td>\n      <td></td>\n      <td>[8H, 12C, 14H, 13D, 9C, 13C]</td>\n      <td>[12C, 13D]</td>\n      <td>2</td>\n      <td>[8H, 14H, 9C, 13C]</td>\n      <td>4</td>\n      <td>22</td>\n      <td>win</td>\n      <td>2256000-jturba</td>\n    </tr>\n    <tr>\n      <th>1</th>\n      <td>Jungle jim</td>\n      <td>9S</td>\n      <td>8D</td>\n      <td>13H</td>\n      <td>11C</td>\n      <td>12S</td>\n      <td>9H</td>\n      <td>-1</td>\n      <td>2256000</td>\n      <td>no</td>\n      <td>...</td>\n      <td></td>\n      <td></td>\n      <td>[9S, 8D, 13H, 11C, 12S, 9H]</td>\n      <td>[8D, 11C, 12S]</td>\n      <td>3</td>\n      <td>[9S, 13H, 9H]</td>\n      <td>3</td>\n      <td>9</td>\n      <td>lose</td>\n      <td>2256000-Jungle jim</td>\n    </tr>\n    <tr>\n      <th>2</th>\n      <td>jcardo</td>\n      <td>14S</td>\n      <td>7D</td>\n      <td>7H</td>\n      <td>10C</td>\n      <td>13S</td>\n      <td>8C</td>\n      <td>-1</td>\n      <td>2256000</td>\n      <td>no</td>\n      <td>...</td>\n      <td></td>\n      <td></td>\n      <td>[14S, 7D, 7H, 10C, 13S, 8C]</td>\n      <td>[7D]</td>\n      <td>1</td>\n      <td>[14S, 7H, 10C, 13S, 8C]</td>\n      <td>5</td>\n      <td>25</td>\n      <td>lose</td>\n      <td>2256000-jcardo</td>\n    </tr>\n    <tr>\n      <th>3</th>\n      <td>robyinko</td>\n      <td>11D</td>\n      <td>12H</td>\n      <td>11S</td>\n      <td>9D</td>\n      <td>11H</td>\n      <td>12D</td>\n      <td>1</td>\n      <td>2256000</td>\n      <td>partner</td>\n      <td>...</td>\n      <td></td>\n      <td></td>\n      <td>[11D, 12H, 11S, 9D, 11H, 12D]</td>\n      <td>[11D, 12H, 11S, 9D, 11H, 12D]</td>\n      <td>6</td>\n      <td>[]</td>\n      <td>0</td>\n      <td>12</td>\n      <td>win</td>\n      <td>2256000-robyinko</td>\n    </tr>\n    <tr>\n      <th>4</th>\n      <td>shipdog</td>\n      <td>7S</td>\n      <td>10D</td>\n      <td>10H</td>\n      <td>14D</td>\n      <td>14C</td>\n      <td>7C</td>\n      <td>-1</td>\n      <td>2256000</td>\n      <td>no</td>\n      <td>...</td>\n      <td></td>\n      <td></td>\n      <td>[7S, 10D, 10H, 14D, 14C, 7C]</td>\n      <td>[10D, 14D]</td>\n      <td>2</td>\n      <td>[7S, 10H, 14C, 7C]</td>\n      <td>4</td>\n      <td>42</td>\n      <td>lose</td>\n      <td>2256000-shipdog</td>\n    </tr>\n    <tr>\n      <th>...</th>\n      <td>...</td>\n      <td>...</td>\n      <td>...</td>\n      <td>...</td>\n      <td>...</td>\n      <td>...</td>\n      <td>...</td>\n      <td>...</td>\n      <td>...</td>\n      <td>...</td>\n      <td>...</td>\n      <td>...</td>\n      <td>...</td>\n      <td>...</td>\n      <td>...</td>\n      <td>...</td>\n      <td>...</td>\n      <td>...</td>\n      <td>...</td>\n      <td>...</td>\n      <td>...</td>\n    </tr>\n    <tr>\n      <th>0</th>\n      <td>rboegel</td>\n      <td>8D</td>\n      <td>14S</td>\n      <td>14D</td>\n      <td>7C</td>\n      <td>11C</td>\n      <td>8H</td>\n      <td>-2</td>\n      <td>2304498</td>\n      <td>no</td>\n      <td>...</td>\n      <td></td>\n      <td></td>\n      <td>[8D, 14S, 14D, 7C, 11C, 8H]</td>\n      <td>[8D, 14D, 11C]</td>\n      <td>3</td>\n      <td>[14S, 7C, 8H]</td>\n      <td>3</td>\n      <td>24</td>\n      <td>lose</td>\n      <td>2304498-rboegel</td>\n    </tr>\n    <tr>\n      <th>1</th>\n      <td>gmabear</td>\n      <td>12H</td>\n      <td>9S</td>\n      <td>11D</td>\n      <td>9C</td>\n      <td>7H</td>\n      <td>9H</td>\n      <td>2</td>\n      <td>2304498</td>\n      <td>partner</td>\n      <td>...</td>\n      <td></td>\n      <td></td>\n      <td>[12H, 9S, 11D, 9C, 7H, 9H]</td>\n      <td>[12H, 11D]</td>\n      <td>2</td>\n      <td>[9S, 9C, 7H, 9H]</td>\n      <td>4</td>\n      <td>5</td>\n      <td>win</td>\n      <td>2304498-gmabear</td>\n    </tr>\n    <tr>\n      <th>2</th>\n      <td>bighuhnit</td>\n      <td>12C</td>\n      <td>13S</td>\n      <td>12D</td>\n      <td>14C</td>\n      <td>8C</td>\n      <td>8S</td>\n      <td>-2</td>\n      <td>2304498</td>\n      <td>no</td>\n      <td>...</td>\n      <td></td>\n      <td></td>\n      <td>[12C, 13S, 12D, 14C, 8C, 8S]</td>\n      <td>[12C, 12D]</td>\n      <td>2</td>\n      <td>[13S, 14C, 8C, 8S]</td>\n      <td>4</td>\n      <td>21</td>\n      <td>lose</td>\n      <td>2304498-bighuhnit</td>\n    </tr>\n    <tr>\n      <th>3</th>\n      <td>Barbara Dorn</td>\n      <td>7D</td>\n      <td>13D</td>\n      <td>12S</td>\n      <td>13C</td>\n      <td>10C</td>\n      <td>10D</td>\n      <td>4</td>\n      <td>2304498</td>\n      <td>picker</td>\n      <td>...</td>\n      <td></td>\n      <td></td>\n      <td>[7D, 13D, 12S, 13C, 10C, 10D]</td>\n      <td>[7D, 13D, 12S, 10D]</td>\n      <td>4</td>\n      <td>[13C, 10C]</td>\n      <td>2</td>\n      <td>31</td>\n      <td>win</td>\n      <td>2304498-Barbara Dorn</td>\n    </tr>\n    <tr>\n      <th>4</th>\n      <td>jturba</td>\n      <td>9D</td>\n      <td>7S</td>\n      <td>11H</td>\n      <td>13H</td>\n      <td>11S</td>\n      <td>14H</td>\n      <td>-2</td>\n      <td>2304498</td>\n      <td>no</td>\n      <td>...</td>\n      <td></td>\n      <td></td>\n      <td>[9D, 7S, 11H, 13H, 11S, 14H]</td>\n      <td>[9D, 11H, 11S]</td>\n      <td>3</td>\n      <td>[7S, 13H, 14H]</td>\n      <td>3</td>\n      <td>19</td>\n      <td>lose</td>\n      <td>2304498-jturba</td>\n    </tr>\n  </tbody>\n</table>\n<p>155760 rows × 40 columns</p>\n</div>"
     },
     "metadata": {},
     "execution_count": 35
    },
    {
     "output_type": "stream",
     "name": "stdout",
     "text": [
      "time: 187 ms\nIn [35] used 40.3789 MiB RAM in 0.29s, peaked 0.00 MiB above current, total RAM usage 619.69 MiB\n"
     ]
    }
   ],
   "source": [
    "df"
   ]
  },
  {
   "cell_type": "code",
   "execution_count": null,
   "metadata": {},
   "outputs": [],
   "source": [
    "uech"
   ]
  }
 ]
}