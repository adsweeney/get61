{
 "metadata": {
  "language_info": {
   "codemirror_mode": {
    "name": "ipython",
    "version": 3
   },
   "file_extension": ".py",
   "mimetype": "text/x-python",
   "name": "python",
   "nbconvert_exporter": "python",
   "pygments_lexer": "ipython3",
   "version": "3.7.6-final"
  },
  "orig_nbformat": 2,
  "kernelspec": {
   "name": "python3",
   "display_name": "Python 3"
  }
 },
 "nbformat": 4,
 "nbformat_minor": 2,
 "cells": [
  {
   "cell_type": "code",
   "execution_count": 21,
   "metadata": {},
   "outputs": [
    {
     "output_type": "stream",
     "name": "stdout",
     "text": [
      "time: 854 µs\nIn [21] used 0.0000 MiB RAM in 0.10s, peaked 0.00 MiB above current, total RAM usage 130.92 MiB\n"
     ]
    }
   ],
   "source": [
    "from bs4 import BeautifulSoup\n",
    "import requests\n",
    "# import time, os\n",
    "import re\n",
    "# import urllib\n",
    "# import json\n",
    "# from selenium import webdriver\n",
    "# from selenium.webdriver.common.keys import Keys\n",
    "import pandas as pd\n",
    "from datetime import datetime\n",
    "import numpy as np"
   ]
  },
  {
   "cell_type": "code",
   "execution_count": 22,
   "metadata": {},
   "outputs": [
    {
     "output_type": "stream",
     "name": "stdout",
     "text": [
      "The autotime extension is already loaded. To reload it, use:\n  %reload_ext autotime\n"
     ]
    },
    {
     "output_type": "execute_result",
     "data": {
      "text/plain": [
       "'memory profile enabled'"
      ]
     },
     "metadata": {},
     "execution_count": 22
    },
    {
     "output_type": "stream",
     "name": "stdout",
     "text": [
      "time: 3.57 ms\n",
      "In [22] used 0.0039 MiB RAM in 0.11s, peaked 0.00 MiB above current, total RAM usage 130.93 MiB\n"
     ]
    }
   ],
   "source": [
    "# ipython autotime\n",
    "%load_ext autotime\n",
    "\n",
    "# ipython_memory_usage\n",
    "import ipython_memory_usage \n",
    "%ipython_memory_usage_start   "
   ]
  },
  {
   "cell_type": "code",
   "execution_count": 23,
   "metadata": {},
   "outputs": [
    {
     "output_type": "stream",
     "name": "stdout",
     "text": [
      "time: 698 µs\n",
      "In [23] used 0.0195 MiB RAM in 0.10s, peaked 0.00 MiB above current, total RAM usage 130.95 MiB\n"
     ]
    }
   ],
   "source": [
    "start, end = 2256006, 2256009\n",
    "\n"
   ]
  },
  {
   "cell_type": "code",
   "execution_count": 44,
   "metadata": {},
   "outputs": [],
   "source": []
  },
  {
   "cell_type": "code",
   "execution_count": 24,
   "metadata": {},
   "outputs": [
    {
     "output_type": "stream",
     "name": "stdout",
     "text": [
      "time: 5.36 s\nIn [24] used 0.6797 MiB RAM in 5.47s, peaked 0.00 MiB above current, total RAM usage 131.62 MiB\n"
     ]
    }
   ],
   "source": [
    "allf = []\n",
    "for id in range(start, end):\n",
    "    site = 'https://get61.com/hand_detail?handid={}'\n",
    "    page = requests.get(site.format(id)).text\n",
    "    soup = BeautifulSoup(page, 'html5lib')\n",
    "\n",
    "    cardre = re.compile('var play11')\n",
    "    cards = soup.find(text=cardre)\n",
    "    a = cards.split(';')\n",
    "    a\n",
    "    b = a[0].split(' ')\n",
    "    rounds = [i.split(' ') for i in a]\n",
    "    if rounds[41][-1] == '\"NA\"':\n",
    "        continue\n",
    "    else:\n",
    "\n",
    "        plays = [rounds[i][3].replace('\"', '') for i in range(30)]\n",
    "\n",
    "        handa = plays[:6]\n",
    "        handb = plays[6:12]\n",
    "        handc = plays[12:18]\n",
    "        handd = plays[18:24]\n",
    "        hande = plays[24:32]\n",
    "\n",
    "        nameslist = [row.split('=') for row in a[36:41]]\n",
    "        scores = [int(rounds[i][3].replace('\"', '')) for i in range(41, 46)]\n",
    "        names = [nameslist[row][1].strip().replace('\"', '') for row in range(5)]\n",
    "        leads = [int(rounds[i][3].replace('\"', '')) for i in range(30, 36)]\n",
    "\n",
    "        blind1, blind2 = rounds[48][-1].replace('\"',''), rounds[49][-1].replace('\"','')\n",
    "        bury1, bury2 = rounds[46][-1].replace('\"',''), rounds[47][-1].replace('\"','')\n",
    "\n",
    "        call_ace = rounds[50][-1].replace('\"','')\n",
    "        ace_suit = rounds[53][-1].replace('\"','')\n",
    "        is_leaster = rounds[51][-1].replace('\"','')\n",
    "\n",
    "        player1 = [names[0]] + handa + [scores[0]]\n",
    "        player2 = [names[1]] + handb + [scores[1]]\n",
    "        player3 = [names[2]] + handc + [scores[2]]\n",
    "        player4 = [names[3]] + handd + [scores[3]]\n",
    "        player5 = [names[4]] + hande + [scores[4]]\n",
    "        df = pd.DataFrame([player1, player2, player3, player4, player5], columns = ['name', 1, 2,3, 4, 5, 6, 'score'])\n",
    "        \n",
    "        df['handid'] = id\n",
    "        df['picker'] = df['score'].apply(lambda x: 'picker' if x == max(scores, key=abs) else 'partner' if np.sign(x) == np.sign(max(scores,                                               key=abs)) else 'no')\n",
    "        df['alone'] = df['picker'].apply(lambda x: 'no' if 'partner' in df.values else 'yes')\n",
    "        blind1, blind2 = rounds[48][-1].replace('\"',''), rounds[49][-1].replace('\"','')\n",
    "        df['position'] = [0, 1, 2, 3, 4]\n",
    "        df['lead0'] = leads[0]\n",
    "        df['lead1'] = leads[1]\n",
    "        df['lead2'] = leads[2]\n",
    "        df['lead3'] = leads[3]\n",
    "        df['lead4'] = leads[4]\n",
    "        df['lead5'] = leads[5]\n",
    "        df['pick_position'] = df.apply(lambda x: 0 if x['position'] == x['lead0'] else x['position'] + (5 % x['lead0']) if x['position'] < x['lead0'] else x['position'] - x['lead0'], axis=1)\n",
    "        df['rd0pos'] = df.apply(lambda x: 0 if x['position'] == x['lead0'] else 4 if x['lead0'] == 1 and x['position'] == 0 else x['position'] + (5 % x['lead0']) if x['position'] < x['lead0'] else x['position'] - x['lead0'], axis=1)\n",
    "        df['rd1pos'] = df.apply(lambda x: 0 if x['position'] == x['lead1'] else 4 if x['lead1'] == 1 and x['position'] == 0 else x['position'] + (5 % x['lead1']) if x['position'] < x['lead1'] else x['position'] - x['lead1'], axis=1)\n",
    "        df['rd2pos'] = df.apply(lambda x: 0 if x['position'] == x['lead2'] else 4 if x['lead2'] == 1 and x['position'] == 0 else x['position'] + (5 % x['lead2']) if x['position'] < x['lead2'] else x['position'] - x['lead2'], axis=1)\n",
    "        df['rd3pos'] = df.apply(lambda x: 0 if x['position'] == x['lead3'] else 4 if x['lead3'] == 1 and x['position'] == 0 else x['position'] + (5 % x['lead3']) if x['position'] < x['lead3'] else x['position'] - x['lead3'], axis=1)\n",
    "        df['rd4pos'] = df.apply(lambda x: 0 if x['position'] == x['lead4'] else 4 if x['lead4'] == 1 and x['position'] == 0 else x['position'] + (5 % x['lead4']) if x['position'] < x['lead4'] else x['position'] - x['lead4'], axis=1)\n",
    "        df['rd5pos'] = df.apply(lambda x: 0 if x['position'] == x['lead5'] else 4 if x['lead5'] == 1 and x['position'] == 0 else x['position'] + (5 % x['lead5']) if x['position'] < x['lead5'] else x['position'] - x['lead5'], axis=1)\n",
    "\n",
    "        df['blind_1'] = blind1\n",
    "        df['blind_2'] = blind2\n",
    "\n",
    "        df['bury1'] = bury1\n",
    "        df['bury2'] = bury2\n",
    "\n",
    "        df['call_ace'] = call_ace\n",
    "        df['ace_suit'] = ace_suit\n",
    "        df['leaster'] = is_leaster\n",
    "        allf.append(df)"
   ]
  },
  {
   "cell_type": "code",
   "execution_count": 25,
   "metadata": {},
   "outputs": [
    {
     "output_type": "stream",
     "name": "stdout",
     "text": [
      "time: 8.01 ms\n",
      "In [25] used 0.0000 MiB RAM in 0.11s, peaked 0.00 MiB above current, total RAM usage 131.62 MiB\n"
     ]
    }
   ],
   "source": [
    "dftot = pd.concat(allf)"
   ]
  },
  {
   "cell_type": "code",
   "execution_count": 26,
   "metadata": {},
   "outputs": [
    {
     "output_type": "execute_result",
     "data": {
      "text/plain": [
       "               name    1    2    3    4    5    6  score   handid   picker  \\\n",
       "0         tvretired  13D   8H  11D  12C  12S  10H     16  2256006   picker   \n",
       "1        david cole  10D   7H  14S  11C  13H  14H     -4  2256006       no   \n",
       "2     merchantnater  13C   9H   8S   7D  11S   9S     -4  2256006       no   \n",
       "3       JimBobWilly   7C   8C  13S  11H  14D  12H     -4  2256006       no   \n",
       "4  jordan mariposas   9C  12D  10S   8D   9D   7S     -4  2256006       no   \n",
       "0    blueislandgirl  12C   8D  14D  11H   9C   7C      6  2256007   picker   \n",
       "1            island  13D  10D  11S  10S   7H   8H     -3  2256007       no   \n",
       "2         Schneider  12D  13C   8C   7S   8S   9S     -3  2256007       no   \n",
       "3           barry g  12S   9H  13H  14S  14C  10H     -3  2256007       no   \n",
       "4            CTWIFL   7D  11D  12H  13S   9D  11C      3  2256007  partner   \n",
       "0             agman  12S  13D  10H  14S   9S  11D      2  2256008  partner   \n",
       "1              TomJ  11S  12H   7C   7S   8H  13C     -2  2256008       no   \n",
       "2         cardguy44   8D  12C   8C  13S   7H   9H     -2  2256008       no   \n",
       "3      Grandpaken78  14D  11H  14C  13H  10C  14H     -2  2256008       no   \n",
       "4    Steven Strelow   7D   9D  10D   8S  11C  12D      4  2256008   picker   \n",
       "\n",
       "   ... rd3pos  rd4pos  rd5pos  blind_1  blind_2  bury1  bury2  call_ace  \\\n",
       "0  ...      0       0       0      13D      11D    14C    10C             \n",
       "1  ...      1       1       1      13D      11D    14C    10C             \n",
       "2  ...      2       2       2      13D      11D    14C    10C             \n",
       "3  ...      3       3       3      13D      11D    14C    10C             \n",
       "4  ...      4       4       4      13D      11D    14C    10C             \n",
       "0  ...      1       0       1       9C       8D    10C    14H             \n",
       "1  ...      2       1       2       9C       8D    10C    14H             \n",
       "2  ...      3       2       3       9C       8D    10C    14H             \n",
       "3  ...      4       3       4       9C       8D    10C    14H             \n",
       "4  ...      0       4       0       9C       8D    10C    14H             \n",
       "0  ...      1       0       1       8S       9C     9C    10S             \n",
       "1  ...      2       1       2       8S       9C     9C    10S             \n",
       "2  ...      3       2       3       8S       9C     9C    10S             \n",
       "3  ...      4       3       4       8S       9C     9C    10S             \n",
       "4  ...      0       4       0       8S       9C     9C    10S             \n",
       "\n",
       "   ace_suit  leaster  \n",
       "0                     \n",
       "1                     \n",
       "2                     \n",
       "3                     \n",
       "4                     \n",
       "0                     \n",
       "1                     \n",
       "2                     \n",
       "3                     \n",
       "4                     \n",
       "0                     \n",
       "1                     \n",
       "2                     \n",
       "3                     \n",
       "4                     \n",
       "\n",
       "[15 rows x 32 columns]"
      ],
      "text/html": "<div>\n<style scoped>\n    .dataframe tbody tr th:only-of-type {\n        vertical-align: middle;\n    }\n\n    .dataframe tbody tr th {\n        vertical-align: top;\n    }\n\n    .dataframe thead th {\n        text-align: right;\n    }\n</style>\n<table border=\"1\" class=\"dataframe\">\n  <thead>\n    <tr style=\"text-align: right;\">\n      <th></th>\n      <th>name</th>\n      <th>1</th>\n      <th>2</th>\n      <th>3</th>\n      <th>4</th>\n      <th>5</th>\n      <th>6</th>\n      <th>score</th>\n      <th>handid</th>\n      <th>picker</th>\n      <th>...</th>\n      <th>rd3pos</th>\n      <th>rd4pos</th>\n      <th>rd5pos</th>\n      <th>blind_1</th>\n      <th>blind_2</th>\n      <th>bury1</th>\n      <th>bury2</th>\n      <th>call_ace</th>\n      <th>ace_suit</th>\n      <th>leaster</th>\n    </tr>\n  </thead>\n  <tbody>\n    <tr>\n      <th>0</th>\n      <td>tvretired</td>\n      <td>13D</td>\n      <td>8H</td>\n      <td>11D</td>\n      <td>12C</td>\n      <td>12S</td>\n      <td>10H</td>\n      <td>16</td>\n      <td>2256006</td>\n      <td>picker</td>\n      <td>...</td>\n      <td>0</td>\n      <td>0</td>\n      <td>0</td>\n      <td>13D</td>\n      <td>11D</td>\n      <td>14C</td>\n      <td>10C</td>\n      <td></td>\n      <td></td>\n      <td></td>\n    </tr>\n    <tr>\n      <th>1</th>\n      <td>david cole</td>\n      <td>10D</td>\n      <td>7H</td>\n      <td>14S</td>\n      <td>11C</td>\n      <td>13H</td>\n      <td>14H</td>\n      <td>-4</td>\n      <td>2256006</td>\n      <td>no</td>\n      <td>...</td>\n      <td>1</td>\n      <td>1</td>\n      <td>1</td>\n      <td>13D</td>\n      <td>11D</td>\n      <td>14C</td>\n      <td>10C</td>\n      <td></td>\n      <td></td>\n      <td></td>\n    </tr>\n    <tr>\n      <th>2</th>\n      <td>merchantnater</td>\n      <td>13C</td>\n      <td>9H</td>\n      <td>8S</td>\n      <td>7D</td>\n      <td>11S</td>\n      <td>9S</td>\n      <td>-4</td>\n      <td>2256006</td>\n      <td>no</td>\n      <td>...</td>\n      <td>2</td>\n      <td>2</td>\n      <td>2</td>\n      <td>13D</td>\n      <td>11D</td>\n      <td>14C</td>\n      <td>10C</td>\n      <td></td>\n      <td></td>\n      <td></td>\n    </tr>\n    <tr>\n      <th>3</th>\n      <td>JimBobWilly</td>\n      <td>7C</td>\n      <td>8C</td>\n      <td>13S</td>\n      <td>11H</td>\n      <td>14D</td>\n      <td>12H</td>\n      <td>-4</td>\n      <td>2256006</td>\n      <td>no</td>\n      <td>...</td>\n      <td>3</td>\n      <td>3</td>\n      <td>3</td>\n      <td>13D</td>\n      <td>11D</td>\n      <td>14C</td>\n      <td>10C</td>\n      <td></td>\n      <td></td>\n      <td></td>\n    </tr>\n    <tr>\n      <th>4</th>\n      <td>jordan mariposas</td>\n      <td>9C</td>\n      <td>12D</td>\n      <td>10S</td>\n      <td>8D</td>\n      <td>9D</td>\n      <td>7S</td>\n      <td>-4</td>\n      <td>2256006</td>\n      <td>no</td>\n      <td>...</td>\n      <td>4</td>\n      <td>4</td>\n      <td>4</td>\n      <td>13D</td>\n      <td>11D</td>\n      <td>14C</td>\n      <td>10C</td>\n      <td></td>\n      <td></td>\n      <td></td>\n    </tr>\n    <tr>\n      <th>0</th>\n      <td>blueislandgirl</td>\n      <td>12C</td>\n      <td>8D</td>\n      <td>14D</td>\n      <td>11H</td>\n      <td>9C</td>\n      <td>7C</td>\n      <td>6</td>\n      <td>2256007</td>\n      <td>picker</td>\n      <td>...</td>\n      <td>1</td>\n      <td>0</td>\n      <td>1</td>\n      <td>9C</td>\n      <td>8D</td>\n      <td>10C</td>\n      <td>14H</td>\n      <td></td>\n      <td></td>\n      <td></td>\n    </tr>\n    <tr>\n      <th>1</th>\n      <td>island</td>\n      <td>13D</td>\n      <td>10D</td>\n      <td>11S</td>\n      <td>10S</td>\n      <td>7H</td>\n      <td>8H</td>\n      <td>-3</td>\n      <td>2256007</td>\n      <td>no</td>\n      <td>...</td>\n      <td>2</td>\n      <td>1</td>\n      <td>2</td>\n      <td>9C</td>\n      <td>8D</td>\n      <td>10C</td>\n      <td>14H</td>\n      <td></td>\n      <td></td>\n      <td></td>\n    </tr>\n    <tr>\n      <th>2</th>\n      <td>Schneider</td>\n      <td>12D</td>\n      <td>13C</td>\n      <td>8C</td>\n      <td>7S</td>\n      <td>8S</td>\n      <td>9S</td>\n      <td>-3</td>\n      <td>2256007</td>\n      <td>no</td>\n      <td>...</td>\n      <td>3</td>\n      <td>2</td>\n      <td>3</td>\n      <td>9C</td>\n      <td>8D</td>\n      <td>10C</td>\n      <td>14H</td>\n      <td></td>\n      <td></td>\n      <td></td>\n    </tr>\n    <tr>\n      <th>3</th>\n      <td>barry g</td>\n      <td>12S</td>\n      <td>9H</td>\n      <td>13H</td>\n      <td>14S</td>\n      <td>14C</td>\n      <td>10H</td>\n      <td>-3</td>\n      <td>2256007</td>\n      <td>no</td>\n      <td>...</td>\n      <td>4</td>\n      <td>3</td>\n      <td>4</td>\n      <td>9C</td>\n      <td>8D</td>\n      <td>10C</td>\n      <td>14H</td>\n      <td></td>\n      <td></td>\n      <td></td>\n    </tr>\n    <tr>\n      <th>4</th>\n      <td>CTWIFL</td>\n      <td>7D</td>\n      <td>11D</td>\n      <td>12H</td>\n      <td>13S</td>\n      <td>9D</td>\n      <td>11C</td>\n      <td>3</td>\n      <td>2256007</td>\n      <td>partner</td>\n      <td>...</td>\n      <td>0</td>\n      <td>4</td>\n      <td>0</td>\n      <td>9C</td>\n      <td>8D</td>\n      <td>10C</td>\n      <td>14H</td>\n      <td></td>\n      <td></td>\n      <td></td>\n    </tr>\n    <tr>\n      <th>0</th>\n      <td>agman</td>\n      <td>12S</td>\n      <td>13D</td>\n      <td>10H</td>\n      <td>14S</td>\n      <td>9S</td>\n      <td>11D</td>\n      <td>2</td>\n      <td>2256008</td>\n      <td>partner</td>\n      <td>...</td>\n      <td>1</td>\n      <td>0</td>\n      <td>1</td>\n      <td>8S</td>\n      <td>9C</td>\n      <td>9C</td>\n      <td>10S</td>\n      <td></td>\n      <td></td>\n      <td></td>\n    </tr>\n    <tr>\n      <th>1</th>\n      <td>TomJ</td>\n      <td>11S</td>\n      <td>12H</td>\n      <td>7C</td>\n      <td>7S</td>\n      <td>8H</td>\n      <td>13C</td>\n      <td>-2</td>\n      <td>2256008</td>\n      <td>no</td>\n      <td>...</td>\n      <td>2</td>\n      <td>1</td>\n      <td>2</td>\n      <td>8S</td>\n      <td>9C</td>\n      <td>9C</td>\n      <td>10S</td>\n      <td></td>\n      <td></td>\n      <td></td>\n    </tr>\n    <tr>\n      <th>2</th>\n      <td>cardguy44</td>\n      <td>8D</td>\n      <td>12C</td>\n      <td>8C</td>\n      <td>13S</td>\n      <td>7H</td>\n      <td>9H</td>\n      <td>-2</td>\n      <td>2256008</td>\n      <td>no</td>\n      <td>...</td>\n      <td>3</td>\n      <td>2</td>\n      <td>3</td>\n      <td>8S</td>\n      <td>9C</td>\n      <td>9C</td>\n      <td>10S</td>\n      <td></td>\n      <td></td>\n      <td></td>\n    </tr>\n    <tr>\n      <th>3</th>\n      <td>Grandpaken78</td>\n      <td>14D</td>\n      <td>11H</td>\n      <td>14C</td>\n      <td>13H</td>\n      <td>10C</td>\n      <td>14H</td>\n      <td>-2</td>\n      <td>2256008</td>\n      <td>no</td>\n      <td>...</td>\n      <td>4</td>\n      <td>3</td>\n      <td>4</td>\n      <td>8S</td>\n      <td>9C</td>\n      <td>9C</td>\n      <td>10S</td>\n      <td></td>\n      <td></td>\n      <td></td>\n    </tr>\n    <tr>\n      <th>4</th>\n      <td>Steven Strelow</td>\n      <td>7D</td>\n      <td>9D</td>\n      <td>10D</td>\n      <td>8S</td>\n      <td>11C</td>\n      <td>12D</td>\n      <td>4</td>\n      <td>2256008</td>\n      <td>picker</td>\n      <td>...</td>\n      <td>0</td>\n      <td>4</td>\n      <td>0</td>\n      <td>8S</td>\n      <td>9C</td>\n      <td>9C</td>\n      <td>10S</td>\n      <td></td>\n      <td></td>\n      <td></td>\n    </tr>\n  </tbody>\n</table>\n<p>15 rows × 32 columns</p>\n</div>"
     },
     "metadata": {},
     "execution_count": 26
    },
    {
     "output_type": "stream",
     "name": "stdout",
     "text": [
      "time: 28 ms\n",
      "In [26] used 0.0469 MiB RAM in 0.13s, peaked 0.00 MiB above current, total RAM usage 131.67 MiB\n"
     ]
    }
   ],
   "source": [
    "dftot"
   ]
  },
  {
   "cell_type": "code",
   "execution_count": 27,
   "metadata": {},
   "outputs": [
    {
     "output_type": "stream",
     "name": "stdout",
     "text": [
      "time: 568 µs\n",
      "In [27] used 0.0195 MiB RAM in 0.10s, peaked 0.00 MiB above current, total RAM usage 131.69 MiB\n"
     ]
    }
   ],
   "source": [
    "#dftot.to_pickle('2268010_2268200')\n",
    "#dftot.to_pickle('2268200_2268600')\n",
    "#dftot.to_pickle('2268600_2270000')\n",
    "#dftot.to_pickle('2270000_2272000')\n",
    "#dftot.to_pickle('2272000_2274000')\n",
    "#dftot.to_pickle('2274000_2277000')\n",
    "#dftot.to_pickle('2277000_2280000')\n",
    "#dftot.to_pickle('2280000_2282000')\n",
    "#dftot.to_pickle('2282000_2284000')\n",
    "#dftot.to_pickle('2284000_2285000')\n",
    "#dftot.to_pickle('2285000_2287000')\n",
    "#dftot.to_pickle('2293000_2296000')\n",
    "#dftot.to_pickle('2296000_2397000')"
   ]
  },
  {
   "cell_type": "code",
   "execution_count": 28,
   "metadata": {},
   "outputs": [
    {
     "output_type": "stream",
     "name": "stdout",
     "text": [
      "time: 2.8 ms\n",
      "In [28] used 0.0039 MiB RAM in 0.11s, peaked 0.00 MiB above current, total RAM usage 131.70 MiB\n"
     ]
    }
   ],
   "source": [
    "dftot.to_pickle('2256006_2256009')"
   ]
  },
  {
   "cell_type": "code",
   "execution_count": null,
   "metadata": {},
   "outputs": [],
   "source": []
  },
  {
   "cell_type": "code",
   "execution_count": null,
   "metadata": {},
   "outputs": [],
   "source": []
  },
  {
   "cell_type": "code",
   "execution_count": null,
   "metadata": {},
   "outputs": [],
   "source": []
  }
 ]
}