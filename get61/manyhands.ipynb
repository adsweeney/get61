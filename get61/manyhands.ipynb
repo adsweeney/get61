{
 "metadata": {
  "language_info": {
   "codemirror_mode": {
    "name": "ipython",
    "version": 3
   },
   "file_extension": ".py",
   "mimetype": "text/x-python",
   "name": "python",
   "nbconvert_exporter": "python",
   "pygments_lexer": "ipython3",
   "version": "3.7.6-final"
  },
  "orig_nbformat": 2,
  "kernelspec": {
   "name": "python3",
   "display_name": "Python 3"
  }
 },
 "nbformat": 4,
 "nbformat_minor": 2,
 "cells": [
  {
   "cell_type": "code",
   "execution_count": 5,
   "metadata": {},
   "outputs": [],
   "source": [
    "from bs4 import BeautifulSoup\n",
    "import requests\n",
    "# import time, os\n",
    "import re\n",
    "# import urllib\n",
    "# import json\n",
    "# from selenium import webdriver\n",
    "# from selenium.webdriver.common.keys import Keys\n",
    "import pandas as pd\n",
    "from datetime import datetime\n",
    "import numpy as np"
   ]
  },
  {
   "cell_type": "code",
   "execution_count": 6,
   "metadata": {},
   "outputs": [],
   "source": [
    "start, end = 2274000, 2274010\n",
    "\n"
   ]
  },
  {
   "cell_type": "code",
   "execution_count": 7,
   "metadata": {},
   "outputs": [],
   "source": [
    "hanum = '2268734'"
   ]
  },
  {
   "cell_type": "code",
   "execution_count": 44,
   "metadata": {},
   "outputs": [],
   "source": []
  },
  {
   "cell_type": "code",
   "execution_count": 8,
   "metadata": {},
   "outputs": [],
   "source": [
    "allf = []\n",
    "for id in range(start, end):\n",
    "    site = 'https://get61.com/hand_detail?handid={}'\n",
    "    page = requests.get(site.format(id)).text\n",
    "    soup = BeautifulSoup(page, 'html5lib')\n",
    "\n",
    "    cardre = re.compile('var play11')\n",
    "    cards = soup.find(text=cardre)\n",
    "    a = cards.split(';')\n",
    "    a\n",
    "    b = a[0].split(' ')\n",
    "    rounds = [i.split(' ') for i in a]\n",
    "    if rounds[41][-1] == '\"NA\"':\n",
    "        continue\n",
    "    else:\n",
    "\n",
    "        plays = [rounds[i][3].replace('\"', '') for i in range(30)]\n",
    "\n",
    "        handa = plays[:6]\n",
    "        handb = plays[6:12]\n",
    "        handc = plays[12:18]\n",
    "        handd = plays[18:24]\n",
    "        hande = plays[24:32]\n",
    "\n",
    "        nameslist = [row.split('=') for row in a[36:41]]\n",
    "        scores = [int(rounds[i][3].replace('\"', '')) for i in range(41, 46)]\n",
    "        names = [nameslist[row][1].strip().replace('\"', '') for row in range(5)]\n",
    "        leads = [int(rounds[i][3].replace('\"', '')) for i in range(30, 36)]\n",
    "\n",
    "        blind1, blind2 = rounds[48][-1].replace('\"',''), rounds[49][-1].replace('\"','')\n",
    "        bury1, bury2 = rounds[46][-1].replace('\"',''), rounds[47][-1].replace('\"','')\n",
    "\n",
    "        call_ace = rounds[50][-1].replace('\"','')\n",
    "        ace_suit = rounds[53][-1].replace('\"','')\n",
    "        is_leaster = rounds[51][-1].replace('\"','')\n",
    "\n",
    "        player1 = [names[0]] + handa + [scores[0]]\n",
    "        player2 = [names[1]] + handb + [scores[1]]\n",
    "        player3 = [names[2]] + handc + [scores[2]]\n",
    "        player4 = [names[3]] + handd + [scores[3]]\n",
    "        player5 = [names[4]] + hande + [scores[4]]\n",
    "        df = pd.DataFrame([player1, player2, player3, player4, player5], columns = ['name', 1, 2,3, 4, 5, 6, 'score'])\n",
    "        \n",
    "        df['handid'] = id\n",
    "        df['picker'] = df['score'].apply(lambda x: 'picker' if x == max(scores, key=abs) else 'partner' if np.sign(x) == np.sign(max(scores,                                               key=abs)) else 'no')\n",
    "        df['alone'] = df['picker'].apply(lambda x: 'no' if 'partner' in df.values else 'yes')\n",
    "        blind1, blind2 = rounds[48][-1].replace('\"',''), rounds[49][-1].replace('\"','')\n",
    "        df['position'] = [0, 1, 2, 3, 4]\n",
    "        df['lead0'] = leads[0]\n",
    "        df['lead1'] = leads[1]\n",
    "        df['lead2'] = leads[2]\n",
    "        df['lead3'] = leads[3]\n",
    "        df['lead4'] = leads[4]\n",
    "        df['lead5'] = leads[5]\n",
    "        dfsc['pick_position'] = df.apply(lambda x: 0 if x['position'] == x['lead0'] else x['position'] + (5 % x['lead0']) if x['position'] < x['lead0'] else x['position'] - x['lead0'], axis=1)\n",
    "        dfsc['rd0pos'] = df.apply(lambda x: 0 if x['position'] == x['lead0'] else 4 if x['lead0'] == 1 and x['position'] == 0 else x['position'] + (5 % x['lead0']) if x['position'] < x['lead0'] else x['position'] - x['lead0'], axis=1)\n",
    "        dfsc['rd1pos'] = df.apply(lambda x: 0 if x['position'] == x['lead1'] else 4 if x['lead1'] == 1 and x['position'] == 0 else x['position'] + (5 % x['lead1']) if x['position'] < x['lead1'] else x['position'] - x['lead1'], axis=1)\n",
    "        dfsc['rd2pos'] = df.apply(lambda x: 0 if x['position'] == x['lead2'] else 4 if x['lead2'] == 1 and x['position'] == 0 else x['position'] + (5 % x['lead2']) if x['position'] < x['lead2'] else x['position'] - x['lead2'], axis=1)\n",
    "        dfsc['rd3pos'] = df.apply(lambda x: 0 if x['position'] == x['lead3'] else 4 if x['lead3'] == 1 and x['position'] == 0 else x['position'] + (5 % x['lead3']) if x['position'] < x['lead3'] else x['position'] - x['lead3'], axis=1)\n",
    "        dfsc['rd4pos'] = df.apply(lambda x: 0 if x['position'] == x['lead4'] else 4 if x['lead4'] == 1 and x['position'] == 0 else x['position'] + (5 % x['lead4']) if x['position'] < x['lead4'] else x['position'] - x['lead4'], axis=1)\n",
    "        dfsc['rd5pos'] = df.apply(lambda x: 0 if x['position'] == x['lead5'] else 4 if x['lead5'] == 1 and x['position'] == 0 else x['position'] + (5 % x['lead5']) if x['position'] < x['lead5'] else x['position'] - x['lead5'], axis=1)\n",
    "\n",
    "        dfsc['blind_1'] = blind1\n",
    "        dfsc['blind_2'] = blind2\n",
    "\n",
    "        dfsc['bury1'] = bury1\n",
    "        dfsc['bury2'] = bury2\n",
    "\n",
    "        dfsc['call_ace'] = call_ace\n",
    "        dfsc['ace_suit'] = ace_suit\n",
    "        dfsc['leaster'] = is_leaster\n",
    "        allf.append(df)"
   ]
  },
  {
   "cell_type": "code",
   "execution_count": 9,
   "metadata": {},
   "outputs": [],
   "source": [
    "dftot = pd.concat(allf)"
   ]
  },
  {
   "cell_type": "code",
   "execution_count": 10,
   "metadata": {},
   "outputs": [
    {
     "output_type": "execute_result",
     "data": {
      "text/plain": [
       "              name    1    2    3    4    5    6  score   handid   picker  \\\n",
       "0           island  12C  14H   8D  11S   9S  10C     -2  2274001       no   \n",
       "1        Card Lady   9D   7H  13D  11D  10S   7C      2  2274001  partner   \n",
       "2   Pan fisherman   10D  10H  11H  11C   8S   9C     -2  2274001       no   \n",
       "3          rboegel  12D  14D  12S  12H   7S   7D      4  2274001   picker   \n",
       "4            spaan  14C   9H   8C  13H  13S  13C     -2  2274001       no   \n",
       "0    Dantheblitzer   9D  12C   7S  11S  12D  13S      2  2274002   picker   \n",
       "1       Rich Harms  13D  11D  11C   8D   7C   9C      1  2274002  partner   \n",
       "2  harley.dawg1957  14H  10D   8S  14D   8C  10C     -1  2274002       no   \n",
       "3      GBPFavreFan   8H  12H   9H  11H  13H  14C     -1  2274002       no   \n",
       "4    Thomas Mardak   7D  12S   9S  14S  13C  10S     -1  2274002       no   \n",
       "0        domballer  13H  11S  12H  14C   7S   9S     -2  2274003       no   \n",
       "1    Mitochondrion  14H  10D  14D   9C  10S  10H      2  2274003  partner   \n",
       "2       immauering   7H   7D  11D   8C  14S   8S     -2  2274003       no   \n",
       "3           Gunner   9H  12S  12C   7C  11H  12D      4  2274003   picker   \n",
       "4          BOCADAN   8H  13D   8D  13C  11C   9D     -2  2274003       no   \n",
       "0            Julie   7H   9C  14S  12D  11C  11S     -1  2274004       no   \n",
       "1          slerrak   7C   8C  10D   9D  12C  12H      2  2274004   picker   \n",
       "2    Cat Whisperer   8H  14C   8S  13D  11H   9S     -1  2274004       no   \n",
       "3          fdry 43  10H  13C  13S   7D  11D   7S      1  2274004  partner   \n",
       "4        doros2822  13H  10C  10S  14D   8D  12S     -1  2274004       no   \n",
       "0      Purdue Jack   9C  12D  13S   7H   8S   9H     -3  2274005       no   \n",
       "1     Doris Bennin  14C  13D  11H   9S  10H  14S     -3  2274005       no   \n",
       "2        wgromacki  11S   7D  12S  11C  10D  14D      6  2274005   picker   \n",
       "3   Mason Berglund   7C  12C  11D  13C   8C  10S      3  2274005  partner   \n",
       "4        mandi1027  10C   8D  12H   9D  13H  14H     -3  2274005       no   \n",
       "0      David Puddy  11C   9H  11H   9S  13C  10S     -1  2274006       no   \n",
       "1           ashley  12D  14H   7D  14S   8H  13H     -1  2274006       no   \n",
       "2        cerchmond   8D  11S   9D  14D  12S  11D      4  2274006   picker   \n",
       "3      EagleDad760  10D   7H  12C   7S  13D  12H     -1  2274006       no   \n",
       "4  Gerard Rugowski  13S   8S  10C   7C   8C   9C     -1  2274006       no   \n",
       "0              DrP   9D  12D  13S  12S  14H  10S     -2  2274007       no   \n",
       "1      Gym Stevens  11C  12C   7C  11H  10D  13C      4  2274007   picker   \n",
       "2     John Wozniak  12H  11S  11D   7D  13H   9H      2  2274007  partner   \n",
       "3           TimmyB  14D  13D   9C   7S   8S   9S     -2  2274007       no   \n",
       "4             Wegs   8D  10H   8C  14C  10C  14S     -2  2274007       no   \n",
       "0           island  11S  12C  11C  12D   7S   8S     -2  2274008   picker   \n",
       "1        Card Lady  10H   7D  12S  11D   8C  13C     -1  2274008  partner   \n",
       "2   Pan fisherman    9C   9D  13D  14S  13S  14C      1  2274008       no   \n",
       "3          rboegel   9H  10D  14D  12H   9S   7C      1  2274008       no   \n",
       "4            spaan  14H   8D  11H  10C  10S  13H      1  2274008       no   \n",
       "0       quinna2525   8S  12H   9S  14S  14H  10H     -2  2274009       no   \n",
       "1           CTWIFL  10S  12C   9D  13C  13H  11D      2  2274009  partner   \n",
       "2        roger1710  11S   7D  12S   9C  11H  12D      4  2274009   picker   \n",
       "3     Harold Kurzy  13S  13D   7H   7C   8H   8C     -2  2274009       no   \n",
       "4      Indy Badger   7S  10D   8D  14D   9H  11C     -2  2274009       no   \n",
       "\n",
       "  alone  \n",
       "0    no  \n",
       "1    no  \n",
       "2    no  \n",
       "3    no  \n",
       "4    no  \n",
       "0    no  \n",
       "1    no  \n",
       "2    no  \n",
       "3    no  \n",
       "4    no  \n",
       "0    no  \n",
       "1    no  \n",
       "2    no  \n",
       "3    no  \n",
       "4    no  \n",
       "0    no  \n",
       "1    no  \n",
       "2    no  \n",
       "3    no  \n",
       "4    no  \n",
       "0    no  \n",
       "1    no  \n",
       "2    no  \n",
       "3    no  \n",
       "4    no  \n",
       "0   yes  \n",
       "1   yes  \n",
       "2   yes  \n",
       "3   yes  \n",
       "4   yes  \n",
       "0    no  \n",
       "1    no  \n",
       "2    no  \n",
       "3    no  \n",
       "4    no  \n",
       "0    no  \n",
       "1    no  \n",
       "2    no  \n",
       "3    no  \n",
       "4    no  \n",
       "0    no  \n",
       "1    no  \n",
       "2    no  \n",
       "3    no  \n",
       "4    no  "
      ],
      "text/html": "<div>\n<style scoped>\n    .dataframe tbody tr th:only-of-type {\n        vertical-align: middle;\n    }\n\n    .dataframe tbody tr th {\n        vertical-align: top;\n    }\n\n    .dataframe thead th {\n        text-align: right;\n    }\n</style>\n<table border=\"1\" class=\"dataframe\">\n  <thead>\n    <tr style=\"text-align: right;\">\n      <th></th>\n      <th>name</th>\n      <th>1</th>\n      <th>2</th>\n      <th>3</th>\n      <th>4</th>\n      <th>5</th>\n      <th>6</th>\n      <th>score</th>\n      <th>handid</th>\n      <th>picker</th>\n      <th>alone</th>\n    </tr>\n  </thead>\n  <tbody>\n    <tr>\n      <th>0</th>\n      <td>island</td>\n      <td>12C</td>\n      <td>14H</td>\n      <td>8D</td>\n      <td>11S</td>\n      <td>9S</td>\n      <td>10C</td>\n      <td>-2</td>\n      <td>2274001</td>\n      <td>no</td>\n      <td>no</td>\n    </tr>\n    <tr>\n      <th>1</th>\n      <td>Card Lady</td>\n      <td>9D</td>\n      <td>7H</td>\n      <td>13D</td>\n      <td>11D</td>\n      <td>10S</td>\n      <td>7C</td>\n      <td>2</td>\n      <td>2274001</td>\n      <td>partner</td>\n      <td>no</td>\n    </tr>\n    <tr>\n      <th>2</th>\n      <td>Pan fisherman</td>\n      <td>10D</td>\n      <td>10H</td>\n      <td>11H</td>\n      <td>11C</td>\n      <td>8S</td>\n      <td>9C</td>\n      <td>-2</td>\n      <td>2274001</td>\n      <td>no</td>\n      <td>no</td>\n    </tr>\n    <tr>\n      <th>3</th>\n      <td>rboegel</td>\n      <td>12D</td>\n      <td>14D</td>\n      <td>12S</td>\n      <td>12H</td>\n      <td>7S</td>\n      <td>7D</td>\n      <td>4</td>\n      <td>2274001</td>\n      <td>picker</td>\n      <td>no</td>\n    </tr>\n    <tr>\n      <th>4</th>\n      <td>spaan</td>\n      <td>14C</td>\n      <td>9H</td>\n      <td>8C</td>\n      <td>13H</td>\n      <td>13S</td>\n      <td>13C</td>\n      <td>-2</td>\n      <td>2274001</td>\n      <td>no</td>\n      <td>no</td>\n    </tr>\n    <tr>\n      <th>0</th>\n      <td>Dantheblitzer</td>\n      <td>9D</td>\n      <td>12C</td>\n      <td>7S</td>\n      <td>11S</td>\n      <td>12D</td>\n      <td>13S</td>\n      <td>2</td>\n      <td>2274002</td>\n      <td>picker</td>\n      <td>no</td>\n    </tr>\n    <tr>\n      <th>1</th>\n      <td>Rich Harms</td>\n      <td>13D</td>\n      <td>11D</td>\n      <td>11C</td>\n      <td>8D</td>\n      <td>7C</td>\n      <td>9C</td>\n      <td>1</td>\n      <td>2274002</td>\n      <td>partner</td>\n      <td>no</td>\n    </tr>\n    <tr>\n      <th>2</th>\n      <td>harley.dawg1957</td>\n      <td>14H</td>\n      <td>10D</td>\n      <td>8S</td>\n      <td>14D</td>\n      <td>8C</td>\n      <td>10C</td>\n      <td>-1</td>\n      <td>2274002</td>\n      <td>no</td>\n      <td>no</td>\n    </tr>\n    <tr>\n      <th>3</th>\n      <td>GBPFavreFan</td>\n      <td>8H</td>\n      <td>12H</td>\n      <td>9H</td>\n      <td>11H</td>\n      <td>13H</td>\n      <td>14C</td>\n      <td>-1</td>\n      <td>2274002</td>\n      <td>no</td>\n      <td>no</td>\n    </tr>\n    <tr>\n      <th>4</th>\n      <td>Thomas Mardak</td>\n      <td>7D</td>\n      <td>12S</td>\n      <td>9S</td>\n      <td>14S</td>\n      <td>13C</td>\n      <td>10S</td>\n      <td>-1</td>\n      <td>2274002</td>\n      <td>no</td>\n      <td>no</td>\n    </tr>\n    <tr>\n      <th>0</th>\n      <td>domballer</td>\n      <td>13H</td>\n      <td>11S</td>\n      <td>12H</td>\n      <td>14C</td>\n      <td>7S</td>\n      <td>9S</td>\n      <td>-2</td>\n      <td>2274003</td>\n      <td>no</td>\n      <td>no</td>\n    </tr>\n    <tr>\n      <th>1</th>\n      <td>Mitochondrion</td>\n      <td>14H</td>\n      <td>10D</td>\n      <td>14D</td>\n      <td>9C</td>\n      <td>10S</td>\n      <td>10H</td>\n      <td>2</td>\n      <td>2274003</td>\n      <td>partner</td>\n      <td>no</td>\n    </tr>\n    <tr>\n      <th>2</th>\n      <td>immauering</td>\n      <td>7H</td>\n      <td>7D</td>\n      <td>11D</td>\n      <td>8C</td>\n      <td>14S</td>\n      <td>8S</td>\n      <td>-2</td>\n      <td>2274003</td>\n      <td>no</td>\n      <td>no</td>\n    </tr>\n    <tr>\n      <th>3</th>\n      <td>Gunner</td>\n      <td>9H</td>\n      <td>12S</td>\n      <td>12C</td>\n      <td>7C</td>\n      <td>11H</td>\n      <td>12D</td>\n      <td>4</td>\n      <td>2274003</td>\n      <td>picker</td>\n      <td>no</td>\n    </tr>\n    <tr>\n      <th>4</th>\n      <td>BOCADAN</td>\n      <td>8H</td>\n      <td>13D</td>\n      <td>8D</td>\n      <td>13C</td>\n      <td>11C</td>\n      <td>9D</td>\n      <td>-2</td>\n      <td>2274003</td>\n      <td>no</td>\n      <td>no</td>\n    </tr>\n    <tr>\n      <th>0</th>\n      <td>Julie</td>\n      <td>7H</td>\n      <td>9C</td>\n      <td>14S</td>\n      <td>12D</td>\n      <td>11C</td>\n      <td>11S</td>\n      <td>-1</td>\n      <td>2274004</td>\n      <td>no</td>\n      <td>no</td>\n    </tr>\n    <tr>\n      <th>1</th>\n      <td>slerrak</td>\n      <td>7C</td>\n      <td>8C</td>\n      <td>10D</td>\n      <td>9D</td>\n      <td>12C</td>\n      <td>12H</td>\n      <td>2</td>\n      <td>2274004</td>\n      <td>picker</td>\n      <td>no</td>\n    </tr>\n    <tr>\n      <th>2</th>\n      <td>Cat Whisperer</td>\n      <td>8H</td>\n      <td>14C</td>\n      <td>8S</td>\n      <td>13D</td>\n      <td>11H</td>\n      <td>9S</td>\n      <td>-1</td>\n      <td>2274004</td>\n      <td>no</td>\n      <td>no</td>\n    </tr>\n    <tr>\n      <th>3</th>\n      <td>fdry 43</td>\n      <td>10H</td>\n      <td>13C</td>\n      <td>13S</td>\n      <td>7D</td>\n      <td>11D</td>\n      <td>7S</td>\n      <td>1</td>\n      <td>2274004</td>\n      <td>partner</td>\n      <td>no</td>\n    </tr>\n    <tr>\n      <th>4</th>\n      <td>doros2822</td>\n      <td>13H</td>\n      <td>10C</td>\n      <td>10S</td>\n      <td>14D</td>\n      <td>8D</td>\n      <td>12S</td>\n      <td>-1</td>\n      <td>2274004</td>\n      <td>no</td>\n      <td>no</td>\n    </tr>\n    <tr>\n      <th>0</th>\n      <td>Purdue Jack</td>\n      <td>9C</td>\n      <td>12D</td>\n      <td>13S</td>\n      <td>7H</td>\n      <td>8S</td>\n      <td>9H</td>\n      <td>-3</td>\n      <td>2274005</td>\n      <td>no</td>\n      <td>no</td>\n    </tr>\n    <tr>\n      <th>1</th>\n      <td>Doris Bennin</td>\n      <td>14C</td>\n      <td>13D</td>\n      <td>11H</td>\n      <td>9S</td>\n      <td>10H</td>\n      <td>14S</td>\n      <td>-3</td>\n      <td>2274005</td>\n      <td>no</td>\n      <td>no</td>\n    </tr>\n    <tr>\n      <th>2</th>\n      <td>wgromacki</td>\n      <td>11S</td>\n      <td>7D</td>\n      <td>12S</td>\n      <td>11C</td>\n      <td>10D</td>\n      <td>14D</td>\n      <td>6</td>\n      <td>2274005</td>\n      <td>picker</td>\n      <td>no</td>\n    </tr>\n    <tr>\n      <th>3</th>\n      <td>Mason Berglund</td>\n      <td>7C</td>\n      <td>12C</td>\n      <td>11D</td>\n      <td>13C</td>\n      <td>8C</td>\n      <td>10S</td>\n      <td>3</td>\n      <td>2274005</td>\n      <td>partner</td>\n      <td>no</td>\n    </tr>\n    <tr>\n      <th>4</th>\n      <td>mandi1027</td>\n      <td>10C</td>\n      <td>8D</td>\n      <td>12H</td>\n      <td>9D</td>\n      <td>13H</td>\n      <td>14H</td>\n      <td>-3</td>\n      <td>2274005</td>\n      <td>no</td>\n      <td>no</td>\n    </tr>\n    <tr>\n      <th>0</th>\n      <td>David Puddy</td>\n      <td>11C</td>\n      <td>9H</td>\n      <td>11H</td>\n      <td>9S</td>\n      <td>13C</td>\n      <td>10S</td>\n      <td>-1</td>\n      <td>2274006</td>\n      <td>no</td>\n      <td>yes</td>\n    </tr>\n    <tr>\n      <th>1</th>\n      <td>ashley</td>\n      <td>12D</td>\n      <td>14H</td>\n      <td>7D</td>\n      <td>14S</td>\n      <td>8H</td>\n      <td>13H</td>\n      <td>-1</td>\n      <td>2274006</td>\n      <td>no</td>\n      <td>yes</td>\n    </tr>\n    <tr>\n      <th>2</th>\n      <td>cerchmond</td>\n      <td>8D</td>\n      <td>11S</td>\n      <td>9D</td>\n      <td>14D</td>\n      <td>12S</td>\n      <td>11D</td>\n      <td>4</td>\n      <td>2274006</td>\n      <td>picker</td>\n      <td>yes</td>\n    </tr>\n    <tr>\n      <th>3</th>\n      <td>EagleDad760</td>\n      <td>10D</td>\n      <td>7H</td>\n      <td>12C</td>\n      <td>7S</td>\n      <td>13D</td>\n      <td>12H</td>\n      <td>-1</td>\n      <td>2274006</td>\n      <td>no</td>\n      <td>yes</td>\n    </tr>\n    <tr>\n      <th>4</th>\n      <td>Gerard Rugowski</td>\n      <td>13S</td>\n      <td>8S</td>\n      <td>10C</td>\n      <td>7C</td>\n      <td>8C</td>\n      <td>9C</td>\n      <td>-1</td>\n      <td>2274006</td>\n      <td>no</td>\n      <td>yes</td>\n    </tr>\n    <tr>\n      <th>0</th>\n      <td>DrP</td>\n      <td>9D</td>\n      <td>12D</td>\n      <td>13S</td>\n      <td>12S</td>\n      <td>14H</td>\n      <td>10S</td>\n      <td>-2</td>\n      <td>2274007</td>\n      <td>no</td>\n      <td>no</td>\n    </tr>\n    <tr>\n      <th>1</th>\n      <td>Gym Stevens</td>\n      <td>11C</td>\n      <td>12C</td>\n      <td>7C</td>\n      <td>11H</td>\n      <td>10D</td>\n      <td>13C</td>\n      <td>4</td>\n      <td>2274007</td>\n      <td>picker</td>\n      <td>no</td>\n    </tr>\n    <tr>\n      <th>2</th>\n      <td>John Wozniak</td>\n      <td>12H</td>\n      <td>11S</td>\n      <td>11D</td>\n      <td>7D</td>\n      <td>13H</td>\n      <td>9H</td>\n      <td>2</td>\n      <td>2274007</td>\n      <td>partner</td>\n      <td>no</td>\n    </tr>\n    <tr>\n      <th>3</th>\n      <td>TimmyB</td>\n      <td>14D</td>\n      <td>13D</td>\n      <td>9C</td>\n      <td>7S</td>\n      <td>8S</td>\n      <td>9S</td>\n      <td>-2</td>\n      <td>2274007</td>\n      <td>no</td>\n      <td>no</td>\n    </tr>\n    <tr>\n      <th>4</th>\n      <td>Wegs</td>\n      <td>8D</td>\n      <td>10H</td>\n      <td>8C</td>\n      <td>14C</td>\n      <td>10C</td>\n      <td>14S</td>\n      <td>-2</td>\n      <td>2274007</td>\n      <td>no</td>\n      <td>no</td>\n    </tr>\n    <tr>\n      <th>0</th>\n      <td>island</td>\n      <td>11S</td>\n      <td>12C</td>\n      <td>11C</td>\n      <td>12D</td>\n      <td>7S</td>\n      <td>8S</td>\n      <td>-2</td>\n      <td>2274008</td>\n      <td>picker</td>\n      <td>no</td>\n    </tr>\n    <tr>\n      <th>1</th>\n      <td>Card Lady</td>\n      <td>10H</td>\n      <td>7D</td>\n      <td>12S</td>\n      <td>11D</td>\n      <td>8C</td>\n      <td>13C</td>\n      <td>-1</td>\n      <td>2274008</td>\n      <td>partner</td>\n      <td>no</td>\n    </tr>\n    <tr>\n      <th>2</th>\n      <td>Pan fisherman</td>\n      <td>9C</td>\n      <td>9D</td>\n      <td>13D</td>\n      <td>14S</td>\n      <td>13S</td>\n      <td>14C</td>\n      <td>1</td>\n      <td>2274008</td>\n      <td>no</td>\n      <td>no</td>\n    </tr>\n    <tr>\n      <th>3</th>\n      <td>rboegel</td>\n      <td>9H</td>\n      <td>10D</td>\n      <td>14D</td>\n      <td>12H</td>\n      <td>9S</td>\n      <td>7C</td>\n      <td>1</td>\n      <td>2274008</td>\n      <td>no</td>\n      <td>no</td>\n    </tr>\n    <tr>\n      <th>4</th>\n      <td>spaan</td>\n      <td>14H</td>\n      <td>8D</td>\n      <td>11H</td>\n      <td>10C</td>\n      <td>10S</td>\n      <td>13H</td>\n      <td>1</td>\n      <td>2274008</td>\n      <td>no</td>\n      <td>no</td>\n    </tr>\n    <tr>\n      <th>0</th>\n      <td>quinna2525</td>\n      <td>8S</td>\n      <td>12H</td>\n      <td>9S</td>\n      <td>14S</td>\n      <td>14H</td>\n      <td>10H</td>\n      <td>-2</td>\n      <td>2274009</td>\n      <td>no</td>\n      <td>no</td>\n    </tr>\n    <tr>\n      <th>1</th>\n      <td>CTWIFL</td>\n      <td>10S</td>\n      <td>12C</td>\n      <td>9D</td>\n      <td>13C</td>\n      <td>13H</td>\n      <td>11D</td>\n      <td>2</td>\n      <td>2274009</td>\n      <td>partner</td>\n      <td>no</td>\n    </tr>\n    <tr>\n      <th>2</th>\n      <td>roger1710</td>\n      <td>11S</td>\n      <td>7D</td>\n      <td>12S</td>\n      <td>9C</td>\n      <td>11H</td>\n      <td>12D</td>\n      <td>4</td>\n      <td>2274009</td>\n      <td>picker</td>\n      <td>no</td>\n    </tr>\n    <tr>\n      <th>3</th>\n      <td>Harold Kurzy</td>\n      <td>13S</td>\n      <td>13D</td>\n      <td>7H</td>\n      <td>7C</td>\n      <td>8H</td>\n      <td>8C</td>\n      <td>-2</td>\n      <td>2274009</td>\n      <td>no</td>\n      <td>no</td>\n    </tr>\n    <tr>\n      <th>4</th>\n      <td>Indy Badger</td>\n      <td>7S</td>\n      <td>10D</td>\n      <td>8D</td>\n      <td>14D</td>\n      <td>9H</td>\n      <td>11C</td>\n      <td>-2</td>\n      <td>2274009</td>\n      <td>no</td>\n      <td>no</td>\n    </tr>\n  </tbody>\n</table>\n</div>"
     },
     "metadata": {},
     "execution_count": 10
    }
   ],
   "source": [
    "dftot"
   ]
  },
  {
   "cell_type": "code",
   "execution_count": 13,
   "metadata": {},
   "outputs": [
    {
     "output_type": "stream",
     "name": "stdout",
     "text": [
      "https://get61.com/hand_detail?handid=226800\n"
     ]
    }
   ],
   "source": []
  },
  {
   "cell_type": "code",
   "execution_count": 106,
   "metadata": {},
   "outputs": [],
   "source": [
    "#dftot.to_pickle('2268010_2268200')\n",
    "#dftot.to_pickle('2268200_2268600')\n",
    "#dftot.to_pickle('2268600_2270000')\n",
    "#dftot.to_pickle('2270000_2272000')\n",
    "#dftot.to_pickle('2272000_2274000')"
   ]
  },
  {
   "cell_type": "code",
   "execution_count": null,
   "metadata": {},
   "outputs": [],
   "source": []
  }
 ]
}