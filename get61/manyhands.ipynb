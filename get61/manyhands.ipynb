{
 "metadata": {
  "language_info": {
   "codemirror_mode": {
    "name": "ipython",
    "version": 3
   },
   "file_extension": ".py",
   "mimetype": "text/x-python",
   "name": "python",
   "nbconvert_exporter": "python",
   "pygments_lexer": "ipython3",
   "version": "3.8.3-final"
  },
  "orig_nbformat": 2,
  "kernelspec": {
   "name": "python3",
   "display_name": "Python 3.8.3 64-bit ('metis': conda)",
   "metadata": {
    "interpreter": {
     "hash": "e94c15d6dbef08e95baaf638ff93666d2390f58e0c4317ae3b2bf35ecad0e12e"
    }
   }
  }
 },
 "nbformat": 4,
 "nbformat_minor": 2,
 "cells": [
  {
   "cell_type": "code",
   "execution_count": 3,
   "metadata": {},
   "outputs": [],
   "source": [
    "from bs4 import BeautifulSoup\n",
    "import requests\n",
    "# import time, os\n",
    "import re\n",
    "# import urllib\n",
    "# import json\n",
    "# from selenium import webdriver\n",
    "# from selenium.webdriver.common.keys import Keys\n",
    "import pandas as pd\n",
    "from datetime import datetime\n",
    "import numpy as np"
   ]
  },
  {
   "cell_type": "code",
   "execution_count": 4,
   "metadata": {},
   "outputs": [
    {
     "output_type": "execute_result",
     "data": {
      "text/plain": [
       "'memory profile enabled'"
      ]
     },
     "metadata": {},
     "execution_count": 4
    },
    {
     "output_type": "stream",
     "name": "stdout",
     "text": [
      "time: 141 ms\nIn [4] used 0.0625 MiB RAM in 0.11s, peaked 0.00 MiB above current, total RAM usage 103.47 MiB\n"
     ]
    }
   ],
   "source": [
    "# ipython autotime\n",
    "%load_ext autotime\n",
    "\n",
    "# ipython_memory_usage\n",
    "import ipython_memory_usage \n",
    "%ipython_memory_usage_start   "
   ]
  },
  {
   "cell_type": "code",
   "execution_count": 24,
   "metadata": {},
   "outputs": [
    {
     "output_type": "stream",
     "name": "stdout",
     "text": [
      "time: 934 µs\nIn [24] used 0.0000 MiB RAM in 0.10s, peaked 0.00 MiB above current, total RAM usage 146.47 MiB\n"
     ]
    }
   ],
   "source": [
    "start, end = 2400000, 2400800\n",
    "\n"
   ]
  },
  {
   "cell_type": "code",
   "execution_count": 44,
   "metadata": {},
   "outputs": [],
   "source": []
  },
  {
   "cell_type": "code",
   "execution_count": 25,
   "metadata": {},
   "outputs": [],
   "source": [
    "allf = []\n",
    "for id in range(start, end):\n",
    "    site = 'https://get61.com/hand_detail?handid={}'\n",
    "    page = requests.get(site.format(id)).text\n",
    "    soup = BeautifulSoup(page, 'html5lib')\n",
    "\n",
    "    cardre = re.compile('var play11')\n",
    "    cards = soup.find(text=cardre)\n",
    "    a = cards.split(';')\n",
    "    a\n",
    "    b = a[0].split(' ')\n",
    "    rounds = [i.split(' ') for i in a]\n",
    "    if rounds[41][-1] == '\"NA\"':\n",
    "        continue\n",
    "    else:\n",
    "\n",
    "        plays = [rounds[i][3].replace('\"', '') for i in range(30)]\n",
    "\n",
    "        handa = plays[:6]\n",
    "        handb = plays[6:12]\n",
    "        handc = plays[12:18]\n",
    "        handd = plays[18:24]\n",
    "        hande = plays[24:32]\n",
    "\n",
    "        nameslist = [row.split('=') for row in a[36:41]]\n",
    "        scores = [int(rounds[i][3].replace('\"', '')) for i in range(41, 46)]\n",
    "        names = [nameslist[row][1].strip().replace('\"', '') for row in range(5)]\n",
    "        leads = [int(rounds[i][3].replace('\"', '')) for i in range(30, 36)]\n",
    "\n",
    "        blind1, blind2 = rounds[48][-1].replace('\"',''), rounds[49][-1].replace('\"','')\n",
    "        bury1, bury2 = rounds[46][-1].replace('\"',''), rounds[47][-1].replace('\"','')\n",
    "\n",
    "        call_ace = rounds[50][-1].replace('\"','')\n",
    "        ace_suit = rounds[53][-1].replace('\"','')\n",
    "        is_leaster = rounds[51][-1].replace('\"','')\n",
    "\n",
    "        player1 = [names[0]] + handa + [scores[0]]\n",
    "        player2 = [names[1]] + handb + [scores[1]]\n",
    "        player3 = [names[2]] + handc + [scores[2]]\n",
    "        player4 = [names[3]] + handd + [scores[3]]\n",
    "        player5 = [names[4]] + hande + [scores[4]]\n",
    "        df = pd.DataFrame([player1, player2, player3, player4, player5], columns = ['name', 1, 2,3, 4, 5, 6, 'score'])\n",
    "        \n",
    "        df['handid'] = id\n",
    "        df['picker'] = df['score'].apply(lambda x: 'picker' if x == max(scores, key=abs) else 'partner' if np.sign(x) == np.sign(max(scores,                                               key=abs)) else 'no')\n",
    "        df['alone'] = df['picker'].apply(lambda x: 'no' if 'partner' in df.values else 'yes')\n",
    "        blind1, blind2 = rounds[48][-1].replace('\"',''), rounds[49][-1].replace('\"','')\n",
    "        df['position'] = [0, 1, 2, 3, 4]\n",
    "        df['lead0'] = leads[0]\n",
    "        df['lead1'] = leads[1]\n",
    "        df['lead2'] = leads[2]\n",
    "        df['lead3'] = leads[3]\n",
    "        df['lead4'] = leads[4]\n",
    "        df['lead5'] = leads[5]\n",
    "        df['pick_position'] = df.apply(lambda x: 0 if x['position'] == x['lead0'] else x['position'] + (5 % x['lead0']) if x['position'] < x['lead0'] else x['position'] - x['lead0'], axis=1)\n",
    "        df['rd0pos'] = df.apply(lambda x: 0 if x['position'] == x['lead0'] else 4 if x['lead0'] == 1 and x['position'] == 0 else x['position'] + (5 % x['lead0']) if x['position'] < x['lead0'] else x['position'] - x['lead0'], axis=1)\n",
    "        df['rd1pos'] = df.apply(lambda x: 0 if x['position'] == x['lead1'] else 4 if x['lead1'] == 1 and x['position'] == 0 else x['position'] + (5 % x['lead1']) if x['position'] < x['lead1'] else x['position'] - x['lead1'], axis=1)\n",
    "        df['rd2pos'] = df.apply(lambda x: 0 if x['position'] == x['lead2'] else 4 if x['lead2'] == 1 and x['position'] == 0 else x['position'] + (5 % x['lead2']) if x['position'] < x['lead2'] else x['position'] - x['lead2'], axis=1)\n",
    "        df['rd3pos'] = df.apply(lambda x: 0 if x['position'] == x['lead3'] else 4 if x['lead3'] == 1 and x['position'] == 0 else x['position'] + (5 % x['lead3']) if x['position'] < x['lead3'] else x['position'] - x['lead3'], axis=1)\n",
    "        df['rd4pos'] = df.apply(lambda x: 0 if x['position'] == x['lead4'] else 4 if x['lead4'] == 1 and x['position'] == 0 else x['position'] + (5 % x['lead4']) if x['position'] < x['lead4'] else x['position'] - x['lead4'], axis=1)\n",
    "        df['rd5pos'] = df.apply(lambda x: 0 if x['position'] == x['lead5'] else 4 if x['lead5'] == 1 and x['position'] == 0 else x['position'] + (5 % x['lead5']) if x['position'] < x['lead5'] else x['position'] - x['lead5'], axis=1)\n",
    "\n",
    "        df['blind_1'] = blind1\n",
    "        df['blind_2'] = blind2\n",
    "\n",
    "        df['bury1'] = bury1\n",
    "        df['bury2'] = bury2\n",
    "\n",
    "        df['call_ace'] = call_ace\n",
    "        df['ace_suit'] = ace_suit\n",
    "        df['leaster'] = is_leaster\n",
    "        allf.append(df)"
   ]
  },
  {
   "cell_type": "code",
   "execution_count": 26,
   "metadata": {},
   "outputs": [
    {
     "output_type": "stream",
     "name": "stdout",
     "text": [
      "time: 522 ms\nIn [26] used 7.4883 MiB RAM in 0.63s, peaked 0.00 MiB above current, total RAM usage 153.96 MiB\n"
     ]
    }
   ],
   "source": [
    "dftot = pd.concat(allf)"
   ]
  },
  {
   "cell_type": "code",
   "execution_count": 27,
   "metadata": {},
   "outputs": [
    {
     "output_type": "execute_result",
     "data": {
      "text/plain": [
       "              name    1    2    3    4    5    6  score   handid   picker  \\\n",
       "0    Robert Radtke  14D   9H  13D   9D  10H  13H     -4  2400001       no   \n",
       "1       hulkster53   8S   8H   7D   9S  13C  14C     -4  2400001       no   \n",
       "2        upnorth46  10S   7H  12D  12H   9C  14H     -4  2400001       no   \n",
       "3   RecordHolder37   7S  11C  12S  12C  11H  11D     16  2400001   picker   \n",
       "4          geo4mad  13S   7C   8D  11S  10D  10C     -4  2400001       no   \n",
       "..             ...  ...  ...  ...  ...  ...  ...    ...      ...      ...   \n",
       "0        Artemas16   9H   8D  13D  10S   7S  11H     -2  2400799       no   \n",
       "1      Pat Hoffman   7C  11D  11C  12S   8H   9C      2  2400799  partner   \n",
       "2         Baernutz  14C   9D  10D   9S  11S  14S     -2  2400799       no   \n",
       "3     Bert Simpson  13C   8C  13S  13H  14H  10H     -2  2400799       no   \n",
       "4      Lovetocrack  12D  12C  12H   8S   7D  14D      4  2400799   picker   \n",
       "\n",
       "    ... rd3pos  rd4pos  rd5pos  blind_1  blind_2  bury1  bury2  call_ace  \\\n",
       "0   ...      2       2       2      11C       7S     8C    14S             \n",
       "1   ...      3       3       3      11C       7S     8C    14S             \n",
       "2   ...      4       4       4      11C       7S     8C    14S             \n",
       "3   ...      0       0       0      11C       7S     8C    14S             \n",
       "4   ...      1       1       1      11C       7S     8C    14S             \n",
       "..  ...    ...     ...     ...      ...      ...    ...    ...       ...   \n",
       "0   ...      1       4       1       7H      12C     7H    10C             \n",
       "1   ...      2       0       2       7H      12C     7H    10C             \n",
       "2   ...      3       1       0       7H      12C     7H    10C             \n",
       "3   ...      4       2       1       7H      12C     7H    10C             \n",
       "4   ...      0       3       2       7H      12C     7H    10C             \n",
       "\n",
       "    ace_suit  leaster  \n",
       "0                      \n",
       "1                      \n",
       "2                      \n",
       "3                      \n",
       "4                      \n",
       "..       ...      ...  \n",
       "0                      \n",
       "1                      \n",
       "2                      \n",
       "3                      \n",
       "4                      \n",
       "\n",
       "[3490 rows x 32 columns]"
      ],
      "text/html": "<div>\n<style scoped>\n    .dataframe tbody tr th:only-of-type {\n        vertical-align: middle;\n    }\n\n    .dataframe tbody tr th {\n        vertical-align: top;\n    }\n\n    .dataframe thead th {\n        text-align: right;\n    }\n</style>\n<table border=\"1\" class=\"dataframe\">\n  <thead>\n    <tr style=\"text-align: right;\">\n      <th></th>\n      <th>name</th>\n      <th>1</th>\n      <th>2</th>\n      <th>3</th>\n      <th>4</th>\n      <th>5</th>\n      <th>6</th>\n      <th>score</th>\n      <th>handid</th>\n      <th>picker</th>\n      <th>...</th>\n      <th>rd3pos</th>\n      <th>rd4pos</th>\n      <th>rd5pos</th>\n      <th>blind_1</th>\n      <th>blind_2</th>\n      <th>bury1</th>\n      <th>bury2</th>\n      <th>call_ace</th>\n      <th>ace_suit</th>\n      <th>leaster</th>\n    </tr>\n  </thead>\n  <tbody>\n    <tr>\n      <th>0</th>\n      <td>Robert Radtke</td>\n      <td>14D</td>\n      <td>9H</td>\n      <td>13D</td>\n      <td>9D</td>\n      <td>10H</td>\n      <td>13H</td>\n      <td>-4</td>\n      <td>2400001</td>\n      <td>no</td>\n      <td>...</td>\n      <td>2</td>\n      <td>2</td>\n      <td>2</td>\n      <td>11C</td>\n      <td>7S</td>\n      <td>8C</td>\n      <td>14S</td>\n      <td></td>\n      <td></td>\n      <td></td>\n    </tr>\n    <tr>\n      <th>1</th>\n      <td>hulkster53</td>\n      <td>8S</td>\n      <td>8H</td>\n      <td>7D</td>\n      <td>9S</td>\n      <td>13C</td>\n      <td>14C</td>\n      <td>-4</td>\n      <td>2400001</td>\n      <td>no</td>\n      <td>...</td>\n      <td>3</td>\n      <td>3</td>\n      <td>3</td>\n      <td>11C</td>\n      <td>7S</td>\n      <td>8C</td>\n      <td>14S</td>\n      <td></td>\n      <td></td>\n      <td></td>\n    </tr>\n    <tr>\n      <th>2</th>\n      <td>upnorth46</td>\n      <td>10S</td>\n      <td>7H</td>\n      <td>12D</td>\n      <td>12H</td>\n      <td>9C</td>\n      <td>14H</td>\n      <td>-4</td>\n      <td>2400001</td>\n      <td>no</td>\n      <td>...</td>\n      <td>4</td>\n      <td>4</td>\n      <td>4</td>\n      <td>11C</td>\n      <td>7S</td>\n      <td>8C</td>\n      <td>14S</td>\n      <td></td>\n      <td></td>\n      <td></td>\n    </tr>\n    <tr>\n      <th>3</th>\n      <td>RecordHolder37</td>\n      <td>7S</td>\n      <td>11C</td>\n      <td>12S</td>\n      <td>12C</td>\n      <td>11H</td>\n      <td>11D</td>\n      <td>16</td>\n      <td>2400001</td>\n      <td>picker</td>\n      <td>...</td>\n      <td>0</td>\n      <td>0</td>\n      <td>0</td>\n      <td>11C</td>\n      <td>7S</td>\n      <td>8C</td>\n      <td>14S</td>\n      <td></td>\n      <td></td>\n      <td></td>\n    </tr>\n    <tr>\n      <th>4</th>\n      <td>geo4mad</td>\n      <td>13S</td>\n      <td>7C</td>\n      <td>8D</td>\n      <td>11S</td>\n      <td>10D</td>\n      <td>10C</td>\n      <td>-4</td>\n      <td>2400001</td>\n      <td>no</td>\n      <td>...</td>\n      <td>1</td>\n      <td>1</td>\n      <td>1</td>\n      <td>11C</td>\n      <td>7S</td>\n      <td>8C</td>\n      <td>14S</td>\n      <td></td>\n      <td></td>\n      <td></td>\n    </tr>\n    <tr>\n      <th>...</th>\n      <td>...</td>\n      <td>...</td>\n      <td>...</td>\n      <td>...</td>\n      <td>...</td>\n      <td>...</td>\n      <td>...</td>\n      <td>...</td>\n      <td>...</td>\n      <td>...</td>\n      <td>...</td>\n      <td>...</td>\n      <td>...</td>\n      <td>...</td>\n      <td>...</td>\n      <td>...</td>\n      <td>...</td>\n      <td>...</td>\n      <td>...</td>\n      <td>...</td>\n      <td>...</td>\n    </tr>\n    <tr>\n      <th>0</th>\n      <td>Artemas16</td>\n      <td>9H</td>\n      <td>8D</td>\n      <td>13D</td>\n      <td>10S</td>\n      <td>7S</td>\n      <td>11H</td>\n      <td>-2</td>\n      <td>2400799</td>\n      <td>no</td>\n      <td>...</td>\n      <td>1</td>\n      <td>4</td>\n      <td>1</td>\n      <td>7H</td>\n      <td>12C</td>\n      <td>7H</td>\n      <td>10C</td>\n      <td></td>\n      <td></td>\n      <td></td>\n    </tr>\n    <tr>\n      <th>1</th>\n      <td>Pat Hoffman</td>\n      <td>7C</td>\n      <td>11D</td>\n      <td>11C</td>\n      <td>12S</td>\n      <td>8H</td>\n      <td>9C</td>\n      <td>2</td>\n      <td>2400799</td>\n      <td>partner</td>\n      <td>...</td>\n      <td>2</td>\n      <td>0</td>\n      <td>2</td>\n      <td>7H</td>\n      <td>12C</td>\n      <td>7H</td>\n      <td>10C</td>\n      <td></td>\n      <td></td>\n      <td></td>\n    </tr>\n    <tr>\n      <th>2</th>\n      <td>Baernutz</td>\n      <td>14C</td>\n      <td>9D</td>\n      <td>10D</td>\n      <td>9S</td>\n      <td>11S</td>\n      <td>14S</td>\n      <td>-2</td>\n      <td>2400799</td>\n      <td>no</td>\n      <td>...</td>\n      <td>3</td>\n      <td>1</td>\n      <td>0</td>\n      <td>7H</td>\n      <td>12C</td>\n      <td>7H</td>\n      <td>10C</td>\n      <td></td>\n      <td></td>\n      <td></td>\n    </tr>\n    <tr>\n      <th>3</th>\n      <td>Bert Simpson</td>\n      <td>13C</td>\n      <td>8C</td>\n      <td>13S</td>\n      <td>13H</td>\n      <td>14H</td>\n      <td>10H</td>\n      <td>-2</td>\n      <td>2400799</td>\n      <td>no</td>\n      <td>...</td>\n      <td>4</td>\n      <td>2</td>\n      <td>1</td>\n      <td>7H</td>\n      <td>12C</td>\n      <td>7H</td>\n      <td>10C</td>\n      <td></td>\n      <td></td>\n      <td></td>\n    </tr>\n    <tr>\n      <th>4</th>\n      <td>Lovetocrack</td>\n      <td>12D</td>\n      <td>12C</td>\n      <td>12H</td>\n      <td>8S</td>\n      <td>7D</td>\n      <td>14D</td>\n      <td>4</td>\n      <td>2400799</td>\n      <td>picker</td>\n      <td>...</td>\n      <td>0</td>\n      <td>3</td>\n      <td>2</td>\n      <td>7H</td>\n      <td>12C</td>\n      <td>7H</td>\n      <td>10C</td>\n      <td></td>\n      <td></td>\n      <td></td>\n    </tr>\n  </tbody>\n</table>\n<p>3490 rows × 32 columns</p>\n</div>"
     },
     "metadata": {},
     "execution_count": 27
    },
    {
     "output_type": "stream",
     "name": "stdout",
     "text": [
      "time: 36 ms\n",
      "In [27] used 0.9297 MiB RAM in 0.14s, peaked 0.00 MiB above current, total RAM usage 154.89 MiB\n"
     ]
    }
   ],
   "source": [
    "dftot"
   ]
  },
  {
   "cell_type": "code",
   "execution_count": 28,
   "metadata": {},
   "outputs": [
    {
     "output_type": "stream",
     "name": "stdout",
     "text": [
      "time: 14.3 ms\n",
      "In [28] used 3.2070 MiB RAM in 0.12s, peaked 0.00 MiB above current, total RAM usage 158.09 MiB\n"
     ]
    }
   ],
   "source": [
    "#dftot.to_pickle('2268010_2268200')\n",
    "#dftot.to_pickle('2268200_2268600')\n",
    "#dftot.to_pickle('2268600_2270000')\n",
    "#dftot.to_pickle('2270000_2272000')\n",
    "#dftot.to_pickle('2272000_2274000')\n",
    "#dftot.to_pickle('2274000_2277000')\n",
    "#dftot.to_pickle('2277000_2280000')\n",
    "#dftot.to_pickle('2280000_2282000')\n",
    "#dftot.to_pickle('2282000_2284000')\n",
    "#dftot.to_pickle('2284000_2285000')\n",
    "#dftot.to_pickle('2285000_2287000')\n",
    "#dftot.to_pickle('2293000_2296000')\n",
    "#dftot.to_pickle('2296000_2397000')\n",
    "dftot.to_pickle('2400000_2400800')"
   ]
  },
  {
   "cell_type": "code",
   "execution_count": 28,
   "metadata": {},
   "outputs": [
    {
     "output_type": "stream",
     "name": "stdout",
     "text": [
      "time: 2.8 ms\n",
      "In [28] used 0.0039 MiB RAM in 0.11s, peaked 0.00 MiB above current, total RAM usage 131.70 MiB\n"
     ]
    }
   ],
   "source": [
    "#dftot.to_pickle('2256006_2256009')"
   ]
  },
  {
   "cell_type": "code",
   "execution_count": 5,
   "metadata": {},
   "outputs": [
    {
     "output_type": "stream",
     "name": "stdout",
     "text": [
      "time: 388 ms\nIn [5] used 76.8359 MiB RAM in 0.49s, peaked 0.00 MiB above current, total RAM usage 180.30 MiB\n"
     ]
    }
   ],
   "source": [
    "df1 = pd.read_pickle('2296000_2330000')\n",
    "df2 = pd.read_pickle('2296000_2397000')"
   ]
  },
  {
   "cell_type": "code",
   "execution_count": 30,
   "metadata": {},
   "outputs": [
    {
     "output_type": "execute_result",
     "data": {
      "text/plain": [
       "                name    1    2    3    4    5    6  score   handid   picker  \\\n",
       "0             jturba   7C   7S  10H  13S  11D  12H      1  2296000  partner   \n",
       "1            swood70   9C  13D   8H  12S   7D   8D     -1  2296000       no   \n",
       "2      Nancy Ortlieb  10C  14D  14C   7H   9D   9H     -1  2296000       no   \n",
       "3            barry g   8C   9S  14H  11H  11C  12D     -1  2296000       no   \n",
       "4   I Will Crack You  10D  10S  12C  14S  11S   8S      2  2296000   picker   \n",
       "..               ...  ...  ...  ...  ...  ...  ...    ...      ...      ...   \n",
       "0            rboegel   8D  14S  14D   7C  11C   8H     -2  2304498       no   \n",
       "1            gmabear  12H   9S  11D   9C   7H   9H      2  2304498  partner   \n",
       "2          bighuhnit  12C  13S  12D  14C   8C   8S     -2  2304498       no   \n",
       "3       Barbara Dorn   7D  13D  12S  13C  10C  10D      4  2304498   picker   \n",
       "4             jturba   9D   7S  11H  13H  11S  14H     -2  2304498       no   \n",
       "\n",
       "    ... rd3pos  rd4pos  rd5pos  blind_1  blind_2  bury1  bury2  call_ace  \\\n",
       "0   ...      1       4       2      10S       8S    13C    13H             \n",
       "1   ...      2       0       3      10S       8S    13C    13H             \n",
       "2   ...      3       1       4      10S       8S    13C    13H             \n",
       "3   ...      4       2       0      10S       8S    13C    13H             \n",
       "4   ...      0       3       1      10S       8S    13C    13H             \n",
       "..  ...    ...     ...     ...      ...      ...    ...    ...       ...   \n",
       "0   ...      2       1       0      10C      13C    10H    10S             \n",
       "1   ...      3       2       1      10C      13C    10H    10S             \n",
       "2   ...      4       0       2      10C      13C    10H    10S             \n",
       "3   ...      0       1       3      10C      13C    10H    10S             \n",
       "4   ...      1       2       4      10C      13C    10H    10S             \n",
       "\n",
       "    ace_suit  leaster  \n",
       "0                      \n",
       "1                      \n",
       "2                      \n",
       "3                      \n",
       "4                      \n",
       "..       ...      ...  \n",
       "0                      \n",
       "1                      \n",
       "2                      \n",
       "3                      \n",
       "4                      \n",
       "\n",
       "[37330 rows x 32 columns]"
      ],
      "text/html": "<div>\n<style scoped>\n    .dataframe tbody tr th:only-of-type {\n        vertical-align: middle;\n    }\n\n    .dataframe tbody tr th {\n        vertical-align: top;\n    }\n\n    .dataframe thead th {\n        text-align: right;\n    }\n</style>\n<table border=\"1\" class=\"dataframe\">\n  <thead>\n    <tr style=\"text-align: right;\">\n      <th></th>\n      <th>name</th>\n      <th>1</th>\n      <th>2</th>\n      <th>3</th>\n      <th>4</th>\n      <th>5</th>\n      <th>6</th>\n      <th>score</th>\n      <th>handid</th>\n      <th>picker</th>\n      <th>...</th>\n      <th>rd3pos</th>\n      <th>rd4pos</th>\n      <th>rd5pos</th>\n      <th>blind_1</th>\n      <th>blind_2</th>\n      <th>bury1</th>\n      <th>bury2</th>\n      <th>call_ace</th>\n      <th>ace_suit</th>\n      <th>leaster</th>\n    </tr>\n  </thead>\n  <tbody>\n    <tr>\n      <th>0</th>\n      <td>jturba</td>\n      <td>7C</td>\n      <td>7S</td>\n      <td>10H</td>\n      <td>13S</td>\n      <td>11D</td>\n      <td>12H</td>\n      <td>1</td>\n      <td>2296000</td>\n      <td>partner</td>\n      <td>...</td>\n      <td>1</td>\n      <td>4</td>\n      <td>2</td>\n      <td>10S</td>\n      <td>8S</td>\n      <td>13C</td>\n      <td>13H</td>\n      <td></td>\n      <td></td>\n      <td></td>\n    </tr>\n    <tr>\n      <th>1</th>\n      <td>swood70</td>\n      <td>9C</td>\n      <td>13D</td>\n      <td>8H</td>\n      <td>12S</td>\n      <td>7D</td>\n      <td>8D</td>\n      <td>-1</td>\n      <td>2296000</td>\n      <td>no</td>\n      <td>...</td>\n      <td>2</td>\n      <td>0</td>\n      <td>3</td>\n      <td>10S</td>\n      <td>8S</td>\n      <td>13C</td>\n      <td>13H</td>\n      <td></td>\n      <td></td>\n      <td></td>\n    </tr>\n    <tr>\n      <th>2</th>\n      <td>Nancy Ortlieb</td>\n      <td>10C</td>\n      <td>14D</td>\n      <td>14C</td>\n      <td>7H</td>\n      <td>9D</td>\n      <td>9H</td>\n      <td>-1</td>\n      <td>2296000</td>\n      <td>no</td>\n      <td>...</td>\n      <td>3</td>\n      <td>1</td>\n      <td>4</td>\n      <td>10S</td>\n      <td>8S</td>\n      <td>13C</td>\n      <td>13H</td>\n      <td></td>\n      <td></td>\n      <td></td>\n    </tr>\n    <tr>\n      <th>3</th>\n      <td>barry g</td>\n      <td>8C</td>\n      <td>9S</td>\n      <td>14H</td>\n      <td>11H</td>\n      <td>11C</td>\n      <td>12D</td>\n      <td>-1</td>\n      <td>2296000</td>\n      <td>no</td>\n      <td>...</td>\n      <td>4</td>\n      <td>2</td>\n      <td>0</td>\n      <td>10S</td>\n      <td>8S</td>\n      <td>13C</td>\n      <td>13H</td>\n      <td></td>\n      <td></td>\n      <td></td>\n    </tr>\n    <tr>\n      <th>4</th>\n      <td>I Will Crack You</td>\n      <td>10D</td>\n      <td>10S</td>\n      <td>12C</td>\n      <td>14S</td>\n      <td>11S</td>\n      <td>8S</td>\n      <td>2</td>\n      <td>2296000</td>\n      <td>picker</td>\n      <td>...</td>\n      <td>0</td>\n      <td>3</td>\n      <td>1</td>\n      <td>10S</td>\n      <td>8S</td>\n      <td>13C</td>\n      <td>13H</td>\n      <td></td>\n      <td></td>\n      <td></td>\n    </tr>\n    <tr>\n      <th>...</th>\n      <td>...</td>\n      <td>...</td>\n      <td>...</td>\n      <td>...</td>\n      <td>...</td>\n      <td>...</td>\n      <td>...</td>\n      <td>...</td>\n      <td>...</td>\n      <td>...</td>\n      <td>...</td>\n      <td>...</td>\n      <td>...</td>\n      <td>...</td>\n      <td>...</td>\n      <td>...</td>\n      <td>...</td>\n      <td>...</td>\n      <td>...</td>\n      <td>...</td>\n      <td>...</td>\n    </tr>\n    <tr>\n      <th>0</th>\n      <td>rboegel</td>\n      <td>8D</td>\n      <td>14S</td>\n      <td>14D</td>\n      <td>7C</td>\n      <td>11C</td>\n      <td>8H</td>\n      <td>-2</td>\n      <td>2304498</td>\n      <td>no</td>\n      <td>...</td>\n      <td>2</td>\n      <td>1</td>\n      <td>0</td>\n      <td>10C</td>\n      <td>13C</td>\n      <td>10H</td>\n      <td>10S</td>\n      <td></td>\n      <td></td>\n      <td></td>\n    </tr>\n    <tr>\n      <th>1</th>\n      <td>gmabear</td>\n      <td>12H</td>\n      <td>9S</td>\n      <td>11D</td>\n      <td>9C</td>\n      <td>7H</td>\n      <td>9H</td>\n      <td>2</td>\n      <td>2304498</td>\n      <td>partner</td>\n      <td>...</td>\n      <td>3</td>\n      <td>2</td>\n      <td>1</td>\n      <td>10C</td>\n      <td>13C</td>\n      <td>10H</td>\n      <td>10S</td>\n      <td></td>\n      <td></td>\n      <td></td>\n    </tr>\n    <tr>\n      <th>2</th>\n      <td>bighuhnit</td>\n      <td>12C</td>\n      <td>13S</td>\n      <td>12D</td>\n      <td>14C</td>\n      <td>8C</td>\n      <td>8S</td>\n      <td>-2</td>\n      <td>2304498</td>\n      <td>no</td>\n      <td>...</td>\n      <td>4</td>\n      <td>0</td>\n      <td>2</td>\n      <td>10C</td>\n      <td>13C</td>\n      <td>10H</td>\n      <td>10S</td>\n      <td></td>\n      <td></td>\n      <td></td>\n    </tr>\n    <tr>\n      <th>3</th>\n      <td>Barbara Dorn</td>\n      <td>7D</td>\n      <td>13D</td>\n      <td>12S</td>\n      <td>13C</td>\n      <td>10C</td>\n      <td>10D</td>\n      <td>4</td>\n      <td>2304498</td>\n      <td>picker</td>\n      <td>...</td>\n      <td>0</td>\n      <td>1</td>\n      <td>3</td>\n      <td>10C</td>\n      <td>13C</td>\n      <td>10H</td>\n      <td>10S</td>\n      <td></td>\n      <td></td>\n      <td></td>\n    </tr>\n    <tr>\n      <th>4</th>\n      <td>jturba</td>\n      <td>9D</td>\n      <td>7S</td>\n      <td>11H</td>\n      <td>13H</td>\n      <td>11S</td>\n      <td>14H</td>\n      <td>-2</td>\n      <td>2304498</td>\n      <td>no</td>\n      <td>...</td>\n      <td>1</td>\n      <td>2</td>\n      <td>4</td>\n      <td>10C</td>\n      <td>13C</td>\n      <td>10H</td>\n      <td>10S</td>\n      <td></td>\n      <td></td>\n      <td></td>\n    </tr>\n  </tbody>\n</table>\n<p>37330 rows × 32 columns</p>\n</div>"
     },
     "metadata": {},
     "execution_count": 30
    },
    {
     "output_type": "stream",
     "name": "stdout",
     "text": [
      "time: 68.7 ms\nIn [30] used -1.9023 MiB RAM in 0.17s, peaked 0.00 MiB above current, total RAM usage 293.01 MiB\n"
     ]
    }
   ],
   "source": [
    "df1"
   ]
  },
  {
   "cell_type": "code",
   "execution_count": 31,
   "metadata": {},
   "outputs": [
    {
     "output_type": "execute_result",
     "data": {
      "text/plain": [
       "                name    1    2    3    4    5    6  score   handid   picker  \\\n",
       "0             jturba   7C   7S  10H  13S  11D  12H      1  2296000  partner   \n",
       "1            swood70   9C  13D   8H  12S   7D   8D     -1  2296000       no   \n",
       "2      Nancy Ortlieb  10C  14D  14C   7H   9D   9H     -1  2296000       no   \n",
       "3            barry g   8C   9S  14H  11H  11C  12D     -1  2296000       no   \n",
       "4   I Will Crack You  10D  10S  12C  14S  11S   8S      2  2296000   picker   \n",
       "..               ...  ...  ...  ...  ...  ...  ...    ...      ...      ...   \n",
       "0            rboegel   8D  14S  14D   7C  11C   8H     -2  2304498       no   \n",
       "1            gmabear  12H   9S  11D   9C   7H   9H      2  2304498  partner   \n",
       "2          bighuhnit  12C  13S  12D  14C   8C   8S     -2  2304498       no   \n",
       "3       Barbara Dorn   7D  13D  12S  13C  10C  10D      4  2304498   picker   \n",
       "4             jturba   9D   7S  11H  13H  11S  14H     -2  2304498       no   \n",
       "\n",
       "    ... rd3pos  rd4pos  rd5pos  blind_1  blind_2  bury1  bury2  call_ace  \\\n",
       "0   ...      1       4       2      10S       8S    13C    13H             \n",
       "1   ...      2       0       3      10S       8S    13C    13H             \n",
       "2   ...      3       1       4      10S       8S    13C    13H             \n",
       "3   ...      4       2       0      10S       8S    13C    13H             \n",
       "4   ...      0       3       1      10S       8S    13C    13H             \n",
       "..  ...    ...     ...     ...      ...      ...    ...    ...       ...   \n",
       "0   ...      2       1       0      10C      13C    10H    10S             \n",
       "1   ...      3       2       1      10C      13C    10H    10S             \n",
       "2   ...      4       0       2      10C      13C    10H    10S             \n",
       "3   ...      0       1       3      10C      13C    10H    10S             \n",
       "4   ...      1       2       4      10C      13C    10H    10S             \n",
       "\n",
       "    ace_suit  leaster  \n",
       "0                      \n",
       "1                      \n",
       "2                      \n",
       "3                      \n",
       "4                      \n",
       "..       ...      ...  \n",
       "0                      \n",
       "1                      \n",
       "2                      \n",
       "3                      \n",
       "4                      \n",
       "\n",
       "[37330 rows x 32 columns]"
      ],
      "text/html": "<div>\n<style scoped>\n    .dataframe tbody tr th:only-of-type {\n        vertical-align: middle;\n    }\n\n    .dataframe tbody tr th {\n        vertical-align: top;\n    }\n\n    .dataframe thead th {\n        text-align: right;\n    }\n</style>\n<table border=\"1\" class=\"dataframe\">\n  <thead>\n    <tr style=\"text-align: right;\">\n      <th></th>\n      <th>name</th>\n      <th>1</th>\n      <th>2</th>\n      <th>3</th>\n      <th>4</th>\n      <th>5</th>\n      <th>6</th>\n      <th>score</th>\n      <th>handid</th>\n      <th>picker</th>\n      <th>...</th>\n      <th>rd3pos</th>\n      <th>rd4pos</th>\n      <th>rd5pos</th>\n      <th>blind_1</th>\n      <th>blind_2</th>\n      <th>bury1</th>\n      <th>bury2</th>\n      <th>call_ace</th>\n      <th>ace_suit</th>\n      <th>leaster</th>\n    </tr>\n  </thead>\n  <tbody>\n    <tr>\n      <th>0</th>\n      <td>jturba</td>\n      <td>7C</td>\n      <td>7S</td>\n      <td>10H</td>\n      <td>13S</td>\n      <td>11D</td>\n      <td>12H</td>\n      <td>1</td>\n      <td>2296000</td>\n      <td>partner</td>\n      <td>...</td>\n      <td>1</td>\n      <td>4</td>\n      <td>2</td>\n      <td>10S</td>\n      <td>8S</td>\n      <td>13C</td>\n      <td>13H</td>\n      <td></td>\n      <td></td>\n      <td></td>\n    </tr>\n    <tr>\n      <th>1</th>\n      <td>swood70</td>\n      <td>9C</td>\n      <td>13D</td>\n      <td>8H</td>\n      <td>12S</td>\n      <td>7D</td>\n      <td>8D</td>\n      <td>-1</td>\n      <td>2296000</td>\n      <td>no</td>\n      <td>...</td>\n      <td>2</td>\n      <td>0</td>\n      <td>3</td>\n      <td>10S</td>\n      <td>8S</td>\n      <td>13C</td>\n      <td>13H</td>\n      <td></td>\n      <td></td>\n      <td></td>\n    </tr>\n    <tr>\n      <th>2</th>\n      <td>Nancy Ortlieb</td>\n      <td>10C</td>\n      <td>14D</td>\n      <td>14C</td>\n      <td>7H</td>\n      <td>9D</td>\n      <td>9H</td>\n      <td>-1</td>\n      <td>2296000</td>\n      <td>no</td>\n      <td>...</td>\n      <td>3</td>\n      <td>1</td>\n      <td>4</td>\n      <td>10S</td>\n      <td>8S</td>\n      <td>13C</td>\n      <td>13H</td>\n      <td></td>\n      <td></td>\n      <td></td>\n    </tr>\n    <tr>\n      <th>3</th>\n      <td>barry g</td>\n      <td>8C</td>\n      <td>9S</td>\n      <td>14H</td>\n      <td>11H</td>\n      <td>11C</td>\n      <td>12D</td>\n      <td>-1</td>\n      <td>2296000</td>\n      <td>no</td>\n      <td>...</td>\n      <td>4</td>\n      <td>2</td>\n      <td>0</td>\n      <td>10S</td>\n      <td>8S</td>\n      <td>13C</td>\n      <td>13H</td>\n      <td></td>\n      <td></td>\n      <td></td>\n    </tr>\n    <tr>\n      <th>4</th>\n      <td>I Will Crack You</td>\n      <td>10D</td>\n      <td>10S</td>\n      <td>12C</td>\n      <td>14S</td>\n      <td>11S</td>\n      <td>8S</td>\n      <td>2</td>\n      <td>2296000</td>\n      <td>picker</td>\n      <td>...</td>\n      <td>0</td>\n      <td>3</td>\n      <td>1</td>\n      <td>10S</td>\n      <td>8S</td>\n      <td>13C</td>\n      <td>13H</td>\n      <td></td>\n      <td></td>\n      <td></td>\n    </tr>\n    <tr>\n      <th>...</th>\n      <td>...</td>\n      <td>...</td>\n      <td>...</td>\n      <td>...</td>\n      <td>...</td>\n      <td>...</td>\n      <td>...</td>\n      <td>...</td>\n      <td>...</td>\n      <td>...</td>\n      <td>...</td>\n      <td>...</td>\n      <td>...</td>\n      <td>...</td>\n      <td>...</td>\n      <td>...</td>\n      <td>...</td>\n      <td>...</td>\n      <td>...</td>\n      <td>...</td>\n      <td>...</td>\n    </tr>\n    <tr>\n      <th>0</th>\n      <td>rboegel</td>\n      <td>8D</td>\n      <td>14S</td>\n      <td>14D</td>\n      <td>7C</td>\n      <td>11C</td>\n      <td>8H</td>\n      <td>-2</td>\n      <td>2304498</td>\n      <td>no</td>\n      <td>...</td>\n      <td>2</td>\n      <td>1</td>\n      <td>0</td>\n      <td>10C</td>\n      <td>13C</td>\n      <td>10H</td>\n      <td>10S</td>\n      <td></td>\n      <td></td>\n      <td></td>\n    </tr>\n    <tr>\n      <th>1</th>\n      <td>gmabear</td>\n      <td>12H</td>\n      <td>9S</td>\n      <td>11D</td>\n      <td>9C</td>\n      <td>7H</td>\n      <td>9H</td>\n      <td>2</td>\n      <td>2304498</td>\n      <td>partner</td>\n      <td>...</td>\n      <td>3</td>\n      <td>2</td>\n      <td>1</td>\n      <td>10C</td>\n      <td>13C</td>\n      <td>10H</td>\n      <td>10S</td>\n      <td></td>\n      <td></td>\n      <td></td>\n    </tr>\n    <tr>\n      <th>2</th>\n      <td>bighuhnit</td>\n      <td>12C</td>\n      <td>13S</td>\n      <td>12D</td>\n      <td>14C</td>\n      <td>8C</td>\n      <td>8S</td>\n      <td>-2</td>\n      <td>2304498</td>\n      <td>no</td>\n      <td>...</td>\n      <td>4</td>\n      <td>0</td>\n      <td>2</td>\n      <td>10C</td>\n      <td>13C</td>\n      <td>10H</td>\n      <td>10S</td>\n      <td></td>\n      <td></td>\n      <td></td>\n    </tr>\n    <tr>\n      <th>3</th>\n      <td>Barbara Dorn</td>\n      <td>7D</td>\n      <td>13D</td>\n      <td>12S</td>\n      <td>13C</td>\n      <td>10C</td>\n      <td>10D</td>\n      <td>4</td>\n      <td>2304498</td>\n      <td>picker</td>\n      <td>...</td>\n      <td>0</td>\n      <td>1</td>\n      <td>3</td>\n      <td>10C</td>\n      <td>13C</td>\n      <td>10H</td>\n      <td>10S</td>\n      <td></td>\n      <td></td>\n      <td></td>\n    </tr>\n    <tr>\n      <th>4</th>\n      <td>jturba</td>\n      <td>9D</td>\n      <td>7S</td>\n      <td>11H</td>\n      <td>13H</td>\n      <td>11S</td>\n      <td>14H</td>\n      <td>-2</td>\n      <td>2304498</td>\n      <td>no</td>\n      <td>...</td>\n      <td>1</td>\n      <td>2</td>\n      <td>4</td>\n      <td>10C</td>\n      <td>13C</td>\n      <td>10H</td>\n      <td>10S</td>\n      <td></td>\n      <td></td>\n      <td></td>\n    </tr>\n  </tbody>\n</table>\n<p>37330 rows × 32 columns</p>\n</div>"
     },
     "metadata": {},
     "execution_count": 31
    },
    {
     "output_type": "stream",
     "name": "stdout",
     "text": [
      "time: 60.8 ms\nIn [31] used 0.0664 MiB RAM in 0.17s, peaked 0.00 MiB above current, total RAM usage 293.07 MiB\n"
     ]
    }
   ],
   "source": [
    "df2"
   ]
  },
  {
   "cell_type": "code",
   "execution_count": 7,
   "metadata": {},
   "outputs": [
    {
     "output_type": "stream",
     "name": "stdout",
     "text": [
      "time: 5.41 ms\nIn [7] used -1.5117 MiB RAM in 0.11s, peaked 1.54 MiB above current, total RAM usage 190.90 MiB\n"
     ]
    }
   ],
   "source": [
    "mask = (df1['score'] < 0) & (df1['picker'] == 'picker')"
   ]
  },
  {
   "cell_type": "code",
   "execution_count": 8,
   "metadata": {},
   "outputs": [
    {
     "output_type": "execute_result",
     "data": {
      "text/plain": [
       "               name    1    2    3    4    5    6  score   handid  picker  \\\n",
       "1              Brew   7S  12C   9S   8H  12S  14H     -8  2296008  picker   \n",
       "2    Dwight Schrute  12C   8C  11S  12H   7H  13H     -2  2296009  picker   \n",
       "4     picksonschitt   7C   8C  13C  11H   7D  12S     -2  2296022  picker   \n",
       "3            HARVEY  11H  13D  13C  10H   8C  12S     -2  2296036  picker   \n",
       "3      Bill Burtard  13D  12D  12C   7H   9H  13H     -2  2296049  picker   \n",
       "..              ...  ...  ...  ...  ...  ...  ...    ...      ...     ...   \n",
       "0          elephant  13C  13H   7D   9H  12H   9D     -8  2304481  picker   \n",
       "1   sebastiankoller   8H  10S   9D  11H  12C  10D     -2  2304482  picker   \n",
       "4            jturba  14H  14D   8H  12D  10D  12H    -16  2304485  picker   \n",
       "2        quinna2525   7S   9H  14C  12C  13H  12S     -4  2304486  picker   \n",
       "1      TheZogFather  11H  14D   9S   9D  12C  13S     -4  2304488  picker   \n",
       "\n",
       "    ... rd3pos  rd4pos  rd5pos  blind_1  blind_2  bury1  bury2  call_ace  \\\n",
       "1   ...      3       1       0      10C       9S    10C     8C             \n",
       "2   ...      3       0       3      13C      13H    13C     7S             \n",
       "4   ...      4       0       3      12S      11H    10C     8H             \n",
       "3   ...      2       0       2      14H      10S    14H    10S             \n",
       "3   ...      0       2       4      13H       9S     9S    13S             \n",
       "..  ...    ...     ...     ...      ...      ...    ...    ...       ...   \n",
       "0   ...      1       4       0       9H      13H    14C     7S             \n",
       "1   ...      1       0       0      10H      10D    10H    14S             \n",
       "4   ...      1       1       4      10D       8H     9C     8C             \n",
       "2   ...      0       0       3      13S       9H    13S    13C             \n",
       "1   ...      2       2       0      13S       9D     8C    10H             \n",
       "\n",
       "    ace_suit  leaster  \n",
       "1                      \n",
       "2                      \n",
       "4                      \n",
       "3                      \n",
       "3                      \n",
       "..       ...      ...  \n",
       "0                      \n",
       "1                      \n",
       "4                      \n",
       "2                      \n",
       "1                      \n",
       "\n",
       "[1843 rows x 32 columns]"
      ],
      "text/html": "<div>\n<style scoped>\n    .dataframe tbody tr th:only-of-type {\n        vertical-align: middle;\n    }\n\n    .dataframe tbody tr th {\n        vertical-align: top;\n    }\n\n    .dataframe thead th {\n        text-align: right;\n    }\n</style>\n<table border=\"1\" class=\"dataframe\">\n  <thead>\n    <tr style=\"text-align: right;\">\n      <th></th>\n      <th>name</th>\n      <th>1</th>\n      <th>2</th>\n      <th>3</th>\n      <th>4</th>\n      <th>5</th>\n      <th>6</th>\n      <th>score</th>\n      <th>handid</th>\n      <th>picker</th>\n      <th>...</th>\n      <th>rd3pos</th>\n      <th>rd4pos</th>\n      <th>rd5pos</th>\n      <th>blind_1</th>\n      <th>blind_2</th>\n      <th>bury1</th>\n      <th>bury2</th>\n      <th>call_ace</th>\n      <th>ace_suit</th>\n      <th>leaster</th>\n    </tr>\n  </thead>\n  <tbody>\n    <tr>\n      <th>1</th>\n      <td>Brew</td>\n      <td>7S</td>\n      <td>12C</td>\n      <td>9S</td>\n      <td>8H</td>\n      <td>12S</td>\n      <td>14H</td>\n      <td>-8</td>\n      <td>2296008</td>\n      <td>picker</td>\n      <td>...</td>\n      <td>3</td>\n      <td>1</td>\n      <td>0</td>\n      <td>10C</td>\n      <td>9S</td>\n      <td>10C</td>\n      <td>8C</td>\n      <td></td>\n      <td></td>\n      <td></td>\n    </tr>\n    <tr>\n      <th>2</th>\n      <td>Dwight Schrute</td>\n      <td>12C</td>\n      <td>8C</td>\n      <td>11S</td>\n      <td>12H</td>\n      <td>7H</td>\n      <td>13H</td>\n      <td>-2</td>\n      <td>2296009</td>\n      <td>picker</td>\n      <td>...</td>\n      <td>3</td>\n      <td>0</td>\n      <td>3</td>\n      <td>13C</td>\n      <td>13H</td>\n      <td>13C</td>\n      <td>7S</td>\n      <td></td>\n      <td></td>\n      <td></td>\n    </tr>\n    <tr>\n      <th>4</th>\n      <td>picksonschitt</td>\n      <td>7C</td>\n      <td>8C</td>\n      <td>13C</td>\n      <td>11H</td>\n      <td>7D</td>\n      <td>12S</td>\n      <td>-2</td>\n      <td>2296022</td>\n      <td>picker</td>\n      <td>...</td>\n      <td>4</td>\n      <td>0</td>\n      <td>3</td>\n      <td>12S</td>\n      <td>11H</td>\n      <td>10C</td>\n      <td>8H</td>\n      <td></td>\n      <td></td>\n      <td></td>\n    </tr>\n    <tr>\n      <th>3</th>\n      <td>HARVEY</td>\n      <td>11H</td>\n      <td>13D</td>\n      <td>13C</td>\n      <td>10H</td>\n      <td>8C</td>\n      <td>12S</td>\n      <td>-2</td>\n      <td>2296036</td>\n      <td>picker</td>\n      <td>...</td>\n      <td>2</td>\n      <td>0</td>\n      <td>2</td>\n      <td>14H</td>\n      <td>10S</td>\n      <td>14H</td>\n      <td>10S</td>\n      <td></td>\n      <td></td>\n      <td></td>\n    </tr>\n    <tr>\n      <th>3</th>\n      <td>Bill Burtard</td>\n      <td>13D</td>\n      <td>12D</td>\n      <td>12C</td>\n      <td>7H</td>\n      <td>9H</td>\n      <td>13H</td>\n      <td>-2</td>\n      <td>2296049</td>\n      <td>picker</td>\n      <td>...</td>\n      <td>0</td>\n      <td>2</td>\n      <td>4</td>\n      <td>13H</td>\n      <td>9S</td>\n      <td>9S</td>\n      <td>13S</td>\n      <td></td>\n      <td></td>\n      <td></td>\n    </tr>\n    <tr>\n      <th>...</th>\n      <td>...</td>\n      <td>...</td>\n      <td>...</td>\n      <td>...</td>\n      <td>...</td>\n      <td>...</td>\n      <td>...</td>\n      <td>...</td>\n      <td>...</td>\n      <td>...</td>\n      <td>...</td>\n      <td>...</td>\n      <td>...</td>\n      <td>...</td>\n      <td>...</td>\n      <td>...</td>\n      <td>...</td>\n      <td>...</td>\n      <td>...</td>\n      <td>...</td>\n      <td>...</td>\n    </tr>\n    <tr>\n      <th>0</th>\n      <td>elephant</td>\n      <td>13C</td>\n      <td>13H</td>\n      <td>7D</td>\n      <td>9H</td>\n      <td>12H</td>\n      <td>9D</td>\n      <td>-8</td>\n      <td>2304481</td>\n      <td>picker</td>\n      <td>...</td>\n      <td>1</td>\n      <td>4</td>\n      <td>0</td>\n      <td>9H</td>\n      <td>13H</td>\n      <td>14C</td>\n      <td>7S</td>\n      <td></td>\n      <td></td>\n      <td></td>\n    </tr>\n    <tr>\n      <th>1</th>\n      <td>sebastiankoller</td>\n      <td>8H</td>\n      <td>10S</td>\n      <td>9D</td>\n      <td>11H</td>\n      <td>12C</td>\n      <td>10D</td>\n      <td>-2</td>\n      <td>2304482</td>\n      <td>picker</td>\n      <td>...</td>\n      <td>1</td>\n      <td>0</td>\n      <td>0</td>\n      <td>10H</td>\n      <td>10D</td>\n      <td>10H</td>\n      <td>14S</td>\n      <td></td>\n      <td></td>\n      <td></td>\n    </tr>\n    <tr>\n      <th>4</th>\n      <td>jturba</td>\n      <td>14H</td>\n      <td>14D</td>\n      <td>8H</td>\n      <td>12D</td>\n      <td>10D</td>\n      <td>12H</td>\n      <td>-16</td>\n      <td>2304485</td>\n      <td>picker</td>\n      <td>...</td>\n      <td>1</td>\n      <td>1</td>\n      <td>4</td>\n      <td>10D</td>\n      <td>8H</td>\n      <td>9C</td>\n      <td>8C</td>\n      <td></td>\n      <td></td>\n      <td></td>\n    </tr>\n    <tr>\n      <th>2</th>\n      <td>quinna2525</td>\n      <td>7S</td>\n      <td>9H</td>\n      <td>14C</td>\n      <td>12C</td>\n      <td>13H</td>\n      <td>12S</td>\n      <td>-4</td>\n      <td>2304486</td>\n      <td>picker</td>\n      <td>...</td>\n      <td>0</td>\n      <td>0</td>\n      <td>3</td>\n      <td>13S</td>\n      <td>9H</td>\n      <td>13S</td>\n      <td>13C</td>\n      <td></td>\n      <td></td>\n      <td></td>\n    </tr>\n    <tr>\n      <th>1</th>\n      <td>TheZogFather</td>\n      <td>11H</td>\n      <td>14D</td>\n      <td>9S</td>\n      <td>9D</td>\n      <td>12C</td>\n      <td>13S</td>\n      <td>-4</td>\n      <td>2304488</td>\n      <td>picker</td>\n      <td>...</td>\n      <td>2</td>\n      <td>2</td>\n      <td>0</td>\n      <td>13S</td>\n      <td>9D</td>\n      <td>8C</td>\n      <td>10H</td>\n      <td></td>\n      <td></td>\n      <td></td>\n    </tr>\n  </tbody>\n</table>\n<p>1843 rows × 32 columns</p>\n</div>"
     },
     "metadata": {},
     "execution_count": 8
    },
    {
     "output_type": "stream",
     "name": "stdout",
     "text": [
      "time: 53.3 ms\nIn [8] used 26.6641 MiB RAM in 0.16s, peaked 0.00 MiB above current, total RAM usage 217.57 MiB\n"
     ]
    }
   ],
   "source": [
    "df1[mask]"
   ]
  },
  {
   "cell_type": "code",
   "execution_count": null,
   "metadata": {},
   "outputs": [],
   "source": []
  }
 ]
}