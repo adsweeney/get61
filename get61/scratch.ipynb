{
 "metadata": {
  "language_info": {
   "codemirror_mode": {
    "name": "ipython",
    "version": 3
   },
   "file_extension": ".py",
   "mimetype": "text/x-python",
   "name": "python",
   "nbconvert_exporter": "python",
   "pygments_lexer": "ipython3",
   "version": "3.7.6-final"
  },
  "orig_nbformat": 2,
  "kernelspec": {
   "name": "Python 3.7.6 64-bit ('base': conda)",
   "display_name": "Python 3.7.6 64-bit ('base': conda)",
   "metadata": {
    "interpreter": {
     "hash": "207152898ed618296f9de2b3f404e2dfc752ef6405f0578730932ead90b0e5ad"
    }
   }
  }
 },
 "nbformat": 4,
 "nbformat_minor": 2,
 "cells": [
  {
   "cell_type": "code",
   "execution_count": 1,
   "metadata": {},
   "outputs": [],
   "source": [
    "hearts = [str(i) + 'H' for i in range(6,15)]\n",
    "clubs = [str(i) + 'D' for i in range(2,15)]\n",
    "spades = [str(i) + 'S' for i in range(2,15)]\n",
    "diamonds = [str(i) + 'D' for i in range(2,15)]\n"
   ]
  },
  {
   "cell_type": "code",
   "execution_count": 2,
   "metadata": {},
   "outputs": [],
   "source": [
    "suits = ['H', 'C', 'S', 'D']\n",
    "\n",
    "cards = [str(i) + str(j) for j in suits for i in range(7,15)]"
   ]
  },
  {
   "cell_type": "code",
   "execution_count": null,
   "metadata": {},
   "outputs": [],
   "source": [
    "suitslist = ['hearts', 'clubs', 'spades', 'diamonds']"
   ]
  }
 ]
}