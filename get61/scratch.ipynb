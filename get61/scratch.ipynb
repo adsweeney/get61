{
 "metadata": {
  "language_info": {
   "codemirror_mode": {
    "name": "ipython",
    "version": 3
   },
   "file_extension": ".py",
   "mimetype": "text/x-python",
   "name": "python",
   "nbconvert_exporter": "python",
   "pygments_lexer": "ipython3",
   "version": "3.7.6-final"
  },
  "orig_nbformat": 2,
  "kernelspec": {
   "name": "python3",
   "display_name": "Python 3.7.6 64-bit ('base': conda)",
   "metadata": {
    "interpreter": {
     "hash": "207152898ed618296f9de2b3f404e2dfc752ef6405f0578730932ead90b0e5ad"
    }
   }
  }
 },
 "nbformat": 4,
 "nbformat_minor": 2,
 "cells": [
  {
   "cell_type": "code",
   "execution_count": 1,
   "metadata": {},
   "outputs": [],
   "source": [
    "hearts = [str(i) + 'H' for i in range(6,15)]\n",
    "clubs = [str(i) + 'D' for i in range(2,15)]\n",
    "spades = [str(i) + 'S' for i in range(2,15)]\n",
    "diamonds = [str(i) + 'D' for i in range(2,15)]\n"
   ]
  },
  {
   "cell_type": "code",
   "execution_count": 2,
   "metadata": {},
   "outputs": [],
   "source": [
    "suits = ['H', 'C', 'S', 'D']\n",
    "\n",
    "cards = [str(i) + str(j) for j in suits for i in range(7,15)]"
   ]
  },
  {
   "cell_type": "code",
   "execution_count": null,
   "metadata": {},
   "outputs": [],
   "source": [
    "suitslist = ['hearts', 'clubs', 'spades', 'diamonds']"
   ]
  },
  {
   "cell_type": "code",
   "execution_count": 1,
   "metadata": {},
   "outputs": [],
   "source": [
    "import os"
   ]
  },
  {
   "cell_type": "code",
   "execution_count": 9,
   "metadata": {},
   "outputs": [
    {
     "output_type": "execute_result",
     "data": {
      "text/plain": [
       "['hand_tally_script.py',\n",
       " 'fxns.ipynb',\n",
       " 'get_cracks.ipynb',\n",
       " 'eda.ipynb',\n",
       " 'text.html',\n",
       " '2268600_2270000',\n",
       " 'smalldfs.ipynb',\n",
       " '2268010_2268200',\n",
       " '.DS_Store',\n",
       " 'handler.py',\n",
       " '2256003_2256006',\n",
       " '2277000_2280000',\n",
       " 'scratch.ipynb',\n",
       " 'res14D.png.png',\n",
       " '11C.png',\n",
       " '2290000_2293000',\n",
       " '2282000_2284000',\n",
       " 'get61_functions.ipynb',\n",
       " 'hand_tally.ipynb',\n",
       " '10S.png',\n",
       " 'leaderboard_scraper.ipynb',\n",
       " 'cvimg.ipynb',\n",
       " '2287000_2290000',\n",
       " '2256000_2256009',\n",
       " 'res11C.png.png',\n",
       " '__pycache__',\n",
       " 'get_hand.ipynb',\n",
       " '2270000_2272000',\n",
       " '2289000_2293000',\n",
       " '2293000_2296000',\n",
       " 'res10S.png.png',\n",
       " '2296000_2330000',\n",
       " 'scrapers.py',\n",
       " 'contacts.txt',\n",
       " 'players.py',\n",
       " 'message.txt',\n",
       " '2284000_2285000',\n",
       " 'score_table.py',\n",
       " '2268200_2268600',\n",
       " 'emailer.py',\n",
       " '2296000_2397000',\n",
       " 'manyhands.ipynb',\n",
       " 'scrape code.py',\n",
       " '2card_test.png',\n",
       " '2256006_2256009',\n",
       " '.ipynb_checkpoints',\n",
       " 'selenscrape.py',\n",
       " '2280000_2282000',\n",
       " '2274000_2277000',\n",
       " 'get61imgs',\n",
       " '14D.png',\n",
       " 'get61',\n",
       " '2285000_2287000',\n",
       " '.vscode',\n",
       " '2256000_2256003',\n",
       " 'scores_cracks.py',\n",
       " '2272000_2274000',\n",
       " 'basedf',\n",
       " 'emailer_cracks.py',\n",
       " 'res.png',\n",
       " '.idea']"
      ]
     },
     "metadata": {},
     "execution_count": 9
    }
   ],
   "source": [
    "os.listdir('.')"
   ]
  },
  {
   "cell_type": "code",
   "execution_count": null,
   "metadata": {},
   "outputs": [],
   "source": []
  }
 ]
}