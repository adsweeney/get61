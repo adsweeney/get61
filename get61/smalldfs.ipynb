{
 "metadata": {
  "language_info": {
   "codemirror_mode": {
    "name": "ipython",
    "version": 3
   },
   "file_extension": ".py",
   "mimetype": "text/x-python",
   "name": "python",
   "nbconvert_exporter": "python",
   "pygments_lexer": "ipython3",
   "version": "3.8.3-final"
  },
  "orig_nbformat": 2,
  "kernelspec": {
   "name": "python3",
   "display_name": "Python 3"
  }
 },
 "nbformat": 4,
 "nbformat_minor": 2,
 "cells": [
  {
   "cell_type": "code",
   "execution_count": 145,
   "metadata": {},
   "outputs": [],
   "source": [
    "heartsa = [str(i) + 'H' for i in range(7,15)]\n",
    "clubsa = [str(i) + 'C' for i in range(7,15)]\n",
    "spadesa = [str(i) + 'S' for i in range(7,15)]\n",
    "diamondsa = [str(i) + 'D' for i in range(7,15)]\n",
    "\n",
    "allcardsa = heartsa + clubsa + spadesa + diamondsa\n",
    "valuesa = [0, 0, 0, 10, 2, 3, 4, 11, 0, 0, 0, 10, 2, 3, 4, 11, 0, 0, 0, 10, 2, 3, 4, 11, 0, 0, 0, 10, 2, 3, 4, 11]\n",
    "\n",
    "pointvalues = dict(zip(allcardsa, valuesa))"
   ]
  },
  {
   "cell_type": "code",
   "execution_count": 57,
   "metadata": {},
   "outputs": [
    {
     "output_type": "stream",
     "name": "stdout",
     "text": [
      "The autotime extension is already loaded. To reload it, use:\n  %reload_ext autotime\ntime: 2.84 ms\nIn [57] used 4.5898 MiB RAM in 0.11s, peaked 0.00 MiB above current, total RAM usage 204.77 MiB\n"
     ]
    }
   ],
   "source": [
    "import pandas as pd\n",
    "import numpy as np \n",
    "# ipython autotime\n",
    "%load_ext autotime\n",
    "\n",
    "# ipython_memory_usage\n",
    "import ipython_memory_usage \n",
    "%ipython_memory_usage_start  \n",
    "from pprint import pprint as pp "
   ]
  },
  {
   "cell_type": "code",
   "execution_count": 24,
   "metadata": {},
   "outputs": [],
   "source": [
    "# card types\n",
    "hearts = [str(i) + 'H' for i in range(7, 11)] + ['13H'] + ['14H']\n",
    "spades = [str(i) + 'S' for i in range(7, 11)] + ['13S'] + ['14S']\n",
    "clubs = [str(i) + 'C' for i in range(7, 11)] + ['13C'] + ['14C']"
   ]
  },
  {
   "cell_type": "code",
   "execution_count": 45,
   "metadata": {},
   "outputs": [],
   "source": [
    "# Trump\n",
    "trump = [str(i) + 'D' for i in range(7, 15)] + ['11' + i for i in ['H', 'S', 'C']] + ['12' + i for i in ['H', 'S', 'C']]\n",
    "\n",
    " "
   ]
  },
  {
   "cell_type": "code",
   "execution_count": 48,
   "metadata": {},
   "outputs": [
    {
     "output_type": "stream",
     "name": "stdout",
     "text": [
      "time: 1.62 ms\nIn [48] used 0.0000 MiB RAM in 0.10s, peaked 0.00 MiB above current, total RAM usage 199.66 MiB\n"
     ]
    }
   ],
   "source": [
    "fail = hearts + spades + clubs"
   ]
  },
  {
   "cell_type": "code",
   "execution_count": 49,
   "metadata": {},
   "outputs": [
    {
     "output_type": "execute_result",
     "data": {
      "text/plain": [
       "['7H',\n",
       " '8H',\n",
       " '9H',\n",
       " '10H',\n",
       " '13H',\n",
       " '14H',\n",
       " '7S',\n",
       " '8S',\n",
       " '9S',\n",
       " '10S',\n",
       " '13S',\n",
       " '14S',\n",
       " '7C',\n",
       " '8C',\n",
       " '9C',\n",
       " '10C',\n",
       " '13C',\n",
       " '14C']"
      ]
     },
     "metadata": {},
     "execution_count": 49
    },
    {
     "output_type": "stream",
     "name": "stdout",
     "text": [
      "time: 2.91 ms\nIn [49] used 0.0000 MiB RAM in 0.10s, peaked 0.00 MiB above current, total RAM usage 199.66 MiB\n"
     ]
    }
   ],
   "source": [
    "fail"
   ]
  },
  {
   "cell_type": "code",
   "execution_count": 66,
   "metadata": {},
   "outputs": [
    {
     "output_type": "stream",
     "name": "stdout",
     "text": [
      "time: 1.54 ms\nIn [66] used 0.0000 MiB RAM in 0.10s, peaked 0.00 MiB above current, total RAM usage 204.78 MiB\n"
     ]
    }
   ],
   "source": [
    "points = [0, 0, 0, 10, 4, 11]\n",
    "pointstrump = [0, 0, 0, 10, 2, 3, 4, 11, 2, 2, 2, 3, 3, 3]\n",
    "trumprank = [1, 2, 3, 5, 7, 11, 4, 6, 8, 9, 10, 12, 13, 14]\n",
    "failrank = [1, 2, 3, 5, 4, 6]"
   ]
  },
  {
   "cell_type": "code",
   "execution_count": 67,
   "metadata": {},
   "outputs": [
    {
     "output_type": "stream",
     "name": "stdout",
     "text": [
      "time: 1.05 ms\nIn [67] used 0.0000 MiB RAM in 0.10s, peaked 0.00 MiB above current, total RAM usage 204.78 MiB\n"
     ]
    }
   ],
   "source": [
    "faildic = dict(zip(fail, zip(points * 4, failrank * 4)))\n"
   ]
  },
  {
   "cell_type": "code",
   "execution_count": 62,
   "metadata": {},
   "outputs": [
    {
     "output_type": "stream",
     "name": "stdout",
     "text": [
      "time: 997 µs\nIn [62] used 0.0000 MiB RAM in 0.10s, peaked 0.00 MiB above current, total RAM usage 204.77 MiB\n"
     ]
    }
   ],
   "source": [
    "trumpdic = dict(zip(trump, zip(pointstrump, trumprank)))"
   ]
  },
  {
   "cell_type": "code",
   "execution_count": 63,
   "metadata": {},
   "outputs": [
    {
     "output_type": "execute_result",
     "data": {
      "text/plain": [
       "{'7D': (0, 1),\n",
       " '8D': (0, 2),\n",
       " '9D': (0, 3),\n",
       " '10D': (10, 5),\n",
       " '11D': (2, 7),\n",
       " '12D': (3, 11),\n",
       " '13D': (4, 4),\n",
       " '14D': (11, 6),\n",
       " '11H': (2, 8),\n",
       " '11S': (2, 9),\n",
       " '11C': (2, 10),\n",
       " '12H': (3, 12),\n",
       " '12S': (3, 13),\n",
       " '12C': (3, 14)}"
      ]
     },
     "metadata": {},
     "execution_count": 63
    },
    {
     "output_type": "stream",
     "name": "stdout",
     "text": [
      "time: 4.01 ms\nIn [63] used 0.0000 MiB RAM in 0.11s, peaked 0.00 MiB above current, total RAM usage 204.77 MiB\n"
     ]
    }
   ],
   "source": [
    "trumpdic"
   ]
  },
  {
   "cell_type": "code",
   "execution_count": 68,
   "metadata": {},
   "outputs": [
    {
     "output_type": "execute_result",
     "data": {
      "text/plain": [
       "{'7H': (0, 1),\n",
       " '8H': (0, 2),\n",
       " '9H': (0, 3),\n",
       " '10H': (10, 5),\n",
       " '13H': (4, 4),\n",
       " '14H': (11, 6),\n",
       " '7S': (0, 1),\n",
       " '8S': (0, 2),\n",
       " '9S': (0, 3),\n",
       " '10S': (10, 5),\n",
       " '13S': (4, 4),\n",
       " '14S': (11, 6),\n",
       " '7C': (0, 1),\n",
       " '8C': (0, 2),\n",
       " '9C': (0, 3),\n",
       " '10C': (10, 5),\n",
       " '13C': (4, 4),\n",
       " '14C': (11, 6)}"
      ]
     },
     "metadata": {},
     "execution_count": 68
    },
    {
     "output_type": "stream",
     "name": "stdout",
     "text": [
      "time: 4.43 ms\nIn [68] used 0.0000 MiB RAM in 0.11s, peaked 0.00 MiB above current, total RAM usage 204.78 MiB\n"
     ]
    }
   ],
   "source": [
    "faildic"
   ]
  },
  {
   "cell_type": "code",
   "execution_count": 7,
   "metadata": {},
   "outputs": [
    {
     "output_type": "execute_result",
     "data": {
      "text/plain": [
       "               name    1    2    3    4    5    6  score   handid   picker  \\\n",
       "0            jturba   8H  12C  14H  13D   9C  13C      2  2256000   picker   \n",
       "1        Jungle jim   9S   8D  13H  11C  12S   9H     -1  2256000       no   \n",
       "2            jcardo  14S   7D   7H  10C  13S   8C     -1  2256000       no   \n",
       "3          robyinko  11D  12H  11S   9D  11H  12D      1  2256000  partner   \n",
       "4           shipdog   7S  10D  10H  14D  14C   7C     -1  2256000       no   \n",
       "0       plays sheep   8C  14D   8D  13C  10H  10S     -6  2256002       no   \n",
       "1        scottstern   9C  11S  12D   9H  13S  14H     -6  2256002       no   \n",
       "2       Mary Kuhlow  14C  10D  12H  13D  11C  11D      6  2256002  partner   \n",
       "3         kibittzer   7D  12S   9D  12C  11H  13H     12  2256002   picker   \n",
       "4     dingleberries   7C   7H  14S   8H   8S   9S     -6  2256002       no   \n",
       "0             agman   8D   9D   9H  10D   7C   9C     -3  2256004       no   \n",
       "1              TomJ  11C   8H  10H  13S  10C  10S     -3  2256004       no   \n",
       "2         cardguy44  12H   7S   7H   8C  14C  13H     -3  2256004       no   \n",
       "3      Grandpaken78  12C   7D  14D  11S  13D  11H      6  2256004   picker   \n",
       "4    Steven Strelow  11D  12S  14H  12D  13C   9S      3  2256004  partner   \n",
       "0          jo jjmrs  10S  11D  13H  14D   9H   8H      1  2256005  partner   \n",
       "1           DotJake   8S  10D  12H   9C  14C  12C     -1  2256005       no   \n",
       "2     schmidtmichaj  13S  11C  14S   8C   7H   9D     -1  2256005       no   \n",
       "3     officials Jim  13D   7D  11H   7C  12D   8D      2  2256005   picker   \n",
       "4         Daisy1120   7S  11S   9S  10C  14H  12S     -1  2256005       no   \n",
       "0         tvretired  13D   8H  11D  12C  12S  10H     16  2256006   picker   \n",
       "1        david cole  10D   7H  14S  11C  13H  14H     -4  2256006       no   \n",
       "2     merchantnater  13C   9H   8S   7D  11S   9S     -4  2256006       no   \n",
       "3       JimBobWilly   7C   8C  13S  11H  14D  12H     -4  2256006       no   \n",
       "4  jordan mariposas   9C  12D  10S   8D   9D   7S     -4  2256006       no   \n",
       "0    blueislandgirl  12C   8D  14D  11H   9C   7C      6  2256007   picker   \n",
       "1            island  13D  10D  11S  10S   7H   8H     -3  2256007       no   \n",
       "2         Schneider  12D  13C   8C   7S   8S   9S     -3  2256007       no   \n",
       "3           barry g  12S   9H  13H  14S  14C  10H     -3  2256007       no   \n",
       "4            CTWIFL   7D  11D  12H  13S   9D  11C      3  2256007  partner   \n",
       "0             agman  12S  13D  10H  14S   9S  11D      2  2256008  partner   \n",
       "1              TomJ  11S  12H   7C   7S   8H  13C     -2  2256008       no   \n",
       "2         cardguy44   8D  12C   8C  13S   7H   9H     -2  2256008       no   \n",
       "3      Grandpaken78  14D  11H  14C  13H  10C  14H     -2  2256008       no   \n",
       "4    Steven Strelow   7D   9D  10D   8S  11C  12D      4  2256008   picker   \n",
       "\n",
       "   ... rd3pos  rd4pos  rd5pos  blind_1  blind_2  bury1  bury2  call_ace  \\\n",
       "0  ...      2       4       4       8H       8S     8S    10S             \n",
       "1  ...      3       0       0       8H       8S     8S    10S             \n",
       "2  ...      4       1       1       8H       8S     8S    10S             \n",
       "3  ...      0       2       2       8H       8S     8S    10S             \n",
       "4  ...      1       3       3       8H       8S     8S    10S             \n",
       "0  ...      1       2       1      10C       7D    10C     7S             \n",
       "1  ...      2       3       2      10C       7D    10C     7S             \n",
       "2  ...      0       4       0      10C       7D    10C     7S             \n",
       "3  ...      1       0       1      10C       7D    10C     7S             \n",
       "4  ...      2       1       2      10C       7D    10C     7S             \n",
       "0  ...      2       1       2      11H      14S    14S     8S             \n",
       "1  ...      3       2       3      11H      14S    14S     8S             \n",
       "2  ...      4       3       4      11H      14S    14S     8S             \n",
       "3  ...      0       4       0      11H      14S    14S     8S             \n",
       "4  ...      1       0       1      11H      14S    14S     8S             \n",
       "0  ...      4       0       2      13C       7D    13C    10H             \n",
       "1  ...      0       1       3      13C       7D    13C    10H             \n",
       "2  ...      1       2       4      13C       7D    13C    10H             \n",
       "3  ...      2       3       0      13C       7D    13C    10H             \n",
       "4  ...      3       4       1      13C       7D    13C    10H             \n",
       "0  ...      0       0       0      13D      11D    14C    10C             \n",
       "1  ...      1       1       1      13D      11D    14C    10C             \n",
       "2  ...      2       2       2      13D      11D    14C    10C             \n",
       "3  ...      3       3       3      13D      11D    14C    10C             \n",
       "4  ...      4       4       4      13D      11D    14C    10C             \n",
       "0  ...      1       0       1       9C       8D    10C    14H             \n",
       "1  ...      2       1       2       9C       8D    10C    14H             \n",
       "2  ...      3       2       3       9C       8D    10C    14H             \n",
       "3  ...      4       3       4       9C       8D    10C    14H             \n",
       "4  ...      0       4       0       9C       8D    10C    14H             \n",
       "0  ...      1       0       1       8S       9C     9C    10S             \n",
       "1  ...      2       1       2       8S       9C     9C    10S             \n",
       "2  ...      3       2       3       8S       9C     9C    10S             \n",
       "3  ...      4       3       4       8S       9C     9C    10S             \n",
       "4  ...      0       4       0       8S       9C     9C    10S             \n",
       "\n",
       "   ace_suit  leaster  \n",
       "0                     \n",
       "1                     \n",
       "2                     \n",
       "3                     \n",
       "4                     \n",
       "0                     \n",
       "1                     \n",
       "2                     \n",
       "3                     \n",
       "4                     \n",
       "0                     \n",
       "1                     \n",
       "2                     \n",
       "3                     \n",
       "4                     \n",
       "0                     \n",
       "1                     \n",
       "2                     \n",
       "3                     \n",
       "4                     \n",
       "0                     \n",
       "1                     \n",
       "2                     \n",
       "3                     \n",
       "4                     \n",
       "0                     \n",
       "1                     \n",
       "2                     \n",
       "3                     \n",
       "4                     \n",
       "0                     \n",
       "1                     \n",
       "2                     \n",
       "3                     \n",
       "4                     \n",
       "\n",
       "[35 rows x 32 columns]"
      ],
      "text/html": "<div>\n<style scoped>\n    .dataframe tbody tr th:only-of-type {\n        vertical-align: middle;\n    }\n\n    .dataframe tbody tr th {\n        vertical-align: top;\n    }\n\n    .dataframe thead th {\n        text-align: right;\n    }\n</style>\n<table border=\"1\" class=\"dataframe\">\n  <thead>\n    <tr style=\"text-align: right;\">\n      <th></th>\n      <th>name</th>\n      <th>1</th>\n      <th>2</th>\n      <th>3</th>\n      <th>4</th>\n      <th>5</th>\n      <th>6</th>\n      <th>score</th>\n      <th>handid</th>\n      <th>picker</th>\n      <th>...</th>\n      <th>rd3pos</th>\n      <th>rd4pos</th>\n      <th>rd5pos</th>\n      <th>blind_1</th>\n      <th>blind_2</th>\n      <th>bury1</th>\n      <th>bury2</th>\n      <th>call_ace</th>\n      <th>ace_suit</th>\n      <th>leaster</th>\n    </tr>\n  </thead>\n  <tbody>\n    <tr>\n      <th>0</th>\n      <td>jturba</td>\n      <td>8H</td>\n      <td>12C</td>\n      <td>14H</td>\n      <td>13D</td>\n      <td>9C</td>\n      <td>13C</td>\n      <td>2</td>\n      <td>2256000</td>\n      <td>picker</td>\n      <td>...</td>\n      <td>2</td>\n      <td>4</td>\n      <td>4</td>\n      <td>8H</td>\n      <td>8S</td>\n      <td>8S</td>\n      <td>10S</td>\n      <td></td>\n      <td></td>\n      <td></td>\n    </tr>\n    <tr>\n      <th>1</th>\n      <td>Jungle jim</td>\n      <td>9S</td>\n      <td>8D</td>\n      <td>13H</td>\n      <td>11C</td>\n      <td>12S</td>\n      <td>9H</td>\n      <td>-1</td>\n      <td>2256000</td>\n      <td>no</td>\n      <td>...</td>\n      <td>3</td>\n      <td>0</td>\n      <td>0</td>\n      <td>8H</td>\n      <td>8S</td>\n      <td>8S</td>\n      <td>10S</td>\n      <td></td>\n      <td></td>\n      <td></td>\n    </tr>\n    <tr>\n      <th>2</th>\n      <td>jcardo</td>\n      <td>14S</td>\n      <td>7D</td>\n      <td>7H</td>\n      <td>10C</td>\n      <td>13S</td>\n      <td>8C</td>\n      <td>-1</td>\n      <td>2256000</td>\n      <td>no</td>\n      <td>...</td>\n      <td>4</td>\n      <td>1</td>\n      <td>1</td>\n      <td>8H</td>\n      <td>8S</td>\n      <td>8S</td>\n      <td>10S</td>\n      <td></td>\n      <td></td>\n      <td></td>\n    </tr>\n    <tr>\n      <th>3</th>\n      <td>robyinko</td>\n      <td>11D</td>\n      <td>12H</td>\n      <td>11S</td>\n      <td>9D</td>\n      <td>11H</td>\n      <td>12D</td>\n      <td>1</td>\n      <td>2256000</td>\n      <td>partner</td>\n      <td>...</td>\n      <td>0</td>\n      <td>2</td>\n      <td>2</td>\n      <td>8H</td>\n      <td>8S</td>\n      <td>8S</td>\n      <td>10S</td>\n      <td></td>\n      <td></td>\n      <td></td>\n    </tr>\n    <tr>\n      <th>4</th>\n      <td>shipdog</td>\n      <td>7S</td>\n      <td>10D</td>\n      <td>10H</td>\n      <td>14D</td>\n      <td>14C</td>\n      <td>7C</td>\n      <td>-1</td>\n      <td>2256000</td>\n      <td>no</td>\n      <td>...</td>\n      <td>1</td>\n      <td>3</td>\n      <td>3</td>\n      <td>8H</td>\n      <td>8S</td>\n      <td>8S</td>\n      <td>10S</td>\n      <td></td>\n      <td></td>\n      <td></td>\n    </tr>\n    <tr>\n      <th>0</th>\n      <td>plays sheep</td>\n      <td>8C</td>\n      <td>14D</td>\n      <td>8D</td>\n      <td>13C</td>\n      <td>10H</td>\n      <td>10S</td>\n      <td>-6</td>\n      <td>2256002</td>\n      <td>no</td>\n      <td>...</td>\n      <td>1</td>\n      <td>2</td>\n      <td>1</td>\n      <td>10C</td>\n      <td>7D</td>\n      <td>10C</td>\n      <td>7S</td>\n      <td></td>\n      <td></td>\n      <td></td>\n    </tr>\n    <tr>\n      <th>1</th>\n      <td>scottstern</td>\n      <td>9C</td>\n      <td>11S</td>\n      <td>12D</td>\n      <td>9H</td>\n      <td>13S</td>\n      <td>14H</td>\n      <td>-6</td>\n      <td>2256002</td>\n      <td>no</td>\n      <td>...</td>\n      <td>2</td>\n      <td>3</td>\n      <td>2</td>\n      <td>10C</td>\n      <td>7D</td>\n      <td>10C</td>\n      <td>7S</td>\n      <td></td>\n      <td></td>\n      <td></td>\n    </tr>\n    <tr>\n      <th>2</th>\n      <td>Mary Kuhlow</td>\n      <td>14C</td>\n      <td>10D</td>\n      <td>12H</td>\n      <td>13D</td>\n      <td>11C</td>\n      <td>11D</td>\n      <td>6</td>\n      <td>2256002</td>\n      <td>partner</td>\n      <td>...</td>\n      <td>0</td>\n      <td>4</td>\n      <td>0</td>\n      <td>10C</td>\n      <td>7D</td>\n      <td>10C</td>\n      <td>7S</td>\n      <td></td>\n      <td></td>\n      <td></td>\n    </tr>\n    <tr>\n      <th>3</th>\n      <td>kibittzer</td>\n      <td>7D</td>\n      <td>12S</td>\n      <td>9D</td>\n      <td>12C</td>\n      <td>11H</td>\n      <td>13H</td>\n      <td>12</td>\n      <td>2256002</td>\n      <td>picker</td>\n      <td>...</td>\n      <td>1</td>\n      <td>0</td>\n      <td>1</td>\n      <td>10C</td>\n      <td>7D</td>\n      <td>10C</td>\n      <td>7S</td>\n      <td></td>\n      <td></td>\n      <td></td>\n    </tr>\n    <tr>\n      <th>4</th>\n      <td>dingleberries</td>\n      <td>7C</td>\n      <td>7H</td>\n      <td>14S</td>\n      <td>8H</td>\n      <td>8S</td>\n      <td>9S</td>\n      <td>-6</td>\n      <td>2256002</td>\n      <td>no</td>\n      <td>...</td>\n      <td>2</td>\n      <td>1</td>\n      <td>2</td>\n      <td>10C</td>\n      <td>7D</td>\n      <td>10C</td>\n      <td>7S</td>\n      <td></td>\n      <td></td>\n      <td></td>\n    </tr>\n    <tr>\n      <th>0</th>\n      <td>agman</td>\n      <td>8D</td>\n      <td>9D</td>\n      <td>9H</td>\n      <td>10D</td>\n      <td>7C</td>\n      <td>9C</td>\n      <td>-3</td>\n      <td>2256004</td>\n      <td>no</td>\n      <td>...</td>\n      <td>2</td>\n      <td>1</td>\n      <td>2</td>\n      <td>11H</td>\n      <td>14S</td>\n      <td>14S</td>\n      <td>8S</td>\n      <td></td>\n      <td></td>\n      <td></td>\n    </tr>\n    <tr>\n      <th>1</th>\n      <td>TomJ</td>\n      <td>11C</td>\n      <td>8H</td>\n      <td>10H</td>\n      <td>13S</td>\n      <td>10C</td>\n      <td>10S</td>\n      <td>-3</td>\n      <td>2256004</td>\n      <td>no</td>\n      <td>...</td>\n      <td>3</td>\n      <td>2</td>\n      <td>3</td>\n      <td>11H</td>\n      <td>14S</td>\n      <td>14S</td>\n      <td>8S</td>\n      <td></td>\n      <td></td>\n      <td></td>\n    </tr>\n    <tr>\n      <th>2</th>\n      <td>cardguy44</td>\n      <td>12H</td>\n      <td>7S</td>\n      <td>7H</td>\n      <td>8C</td>\n      <td>14C</td>\n      <td>13H</td>\n      <td>-3</td>\n      <td>2256004</td>\n      <td>no</td>\n      <td>...</td>\n      <td>4</td>\n      <td>3</td>\n      <td>4</td>\n      <td>11H</td>\n      <td>14S</td>\n      <td>14S</td>\n      <td>8S</td>\n      <td></td>\n      <td></td>\n      <td></td>\n    </tr>\n    <tr>\n      <th>3</th>\n      <td>Grandpaken78</td>\n      <td>12C</td>\n      <td>7D</td>\n      <td>14D</td>\n      <td>11S</td>\n      <td>13D</td>\n      <td>11H</td>\n      <td>6</td>\n      <td>2256004</td>\n      <td>picker</td>\n      <td>...</td>\n      <td>0</td>\n      <td>4</td>\n      <td>0</td>\n      <td>11H</td>\n      <td>14S</td>\n      <td>14S</td>\n      <td>8S</td>\n      <td></td>\n      <td></td>\n      <td></td>\n    </tr>\n    <tr>\n      <th>4</th>\n      <td>Steven Strelow</td>\n      <td>11D</td>\n      <td>12S</td>\n      <td>14H</td>\n      <td>12D</td>\n      <td>13C</td>\n      <td>9S</td>\n      <td>3</td>\n      <td>2256004</td>\n      <td>partner</td>\n      <td>...</td>\n      <td>1</td>\n      <td>0</td>\n      <td>1</td>\n      <td>11H</td>\n      <td>14S</td>\n      <td>14S</td>\n      <td>8S</td>\n      <td></td>\n      <td></td>\n      <td></td>\n    </tr>\n    <tr>\n      <th>0</th>\n      <td>jo jjmrs</td>\n      <td>10S</td>\n      <td>11D</td>\n      <td>13H</td>\n      <td>14D</td>\n      <td>9H</td>\n      <td>8H</td>\n      <td>1</td>\n      <td>2256005</td>\n      <td>partner</td>\n      <td>...</td>\n      <td>4</td>\n      <td>0</td>\n      <td>2</td>\n      <td>13C</td>\n      <td>7D</td>\n      <td>13C</td>\n      <td>10H</td>\n      <td></td>\n      <td></td>\n      <td></td>\n    </tr>\n    <tr>\n      <th>1</th>\n      <td>DotJake</td>\n      <td>8S</td>\n      <td>10D</td>\n      <td>12H</td>\n      <td>9C</td>\n      <td>14C</td>\n      <td>12C</td>\n      <td>-1</td>\n      <td>2256005</td>\n      <td>no</td>\n      <td>...</td>\n      <td>0</td>\n      <td>1</td>\n      <td>3</td>\n      <td>13C</td>\n      <td>7D</td>\n      <td>13C</td>\n      <td>10H</td>\n      <td></td>\n      <td></td>\n      <td></td>\n    </tr>\n    <tr>\n      <th>2</th>\n      <td>schmidtmichaj</td>\n      <td>13S</td>\n      <td>11C</td>\n      <td>14S</td>\n      <td>8C</td>\n      <td>7H</td>\n      <td>9D</td>\n      <td>-1</td>\n      <td>2256005</td>\n      <td>no</td>\n      <td>...</td>\n      <td>1</td>\n      <td>2</td>\n      <td>4</td>\n      <td>13C</td>\n      <td>7D</td>\n      <td>13C</td>\n      <td>10H</td>\n      <td></td>\n      <td></td>\n      <td></td>\n    </tr>\n    <tr>\n      <th>3</th>\n      <td>officials Jim</td>\n      <td>13D</td>\n      <td>7D</td>\n      <td>11H</td>\n      <td>7C</td>\n      <td>12D</td>\n      <td>8D</td>\n      <td>2</td>\n      <td>2256005</td>\n      <td>picker</td>\n      <td>...</td>\n      <td>2</td>\n      <td>3</td>\n      <td>0</td>\n      <td>13C</td>\n      <td>7D</td>\n      <td>13C</td>\n      <td>10H</td>\n      <td></td>\n      <td></td>\n      <td></td>\n    </tr>\n    <tr>\n      <th>4</th>\n      <td>Daisy1120</td>\n      <td>7S</td>\n      <td>11S</td>\n      <td>9S</td>\n      <td>10C</td>\n      <td>14H</td>\n      <td>12S</td>\n      <td>-1</td>\n      <td>2256005</td>\n      <td>no</td>\n      <td>...</td>\n      <td>3</td>\n      <td>4</td>\n      <td>1</td>\n      <td>13C</td>\n      <td>7D</td>\n      <td>13C</td>\n      <td>10H</td>\n      <td></td>\n      <td></td>\n      <td></td>\n    </tr>\n    <tr>\n      <th>0</th>\n      <td>tvretired</td>\n      <td>13D</td>\n      <td>8H</td>\n      <td>11D</td>\n      <td>12C</td>\n      <td>12S</td>\n      <td>10H</td>\n      <td>16</td>\n      <td>2256006</td>\n      <td>picker</td>\n      <td>...</td>\n      <td>0</td>\n      <td>0</td>\n      <td>0</td>\n      <td>13D</td>\n      <td>11D</td>\n      <td>14C</td>\n      <td>10C</td>\n      <td></td>\n      <td></td>\n      <td></td>\n    </tr>\n    <tr>\n      <th>1</th>\n      <td>david cole</td>\n      <td>10D</td>\n      <td>7H</td>\n      <td>14S</td>\n      <td>11C</td>\n      <td>13H</td>\n      <td>14H</td>\n      <td>-4</td>\n      <td>2256006</td>\n      <td>no</td>\n      <td>...</td>\n      <td>1</td>\n      <td>1</td>\n      <td>1</td>\n      <td>13D</td>\n      <td>11D</td>\n      <td>14C</td>\n      <td>10C</td>\n      <td></td>\n      <td></td>\n      <td></td>\n    </tr>\n    <tr>\n      <th>2</th>\n      <td>merchantnater</td>\n      <td>13C</td>\n      <td>9H</td>\n      <td>8S</td>\n      <td>7D</td>\n      <td>11S</td>\n      <td>9S</td>\n      <td>-4</td>\n      <td>2256006</td>\n      <td>no</td>\n      <td>...</td>\n      <td>2</td>\n      <td>2</td>\n      <td>2</td>\n      <td>13D</td>\n      <td>11D</td>\n      <td>14C</td>\n      <td>10C</td>\n      <td></td>\n      <td></td>\n      <td></td>\n    </tr>\n    <tr>\n      <th>3</th>\n      <td>JimBobWilly</td>\n      <td>7C</td>\n      <td>8C</td>\n      <td>13S</td>\n      <td>11H</td>\n      <td>14D</td>\n      <td>12H</td>\n      <td>-4</td>\n      <td>2256006</td>\n      <td>no</td>\n      <td>...</td>\n      <td>3</td>\n      <td>3</td>\n      <td>3</td>\n      <td>13D</td>\n      <td>11D</td>\n      <td>14C</td>\n      <td>10C</td>\n      <td></td>\n      <td></td>\n      <td></td>\n    </tr>\n    <tr>\n      <th>4</th>\n      <td>jordan mariposas</td>\n      <td>9C</td>\n      <td>12D</td>\n      <td>10S</td>\n      <td>8D</td>\n      <td>9D</td>\n      <td>7S</td>\n      <td>-4</td>\n      <td>2256006</td>\n      <td>no</td>\n      <td>...</td>\n      <td>4</td>\n      <td>4</td>\n      <td>4</td>\n      <td>13D</td>\n      <td>11D</td>\n      <td>14C</td>\n      <td>10C</td>\n      <td></td>\n      <td></td>\n      <td></td>\n    </tr>\n    <tr>\n      <th>0</th>\n      <td>blueislandgirl</td>\n      <td>12C</td>\n      <td>8D</td>\n      <td>14D</td>\n      <td>11H</td>\n      <td>9C</td>\n      <td>7C</td>\n      <td>6</td>\n      <td>2256007</td>\n      <td>picker</td>\n      <td>...</td>\n      <td>1</td>\n      <td>0</td>\n      <td>1</td>\n      <td>9C</td>\n      <td>8D</td>\n      <td>10C</td>\n      <td>14H</td>\n      <td></td>\n      <td></td>\n      <td></td>\n    </tr>\n    <tr>\n      <th>1</th>\n      <td>island</td>\n      <td>13D</td>\n      <td>10D</td>\n      <td>11S</td>\n      <td>10S</td>\n      <td>7H</td>\n      <td>8H</td>\n      <td>-3</td>\n      <td>2256007</td>\n      <td>no</td>\n      <td>...</td>\n      <td>2</td>\n      <td>1</td>\n      <td>2</td>\n      <td>9C</td>\n      <td>8D</td>\n      <td>10C</td>\n      <td>14H</td>\n      <td></td>\n      <td></td>\n      <td></td>\n    </tr>\n    <tr>\n      <th>2</th>\n      <td>Schneider</td>\n      <td>12D</td>\n      <td>13C</td>\n      <td>8C</td>\n      <td>7S</td>\n      <td>8S</td>\n      <td>9S</td>\n      <td>-3</td>\n      <td>2256007</td>\n      <td>no</td>\n      <td>...</td>\n      <td>3</td>\n      <td>2</td>\n      <td>3</td>\n      <td>9C</td>\n      <td>8D</td>\n      <td>10C</td>\n      <td>14H</td>\n      <td></td>\n      <td></td>\n      <td></td>\n    </tr>\n    <tr>\n      <th>3</th>\n      <td>barry g</td>\n      <td>12S</td>\n      <td>9H</td>\n      <td>13H</td>\n      <td>14S</td>\n      <td>14C</td>\n      <td>10H</td>\n      <td>-3</td>\n      <td>2256007</td>\n      <td>no</td>\n      <td>...</td>\n      <td>4</td>\n      <td>3</td>\n      <td>4</td>\n      <td>9C</td>\n      <td>8D</td>\n      <td>10C</td>\n      <td>14H</td>\n      <td></td>\n      <td></td>\n      <td></td>\n    </tr>\n    <tr>\n      <th>4</th>\n      <td>CTWIFL</td>\n      <td>7D</td>\n      <td>11D</td>\n      <td>12H</td>\n      <td>13S</td>\n      <td>9D</td>\n      <td>11C</td>\n      <td>3</td>\n      <td>2256007</td>\n      <td>partner</td>\n      <td>...</td>\n      <td>0</td>\n      <td>4</td>\n      <td>0</td>\n      <td>9C</td>\n      <td>8D</td>\n      <td>10C</td>\n      <td>14H</td>\n      <td></td>\n      <td></td>\n      <td></td>\n    </tr>\n    <tr>\n      <th>0</th>\n      <td>agman</td>\n      <td>12S</td>\n      <td>13D</td>\n      <td>10H</td>\n      <td>14S</td>\n      <td>9S</td>\n      <td>11D</td>\n      <td>2</td>\n      <td>2256008</td>\n      <td>partner</td>\n      <td>...</td>\n      <td>1</td>\n      <td>0</td>\n      <td>1</td>\n      <td>8S</td>\n      <td>9C</td>\n      <td>9C</td>\n      <td>10S</td>\n      <td></td>\n      <td></td>\n      <td></td>\n    </tr>\n    <tr>\n      <th>1</th>\n      <td>TomJ</td>\n      <td>11S</td>\n      <td>12H</td>\n      <td>7C</td>\n      <td>7S</td>\n      <td>8H</td>\n      <td>13C</td>\n      <td>-2</td>\n      <td>2256008</td>\n      <td>no</td>\n      <td>...</td>\n      <td>2</td>\n      <td>1</td>\n      <td>2</td>\n      <td>8S</td>\n      <td>9C</td>\n      <td>9C</td>\n      <td>10S</td>\n      <td></td>\n      <td></td>\n      <td></td>\n    </tr>\n    <tr>\n      <th>2</th>\n      <td>cardguy44</td>\n      <td>8D</td>\n      <td>12C</td>\n      <td>8C</td>\n      <td>13S</td>\n      <td>7H</td>\n      <td>9H</td>\n      <td>-2</td>\n      <td>2256008</td>\n      <td>no</td>\n      <td>...</td>\n      <td>3</td>\n      <td>2</td>\n      <td>3</td>\n      <td>8S</td>\n      <td>9C</td>\n      <td>9C</td>\n      <td>10S</td>\n      <td></td>\n      <td></td>\n      <td></td>\n    </tr>\n    <tr>\n      <th>3</th>\n      <td>Grandpaken78</td>\n      <td>14D</td>\n      <td>11H</td>\n      <td>14C</td>\n      <td>13H</td>\n      <td>10C</td>\n      <td>14H</td>\n      <td>-2</td>\n      <td>2256008</td>\n      <td>no</td>\n      <td>...</td>\n      <td>4</td>\n      <td>3</td>\n      <td>4</td>\n      <td>8S</td>\n      <td>9C</td>\n      <td>9C</td>\n      <td>10S</td>\n      <td></td>\n      <td></td>\n      <td></td>\n    </tr>\n    <tr>\n      <th>4</th>\n      <td>Steven Strelow</td>\n      <td>7D</td>\n      <td>9D</td>\n      <td>10D</td>\n      <td>8S</td>\n      <td>11C</td>\n      <td>12D</td>\n      <td>4</td>\n      <td>2256008</td>\n      <td>picker</td>\n      <td>...</td>\n      <td>0</td>\n      <td>4</td>\n      <td>0</td>\n      <td>8S</td>\n      <td>9C</td>\n      <td>9C</td>\n      <td>10S</td>\n      <td></td>\n      <td></td>\n      <td></td>\n    </tr>\n  </tbody>\n</table>\n<p>35 rows × 32 columns</p>\n</div>"
     },
     "metadata": {},
     "execution_count": 7
    },
    {
     "output_type": "stream",
     "name": "stdout",
     "text": [
      "time: 42.8 ms\nIn [7] used 0.1211 MiB RAM in 0.14s, peaked 0.00 MiB above current, total RAM usage 121.32 MiB\n"
     ]
    }
   ],
   "source": [
    "df"
   ]
  },
  {
   "cell_type": "code",
   "execution_count": 120,
   "metadata": {},
   "outputs": [
    {
     "output_type": "stream",
     "name": "stdout",
     "text": [
      "time: 1.07 ms\nIn [120] used 0.0000 MiB RAM in 0.11s, peaked 0.00 MiB above current, total RAM usage 206.62 MiB\n"
     ]
    }
   ],
   "source": [
    "dfa = df.copy()"
   ]
  },
  {
   "cell_type": "code",
   "execution_count": 121,
   "metadata": {},
   "outputs": [
    {
     "output_type": "stream",
     "name": "stdout",
     "text": [
      "time: 11.4 ms\nIn [121] used 0.0000 MiB RAM in 0.12s, peaked 0.00 MiB above current, total RAM usage 206.62 MiB\n"
     ]
    }
   ],
   "source": [
    "dfa['cards'] = dfa[dfa.columns[1:7]].apply(lambda x: ','.join(x.astype(str)).split(','), axis=1)"
   ]
  },
  {
   "cell_type": "code",
   "execution_count": 118,
   "metadata": {},
   "outputs": [
    {
     "output_type": "stream",
     "name": "stdout",
     "text": [
      "time: 14.5 ms\nIn [118] used 0.0039 MiB RAM in 0.12s, peaked 0.00 MiB above current, total RAM usage 206.62 MiB\n"
     ]
    }
   ],
   "source": []
  },
  {
   "cell_type": "code",
   "execution_count": 122,
   "metadata": {},
   "outputs": [
    {
     "output_type": "stream",
     "name": "stdout",
     "text": [
      "time: 2.91 ms\nIn [122] used 0.0000 MiB RAM in 0.11s, peaked 0.00 MiB above current, total RAM usage 206.62 MiB\n"
     ]
    }
   ],
   "source": [
    "dfa['trump'] = dfa['cards'].apply(lambda x: [i for i in x if i in trumpdic.keys()])\n"
   ]
  },
  {
   "cell_type": "code",
   "execution_count": 126,
   "metadata": {},
   "outputs": [
    {
     "output_type": "stream",
     "name": "stdout",
     "text": [
      "time: 2.09 ms\nIn [126] used -0.0195 MiB RAM in 0.11s, peaked 0.00 MiB above current, total RAM usage 208.82 MiB\n"
     ]
    }
   ],
   "source": [
    "dfa['trumpcount'] = dfa['trump'].apply(lambda x: len(x))"
   ]
  },
  {
   "cell_type": "code",
   "execution_count": 128,
   "metadata": {},
   "outputs": [
    {
     "output_type": "stream",
     "name": "stdout",
     "text": [
      "time: 2.61 ms\nIn [128] used 0.0000 MiB RAM in 0.10s, peaked 0.00 MiB above current, total RAM usage 208.82 MiB\n"
     ]
    }
   ],
   "source": [
    "dfa['fail'] = dfa['cards'].apply(lambda x: [i for i in x if i in faildic.keys()])\n"
   ]
  },
  {
   "cell_type": "code",
   "execution_count": 130,
   "metadata": {},
   "outputs": [
    {
     "output_type": "stream",
     "name": "stdout",
     "text": [
      "time: 2.59 ms\nIn [130] used -1.4219 MiB RAM in 0.11s, peaked 0.00 MiB above current, total RAM usage 207.39 MiB\n"
     ]
    }
   ],
   "source": [
    "dfa['failcount'] = dfa['fail'].apply(lambda x: len(x))"
   ]
  },
  {
   "cell_type": "code",
   "execution_count": 132,
   "metadata": {},
   "outputs": [
    {
     "output_type": "execute_result",
     "data": {
      "text/plain": [
       "               name    1    2    3    4    5    6  score   handid   picker  \\\n",
       "0            jturba   8H  12C  14H  13D   9C  13C      2  2256000   picker   \n",
       "1        Jungle jim   9S   8D  13H  11C  12S   9H     -1  2256000       no   \n",
       "2            jcardo  14S   7D   7H  10C  13S   8C     -1  2256000       no   \n",
       "3          robyinko  11D  12H  11S   9D  11H  12D      1  2256000  partner   \n",
       "4           shipdog   7S  10D  10H  14D  14C   7C     -1  2256000       no   \n",
       "0       plays sheep   8C  14D   8D  13C  10H  10S     -6  2256002       no   \n",
       "1        scottstern   9C  11S  12D   9H  13S  14H     -6  2256002       no   \n",
       "2       Mary Kuhlow  14C  10D  12H  13D  11C  11D      6  2256002  partner   \n",
       "3         kibittzer   7D  12S   9D  12C  11H  13H     12  2256002   picker   \n",
       "4     dingleberries   7C   7H  14S   8H   8S   9S     -6  2256002       no   \n",
       "0             agman   8D   9D   9H  10D   7C   9C     -3  2256004       no   \n",
       "1              TomJ  11C   8H  10H  13S  10C  10S     -3  2256004       no   \n",
       "2         cardguy44  12H   7S   7H   8C  14C  13H     -3  2256004       no   \n",
       "3      Grandpaken78  12C   7D  14D  11S  13D  11H      6  2256004   picker   \n",
       "4    Steven Strelow  11D  12S  14H  12D  13C   9S      3  2256004  partner   \n",
       "0          jo jjmrs  10S  11D  13H  14D   9H   8H      1  2256005  partner   \n",
       "1           DotJake   8S  10D  12H   9C  14C  12C     -1  2256005       no   \n",
       "2     schmidtmichaj  13S  11C  14S   8C   7H   9D     -1  2256005       no   \n",
       "3     officials Jim  13D   7D  11H   7C  12D   8D      2  2256005   picker   \n",
       "4         Daisy1120   7S  11S   9S  10C  14H  12S     -1  2256005       no   \n",
       "0         tvretired  13D   8H  11D  12C  12S  10H     16  2256006   picker   \n",
       "1        david cole  10D   7H  14S  11C  13H  14H     -4  2256006       no   \n",
       "2     merchantnater  13C   9H   8S   7D  11S   9S     -4  2256006       no   \n",
       "3       JimBobWilly   7C   8C  13S  11H  14D  12H     -4  2256006       no   \n",
       "4  jordan mariposas   9C  12D  10S   8D   9D   7S     -4  2256006       no   \n",
       "0    blueislandgirl  12C   8D  14D  11H   9C   7C      6  2256007   picker   \n",
       "1            island  13D  10D  11S  10S   7H   8H     -3  2256007       no   \n",
       "2         Schneider  12D  13C   8C   7S   8S   9S     -3  2256007       no   \n",
       "3           barry g  12S   9H  13H  14S  14C  10H     -3  2256007       no   \n",
       "4            CTWIFL   7D  11D  12H  13S   9D  11C      3  2256007  partner   \n",
       "0             agman  12S  13D  10H  14S   9S  11D      2  2256008  partner   \n",
       "1              TomJ  11S  12H   7C   7S   8H  13C     -2  2256008       no   \n",
       "2         cardguy44   8D  12C   8C  13S   7H   9H     -2  2256008       no   \n",
       "3      Grandpaken78  14D  11H  14C  13H  10C  14H     -2  2256008       no   \n",
       "4    Steven Strelow   7D   9D  10D   8S  11C  12D      4  2256008   picker   \n",
       "\n",
       "   ... bury1  bury2  call_ace  ace_suit  leaster  \\\n",
       "0  ...    8S    10S                                \n",
       "1  ...    8S    10S                                \n",
       "2  ...    8S    10S                                \n",
       "3  ...    8S    10S                                \n",
       "4  ...    8S    10S                                \n",
       "0  ...   10C     7S                                \n",
       "1  ...   10C     7S                                \n",
       "2  ...   10C     7S                                \n",
       "3  ...   10C     7S                                \n",
       "4  ...   10C     7S                                \n",
       "0  ...   14S     8S                                \n",
       "1  ...   14S     8S                                \n",
       "2  ...   14S     8S                                \n",
       "3  ...   14S     8S                                \n",
       "4  ...   14S     8S                                \n",
       "0  ...   13C    10H                                \n",
       "1  ...   13C    10H                                \n",
       "2  ...   13C    10H                                \n",
       "3  ...   13C    10H                                \n",
       "4  ...   13C    10H                                \n",
       "0  ...   14C    10C                                \n",
       "1  ...   14C    10C                                \n",
       "2  ...   14C    10C                                \n",
       "3  ...   14C    10C                                \n",
       "4  ...   14C    10C                                \n",
       "0  ...   10C    14H                                \n",
       "1  ...   10C    14H                                \n",
       "2  ...   10C    14H                                \n",
       "3  ...   10C    14H                                \n",
       "4  ...   10C    14H                                \n",
       "0  ...    9C    10S                                \n",
       "1  ...    9C    10S                                \n",
       "2  ...    9C    10S                                \n",
       "3  ...    9C    10S                                \n",
       "4  ...    9C    10S                                \n",
       "\n",
       "                            cards                          trump  trumpcount  \\\n",
       "0    [8H, 12C, 14H, 13D, 9C, 13C]                     [12C, 13D]           2   \n",
       "1     [9S, 8D, 13H, 11C, 12S, 9H]                 [8D, 11C, 12S]           3   \n",
       "2     [14S, 7D, 7H, 10C, 13S, 8C]                           [7D]           1   \n",
       "3   [11D, 12H, 11S, 9D, 11H, 12D]  [11D, 12H, 11S, 9D, 11H, 12D]           6   \n",
       "4    [7S, 10D, 10H, 14D, 14C, 7C]                     [10D, 14D]           2   \n",
       "0    [8C, 14D, 8D, 13C, 10H, 10S]                      [14D, 8D]           2   \n",
       "1    [9C, 11S, 12D, 9H, 13S, 14H]                     [11S, 12D]           2   \n",
       "2  [14C, 10D, 12H, 13D, 11C, 11D]      [10D, 12H, 13D, 11C, 11D]           5   \n",
       "3    [7D, 12S, 9D, 12C, 11H, 13H]        [7D, 12S, 9D, 12C, 11H]           5   \n",
       "4       [7C, 7H, 14S, 8H, 8S, 9S]                             []           0   \n",
       "0       [8D, 9D, 9H, 10D, 7C, 9C]                  [8D, 9D, 10D]           3   \n",
       "1   [11C, 8H, 10H, 13S, 10C, 10S]                          [11C]           1   \n",
       "2     [12H, 7S, 7H, 8C, 14C, 13H]                          [12H]           1   \n",
       "3   [12C, 7D, 14D, 11S, 13D, 11H]  [12C, 7D, 14D, 11S, 13D, 11H]           6   \n",
       "4   [11D, 12S, 14H, 12D, 13C, 9S]                [11D, 12S, 12D]           3   \n",
       "0    [10S, 11D, 13H, 14D, 9H, 8H]                     [11D, 14D]           2   \n",
       "1    [8S, 10D, 12H, 9C, 14C, 12C]                [10D, 12H, 12C]           3   \n",
       "2     [13S, 11C, 14S, 8C, 7H, 9D]                      [11C, 9D]           2   \n",
       "3     [13D, 7D, 11H, 7C, 12D, 8D]        [13D, 7D, 11H, 12D, 8D]           5   \n",
       "4    [7S, 11S, 9S, 10C, 14H, 12S]                     [11S, 12S]           2   \n",
       "0   [13D, 8H, 11D, 12C, 12S, 10H]           [13D, 11D, 12C, 12S]           4   \n",
       "1   [10D, 7H, 14S, 11C, 13H, 14H]                     [10D, 11C]           2   \n",
       "2      [13C, 9H, 8S, 7D, 11S, 9S]                      [7D, 11S]           2   \n",
       "3    [7C, 8C, 13S, 11H, 14D, 12H]                [11H, 14D, 12H]           3   \n",
       "4      [9C, 12D, 10S, 8D, 9D, 7S]                  [12D, 8D, 9D]           3   \n",
       "0     [12C, 8D, 14D, 11H, 9C, 7C]            [12C, 8D, 14D, 11H]           4   \n",
       "1    [13D, 10D, 11S, 10S, 7H, 8H]                [13D, 10D, 11S]           3   \n",
       "2      [12D, 13C, 8C, 7S, 8S, 9S]                          [12D]           1   \n",
       "3   [12S, 9H, 13H, 14S, 14C, 10H]                          [12S]           1   \n",
       "4    [7D, 11D, 12H, 13S, 9D, 11C]        [7D, 11D, 12H, 9D, 11C]           5   \n",
       "0   [12S, 13D, 10H, 14S, 9S, 11D]                [12S, 13D, 11D]           3   \n",
       "1     [11S, 12H, 7C, 7S, 8H, 13C]                     [11S, 12H]           2   \n",
       "2      [8D, 12C, 8C, 13S, 7H, 9H]                      [8D, 12C]           2   \n",
       "3  [14D, 11H, 14C, 13H, 10C, 14H]                     [14D, 11H]           2   \n",
       "4     [7D, 9D, 10D, 8S, 11C, 12D]        [7D, 9D, 10D, 11C, 12D]           5   \n",
       "\n",
       "                        fail  failcount  \n",
       "0         [8H, 14H, 9C, 13C]          4  \n",
       "1              [9S, 13H, 9H]          3  \n",
       "2    [14S, 7H, 10C, 13S, 8C]          5  \n",
       "3                         []          0  \n",
       "4         [7S, 10H, 14C, 7C]          4  \n",
       "0        [8C, 13C, 10H, 10S]          4  \n",
       "1         [9C, 9H, 13S, 14H]          4  \n",
       "2                      [14C]          1  \n",
       "3                      [13H]          1  \n",
       "4  [7C, 7H, 14S, 8H, 8S, 9S]          6  \n",
       "0               [9H, 7C, 9C]          3  \n",
       "1   [8H, 10H, 13S, 10C, 10S]          5  \n",
       "2     [7S, 7H, 8C, 14C, 13H]          5  \n",
       "3                         []          0  \n",
       "4             [14H, 13C, 9S]          3  \n",
       "0         [10S, 13H, 9H, 8H]          4  \n",
       "1              [8S, 9C, 14C]          3  \n",
       "2         [13S, 14S, 8C, 7H]          4  \n",
       "3                       [7C]          1  \n",
       "4         [7S, 9S, 10C, 14H]          4  \n",
       "0                  [8H, 10H]          2  \n",
       "1        [7H, 14S, 13H, 14H]          4  \n",
       "2          [13C, 9H, 8S, 9S]          4  \n",
       "3              [7C, 8C, 13S]          3  \n",
       "4              [9C, 10S, 7S]          3  \n",
       "0                   [9C, 7C]          2  \n",
       "1              [10S, 7H, 8H]          3  \n",
       "2      [13C, 8C, 7S, 8S, 9S]          5  \n",
       "3   [9H, 13H, 14S, 14C, 10H]          5  \n",
       "4                      [13S]          1  \n",
       "0             [10H, 14S, 9S]          3  \n",
       "1          [7C, 7S, 8H, 13C]          4  \n",
       "2          [8C, 13S, 7H, 9H]          4  \n",
       "3       [14C, 13H, 10C, 14H]          4  \n",
       "4                       [8S]          1  \n",
       "\n",
       "[35 rows x 37 columns]"
      ],
      "text/html": "<div>\n<style scoped>\n    .dataframe tbody tr th:only-of-type {\n        vertical-align: middle;\n    }\n\n    .dataframe tbody tr th {\n        vertical-align: top;\n    }\n\n    .dataframe thead th {\n        text-align: right;\n    }\n</style>\n<table border=\"1\" class=\"dataframe\">\n  <thead>\n    <tr style=\"text-align: right;\">\n      <th></th>\n      <th>name</th>\n      <th>1</th>\n      <th>2</th>\n      <th>3</th>\n      <th>4</th>\n      <th>5</th>\n      <th>6</th>\n      <th>score</th>\n      <th>handid</th>\n      <th>picker</th>\n      <th>...</th>\n      <th>bury1</th>\n      <th>bury2</th>\n      <th>call_ace</th>\n      <th>ace_suit</th>\n      <th>leaster</th>\n      <th>cards</th>\n      <th>trump</th>\n      <th>trumpcount</th>\n      <th>fail</th>\n      <th>failcount</th>\n    </tr>\n  </thead>\n  <tbody>\n    <tr>\n      <th>0</th>\n      <td>jturba</td>\n      <td>8H</td>\n      <td>12C</td>\n      <td>14H</td>\n      <td>13D</td>\n      <td>9C</td>\n      <td>13C</td>\n      <td>2</td>\n      <td>2256000</td>\n      <td>picker</td>\n      <td>...</td>\n      <td>8S</td>\n      <td>10S</td>\n      <td></td>\n      <td></td>\n      <td></td>\n      <td>[8H, 12C, 14H, 13D, 9C, 13C]</td>\n      <td>[12C, 13D]</td>\n      <td>2</td>\n      <td>[8H, 14H, 9C, 13C]</td>\n      <td>4</td>\n    </tr>\n    <tr>\n      <th>1</th>\n      <td>Jungle jim</td>\n      <td>9S</td>\n      <td>8D</td>\n      <td>13H</td>\n      <td>11C</td>\n      <td>12S</td>\n      <td>9H</td>\n      <td>-1</td>\n      <td>2256000</td>\n      <td>no</td>\n      <td>...</td>\n      <td>8S</td>\n      <td>10S</td>\n      <td></td>\n      <td></td>\n      <td></td>\n      <td>[9S, 8D, 13H, 11C, 12S, 9H]</td>\n      <td>[8D, 11C, 12S]</td>\n      <td>3</td>\n      <td>[9S, 13H, 9H]</td>\n      <td>3</td>\n    </tr>\n    <tr>\n      <th>2</th>\n      <td>jcardo</td>\n      <td>14S</td>\n      <td>7D</td>\n      <td>7H</td>\n      <td>10C</td>\n      <td>13S</td>\n      <td>8C</td>\n      <td>-1</td>\n      <td>2256000</td>\n      <td>no</td>\n      <td>...</td>\n      <td>8S</td>\n      <td>10S</td>\n      <td></td>\n      <td></td>\n      <td></td>\n      <td>[14S, 7D, 7H, 10C, 13S, 8C]</td>\n      <td>[7D]</td>\n      <td>1</td>\n      <td>[14S, 7H, 10C, 13S, 8C]</td>\n      <td>5</td>\n    </tr>\n    <tr>\n      <th>3</th>\n      <td>robyinko</td>\n      <td>11D</td>\n      <td>12H</td>\n      <td>11S</td>\n      <td>9D</td>\n      <td>11H</td>\n      <td>12D</td>\n      <td>1</td>\n      <td>2256000</td>\n      <td>partner</td>\n      <td>...</td>\n      <td>8S</td>\n      <td>10S</td>\n      <td></td>\n      <td></td>\n      <td></td>\n      <td>[11D, 12H, 11S, 9D, 11H, 12D]</td>\n      <td>[11D, 12H, 11S, 9D, 11H, 12D]</td>\n      <td>6</td>\n      <td>[]</td>\n      <td>0</td>\n    </tr>\n    <tr>\n      <th>4</th>\n      <td>shipdog</td>\n      <td>7S</td>\n      <td>10D</td>\n      <td>10H</td>\n      <td>14D</td>\n      <td>14C</td>\n      <td>7C</td>\n      <td>-1</td>\n      <td>2256000</td>\n      <td>no</td>\n      <td>...</td>\n      <td>8S</td>\n      <td>10S</td>\n      <td></td>\n      <td></td>\n      <td></td>\n      <td>[7S, 10D, 10H, 14D, 14C, 7C]</td>\n      <td>[10D, 14D]</td>\n      <td>2</td>\n      <td>[7S, 10H, 14C, 7C]</td>\n      <td>4</td>\n    </tr>\n    <tr>\n      <th>0</th>\n      <td>plays sheep</td>\n      <td>8C</td>\n      <td>14D</td>\n      <td>8D</td>\n      <td>13C</td>\n      <td>10H</td>\n      <td>10S</td>\n      <td>-6</td>\n      <td>2256002</td>\n      <td>no</td>\n      <td>...</td>\n      <td>10C</td>\n      <td>7S</td>\n      <td></td>\n      <td></td>\n      <td></td>\n      <td>[8C, 14D, 8D, 13C, 10H, 10S]</td>\n      <td>[14D, 8D]</td>\n      <td>2</td>\n      <td>[8C, 13C, 10H, 10S]</td>\n      <td>4</td>\n    </tr>\n    <tr>\n      <th>1</th>\n      <td>scottstern</td>\n      <td>9C</td>\n      <td>11S</td>\n      <td>12D</td>\n      <td>9H</td>\n      <td>13S</td>\n      <td>14H</td>\n      <td>-6</td>\n      <td>2256002</td>\n      <td>no</td>\n      <td>...</td>\n      <td>10C</td>\n      <td>7S</td>\n      <td></td>\n      <td></td>\n      <td></td>\n      <td>[9C, 11S, 12D, 9H, 13S, 14H]</td>\n      <td>[11S, 12D]</td>\n      <td>2</td>\n      <td>[9C, 9H, 13S, 14H]</td>\n      <td>4</td>\n    </tr>\n    <tr>\n      <th>2</th>\n      <td>Mary Kuhlow</td>\n      <td>14C</td>\n      <td>10D</td>\n      <td>12H</td>\n      <td>13D</td>\n      <td>11C</td>\n      <td>11D</td>\n      <td>6</td>\n      <td>2256002</td>\n      <td>partner</td>\n      <td>...</td>\n      <td>10C</td>\n      <td>7S</td>\n      <td></td>\n      <td></td>\n      <td></td>\n      <td>[14C, 10D, 12H, 13D, 11C, 11D]</td>\n      <td>[10D, 12H, 13D, 11C, 11D]</td>\n      <td>5</td>\n      <td>[14C]</td>\n      <td>1</td>\n    </tr>\n    <tr>\n      <th>3</th>\n      <td>kibittzer</td>\n      <td>7D</td>\n      <td>12S</td>\n      <td>9D</td>\n      <td>12C</td>\n      <td>11H</td>\n      <td>13H</td>\n      <td>12</td>\n      <td>2256002</td>\n      <td>picker</td>\n      <td>...</td>\n      <td>10C</td>\n      <td>7S</td>\n      <td></td>\n      <td></td>\n      <td></td>\n      <td>[7D, 12S, 9D, 12C, 11H, 13H]</td>\n      <td>[7D, 12S, 9D, 12C, 11H]</td>\n      <td>5</td>\n      <td>[13H]</td>\n      <td>1</td>\n    </tr>\n    <tr>\n      <th>4</th>\n      <td>dingleberries</td>\n      <td>7C</td>\n      <td>7H</td>\n      <td>14S</td>\n      <td>8H</td>\n      <td>8S</td>\n      <td>9S</td>\n      <td>-6</td>\n      <td>2256002</td>\n      <td>no</td>\n      <td>...</td>\n      <td>10C</td>\n      <td>7S</td>\n      <td></td>\n      <td></td>\n      <td></td>\n      <td>[7C, 7H, 14S, 8H, 8S, 9S]</td>\n      <td>[]</td>\n      <td>0</td>\n      <td>[7C, 7H, 14S, 8H, 8S, 9S]</td>\n      <td>6</td>\n    </tr>\n    <tr>\n      <th>0</th>\n      <td>agman</td>\n      <td>8D</td>\n      <td>9D</td>\n      <td>9H</td>\n      <td>10D</td>\n      <td>7C</td>\n      <td>9C</td>\n      <td>-3</td>\n      <td>2256004</td>\n      <td>no</td>\n      <td>...</td>\n      <td>14S</td>\n      <td>8S</td>\n      <td></td>\n      <td></td>\n      <td></td>\n      <td>[8D, 9D, 9H, 10D, 7C, 9C]</td>\n      <td>[8D, 9D, 10D]</td>\n      <td>3</td>\n      <td>[9H, 7C, 9C]</td>\n      <td>3</td>\n    </tr>\n    <tr>\n      <th>1</th>\n      <td>TomJ</td>\n      <td>11C</td>\n      <td>8H</td>\n      <td>10H</td>\n      <td>13S</td>\n      <td>10C</td>\n      <td>10S</td>\n      <td>-3</td>\n      <td>2256004</td>\n      <td>no</td>\n      <td>...</td>\n      <td>14S</td>\n      <td>8S</td>\n      <td></td>\n      <td></td>\n      <td></td>\n      <td>[11C, 8H, 10H, 13S, 10C, 10S]</td>\n      <td>[11C]</td>\n      <td>1</td>\n      <td>[8H, 10H, 13S, 10C, 10S]</td>\n      <td>5</td>\n    </tr>\n    <tr>\n      <th>2</th>\n      <td>cardguy44</td>\n      <td>12H</td>\n      <td>7S</td>\n      <td>7H</td>\n      <td>8C</td>\n      <td>14C</td>\n      <td>13H</td>\n      <td>-3</td>\n      <td>2256004</td>\n      <td>no</td>\n      <td>...</td>\n      <td>14S</td>\n      <td>8S</td>\n      <td></td>\n      <td></td>\n      <td></td>\n      <td>[12H, 7S, 7H, 8C, 14C, 13H]</td>\n      <td>[12H]</td>\n      <td>1</td>\n      <td>[7S, 7H, 8C, 14C, 13H]</td>\n      <td>5</td>\n    </tr>\n    <tr>\n      <th>3</th>\n      <td>Grandpaken78</td>\n      <td>12C</td>\n      <td>7D</td>\n      <td>14D</td>\n      <td>11S</td>\n      <td>13D</td>\n      <td>11H</td>\n      <td>6</td>\n      <td>2256004</td>\n      <td>picker</td>\n      <td>...</td>\n      <td>14S</td>\n      <td>8S</td>\n      <td></td>\n      <td></td>\n      <td></td>\n      <td>[12C, 7D, 14D, 11S, 13D, 11H]</td>\n      <td>[12C, 7D, 14D, 11S, 13D, 11H]</td>\n      <td>6</td>\n      <td>[]</td>\n      <td>0</td>\n    </tr>\n    <tr>\n      <th>4</th>\n      <td>Steven Strelow</td>\n      <td>11D</td>\n      <td>12S</td>\n      <td>14H</td>\n      <td>12D</td>\n      <td>13C</td>\n      <td>9S</td>\n      <td>3</td>\n      <td>2256004</td>\n      <td>partner</td>\n      <td>...</td>\n      <td>14S</td>\n      <td>8S</td>\n      <td></td>\n      <td></td>\n      <td></td>\n      <td>[11D, 12S, 14H, 12D, 13C, 9S]</td>\n      <td>[11D, 12S, 12D]</td>\n      <td>3</td>\n      <td>[14H, 13C, 9S]</td>\n      <td>3</td>\n    </tr>\n    <tr>\n      <th>0</th>\n      <td>jo jjmrs</td>\n      <td>10S</td>\n      <td>11D</td>\n      <td>13H</td>\n      <td>14D</td>\n      <td>9H</td>\n      <td>8H</td>\n      <td>1</td>\n      <td>2256005</td>\n      <td>partner</td>\n      <td>...</td>\n      <td>13C</td>\n      <td>10H</td>\n      <td></td>\n      <td></td>\n      <td></td>\n      <td>[10S, 11D, 13H, 14D, 9H, 8H]</td>\n      <td>[11D, 14D]</td>\n      <td>2</td>\n      <td>[10S, 13H, 9H, 8H]</td>\n      <td>4</td>\n    </tr>\n    <tr>\n      <th>1</th>\n      <td>DotJake</td>\n      <td>8S</td>\n      <td>10D</td>\n      <td>12H</td>\n      <td>9C</td>\n      <td>14C</td>\n      <td>12C</td>\n      <td>-1</td>\n      <td>2256005</td>\n      <td>no</td>\n      <td>...</td>\n      <td>13C</td>\n      <td>10H</td>\n      <td></td>\n      <td></td>\n      <td></td>\n      <td>[8S, 10D, 12H, 9C, 14C, 12C]</td>\n      <td>[10D, 12H, 12C]</td>\n      <td>3</td>\n      <td>[8S, 9C, 14C]</td>\n      <td>3</td>\n    </tr>\n    <tr>\n      <th>2</th>\n      <td>schmidtmichaj</td>\n      <td>13S</td>\n      <td>11C</td>\n      <td>14S</td>\n      <td>8C</td>\n      <td>7H</td>\n      <td>9D</td>\n      <td>-1</td>\n      <td>2256005</td>\n      <td>no</td>\n      <td>...</td>\n      <td>13C</td>\n      <td>10H</td>\n      <td></td>\n      <td></td>\n      <td></td>\n      <td>[13S, 11C, 14S, 8C, 7H, 9D]</td>\n      <td>[11C, 9D]</td>\n      <td>2</td>\n      <td>[13S, 14S, 8C, 7H]</td>\n      <td>4</td>\n    </tr>\n    <tr>\n      <th>3</th>\n      <td>officials Jim</td>\n      <td>13D</td>\n      <td>7D</td>\n      <td>11H</td>\n      <td>7C</td>\n      <td>12D</td>\n      <td>8D</td>\n      <td>2</td>\n      <td>2256005</td>\n      <td>picker</td>\n      <td>...</td>\n      <td>13C</td>\n      <td>10H</td>\n      <td></td>\n      <td></td>\n      <td></td>\n      <td>[13D, 7D, 11H, 7C, 12D, 8D]</td>\n      <td>[13D, 7D, 11H, 12D, 8D]</td>\n      <td>5</td>\n      <td>[7C]</td>\n      <td>1</td>\n    </tr>\n    <tr>\n      <th>4</th>\n      <td>Daisy1120</td>\n      <td>7S</td>\n      <td>11S</td>\n      <td>9S</td>\n      <td>10C</td>\n      <td>14H</td>\n      <td>12S</td>\n      <td>-1</td>\n      <td>2256005</td>\n      <td>no</td>\n      <td>...</td>\n      <td>13C</td>\n      <td>10H</td>\n      <td></td>\n      <td></td>\n      <td></td>\n      <td>[7S, 11S, 9S, 10C, 14H, 12S]</td>\n      <td>[11S, 12S]</td>\n      <td>2</td>\n      <td>[7S, 9S, 10C, 14H]</td>\n      <td>4</td>\n    </tr>\n    <tr>\n      <th>0</th>\n      <td>tvretired</td>\n      <td>13D</td>\n      <td>8H</td>\n      <td>11D</td>\n      <td>12C</td>\n      <td>12S</td>\n      <td>10H</td>\n      <td>16</td>\n      <td>2256006</td>\n      <td>picker</td>\n      <td>...</td>\n      <td>14C</td>\n      <td>10C</td>\n      <td></td>\n      <td></td>\n      <td></td>\n      <td>[13D, 8H, 11D, 12C, 12S, 10H]</td>\n      <td>[13D, 11D, 12C, 12S]</td>\n      <td>4</td>\n      <td>[8H, 10H]</td>\n      <td>2</td>\n    </tr>\n    <tr>\n      <th>1</th>\n      <td>david cole</td>\n      <td>10D</td>\n      <td>7H</td>\n      <td>14S</td>\n      <td>11C</td>\n      <td>13H</td>\n      <td>14H</td>\n      <td>-4</td>\n      <td>2256006</td>\n      <td>no</td>\n      <td>...</td>\n      <td>14C</td>\n      <td>10C</td>\n      <td></td>\n      <td></td>\n      <td></td>\n      <td>[10D, 7H, 14S, 11C, 13H, 14H]</td>\n      <td>[10D, 11C]</td>\n      <td>2</td>\n      <td>[7H, 14S, 13H, 14H]</td>\n      <td>4</td>\n    </tr>\n    <tr>\n      <th>2</th>\n      <td>merchantnater</td>\n      <td>13C</td>\n      <td>9H</td>\n      <td>8S</td>\n      <td>7D</td>\n      <td>11S</td>\n      <td>9S</td>\n      <td>-4</td>\n      <td>2256006</td>\n      <td>no</td>\n      <td>...</td>\n      <td>14C</td>\n      <td>10C</td>\n      <td></td>\n      <td></td>\n      <td></td>\n      <td>[13C, 9H, 8S, 7D, 11S, 9S]</td>\n      <td>[7D, 11S]</td>\n      <td>2</td>\n      <td>[13C, 9H, 8S, 9S]</td>\n      <td>4</td>\n    </tr>\n    <tr>\n      <th>3</th>\n      <td>JimBobWilly</td>\n      <td>7C</td>\n      <td>8C</td>\n      <td>13S</td>\n      <td>11H</td>\n      <td>14D</td>\n      <td>12H</td>\n      <td>-4</td>\n      <td>2256006</td>\n      <td>no</td>\n      <td>...</td>\n      <td>14C</td>\n      <td>10C</td>\n      <td></td>\n      <td></td>\n      <td></td>\n      <td>[7C, 8C, 13S, 11H, 14D, 12H]</td>\n      <td>[11H, 14D, 12H]</td>\n      <td>3</td>\n      <td>[7C, 8C, 13S]</td>\n      <td>3</td>\n    </tr>\n    <tr>\n      <th>4</th>\n      <td>jordan mariposas</td>\n      <td>9C</td>\n      <td>12D</td>\n      <td>10S</td>\n      <td>8D</td>\n      <td>9D</td>\n      <td>7S</td>\n      <td>-4</td>\n      <td>2256006</td>\n      <td>no</td>\n      <td>...</td>\n      <td>14C</td>\n      <td>10C</td>\n      <td></td>\n      <td></td>\n      <td></td>\n      <td>[9C, 12D, 10S, 8D, 9D, 7S]</td>\n      <td>[12D, 8D, 9D]</td>\n      <td>3</td>\n      <td>[9C, 10S, 7S]</td>\n      <td>3</td>\n    </tr>\n    <tr>\n      <th>0</th>\n      <td>blueislandgirl</td>\n      <td>12C</td>\n      <td>8D</td>\n      <td>14D</td>\n      <td>11H</td>\n      <td>9C</td>\n      <td>7C</td>\n      <td>6</td>\n      <td>2256007</td>\n      <td>picker</td>\n      <td>...</td>\n      <td>10C</td>\n      <td>14H</td>\n      <td></td>\n      <td></td>\n      <td></td>\n      <td>[12C, 8D, 14D, 11H, 9C, 7C]</td>\n      <td>[12C, 8D, 14D, 11H]</td>\n      <td>4</td>\n      <td>[9C, 7C]</td>\n      <td>2</td>\n    </tr>\n    <tr>\n      <th>1</th>\n      <td>island</td>\n      <td>13D</td>\n      <td>10D</td>\n      <td>11S</td>\n      <td>10S</td>\n      <td>7H</td>\n      <td>8H</td>\n      <td>-3</td>\n      <td>2256007</td>\n      <td>no</td>\n      <td>...</td>\n      <td>10C</td>\n      <td>14H</td>\n      <td></td>\n      <td></td>\n      <td></td>\n      <td>[13D, 10D, 11S, 10S, 7H, 8H]</td>\n      <td>[13D, 10D, 11S]</td>\n      <td>3</td>\n      <td>[10S, 7H, 8H]</td>\n      <td>3</td>\n    </tr>\n    <tr>\n      <th>2</th>\n      <td>Schneider</td>\n      <td>12D</td>\n      <td>13C</td>\n      <td>8C</td>\n      <td>7S</td>\n      <td>8S</td>\n      <td>9S</td>\n      <td>-3</td>\n      <td>2256007</td>\n      <td>no</td>\n      <td>...</td>\n      <td>10C</td>\n      <td>14H</td>\n      <td></td>\n      <td></td>\n      <td></td>\n      <td>[12D, 13C, 8C, 7S, 8S, 9S]</td>\n      <td>[12D]</td>\n      <td>1</td>\n      <td>[13C, 8C, 7S, 8S, 9S]</td>\n      <td>5</td>\n    </tr>\n    <tr>\n      <th>3</th>\n      <td>barry g</td>\n      <td>12S</td>\n      <td>9H</td>\n      <td>13H</td>\n      <td>14S</td>\n      <td>14C</td>\n      <td>10H</td>\n      <td>-3</td>\n      <td>2256007</td>\n      <td>no</td>\n      <td>...</td>\n      <td>10C</td>\n      <td>14H</td>\n      <td></td>\n      <td></td>\n      <td></td>\n      <td>[12S, 9H, 13H, 14S, 14C, 10H]</td>\n      <td>[12S]</td>\n      <td>1</td>\n      <td>[9H, 13H, 14S, 14C, 10H]</td>\n      <td>5</td>\n    </tr>\n    <tr>\n      <th>4</th>\n      <td>CTWIFL</td>\n      <td>7D</td>\n      <td>11D</td>\n      <td>12H</td>\n      <td>13S</td>\n      <td>9D</td>\n      <td>11C</td>\n      <td>3</td>\n      <td>2256007</td>\n      <td>partner</td>\n      <td>...</td>\n      <td>10C</td>\n      <td>14H</td>\n      <td></td>\n      <td></td>\n      <td></td>\n      <td>[7D, 11D, 12H, 13S, 9D, 11C]</td>\n      <td>[7D, 11D, 12H, 9D, 11C]</td>\n      <td>5</td>\n      <td>[13S]</td>\n      <td>1</td>\n    </tr>\n    <tr>\n      <th>0</th>\n      <td>agman</td>\n      <td>12S</td>\n      <td>13D</td>\n      <td>10H</td>\n      <td>14S</td>\n      <td>9S</td>\n      <td>11D</td>\n      <td>2</td>\n      <td>2256008</td>\n      <td>partner</td>\n      <td>...</td>\n      <td>9C</td>\n      <td>10S</td>\n      <td></td>\n      <td></td>\n      <td></td>\n      <td>[12S, 13D, 10H, 14S, 9S, 11D]</td>\n      <td>[12S, 13D, 11D]</td>\n      <td>3</td>\n      <td>[10H, 14S, 9S]</td>\n      <td>3</td>\n    </tr>\n    <tr>\n      <th>1</th>\n      <td>TomJ</td>\n      <td>11S</td>\n      <td>12H</td>\n      <td>7C</td>\n      <td>7S</td>\n      <td>8H</td>\n      <td>13C</td>\n      <td>-2</td>\n      <td>2256008</td>\n      <td>no</td>\n      <td>...</td>\n      <td>9C</td>\n      <td>10S</td>\n      <td></td>\n      <td></td>\n      <td></td>\n      <td>[11S, 12H, 7C, 7S, 8H, 13C]</td>\n      <td>[11S, 12H]</td>\n      <td>2</td>\n      <td>[7C, 7S, 8H, 13C]</td>\n      <td>4</td>\n    </tr>\n    <tr>\n      <th>2</th>\n      <td>cardguy44</td>\n      <td>8D</td>\n      <td>12C</td>\n      <td>8C</td>\n      <td>13S</td>\n      <td>7H</td>\n      <td>9H</td>\n      <td>-2</td>\n      <td>2256008</td>\n      <td>no</td>\n      <td>...</td>\n      <td>9C</td>\n      <td>10S</td>\n      <td></td>\n      <td></td>\n      <td></td>\n      <td>[8D, 12C, 8C, 13S, 7H, 9H]</td>\n      <td>[8D, 12C]</td>\n      <td>2</td>\n      <td>[8C, 13S, 7H, 9H]</td>\n      <td>4</td>\n    </tr>\n    <tr>\n      <th>3</th>\n      <td>Grandpaken78</td>\n      <td>14D</td>\n      <td>11H</td>\n      <td>14C</td>\n      <td>13H</td>\n      <td>10C</td>\n      <td>14H</td>\n      <td>-2</td>\n      <td>2256008</td>\n      <td>no</td>\n      <td>...</td>\n      <td>9C</td>\n      <td>10S</td>\n      <td></td>\n      <td></td>\n      <td></td>\n      <td>[14D, 11H, 14C, 13H, 10C, 14H]</td>\n      <td>[14D, 11H]</td>\n      <td>2</td>\n      <td>[14C, 13H, 10C, 14H]</td>\n      <td>4</td>\n    </tr>\n    <tr>\n      <th>4</th>\n      <td>Steven Strelow</td>\n      <td>7D</td>\n      <td>9D</td>\n      <td>10D</td>\n      <td>8S</td>\n      <td>11C</td>\n      <td>12D</td>\n      <td>4</td>\n      <td>2256008</td>\n      <td>picker</td>\n      <td>...</td>\n      <td>9C</td>\n      <td>10S</td>\n      <td></td>\n      <td></td>\n      <td></td>\n      <td>[7D, 9D, 10D, 8S, 11C, 12D]</td>\n      <td>[7D, 9D, 10D, 11C, 12D]</td>\n      <td>5</td>\n      <td>[8S]</td>\n      <td>1</td>\n    </tr>\n  </tbody>\n</table>\n<p>35 rows × 37 columns</p>\n</div>"
     },
     "metadata": {},
     "execution_count": 132
    },
    {
     "output_type": "stream",
     "name": "stdout",
     "text": [
      "time: 60.7 ms\nIn [132] used 0.0000 MiB RAM in 0.17s, peaked 0.00 MiB above current, total RAM usage 207.43 MiB\n"
     ]
    }
   ],
   "source": [
    "dfa"
   ]
  },
  {
   "cell_type": "code",
   "execution_count": 150,
   "metadata": {},
   "outputs": [
    {
     "output_type": "stream",
     "name": "stdout",
     "text": [
      "time: 2.48 ms\nIn [150] used 0.0000 MiB RAM in 0.11s, peaked 0.00 MiB above current, total RAM usage 208.95 MiB\n"
     ]
    }
   ],
   "source": [
    "dfa['heldpoints'] = dfa['cards'].apply(lambda x: sum([pointvalues[i] for i in x]))"
   ]
  },
  {
   "cell_type": "code",
   "execution_count": 151,
   "metadata": {},
   "outputs": [
    {
     "output_type": "execute_result",
     "data": {
      "text/plain": [
       "               name    1    2    3    4    5    6  score   handid   picker  \\\n",
       "0            jturba   8H  12C  14H  13D   9C  13C      2  2256000   picker   \n",
       "1        Jungle jim   9S   8D  13H  11C  12S   9H     -1  2256000       no   \n",
       "2            jcardo  14S   7D   7H  10C  13S   8C     -1  2256000       no   \n",
       "3          robyinko  11D  12H  11S   9D  11H  12D      1  2256000  partner   \n",
       "4           shipdog   7S  10D  10H  14D  14C   7C     -1  2256000       no   \n",
       "0       plays sheep   8C  14D   8D  13C  10H  10S     -6  2256002       no   \n",
       "1        scottstern   9C  11S  12D   9H  13S  14H     -6  2256002       no   \n",
       "2       Mary Kuhlow  14C  10D  12H  13D  11C  11D      6  2256002  partner   \n",
       "3         kibittzer   7D  12S   9D  12C  11H  13H     12  2256002   picker   \n",
       "4     dingleberries   7C   7H  14S   8H   8S   9S     -6  2256002       no   \n",
       "0             agman   8D   9D   9H  10D   7C   9C     -3  2256004       no   \n",
       "1              TomJ  11C   8H  10H  13S  10C  10S     -3  2256004       no   \n",
       "2         cardguy44  12H   7S   7H   8C  14C  13H     -3  2256004       no   \n",
       "3      Grandpaken78  12C   7D  14D  11S  13D  11H      6  2256004   picker   \n",
       "4    Steven Strelow  11D  12S  14H  12D  13C   9S      3  2256004  partner   \n",
       "0          jo jjmrs  10S  11D  13H  14D   9H   8H      1  2256005  partner   \n",
       "1           DotJake   8S  10D  12H   9C  14C  12C     -1  2256005       no   \n",
       "2     schmidtmichaj  13S  11C  14S   8C   7H   9D     -1  2256005       no   \n",
       "3     officials Jim  13D   7D  11H   7C  12D   8D      2  2256005   picker   \n",
       "4         Daisy1120   7S  11S   9S  10C  14H  12S     -1  2256005       no   \n",
       "0         tvretired  13D   8H  11D  12C  12S  10H     16  2256006   picker   \n",
       "1        david cole  10D   7H  14S  11C  13H  14H     -4  2256006       no   \n",
       "2     merchantnater  13C   9H   8S   7D  11S   9S     -4  2256006       no   \n",
       "3       JimBobWilly   7C   8C  13S  11H  14D  12H     -4  2256006       no   \n",
       "4  jordan mariposas   9C  12D  10S   8D   9D   7S     -4  2256006       no   \n",
       "0    blueislandgirl  12C   8D  14D  11H   9C   7C      6  2256007   picker   \n",
       "1            island  13D  10D  11S  10S   7H   8H     -3  2256007       no   \n",
       "2         Schneider  12D  13C   8C   7S   8S   9S     -3  2256007       no   \n",
       "3           barry g  12S   9H  13H  14S  14C  10H     -3  2256007       no   \n",
       "4            CTWIFL   7D  11D  12H  13S   9D  11C      3  2256007  partner   \n",
       "0             agman  12S  13D  10H  14S   9S  11D      2  2256008  partner   \n",
       "1              TomJ  11S  12H   7C   7S   8H  13C     -2  2256008       no   \n",
       "2         cardguy44   8D  12C   8C  13S   7H   9H     -2  2256008       no   \n",
       "3      Grandpaken78  14D  11H  14C  13H  10C  14H     -2  2256008       no   \n",
       "4    Steven Strelow   7D   9D  10D   8S  11C  12D      4  2256008   picker   \n",
       "\n",
       "   ... bury2  call_ace  ace_suit  leaster                           cards  \\\n",
       "0  ...   10S                                 [8H, 12C, 14H, 13D, 9C, 13C]   \n",
       "1  ...   10S                                  [9S, 8D, 13H, 11C, 12S, 9H]   \n",
       "2  ...   10S                                  [14S, 7D, 7H, 10C, 13S, 8C]   \n",
       "3  ...   10S                                [11D, 12H, 11S, 9D, 11H, 12D]   \n",
       "4  ...   10S                                 [7S, 10D, 10H, 14D, 14C, 7C]   \n",
       "0  ...    7S                                 [8C, 14D, 8D, 13C, 10H, 10S]   \n",
       "1  ...    7S                                 [9C, 11S, 12D, 9H, 13S, 14H]   \n",
       "2  ...    7S                               [14C, 10D, 12H, 13D, 11C, 11D]   \n",
       "3  ...    7S                                 [7D, 12S, 9D, 12C, 11H, 13H]   \n",
       "4  ...    7S                                    [7C, 7H, 14S, 8H, 8S, 9S]   \n",
       "0  ...    8S                                    [8D, 9D, 9H, 10D, 7C, 9C]   \n",
       "1  ...    8S                                [11C, 8H, 10H, 13S, 10C, 10S]   \n",
       "2  ...    8S                                  [12H, 7S, 7H, 8C, 14C, 13H]   \n",
       "3  ...    8S                                [12C, 7D, 14D, 11S, 13D, 11H]   \n",
       "4  ...    8S                                [11D, 12S, 14H, 12D, 13C, 9S]   \n",
       "0  ...   10H                                 [10S, 11D, 13H, 14D, 9H, 8H]   \n",
       "1  ...   10H                                 [8S, 10D, 12H, 9C, 14C, 12C]   \n",
       "2  ...   10H                                  [13S, 11C, 14S, 8C, 7H, 9D]   \n",
       "3  ...   10H                                  [13D, 7D, 11H, 7C, 12D, 8D]   \n",
       "4  ...   10H                                 [7S, 11S, 9S, 10C, 14H, 12S]   \n",
       "0  ...   10C                                [13D, 8H, 11D, 12C, 12S, 10H]   \n",
       "1  ...   10C                                [10D, 7H, 14S, 11C, 13H, 14H]   \n",
       "2  ...   10C                                   [13C, 9H, 8S, 7D, 11S, 9S]   \n",
       "3  ...   10C                                 [7C, 8C, 13S, 11H, 14D, 12H]   \n",
       "4  ...   10C                                   [9C, 12D, 10S, 8D, 9D, 7S]   \n",
       "0  ...   14H                                  [12C, 8D, 14D, 11H, 9C, 7C]   \n",
       "1  ...   14H                                 [13D, 10D, 11S, 10S, 7H, 8H]   \n",
       "2  ...   14H                                   [12D, 13C, 8C, 7S, 8S, 9S]   \n",
       "3  ...   14H                                [12S, 9H, 13H, 14S, 14C, 10H]   \n",
       "4  ...   14H                                 [7D, 11D, 12H, 13S, 9D, 11C]   \n",
       "0  ...   10S                                [12S, 13D, 10H, 14S, 9S, 11D]   \n",
       "1  ...   10S                                  [11S, 12H, 7C, 7S, 8H, 13C]   \n",
       "2  ...   10S                                   [8D, 12C, 8C, 13S, 7H, 9H]   \n",
       "3  ...   10S                               [14D, 11H, 14C, 13H, 10C, 14H]   \n",
       "4  ...   10S                                  [7D, 9D, 10D, 8S, 11C, 12D]   \n",
       "\n",
       "                           trump  trumpcount                       fail  \\\n",
       "0                     [12C, 13D]           2         [8H, 14H, 9C, 13C]   \n",
       "1                 [8D, 11C, 12S]           3              [9S, 13H, 9H]   \n",
       "2                           [7D]           1    [14S, 7H, 10C, 13S, 8C]   \n",
       "3  [11D, 12H, 11S, 9D, 11H, 12D]           6                         []   \n",
       "4                     [10D, 14D]           2         [7S, 10H, 14C, 7C]   \n",
       "0                      [14D, 8D]           2        [8C, 13C, 10H, 10S]   \n",
       "1                     [11S, 12D]           2         [9C, 9H, 13S, 14H]   \n",
       "2      [10D, 12H, 13D, 11C, 11D]           5                      [14C]   \n",
       "3        [7D, 12S, 9D, 12C, 11H]           5                      [13H]   \n",
       "4                             []           0  [7C, 7H, 14S, 8H, 8S, 9S]   \n",
       "0                  [8D, 9D, 10D]           3               [9H, 7C, 9C]   \n",
       "1                          [11C]           1   [8H, 10H, 13S, 10C, 10S]   \n",
       "2                          [12H]           1     [7S, 7H, 8C, 14C, 13H]   \n",
       "3  [12C, 7D, 14D, 11S, 13D, 11H]           6                         []   \n",
       "4                [11D, 12S, 12D]           3             [14H, 13C, 9S]   \n",
       "0                     [11D, 14D]           2         [10S, 13H, 9H, 8H]   \n",
       "1                [10D, 12H, 12C]           3              [8S, 9C, 14C]   \n",
       "2                      [11C, 9D]           2         [13S, 14S, 8C, 7H]   \n",
       "3        [13D, 7D, 11H, 12D, 8D]           5                       [7C]   \n",
       "4                     [11S, 12S]           2         [7S, 9S, 10C, 14H]   \n",
       "0           [13D, 11D, 12C, 12S]           4                  [8H, 10H]   \n",
       "1                     [10D, 11C]           2        [7H, 14S, 13H, 14H]   \n",
       "2                      [7D, 11S]           2          [13C, 9H, 8S, 9S]   \n",
       "3                [11H, 14D, 12H]           3              [7C, 8C, 13S]   \n",
       "4                  [12D, 8D, 9D]           3              [9C, 10S, 7S]   \n",
       "0            [12C, 8D, 14D, 11H]           4                   [9C, 7C]   \n",
       "1                [13D, 10D, 11S]           3              [10S, 7H, 8H]   \n",
       "2                          [12D]           1      [13C, 8C, 7S, 8S, 9S]   \n",
       "3                          [12S]           1   [9H, 13H, 14S, 14C, 10H]   \n",
       "4        [7D, 11D, 12H, 9D, 11C]           5                      [13S]   \n",
       "0                [12S, 13D, 11D]           3             [10H, 14S, 9S]   \n",
       "1                     [11S, 12H]           2          [7C, 7S, 8H, 13C]   \n",
       "2                      [8D, 12C]           2          [8C, 13S, 7H, 9H]   \n",
       "3                     [14D, 11H]           2       [14C, 13H, 10C, 14H]   \n",
       "4        [7D, 9D, 10D, 11C, 12D]           5                       [8S]   \n",
       "\n",
       "   failcount  heldpoints  \n",
       "0          4          22  \n",
       "1          3           9  \n",
       "2          5          25  \n",
       "3          0          12  \n",
       "4          4          42  \n",
       "0          4          35  \n",
       "1          4          20  \n",
       "2          1          32  \n",
       "3          1          12  \n",
       "4          6          11  \n",
       "0          3          10  \n",
       "1          5          36  \n",
       "2          5          18  \n",
       "3          0          22  \n",
       "4          3          23  \n",
       "0          4          27  \n",
       "1          3          27  \n",
       "2          4          17  \n",
       "3          1           9  \n",
       "4          4          26  \n",
       "0          2          22  \n",
       "1          4          38  \n",
       "2          4           6  \n",
       "3          3          20  \n",
       "4          3          13  \n",
       "0          2          16  \n",
       "1          3          26  \n",
       "2          5           7  \n",
       "3          5          39  \n",
       "4          1          11  \n",
       "0          3          30  \n",
       "1          4           9  \n",
       "2          4           7  \n",
       "3          4          49  \n",
       "4          1          15  \n",
       "\n",
       "[35 rows x 38 columns]"
      ],
      "text/html": "<div>\n<style scoped>\n    .dataframe tbody tr th:only-of-type {\n        vertical-align: middle;\n    }\n\n    .dataframe tbody tr th {\n        vertical-align: top;\n    }\n\n    .dataframe thead th {\n        text-align: right;\n    }\n</style>\n<table border=\"1\" class=\"dataframe\">\n  <thead>\n    <tr style=\"text-align: right;\">\n      <th></th>\n      <th>name</th>\n      <th>1</th>\n      <th>2</th>\n      <th>3</th>\n      <th>4</th>\n      <th>5</th>\n      <th>6</th>\n      <th>score</th>\n      <th>handid</th>\n      <th>picker</th>\n      <th>...</th>\n      <th>bury2</th>\n      <th>call_ace</th>\n      <th>ace_suit</th>\n      <th>leaster</th>\n      <th>cards</th>\n      <th>trump</th>\n      <th>trumpcount</th>\n      <th>fail</th>\n      <th>failcount</th>\n      <th>heldpoints</th>\n    </tr>\n  </thead>\n  <tbody>\n    <tr>\n      <th>0</th>\n      <td>jturba</td>\n      <td>8H</td>\n      <td>12C</td>\n      <td>14H</td>\n      <td>13D</td>\n      <td>9C</td>\n      <td>13C</td>\n      <td>2</td>\n      <td>2256000</td>\n      <td>picker</td>\n      <td>...</td>\n      <td>10S</td>\n      <td></td>\n      <td></td>\n      <td></td>\n      <td>[8H, 12C, 14H, 13D, 9C, 13C]</td>\n      <td>[12C, 13D]</td>\n      <td>2</td>\n      <td>[8H, 14H, 9C, 13C]</td>\n      <td>4</td>\n      <td>22</td>\n    </tr>\n    <tr>\n      <th>1</th>\n      <td>Jungle jim</td>\n      <td>9S</td>\n      <td>8D</td>\n      <td>13H</td>\n      <td>11C</td>\n      <td>12S</td>\n      <td>9H</td>\n      <td>-1</td>\n      <td>2256000</td>\n      <td>no</td>\n      <td>...</td>\n      <td>10S</td>\n      <td></td>\n      <td></td>\n      <td></td>\n      <td>[9S, 8D, 13H, 11C, 12S, 9H]</td>\n      <td>[8D, 11C, 12S]</td>\n      <td>3</td>\n      <td>[9S, 13H, 9H]</td>\n      <td>3</td>\n      <td>9</td>\n    </tr>\n    <tr>\n      <th>2</th>\n      <td>jcardo</td>\n      <td>14S</td>\n      <td>7D</td>\n      <td>7H</td>\n      <td>10C</td>\n      <td>13S</td>\n      <td>8C</td>\n      <td>-1</td>\n      <td>2256000</td>\n      <td>no</td>\n      <td>...</td>\n      <td>10S</td>\n      <td></td>\n      <td></td>\n      <td></td>\n      <td>[14S, 7D, 7H, 10C, 13S, 8C]</td>\n      <td>[7D]</td>\n      <td>1</td>\n      <td>[14S, 7H, 10C, 13S, 8C]</td>\n      <td>5</td>\n      <td>25</td>\n    </tr>\n    <tr>\n      <th>3</th>\n      <td>robyinko</td>\n      <td>11D</td>\n      <td>12H</td>\n      <td>11S</td>\n      <td>9D</td>\n      <td>11H</td>\n      <td>12D</td>\n      <td>1</td>\n      <td>2256000</td>\n      <td>partner</td>\n      <td>...</td>\n      <td>10S</td>\n      <td></td>\n      <td></td>\n      <td></td>\n      <td>[11D, 12H, 11S, 9D, 11H, 12D]</td>\n      <td>[11D, 12H, 11S, 9D, 11H, 12D]</td>\n      <td>6</td>\n      <td>[]</td>\n      <td>0</td>\n      <td>12</td>\n    </tr>\n    <tr>\n      <th>4</th>\n      <td>shipdog</td>\n      <td>7S</td>\n      <td>10D</td>\n      <td>10H</td>\n      <td>14D</td>\n      <td>14C</td>\n      <td>7C</td>\n      <td>-1</td>\n      <td>2256000</td>\n      <td>no</td>\n      <td>...</td>\n      <td>10S</td>\n      <td></td>\n      <td></td>\n      <td></td>\n      <td>[7S, 10D, 10H, 14D, 14C, 7C]</td>\n      <td>[10D, 14D]</td>\n      <td>2</td>\n      <td>[7S, 10H, 14C, 7C]</td>\n      <td>4</td>\n      <td>42</td>\n    </tr>\n    <tr>\n      <th>0</th>\n      <td>plays sheep</td>\n      <td>8C</td>\n      <td>14D</td>\n      <td>8D</td>\n      <td>13C</td>\n      <td>10H</td>\n      <td>10S</td>\n      <td>-6</td>\n      <td>2256002</td>\n      <td>no</td>\n      <td>...</td>\n      <td>7S</td>\n      <td></td>\n      <td></td>\n      <td></td>\n      <td>[8C, 14D, 8D, 13C, 10H, 10S]</td>\n      <td>[14D, 8D]</td>\n      <td>2</td>\n      <td>[8C, 13C, 10H, 10S]</td>\n      <td>4</td>\n      <td>35</td>\n    </tr>\n    <tr>\n      <th>1</th>\n      <td>scottstern</td>\n      <td>9C</td>\n      <td>11S</td>\n      <td>12D</td>\n      <td>9H</td>\n      <td>13S</td>\n      <td>14H</td>\n      <td>-6</td>\n      <td>2256002</td>\n      <td>no</td>\n      <td>...</td>\n      <td>7S</td>\n      <td></td>\n      <td></td>\n      <td></td>\n      <td>[9C, 11S, 12D, 9H, 13S, 14H]</td>\n      <td>[11S, 12D]</td>\n      <td>2</td>\n      <td>[9C, 9H, 13S, 14H]</td>\n      <td>4</td>\n      <td>20</td>\n    </tr>\n    <tr>\n      <th>2</th>\n      <td>Mary Kuhlow</td>\n      <td>14C</td>\n      <td>10D</td>\n      <td>12H</td>\n      <td>13D</td>\n      <td>11C</td>\n      <td>11D</td>\n      <td>6</td>\n      <td>2256002</td>\n      <td>partner</td>\n      <td>...</td>\n      <td>7S</td>\n      <td></td>\n      <td></td>\n      <td></td>\n      <td>[14C, 10D, 12H, 13D, 11C, 11D]</td>\n      <td>[10D, 12H, 13D, 11C, 11D]</td>\n      <td>5</td>\n      <td>[14C]</td>\n      <td>1</td>\n      <td>32</td>\n    </tr>\n    <tr>\n      <th>3</th>\n      <td>kibittzer</td>\n      <td>7D</td>\n      <td>12S</td>\n      <td>9D</td>\n      <td>12C</td>\n      <td>11H</td>\n      <td>13H</td>\n      <td>12</td>\n      <td>2256002</td>\n      <td>picker</td>\n      <td>...</td>\n      <td>7S</td>\n      <td></td>\n      <td></td>\n      <td></td>\n      <td>[7D, 12S, 9D, 12C, 11H, 13H]</td>\n      <td>[7D, 12S, 9D, 12C, 11H]</td>\n      <td>5</td>\n      <td>[13H]</td>\n      <td>1</td>\n      <td>12</td>\n    </tr>\n    <tr>\n      <th>4</th>\n      <td>dingleberries</td>\n      <td>7C</td>\n      <td>7H</td>\n      <td>14S</td>\n      <td>8H</td>\n      <td>8S</td>\n      <td>9S</td>\n      <td>-6</td>\n      <td>2256002</td>\n      <td>no</td>\n      <td>...</td>\n      <td>7S</td>\n      <td></td>\n      <td></td>\n      <td></td>\n      <td>[7C, 7H, 14S, 8H, 8S, 9S]</td>\n      <td>[]</td>\n      <td>0</td>\n      <td>[7C, 7H, 14S, 8H, 8S, 9S]</td>\n      <td>6</td>\n      <td>11</td>\n    </tr>\n    <tr>\n      <th>0</th>\n      <td>agman</td>\n      <td>8D</td>\n      <td>9D</td>\n      <td>9H</td>\n      <td>10D</td>\n      <td>7C</td>\n      <td>9C</td>\n      <td>-3</td>\n      <td>2256004</td>\n      <td>no</td>\n      <td>...</td>\n      <td>8S</td>\n      <td></td>\n      <td></td>\n      <td></td>\n      <td>[8D, 9D, 9H, 10D, 7C, 9C]</td>\n      <td>[8D, 9D, 10D]</td>\n      <td>3</td>\n      <td>[9H, 7C, 9C]</td>\n      <td>3</td>\n      <td>10</td>\n    </tr>\n    <tr>\n      <th>1</th>\n      <td>TomJ</td>\n      <td>11C</td>\n      <td>8H</td>\n      <td>10H</td>\n      <td>13S</td>\n      <td>10C</td>\n      <td>10S</td>\n      <td>-3</td>\n      <td>2256004</td>\n      <td>no</td>\n      <td>...</td>\n      <td>8S</td>\n      <td></td>\n      <td></td>\n      <td></td>\n      <td>[11C, 8H, 10H, 13S, 10C, 10S]</td>\n      <td>[11C]</td>\n      <td>1</td>\n      <td>[8H, 10H, 13S, 10C, 10S]</td>\n      <td>5</td>\n      <td>36</td>\n    </tr>\n    <tr>\n      <th>2</th>\n      <td>cardguy44</td>\n      <td>12H</td>\n      <td>7S</td>\n      <td>7H</td>\n      <td>8C</td>\n      <td>14C</td>\n      <td>13H</td>\n      <td>-3</td>\n      <td>2256004</td>\n      <td>no</td>\n      <td>...</td>\n      <td>8S</td>\n      <td></td>\n      <td></td>\n      <td></td>\n      <td>[12H, 7S, 7H, 8C, 14C, 13H]</td>\n      <td>[12H]</td>\n      <td>1</td>\n      <td>[7S, 7H, 8C, 14C, 13H]</td>\n      <td>5</td>\n      <td>18</td>\n    </tr>\n    <tr>\n      <th>3</th>\n      <td>Grandpaken78</td>\n      <td>12C</td>\n      <td>7D</td>\n      <td>14D</td>\n      <td>11S</td>\n      <td>13D</td>\n      <td>11H</td>\n      <td>6</td>\n      <td>2256004</td>\n      <td>picker</td>\n      <td>...</td>\n      <td>8S</td>\n      <td></td>\n      <td></td>\n      <td></td>\n      <td>[12C, 7D, 14D, 11S, 13D, 11H]</td>\n      <td>[12C, 7D, 14D, 11S, 13D, 11H]</td>\n      <td>6</td>\n      <td>[]</td>\n      <td>0</td>\n      <td>22</td>\n    </tr>\n    <tr>\n      <th>4</th>\n      <td>Steven Strelow</td>\n      <td>11D</td>\n      <td>12S</td>\n      <td>14H</td>\n      <td>12D</td>\n      <td>13C</td>\n      <td>9S</td>\n      <td>3</td>\n      <td>2256004</td>\n      <td>partner</td>\n      <td>...</td>\n      <td>8S</td>\n      <td></td>\n      <td></td>\n      <td></td>\n      <td>[11D, 12S, 14H, 12D, 13C, 9S]</td>\n      <td>[11D, 12S, 12D]</td>\n      <td>3</td>\n      <td>[14H, 13C, 9S]</td>\n      <td>3</td>\n      <td>23</td>\n    </tr>\n    <tr>\n      <th>0</th>\n      <td>jo jjmrs</td>\n      <td>10S</td>\n      <td>11D</td>\n      <td>13H</td>\n      <td>14D</td>\n      <td>9H</td>\n      <td>8H</td>\n      <td>1</td>\n      <td>2256005</td>\n      <td>partner</td>\n      <td>...</td>\n      <td>10H</td>\n      <td></td>\n      <td></td>\n      <td></td>\n      <td>[10S, 11D, 13H, 14D, 9H, 8H]</td>\n      <td>[11D, 14D]</td>\n      <td>2</td>\n      <td>[10S, 13H, 9H, 8H]</td>\n      <td>4</td>\n      <td>27</td>\n    </tr>\n    <tr>\n      <th>1</th>\n      <td>DotJake</td>\n      <td>8S</td>\n      <td>10D</td>\n      <td>12H</td>\n      <td>9C</td>\n      <td>14C</td>\n      <td>12C</td>\n      <td>-1</td>\n      <td>2256005</td>\n      <td>no</td>\n      <td>...</td>\n      <td>10H</td>\n      <td></td>\n      <td></td>\n      <td></td>\n      <td>[8S, 10D, 12H, 9C, 14C, 12C]</td>\n      <td>[10D, 12H, 12C]</td>\n      <td>3</td>\n      <td>[8S, 9C, 14C]</td>\n      <td>3</td>\n      <td>27</td>\n    </tr>\n    <tr>\n      <th>2</th>\n      <td>schmidtmichaj</td>\n      <td>13S</td>\n      <td>11C</td>\n      <td>14S</td>\n      <td>8C</td>\n      <td>7H</td>\n      <td>9D</td>\n      <td>-1</td>\n      <td>2256005</td>\n      <td>no</td>\n      <td>...</td>\n      <td>10H</td>\n      <td></td>\n      <td></td>\n      <td></td>\n      <td>[13S, 11C, 14S, 8C, 7H, 9D]</td>\n      <td>[11C, 9D]</td>\n      <td>2</td>\n      <td>[13S, 14S, 8C, 7H]</td>\n      <td>4</td>\n      <td>17</td>\n    </tr>\n    <tr>\n      <th>3</th>\n      <td>officials Jim</td>\n      <td>13D</td>\n      <td>7D</td>\n      <td>11H</td>\n      <td>7C</td>\n      <td>12D</td>\n      <td>8D</td>\n      <td>2</td>\n      <td>2256005</td>\n      <td>picker</td>\n      <td>...</td>\n      <td>10H</td>\n      <td></td>\n      <td></td>\n      <td></td>\n      <td>[13D, 7D, 11H, 7C, 12D, 8D]</td>\n      <td>[13D, 7D, 11H, 12D, 8D]</td>\n      <td>5</td>\n      <td>[7C]</td>\n      <td>1</td>\n      <td>9</td>\n    </tr>\n    <tr>\n      <th>4</th>\n      <td>Daisy1120</td>\n      <td>7S</td>\n      <td>11S</td>\n      <td>9S</td>\n      <td>10C</td>\n      <td>14H</td>\n      <td>12S</td>\n      <td>-1</td>\n      <td>2256005</td>\n      <td>no</td>\n      <td>...</td>\n      <td>10H</td>\n      <td></td>\n      <td></td>\n      <td></td>\n      <td>[7S, 11S, 9S, 10C, 14H, 12S]</td>\n      <td>[11S, 12S]</td>\n      <td>2</td>\n      <td>[7S, 9S, 10C, 14H]</td>\n      <td>4</td>\n      <td>26</td>\n    </tr>\n    <tr>\n      <th>0</th>\n      <td>tvretired</td>\n      <td>13D</td>\n      <td>8H</td>\n      <td>11D</td>\n      <td>12C</td>\n      <td>12S</td>\n      <td>10H</td>\n      <td>16</td>\n      <td>2256006</td>\n      <td>picker</td>\n      <td>...</td>\n      <td>10C</td>\n      <td></td>\n      <td></td>\n      <td></td>\n      <td>[13D, 8H, 11D, 12C, 12S, 10H]</td>\n      <td>[13D, 11D, 12C, 12S]</td>\n      <td>4</td>\n      <td>[8H, 10H]</td>\n      <td>2</td>\n      <td>22</td>\n    </tr>\n    <tr>\n      <th>1</th>\n      <td>david cole</td>\n      <td>10D</td>\n      <td>7H</td>\n      <td>14S</td>\n      <td>11C</td>\n      <td>13H</td>\n      <td>14H</td>\n      <td>-4</td>\n      <td>2256006</td>\n      <td>no</td>\n      <td>...</td>\n      <td>10C</td>\n      <td></td>\n      <td></td>\n      <td></td>\n      <td>[10D, 7H, 14S, 11C, 13H, 14H]</td>\n      <td>[10D, 11C]</td>\n      <td>2</td>\n      <td>[7H, 14S, 13H, 14H]</td>\n      <td>4</td>\n      <td>38</td>\n    </tr>\n    <tr>\n      <th>2</th>\n      <td>merchantnater</td>\n      <td>13C</td>\n      <td>9H</td>\n      <td>8S</td>\n      <td>7D</td>\n      <td>11S</td>\n      <td>9S</td>\n      <td>-4</td>\n      <td>2256006</td>\n      <td>no</td>\n      <td>...</td>\n      <td>10C</td>\n      <td></td>\n      <td></td>\n      <td></td>\n      <td>[13C, 9H, 8S, 7D, 11S, 9S]</td>\n      <td>[7D, 11S]</td>\n      <td>2</td>\n      <td>[13C, 9H, 8S, 9S]</td>\n      <td>4</td>\n      <td>6</td>\n    </tr>\n    <tr>\n      <th>3</th>\n      <td>JimBobWilly</td>\n      <td>7C</td>\n      <td>8C</td>\n      <td>13S</td>\n      <td>11H</td>\n      <td>14D</td>\n      <td>12H</td>\n      <td>-4</td>\n      <td>2256006</td>\n      <td>no</td>\n      <td>...</td>\n      <td>10C</td>\n      <td></td>\n      <td></td>\n      <td></td>\n      <td>[7C, 8C, 13S, 11H, 14D, 12H]</td>\n      <td>[11H, 14D, 12H]</td>\n      <td>3</td>\n      <td>[7C, 8C, 13S]</td>\n      <td>3</td>\n      <td>20</td>\n    </tr>\n    <tr>\n      <th>4</th>\n      <td>jordan mariposas</td>\n      <td>9C</td>\n      <td>12D</td>\n      <td>10S</td>\n      <td>8D</td>\n      <td>9D</td>\n      <td>7S</td>\n      <td>-4</td>\n      <td>2256006</td>\n      <td>no</td>\n      <td>...</td>\n      <td>10C</td>\n      <td></td>\n      <td></td>\n      <td></td>\n      <td>[9C, 12D, 10S, 8D, 9D, 7S]</td>\n      <td>[12D, 8D, 9D]</td>\n      <td>3</td>\n      <td>[9C, 10S, 7S]</td>\n      <td>3</td>\n      <td>13</td>\n    </tr>\n    <tr>\n      <th>0</th>\n      <td>blueislandgirl</td>\n      <td>12C</td>\n      <td>8D</td>\n      <td>14D</td>\n      <td>11H</td>\n      <td>9C</td>\n      <td>7C</td>\n      <td>6</td>\n      <td>2256007</td>\n      <td>picker</td>\n      <td>...</td>\n      <td>14H</td>\n      <td></td>\n      <td></td>\n      <td></td>\n      <td>[12C, 8D, 14D, 11H, 9C, 7C]</td>\n      <td>[12C, 8D, 14D, 11H]</td>\n      <td>4</td>\n      <td>[9C, 7C]</td>\n      <td>2</td>\n      <td>16</td>\n    </tr>\n    <tr>\n      <th>1</th>\n      <td>island</td>\n      <td>13D</td>\n      <td>10D</td>\n      <td>11S</td>\n      <td>10S</td>\n      <td>7H</td>\n      <td>8H</td>\n      <td>-3</td>\n      <td>2256007</td>\n      <td>no</td>\n      <td>...</td>\n      <td>14H</td>\n      <td></td>\n      <td></td>\n      <td></td>\n      <td>[13D, 10D, 11S, 10S, 7H, 8H]</td>\n      <td>[13D, 10D, 11S]</td>\n      <td>3</td>\n      <td>[10S, 7H, 8H]</td>\n      <td>3</td>\n      <td>26</td>\n    </tr>\n    <tr>\n      <th>2</th>\n      <td>Schneider</td>\n      <td>12D</td>\n      <td>13C</td>\n      <td>8C</td>\n      <td>7S</td>\n      <td>8S</td>\n      <td>9S</td>\n      <td>-3</td>\n      <td>2256007</td>\n      <td>no</td>\n      <td>...</td>\n      <td>14H</td>\n      <td></td>\n      <td></td>\n      <td></td>\n      <td>[12D, 13C, 8C, 7S, 8S, 9S]</td>\n      <td>[12D]</td>\n      <td>1</td>\n      <td>[13C, 8C, 7S, 8S, 9S]</td>\n      <td>5</td>\n      <td>7</td>\n    </tr>\n    <tr>\n      <th>3</th>\n      <td>barry g</td>\n      <td>12S</td>\n      <td>9H</td>\n      <td>13H</td>\n      <td>14S</td>\n      <td>14C</td>\n      <td>10H</td>\n      <td>-3</td>\n      <td>2256007</td>\n      <td>no</td>\n      <td>...</td>\n      <td>14H</td>\n      <td></td>\n      <td></td>\n      <td></td>\n      <td>[12S, 9H, 13H, 14S, 14C, 10H]</td>\n      <td>[12S]</td>\n      <td>1</td>\n      <td>[9H, 13H, 14S, 14C, 10H]</td>\n      <td>5</td>\n      <td>39</td>\n    </tr>\n    <tr>\n      <th>4</th>\n      <td>CTWIFL</td>\n      <td>7D</td>\n      <td>11D</td>\n      <td>12H</td>\n      <td>13S</td>\n      <td>9D</td>\n      <td>11C</td>\n      <td>3</td>\n      <td>2256007</td>\n      <td>partner</td>\n      <td>...</td>\n      <td>14H</td>\n      <td></td>\n      <td></td>\n      <td></td>\n      <td>[7D, 11D, 12H, 13S, 9D, 11C]</td>\n      <td>[7D, 11D, 12H, 9D, 11C]</td>\n      <td>5</td>\n      <td>[13S]</td>\n      <td>1</td>\n      <td>11</td>\n    </tr>\n    <tr>\n      <th>0</th>\n      <td>agman</td>\n      <td>12S</td>\n      <td>13D</td>\n      <td>10H</td>\n      <td>14S</td>\n      <td>9S</td>\n      <td>11D</td>\n      <td>2</td>\n      <td>2256008</td>\n      <td>partner</td>\n      <td>...</td>\n      <td>10S</td>\n      <td></td>\n      <td></td>\n      <td></td>\n      <td>[12S, 13D, 10H, 14S, 9S, 11D]</td>\n      <td>[12S, 13D, 11D]</td>\n      <td>3</td>\n      <td>[10H, 14S, 9S]</td>\n      <td>3</td>\n      <td>30</td>\n    </tr>\n    <tr>\n      <th>1</th>\n      <td>TomJ</td>\n      <td>11S</td>\n      <td>12H</td>\n      <td>7C</td>\n      <td>7S</td>\n      <td>8H</td>\n      <td>13C</td>\n      <td>-2</td>\n      <td>2256008</td>\n      <td>no</td>\n      <td>...</td>\n      <td>10S</td>\n      <td></td>\n      <td></td>\n      <td></td>\n      <td>[11S, 12H, 7C, 7S, 8H, 13C]</td>\n      <td>[11S, 12H]</td>\n      <td>2</td>\n      <td>[7C, 7S, 8H, 13C]</td>\n      <td>4</td>\n      <td>9</td>\n    </tr>\n    <tr>\n      <th>2</th>\n      <td>cardguy44</td>\n      <td>8D</td>\n      <td>12C</td>\n      <td>8C</td>\n      <td>13S</td>\n      <td>7H</td>\n      <td>9H</td>\n      <td>-2</td>\n      <td>2256008</td>\n      <td>no</td>\n      <td>...</td>\n      <td>10S</td>\n      <td></td>\n      <td></td>\n      <td></td>\n      <td>[8D, 12C, 8C, 13S, 7H, 9H]</td>\n      <td>[8D, 12C]</td>\n      <td>2</td>\n      <td>[8C, 13S, 7H, 9H]</td>\n      <td>4</td>\n      <td>7</td>\n    </tr>\n    <tr>\n      <th>3</th>\n      <td>Grandpaken78</td>\n      <td>14D</td>\n      <td>11H</td>\n      <td>14C</td>\n      <td>13H</td>\n      <td>10C</td>\n      <td>14H</td>\n      <td>-2</td>\n      <td>2256008</td>\n      <td>no</td>\n      <td>...</td>\n      <td>10S</td>\n      <td></td>\n      <td></td>\n      <td></td>\n      <td>[14D, 11H, 14C, 13H, 10C, 14H]</td>\n      <td>[14D, 11H]</td>\n      <td>2</td>\n      <td>[14C, 13H, 10C, 14H]</td>\n      <td>4</td>\n      <td>49</td>\n    </tr>\n    <tr>\n      <th>4</th>\n      <td>Steven Strelow</td>\n      <td>7D</td>\n      <td>9D</td>\n      <td>10D</td>\n      <td>8S</td>\n      <td>11C</td>\n      <td>12D</td>\n      <td>4</td>\n      <td>2256008</td>\n      <td>picker</td>\n      <td>...</td>\n      <td>10S</td>\n      <td></td>\n      <td></td>\n      <td></td>\n      <td>[7D, 9D, 10D, 8S, 11C, 12D]</td>\n      <td>[7D, 9D, 10D, 11C, 12D]</td>\n      <td>5</td>\n      <td>[8S]</td>\n      <td>1</td>\n      <td>15</td>\n    </tr>\n  </tbody>\n</table>\n<p>35 rows × 38 columns</p>\n</div>"
     },
     "metadata": {},
     "execution_count": 151
    },
    {
     "output_type": "stream",
     "name": "stdout",
     "text": [
      "time: 57.2 ms\nIn [151] used 0.0352 MiB RAM in 0.16s, peaked 0.00 MiB above current, total RAM usage 208.98 MiB\n"
     ]
    }
   ],
   "source": [
    "dfa"
   ]
  }
 ]
}