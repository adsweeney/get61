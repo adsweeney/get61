{
 "cells": [
  {
   "cell_type": "code",
   "execution_count": 1,
   "metadata": {},
   "outputs": [],
   "source": [
    "# multipliers\n",
    "multipliers = dict(default = 1, no_schneider = 2, no_trick = 3, dob = 2, doubler = 2, blitz = 2, crack = 2, crack_back = 2, rb_crack = 4, base = 1, picker = 2)"
   ]
  },
  {
   "cell_type": "code",
   "execution_count": 2,
   "metadata": {},
   "outputs": [],
   "source": [
    "from bs4 import BeautifulSoup\n",
    "import requests\n",
    "# import time, os\n",
    "import re\n",
    "# import urllib\n",
    "# import json\n",
    "# from selenium import webdriver\n",
    "# from selenium.webdriver.common.keys import Keys\n",
    "import pandas as pd\n",
    "from datetime import datetime\n",
    "import numpy as np"
   ]
  },
  {
   "cell_type": "code",
   "execution_count": 3,
   "metadata": {},
   "outputs": [],
   "source": [
    "site = 'https://get61.com/hand_detail?handid=2268734'"
   ]
  },
  {
   "cell_type": "code",
   "execution_count": 4,
   "metadata": {},
   "outputs": [],
   "source": [
    "page = requests.get(site).text\n",
    "soup = BeautifulSoup(page, 'html5lib')"
   ]
  },
  {
   "cell_type": "code",
   "execution_count": 5,
   "metadata": {},
   "outputs": [],
   "source": [
    "cardre = re.compile('var play11')\n",
    "cards = soup.find(text=cardre)\n",
    "a = cards.split(';')\n",
    "a\n",
    "b = a[0].split(' ')"
   ]
  },
  {
   "cell_type": "code",
   "execution_count": 6,
   "metadata": {},
   "outputs": [
    {
     "output_type": "execute_result",
     "data": {
      "text/plain": "['\\nvar', 'play12', '=', '\"14C\"']"
     },
     "metadata": {},
     "execution_count": 6
    }
   ],
   "source": [
    "rounds = [i.split(' ') for i in a]\n",
    "rounds[1]"
   ]
  },
  {
   "cell_type": "code",
   "execution_count": 7,
   "metadata": {},
   "outputs": [],
   "source": [
    "playnum = [rounds[i][1] for i in range(30)]"
   ]
  },
  {
   "cell_type": "code",
   "execution_count": 8,
   "metadata": {},
   "outputs": [],
   "source": [
    "plays = [rounds[i][3].replace('\"', '') for i in range(30)]"
   ]
  },
  {
   "cell_type": "code",
   "execution_count": 9,
   "metadata": {},
   "outputs": [
    {
     "output_type": "execute_result",
     "data": {
      "text/plain": "['10H',\n '14C',\n '12H',\n '13C',\n '9S',\n '14H',\n '7H',\n '8H',\n '11C',\n '10S',\n '12C',\n '8S',\n '9H',\n '7C',\n '11D',\n '7D',\n '13D',\n '10D',\n '12D',\n '8C',\n '12S',\n '9C',\n '7S',\n '13S',\n '13H',\n '14D',\n '8D',\n '11S',\n '9D',\n '11H']"
     },
     "metadata": {},
     "execution_count": 9
    }
   ],
   "source": [
    "plays"
   ]
  },
  {
   "cell_type": "code",
   "execution_count": 23,
   "metadata": {},
   "outputs": [],
   "source": [
    "played = []\n",
    "for i in plays:\n",
    "    let = i.replace('11', 'J').replace('12', 'Q').replace('13', 'K').replace('14', 'A')\n",
    "    played.append(let)\n"
   ]
  },
  {
   "cell_type": "code",
   "execution_count": 53,
   "metadata": {},
   "outputs": [
    {
     "output_type": "execute_result",
     "data": {
      "text/plain": "['10H',\n 'AC',\n 'QH',\n 'KC',\n '9S',\n 'AH',\n '7H',\n '8H',\n 'JC',\n '10S',\n 'QC',\n '8S',\n '9H',\n '7C',\n 'JD',\n '7D',\n 'KD',\n '10D',\n 'QD',\n '8C',\n 'QS',\n '9C',\n '7S',\n 'KS',\n 'KH',\n 'AD',\n '8D',\n 'JS',\n '9D',\n 'JH']"
     },
     "metadata": {},
     "execution_count": 53
    }
   ],
   "source": []
  },
  {
   "cell_type": "code",
   "execution_count": 44,
   "metadata": {},
   "outputs": [],
   "source": [
    "hearts = [str(i).replace('11', 'J').replace('12', 'Q').replace('13', 'K').replace('14', 'A') + 'H' for i in range(7,15)]\n",
    "clubs = [str(i).replace('11', 'J').replace('12', 'Q').replace('13', 'K').replace('14', 'A')  + 'D' for i in range(7,15)]\n",
    "spades = [str(i).replace('11', 'J').replace('12', 'Q').replace('13', 'K').replace('14', 'A')  + 'S' for i in range(7,15)]\n",
    "diamonds = [str(i).replace('11', 'J').replace('12', 'Q').replace('13', 'K').replace('14', 'A')  + 'D' for i in range(7,15)]"
   ]
  },
  {
   "cell_type": "code",
   "execution_count": 39,
   "metadata": {},
   "outputs": [],
   "source": []
  },
  {
   "cell_type": "code",
   "execution_count": 33,
   "metadata": {},
   "outputs": [],
   "source": []
  },
  {
   "cell_type": "code",
   "execution_count": 47,
   "metadata": {},
   "outputs": [],
   "source": [
    "allcards = hearts + clubs + spades + diamonds"
   ]
  },
  {
   "cell_type": "code",
   "execution_count": 51,
   "metadata": {},
   "outputs": [],
   "source": [
    "points = dict(zip(allcards, values))"
   ]
  },
  {
   "cell_type": "code",
   "execution_count": 49,
   "metadata": {},
   "outputs": [],
   "source": [
    "values = [0, 0, 0, 10, 2, 3, 4, 11, 0, 0, 0, 10, 2, 3, 4, 11, 0, 0, 0, 10, 2, 3, 4, 11, 0, 0, 0, 10, 2, 3, 4, 11]"
   ]
  },
  {
   "cell_type": "code",
   "execution_count": 52,
   "metadata": {},
   "outputs": [
    {
     "output_type": "execute_result",
     "data": {
      "text/plain": "{'7H': 0,\n '8H': 0,\n '9H': 0,\n '10H': 10,\n 'JH': 2,\n 'QH': 3,\n 'KH': 4,\n 'AH': 11,\n '7D': 0,\n '8D': 0,\n '9D': 0,\n '10D': 10,\n 'JD': 2,\n 'QD': 3,\n 'KD': 4,\n 'AD': 11,\n '7S': 0,\n '8S': 0,\n '9S': 0,\n '10S': 10,\n 'JS': 2,\n 'QS': 3,\n 'KS': 4,\n 'AS': 11}"
     },
     "metadata": {},
     "execution_count": 52
    }
   ],
   "source": [
    "points\n"
   ]
  },
  {
   "cell_type": "code",
   "execution_count": 167,
   "metadata": {},
   "outputs": [
    {
     "data": {
      "text/plain": [
       "[['\\n\\nvar', 'leader1', '=', '\"4\"'],\n",
       " ['\\nvar', 'leader2', '=', '\"3\"'],\n",
       " ['\\nvar', 'leader3', '=', '\"4\"'],\n",
       " ['\\nvar', 'leader4', '=', '\"3\"'],\n",
       " ['\\nvar', 'leader5', '=', '\"4\"'],\n",
       " ['\\nvar', 'leader6', '=', '\"1\"']]"
      ]
     },
     "execution_count": 167,
     "metadata": {},
     "output_type": "execute_result"
    }
   ],
   "source": [
    "rounds[30:36]"
   ]
  },
  {
   "cell_type": "code",
   "execution_count": null,
   "metadata": {},
   "outputs": [],
   "source": []
  },
  {
   "cell_type": "code",
   "execution_count": 164,
   "metadata": {},
   "outputs": [],
   "source": [
    "# multipliers\n",
    "multipliers = dict(default = 1, no_schneider = 2, no_trick = 3, dob = 2, doubler = 2, blitz = 2, crack = 2, crack_back = 2, rb_crack = 4, base = 1, picker = 2)"
   ]
  },
  {
   "cell_type": "code",
   "execution_count": 165,
   "metadata": {},
   "outputs": [
    {
     "data": {
      "text/plain": [
       "{'default': 1,\n",
       " 'no_schneider': 2,\n",
       " 'no_trick': 3,\n",
       " 'dob': 2,\n",
       " 'doubler': 2,\n",
       " 'blitz': 2,\n",
       " 'crack': 2,\n",
       " 'crack_back': 2,\n",
       " 'rb_crack': 4,\n",
       " 'base': 1,\n",
       " 'picker': 2}"
      ]
     },
     "execution_count": 165,
     "metadata": {},
     "output_type": "execute_result"
    }
   ],
   "source": []
  },
  {
   "cell_type": "code",
   "execution_count": 172,
   "metadata": {},
   "outputs": [],
   "source": [
    "leads = [int(rounds[i][3].replace('\"', '')) for i in range(30, 36)]"
   ]
  },
  {
   "cell_type": "code",
   "execution_count": 181,
   "metadata": {},
   "outputs": [],
   "source": [
    "names = [rounds[i][3].replace('\"', '') for i in range(36, 41)]"
   ]
  },
  {
   "cell_type": "code",
   "execution_count": 178,
   "metadata": {},
   "outputs": [],
   "source": [
    "scores = [int(rounds[i][3].replace('\"', '')) for i in range(41, 46)]"
   ]
  },
  {
   "cell_type": "code",
   "execution_count": 180,
   "metadata": {},
   "outputs": [
    {
     "data": {
      "text/plain": [
       "[['\\n\\nvar', 'player1', '=', '\"Bert', 'Olson\"'],\n",
       " ['\\nvar', 'player2', '=', '\"Woller\"'],\n",
       " ['\\nvar', 'player3', '=', '\"Best', 'Looking', 'Guy', 'in', 'the', 'WVC\"'],\n",
       " ['\\nvar', 'player4', '=', '\"3SheepsToTheWind\"'],\n",
       " ['\\nvar', 'player5', '=', '\"KingCrab\"']]"
      ]
     },
     "execution_count": 180,
     "metadata": {},
     "output_type": "execute_result"
    }
   ],
   "source": [
    "rounds[36:41]"
   ]
  },
  {
   "cell_type": "code",
   "execution_count": 203,
   "metadata": {},
   "outputs": [],
   "source": [
    "nameslist = [row.split('=') for row in a[36:41]]"
   ]
  },
  {
   "cell_type": "code",
   "execution_count": 205,
   "metadata": {},
   "outputs": [
    {
     "data": {
      "text/plain": [
       "[['\\n\\nvar player1 ', ' \"Bert Olson\"'],\n",
       " ['\\nvar player2 ', ' \"Woller\"'],\n",
       " ['\\nvar player3 ', ' \"Best Looking Guy in the WVC\"'],\n",
       " ['\\nvar player4 ', ' \"3SheepsToTheWind\"'],\n",
       " ['\\nvar player5 ', ' \"KingCrab\"']]"
      ]
     },
     "execution_count": 205,
     "metadata": {},
     "output_type": "execute_result"
    }
   ],
   "source": []
  },
  {
   "cell_type": "code",
   "execution_count": 209,
   "metadata": {},
   "outputs": [],
   "source": [
    "names = [nameslist[row][1].strip().replace('\"', '') for row in range(5)]"
   ]
  },
  {
   "cell_type": "code",
   "execution_count": 211,
   "metadata": {},
   "outputs": [
    {
     "data": {
      "text/plain": [
       "['Bert Olson',\n",
       " 'Woller',\n",
       " 'Best Looking Guy in the WVC',\n",
       " '3SheepsToTheWind',\n",
       " 'KingCrab']"
      ]
     },
     "execution_count": 211,
     "metadata": {},
     "output_type": "execute_result"
    }
   ],
   "source": [
    "names"
   ]
  },
  {
   "cell_type": "code",
   "execution_count": 200,
   "metadata": {},
   "outputs": [],
   "source": [
    "nameslist = [row.split('=') for row in a[36:41]]"
   ]
  },
  {
   "cell_type": "code",
   "execution_count": 201,
   "metadata": {},
   "outputs": [
    {
     "data": {
      "text/plain": [
       "[['\\n\\nvar player1 ', ' \"Bert Olson\"'],\n",
       " ['\\nvar player2 ', ' \"Woller\"'],\n",
       " ['\\nvar player3 ', ' \"Best Looking Guy in the WVC\"'],\n",
       " ['\\nvar player4 ', ' \"3SheepsToTheWind\"'],\n",
       " ['\\nvar player5 ', ' \"KingCrab\"']]"
      ]
     },
     "execution_count": 201,
     "metadata": {},
     "output_type": "execute_result"
    }
   ],
   "source": [
    "nameslist"
   ]
  },
  {
   "cell_type": "code",
   "execution_count": 238,
   "metadata": {},
   "outputs": [],
   "source": [
    "# row types\n",
    "cardrange = list(range(30))\n",
    "namesrange = list(range(36, 41))"
   ]
  },
  {
   "cell_type": "code",
   "execution_count": 239,
   "metadata": {},
   "outputs": [],
   "source": [
    "playnum = [rounds[i][3].replace('\"', '') for i in cardrange]"
   ]
  },
  {
   "cell_type": "code",
   "execution_count": 242,
   "metadata": {},
   "outputs": [],
   "source": [
    "nameslist = [row.split('=') for row in a[36:41]]"
   ]
  },
  {
   "cell_type": "code",
   "execution_count": 243,
   "metadata": {},
   "outputs": [],
   "source": [
    "names = [nameslist[row][1].strip().replace('\"', '') for row in range(5)]"
   ]
  },
  {
   "cell_type": "markdown",
   "metadata": {},
   "source": [
    "names"
   ]
  },
  {
   "cell_type": "code",
   "execution_count": null,
   "metadata": {},
   "outputs": [],
   "source": []
  }
 ],
 "metadata": {
  "kernelspec": {
   "name": "Python 3.7.6 64-bit ('base': conda)",
   "display_name": "Python 3.7.6 64-bit ('base': conda)",
   "metadata": {
    "interpreter": {
     "hash": "207152898ed618296f9de2b3f404e2dfc752ef6405f0578730932ead90b0e5ad"
    }
   }
  },
  "language_info": {
   "codemirror_mode": {
    "name": "ipython",
    "version": 3
   },
   "file_extension": ".py",
   "mimetype": "text/x-python",
   "name": "python",
   "nbconvert_exporter": "python",
   "pygments_lexer": "ipython3",
   "version": "3.7.6-final"
  }
 },
 "nbformat": 4,
 "nbformat_minor": 4
}