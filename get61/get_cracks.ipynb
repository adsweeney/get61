{
 "metadata": {
  "language_info": {
   "codemirror_mode": {
    "name": "ipython",
    "version": 3
   },
   "file_extension": ".py",
   "mimetype": "text/x-python",
   "name": "python",
   "nbconvert_exporter": "python",
   "pygments_lexer": "ipython3",
   "version": "3.8.3-final"
  },
  "orig_nbformat": 2,
  "kernelspec": {
   "name": "Python 3.8.3 64-bit ('metis': conda)",
   "display_name": "Python 3.8.3 64-bit ('metis': conda)",
   "metadata": {
    "interpreter": {
     "hash": "e94c15d6dbef08e95baaf638ff93666d2390f58e0c4317ae3b2bf35ecad0e12e"
    }
   }
  }
 },
 "nbformat": 4,
 "nbformat_minor": 2,
 "cells": [
  {
   "cell_type": "code",
   "execution_count": 94,
   "metadata": {},
   "outputs": [],
   "source": [
    "from bs4 import BeautifulSoup\n",
    "import requests\n",
    "import time, os\n",
    "import re\n",
    "import urllib\n",
    "import json\n",
    "import pandas as pd\n",
    "from datetime import datetime\n",
    "import numpy as np\n",
    "\n",
    "sites = {'daily': 'https://get61.com/leaderboard', 'lifetime': 'https://get61.com/leaderboard?lifetime=true&sortBy=lifetime_score', 'player_pages': 'https://get61.com/player_profile?player={}'}\n",
    "\n",
    "userlist = {'Ben Statz' : 'Casetta Bloody Mary', 'Ryan Kelly': 'RKD', 'Gena Rieger-Olson': 'The L in MSLGL',\n",
    "           'Duncan Sweeney': 'Duncan', 'Jacob Hanke': 'jacobhanke12', 'Edward Mckenna': 'Dr Brad Peck', 'Thomas Gering': 'KingCrab',\n",
    "           'Andrew Wells': '3SheepsToTheWind', 'Ticho': 'Andrew Ticho', 'Brett Falkowski': 'Falko',\n",
    "           'Sam Reinertson': 'Riding Lawnmauer', 'Nate Bartz': 'moonblatz', 'Bret Olson': 'Bert Olson',\n",
    "           'Dan Brunner': 'DPB', 'Srdjan Gajic': 'Provie', 'James Madsen': 'James Madsen', 'Nate Woller': 'Woller',\n",
    "           'Person1': 'The Merrill Advantage', 'Person2': 'Best Looking Guy in the WVC', 'Denman': 'Denman', 'j':'jbeam1', 'byd':'bigyellowdog'}\n"
   ]
  },
  {
   "cell_type": "code",
   "execution_count": 95,
   "metadata": {},
   "outputs": [],
   "source": [
    "def get_leaderboard(site, userlist):\n",
    "    page = requests.get(site).text\n",
    "    soup = BeautifulSoup(page, 'html5lib')\n",
    "    regser = re.compile('var names')\n",
    "    datajav = soup.find(text=regser)\n",
    "    \n",
    "    cats = datajav.split('\"')\n",
    "    \n",
    "    names = cats[1].split(',')\n",
    "    score = cats[3].split(',')\n",
    "    hands = cats[7].split(',')\n",
    "    pickpct = cats[11].split(',')\n",
    "    winpct = cats[13].split(',')\n",
    "    authcodes = cats[5].split(',')\n",
    "    \n",
    "    df = pd.DataFrame(list(zip(names, score, hands, pickpct, winpct, authcodes)),\n",
    "                 columns = ['usernames', 'score', 'hands', 'pickpct', 'winpct', 'authcodes'])\n",
    "    dflim = df[df.usernames.isin(userlist.values())]\n",
    "    now = datetime.now()\n",
    "    dflim['timestamp'] = now.strftime(\"%m/%d/%Y %H:%M:%S\")\n",
    "    dflim[['score', 'hands', 'pickpct', 'winpct']] = dflim[['score', 'hands', 'pickpct', 'winpct']].apply(pd.to_numeric)\n",
    "\n",
    "    authdic = dict(zip(dflim['usernames'], dflim['authcodes']))\n",
    "    return dflim, authdic"
   ]
  },
  {
   "cell_type": "code",
   "execution_count": 96,
   "metadata": {},
   "outputs": [],
   "source": [
    "scoredf, playercodes = get_leaderboard(sites['lifetime'], userlist)"
   ]
  },
  {
   "cell_type": "code",
   "execution_count": 97,
   "metadata": {},
   "outputs": [],
   "source": [
    "def crack_count(playercodes):\n",
    "    summtab = []\n",
    "    for player in playercodes:\n",
    "        print(player, playercodes[player])"
   ]
  },
  {
   "cell_type": "code",
   "execution_count": 98,
   "metadata": {
    "tags": []
   },
   "outputs": [
    {
     "output_type": "execute_result",
     "data": {
      "text/plain": "{&#39;Denman&#39;: &#39;auth0|5e8f8fddb3977d0c14d5c2d0&#39;,\n &#39;Dr Brad Peck&#39;: &#39;auth0|5e7ea20b9d8a180c84d8da8b&#39;,\n &#39;Andrew Ticho&#39;: &#39;facebook|10155870343388081&#39;,\n &#39;Bert Olson&#39;: &#39;google-oauth2|115939086903636903039&#39;,\n &#39;jbeam1&#39;: &#39;auth0|5e790278064cbe0c69a88bff&#39;,\n &#39;KingCrab&#39;: &#39;auth0|5e851cf06b269a0bdc0c9bfe&#39;,\n &#39;3SheepsToTheWind&#39;: &#39;google-oauth2|113638829670385164163&#39;,\n &#39;James Madsen&#39;: &#39;google-oauth2|105523472742556596579&#39;,\n &#39;moonblatz&#39;: &#39;auth0|5eaa3ec81cc1ac0c14750c63&#39;,\n &#39;Woller&#39;: &#39;google-oauth2|104264535792617779754&#39;,\n &#39;DPB&#39;: &#39;facebook|10209506157643232&#39;,\n &#39;The Merrill Advantage&#39;: &#39;google-oauth2|118227289723544997064&#39;,\n &#39;Riding Lawnmauer&#39;: &#39;google-oauth2|113453307184472959909&#39;,\n &#39;Best Looking Guy in the WVC&#39;: &#39;google-oauth2|100234991398844308335&#39;,\n &#39;jacobhanke12&#39;: &#39;auth0|5e8e5e72d8ae470c1c2c45e2&#39;,\n &#39;Falko&#39;: &#39;auth0|5c129b2079e19831457c4b77&#39;,\n &#39;Provie&#39;: &#39;auth0|5e7d59998847fe0c6539366c&#39;,\n &#39;bigyellowdog&#39;: &#39;auth0|5e98765757649e0c6ec393f9&#39;}"
     },
     "metadata": {},
     "execution_count": 98
    }
   ],
   "source": [
    "playercodes"
   ]
  },
  {
   "cell_type": "code",
   "execution_count": 99,
   "metadata": {
    "tags": []
   },
   "outputs": [
    {
     "output_type": "execute_result",
     "data": {
      "text/plain": "                           names  daily_cracks  won_daily_cracks\n0                         Denman             3                 2\n1                   Dr Brad Peck             0                 0\n2                   Andrew Ticho             0                 0\n3                     Bert Olson             0                 0\n4                         jbeam1             2                 4\n5                       KingCrab             0                 0\n6               3SheepsToTheWind             0                 0\n7                   James Madsen             0                 0\n8                      moonblatz             0                 0\n9                         Woller             0                 0\n10                           DPB             0                 0\n11         The Merrill Advantage             0                 0\n12              Riding Lawnmauer             0                 0\n13   Best Looking Guy in the WVC             0                 0\n14                  jacobhanke12             0                 0\n15                         Falko             0                 0\n16                        Provie             0                 0\n17                  bigyellowdog             1                 0",
      "text/html": "<div>\n<style scoped>\n    .dataframe tbody tr th:only-of-type {\n        vertical-align: middle;\n    }\n\n    .dataframe tbody tr th {\n        vertical-align: top;\n    }\n\n    .dataframe thead th {\n        text-align: right;\n    }\n</style>\n<table border=\"1\" class=\"dataframe\">\n  <thead>\n    <tr style=\"text-align: right;\">\n      <th></th>\n      <th>names</th>\n      <th>daily_cracks</th>\n      <th>won_daily_cracks</th>\n    </tr>\n  </thead>\n  <tbody>\n    <tr>\n      <th>0</th>\n      <td>Denman</td>\n      <td>3</td>\n      <td>2</td>\n    </tr>\n    <tr>\n      <th>1</th>\n      <td>Dr Brad Peck</td>\n      <td>0</td>\n      <td>0</td>\n    </tr>\n    <tr>\n      <th>2</th>\n      <td>Andrew Ticho</td>\n      <td>0</td>\n      <td>0</td>\n    </tr>\n    <tr>\n      <th>3</th>\n      <td>Bert Olson</td>\n      <td>0</td>\n      <td>0</td>\n    </tr>\n    <tr>\n      <th>4</th>\n      <td>jbeam1</td>\n      <td>2</td>\n      <td>4</td>\n    </tr>\n    <tr>\n      <th>5</th>\n      <td>KingCrab</td>\n      <td>0</td>\n      <td>0</td>\n    </tr>\n    <tr>\n      <th>6</th>\n      <td>3SheepsToTheWind</td>\n      <td>0</td>\n      <td>0</td>\n    </tr>\n    <tr>\n      <th>7</th>\n      <td>James Madsen</td>\n      <td>0</td>\n      <td>0</td>\n    </tr>\n    <tr>\n      <th>8</th>\n      <td>moonblatz</td>\n      <td>0</td>\n      <td>0</td>\n    </tr>\n    <tr>\n      <th>9</th>\n      <td>Woller</td>\n      <td>0</td>\n      <td>0</td>\n    </tr>\n    <tr>\n      <th>10</th>\n      <td>DPB</td>\n      <td>0</td>\n      <td>0</td>\n    </tr>\n    <tr>\n      <th>11</th>\n      <td>The Merrill Advantage</td>\n      <td>0</td>\n      <td>0</td>\n    </tr>\n    <tr>\n      <th>12</th>\n      <td>Riding Lawnmauer</td>\n      <td>0</td>\n      <td>0</td>\n    </tr>\n    <tr>\n      <th>13</th>\n      <td>Best Looking Guy in the WVC</td>\n      <td>0</td>\n      <td>0</td>\n    </tr>\n    <tr>\n      <th>14</th>\n      <td>jacobhanke12</td>\n      <td>0</td>\n      <td>0</td>\n    </tr>\n    <tr>\n      <th>15</th>\n      <td>Falko</td>\n      <td>0</td>\n      <td>0</td>\n    </tr>\n    <tr>\n      <th>16</th>\n      <td>Provie</td>\n      <td>0</td>\n      <td>0</td>\n    </tr>\n    <tr>\n      <th>17</th>\n      <td>bigyellowdog</td>\n      <td>1</td>\n      <td>0</td>\n    </tr>\n  </tbody>\n</table>\n</div>"
     },
     "metadata": {},
     "execution_count": 99
    }
   ],
   "source": [
    "users = []\n",
    "daily_cracks = []\n",
    "won_daily_cracks = []\n",
    "for player in playercodes.values():\n",
    "\n",
    "    response = requests.get(sites['player_pages'].format(player)).text\n",
    "    soup = BeautifulSoup(response, 'html5lib')\n",
    "\n",
    "    regser = re.compile('var numCracks')\n",
    "    rawsource = soup.find(text=regser)\n",
    "    rawlisted = rawsource.split(';')\n",
    "    rawstripped = [row.strip(\"'\\nvar\") for row in rawlisted]\n",
    "    # for row in rawlisted:\n",
    "    #     rawstripped.append(row.strip(\"'\\nvar\"))\n",
    "    stats = [line.split('=') for line in rawstripped]\n",
    "    users.append(stats[1][1].replace('\"',''))\n",
    "    daily_cracks.append(stats[44][1].replace('\"',''))\n",
    "    won_daily_cracks.append(stats[67][1].replace('\"',''))\n",
    "\n",
    "crack_df = pd.DataFrame(list(zip(users, daily_cracks, won_daily_cracks)),\n",
    "                        columns= ['names', 'daily_cracks', 'won_daily_cracks'])\n",
    "crack_df[['daily_cracks', 'won_daily_cracks']] = crack_df[['daily_cracks', 'won_daily_cracks']].apply(pd.to_numeric)\n",
    "\n",
    "\n",
    "\n",
    "    \n",
    "crack_df\n",
    "    \n"
   ]
  },
  {
   "cell_type": "code",
   "execution_count": 100,
   "metadata": {},
   "outputs": [],
   "source": [
    "crack_df['winpct'] = crack_df['won_daily_cracks'] / crack_df['daily_cracks']"
   ]
  },
  {
   "cell_type": "code",
   "execution_count": 101,
   "metadata": {},
   "outputs": [
    {
     "output_type": "execute_result",
     "data": {
      "text/plain": "                           names  daily_cracks  won_daily_cracks    winpct\n0                         Denman             3                 2  0.666667\n1                   Dr Brad Peck             0                 0       NaN\n2                   Andrew Ticho             0                 0       NaN\n3                     Bert Olson             0                 0       NaN\n4                         jbeam1             2                 4  2.000000\n5                       KingCrab             0                 0       NaN\n6               3SheepsToTheWind             0                 0       NaN\n7                   James Madsen             0                 0       NaN\n8                      moonblatz             0                 0       NaN\n9                         Woller             0                 0       NaN\n10                           DPB             0                 0       NaN\n11         The Merrill Advantage             0                 0       NaN\n12              Riding Lawnmauer             0                 0       NaN\n13   Best Looking Guy in the WVC             0                 0       NaN\n14                  jacobhanke12             0                 0       NaN\n15                         Falko             0                 0       NaN\n16                        Provie             0                 0       NaN\n17                  bigyellowdog             1                 0  0.000000",
      "text/html": "<div>\n<style scoped>\n    .dataframe tbody tr th:only-of-type {\n        vertical-align: middle;\n    }\n\n    .dataframe tbody tr th {\n        vertical-align: top;\n    }\n\n    .dataframe thead th {\n        text-align: right;\n    }\n</style>\n<table border=\"1\" class=\"dataframe\">\n  <thead>\n    <tr style=\"text-align: right;\">\n      <th></th>\n      <th>names</th>\n      <th>daily_cracks</th>\n      <th>won_daily_cracks</th>\n      <th>winpct</th>\n    </tr>\n  </thead>\n  <tbody>\n    <tr>\n      <th>0</th>\n      <td>Denman</td>\n      <td>3</td>\n      <td>2</td>\n      <td>0.666667</td>\n    </tr>\n    <tr>\n      <th>1</th>\n      <td>Dr Brad Peck</td>\n      <td>0</td>\n      <td>0</td>\n      <td>NaN</td>\n    </tr>\n    <tr>\n      <th>2</th>\n      <td>Andrew Ticho</td>\n      <td>0</td>\n      <td>0</td>\n      <td>NaN</td>\n    </tr>\n    <tr>\n      <th>3</th>\n      <td>Bert Olson</td>\n      <td>0</td>\n      <td>0</td>\n      <td>NaN</td>\n    </tr>\n    <tr>\n      <th>4</th>\n      <td>jbeam1</td>\n      <td>2</td>\n      <td>4</td>\n      <td>2.000000</td>\n    </tr>\n    <tr>\n      <th>5</th>\n      <td>KingCrab</td>\n      <td>0</td>\n      <td>0</td>\n      <td>NaN</td>\n    </tr>\n    <tr>\n      <th>6</th>\n      <td>3SheepsToTheWind</td>\n      <td>0</td>\n      <td>0</td>\n      <td>NaN</td>\n    </tr>\n    <tr>\n      <th>7</th>\n      <td>James Madsen</td>\n      <td>0</td>\n      <td>0</td>\n      <td>NaN</td>\n    </tr>\n    <tr>\n      <th>8</th>\n      <td>moonblatz</td>\n      <td>0</td>\n      <td>0</td>\n      <td>NaN</td>\n    </tr>\n    <tr>\n      <th>9</th>\n      <td>Woller</td>\n      <td>0</td>\n      <td>0</td>\n      <td>NaN</td>\n    </tr>\n    <tr>\n      <th>10</th>\n      <td>DPB</td>\n      <td>0</td>\n      <td>0</td>\n      <td>NaN</td>\n    </tr>\n    <tr>\n      <th>11</th>\n      <td>The Merrill Advantage</td>\n      <td>0</td>\n      <td>0</td>\n      <td>NaN</td>\n    </tr>\n    <tr>\n      <th>12</th>\n      <td>Riding Lawnmauer</td>\n      <td>0</td>\n      <td>0</td>\n      <td>NaN</td>\n    </tr>\n    <tr>\n      <th>13</th>\n      <td>Best Looking Guy in the WVC</td>\n      <td>0</td>\n      <td>0</td>\n      <td>NaN</td>\n    </tr>\n    <tr>\n      <th>14</th>\n      <td>jacobhanke12</td>\n      <td>0</td>\n      <td>0</td>\n      <td>NaN</td>\n    </tr>\n    <tr>\n      <th>15</th>\n      <td>Falko</td>\n      <td>0</td>\n      <td>0</td>\n      <td>NaN</td>\n    </tr>\n    <tr>\n      <th>16</th>\n      <td>Provie</td>\n      <td>0</td>\n      <td>0</td>\n      <td>NaN</td>\n    </tr>\n    <tr>\n      <th>17</th>\n      <td>bigyellowdog</td>\n      <td>1</td>\n      <td>0</td>\n      <td>0.000000</td>\n    </tr>\n  </tbody>\n</table>\n</div>"
     },
     "metadata": {},
     "execution_count": 101
    }
   ],
   "source": [
    "crack_df"
   ]
  },
  {
   "cell_type": "code",
   "execution_count": null,
   "metadata": {},
   "outputs": [],
   "source": []
  },
  {
   "cell_type": "code",
   "execution_count": null,
   "metadata": {},
   "outputs": [],
   "source": []
  },
  {
   "cell_type": "code",
   "execution_count": null,
   "metadata": {},
   "outputs": [],
   "source": []
  }
 ]
}