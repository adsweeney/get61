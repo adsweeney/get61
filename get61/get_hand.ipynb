{
 "cells": [
  {
   "cell_type": "code",
   "execution_count": 1,
   "metadata": {},
   "outputs": [],
   "source": [
    "# multipliers\n",
    "multipliers = dict(default = 1, no_schneider = 2, no_trick = 3, dob = 2, doubler = 2, blitz = 2, crack = 2, crack_back = 2, rb_crack = 4, base = 1, picker = 2)"
   ]
  },
  {
   "cell_type": "code",
   "execution_count": 2,
   "metadata": {},
   "outputs": [],
   "source": [
    "from bs4 import BeautifulSoup\n",
    "import requests\n",
    "# import time, os\n",
    "import re\n",
    "# import urllib\n",
    "# import json\n",
    "# from selenium import webdriver\n",
    "# from selenium.webdriver.common.keys import Keys\n",
    "import pandas as pd\n",
    "from datetime import datetime\n",
    "import numpy as np"
   ]
  },
  {
   "cell_type": "code",
   "execution_count": 399,
   "metadata": {},
   "outputs": [],
   "source": [
    "site = 'https://get61.com/hand_detail?handid=2268734'\n",
    "#site = 'https://get61.com/hand_detail?handid=2268003'\n",
    "#site = 'https://get61.com/hand_detail?handid=2581317'"
   ]
  },
  {
   "cell_type": "code",
   "execution_count": 400,
   "metadata": {},
   "outputs": [],
   "source": [
    "page = requests.get(site).text\n",
    "soup = BeautifulSoup(page, 'html5lib')"
   ]
  },
  {
   "cell_type": "code",
   "execution_count": 401,
   "metadata": {},
   "outputs": [],
   "source": [
    "cardre = re.compile('var play11')\n",
    "cards = soup.find(text=cardre)\n",
    "a = cards.split(';')\n",
    "a\n",
    "b = a[0].split(' ')"
   ]
  },
  {
   "cell_type": "code",
   "execution_count": 402,
   "metadata": {},
   "outputs": [
    {
     "output_type": "execute_result",
     "data": {
      "text/plain": [
       "['\\nvar', 'play12', '=', '\"14C\"']"
      ]
     },
     "metadata": {},
     "execution_count": 402
    }
   ],
   "source": [
    "rounds = [i.split(' ') for i in a]\n",
    "rounds[1]"
   ]
  },
  {
   "cell_type": "code",
   "execution_count": 403,
   "metadata": {},
   "outputs": [],
   "source": [
    "playnum = [rounds[i][1] for i in range(30)]"
   ]
  },
  {
   "cell_type": "code",
   "execution_count": 404,
   "metadata": {},
   "outputs": [],
   "source": [
    "plays = [rounds[i][3].replace('\"', '') for i in range(30)]"
   ]
  },
  {
   "cell_type": "code",
   "execution_count": 405,
   "metadata": {},
   "outputs": [
    {
     "output_type": "execute_result",
     "data": {
      "text/plain": [
       "['10H',\n",
       " '14C',\n",
       " '12H',\n",
       " '13C',\n",
       " '9S',\n",
       " '14H',\n",
       " '7H',\n",
       " '8H',\n",
       " '11C',\n",
       " '10S',\n",
       " '12C',\n",
       " '8S',\n",
       " '9H',\n",
       " '7C',\n",
       " '11D',\n",
       " '7D',\n",
       " '13D',\n",
       " '10D',\n",
       " '12D',\n",
       " '8C',\n",
       " '12S',\n",
       " '9C',\n",
       " '7S',\n",
       " '13S',\n",
       " '13H',\n",
       " '14D',\n",
       " '8D',\n",
       " '11S',\n",
       " '9D',\n",
       " '11H']"
      ]
     },
     "metadata": {},
     "execution_count": 405
    }
   ],
   "source": [
    "plays"
   ]
  },
  {
   "cell_type": "code",
   "execution_count": 406,
   "metadata": {},
   "outputs": [],
   "source": [
    "played = []\n",
    "for i in plays:\n",
    "    let = i.replace('11', 'J').replace('12', 'Q').replace('13', 'K').replace('14', 'A')\n",
    "    played.append(let)\n"
   ]
  },
  {
   "cell_type": "code",
   "execution_count": 407,
   "metadata": {},
   "outputs": [],
   "source": [
    "handa = plays[:6]\n",
    "handb = plays[6:12]\n",
    "handc = plays[12:18]\n",
    "handd = plays[18:24]\n",
    "hande = plays[24:32]"
   ]
  },
  {
   "cell_type": "code",
   "execution_count": 408,
   "metadata": {},
   "outputs": [
    {
     "output_type": "execute_result",
     "data": {
      "text/plain": [
       "['13H', '14D', '8D', '11S', '9D', '11H']"
      ]
     },
     "metadata": {},
     "execution_count": 408
    }
   ],
   "source": [
    "hande"
   ]
  },
  {
   "cell_type": "code",
   "execution_count": 409,
   "metadata": {},
   "outputs": [],
   "source": [
    "hearts = [str(i).replace('11', 'J').replace('12', 'Q').replace('13', 'K').replace('14', 'A') + 'H' for i in range(7,15)]\n",
    "clubs = [str(i).replace('11', 'J').replace('12', 'Q').replace('13', 'K').replace('14', 'A')  + 'D' for i in range(7,15)]\n",
    "spades = [str(i).replace('11', 'J').replace('12', 'Q').replace('13', 'K').replace('14', 'A')  + 'S' for i in range(7,15)]\n",
    "diamonds = [str(i).replace('11', 'J').replace('12', 'Q').replace('13', 'K').replace('14', 'A')  + 'D' for i in range(7,15)]"
   ]
  },
  {
   "cell_type": "code",
   "execution_count": 39,
   "metadata": {},
   "outputs": [],
   "source": []
  },
  {
   "cell_type": "code",
   "execution_count": 33,
   "metadata": {},
   "outputs": [],
   "source": []
  },
  {
   "cell_type": "code",
   "execution_count": 410,
   "metadata": {},
   "outputs": [],
   "source": [
    "allcards = hearts + clubs + spades + diamonds"
   ]
  },
  {
   "cell_type": "code",
   "execution_count": 411,
   "metadata": {},
   "outputs": [],
   "source": [
    "points = dict(zip(allcards, values))"
   ]
  },
  {
   "cell_type": "code",
   "execution_count": 412,
   "metadata": {},
   "outputs": [],
   "source": [
    "values = [0, 0, 0, 10, 2, 3, 4, 11, 0, 0, 0, 10, 2, 3, 4, 11, 0, 0, 0, 10, 2, 3, 4, 11, 0, 0, 0, 10, 2, 3, 4, 11]"
   ]
  },
  {
   "cell_type": "code",
   "execution_count": 413,
   "metadata": {},
   "outputs": [
    {
     "output_type": "execute_result",
     "data": {
      "text/plain": [
       "{'7H': 0,\n",
       " '8H': 0,\n",
       " '9H': 0,\n",
       " '10H': 10,\n",
       " 'JH': 2,\n",
       " 'QH': 3,\n",
       " 'KH': 4,\n",
       " 'AH': 11,\n",
       " '7D': 0,\n",
       " '8D': 0,\n",
       " '9D': 0,\n",
       " '10D': 10,\n",
       " 'JD': 2,\n",
       " 'QD': 3,\n",
       " 'KD': 4,\n",
       " 'AD': 11,\n",
       " '7S': 0,\n",
       " '8S': 0,\n",
       " '9S': 0,\n",
       " '10S': 10,\n",
       " 'JS': 2,\n",
       " 'QS': 3,\n",
       " 'KS': 4,\n",
       " 'AS': 11}"
      ]
     },
     "metadata": {},
     "execution_count": 413
    }
   ],
   "source": [
    "points\n"
   ]
  },
  {
   "cell_type": "code",
   "execution_count": 414,
   "metadata": {},
   "outputs": [
    {
     "output_type": "execute_result",
     "data": {
      "text/plain": [
       "[['\\n\\nvar', 'leader1', '=', '\"4\"'],\n",
       " ['\\nvar', 'leader2', '=', '\"3\"'],\n",
       " ['\\nvar', 'leader3', '=', '\"4\"'],\n",
       " ['\\nvar', 'leader4', '=', '\"3\"'],\n",
       " ['\\nvar', 'leader5', '=', '\"4\"'],\n",
       " ['\\nvar', 'leader6', '=', '\"1\"']]"
      ]
     },
     "metadata": {},
     "execution_count": 414
    }
   ],
   "source": [
    "rounds[30:36]"
   ]
  },
  {
   "cell_type": "code",
   "execution_count": null,
   "metadata": {},
   "outputs": [],
   "source": []
  },
  {
   "cell_type": "code",
   "execution_count": 415,
   "metadata": {},
   "outputs": [],
   "source": [
    "# multipliers\n",
    "multipliers = dict(default = 1, no_schneider = 2, no_trick = 3, dob = 2, doubler = 2, blitz = 2, crack = 2, crack_back = 2, rb_crack = 4, base = 1, picker = 2)"
   ]
  },
  {
   "cell_type": "code",
   "execution_count": 165,
   "metadata": {},
   "outputs": [
    {
     "data": {
      "text/plain": [
       "{'default': 1,\n",
       " 'no_schneider': 2,\n",
       " 'no_trick': 3,\n",
       " 'dob': 2,\n",
       " 'doubler': 2,\n",
       " 'blitz': 2,\n",
       " 'crack': 2,\n",
       " 'crack_back': 2,\n",
       " 'rb_crack': 4,\n",
       " 'base': 1,\n",
       " 'picker': 2}"
      ]
     },
     "execution_count": 165,
     "metadata": {},
     "output_type": "execute_result"
    }
   ],
   "source": []
  },
  {
   "cell_type": "code",
   "execution_count": 416,
   "metadata": {},
   "outputs": [],
   "source": [
    "leads = [int(rounds[i][3].replace('\"', '')) for i in range(30, 36)]"
   ]
  },
  {
   "cell_type": "code",
   "execution_count": 417,
   "metadata": {},
   "outputs": [],
   "source": [
    "names = [rounds[i][3].replace('\"', '') for i in range(36, 41)]"
   ]
  },
  {
   "cell_type": "code",
   "execution_count": 418,
   "metadata": {},
   "outputs": [],
   "source": [
    "scores = [int(rounds[i][3].replace('\"', '')) for i in range(41, 46)]"
   ]
  },
  {
   "cell_type": "code",
   "execution_count": 419,
   "metadata": {},
   "outputs": [
    {
     "output_type": "execute_result",
     "data": {
      "text/plain": [
       "[['\\n\\nvar', 'player1', '=', '\"Bert', 'Olson\"'],\n",
       " ['\\nvar', 'player2', '=', '\"Woller\"'],\n",
       " ['\\nvar', 'player3', '=', '\"Best', 'Looking', 'Guy', 'in', 'the', 'WVC\"'],\n",
       " ['\\nvar', 'player4', '=', '\"3SheepsToTheWind\"'],\n",
       " ['\\nvar', 'player5', '=', '\"KingCrab\"']]"
      ]
     },
     "metadata": {},
     "execution_count": 419
    }
   ],
   "source": [
    "rounds[36:41]"
   ]
  },
  {
   "cell_type": "code",
   "execution_count": 420,
   "metadata": {},
   "outputs": [],
   "source": [
    "nameslist = [row.split('=') for row in a[36:41]]"
   ]
  },
  {
   "cell_type": "code",
   "execution_count": 205,
   "metadata": {},
   "outputs": [
    {
     "data": {
      "text/plain": [
       "[['\\n\\nvar player1 ', ' \"Bert Olson\"'],\n",
       " ['\\nvar player2 ', ' \"Woller\"'],\n",
       " ['\\nvar player3 ', ' \"Best Looking Guy in the WVC\"'],\n",
       " ['\\nvar player4 ', ' \"3SheepsToTheWind\"'],\n",
       " ['\\nvar player5 ', ' \"KingCrab\"']]"
      ]
     },
     "execution_count": 205,
     "metadata": {},
     "output_type": "execute_result"
    }
   ],
   "source": []
  },
  {
   "cell_type": "code",
   "execution_count": 421,
   "metadata": {},
   "outputs": [],
   "source": [
    "names = [nameslist[row][1].strip().replace('\"', '') for row in range(5)]"
   ]
  },
  {
   "cell_type": "code",
   "execution_count": 422,
   "metadata": {},
   "outputs": [
    {
     "output_type": "execute_result",
     "data": {
      "text/plain": [
       "['Bert Olson',\n",
       " 'Woller',\n",
       " 'Best Looking Guy in the WVC',\n",
       " '3SheepsToTheWind',\n",
       " 'KingCrab']"
      ]
     },
     "metadata": {},
     "execution_count": 422
    }
   ],
   "source": [
    "names"
   ]
  },
  {
   "cell_type": "code",
   "execution_count": 423,
   "metadata": {},
   "outputs": [],
   "source": [
    "nameslist = [row.split('=') for row in a[36:41]]"
   ]
  },
  {
   "cell_type": "code",
   "execution_count": 424,
   "metadata": {},
   "outputs": [
    {
     "output_type": "execute_result",
     "data": {
      "text/plain": [
       "[['\\n\\nvar player1 ', ' \"Bert Olson\"'],\n",
       " ['\\nvar player2 ', ' \"Woller\"'],\n",
       " ['\\nvar player3 ', ' \"Best Looking Guy in the WVC\"'],\n",
       " ['\\nvar player4 ', ' \"3SheepsToTheWind\"'],\n",
       " ['\\nvar player5 ', ' \"KingCrab\"']]"
      ]
     },
     "metadata": {},
     "execution_count": 424
    }
   ],
   "source": [
    "nameslist"
   ]
  },
  {
   "cell_type": "code",
   "execution_count": 425,
   "metadata": {},
   "outputs": [],
   "source": [
    "# row types\n",
    "cardrange = list(range(30))\n",
    "namesrange = list(range(36, 41))"
   ]
  },
  {
   "cell_type": "code",
   "execution_count": 426,
   "metadata": {},
   "outputs": [],
   "source": [
    "playnum = [rounds[i][3].replace('\"', '') for i in cardrange]"
   ]
  },
  {
   "cell_type": "code",
   "execution_count": 427,
   "metadata": {},
   "outputs": [],
   "source": [
    "nameslist = [row.split('=') for row in a[36:41]]"
   ]
  },
  {
   "cell_type": "code",
   "execution_count": 428,
   "metadata": {},
   "outputs": [],
   "source": [
    "names = [nameslist[row][1].strip().replace('\"', '') for row in range(5)]"
   ]
  },
  {
   "cell_type": "code",
   "execution_count": 429,
   "metadata": {},
   "outputs": [
    {
     "output_type": "execute_result",
     "data": {
      "text/plain": [
       "['Bert Olson',\n",
       " 'Woller',\n",
       " 'Best Looking Guy in the WVC',\n",
       " '3SheepsToTheWind',\n",
       " 'KingCrab']"
      ]
     },
     "metadata": {},
     "execution_count": 429
    }
   ],
   "source": [
    "names"
   ]
  },
  {
   "cell_type": "code",
   "execution_count": 430,
   "metadata": {},
   "outputs": [
    {
     "output_type": "execute_result",
     "data": {
      "text/plain": [
       "[4, 3, 4, 3, 4, 1]"
      ]
     },
     "metadata": {},
     "execution_count": 430
    }
   ],
   "source": [
    "leads"
   ]
  },
  {
   "cell_type": "code",
   "execution_count": 431,
   "metadata": {},
   "outputs": [
    {
     "output_type": "execute_result",
     "data": {
      "text/plain": [
       "[2, 2, -2, -4, 2]"
      ]
     },
     "metadata": {},
     "execution_count": 431
    }
   ],
   "source": [
    "scores"
   ]
  },
  {
   "cell_type": "code",
   "execution_count": 432,
   "metadata": {},
   "outputs": [],
   "source": [
    "player1 = [names[0]] + handa + [scores[0]]\n",
    "player2 = [names[1]] + handb + [scores[1]]\n",
    "player3 = [names[2]] + handc + [scores[2]]\n",
    "player4 = [names[3]] + handd + [scores[3]]\n",
    "player5 = [names[4]] + hande + [scores[4]]"
   ]
  },
  {
   "cell_type": "code",
   "execution_count": 433,
   "metadata": {},
   "outputs": [],
   "source": [
    "df = pd.DataFrame([player1, player2, player3, player4, player5], columns = ['name', 1, 2, 3, 4, 5, 6, 'score'])"
   ]
  },
  {
   "cell_type": "code",
   "execution_count": 434,
   "metadata": {},
   "outputs": [],
   "source": [
    "df['handid'] = 2268734"
   ]
  },
  {
   "cell_type": "code",
   "execution_count": 435,
   "metadata": {},
   "outputs": [
    {
     "output_type": "execute_result",
     "data": {
      "text/plain": [
       "                          name    1    2    3    4    5    6  score   handid\n",
       "0                   Bert Olson  10H  14C  12H  13C   9S  14H      2  2268734\n",
       "1                       Woller   7H   8H  11C  10S  12C   8S      2  2268734\n",
       "2  Best Looking Guy in the WVC   9H   7C  11D   7D  13D  10D     -2  2268734\n",
       "3             3SheepsToTheWind  12D   8C  12S   9C   7S  13S     -4  2268734\n",
       "4                     KingCrab  13H  14D   8D  11S   9D  11H      2  2268734"
      ],
      "text/html": "<div>\n<style scoped>\n    .dataframe tbody tr th:only-of-type {\n        vertical-align: middle;\n    }\n\n    .dataframe tbody tr th {\n        vertical-align: top;\n    }\n\n    .dataframe thead th {\n        text-align: right;\n    }\n</style>\n<table border=\"1\" class=\"dataframe\">\n  <thead>\n    <tr style=\"text-align: right;\">\n      <th></th>\n      <th>name</th>\n      <th>1</th>\n      <th>2</th>\n      <th>3</th>\n      <th>4</th>\n      <th>5</th>\n      <th>6</th>\n      <th>score</th>\n      <th>handid</th>\n    </tr>\n  </thead>\n  <tbody>\n    <tr>\n      <th>0</th>\n      <td>Bert Olson</td>\n      <td>10H</td>\n      <td>14C</td>\n      <td>12H</td>\n      <td>13C</td>\n      <td>9S</td>\n      <td>14H</td>\n      <td>2</td>\n      <td>2268734</td>\n    </tr>\n    <tr>\n      <th>1</th>\n      <td>Woller</td>\n      <td>7H</td>\n      <td>8H</td>\n      <td>11C</td>\n      <td>10S</td>\n      <td>12C</td>\n      <td>8S</td>\n      <td>2</td>\n      <td>2268734</td>\n    </tr>\n    <tr>\n      <th>2</th>\n      <td>Best Looking Guy in the WVC</td>\n      <td>9H</td>\n      <td>7C</td>\n      <td>11D</td>\n      <td>7D</td>\n      <td>13D</td>\n      <td>10D</td>\n      <td>-2</td>\n      <td>2268734</td>\n    </tr>\n    <tr>\n      <th>3</th>\n      <td>3SheepsToTheWind</td>\n      <td>12D</td>\n      <td>8C</td>\n      <td>12S</td>\n      <td>9C</td>\n      <td>7S</td>\n      <td>13S</td>\n      <td>-4</td>\n      <td>2268734</td>\n    </tr>\n    <tr>\n      <th>4</th>\n      <td>KingCrab</td>\n      <td>13H</td>\n      <td>14D</td>\n      <td>8D</td>\n      <td>11S</td>\n      <td>9D</td>\n      <td>11H</td>\n      <td>2</td>\n      <td>2268734</td>\n    </tr>\n  </tbody>\n</table>\n</div>"
     },
     "metadata": {},
     "execution_count": 435
    }
   ],
   "source": [
    "df"
   ]
  },
  {
   "cell_type": "code",
   "execution_count": 436,
   "metadata": {},
   "outputs": [],
   "source": [
    "r0 = plays[::6]\n",
    "r1 = plays[1::6]\n",
    "r2 = plays[2::6]\n",
    "r3 = plays[3::6]\n",
    "r4 = plays[4::6]\n",
    "r5 = plays[5::6]\n"
   ]
  },
  {
   "cell_type": "code",
   "execution_count": 437,
   "metadata": {},
   "outputs": [
    {
     "output_type": "execute_result",
     "data": {
      "text/plain": [
       "['14H', '8S', '10D', '13S', '11H']"
      ]
     },
     "metadata": {},
     "execution_count": 437
    }
   ],
   "source": [
    "plays[5::6]"
   ]
  },
  {
   "cell_type": "code",
   "execution_count": 438,
   "metadata": {},
   "outputs": [],
   "source": [
    "maxind = scores.index(max(scores, key=abs))"
   ]
  },
  {
   "cell_type": "code",
   "execution_count": 439,
   "metadata": {},
   "outputs": [
    {
     "output_type": "execute_result",
     "data": {
      "text/plain": [
       "3"
      ]
     },
     "metadata": {},
     "execution_count": 439
    }
   ],
   "source": [
    "maxind"
   ]
  },
  {
   "cell_type": "code",
   "execution_count": 440,
   "metadata": {},
   "outputs": [],
   "source": [
    "df['picker'] = df['score'].apply(lambda x: 'picker' if x == max(scores, key=abs) else 'partner' if np.sign(x) == np.sign(max(scores, key=abs)) else 'no')"
   ]
  },
  {
   "cell_type": "code",
   "execution_count": 441,
   "metadata": {},
   "outputs": [
    {
     "output_type": "execute_result",
     "data": {
      "text/plain": [
       "                          name    1    2    3    4    5    6  score   handid  \\\n",
       "0                   Bert Olson  10H  14C  12H  13C   9S  14H      2  2268734   \n",
       "1                       Woller   7H   8H  11C  10S  12C   8S      2  2268734   \n",
       "2  Best Looking Guy in the WVC   9H   7C  11D   7D  13D  10D     -2  2268734   \n",
       "3             3SheepsToTheWind  12D   8C  12S   9C   7S  13S     -4  2268734   \n",
       "4                     KingCrab  13H  14D   8D  11S   9D  11H      2  2268734   \n",
       "\n",
       "    picker  \n",
       "0       no  \n",
       "1       no  \n",
       "2  partner  \n",
       "3   picker  \n",
       "4       no  "
      ],
      "text/html": "<div>\n<style scoped>\n    .dataframe tbody tr th:only-of-type {\n        vertical-align: middle;\n    }\n\n    .dataframe tbody tr th {\n        vertical-align: top;\n    }\n\n    .dataframe thead th {\n        text-align: right;\n    }\n</style>\n<table border=\"1\" class=\"dataframe\">\n  <thead>\n    <tr style=\"text-align: right;\">\n      <th></th>\n      <th>name</th>\n      <th>1</th>\n      <th>2</th>\n      <th>3</th>\n      <th>4</th>\n      <th>5</th>\n      <th>6</th>\n      <th>score</th>\n      <th>handid</th>\n      <th>picker</th>\n    </tr>\n  </thead>\n  <tbody>\n    <tr>\n      <th>0</th>\n      <td>Bert Olson</td>\n      <td>10H</td>\n      <td>14C</td>\n      <td>12H</td>\n      <td>13C</td>\n      <td>9S</td>\n      <td>14H</td>\n      <td>2</td>\n      <td>2268734</td>\n      <td>no</td>\n    </tr>\n    <tr>\n      <th>1</th>\n      <td>Woller</td>\n      <td>7H</td>\n      <td>8H</td>\n      <td>11C</td>\n      <td>10S</td>\n      <td>12C</td>\n      <td>8S</td>\n      <td>2</td>\n      <td>2268734</td>\n      <td>no</td>\n    </tr>\n    <tr>\n      <th>2</th>\n      <td>Best Looking Guy in the WVC</td>\n      <td>9H</td>\n      <td>7C</td>\n      <td>11D</td>\n      <td>7D</td>\n      <td>13D</td>\n      <td>10D</td>\n      <td>-2</td>\n      <td>2268734</td>\n      <td>partner</td>\n    </tr>\n    <tr>\n      <th>3</th>\n      <td>3SheepsToTheWind</td>\n      <td>12D</td>\n      <td>8C</td>\n      <td>12S</td>\n      <td>9C</td>\n      <td>7S</td>\n      <td>13S</td>\n      <td>-4</td>\n      <td>2268734</td>\n      <td>picker</td>\n    </tr>\n    <tr>\n      <th>4</th>\n      <td>KingCrab</td>\n      <td>13H</td>\n      <td>14D</td>\n      <td>8D</td>\n      <td>11S</td>\n      <td>9D</td>\n      <td>11H</td>\n      <td>2</td>\n      <td>2268734</td>\n      <td>no</td>\n    </tr>\n  </tbody>\n</table>\n</div>"
     },
     "metadata": {},
     "execution_count": 441
    }
   ],
   "source": [
    "df"
   ]
  },
  {
   "cell_type": "code",
   "execution_count": 442,
   "metadata": {},
   "outputs": [],
   "source": [
    "df['alone'] = df['picker'].apply(lambda x: 'no' if 'partner' in df.values else 'yes')"
   ]
  },
  {
   "cell_type": "code",
   "execution_count": 443,
   "metadata": {},
   "outputs": [
    {
     "output_type": "execute_result",
     "data": {
      "text/plain": [
       "                          name    1    2    3    4    5    6  score   handid  \\\n",
       "0                   Bert Olson  10H  14C  12H  13C   9S  14H      2  2268734   \n",
       "1                       Woller   7H   8H  11C  10S  12C   8S      2  2268734   \n",
       "2  Best Looking Guy in the WVC   9H   7C  11D   7D  13D  10D     -2  2268734   \n",
       "3             3SheepsToTheWind  12D   8C  12S   9C   7S  13S     -4  2268734   \n",
       "4                     KingCrab  13H  14D   8D  11S   9D  11H      2  2268734   \n",
       "\n",
       "    picker alone  \n",
       "0       no    no  \n",
       "1       no    no  \n",
       "2  partner    no  \n",
       "3   picker    no  \n",
       "4       no    no  "
      ],
      "text/html": "<div>\n<style scoped>\n    .dataframe tbody tr th:only-of-type {\n        vertical-align: middle;\n    }\n\n    .dataframe tbody tr th {\n        vertical-align: top;\n    }\n\n    .dataframe thead th {\n        text-align: right;\n    }\n</style>\n<table border=\"1\" class=\"dataframe\">\n  <thead>\n    <tr style=\"text-align: right;\">\n      <th></th>\n      <th>name</th>\n      <th>1</th>\n      <th>2</th>\n      <th>3</th>\n      <th>4</th>\n      <th>5</th>\n      <th>6</th>\n      <th>score</th>\n      <th>handid</th>\n      <th>picker</th>\n      <th>alone</th>\n    </tr>\n  </thead>\n  <tbody>\n    <tr>\n      <th>0</th>\n      <td>Bert Olson</td>\n      <td>10H</td>\n      <td>14C</td>\n      <td>12H</td>\n      <td>13C</td>\n      <td>9S</td>\n      <td>14H</td>\n      <td>2</td>\n      <td>2268734</td>\n      <td>no</td>\n      <td>no</td>\n    </tr>\n    <tr>\n      <th>1</th>\n      <td>Woller</td>\n      <td>7H</td>\n      <td>8H</td>\n      <td>11C</td>\n      <td>10S</td>\n      <td>12C</td>\n      <td>8S</td>\n      <td>2</td>\n      <td>2268734</td>\n      <td>no</td>\n      <td>no</td>\n    </tr>\n    <tr>\n      <th>2</th>\n      <td>Best Looking Guy in the WVC</td>\n      <td>9H</td>\n      <td>7C</td>\n      <td>11D</td>\n      <td>7D</td>\n      <td>13D</td>\n      <td>10D</td>\n      <td>-2</td>\n      <td>2268734</td>\n      <td>partner</td>\n      <td>no</td>\n    </tr>\n    <tr>\n      <th>3</th>\n      <td>3SheepsToTheWind</td>\n      <td>12D</td>\n      <td>8C</td>\n      <td>12S</td>\n      <td>9C</td>\n      <td>7S</td>\n      <td>13S</td>\n      <td>-4</td>\n      <td>2268734</td>\n      <td>picker</td>\n      <td>no</td>\n    </tr>\n    <tr>\n      <th>4</th>\n      <td>KingCrab</td>\n      <td>13H</td>\n      <td>14D</td>\n      <td>8D</td>\n      <td>11S</td>\n      <td>9D</td>\n      <td>11H</td>\n      <td>2</td>\n      <td>2268734</td>\n      <td>no</td>\n      <td>no</td>\n    </tr>\n  </tbody>\n</table>\n</div>"
     },
     "metadata": {},
     "execution_count": 443
    }
   ],
   "source": [
    "df"
   ]
  },
  {
   "cell_type": "code",
   "execution_count": 444,
   "metadata": {},
   "outputs": [
    {
     "output_type": "stream",
     "name": "stdout",
     "text": [
      "4\n5\n6\n7\n8\n9\n10\n"
     ]
    }
   ],
   "source": [
    "for i in range(4,11):\n",
    "    print(i)"
   ]
  },
  {
   "cell_type": "code",
   "execution_count": 445,
   "metadata": {},
   "outputs": [
    {
     "output_type": "execute_result",
     "data": {
      "text/plain": [
       "[['var', 'play11', '=', '\"10H\"'],\n",
       " ['\\nvar', 'play12', '=', '\"14C\"'],\n",
       " ['\\nvar', 'play13', '=', '\"12H\"'],\n",
       " ['\\nvar', 'play14', '=', '\"13C\"'],\n",
       " ['\\nvar', 'play15', '=', '\"9S\"'],\n",
       " ['\\nvar', 'play16', '=', '\"14H\"'],\n",
       " ['\\nvar', 'play21', '=', '\"7H\"'],\n",
       " ['\\nvar', 'play22', '=', '\"8H\"'],\n",
       " ['\\nvar', 'play23', '=', '\"11C\"'],\n",
       " ['\\nvar', 'play24', '=', '\"10S\"'],\n",
       " ['\\nvar', 'play25', '=', '\"12C\"'],\n",
       " ['\\nvar', 'play26', '=', '\"8S\"'],\n",
       " ['\\nvar', 'play31', '=', '\"9H\"'],\n",
       " ['\\nvar', 'play32', '=', '\"7C\"'],\n",
       " ['\\nvar', 'play33', '=', '\"11D\"'],\n",
       " ['\\nvar', 'play34', '=', '\"7D\"'],\n",
       " ['\\nvar', 'play35', '=', '\"13D\"'],\n",
       " ['\\nvar', 'play36', '=', '\"10D\"'],\n",
       " ['\\nvar', 'play41', '=', '\"12D\"'],\n",
       " ['\\nvar', 'play42', '=', '\"8C\"'],\n",
       " ['\\nvar', 'play43', '=', '\"12S\"'],\n",
       " ['\\nvar', 'play44', '=', '\"9C\"'],\n",
       " ['\\nvar', 'play45', '=', '\"7S\"'],\n",
       " ['\\nvar', 'play46', '=', '\"13S\"'],\n",
       " ['\\nvar', 'play51', '=', '\"13H\"'],\n",
       " ['\\nvar', 'play52', '=', '\"14D\"'],\n",
       " ['\\nvar', 'play53', '=', '\"8D\"'],\n",
       " ['\\nvar', 'play54', '=', '\"11S\"'],\n",
       " ['\\nvar', 'play55', '=', '\"9D\"'],\n",
       " ['\\nvar', 'play56', '=', '\"11H\"'],\n",
       " ['\\n\\nvar', 'leader1', '=', '\"4\"'],\n",
       " ['\\nvar', 'leader2', '=', '\"3\"'],\n",
       " ['\\nvar', 'leader3', '=', '\"4\"'],\n",
       " ['\\nvar', 'leader4', '=', '\"3\"'],\n",
       " ['\\nvar', 'leader5', '=', '\"4\"'],\n",
       " ['\\nvar', 'leader6', '=', '\"1\"'],\n",
       " ['\\n\\nvar', 'player1', '=', '\"Bert', 'Olson\"'],\n",
       " ['\\nvar', 'player2', '=', '\"Woller\"'],\n",
       " ['\\nvar', 'player3', '=', '\"Best', 'Looking', 'Guy', 'in', 'the', 'WVC\"'],\n",
       " ['\\nvar', 'player4', '=', '\"3SheepsToTheWind\"'],\n",
       " ['\\nvar', 'player5', '=', '\"KingCrab\"'],\n",
       " ['\\n\\nvar', 'player1pts', '=', '\"2\"'],\n",
       " ['\\nvar', 'player2pts', '=', '\"2\"'],\n",
       " ['\\nvar', 'player3pts', '=', '\"-2\"'],\n",
       " ['\\nvar', 'player4pts', '=', '\"-4\"'],\n",
       " ['\\nvar', 'player5pts', '=', '\"2\"'],\n",
       " ['\\n\\nvar', 'bury1', '=', '\"10C\"'],\n",
       " ['\\nvar', 'bury2', '=', '\"14S\"'],\n",
       " ['\\n\\nvar', 'blind1', '=', '\"8C\"'],\n",
       " ['\\nvar', 'blind2', '=', '\"10C\"'],\n",
       " ['\\n\\nvar', 'iscallAce', '=', '\"\"'],\n",
       " ['\\nvar', 'isleaster', '=', '\"\"'],\n",
       " ['\\nvar', 'leasterwinner', '=', '\"\"'],\n",
       " ['\\n\\nvar', 'callace_partnersuit', '=', '\"\"'],\n",
       " ['\\n\\nvar', 'cards_dealt', '=', '\"\"'],\n",
       " ['\\n\\nvar', 'isHandComplete', '=', '\"1\"'],\n",
       " ['\\nvar', 'isPassedAround', '=', '\"0\"'],\n",
       " ['']]"
      ]
     },
     "metadata": {},
     "execution_count": 445
    }
   ],
   "source": [
    "rounds"
   ]
  },
  {
   "cell_type": "code",
   "execution_count": 446,
   "metadata": {},
   "outputs": [
    {
     "output_type": "execute_result",
     "data": {
      "text/plain": [
       "[['\\n\\nvar', 'leader1', '=', '\"4\"'],\n",
       " ['\\nvar', 'leader2', '=', '\"3\"'],\n",
       " ['\\nvar', 'leader3', '=', '\"4\"'],\n",
       " ['\\nvar', 'leader4', '=', '\"3\"'],\n",
       " ['\\nvar', 'leader5', '=', '\"4\"'],\n",
       " ['\\nvar', 'leader6', '=', '\"1\"']]"
      ]
     },
     "metadata": {},
     "execution_count": 446
    }
   ],
   "source": [
    "rounds[30:36]"
   ]
  },
  {
   "cell_type": "code",
   "execution_count": 480,
   "metadata": {},
   "outputs": [],
   "source": [
    "blind1, blind2 = rounds[48][-1].replace('\"',''), rounds[49][-1].replace('\"','')"
   ]
  },
  {
   "cell_type": "code",
   "execution_count": 483,
   "metadata": {},
   "outputs": [],
   "source": [
    "bury1, bury2 = rounds[46][-1].replace('\"',''), rounds[47][-1].replace('\"','')"
   ]
  },
  {
   "cell_type": "code",
   "execution_count": 493,
   "metadata": {},
   "outputs": [],
   "source": [
    "call_ace = rounds[50][-1].replace('\"','')"
   ]
  },
  {
   "source": [
    "ace_suit = rounds[53][-1].replace('\"','')"
   ],
   "cell_type": "code",
   "metadata": {},
   "execution_count": null,
   "outputs": []
  },
  {
   "cell_type": "code",
   "execution_count": 495,
   "metadata": {},
   "outputs": [],
   "source": [
    "is_leaster = rounds[51][-1].replace('\"','')"
   ]
  },
  {
   "cell_type": "code",
   "execution_count": 449,
   "metadata": {},
   "outputs": [],
   "source": [
    "df['position'] = [0, 1, 2, 3, 4]"
   ]
  },
  {
   "cell_type": "code",
   "execution_count": 450,
   "metadata": {},
   "outputs": [
    {
     "output_type": "execute_result",
     "data": {
      "text/plain": [
       "                          name    1    2    3    4    5    6  score   handid  \\\n",
       "0                   Bert Olson  10H  14C  12H  13C   9S  14H      2  2268734   \n",
       "1                       Woller   7H   8H  11C  10S  12C   8S      2  2268734   \n",
       "2  Best Looking Guy in the WVC   9H   7C  11D   7D  13D  10D     -2  2268734   \n",
       "3             3SheepsToTheWind  12D   8C  12S   9C   7S  13S     -4  2268734   \n",
       "4                     KingCrab  13H  14D   8D  11S   9D  11H      2  2268734   \n",
       "\n",
       "    picker alone  position  \n",
       "0       no    no         0  \n",
       "1       no    no         1  \n",
       "2  partner    no         2  \n",
       "3   picker    no         3  \n",
       "4       no    no         4  "
      ],
      "text/html": "<div>\n<style scoped>\n    .dataframe tbody tr th:only-of-type {\n        vertical-align: middle;\n    }\n\n    .dataframe tbody tr th {\n        vertical-align: top;\n    }\n\n    .dataframe thead th {\n        text-align: right;\n    }\n</style>\n<table border=\"1\" class=\"dataframe\">\n  <thead>\n    <tr style=\"text-align: right;\">\n      <th></th>\n      <th>name</th>\n      <th>1</th>\n      <th>2</th>\n      <th>3</th>\n      <th>4</th>\n      <th>5</th>\n      <th>6</th>\n      <th>score</th>\n      <th>handid</th>\n      <th>picker</th>\n      <th>alone</th>\n      <th>position</th>\n    </tr>\n  </thead>\n  <tbody>\n    <tr>\n      <th>0</th>\n      <td>Bert Olson</td>\n      <td>10H</td>\n      <td>14C</td>\n      <td>12H</td>\n      <td>13C</td>\n      <td>9S</td>\n      <td>14H</td>\n      <td>2</td>\n      <td>2268734</td>\n      <td>no</td>\n      <td>no</td>\n      <td>0</td>\n    </tr>\n    <tr>\n      <th>1</th>\n      <td>Woller</td>\n      <td>7H</td>\n      <td>8H</td>\n      <td>11C</td>\n      <td>10S</td>\n      <td>12C</td>\n      <td>8S</td>\n      <td>2</td>\n      <td>2268734</td>\n      <td>no</td>\n      <td>no</td>\n      <td>1</td>\n    </tr>\n    <tr>\n      <th>2</th>\n      <td>Best Looking Guy in the WVC</td>\n      <td>9H</td>\n      <td>7C</td>\n      <td>11D</td>\n      <td>7D</td>\n      <td>13D</td>\n      <td>10D</td>\n      <td>-2</td>\n      <td>2268734</td>\n      <td>partner</td>\n      <td>no</td>\n      <td>2</td>\n    </tr>\n    <tr>\n      <th>3</th>\n      <td>3SheepsToTheWind</td>\n      <td>12D</td>\n      <td>8C</td>\n      <td>12S</td>\n      <td>9C</td>\n      <td>7S</td>\n      <td>13S</td>\n      <td>-4</td>\n      <td>2268734</td>\n      <td>picker</td>\n      <td>no</td>\n      <td>3</td>\n    </tr>\n    <tr>\n      <th>4</th>\n      <td>KingCrab</td>\n      <td>13H</td>\n      <td>14D</td>\n      <td>8D</td>\n      <td>11S</td>\n      <td>9D</td>\n      <td>11H</td>\n      <td>2</td>\n      <td>2268734</td>\n      <td>no</td>\n      <td>no</td>\n      <td>4</td>\n    </tr>\n  </tbody>\n</table>\n</div>"
     },
     "metadata": {},
     "execution_count": 450
    }
   ],
   "source": [
    "df"
   ]
  },
  {
   "cell_type": "code",
   "execution_count": 451,
   "metadata": {},
   "outputs": [],
   "source": [
    "df['lead0'] = leads[0]"
   ]
  },
  {
   "cell_type": "code",
   "execution_count": 452,
   "metadata": {},
   "outputs": [
    {
     "output_type": "execute_result",
     "data": {
      "text/plain": [
       "                          name    1    2    3    4    5    6  score   handid  \\\n",
       "0                   Bert Olson  10H  14C  12H  13C   9S  14H      2  2268734   \n",
       "1                       Woller   7H   8H  11C  10S  12C   8S      2  2268734   \n",
       "2  Best Looking Guy in the WVC   9H   7C  11D   7D  13D  10D     -2  2268734   \n",
       "3             3SheepsToTheWind  12D   8C  12S   9C   7S  13S     -4  2268734   \n",
       "4                     KingCrab  13H  14D   8D  11S   9D  11H      2  2268734   \n",
       "\n",
       "    picker alone  position  lead0  \n",
       "0       no    no         0      4  \n",
       "1       no    no         1      4  \n",
       "2  partner    no         2      4  \n",
       "3   picker    no         3      4  \n",
       "4       no    no         4      4  "
      ],
      "text/html": "<div>\n<style scoped>\n    .dataframe tbody tr th:only-of-type {\n        vertical-align: middle;\n    }\n\n    .dataframe tbody tr th {\n        vertical-align: top;\n    }\n\n    .dataframe thead th {\n        text-align: right;\n    }\n</style>\n<table border=\"1\" class=\"dataframe\">\n  <thead>\n    <tr style=\"text-align: right;\">\n      <th></th>\n      <th>name</th>\n      <th>1</th>\n      <th>2</th>\n      <th>3</th>\n      <th>4</th>\n      <th>5</th>\n      <th>6</th>\n      <th>score</th>\n      <th>handid</th>\n      <th>picker</th>\n      <th>alone</th>\n      <th>position</th>\n      <th>lead0</th>\n    </tr>\n  </thead>\n  <tbody>\n    <tr>\n      <th>0</th>\n      <td>Bert Olson</td>\n      <td>10H</td>\n      <td>14C</td>\n      <td>12H</td>\n      <td>13C</td>\n      <td>9S</td>\n      <td>14H</td>\n      <td>2</td>\n      <td>2268734</td>\n      <td>no</td>\n      <td>no</td>\n      <td>0</td>\n      <td>4</td>\n    </tr>\n    <tr>\n      <th>1</th>\n      <td>Woller</td>\n      <td>7H</td>\n      <td>8H</td>\n      <td>11C</td>\n      <td>10S</td>\n      <td>12C</td>\n      <td>8S</td>\n      <td>2</td>\n      <td>2268734</td>\n      <td>no</td>\n      <td>no</td>\n      <td>1</td>\n      <td>4</td>\n    </tr>\n    <tr>\n      <th>2</th>\n      <td>Best Looking Guy in the WVC</td>\n      <td>9H</td>\n      <td>7C</td>\n      <td>11D</td>\n      <td>7D</td>\n      <td>13D</td>\n      <td>10D</td>\n      <td>-2</td>\n      <td>2268734</td>\n      <td>partner</td>\n      <td>no</td>\n      <td>2</td>\n      <td>4</td>\n    </tr>\n    <tr>\n      <th>3</th>\n      <td>3SheepsToTheWind</td>\n      <td>12D</td>\n      <td>8C</td>\n      <td>12S</td>\n      <td>9C</td>\n      <td>7S</td>\n      <td>13S</td>\n      <td>-4</td>\n      <td>2268734</td>\n      <td>picker</td>\n      <td>no</td>\n      <td>3</td>\n      <td>4</td>\n    </tr>\n    <tr>\n      <th>4</th>\n      <td>KingCrab</td>\n      <td>13H</td>\n      <td>14D</td>\n      <td>8D</td>\n      <td>11S</td>\n      <td>9D</td>\n      <td>11H</td>\n      <td>2</td>\n      <td>2268734</td>\n      <td>no</td>\n      <td>no</td>\n      <td>4</td>\n      <td>4</td>\n    </tr>\n  </tbody>\n</table>\n</div>"
     },
     "metadata": {},
     "execution_count": 452
    }
   ],
   "source": [
    "df"
   ]
  },
  {
   "cell_type": "code",
   "execution_count": 453,
   "metadata": {},
   "outputs": [],
   "source": [
    "df['lead1'] = leads[1]\n",
    "df['lead2'] = leads[2]\n",
    "df['lead3'] = leads[3]\n",
    "df['lead4'] = leads[4]\n",
    "df['lead5'] = leads[5]"
   ]
  },
  {
   "cell_type": "code",
   "execution_count": 454,
   "metadata": {},
   "outputs": [],
   "source": [
    "dfsc = df.copy()"
   ]
  },
  {
   "cell_type": "code",
   "execution_count": 455,
   "metadata": {},
   "outputs": [],
   "source": [
    "dfsc['pick_position'] = df.apply(lambda x: 0 if x['position'] == x['lead0'] else x['position'] + (5 % x['lead0']) if x['position'] < x['lead0'] else x['position'] - x['lead0'], axis=1)"
   ]
  },
  {
   "cell_type": "code",
   "execution_count": 456,
   "metadata": {},
   "outputs": [
    {
     "output_type": "execute_result",
     "data": {
      "text/plain": [
       "                          name    1    2    3    4    5    6  score   handid  \\\n",
       "0                   Bert Olson  10H  14C  12H  13C   9S  14H      2  2268734   \n",
       "1                       Woller   7H   8H  11C  10S  12C   8S      2  2268734   \n",
       "2  Best Looking Guy in the WVC   9H   7C  11D   7D  13D  10D     -2  2268734   \n",
       "3             3SheepsToTheWind  12D   8C  12S   9C   7S  13S     -4  2268734   \n",
       "4                     KingCrab  13H  14D   8D  11S   9D  11H      2  2268734   \n",
       "\n",
       "    picker alone  position  lead0  lead1  lead2  lead3  lead4  lead5  \\\n",
       "0       no    no         0      4      3      4      3      4      1   \n",
       "1       no    no         1      4      3      4      3      4      1   \n",
       "2  partner    no         2      4      3      4      3      4      1   \n",
       "3   picker    no         3      4      3      4      3      4      1   \n",
       "4       no    no         4      4      3      4      3      4      1   \n",
       "\n",
       "   pick_position  \n",
       "0              1  \n",
       "1              2  \n",
       "2              3  \n",
       "3              4  \n",
       "4              0  "
      ],
      "text/html": "<div>\n<style scoped>\n    .dataframe tbody tr th:only-of-type {\n        vertical-align: middle;\n    }\n\n    .dataframe tbody tr th {\n        vertical-align: top;\n    }\n\n    .dataframe thead th {\n        text-align: right;\n    }\n</style>\n<table border=\"1\" class=\"dataframe\">\n  <thead>\n    <tr style=\"text-align: right;\">\n      <th></th>\n      <th>name</th>\n      <th>1</th>\n      <th>2</th>\n      <th>3</th>\n      <th>4</th>\n      <th>5</th>\n      <th>6</th>\n      <th>score</th>\n      <th>handid</th>\n      <th>picker</th>\n      <th>alone</th>\n      <th>position</th>\n      <th>lead0</th>\n      <th>lead1</th>\n      <th>lead2</th>\n      <th>lead3</th>\n      <th>lead4</th>\n      <th>lead5</th>\n      <th>pick_position</th>\n    </tr>\n  </thead>\n  <tbody>\n    <tr>\n      <th>0</th>\n      <td>Bert Olson</td>\n      <td>10H</td>\n      <td>14C</td>\n      <td>12H</td>\n      <td>13C</td>\n      <td>9S</td>\n      <td>14H</td>\n      <td>2</td>\n      <td>2268734</td>\n      <td>no</td>\n      <td>no</td>\n      <td>0</td>\n      <td>4</td>\n      <td>3</td>\n      <td>4</td>\n      <td>3</td>\n      <td>4</td>\n      <td>1</td>\n      <td>1</td>\n    </tr>\n    <tr>\n      <th>1</th>\n      <td>Woller</td>\n      <td>7H</td>\n      <td>8H</td>\n      <td>11C</td>\n      <td>10S</td>\n      <td>12C</td>\n      <td>8S</td>\n      <td>2</td>\n      <td>2268734</td>\n      <td>no</td>\n      <td>no</td>\n      <td>1</td>\n      <td>4</td>\n      <td>3</td>\n      <td>4</td>\n      <td>3</td>\n      <td>4</td>\n      <td>1</td>\n      <td>2</td>\n    </tr>\n    <tr>\n      <th>2</th>\n      <td>Best Looking Guy in the WVC</td>\n      <td>9H</td>\n      <td>7C</td>\n      <td>11D</td>\n      <td>7D</td>\n      <td>13D</td>\n      <td>10D</td>\n      <td>-2</td>\n      <td>2268734</td>\n      <td>partner</td>\n      <td>no</td>\n      <td>2</td>\n      <td>4</td>\n      <td>3</td>\n      <td>4</td>\n      <td>3</td>\n      <td>4</td>\n      <td>1</td>\n      <td>3</td>\n    </tr>\n    <tr>\n      <th>3</th>\n      <td>3SheepsToTheWind</td>\n      <td>12D</td>\n      <td>8C</td>\n      <td>12S</td>\n      <td>9C</td>\n      <td>7S</td>\n      <td>13S</td>\n      <td>-4</td>\n      <td>2268734</td>\n      <td>picker</td>\n      <td>no</td>\n      <td>3</td>\n      <td>4</td>\n      <td>3</td>\n      <td>4</td>\n      <td>3</td>\n      <td>4</td>\n      <td>1</td>\n      <td>4</td>\n    </tr>\n    <tr>\n      <th>4</th>\n      <td>KingCrab</td>\n      <td>13H</td>\n      <td>14D</td>\n      <td>8D</td>\n      <td>11S</td>\n      <td>9D</td>\n      <td>11H</td>\n      <td>2</td>\n      <td>2268734</td>\n      <td>no</td>\n      <td>no</td>\n      <td>4</td>\n      <td>4</td>\n      <td>3</td>\n      <td>4</td>\n      <td>3</td>\n      <td>4</td>\n      <td>1</td>\n      <td>0</td>\n    </tr>\n  </tbody>\n</table>\n</div>"
     },
     "metadata": {},
     "execution_count": 456
    }
   ],
   "source": [
    "dfsc"
   ]
  },
  {
   "cell_type": "code",
   "execution_count": 457,
   "metadata": {},
   "outputs": [
    {
     "output_type": "execute_result",
     "data": {
      "text/plain": [
       "0"
      ]
     },
     "metadata": {},
     "execution_count": 457
    }
   ],
   "source": [
    "5 % 1"
   ]
  },
  {
   "cell_type": "code",
   "execution_count": 458,
   "metadata": {},
   "outputs": [
    {
     "output_type": "execute_result",
     "data": {
      "text/plain": [
       "4"
      ]
     },
     "metadata": {},
     "execution_count": 458
    }
   ],
   "source": [
    "4 // 1"
   ]
  },
  {
   "cell_type": "code",
   "execution_count": 466,
   "metadata": {},
   "outputs": [],
   "source": [
    "dfsc['rd0pos'] = df.apply(lambda x: 0 if x['position'] == x['lead0'] else 4 if x['lead0'] == 1 and x['position'] == 0 else x['position'] + (5 % x['lead0']) if x['position'] < x['lead0'] else x['position'] - x['lead0'], axis=1)"
   ]
  },
  {
   "cell_type": "code",
   "execution_count": 467,
   "metadata": {},
   "outputs": [],
   "source": [
    "dfsc['rd1pos'] = df.apply(lambda x: 0 if x['position'] == x['lead1'] else 4 if x['lead1'] == 1 and x['position'] == 0 else x['position'] + (5 % x['lead1']) if x['position'] < x['lead1'] else x['position'] - x['lead1'], axis=1)"
   ]
  },
  {
   "cell_type": "code",
   "execution_count": 468,
   "metadata": {},
   "outputs": [],
   "source": [
    "dfsc['rd2pos'] = df.apply(lambda x: 0 if x['position'] == x['lead2'] else 4 if x['lead2'] == 1 and x['position'] == 0 else x['position'] + (5 % x['lead2']) if x['position'] < x['lead2'] else x['position'] - x['lead2'], axis=1)"
   ]
  },
  {
   "cell_type": "code",
   "execution_count": 469,
   "metadata": {},
   "outputs": [],
   "source": [
    "dfsc['rd3pos'] = df.apply(lambda x: 0 if x['position'] == x['lead3'] else 4 if x['lead3'] == 1 and x['position'] == 0 else x['position'] + (5 % x['lead3']) if x['position'] < x['lead3'] else x['position'] - x['lead3'], axis=1)"
   ]
  },
  {
   "cell_type": "code",
   "execution_count": 470,
   "metadata": {},
   "outputs": [],
   "source": [
    "dfsc['rd4pos'] = df.apply(lambda x: 0 if x['position'] == x['lead4'] else 4 if x['lead4'] == 1 and x['position'] == 0 else x['position'] + (5 % x['lead4']) if x['position'] < x['lead4'] else x['position'] - x['lead4'], axis=1)"
   ]
  },
  {
   "cell_type": "code",
   "execution_count": 471,
   "metadata": {},
   "outputs": [],
   "source": [
    "dfsc['rd5pos'] = df.apply(lambda x: 0 if x['position'] == x['lead5'] else 4 if x['lead5'] == 1 and x['position'] == 0 else x['position'] + (5 % x['lead5']) if x['position'] < x['lead5'] else x['position'] - x['lead5'], axis=1)"
   ]
  },
  {
   "cell_type": "code",
   "execution_count": 472,
   "metadata": {},
   "outputs": [
    {
     "output_type": "execute_result",
     "data": {
      "text/plain": [
       "                          name    1    2    3    4    5    6  score   handid  \\\n",
       "0                   Bert Olson  10H  14C  12H  13C   9S  14H      2  2268734   \n",
       "1                       Woller   7H   8H  11C  10S  12C   8S      2  2268734   \n",
       "2  Best Looking Guy in the WVC   9H   7C  11D   7D  13D  10D     -2  2268734   \n",
       "3             3SheepsToTheWind  12D   8C  12S   9C   7S  13S     -4  2268734   \n",
       "4                     KingCrab  13H  14D   8D  11S   9D  11H      2  2268734   \n",
       "\n",
       "    picker  ... lead3  lead4  lead5  pick_position  rd0pos  rd1pos  rd2pos  \\\n",
       "0       no  ...     3      4      1              1       1       2       1   \n",
       "1       no  ...     3      4      1              2       2       3       2   \n",
       "2  partner  ...     3      4      1              3       3       4       3   \n",
       "3   picker  ...     3      4      1              4       4       0       4   \n",
       "4       no  ...     3      4      1              0       0       1       0   \n",
       "\n",
       "   rd3pos  rd4pos  rd5pos  \n",
       "0       2       1       4  \n",
       "1       3       2       0  \n",
       "2       4       3       1  \n",
       "3       0       4       2  \n",
       "4       1       0       3  \n",
       "\n",
       "[5 rows x 25 columns]"
      ],
      "text/html": "<div>\n<style scoped>\n    .dataframe tbody tr th:only-of-type {\n        vertical-align: middle;\n    }\n\n    .dataframe tbody tr th {\n        vertical-align: top;\n    }\n\n    .dataframe thead th {\n        text-align: right;\n    }\n</style>\n<table border=\"1\" class=\"dataframe\">\n  <thead>\n    <tr style=\"text-align: right;\">\n      <th></th>\n      <th>name</th>\n      <th>1</th>\n      <th>2</th>\n      <th>3</th>\n      <th>4</th>\n      <th>5</th>\n      <th>6</th>\n      <th>score</th>\n      <th>handid</th>\n      <th>picker</th>\n      <th>...</th>\n      <th>lead3</th>\n      <th>lead4</th>\n      <th>lead5</th>\n      <th>pick_position</th>\n      <th>rd0pos</th>\n      <th>rd1pos</th>\n      <th>rd2pos</th>\n      <th>rd3pos</th>\n      <th>rd4pos</th>\n      <th>rd5pos</th>\n    </tr>\n  </thead>\n  <tbody>\n    <tr>\n      <th>0</th>\n      <td>Bert Olson</td>\n      <td>10H</td>\n      <td>14C</td>\n      <td>12H</td>\n      <td>13C</td>\n      <td>9S</td>\n      <td>14H</td>\n      <td>2</td>\n      <td>2268734</td>\n      <td>no</td>\n      <td>...</td>\n      <td>3</td>\n      <td>4</td>\n      <td>1</td>\n      <td>1</td>\n      <td>1</td>\n      <td>2</td>\n      <td>1</td>\n      <td>2</td>\n      <td>1</td>\n      <td>4</td>\n    </tr>\n    <tr>\n      <th>1</th>\n      <td>Woller</td>\n      <td>7H</td>\n      <td>8H</td>\n      <td>11C</td>\n      <td>10S</td>\n      <td>12C</td>\n      <td>8S</td>\n      <td>2</td>\n      <td>2268734</td>\n      <td>no</td>\n      <td>...</td>\n      <td>3</td>\n      <td>4</td>\n      <td>1</td>\n      <td>2</td>\n      <td>2</td>\n      <td>3</td>\n      <td>2</td>\n      <td>3</td>\n      <td>2</td>\n      <td>0</td>\n    </tr>\n    <tr>\n      <th>2</th>\n      <td>Best Looking Guy in the WVC</td>\n      <td>9H</td>\n      <td>7C</td>\n      <td>11D</td>\n      <td>7D</td>\n      <td>13D</td>\n      <td>10D</td>\n      <td>-2</td>\n      <td>2268734</td>\n      <td>partner</td>\n      <td>...</td>\n      <td>3</td>\n      <td>4</td>\n      <td>1</td>\n      <td>3</td>\n      <td>3</td>\n      <td>4</td>\n      <td>3</td>\n      <td>4</td>\n      <td>3</td>\n      <td>1</td>\n    </tr>\n    <tr>\n      <th>3</th>\n      <td>3SheepsToTheWind</td>\n      <td>12D</td>\n      <td>8C</td>\n      <td>12S</td>\n      <td>9C</td>\n      <td>7S</td>\n      <td>13S</td>\n      <td>-4</td>\n      <td>2268734</td>\n      <td>picker</td>\n      <td>...</td>\n      <td>3</td>\n      <td>4</td>\n      <td>1</td>\n      <td>4</td>\n      <td>4</td>\n      <td>0</td>\n      <td>4</td>\n      <td>0</td>\n      <td>4</td>\n      <td>2</td>\n    </tr>\n    <tr>\n      <th>4</th>\n      <td>KingCrab</td>\n      <td>13H</td>\n      <td>14D</td>\n      <td>8D</td>\n      <td>11S</td>\n      <td>9D</td>\n      <td>11H</td>\n      <td>2</td>\n      <td>2268734</td>\n      <td>no</td>\n      <td>...</td>\n      <td>3</td>\n      <td>4</td>\n      <td>1</td>\n      <td>0</td>\n      <td>0</td>\n      <td>1</td>\n      <td>0</td>\n      <td>1</td>\n      <td>0</td>\n      <td>3</td>\n    </tr>\n  </tbody>\n</table>\n<p>5 rows × 25 columns</p>\n</div>"
     },
     "metadata": {},
     "execution_count": 472
    }
   ],
   "source": [
    "dfsc"
   ]
  },
  {
   "cell_type": "code",
   "execution_count": 496,
   "metadata": {},
   "outputs": [],
   "source": [
    "dfsc['blind_1'] = blind1\n",
    "dfsc['blind_2'] = blind2"
   ]
  },
  {
   "cell_type": "code",
   "execution_count": 497,
   "metadata": {},
   "outputs": [
    {
     "output_type": "execute_result",
     "data": {
      "text/plain": [
       "                          name    1    2    3    4    5    6  score   handid  \\\n",
       "0                   Bert Olson  10H  14C  12H  13C   9S  14H      2  2268734   \n",
       "1                       Woller   7H   8H  11C  10S  12C   8S      2  2268734   \n",
       "2  Best Looking Guy in the WVC   9H   7C  11D   7D  13D  10D     -2  2268734   \n",
       "3             3SheepsToTheWind  12D   8C  12S   9C   7S  13S     -4  2268734   \n",
       "4                     KingCrab  13H  14D   8D  11S   9D  11H      2  2268734   \n",
       "\n",
       "    picker  ... lead5  pick_position  rd0pos  rd1pos  rd2pos  rd3pos  rd4pos  \\\n",
       "0       no  ...     1              1       1       2       1       2       1   \n",
       "1       no  ...     1              2       2       3       2       3       2   \n",
       "2  partner  ...     1              3       3       4       3       4       3   \n",
       "3   picker  ...     1              4       4       0       4       0       4   \n",
       "4       no  ...     1              0       0       1       0       1       0   \n",
       "\n",
       "   rd5pos  blind_1  blind_2  \n",
       "0       4       8C      10C  \n",
       "1       0       8C      10C  \n",
       "2       1       8C      10C  \n",
       "3       2       8C      10C  \n",
       "4       3       8C      10C  \n",
       "\n",
       "[5 rows x 27 columns]"
      ],
      "text/html": "<div>\n<style scoped>\n    .dataframe tbody tr th:only-of-type {\n        vertical-align: middle;\n    }\n\n    .dataframe tbody tr th {\n        vertical-align: top;\n    }\n\n    .dataframe thead th {\n        text-align: right;\n    }\n</style>\n<table border=\"1\" class=\"dataframe\">\n  <thead>\n    <tr style=\"text-align: right;\">\n      <th></th>\n      <th>name</th>\n      <th>1</th>\n      <th>2</th>\n      <th>3</th>\n      <th>4</th>\n      <th>5</th>\n      <th>6</th>\n      <th>score</th>\n      <th>handid</th>\n      <th>picker</th>\n      <th>...</th>\n      <th>lead5</th>\n      <th>pick_position</th>\n      <th>rd0pos</th>\n      <th>rd1pos</th>\n      <th>rd2pos</th>\n      <th>rd3pos</th>\n      <th>rd4pos</th>\n      <th>rd5pos</th>\n      <th>blind_1</th>\n      <th>blind_2</th>\n    </tr>\n  </thead>\n  <tbody>\n    <tr>\n      <th>0</th>\n      <td>Bert Olson</td>\n      <td>10H</td>\n      <td>14C</td>\n      <td>12H</td>\n      <td>13C</td>\n      <td>9S</td>\n      <td>14H</td>\n      <td>2</td>\n      <td>2268734</td>\n      <td>no</td>\n      <td>...</td>\n      <td>1</td>\n      <td>1</td>\n      <td>1</td>\n      <td>2</td>\n      <td>1</td>\n      <td>2</td>\n      <td>1</td>\n      <td>4</td>\n      <td>8C</td>\n      <td>10C</td>\n    </tr>\n    <tr>\n      <th>1</th>\n      <td>Woller</td>\n      <td>7H</td>\n      <td>8H</td>\n      <td>11C</td>\n      <td>10S</td>\n      <td>12C</td>\n      <td>8S</td>\n      <td>2</td>\n      <td>2268734</td>\n      <td>no</td>\n      <td>...</td>\n      <td>1</td>\n      <td>2</td>\n      <td>2</td>\n      <td>3</td>\n      <td>2</td>\n      <td>3</td>\n      <td>2</td>\n      <td>0</td>\n      <td>8C</td>\n      <td>10C</td>\n    </tr>\n    <tr>\n      <th>2</th>\n      <td>Best Looking Guy in the WVC</td>\n      <td>9H</td>\n      <td>7C</td>\n      <td>11D</td>\n      <td>7D</td>\n      <td>13D</td>\n      <td>10D</td>\n      <td>-2</td>\n      <td>2268734</td>\n      <td>partner</td>\n      <td>...</td>\n      <td>1</td>\n      <td>3</td>\n      <td>3</td>\n      <td>4</td>\n      <td>3</td>\n      <td>4</td>\n      <td>3</td>\n      <td>1</td>\n      <td>8C</td>\n      <td>10C</td>\n    </tr>\n    <tr>\n      <th>3</th>\n      <td>3SheepsToTheWind</td>\n      <td>12D</td>\n      <td>8C</td>\n      <td>12S</td>\n      <td>9C</td>\n      <td>7S</td>\n      <td>13S</td>\n      <td>-4</td>\n      <td>2268734</td>\n      <td>picker</td>\n      <td>...</td>\n      <td>1</td>\n      <td>4</td>\n      <td>4</td>\n      <td>0</td>\n      <td>4</td>\n      <td>0</td>\n      <td>4</td>\n      <td>2</td>\n      <td>8C</td>\n      <td>10C</td>\n    </tr>\n    <tr>\n      <th>4</th>\n      <td>KingCrab</td>\n      <td>13H</td>\n      <td>14D</td>\n      <td>8D</td>\n      <td>11S</td>\n      <td>9D</td>\n      <td>11H</td>\n      <td>2</td>\n      <td>2268734</td>\n      <td>no</td>\n      <td>...</td>\n      <td>1</td>\n      <td>0</td>\n      <td>0</td>\n      <td>1</td>\n      <td>0</td>\n      <td>1</td>\n      <td>0</td>\n      <td>3</td>\n      <td>8C</td>\n      <td>10C</td>\n    </tr>\n  </tbody>\n</table>\n<p>5 rows × 27 columns</p>\n</div>"
     },
     "metadata": {},
     "execution_count": 497
    }
   ],
   "source": [
    "dfsc"
   ]
  },
  {
   "cell_type": "code",
   "execution_count": 498,
   "metadata": {},
   "outputs": [],
   "source": [
    "dfsc['bury1'] = bury1\n",
    "dfsc['bury2'] = bury2"
   ]
  },
  {
   "cell_type": "code",
   "execution_count": 499,
   "metadata": {},
   "outputs": [
    {
     "output_type": "execute_result",
     "data": {
      "text/plain": [
       "                          name    1    2    3    4    5    6  score   handid  \\\n",
       "0                   Bert Olson  10H  14C  12H  13C   9S  14H      2  2268734   \n",
       "1                       Woller   7H   8H  11C  10S  12C   8S      2  2268734   \n",
       "2  Best Looking Guy in the WVC   9H   7C  11D   7D  13D  10D     -2  2268734   \n",
       "3             3SheepsToTheWind  12D   8C  12S   9C   7S  13S     -4  2268734   \n",
       "4                     KingCrab  13H  14D   8D  11S   9D  11H      2  2268734   \n",
       "\n",
       "    picker  ... rd0pos  rd1pos  rd2pos  rd3pos  rd4pos  rd5pos  blind_1  \\\n",
       "0       no  ...      1       2       1       2       1       4       8C   \n",
       "1       no  ...      2       3       2       3       2       0       8C   \n",
       "2  partner  ...      3       4       3       4       3       1       8C   \n",
       "3   picker  ...      4       0       4       0       4       2       8C   \n",
       "4       no  ...      0       1       0       1       0       3       8C   \n",
       "\n",
       "   blind_2  bury1  bury2  \n",
       "0      10C    10C    14S  \n",
       "1      10C    10C    14S  \n",
       "2      10C    10C    14S  \n",
       "3      10C    10C    14S  \n",
       "4      10C    10C    14S  \n",
       "\n",
       "[5 rows x 29 columns]"
      ],
      "text/html": "<div>\n<style scoped>\n    .dataframe tbody tr th:only-of-type {\n        vertical-align: middle;\n    }\n\n    .dataframe tbody tr th {\n        vertical-align: top;\n    }\n\n    .dataframe thead th {\n        text-align: right;\n    }\n</style>\n<table border=\"1\" class=\"dataframe\">\n  <thead>\n    <tr style=\"text-align: right;\">\n      <th></th>\n      <th>name</th>\n      <th>1</th>\n      <th>2</th>\n      <th>3</th>\n      <th>4</th>\n      <th>5</th>\n      <th>6</th>\n      <th>score</th>\n      <th>handid</th>\n      <th>picker</th>\n      <th>...</th>\n      <th>rd0pos</th>\n      <th>rd1pos</th>\n      <th>rd2pos</th>\n      <th>rd3pos</th>\n      <th>rd4pos</th>\n      <th>rd5pos</th>\n      <th>blind_1</th>\n      <th>blind_2</th>\n      <th>bury1</th>\n      <th>bury2</th>\n    </tr>\n  </thead>\n  <tbody>\n    <tr>\n      <th>0</th>\n      <td>Bert Olson</td>\n      <td>10H</td>\n      <td>14C</td>\n      <td>12H</td>\n      <td>13C</td>\n      <td>9S</td>\n      <td>14H</td>\n      <td>2</td>\n      <td>2268734</td>\n      <td>no</td>\n      <td>...</td>\n      <td>1</td>\n      <td>2</td>\n      <td>1</td>\n      <td>2</td>\n      <td>1</td>\n      <td>4</td>\n      <td>8C</td>\n      <td>10C</td>\n      <td>10C</td>\n      <td>14S</td>\n    </tr>\n    <tr>\n      <th>1</th>\n      <td>Woller</td>\n      <td>7H</td>\n      <td>8H</td>\n      <td>11C</td>\n      <td>10S</td>\n      <td>12C</td>\n      <td>8S</td>\n      <td>2</td>\n      <td>2268734</td>\n      <td>no</td>\n      <td>...</td>\n      <td>2</td>\n      <td>3</td>\n      <td>2</td>\n      <td>3</td>\n      <td>2</td>\n      <td>0</td>\n      <td>8C</td>\n      <td>10C</td>\n      <td>10C</td>\n      <td>14S</td>\n    </tr>\n    <tr>\n      <th>2</th>\n      <td>Best Looking Guy in the WVC</td>\n      <td>9H</td>\n      <td>7C</td>\n      <td>11D</td>\n      <td>7D</td>\n      <td>13D</td>\n      <td>10D</td>\n      <td>-2</td>\n      <td>2268734</td>\n      <td>partner</td>\n      <td>...</td>\n      <td>3</td>\n      <td>4</td>\n      <td>3</td>\n      <td>4</td>\n      <td>3</td>\n      <td>1</td>\n      <td>8C</td>\n      <td>10C</td>\n      <td>10C</td>\n      <td>14S</td>\n    </tr>\n    <tr>\n      <th>3</th>\n      <td>3SheepsToTheWind</td>\n      <td>12D</td>\n      <td>8C</td>\n      <td>12S</td>\n      <td>9C</td>\n      <td>7S</td>\n      <td>13S</td>\n      <td>-4</td>\n      <td>2268734</td>\n      <td>picker</td>\n      <td>...</td>\n      <td>4</td>\n      <td>0</td>\n      <td>4</td>\n      <td>0</td>\n      <td>4</td>\n      <td>2</td>\n      <td>8C</td>\n      <td>10C</td>\n      <td>10C</td>\n      <td>14S</td>\n    </tr>\n    <tr>\n      <th>4</th>\n      <td>KingCrab</td>\n      <td>13H</td>\n      <td>14D</td>\n      <td>8D</td>\n      <td>11S</td>\n      <td>9D</td>\n      <td>11H</td>\n      <td>2</td>\n      <td>2268734</td>\n      <td>no</td>\n      <td>...</td>\n      <td>0</td>\n      <td>1</td>\n      <td>0</td>\n      <td>1</td>\n      <td>0</td>\n      <td>3</td>\n      <td>8C</td>\n      <td>10C</td>\n      <td>10C</td>\n      <td>14S</td>\n    </tr>\n  </tbody>\n</table>\n<p>5 rows × 29 columns</p>\n</div>"
     },
     "metadata": {},
     "execution_count": 499
    }
   ],
   "source": [
    "dfsc"
   ]
  },
  {
   "cell_type": "code",
   "execution_count": 502,
   "metadata": {},
   "outputs": [],
   "source": [
    "dfsc['call_ace'] = call_ace\n",
    "dfsc['ace_suit'] = ace_suit\n",
    "dfsc['leaster'] = is_leaster"
   ]
  },
  {
   "cell_type": "code",
   "execution_count": 503,
   "metadata": {},
   "outputs": [
    {
     "output_type": "execute_result",
     "data": {
      "text/plain": [
       "                          name    1    2    3    4    5    6  score   handid  \\\n",
       "0                   Bert Olson  10H  14C  12H  13C   9S  14H      2  2268734   \n",
       "1                       Woller   7H   8H  11C  10S  12C   8S      2  2268734   \n",
       "2  Best Looking Guy in the WVC   9H   7C  11D   7D  13D  10D     -2  2268734   \n",
       "3             3SheepsToTheWind  12D   8C  12S   9C   7S  13S     -4  2268734   \n",
       "4                     KingCrab  13H  14D   8D  11S   9D  11H      2  2268734   \n",
       "\n",
       "    picker  ... rd3pos  rd4pos  rd5pos  blind_1  blind_2  bury1  bury2  \\\n",
       "0       no  ...      2       1       4       8C      10C    10C    14S   \n",
       "1       no  ...      3       2       0       8C      10C    10C    14S   \n",
       "2  partner  ...      4       3       1       8C      10C    10C    14S   \n",
       "3   picker  ...      0       4       2       8C      10C    10C    14S   \n",
       "4       no  ...      1       0       3       8C      10C    10C    14S   \n",
       "\n",
       "   call_ace  ace_suit  leaster  \n",
       "0                               \n",
       "1                               \n",
       "2                               \n",
       "3                               \n",
       "4                               \n",
       "\n",
       "[5 rows x 32 columns]"
      ],
      "text/html": "<div>\n<style scoped>\n    .dataframe tbody tr th:only-of-type {\n        vertical-align: middle;\n    }\n\n    .dataframe tbody tr th {\n        vertical-align: top;\n    }\n\n    .dataframe thead th {\n        text-align: right;\n    }\n</style>\n<table border=\"1\" class=\"dataframe\">\n  <thead>\n    <tr style=\"text-align: right;\">\n      <th></th>\n      <th>name</th>\n      <th>1</th>\n      <th>2</th>\n      <th>3</th>\n      <th>4</th>\n      <th>5</th>\n      <th>6</th>\n      <th>score</th>\n      <th>handid</th>\n      <th>picker</th>\n      <th>...</th>\n      <th>rd3pos</th>\n      <th>rd4pos</th>\n      <th>rd5pos</th>\n      <th>blind_1</th>\n      <th>blind_2</th>\n      <th>bury1</th>\n      <th>bury2</th>\n      <th>call_ace</th>\n      <th>ace_suit</th>\n      <th>leaster</th>\n    </tr>\n  </thead>\n  <tbody>\n    <tr>\n      <th>0</th>\n      <td>Bert Olson</td>\n      <td>10H</td>\n      <td>14C</td>\n      <td>12H</td>\n      <td>13C</td>\n      <td>9S</td>\n      <td>14H</td>\n      <td>2</td>\n      <td>2268734</td>\n      <td>no</td>\n      <td>...</td>\n      <td>2</td>\n      <td>1</td>\n      <td>4</td>\n      <td>8C</td>\n      <td>10C</td>\n      <td>10C</td>\n      <td>14S</td>\n      <td></td>\n      <td></td>\n      <td></td>\n    </tr>\n    <tr>\n      <th>1</th>\n      <td>Woller</td>\n      <td>7H</td>\n      <td>8H</td>\n      <td>11C</td>\n      <td>10S</td>\n      <td>12C</td>\n      <td>8S</td>\n      <td>2</td>\n      <td>2268734</td>\n      <td>no</td>\n      <td>...</td>\n      <td>3</td>\n      <td>2</td>\n      <td>0</td>\n      <td>8C</td>\n      <td>10C</td>\n      <td>10C</td>\n      <td>14S</td>\n      <td></td>\n      <td></td>\n      <td></td>\n    </tr>\n    <tr>\n      <th>2</th>\n      <td>Best Looking Guy in the WVC</td>\n      <td>9H</td>\n      <td>7C</td>\n      <td>11D</td>\n      <td>7D</td>\n      <td>13D</td>\n      <td>10D</td>\n      <td>-2</td>\n      <td>2268734</td>\n      <td>partner</td>\n      <td>...</td>\n      <td>4</td>\n      <td>3</td>\n      <td>1</td>\n      <td>8C</td>\n      <td>10C</td>\n      <td>10C</td>\n      <td>14S</td>\n      <td></td>\n      <td></td>\n      <td></td>\n    </tr>\n    <tr>\n      <th>3</th>\n      <td>3SheepsToTheWind</td>\n      <td>12D</td>\n      <td>8C</td>\n      <td>12S</td>\n      <td>9C</td>\n      <td>7S</td>\n      <td>13S</td>\n      <td>-4</td>\n      <td>2268734</td>\n      <td>picker</td>\n      <td>...</td>\n      <td>0</td>\n      <td>4</td>\n      <td>2</td>\n      <td>8C</td>\n      <td>10C</td>\n      <td>10C</td>\n      <td>14S</td>\n      <td></td>\n      <td></td>\n      <td></td>\n    </tr>\n    <tr>\n      <th>4</th>\n      <td>KingCrab</td>\n      <td>13H</td>\n      <td>14D</td>\n      <td>8D</td>\n      <td>11S</td>\n      <td>9D</td>\n      <td>11H</td>\n      <td>2</td>\n      <td>2268734</td>\n      <td>no</td>\n      <td>...</td>\n      <td>1</td>\n      <td>0</td>\n      <td>3</td>\n      <td>8C</td>\n      <td>10C</td>\n      <td>10C</td>\n      <td>14S</td>\n      <td></td>\n      <td></td>\n      <td></td>\n    </tr>\n  </tbody>\n</table>\n<p>5 rows × 32 columns</p>\n</div>"
     },
     "metadata": {},
     "execution_count": 503
    }
   ],
   "source": [
    "dfsc"
   ]
  },
  {
   "cell_type": "code",
   "execution_count": null,
   "metadata": {},
   "outputs": [],
   "source": []
  }
 ],
 "metadata": {
  "kernelspec": {
   "name": "python3",
   "display_name": "Python 3.8.3 64-bit ('metis': conda)",
   "metadata": {
    "interpreter": {
     "hash": "e94c15d6dbef08e95baaf638ff93666d2390f58e0c4317ae3b2bf35ecad0e12e"
    }
   }
  },
  "language_info": {
   "codemirror_mode": {
    "name": "ipython",
    "version": 3
   },
   "file_extension": ".py",
   "mimetype": "text/x-python",
   "name": "python",
   "nbconvert_exporter": "python",
   "pygments_lexer": "ipython3",
   "version": "3.8.3-final"
  }
 },
 "nbformat": 4,
 "nbformat_minor": 4
}